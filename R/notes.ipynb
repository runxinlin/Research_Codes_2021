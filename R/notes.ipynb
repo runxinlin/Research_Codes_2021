{
 "cells": [
  {
   "cell_type": "markdown",
   "metadata": {},
   "source": [
    "(Muller & Ward, 2013) state that at the time of their study there were more than 350 companies on the JSE. However as of 30 April 2018, the All Share Index (ALSI) had 165 companies and covered 99% of the market capitalisation on the JSE (JSE, 2018). The companies outside the All Share Index are so small that they are to a large extent irrelevant and of little interest to bigger investors."
   ]
  },
  {
   "cell_type": "markdown",
   "metadata": {},
   "source": [
    "As a result of both of these considerations, it was decided that the sample size should be the top 160 shares on the JSE based on market capitalisation. This is very close to the number of companies in the JSE All Share Index (around 165)."
   ]
  },
  {
   "cell_type": "code",
   "execution_count": null,
   "metadata": {
    "vscode": {
     "languageId": "plaintext"
    }
   },
   "outputs": [],
   "source": []
  },
  {
   "cell_type": "code",
   "execution_count": null,
   "metadata": {
    "vscode": {
     "languageId": "plaintext"
    }
   },
   "outputs": [],
   "source": []
  }
 ],
 "metadata": {
  "language_info": {
   "name": "python"
  },
  "orig_nbformat": 4
 },
 "nbformat": 4,
 "nbformat_minor": 2
}
