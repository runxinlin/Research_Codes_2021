{
 "cells": [
  {
   "cell_type": "code",
   "execution_count": 157,
   "metadata": {},
   "outputs": [],
   "source": [
    "import pandas as pd\n",
    "import json\n",
    "from sklearn.linear_model import LinearRegression\n",
    "import numpy as np\n",
    "from scipy import stats\n",
    "from tqdm import tqdm\n",
    "import statsmodels.api as sm\n",
    "import matplotlib.pyplot as plt"
   ]
  },
  {
   "cell_type": "code",
   "execution_count": 158,
   "metadata": {},
   "outputs": [],
   "source": [
    "## Newey-West Adjustment For a Time-Series Data, e.g. Lambdas (factor returns)\n",
    "def NW_ttest(ret,h0):\n",
    "  T = len(ret)\n",
    "  lag = int(4*(T/100)**(2/9))\n",
    "  vv = np.var(ret)\n",
    "\n",
    "  for l in range(0,lag):\n",
    "      cc=np.cov(ret[0:(len(ret)-l)].T,ret[l:len(ret)].T)[0,1]\n",
    "      vv=vv+2*(1-(l+1)/lag)*cc\n",
    "      t=(np.mean(ret)-h0)/np.sqrt(vv)*np.sqrt(T)\n",
    "  \n",
    "  return t"
   ]
  },
  {
   "cell_type": "markdown",
   "metadata": {},
   "source": [
    "## CAPM_OLS (Time-Varying Betas)"
   ]
  },
  {
   "cell_type": "code",
   "execution_count": 159,
   "metadata": {},
   "outputs": [],
   "source": [
    "df_MR = pd.read_csv('df_MR.csv')"
   ]
  },
  {
   "cell_type": "code",
   "execution_count": 160,
   "metadata": {},
   "outputs": [],
   "source": [
    "df_MR.Dates = df_MR.Dates.apply(lambda x:x[:10])"
   ]
  },
  {
   "cell_type": "code",
   "execution_count": 161,
   "metadata": {},
   "outputs": [],
   "source": [
    "df_MR.set_index('Dates',inplace=True)"
   ]
  },
  {
   "cell_type": "code",
   "execution_count": 162,
   "metadata": {},
   "outputs": [],
   "source": [
    "df_RF = pd.read_csv('df_RF.csv',index_col=0)\n",
    "df_SR = pd.read_csv('df_SR.csv',index_col=0)\n",
    "df_SR.index = df_SR.index.to_series().apply(lambda x:x[:10])"
   ]
  },
  {
   "cell_type": "code",
   "execution_count": 163,
   "metadata": {},
   "outputs": [],
   "source": [
    "df_Ex_SR = df_SR-df_RF.values"
   ]
  },
  {
   "cell_type": "code",
   "execution_count": 164,
   "metadata": {},
   "outputs": [],
   "source": [
    "df_Ex_SR = df_Ex_SR.loc[df_MR.index,:]"
   ]
  },
  {
   "cell_type": "code",
   "execution_count": 165,
   "metadata": {},
   "outputs": [],
   "source": [
    "ols_model = LinearRegression()"
   ]
  },
  {
   "cell_type": "code",
   "execution_count": null,
   "metadata": {},
   "outputs": [],
   "source": [
    "n = 3"
   ]
  },
  {
   "cell_type": "code",
   "execution_count": 166,
   "metadata": {},
   "outputs": [],
   "source": [
    "holding = 21\n",
    "rollingW = holding * n *12\n",
    "lens = len(df_MR)\n",
    "periods = int((lens - rollingW) / holding) - 1"
   ]
  },
  {
   "cell_type": "code",
   "execution_count": 167,
   "metadata": {},
   "outputs": [
    {
     "name": "stderr",
     "output_type": "stream",
     "text": [
      "100%|██████████| 211/211 [01:45<00:00,  2.00it/s]\n"
     ]
    }
   ],
   "source": [
    "all_betas = []\n",
    "# i is time in periods\n",
    "for i in tqdm(range(periods)):\n",
    "\n",
    "    df_MR_tmp = df_MR.iloc[i*holding:i*holding+rollingW,:]\n",
    "    df_Ex_SR_tmp = df_Ex_SR.iloc[i*holding:i*holding+rollingW,:]\n",
    "    \n",
    "    betas = []\n",
    "    # j is cross-sectional stock name\n",
    "    for j in df_Ex_SR.columns:\n",
    "        df_index = df_Ex_SR_tmp.loc[:,j].dropna().index\n",
    "        \n",
    "        if len(df_index) != 0:\n",
    "            b = list(ols_model.fit(df_MR_tmp.loc[df_index,:].values, df_Ex_SR_tmp.loc[df_index,j].values).coef_)\n",
    "            b.append(j)\n",
    "            betas.append(b)\n",
    "    df_betas = pd.DataFrame(np.array(betas)).rename(columns={0:'MKT',1:'stock'}).set_index('stock')\n",
    "    \n",
    "    all_betas.append(df_betas)"
   ]
  },
  {
   "cell_type": "code",
   "execution_count": 168,
   "metadata": {
    "scrolled": false
   },
   "outputs": [
    {
     "data": {
      "text/html": [
       "<div>\n",
       "<style scoped>\n",
       "    .dataframe tbody tr th:only-of-type {\n",
       "        vertical-align: middle;\n",
       "    }\n",
       "\n",
       "    .dataframe tbody tr th {\n",
       "        vertical-align: top;\n",
       "    }\n",
       "\n",
       "    .dataframe thead th {\n",
       "        text-align: right;\n",
       "    }\n",
       "</style>\n",
       "<table border=\"1\" class=\"dataframe\">\n",
       "  <thead>\n",
       "    <tr style=\"text-align: right;\">\n",
       "      <th></th>\n",
       "      <th>MKT</th>\n",
       "    </tr>\n",
       "    <tr>\n",
       "      <th>stock</th>\n",
       "      <th></th>\n",
       "    </tr>\n",
       "  </thead>\n",
       "  <tbody>\n",
       "    <tr>\n",
       "      <th>ABC.SJ.Equity</th>\n",
       "      <td>0.06890337112683975</td>\n",
       "    </tr>\n",
       "    <tr>\n",
       "      <th>ABI.SJ.Equity</th>\n",
       "      <td>0.23352855971285957</td>\n",
       "    </tr>\n",
       "    <tr>\n",
       "      <th>ABR.SJ.Equity</th>\n",
       "      <td>-0.13818778126607012</td>\n",
       "    </tr>\n",
       "    <tr>\n",
       "      <th>ACL.SJ.Equity</th>\n",
       "      <td>0.957051285238076</td>\n",
       "    </tr>\n",
       "    <tr>\n",
       "      <th>ACP.SJ.Equity</th>\n",
       "      <td>-0.02694573125717277</td>\n",
       "    </tr>\n",
       "    <tr>\n",
       "      <th>...</th>\n",
       "      <td>...</td>\n",
       "    </tr>\n",
       "    <tr>\n",
       "      <th>WTC.SJ.Equity</th>\n",
       "      <td>0.360477310787068</td>\n",
       "    </tr>\n",
       "    <tr>\n",
       "      <th>YRK.SJ.Equity</th>\n",
       "      <td>-0.04329882197390028</td>\n",
       "    </tr>\n",
       "    <tr>\n",
       "      <th>ZPT.SJ.Equity</th>\n",
       "      <td>0.19615208275356721</td>\n",
       "    </tr>\n",
       "    <tr>\n",
       "      <th>ZRR.SJ.Equity</th>\n",
       "      <td>0.2535478802233808</td>\n",
       "    </tr>\n",
       "    <tr>\n",
       "      <th>ZSA.SJ.Equity</th>\n",
       "      <td>0.04260893235310459</td>\n",
       "    </tr>\n",
       "  </tbody>\n",
       "</table>\n",
       "<p>517 rows × 1 columns</p>\n",
       "</div>"
      ],
      "text/plain": [
       "                                MKT\n",
       "stock                              \n",
       "ABC.SJ.Equity   0.06890337112683975\n",
       "ABI.SJ.Equity   0.23352855971285957\n",
       "ABR.SJ.Equity  -0.13818778126607012\n",
       "ACL.SJ.Equity     0.957051285238076\n",
       "ACP.SJ.Equity  -0.02694573125717277\n",
       "...                             ...\n",
       "WTC.SJ.Equity     0.360477310787068\n",
       "YRK.SJ.Equity  -0.04329882197390028\n",
       "ZPT.SJ.Equity   0.19615208275356721\n",
       "ZRR.SJ.Equity    0.2535478802233808\n",
       "ZSA.SJ.Equity   0.04260893235310459\n",
       "\n",
       "[517 rows x 1 columns]"
      ]
     },
     "execution_count": 168,
     "metadata": {},
     "output_type": "execute_result"
    }
   ],
   "source": [
    "all_betas[0]"
   ]
  },
  {
   "cell_type": "code",
   "execution_count": 169,
   "metadata": {},
   "outputs": [
    {
     "name": "stderr",
     "output_type": "stream",
     "text": [
      "100%|██████████| 4431/4431 [00:08<00:00, 529.53it/s]\n"
     ]
    }
   ],
   "source": [
    "all_lambdas = []\n",
    "\n",
    "df_Ex_SR_tmp_T = df_Ex_SR.iloc[rollingW:rollingW+periods*holding,:].T\n",
    "\n",
    "lambdas = []\n",
    "index_times = list(df_Ex_SR_tmp_T.columns)\n",
    "\n",
    "for k in tqdm(df_Ex_SR_tmp_T.columns):\n",
    "    # k is cross-sectional stock name \n",
    "    i = int(index_times.index(k) / holding)\n",
    "    # i is time in periods\n",
    "    df_return = df_Ex_SR_tmp_T.loc[all_betas[i].index,k].dropna()\n",
    "    df_index = df_return.index\n",
    "    \n",
    "    if len(df_index) != 0:\n",
    "        ols = sm.OLS(df_return, sm.add_constant(all_betas[i].loc[df_index,:].astype(np.float64)))\n",
    "        res = ols.fit()\n",
    "        l = list(res.params)\n",
    "        \n",
    "        lambdas.append(l)\n",
    "        \n",
    "all_lambdas.append(pd.DataFrame(lambdas))"
   ]
  },
  {
   "cell_type": "code",
   "execution_count": 170,
   "metadata": {
    "scrolled": true
   },
   "outputs": [
    {
     "data": {
      "text/html": [
       "<div>\n",
       "<style scoped>\n",
       "    .dataframe tbody tr th:only-of-type {\n",
       "        vertical-align: middle;\n",
       "    }\n",
       "\n",
       "    .dataframe tbody tr th {\n",
       "        vertical-align: top;\n",
       "    }\n",
       "\n",
       "    .dataframe thead th {\n",
       "        text-align: right;\n",
       "    }\n",
       "</style>\n",
       "<table border=\"1\" class=\"dataframe\">\n",
       "  <thead>\n",
       "    <tr style=\"text-align: right;\">\n",
       "      <th></th>\n",
       "      <th>Intercept</th>\n",
       "      <th>MKT</th>\n",
       "    </tr>\n",
       "  </thead>\n",
       "  <tbody>\n",
       "    <tr>\n",
       "      <th>0</th>\n",
       "      <td>-0.000310</td>\n",
       "      <td>0.007612</td>\n",
       "    </tr>\n",
       "    <tr>\n",
       "      <th>1</th>\n",
       "      <td>0.000117</td>\n",
       "      <td>0.004575</td>\n",
       "    </tr>\n",
       "    <tr>\n",
       "      <th>2</th>\n",
       "      <td>0.000538</td>\n",
       "      <td>0.006294</td>\n",
       "    </tr>\n",
       "    <tr>\n",
       "      <th>3</th>\n",
       "      <td>-0.000497</td>\n",
       "      <td>0.008957</td>\n",
       "    </tr>\n",
       "    <tr>\n",
       "      <th>4</th>\n",
       "      <td>0.001682</td>\n",
       "      <td>-0.011479</td>\n",
       "    </tr>\n",
       "    <tr>\n",
       "      <th>...</th>\n",
       "      <td>...</td>\n",
       "      <td>...</td>\n",
       "    </tr>\n",
       "    <tr>\n",
       "      <th>4426</th>\n",
       "      <td>-0.000157</td>\n",
       "      <td>-0.001185</td>\n",
       "    </tr>\n",
       "    <tr>\n",
       "      <th>4427</th>\n",
       "      <td>0.000042</td>\n",
       "      <td>0.003854</td>\n",
       "    </tr>\n",
       "    <tr>\n",
       "      <th>4428</th>\n",
       "      <td>-0.000600</td>\n",
       "      <td>0.010929</td>\n",
       "    </tr>\n",
       "    <tr>\n",
       "      <th>4429</th>\n",
       "      <td>0.000744</td>\n",
       "      <td>0.003838</td>\n",
       "    </tr>\n",
       "    <tr>\n",
       "      <th>4430</th>\n",
       "      <td>-0.001243</td>\n",
       "      <td>-0.012287</td>\n",
       "    </tr>\n",
       "  </tbody>\n",
       "</table>\n",
       "<p>4431 rows × 2 columns</p>\n",
       "</div>"
      ],
      "text/plain": [
       "      Intercept       MKT\n",
       "0     -0.000310  0.007612\n",
       "1      0.000117  0.004575\n",
       "2      0.000538  0.006294\n",
       "3     -0.000497  0.008957\n",
       "4      0.001682 -0.011479\n",
       "...         ...       ...\n",
       "4426  -0.000157 -0.001185\n",
       "4427   0.000042  0.003854\n",
       "4428  -0.000600  0.010929\n",
       "4429   0.000744  0.003838\n",
       "4430  -0.001243 -0.012287\n",
       "\n",
       "[4431 rows x 2 columns]"
      ]
     },
     "execution_count": 170,
     "metadata": {},
     "output_type": "execute_result"
    }
   ],
   "source": [
    "all_lambdas[0].rename(columns={0:'Intercept',1:'MKT'})"
   ]
  },
  {
   "cell_type": "code",
   "execution_count": 171,
   "metadata": {},
   "outputs": [
    {
     "data": {
      "text/plain": [
       "0   -0.278127\n",
       "1    0.175176\n",
       "dtype: float64"
      ]
     },
     "execution_count": 171,
     "metadata": {},
     "output_type": "execute_result"
    }
   ],
   "source": [
    "np.mean(all_lambdas[0])*21*100"
   ]
  },
  {
   "cell_type": "code",
   "execution_count": 172,
   "metadata": {
    "scrolled": false
   },
   "outputs": [
    {
     "data": {
      "text/plain": [
       "Ttest_1sampResult(statistic=array([-6.84868671,  0.51443134]), pvalue=array([8.47511422e-12, 6.06976112e-01]))"
      ]
     },
     "execution_count": 172,
     "metadata": {},
     "output_type": "execute_result"
    }
   ],
   "source": [
    "stats.ttest_1samp(all_lambdas[0], 0.0)"
   ]
  },
  {
   "cell_type": "code",
   "execution_count": 173,
   "metadata": {
    "scrolled": false
   },
   "outputs": [
    {
     "data": {
      "text/plain": [
       "0   -3.784794\n",
       "1    0.303559\n",
       "dtype: float64"
      ]
     },
     "execution_count": 173,
     "metadata": {},
     "output_type": "execute_result"
    }
   ],
   "source": [
    "## New-West Adjustment for CAPM lambda\n",
    "all_lambdas[0].apply(lambda x: NW_ttest(ret = x, h0=0), axis = 0)"
   ]
  },
  {
   "cell_type": "markdown",
   "metadata": {},
   "source": [
    "### Adding Firm Characteristics"
   ]
  },
  {
   "cell_type": "code",
   "execution_count": 174,
   "metadata": {},
   "outputs": [],
   "source": [
    "df_ln_Size = pd.read_csv('df_ln_Size.csv')\n",
    "\n",
    "df_PE = pd.read_csv('df_std_PE.csv')\n",
    "\n",
    "df_ln_Size.Dates = df_ln_Size.Dates.apply(lambda x:x[:10])\n",
    "\n",
    "df_ln_Size.set_index('Dates',inplace=True)\n",
    "\n",
    "df_PE.Dates = df_PE.Dates.apply(lambda x:x[:10])\n",
    "\n",
    "df_PE.set_index('Dates',inplace=True)"
   ]
  },
  {
   "cell_type": "code",
   "execution_count": 175,
   "metadata": {},
   "outputs": [],
   "source": [
    "df_ln_Size = df_ln_Size.loc[df_Ex_SR.index,:]"
   ]
  },
  {
   "cell_type": "code",
   "execution_count": 176,
   "metadata": {},
   "outputs": [],
   "source": [
    "df_PE = df_PE.loc[df_Ex_SR.index,:]"
   ]
  },
  {
   "cell_type": "code",
   "execution_count": 177,
   "metadata": {},
   "outputs": [
    {
     "data": {
      "text/plain": [
       "True"
      ]
     },
     "execution_count": 177,
     "metadata": {},
     "output_type": "execute_result"
    }
   ],
   "source": [
    "len(df_ln_Size)==len(df_PE)==len(df_Ex_SR)"
   ]
  },
  {
   "cell_type": "code",
   "execution_count": 178,
   "metadata": {},
   "outputs": [],
   "source": [
    "# Stock returns are lagged for 21 days than firm characteristics \n",
    "Gap = 21"
   ]
  },
  {
   "cell_type": "code",
   "execution_count": 179,
   "metadata": {},
   "outputs": [
    {
     "data": {
      "text/plain": [
       "211"
      ]
     },
     "execution_count": 179,
     "metadata": {},
     "output_type": "execute_result"
    }
   ],
   "source": [
    "n = 3\n",
    "holding = 21\n",
    "rollingW = holding * n * 12\n",
    "lens = len(df_MR)\n",
    "periods = int((lens - rollingW) / holding) - 1\n",
    "periods"
   ]
  },
  {
   "cell_type": "code",
   "execution_count": 180,
   "metadata": {},
   "outputs": [
    {
     "name": "stderr",
     "output_type": "stream",
     "text": [
      "100%|██████████| 4410/4410 [00:22<00:00, 196.70it/s]\n"
     ]
    }
   ],
   "source": [
    "all_lambdas = []\n",
    "all_intercepts = []\n",
    "\n",
    "df_Ex_SR_tmp_T = df_Ex_SR.iloc[rollingW:rollingW+periods*holding,:].T\n",
    "df_ln_Size_tmp_T = df_ln_Size.iloc[rollingW:rollingW+periods*holding,:].T\n",
    "df_PE_tmp_T = df_PE.iloc[rollingW:rollingW+periods*holding,:].T\n",
    "\n",
    "lambdas = []\n",
    "intercepts = []\n",
    "index_times = list(df_Ex_SR_tmp_T.columns)\n",
    "\n",
    "\n",
    "for k in tqdm(df_Ex_SR_tmp_T.columns[:-Gap]):\n",
    "    # k is date t in len(df_Ex_SR_tmp) days\n",
    "    i = int(index_times.index(k) / holding)\n",
    "    # i is time T in 185 periods\n",
    "    # df_ln_Size_tmp_T.loc[:,k].replace(-np.inf,np.nan), the -inf in ln_Size data dataframe would interrupt the regression\n",
    "    df_index = (((all_betas[i].index).intersection(df_ln_Size_tmp_T.loc[:,k].replace(-np.inf,np.nan).dropna().index).\\\n",
    "                   intersection(df_PE_tmp_T.loc[:,k].dropna().index)).\\\n",
    "                    intersection(df_Ex_SR_tmp_T.loc[:,index_times[index_times.index(k)+Gap]].dropna().index))\n",
    "    \n",
    "    if len(df_index) != 0:\n",
    "        \n",
    "        l = list(ols_model.fit((pd.concat([all_betas[i].loc[df_index,:], \\\n",
    "                                           df_ln_Size_tmp_T.loc[df_index,k],\\\n",
    "                                           df_PE_tmp_T .loc[df_index,k]],axis = 1).values), \\\n",
    "                               (df_Ex_SR_tmp_T.loc[df_index,index_times[index_times.index(k)+Gap]].values)).coef_)\n",
    "        \n",
    "        h = ols_model.fit((pd.concat([all_betas[i].loc[df_index,:], \\\n",
    "                                      df_ln_Size_tmp_T.loc[df_index,k],\\\n",
    "                                      df_PE_tmp_T .loc[df_index,k]],axis = 1).values), \\\n",
    "                          (df_Ex_SR_tmp_T.loc[df_index,index_times[index_times.index(k)+Gap]].values)).intercept_\n",
    "        \n",
    "        lambdas.append(l)\n",
    "        intercepts.append(h)\n",
    "        \n",
    "all_lambdas.append(pd.DataFrame(lambdas))\n",
    "all_intercepts.append(pd.DataFrame(intercepts))"
   ]
  },
  {
   "cell_type": "code",
   "execution_count": 181,
   "metadata": {},
   "outputs": [
    {
     "data": {
      "text/html": [
       "<div>\n",
       "<style scoped>\n",
       "    .dataframe tbody tr th:only-of-type {\n",
       "        vertical-align: middle;\n",
       "    }\n",
       "\n",
       "    .dataframe tbody tr th {\n",
       "        vertical-align: top;\n",
       "    }\n",
       "\n",
       "    .dataframe thead th {\n",
       "        text-align: right;\n",
       "    }\n",
       "</style>\n",
       "<table border=\"1\" class=\"dataframe\">\n",
       "  <thead>\n",
       "    <tr style=\"text-align: right;\">\n",
       "      <th></th>\n",
       "      <th>0</th>\n",
       "    </tr>\n",
       "  </thead>\n",
       "  <tbody>\n",
       "    <tr>\n",
       "      <th>0</th>\n",
       "      <td>0.004273</td>\n",
       "    </tr>\n",
       "    <tr>\n",
       "      <th>1</th>\n",
       "      <td>-0.006672</td>\n",
       "    </tr>\n",
       "    <tr>\n",
       "      <th>2</th>\n",
       "      <td>0.008334</td>\n",
       "    </tr>\n",
       "    <tr>\n",
       "      <th>3</th>\n",
       "      <td>-0.000321</td>\n",
       "    </tr>\n",
       "    <tr>\n",
       "      <th>4</th>\n",
       "      <td>-0.001663</td>\n",
       "    </tr>\n",
       "    <tr>\n",
       "      <th>...</th>\n",
       "      <td>...</td>\n",
       "    </tr>\n",
       "    <tr>\n",
       "      <th>4405</th>\n",
       "      <td>-0.002820</td>\n",
       "    </tr>\n",
       "    <tr>\n",
       "      <th>4406</th>\n",
       "      <td>-0.002112</td>\n",
       "    </tr>\n",
       "    <tr>\n",
       "      <th>4407</th>\n",
       "      <td>-0.002297</td>\n",
       "    </tr>\n",
       "    <tr>\n",
       "      <th>4408</th>\n",
       "      <td>0.001522</td>\n",
       "    </tr>\n",
       "    <tr>\n",
       "      <th>4409</th>\n",
       "      <td>-0.001605</td>\n",
       "    </tr>\n",
       "  </tbody>\n",
       "</table>\n",
       "<p>4410 rows × 1 columns</p>\n",
       "</div>"
      ],
      "text/plain": [
       "             0\n",
       "0     0.004273\n",
       "1    -0.006672\n",
       "2     0.008334\n",
       "3    -0.000321\n",
       "4    -0.001663\n",
       "...        ...\n",
       "4405 -0.002820\n",
       "4406 -0.002112\n",
       "4407 -0.002297\n",
       "4408  0.001522\n",
       "4409 -0.001605\n",
       "\n",
       "[4410 rows x 1 columns]"
      ]
     },
     "execution_count": 181,
     "metadata": {},
     "output_type": "execute_result"
    }
   ],
   "source": [
    "all_intercepts[0]"
   ]
  },
  {
   "cell_type": "code",
   "execution_count": 182,
   "metadata": {
    "scrolled": true
   },
   "outputs": [
    {
     "data": {
      "text/html": [
       "<div>\n",
       "<style scoped>\n",
       "    .dataframe tbody tr th:only-of-type {\n",
       "        vertical-align: middle;\n",
       "    }\n",
       "\n",
       "    .dataframe tbody tr th {\n",
       "        vertical-align: top;\n",
       "    }\n",
       "\n",
       "    .dataframe thead th {\n",
       "        text-align: right;\n",
       "    }\n",
       "</style>\n",
       "<table border=\"1\" class=\"dataframe\">\n",
       "  <thead>\n",
       "    <tr style=\"text-align: right;\">\n",
       "      <th></th>\n",
       "      <th>MKT</th>\n",
       "      <th>Size</th>\n",
       "      <th>PE</th>\n",
       "    </tr>\n",
       "  </thead>\n",
       "  <tbody>\n",
       "    <tr>\n",
       "      <th>0</th>\n",
       "      <td>0.005195</td>\n",
       "      <td>-0.000667</td>\n",
       "      <td>0.002943</td>\n",
       "    </tr>\n",
       "    <tr>\n",
       "      <th>1</th>\n",
       "      <td>-0.016951</td>\n",
       "      <td>0.001362</td>\n",
       "      <td>-0.004454</td>\n",
       "    </tr>\n",
       "    <tr>\n",
       "      <th>2</th>\n",
       "      <td>0.005514</td>\n",
       "      <td>-0.001419</td>\n",
       "      <td>0.000185</td>\n",
       "    </tr>\n",
       "    <tr>\n",
       "      <th>3</th>\n",
       "      <td>0.000000</td>\n",
       "      <td>0.000000</td>\n",
       "      <td>0.000000</td>\n",
       "    </tr>\n",
       "    <tr>\n",
       "      <th>4</th>\n",
       "      <td>-0.004689</td>\n",
       "      <td>0.000391</td>\n",
       "      <td>-0.001356</td>\n",
       "    </tr>\n",
       "    <tr>\n",
       "      <th>...</th>\n",
       "      <td>...</td>\n",
       "      <td>...</td>\n",
       "      <td>...</td>\n",
       "    </tr>\n",
       "    <tr>\n",
       "      <th>4405</th>\n",
       "      <td>-0.003670</td>\n",
       "      <td>0.000556</td>\n",
       "      <td>0.000838</td>\n",
       "    </tr>\n",
       "    <tr>\n",
       "      <th>4406</th>\n",
       "      <td>0.004859</td>\n",
       "      <td>0.000192</td>\n",
       "      <td>-0.002729</td>\n",
       "    </tr>\n",
       "    <tr>\n",
       "      <th>4407</th>\n",
       "      <td>0.010092</td>\n",
       "      <td>0.000185</td>\n",
       "      <td>-0.000602</td>\n",
       "    </tr>\n",
       "    <tr>\n",
       "      <th>4408</th>\n",
       "      <td>0.006236</td>\n",
       "      <td>-0.000022</td>\n",
       "      <td>-0.001065</td>\n",
       "    </tr>\n",
       "    <tr>\n",
       "      <th>4409</th>\n",
       "      <td>-0.012390</td>\n",
       "      <td>0.000042</td>\n",
       "      <td>-0.002423</td>\n",
       "    </tr>\n",
       "  </tbody>\n",
       "</table>\n",
       "<p>4410 rows × 3 columns</p>\n",
       "</div>"
      ],
      "text/plain": [
       "           MKT      Size        PE\n",
       "0     0.005195 -0.000667  0.002943\n",
       "1    -0.016951  0.001362 -0.004454\n",
       "2     0.005514 -0.001419  0.000185\n",
       "3     0.000000  0.000000  0.000000\n",
       "4    -0.004689  0.000391 -0.001356\n",
       "...        ...       ...       ...\n",
       "4405 -0.003670  0.000556  0.000838\n",
       "4406  0.004859  0.000192 -0.002729\n",
       "4407  0.010092  0.000185 -0.000602\n",
       "4408  0.006236 -0.000022 -0.001065\n",
       "4409 -0.012390  0.000042 -0.002423\n",
       "\n",
       "[4410 rows x 3 columns]"
      ]
     },
     "execution_count": 182,
     "metadata": {},
     "output_type": "execute_result"
    }
   ],
   "source": [
    "all_lambdas[0].rename(columns={0:'MKT',1:'Size',2:'PE'})"
   ]
  },
  {
   "cell_type": "code",
   "execution_count": 183,
   "metadata": {
    "scrolled": false
   },
   "outputs": [
    {
     "data": {
      "text/plain": [
       "0   -0.792507\n",
       "dtype: float64"
      ]
     },
     "execution_count": 183,
     "metadata": {},
     "output_type": "execute_result"
    }
   ],
   "source": [
    "np.mean(all_intercepts[0])*21*100"
   ]
  },
  {
   "cell_type": "code",
   "execution_count": 184,
   "metadata": {
    "scrolled": true
   },
   "outputs": [
    {
     "data": {
      "text/plain": [
       "0   -0.401659\n",
       "1    0.098494\n",
       "2   -0.498192\n",
       "dtype: float64"
      ]
     },
     "execution_count": 184,
     "metadata": {},
     "output_type": "execute_result"
    }
   ],
   "source": [
    "np.mean(all_lambdas[0])*21*100"
   ]
  },
  {
   "cell_type": "code",
   "execution_count": 185,
   "metadata": {
    "scrolled": true
   },
   "outputs": [
    {
     "data": {
      "text/plain": [
       "Ttest_1sampResult(statistic=array([-5.87125602]), pvalue=array([4.6427333e-09]))"
      ]
     },
     "execution_count": 185,
     "metadata": {},
     "output_type": "execute_result"
    }
   ],
   "source": [
    "stats.ttest_1samp(all_intercepts[0], 0.0)"
   ]
  },
  {
   "cell_type": "code",
   "execution_count": 186,
   "metadata": {
    "scrolled": true
   },
   "outputs": [
    {
     "data": {
      "text/plain": [
       "Ttest_1sampResult(statistic=array([-1.05181009,  4.02944598, -8.45645117]), pvalue=array([2.92944331e-01, 5.68506357e-05, 3.70166343e-17]))"
      ]
     },
     "execution_count": 186,
     "metadata": {},
     "output_type": "execute_result"
    }
   ],
   "source": [
    "stats.ttest_1samp(all_lambdas[0], 0.0)"
   ]
  },
  {
   "cell_type": "code",
   "execution_count": 187,
   "metadata": {},
   "outputs": [
    {
     "data": {
      "text/plain": [
       "array([-3.71056021])"
      ]
     },
     "execution_count": 187,
     "metadata": {},
     "output_type": "execute_result"
    }
   ],
   "source": [
    "## Newey-West Adjustment \n",
    "all_intercepts[0].apply(lambda x: NW_ttest(ret = x, h0=0), axis=0).values"
   ]
  },
  {
   "cell_type": "code",
   "execution_count": 188,
   "metadata": {},
   "outputs": [
    {
     "data": {
      "text/plain": [
       "array([-0.63526881,  2.51466733, -5.32471764])"
      ]
     },
     "execution_count": 188,
     "metadata": {},
     "output_type": "execute_result"
    }
   ],
   "source": [
    "## Newey-West Adjustment \n",
    "all_lambdas[0].apply(lambda x: NW_ttest(ret = x, h0=0), axis=0).values"
   ]
  },
  {
   "cell_type": "markdown",
   "metadata": {},
   "source": [
    "## FF3-Factor_OLS (Time-Varying Betas)"
   ]
  },
  {
   "cell_type": "code",
   "execution_count": 189,
   "metadata": {},
   "outputs": [],
   "source": [
    "ols_model = LinearRegression()"
   ]
  },
  {
   "cell_type": "code",
   "execution_count": 190,
   "metadata": {},
   "outputs": [],
   "source": [
    "df_FF3 = pd.read_csv('df_FF3.csv')"
   ]
  },
  {
   "cell_type": "code",
   "execution_count": 191,
   "metadata": {},
   "outputs": [],
   "source": [
    "df_FF3.Dates = df_FF3.Dates.apply(lambda x: x[:10])"
   ]
  },
  {
   "cell_type": "code",
   "execution_count": 192,
   "metadata": {},
   "outputs": [],
   "source": [
    "df_FF3.set_index('Dates',inplace=True)"
   ]
  },
  {
   "cell_type": "code",
   "execution_count": 193,
   "metadata": {},
   "outputs": [
    {
     "data": {
      "text/html": [
       "<div>\n",
       "<style scoped>\n",
       "    .dataframe tbody tr th:only-of-type {\n",
       "        vertical-align: middle;\n",
       "    }\n",
       "\n",
       "    .dataframe tbody tr th {\n",
       "        vertical-align: top;\n",
       "    }\n",
       "\n",
       "    .dataframe thead th {\n",
       "        text-align: right;\n",
       "    }\n",
       "</style>\n",
       "<table border=\"1\" class=\"dataframe\">\n",
       "  <thead>\n",
       "    <tr style=\"text-align: right;\">\n",
       "      <th></th>\n",
       "      <th>MR_RF</th>\n",
       "      <th>SMB</th>\n",
       "      <th>HML</th>\n",
       "    </tr>\n",
       "    <tr>\n",
       "      <th>Dates</th>\n",
       "      <th></th>\n",
       "      <th></th>\n",
       "      <th></th>\n",
       "    </tr>\n",
       "  </thead>\n",
       "  <tbody>\n",
       "    <tr>\n",
       "      <th>2000-12-20</th>\n",
       "      <td>-0.0083</td>\n",
       "      <td>0.001267</td>\n",
       "      <td>0.00510</td>\n",
       "    </tr>\n",
       "    <tr>\n",
       "      <th>2000-12-21</th>\n",
       "      <td>-0.0062</td>\n",
       "      <td>0.001933</td>\n",
       "      <td>-0.00240</td>\n",
       "    </tr>\n",
       "    <tr>\n",
       "      <th>2000-12-22</th>\n",
       "      <td>0.0163</td>\n",
       "      <td>0.002433</td>\n",
       "      <td>0.00670</td>\n",
       "    </tr>\n",
       "    <tr>\n",
       "      <th>2000-12-25</th>\n",
       "      <td>-0.0003</td>\n",
       "      <td>0.000000</td>\n",
       "      <td>0.00000</td>\n",
       "    </tr>\n",
       "    <tr>\n",
       "      <th>2000-12-26</th>\n",
       "      <td>-0.0003</td>\n",
       "      <td>0.000000</td>\n",
       "      <td>0.00000</td>\n",
       "    </tr>\n",
       "    <tr>\n",
       "      <th>...</th>\n",
       "      <td>...</td>\n",
       "      <td>...</td>\n",
       "      <td>...</td>\n",
       "    </tr>\n",
       "    <tr>\n",
       "      <th>2019-02-27</th>\n",
       "      <td>0.0008</td>\n",
       "      <td>-0.003700</td>\n",
       "      <td>-0.00155</td>\n",
       "    </tr>\n",
       "    <tr>\n",
       "      <th>2019-02-28</th>\n",
       "      <td>-0.0055</td>\n",
       "      <td>0.005000</td>\n",
       "      <td>-0.00145</td>\n",
       "    </tr>\n",
       "    <tr>\n",
       "      <th>2019-03-01</th>\n",
       "      <td>0.0034</td>\n",
       "      <td>-0.003433</td>\n",
       "      <td>0.00380</td>\n",
       "    </tr>\n",
       "    <tr>\n",
       "      <th>2019-03-04</th>\n",
       "      <td>0.0001</td>\n",
       "      <td>0.001267</td>\n",
       "      <td>0.00380</td>\n",
       "    </tr>\n",
       "    <tr>\n",
       "      <th>2019-03-05</th>\n",
       "      <td>-0.0074</td>\n",
       "      <td>0.006433</td>\n",
       "      <td>-0.00520</td>\n",
       "    </tr>\n",
       "  </tbody>\n",
       "</table>\n",
       "<p>4750 rows × 3 columns</p>\n",
       "</div>"
      ],
      "text/plain": [
       "             MR_RF       SMB      HML\n",
       "Dates                                \n",
       "2000-12-20 -0.0083  0.001267  0.00510\n",
       "2000-12-21 -0.0062  0.001933 -0.00240\n",
       "2000-12-22  0.0163  0.002433  0.00670\n",
       "2000-12-25 -0.0003  0.000000  0.00000\n",
       "2000-12-26 -0.0003  0.000000  0.00000\n",
       "...            ...       ...      ...\n",
       "2019-02-27  0.0008 -0.003700 -0.00155\n",
       "2019-02-28 -0.0055  0.005000 -0.00145\n",
       "2019-03-01  0.0034 -0.003433  0.00380\n",
       "2019-03-04  0.0001  0.001267  0.00380\n",
       "2019-03-05 -0.0074  0.006433 -0.00520\n",
       "\n",
       "[4750 rows x 3 columns]"
      ]
     },
     "execution_count": 193,
     "metadata": {},
     "output_type": "execute_result"
    }
   ],
   "source": [
    "df_FF3"
   ]
  },
  {
   "cell_type": "code",
   "execution_count": 194,
   "metadata": {},
   "outputs": [],
   "source": [
    "df_RF = pd.read_csv('df_RF.csv',index_col=0)\n",
    "df_SR = pd.read_csv('df_SR.csv',index_col=0)\n",
    "df_SR.index = df_SR.index.to_series().apply(lambda x:x[:10])"
   ]
  },
  {
   "cell_type": "code",
   "execution_count": 195,
   "metadata": {},
   "outputs": [],
   "source": [
    "df_Ex_SR = df_SR-df_RF.values"
   ]
  },
  {
   "cell_type": "code",
   "execution_count": 196,
   "metadata": {},
   "outputs": [
    {
     "data": {
      "text/plain": [
       "(5215, 836)"
      ]
     },
     "execution_count": 196,
     "metadata": {},
     "output_type": "execute_result"
    }
   ],
   "source": [
    "df_Ex_SR = df_Ex_SR.loc[df_FF3.index,:]\n",
    "df_SR.shape"
   ]
  },
  {
   "cell_type": "code",
   "execution_count": 197,
   "metadata": {},
   "outputs": [],
   "source": [
    "n = 3\n",
    "holding = 21\n",
    "rollingW = holding * n * 12\n",
    "lens = len(df_FF3)\n",
    "periods = int((lens - rollingW) / holding) - 1"
   ]
  },
  {
   "cell_type": "code",
   "execution_count": 198,
   "metadata": {},
   "outputs": [
    {
     "name": "stderr",
     "output_type": "stream",
     "text": [
      "100%|██████████| 189/189 [01:47<00:00,  1.76it/s]\n"
     ]
    }
   ],
   "source": [
    "all_betas = []\n",
    "# i is time\n",
    "for i in tqdm(range(periods)):\n",
    "\n",
    "    df_FF3_tmp = df_FF3.iloc[i*holding:i*holding+rollingW,:]\n",
    "    df_Ex_SR_tmp = df_Ex_SR.iloc[i*holding:i*holding+rollingW,:]\n",
    "    \n",
    "    betas = []\n",
    "    # j is stock\n",
    "    for j in df_Ex_SR.columns:\n",
    "        df_index = df_Ex_SR_tmp.loc[:,j].dropna().index\n",
    "        \n",
    "        if len(df_index) != 0:\n",
    "            b = list(ols_model.fit(df_FF3_tmp.loc[df_index,:].values, df_Ex_SR_tmp.loc[df_index,j].values).coef_)\n",
    "            b.append(j)\n",
    "            betas.append(b)\n",
    "    df_betas = pd.DataFrame(np.array(betas)).rename(columns={0:'MKT',1:'SMB',2:'HML',3:'stock'}).set_index('stock')\n",
    "    \n",
    "    all_betas.append(df_betas)\n",
    "\n"
   ]
  },
  {
   "cell_type": "code",
   "execution_count": 199,
   "metadata": {
    "scrolled": true
   },
   "outputs": [
    {
     "data": {
      "text/html": [
       "<div>\n",
       "<style scoped>\n",
       "    .dataframe tbody tr th:only-of-type {\n",
       "        vertical-align: middle;\n",
       "    }\n",
       "\n",
       "    .dataframe tbody tr th {\n",
       "        vertical-align: top;\n",
       "    }\n",
       "\n",
       "    .dataframe thead th {\n",
       "        text-align: right;\n",
       "    }\n",
       "</style>\n",
       "<table border=\"1\" class=\"dataframe\">\n",
       "  <thead>\n",
       "    <tr style=\"text-align: right;\">\n",
       "      <th></th>\n",
       "      <th>MKT</th>\n",
       "      <th>SMB</th>\n",
       "      <th>HML</th>\n",
       "    </tr>\n",
       "    <tr>\n",
       "      <th>stock</th>\n",
       "      <th></th>\n",
       "      <th></th>\n",
       "      <th></th>\n",
       "    </tr>\n",
       "  </thead>\n",
       "  <tbody>\n",
       "    <tr>\n",
       "      <th>ABC.SJ.Equity</th>\n",
       "      <td>-0.11886881746759886</td>\n",
       "      <td>-0.7129746357980258</td>\n",
       "      <td>0.875250891422741</td>\n",
       "    </tr>\n",
       "    <tr>\n",
       "      <th>ABI.SJ.Equity</th>\n",
       "      <td>0.25783980152032315</td>\n",
       "      <td>-0.010324300961727153</td>\n",
       "      <td>-0.010932559606184007</td>\n",
       "    </tr>\n",
       "    <tr>\n",
       "      <th>ABR.SJ.Equity</th>\n",
       "      <td>-0.21197460481696337</td>\n",
       "      <td>0.778388720466541</td>\n",
       "      <td>-0.34772436567797277</td>\n",
       "    </tr>\n",
       "    <tr>\n",
       "      <th>ACL.SJ.Equity</th>\n",
       "      <td>0.9128206343490194</td>\n",
       "      <td>1.3235356352168206</td>\n",
       "      <td>-0.024148286154124676</td>\n",
       "    </tr>\n",
       "    <tr>\n",
       "      <th>ACP.SJ.Equity</th>\n",
       "      <td>-0.03951329859901125</td>\n",
       "      <td>-0.061075408168753176</td>\n",
       "      <td>0.14407439092975466</td>\n",
       "    </tr>\n",
       "    <tr>\n",
       "      <th>...</th>\n",
       "      <td>...</td>\n",
       "      <td>...</td>\n",
       "      <td>...</td>\n",
       "    </tr>\n",
       "    <tr>\n",
       "      <th>WTC.SJ.Equity</th>\n",
       "      <td>0.07080044688134128</td>\n",
       "      <td>-0.13632567541626667</td>\n",
       "      <td>-0.24204855792579677</td>\n",
       "    </tr>\n",
       "    <tr>\n",
       "      <th>YRK.SJ.Equity</th>\n",
       "      <td>-0.0700711207991542</td>\n",
       "      <td>-0.0839246623936035</td>\n",
       "      <td>0.09238358790580153</td>\n",
       "    </tr>\n",
       "    <tr>\n",
       "      <th>ZPT.SJ.Equity</th>\n",
       "      <td>0.07969652734074247</td>\n",
       "      <td>-0.9069146398011514</td>\n",
       "      <td>-0.3695302740365012</td>\n",
       "    </tr>\n",
       "    <tr>\n",
       "      <th>ZRR.SJ.Equity</th>\n",
       "      <td>0.1554158589313682</td>\n",
       "      <td>1.3017774937158952</td>\n",
       "      <td>-0.510526061162279</td>\n",
       "    </tr>\n",
       "    <tr>\n",
       "      <th>ZSA.SJ.Equity</th>\n",
       "      <td>-0.006831970595371532</td>\n",
       "      <td>0.04700429894705574</td>\n",
       "      <td>-0.03636169818982443</td>\n",
       "    </tr>\n",
       "  </tbody>\n",
       "</table>\n",
       "<p>523 rows × 3 columns</p>\n",
       "</div>"
      ],
      "text/plain": [
       "                                 MKT                    SMB  \\\n",
       "stock                                                         \n",
       "ABC.SJ.Equity   -0.11886881746759886    -0.7129746357980258   \n",
       "ABI.SJ.Equity    0.25783980152032315  -0.010324300961727153   \n",
       "ABR.SJ.Equity   -0.21197460481696337      0.778388720466541   \n",
       "ACL.SJ.Equity     0.9128206343490194     1.3235356352168206   \n",
       "ACP.SJ.Equity   -0.03951329859901125  -0.061075408168753176   \n",
       "...                              ...                    ...   \n",
       "WTC.SJ.Equity    0.07080044688134128   -0.13632567541626667   \n",
       "YRK.SJ.Equity    -0.0700711207991542    -0.0839246623936035   \n",
       "ZPT.SJ.Equity    0.07969652734074247    -0.9069146398011514   \n",
       "ZRR.SJ.Equity     0.1554158589313682     1.3017774937158952   \n",
       "ZSA.SJ.Equity  -0.006831970595371532    0.04700429894705574   \n",
       "\n",
       "                                 HML  \n",
       "stock                                 \n",
       "ABC.SJ.Equity      0.875250891422741  \n",
       "ABI.SJ.Equity  -0.010932559606184007  \n",
       "ABR.SJ.Equity   -0.34772436567797277  \n",
       "ACL.SJ.Equity  -0.024148286154124676  \n",
       "ACP.SJ.Equity    0.14407439092975466  \n",
       "...                              ...  \n",
       "WTC.SJ.Equity   -0.24204855792579677  \n",
       "YRK.SJ.Equity    0.09238358790580153  \n",
       "ZPT.SJ.Equity    -0.3695302740365012  \n",
       "ZRR.SJ.Equity     -0.510526061162279  \n",
       "ZSA.SJ.Equity   -0.03636169818982443  \n",
       "\n",
       "[523 rows x 3 columns]"
      ]
     },
     "execution_count": 199,
     "metadata": {},
     "output_type": "execute_result"
    }
   ],
   "source": [
    "all_betas[0]"
   ]
  },
  {
   "cell_type": "code",
   "execution_count": 200,
   "metadata": {},
   "outputs": [
    {
     "name": "stderr",
     "output_type": "stream",
     "text": [
      "100%|██████████| 3969/3969 [00:09<00:00, 423.33it/s]\n"
     ]
    }
   ],
   "source": [
    "all_lambdas = []\n",
    "all_intercepts = []\n",
    "# i is time\n",
    "\n",
    "df_Ex_SR_tmp_T = df_Ex_SR.iloc[rollingW:rollingW+periods*holding,:].T\n",
    "\n",
    "lambdas = []\n",
    "intercepts = []\n",
    "index_times = list(df_Ex_SR_tmp_T.columns)\n",
    "\n",
    "for k in tqdm(df_Ex_SR_tmp_T.columns):\n",
    "    \n",
    "    i = int(index_times.index(k) / holding)\n",
    "\n",
    "    df_return = df_Ex_SR_tmp_T.loc[all_betas[i].index,k].dropna()\n",
    "    df_index = df_return.index\n",
    "    \n",
    "    if len(df_index) != 0:\n",
    "        l = list(ols_model.fit(all_betas[i].loc[df_index,:].values, df_return.values).coef_)\n",
    "        h = ols_model.fit(all_betas[i].loc[df_index,:].values, df_return.values).intercept_\n",
    "        lambdas.append(l)\n",
    "        intercepts.append(h)\n",
    "all_lambdas.append(pd.DataFrame(lambdas))\n",
    "all_intercepts.append(pd.DataFrame(intercepts))"
   ]
  },
  {
   "cell_type": "code",
   "execution_count": 201,
   "metadata": {
    "scrolled": true
   },
   "outputs": [
    {
     "data": {
      "text/html": [
       "<div>\n",
       "<style scoped>\n",
       "    .dataframe tbody tr th:only-of-type {\n",
       "        vertical-align: middle;\n",
       "    }\n",
       "\n",
       "    .dataframe tbody tr th {\n",
       "        vertical-align: top;\n",
       "    }\n",
       "\n",
       "    .dataframe thead th {\n",
       "        text-align: right;\n",
       "    }\n",
       "</style>\n",
       "<table border=\"1\" class=\"dataframe\">\n",
       "  <thead>\n",
       "    <tr style=\"text-align: right;\">\n",
       "      <th></th>\n",
       "      <th>MKT</th>\n",
       "      <th>SMB</th>\n",
       "      <th>HML</th>\n",
       "    </tr>\n",
       "  </thead>\n",
       "  <tbody>\n",
       "    <tr>\n",
       "      <th>0</th>\n",
       "      <td>0.003147</td>\n",
       "      <td>-0.001208</td>\n",
       "      <td>-0.004000</td>\n",
       "    </tr>\n",
       "    <tr>\n",
       "      <th>1</th>\n",
       "      <td>0.006961</td>\n",
       "      <td>-0.003008</td>\n",
       "      <td>0.004089</td>\n",
       "    </tr>\n",
       "    <tr>\n",
       "      <th>2</th>\n",
       "      <td>-0.010578</td>\n",
       "      <td>-0.003330</td>\n",
       "      <td>0.010384</td>\n",
       "    </tr>\n",
       "    <tr>\n",
       "      <th>3</th>\n",
       "      <td>0.001320</td>\n",
       "      <td>0.009910</td>\n",
       "      <td>0.003706</td>\n",
       "    </tr>\n",
       "    <tr>\n",
       "      <th>4</th>\n",
       "      <td>-0.003854</td>\n",
       "      <td>-0.008944</td>\n",
       "      <td>0.007524</td>\n",
       "    </tr>\n",
       "    <tr>\n",
       "      <th>...</th>\n",
       "      <td>...</td>\n",
       "      <td>...</td>\n",
       "      <td>...</td>\n",
       "    </tr>\n",
       "    <tr>\n",
       "      <th>3964</th>\n",
       "      <td>0.003179</td>\n",
       "      <td>0.003167</td>\n",
       "      <td>0.003078</td>\n",
       "    </tr>\n",
       "    <tr>\n",
       "      <th>3965</th>\n",
       "      <td>-0.004597</td>\n",
       "      <td>0.000107</td>\n",
       "      <td>-0.005402</td>\n",
       "    </tr>\n",
       "    <tr>\n",
       "      <th>3966</th>\n",
       "      <td>0.007581</td>\n",
       "      <td>-0.000167</td>\n",
       "      <td>-0.007906</td>\n",
       "    </tr>\n",
       "    <tr>\n",
       "      <th>3967</th>\n",
       "      <td>-0.006288</td>\n",
       "      <td>0.001515</td>\n",
       "      <td>0.004452</td>\n",
       "    </tr>\n",
       "    <tr>\n",
       "      <th>3968</th>\n",
       "      <td>0.007486</td>\n",
       "      <td>0.004268</td>\n",
       "      <td>0.005155</td>\n",
       "    </tr>\n",
       "  </tbody>\n",
       "</table>\n",
       "<p>3969 rows × 3 columns</p>\n",
       "</div>"
      ],
      "text/plain": [
       "           MKT       SMB       HML\n",
       "0     0.003147 -0.001208 -0.004000\n",
       "1     0.006961 -0.003008  0.004089\n",
       "2    -0.010578 -0.003330  0.010384\n",
       "3     0.001320  0.009910  0.003706\n",
       "4    -0.003854 -0.008944  0.007524\n",
       "...        ...       ...       ...\n",
       "3964  0.003179  0.003167  0.003078\n",
       "3965 -0.004597  0.000107 -0.005402\n",
       "3966  0.007581 -0.000167 -0.007906\n",
       "3967 -0.006288  0.001515  0.004452\n",
       "3968  0.007486  0.004268  0.005155\n",
       "\n",
       "[3969 rows x 3 columns]"
      ]
     },
     "execution_count": 201,
     "metadata": {},
     "output_type": "execute_result"
    }
   ],
   "source": [
    "all_lambdas[0].rename(columns={0:'MKT',1:'SMB',2:'HML'})"
   ]
  },
  {
   "cell_type": "code",
   "execution_count": 202,
   "metadata": {
    "scrolled": true
   },
   "outputs": [
    {
     "data": {
      "text/plain": [
       "0   -0.269627\n",
       "dtype: float64"
      ]
     },
     "execution_count": 202,
     "metadata": {},
     "output_type": "execute_result"
    }
   ],
   "source": [
    "np.mean(all_intercepts[0])*21*100"
   ]
  },
  {
   "cell_type": "code",
   "execution_count": 203,
   "metadata": {
    "scrolled": true
   },
   "outputs": [
    {
     "data": {
      "text/plain": [
       "0    0.172828\n",
       "1   -0.143496\n",
       "2   -0.196709\n",
       "dtype: float64"
      ]
     },
     "execution_count": 203,
     "metadata": {},
     "output_type": "execute_result"
    }
   ],
   "source": [
    "np.mean(all_lambdas[0])*21*100"
   ]
  },
  {
   "cell_type": "code",
   "execution_count": 204,
   "metadata": {
    "scrolled": true
   },
   "outputs": [
    {
     "data": {
      "text/plain": [
       "Ttest_1sampResult(statistic=array([-6.3777705]), pvalue=array([2.00293675e-10]))"
      ]
     },
     "execution_count": 204,
     "metadata": {},
     "output_type": "execute_result"
    }
   ],
   "source": [
    "stats.ttest_1samp(all_intercepts[0], 0.0)"
   ]
  },
  {
   "cell_type": "code",
   "execution_count": 205,
   "metadata": {
    "scrolled": false
   },
   "outputs": [
    {
     "data": {
      "text/plain": [
       "Ttest_1sampResult(statistic=array([ 0.47387914, -0.78616496, -0.89747543]), pvalue=array([0.63561216, 0.4318178 , 0.36951973]))"
      ]
     },
     "execution_count": 205,
     "metadata": {},
     "output_type": "execute_result"
    }
   ],
   "source": [
    "stats.ttest_1samp(all_lambdas[0], 0.0)"
   ]
  },
  {
   "cell_type": "code",
   "execution_count": 206,
   "metadata": {
    "scrolled": false
   },
   "outputs": [
    {
     "data": {
      "text/plain": [
       "array([ 0.2819852 , -0.51018802, -0.58278278])"
      ]
     },
     "execution_count": 206,
     "metadata": {},
     "output_type": "execute_result"
    }
   ],
   "source": [
    "## Newey-West Adjustment For FF3_Lambdas\n",
    "all_lambdas[0].apply(lambda x: NW_ttest(ret = x, h0=0), axis=0).values"
   ]
  },
  {
   "cell_type": "markdown",
   "metadata": {},
   "source": [
    "### Adding firm characteristics as control variables"
   ]
  },
  {
   "cell_type": "code",
   "execution_count": 207,
   "metadata": {},
   "outputs": [],
   "source": [
    "df_ln_Size = pd.read_csv('df_ln_Size.csv')\n",
    "\n",
    "df_PE = pd.read_csv('df_std_PE.csv')\n",
    "\n",
    "df_ln_Size.Dates = df_ln_Size.Dates.apply(lambda x:x[:10])\n",
    "\n",
    "df_ln_Size.set_index('Dates',inplace=True)\n",
    "\n",
    "df_PE.Dates = df_PE.Dates.apply(lambda x:x[:10])\n",
    "\n",
    "df_PE.set_index('Dates',inplace=True)"
   ]
  },
  {
   "cell_type": "code",
   "execution_count": 208,
   "metadata": {},
   "outputs": [],
   "source": [
    "df_ln_Size = df_ln_Size.loc[df_Ex_SR.index,:]"
   ]
  },
  {
   "cell_type": "code",
   "execution_count": 209,
   "metadata": {},
   "outputs": [],
   "source": [
    "df_PE = df_PE.loc[df_Ex_SR.index,:]"
   ]
  },
  {
   "cell_type": "code",
   "execution_count": 210,
   "metadata": {},
   "outputs": [
    {
     "data": {
      "text/plain": [
       "True"
      ]
     },
     "execution_count": 210,
     "metadata": {},
     "output_type": "execute_result"
    }
   ],
   "source": [
    "len(df_ln_Size)==len(df_PE)==len(df_Ex_SR)"
   ]
  },
  {
   "cell_type": "code",
   "execution_count": 211,
   "metadata": {},
   "outputs": [],
   "source": [
    "# Stock returns are lagged for 21 days than firm characteristics \n",
    "Gap = 21"
   ]
  },
  {
   "cell_type": "code",
   "execution_count": 212,
   "metadata": {},
   "outputs": [],
   "source": [
    "n = 3\n",
    "holding = 21\n",
    "rollingW = holding * n * 12\n",
    "lens = len(df_FF3)\n",
    "periods = int((lens - rollingW) / holding) - 1"
   ]
  },
  {
   "cell_type": "code",
   "execution_count": 213,
   "metadata": {},
   "outputs": [
    {
     "name": "stderr",
     "output_type": "stream",
     "text": [
      "100%|██████████| 3948/3948 [00:22<00:00, 176.55it/s]\n"
     ]
    }
   ],
   "source": [
    "all_lambdas = []\n",
    "all_intercepts = []\n",
    "\n",
    "df_Ex_SR_tmp_T = df_Ex_SR.iloc[rollingW:rollingW+periods*holding,:].T\n",
    "df_ln_Size_tmp_T = df_ln_Size.iloc[rollingW:rollingW+periods*holding,:].T\n",
    "df_PE_tmp_T = df_PE.iloc[rollingW:rollingW+periods*holding,:].T\n",
    "\n",
    "lambdas = []\n",
    "intercepts = []\n",
    "index_times = list(df_Ex_SR_tmp_T.columns)\n",
    "\n",
    "\n",
    "for k in tqdm(df_Ex_SR_tmp_T.columns[:-Gap]):\n",
    "    # k is date t in len(df_Ex_SR_tmp) days\n",
    "    i = int(index_times.index(k) / holding)\n",
    "    # i is time T in 185 periods\n",
    "    # df_ln_Size_tmp_T.loc[:,k].replace(-np.inf,np.nan), the -inf in ln_Size data dataframe would interrupt the regression\n",
    "    df_index = (((all_betas[i].index).intersection(df_ln_Size_tmp_T.loc[:,k].replace(-np.inf,np.nan).dropna().index).\\\n",
    "                   intersection(df_PE_tmp_T.loc[:,k].dropna().index)).\\\n",
    "                    intersection(df_Ex_SR_tmp_T.loc[:,index_times[index_times.index(k)+Gap]].dropna().index))\n",
    "    \n",
    "    if len(df_index) != 0:\n",
    "        \n",
    "        l = list(ols_model.fit((pd.concat([all_betas[i].loc[df_index,:], \\\n",
    "                                           df_ln_Size_tmp_T.loc[df_index,k],\\\n",
    "                                           df_PE_tmp_T .loc[df_index,k]],axis = 1).values), \\\n",
    "                               (df_Ex_SR_tmp_T.loc[df_index,index_times[index_times.index(k)+Gap]].values)).coef_)\n",
    "        \n",
    "        h = ols_model.fit((pd.concat([all_betas[i].loc[df_index,:], \\\n",
    "                                      df_ln_Size_tmp_T.loc[df_index,k],\\\n",
    "                                      df_PE_tmp_T .loc[df_index,k]],axis = 1).values), \\\n",
    "                          (df_Ex_SR_tmp_T.loc[df_index,index_times[index_times.index(k)+Gap]].values)).intercept_\n",
    "        \n",
    "        lambdas.append(l)\n",
    "        intercepts.append(h)\n",
    "        \n",
    "all_lambdas.append(pd.DataFrame(lambdas))\n",
    "all_intercepts.append(pd.DataFrame(intercepts))"
   ]
  },
  {
   "cell_type": "code",
   "execution_count": 214,
   "metadata": {
    "scrolled": true
   },
   "outputs": [
    {
     "data": {
      "text/html": [
       "<div>\n",
       "<style scoped>\n",
       "    .dataframe tbody tr th:only-of-type {\n",
       "        vertical-align: middle;\n",
       "    }\n",
       "\n",
       "    .dataframe tbody tr th {\n",
       "        vertical-align: top;\n",
       "    }\n",
       "\n",
       "    .dataframe thead th {\n",
       "        text-align: right;\n",
       "    }\n",
       "</style>\n",
       "<table border=\"1\" class=\"dataframe\">\n",
       "  <thead>\n",
       "    <tr style=\"text-align: right;\">\n",
       "      <th></th>\n",
       "      <th>0</th>\n",
       "    </tr>\n",
       "  </thead>\n",
       "  <tbody>\n",
       "    <tr>\n",
       "      <th>0</th>\n",
       "      <td>0.003638</td>\n",
       "    </tr>\n",
       "    <tr>\n",
       "      <th>1</th>\n",
       "      <td>0.001445</td>\n",
       "    </tr>\n",
       "    <tr>\n",
       "      <th>2</th>\n",
       "      <td>-0.000196</td>\n",
       "    </tr>\n",
       "    <tr>\n",
       "      <th>3</th>\n",
       "      <td>-0.004393</td>\n",
       "    </tr>\n",
       "    <tr>\n",
       "      <th>4</th>\n",
       "      <td>0.007515</td>\n",
       "    </tr>\n",
       "    <tr>\n",
       "      <th>...</th>\n",
       "      <td>...</td>\n",
       "    </tr>\n",
       "    <tr>\n",
       "      <th>3943</th>\n",
       "      <td>-0.000049</td>\n",
       "    </tr>\n",
       "    <tr>\n",
       "      <th>3944</th>\n",
       "      <td>-0.004663</td>\n",
       "    </tr>\n",
       "    <tr>\n",
       "      <th>3945</th>\n",
       "      <td>0.002255</td>\n",
       "    </tr>\n",
       "    <tr>\n",
       "      <th>3946</th>\n",
       "      <td>-0.002130</td>\n",
       "    </tr>\n",
       "    <tr>\n",
       "      <th>3947</th>\n",
       "      <td>-0.001637</td>\n",
       "    </tr>\n",
       "  </tbody>\n",
       "</table>\n",
       "<p>3948 rows × 1 columns</p>\n",
       "</div>"
      ],
      "text/plain": [
       "             0\n",
       "0     0.003638\n",
       "1     0.001445\n",
       "2    -0.000196\n",
       "3    -0.004393\n",
       "4     0.007515\n",
       "...        ...\n",
       "3943 -0.000049\n",
       "3944 -0.004663\n",
       "3945  0.002255\n",
       "3946 -0.002130\n",
       "3947 -0.001637\n",
       "\n",
       "[3948 rows x 1 columns]"
      ]
     },
     "execution_count": 214,
     "metadata": {},
     "output_type": "execute_result"
    }
   ],
   "source": [
    "all_intercepts[0]"
   ]
  },
  {
   "cell_type": "code",
   "execution_count": 215,
   "metadata": {
    "scrolled": true
   },
   "outputs": [
    {
     "data": {
      "text/html": [
       "<div>\n",
       "<style scoped>\n",
       "    .dataframe tbody tr th:only-of-type {\n",
       "        vertical-align: middle;\n",
       "    }\n",
       "\n",
       "    .dataframe tbody tr th {\n",
       "        vertical-align: top;\n",
       "    }\n",
       "\n",
       "    .dataframe thead th {\n",
       "        text-align: right;\n",
       "    }\n",
       "</style>\n",
       "<table border=\"1\" class=\"dataframe\">\n",
       "  <thead>\n",
       "    <tr style=\"text-align: right;\">\n",
       "      <th></th>\n",
       "      <th>MKT</th>\n",
       "      <th>SMB</th>\n",
       "      <th>HML</th>\n",
       "      <th>Size</th>\n",
       "      <th>PE</th>\n",
       "    </tr>\n",
       "  </thead>\n",
       "  <tbody>\n",
       "    <tr>\n",
       "      <th>0</th>\n",
       "      <td>0.000168</td>\n",
       "      <td>-0.000213</td>\n",
       "      <td>0.006705</td>\n",
       "      <td>-0.000286</td>\n",
       "      <td>-0.001851</td>\n",
       "    </tr>\n",
       "    <tr>\n",
       "      <th>1</th>\n",
       "      <td>0.007100</td>\n",
       "      <td>0.002367</td>\n",
       "      <td>-0.001340</td>\n",
       "      <td>-0.000091</td>\n",
       "      <td>-0.000104</td>\n",
       "    </tr>\n",
       "    <tr>\n",
       "      <th>2</th>\n",
       "      <td>0.000000</td>\n",
       "      <td>0.000000</td>\n",
       "      <td>0.000000</td>\n",
       "      <td>0.000000</td>\n",
       "      <td>0.000000</td>\n",
       "    </tr>\n",
       "    <tr>\n",
       "      <th>3</th>\n",
       "      <td>-0.005140</td>\n",
       "      <td>0.002783</td>\n",
       "      <td>0.009165</td>\n",
       "      <td>0.001104</td>\n",
       "      <td>-0.002950</td>\n",
       "    </tr>\n",
       "    <tr>\n",
       "      <th>4</th>\n",
       "      <td>0.002619</td>\n",
       "      <td>-0.003265</td>\n",
       "      <td>0.010755</td>\n",
       "      <td>-0.000854</td>\n",
       "      <td>-0.004725</td>\n",
       "    </tr>\n",
       "    <tr>\n",
       "      <th>...</th>\n",
       "      <td>...</td>\n",
       "      <td>...</td>\n",
       "      <td>...</td>\n",
       "      <td>...</td>\n",
       "      <td>...</td>\n",
       "    </tr>\n",
       "    <tr>\n",
       "      <th>3943</th>\n",
       "      <td>0.006987</td>\n",
       "      <td>0.002554</td>\n",
       "      <td>0.003818</td>\n",
       "      <td>-0.000205</td>\n",
       "      <td>-0.000183</td>\n",
       "    </tr>\n",
       "    <tr>\n",
       "      <th>3944</th>\n",
       "      <td>-0.009634</td>\n",
       "      <td>0.000750</td>\n",
       "      <td>-0.005399</td>\n",
       "      <td>0.000516</td>\n",
       "      <td>0.000519</td>\n",
       "    </tr>\n",
       "    <tr>\n",
       "      <th>3945</th>\n",
       "      <td>0.007189</td>\n",
       "      <td>0.000717</td>\n",
       "      <td>-0.005310</td>\n",
       "      <td>-0.000285</td>\n",
       "      <td>0.000428</td>\n",
       "    </tr>\n",
       "    <tr>\n",
       "      <th>3946</th>\n",
       "      <td>-0.005797</td>\n",
       "      <td>0.000869</td>\n",
       "      <td>0.000985</td>\n",
       "      <td>0.000117</td>\n",
       "      <td>-0.002621</td>\n",
       "    </tr>\n",
       "    <tr>\n",
       "      <th>3947</th>\n",
       "      <td>0.002414</td>\n",
       "      <td>0.004590</td>\n",
       "      <td>0.003806</td>\n",
       "      <td>0.000294</td>\n",
       "      <td>0.001841</td>\n",
       "    </tr>\n",
       "  </tbody>\n",
       "</table>\n",
       "<p>3948 rows × 5 columns</p>\n",
       "</div>"
      ],
      "text/plain": [
       "           MKT       SMB       HML      Size        PE\n",
       "0     0.000168 -0.000213  0.006705 -0.000286 -0.001851\n",
       "1     0.007100  0.002367 -0.001340 -0.000091 -0.000104\n",
       "2     0.000000  0.000000  0.000000  0.000000  0.000000\n",
       "3    -0.005140  0.002783  0.009165  0.001104 -0.002950\n",
       "4     0.002619 -0.003265  0.010755 -0.000854 -0.004725\n",
       "...        ...       ...       ...       ...       ...\n",
       "3943  0.006987  0.002554  0.003818 -0.000205 -0.000183\n",
       "3944 -0.009634  0.000750 -0.005399  0.000516  0.000519\n",
       "3945  0.007189  0.000717 -0.005310 -0.000285  0.000428\n",
       "3946 -0.005797  0.000869  0.000985  0.000117 -0.002621\n",
       "3947  0.002414  0.004590  0.003806  0.000294  0.001841\n",
       "\n",
       "[3948 rows x 5 columns]"
      ]
     },
     "execution_count": 215,
     "metadata": {},
     "output_type": "execute_result"
    }
   ],
   "source": [
    "all_lambdas[0].rename(columns={0:'MKT',1:'SMB',2:'HML',3:'Size',4:'PE'})"
   ]
  },
  {
   "cell_type": "code",
   "execution_count": 216,
   "metadata": {},
   "outputs": [
    {
     "data": {
      "text/plain": [
       "0   -0.797523\n",
       "dtype: float64"
      ]
     },
     "execution_count": 216,
     "metadata": {},
     "output_type": "execute_result"
    }
   ],
   "source": [
    "np.mean(all_intercepts[0])*21*100"
   ]
  },
  {
   "cell_type": "code",
   "execution_count": 217,
   "metadata": {
    "scrolled": true
   },
   "outputs": [
    {
     "data": {
      "text/plain": [
       "0   -0.448972\n",
       "1   -0.112295\n",
       "2   -0.022140\n",
       "3    0.105490\n",
       "4   -0.514822\n",
       "dtype: float64"
      ]
     },
     "execution_count": 217,
     "metadata": {},
     "output_type": "execute_result"
    }
   ],
   "source": [
    "np.mean(all_lambdas[0])*21*100"
   ]
  },
  {
   "cell_type": "code",
   "execution_count": 218,
   "metadata": {},
   "outputs": [
    {
     "data": {
      "text/plain": [
       "Ttest_1sampResult(statistic=array([-5.78279331]), pvalue=array([7.91608802e-09]))"
      ]
     },
     "execution_count": 218,
     "metadata": {},
     "output_type": "execute_result"
    }
   ],
   "source": [
    "stats.ttest_1samp(all_intercepts[0], 0.0)"
   ]
  },
  {
   "cell_type": "code",
   "execution_count": 219,
   "metadata": {
    "scrolled": false
   },
   "outputs": [
    {
     "data": {
      "text/plain": [
       "array([-1.10168689, -0.54855856, -0.08795274,  4.21503818, -8.25162009])"
      ]
     },
     "execution_count": 219,
     "metadata": {},
     "output_type": "execute_result"
    }
   ],
   "source": [
    "stats.ttest_1samp(all_lambdas[0], 0.0)[0]"
   ]
  },
  {
   "cell_type": "code",
   "execution_count": 220,
   "metadata": {},
   "outputs": [
    {
     "data": {
      "text/plain": [
       "array([-0.66767493, -0.35627738, -0.05709502,  2.62899832, -5.20022322])"
      ]
     },
     "execution_count": 220,
     "metadata": {},
     "output_type": "execute_result"
    }
   ],
   "source": [
    "## Newey-West Adjustment \n",
    "all_lambdas[0].apply(lambda x: NW_ttest(ret = x, h0=0), axis=0).values"
   ]
  },
  {
   "cell_type": "markdown",
   "metadata": {},
   "source": [
    "## Carhart4-Factor_OLS (Time-Varying Betas)"
   ]
  },
  {
   "cell_type": "code",
   "execution_count": 221,
   "metadata": {},
   "outputs": [],
   "source": [
    "ols_model = LinearRegression()"
   ]
  },
  {
   "cell_type": "code",
   "execution_count": 222,
   "metadata": {},
   "outputs": [],
   "source": [
    "df_FF4 = pd.read_csv('df_FF4.csv')"
   ]
  },
  {
   "cell_type": "code",
   "execution_count": 223,
   "metadata": {},
   "outputs": [],
   "source": [
    "df_FF4.Dates = df_FF4.Dates.apply(lambda x:x[:10])"
   ]
  },
  {
   "cell_type": "code",
   "execution_count": 224,
   "metadata": {},
   "outputs": [],
   "source": [
    "df_FF4.set_index('Dates',inplace=True)"
   ]
  },
  {
   "cell_type": "code",
   "execution_count": 225,
   "metadata": {},
   "outputs": [
    {
     "data": {
      "text/html": [
       "<div>\n",
       "<style scoped>\n",
       "    .dataframe tbody tr th:only-of-type {\n",
       "        vertical-align: middle;\n",
       "    }\n",
       "\n",
       "    .dataframe tbody tr th {\n",
       "        vertical-align: top;\n",
       "    }\n",
       "\n",
       "    .dataframe thead th {\n",
       "        text-align: right;\n",
       "    }\n",
       "</style>\n",
       "<table border=\"1\" class=\"dataframe\">\n",
       "  <thead>\n",
       "    <tr style=\"text-align: right;\">\n",
       "      <th></th>\n",
       "      <th>MR_RF</th>\n",
       "      <th>SMB</th>\n",
       "      <th>HML</th>\n",
       "      <th>WML</th>\n",
       "    </tr>\n",
       "    <tr>\n",
       "      <th>Dates</th>\n",
       "      <th></th>\n",
       "      <th></th>\n",
       "      <th></th>\n",
       "      <th></th>\n",
       "    </tr>\n",
       "  </thead>\n",
       "  <tbody>\n",
       "    <tr>\n",
       "      <th>2000-12-20</th>\n",
       "      <td>-0.0083</td>\n",
       "      <td>0.001267</td>\n",
       "      <td>0.00510</td>\n",
       "      <td>0.0034</td>\n",
       "    </tr>\n",
       "    <tr>\n",
       "      <th>2000-12-21</th>\n",
       "      <td>-0.0062</td>\n",
       "      <td>0.001933</td>\n",
       "      <td>-0.00240</td>\n",
       "      <td>-0.0036</td>\n",
       "    </tr>\n",
       "    <tr>\n",
       "      <th>2000-12-22</th>\n",
       "      <td>0.0163</td>\n",
       "      <td>0.002433</td>\n",
       "      <td>0.00670</td>\n",
       "      <td>-0.0084</td>\n",
       "    </tr>\n",
       "    <tr>\n",
       "      <th>2000-12-25</th>\n",
       "      <td>-0.0003</td>\n",
       "      <td>0.000000</td>\n",
       "      <td>0.00000</td>\n",
       "      <td>0.0000</td>\n",
       "    </tr>\n",
       "    <tr>\n",
       "      <th>2000-12-26</th>\n",
       "      <td>-0.0003</td>\n",
       "      <td>0.000000</td>\n",
       "      <td>0.00000</td>\n",
       "      <td>0.0000</td>\n",
       "    </tr>\n",
       "    <tr>\n",
       "      <th>...</th>\n",
       "      <td>...</td>\n",
       "      <td>...</td>\n",
       "      <td>...</td>\n",
       "      <td>...</td>\n",
       "    </tr>\n",
       "    <tr>\n",
       "      <th>2019-02-27</th>\n",
       "      <td>0.0008</td>\n",
       "      <td>-0.003700</td>\n",
       "      <td>-0.00155</td>\n",
       "      <td>-0.0038</td>\n",
       "    </tr>\n",
       "    <tr>\n",
       "      <th>2019-02-28</th>\n",
       "      <td>-0.0055</td>\n",
       "      <td>0.005000</td>\n",
       "      <td>-0.00145</td>\n",
       "      <td>-0.0136</td>\n",
       "    </tr>\n",
       "    <tr>\n",
       "      <th>2019-03-01</th>\n",
       "      <td>0.0034</td>\n",
       "      <td>-0.003433</td>\n",
       "      <td>0.00380</td>\n",
       "      <td>0.0025</td>\n",
       "    </tr>\n",
       "    <tr>\n",
       "      <th>2019-03-04</th>\n",
       "      <td>0.0001</td>\n",
       "      <td>0.001267</td>\n",
       "      <td>0.00380</td>\n",
       "      <td>-0.0028</td>\n",
       "    </tr>\n",
       "    <tr>\n",
       "      <th>2019-03-05</th>\n",
       "      <td>-0.0074</td>\n",
       "      <td>0.006433</td>\n",
       "      <td>-0.00520</td>\n",
       "      <td>-0.0009</td>\n",
       "    </tr>\n",
       "  </tbody>\n",
       "</table>\n",
       "<p>4750 rows × 4 columns</p>\n",
       "</div>"
      ],
      "text/plain": [
       "             MR_RF       SMB      HML     WML\n",
       "Dates                                        \n",
       "2000-12-20 -0.0083  0.001267  0.00510  0.0034\n",
       "2000-12-21 -0.0062  0.001933 -0.00240 -0.0036\n",
       "2000-12-22  0.0163  0.002433  0.00670 -0.0084\n",
       "2000-12-25 -0.0003  0.000000  0.00000  0.0000\n",
       "2000-12-26 -0.0003  0.000000  0.00000  0.0000\n",
       "...            ...       ...      ...     ...\n",
       "2019-02-27  0.0008 -0.003700 -0.00155 -0.0038\n",
       "2019-02-28 -0.0055  0.005000 -0.00145 -0.0136\n",
       "2019-03-01  0.0034 -0.003433  0.00380  0.0025\n",
       "2019-03-04  0.0001  0.001267  0.00380 -0.0028\n",
       "2019-03-05 -0.0074  0.006433 -0.00520 -0.0009\n",
       "\n",
       "[4750 rows x 4 columns]"
      ]
     },
     "execution_count": 225,
     "metadata": {},
     "output_type": "execute_result"
    }
   ],
   "source": [
    "df_FF4"
   ]
  },
  {
   "cell_type": "code",
   "execution_count": 226,
   "metadata": {},
   "outputs": [],
   "source": [
    "df_RF = pd.read_csv('df_RF.csv',index_col=0)\n",
    "df_SR = pd.read_csv('df_SR.csv',index_col=0)\n",
    "df_SR.index = df_SR.index.to_series().apply(lambda x:x[:10])"
   ]
  },
  {
   "cell_type": "code",
   "execution_count": 227,
   "metadata": {},
   "outputs": [],
   "source": [
    "df_Ex_SR = df_SR-df_RF.values"
   ]
  },
  {
   "cell_type": "code",
   "execution_count": 228,
   "metadata": {},
   "outputs": [],
   "source": [
    "df_Ex_SR = df_Ex_SR.loc[df_FF4.index,:]"
   ]
  },
  {
   "cell_type": "code",
   "execution_count": 229,
   "metadata": {},
   "outputs": [],
   "source": [
    "n = 3\n",
    "holding = 21\n",
    "rollingW = holding * n *12\n",
    "lens = len(df_FF4)\n",
    "periods = int((lens - rollingW) / holding) - 1"
   ]
  },
  {
   "cell_type": "code",
   "execution_count": 230,
   "metadata": {
    "scrolled": true
   },
   "outputs": [
    {
     "name": "stderr",
     "output_type": "stream",
     "text": [
      "100%|██████████| 189/189 [01:50<00:00,  1.70it/s]\n"
     ]
    }
   ],
   "source": [
    "all_betas = []\n",
    "# i is time\n",
    "for i in tqdm(range(periods)):\n",
    "\n",
    "    df_FF4_tmp = df_FF4.iloc[i*holding:i*holding+rollingW,:]\n",
    "    df_Ex_SR_tmp = df_Ex_SR.iloc[i*holding:i*holding+rollingW,:]\n",
    "    \n",
    "    betas = []\n",
    "    # j is stock\n",
    "    for j in df_Ex_SR.columns:\n",
    "        df_index = df_Ex_SR_tmp.loc[:,j].dropna().index\n",
    "        \n",
    "        if len(df_index) != 0:\n",
    "            b = list(ols_model.fit(df_FF4_tmp.loc[df_index,:].values, df_Ex_SR_tmp.loc[df_index,j].values).coef_)\n",
    "            b.append(j)\n",
    "            betas.append(b)\n",
    "    df_betas = pd.DataFrame(np.array(betas)).rename(columns={0:'MKT',1:'SMB',2:'HML',3:'WML',4:'stock'}).set_index('stock')\n",
    "    \n",
    "    all_betas.append(df_betas)\n",
    "\n"
   ]
  },
  {
   "cell_type": "code",
   "execution_count": 231,
   "metadata": {
    "scrolled": true
   },
   "outputs": [
    {
     "data": {
      "text/html": [
       "<div>\n",
       "<style scoped>\n",
       "    .dataframe tbody tr th:only-of-type {\n",
       "        vertical-align: middle;\n",
       "    }\n",
       "\n",
       "    .dataframe tbody tr th {\n",
       "        vertical-align: top;\n",
       "    }\n",
       "\n",
       "    .dataframe thead th {\n",
       "        text-align: right;\n",
       "    }\n",
       "</style>\n",
       "<table border=\"1\" class=\"dataframe\">\n",
       "  <thead>\n",
       "    <tr style=\"text-align: right;\">\n",
       "      <th></th>\n",
       "      <th>MKT</th>\n",
       "      <th>SMB</th>\n",
       "      <th>HML</th>\n",
       "      <th>WML</th>\n",
       "    </tr>\n",
       "    <tr>\n",
       "      <th>stock</th>\n",
       "      <th></th>\n",
       "      <th></th>\n",
       "      <th></th>\n",
       "      <th></th>\n",
       "    </tr>\n",
       "  </thead>\n",
       "  <tbody>\n",
       "    <tr>\n",
       "      <th>ABC.SJ.Equity</th>\n",
       "      <td>-0.11912824594681116</td>\n",
       "      <td>-0.7158135966449568</td>\n",
       "      <td>0.8771803416462147</td>\n",
       "      <td>0.02946870859844191</td>\n",
       "    </tr>\n",
       "    <tr>\n",
       "      <th>ABI.SJ.Equity</th>\n",
       "      <td>0.2565406592736406</td>\n",
       "      <td>-0.02454098983150671</td>\n",
       "      <td>-0.0012704349782666977</td>\n",
       "      <td>0.14757070777909076</td>\n",
       "    </tr>\n",
       "    <tr>\n",
       "      <th>ABR.SJ.Equity</th>\n",
       "      <td>-0.21782838888249048</td>\n",
       "      <td>0.7143299717167659</td>\n",
       "      <td>-0.3041879543800899</td>\n",
       "      <td>0.6649364686134615</td>\n",
       "    </tr>\n",
       "    <tr>\n",
       "      <th>ACL.SJ.Equity</th>\n",
       "      <td>0.9163624169149315</td>\n",
       "      <td>1.3622938396494353</td>\n",
       "      <td>-0.050489623789941485</td>\n",
       "      <td>-0.4023141895245076</td>\n",
       "    </tr>\n",
       "    <tr>\n",
       "      <th>ACP.SJ.Equity</th>\n",
       "      <td>-0.03911198706166802</td>\n",
       "      <td>-0.05342373907668338</td>\n",
       "      <td>0.141827729168983</td>\n",
       "      <td>-0.03886119462193846</td>\n",
       "    </tr>\n",
       "    <tr>\n",
       "      <th>...</th>\n",
       "      <td>...</td>\n",
       "      <td>...</td>\n",
       "      <td>...</td>\n",
       "      <td>...</td>\n",
       "    </tr>\n",
       "    <tr>\n",
       "      <th>WTC.SJ.Equity</th>\n",
       "      <td>0.06880709440199435</td>\n",
       "      <td>-0.15813920051641667</td>\n",
       "      <td>-0.22722337605522291</td>\n",
       "      <td>0.22642665726679068</td>\n",
       "    </tr>\n",
       "    <tr>\n",
       "      <th>YRK.SJ.Equity</th>\n",
       "      <td>-0.07113888790500746</td>\n",
       "      <td>-0.09560938188299126</td>\n",
       "      <td>0.10032490370604473</td>\n",
       "      <td>0.12128860250395175</td>\n",
       "    </tr>\n",
       "    <tr>\n",
       "      <th>ZPT.SJ.Equity</th>\n",
       "      <td>0.07018070220958815</td>\n",
       "      <td>-1.0261899736829472</td>\n",
       "      <td>-0.2824764496101648</td>\n",
       "      <td>1.2379726804295152</td>\n",
       "    </tr>\n",
       "    <tr>\n",
       "      <th>ZRR.SJ.Equity</th>\n",
       "      <td>0.1534607993317428</td>\n",
       "      <td>1.2803830127645452</td>\n",
       "      <td>-0.4959856753386197</td>\n",
       "      <td>0.22207693545777155</td>\n",
       "    </tr>\n",
       "    <tr>\n",
       "      <th>ZSA.SJ.Equity</th>\n",
       "      <td>-0.006480417314083875</td>\n",
       "      <td>0.05085139393144171</td>\n",
       "      <td>-0.038976309196300664</td>\n",
       "      <td>-0.03993324570435006</td>\n",
       "    </tr>\n",
       "  </tbody>\n",
       "</table>\n",
       "<p>523 rows × 4 columns</p>\n",
       "</div>"
      ],
      "text/plain": [
       "                                 MKT                   SMB  \\\n",
       "stock                                                        \n",
       "ABC.SJ.Equity   -0.11912824594681116   -0.7158135966449568   \n",
       "ABI.SJ.Equity     0.2565406592736406  -0.02454098983150671   \n",
       "ABR.SJ.Equity   -0.21782838888249048    0.7143299717167659   \n",
       "ACL.SJ.Equity     0.9163624169149315    1.3622938396494353   \n",
       "ACP.SJ.Equity   -0.03911198706166802  -0.05342373907668338   \n",
       "...                              ...                   ...   \n",
       "WTC.SJ.Equity    0.06880709440199435  -0.15813920051641667   \n",
       "YRK.SJ.Equity   -0.07113888790500746  -0.09560938188299126   \n",
       "ZPT.SJ.Equity    0.07018070220958815   -1.0261899736829472   \n",
       "ZRR.SJ.Equity     0.1534607993317428    1.2803830127645452   \n",
       "ZSA.SJ.Equity  -0.006480417314083875   0.05085139393144171   \n",
       "\n",
       "                                  HML                   WML  \n",
       "stock                                                        \n",
       "ABC.SJ.Equity      0.8771803416462147   0.02946870859844191  \n",
       "ABI.SJ.Equity  -0.0012704349782666977   0.14757070777909076  \n",
       "ABR.SJ.Equity     -0.3041879543800899    0.6649364686134615  \n",
       "ACL.SJ.Equity   -0.050489623789941485   -0.4023141895245076  \n",
       "ACP.SJ.Equity       0.141827729168983  -0.03886119462193846  \n",
       "...                               ...                   ...  \n",
       "WTC.SJ.Equity    -0.22722337605522291   0.22642665726679068  \n",
       "YRK.SJ.Equity     0.10032490370604473   0.12128860250395175  \n",
       "ZPT.SJ.Equity     -0.2824764496101648    1.2379726804295152  \n",
       "ZRR.SJ.Equity     -0.4959856753386197   0.22207693545777155  \n",
       "ZSA.SJ.Equity   -0.038976309196300664  -0.03993324570435006  \n",
       "\n",
       "[523 rows x 4 columns]"
      ]
     },
     "execution_count": 231,
     "metadata": {},
     "output_type": "execute_result"
    }
   ],
   "source": [
    "all_betas[0]"
   ]
  },
  {
   "cell_type": "code",
   "execution_count": 232,
   "metadata": {},
   "outputs": [
    {
     "name": "stderr",
     "output_type": "stream",
     "text": [
      "100%|██████████| 3969/3969 [00:10<00:00, 380.21it/s]\n"
     ]
    }
   ],
   "source": [
    "all_lambdas = []\n",
    "all_intercepts = []\n",
    "# i is time\n",
    "\n",
    "df_Ex_SR_tmp_T = df_Ex_SR.iloc[rollingW:rollingW+periods*holding,:].T\n",
    "\n",
    "lambdas = []\n",
    "intercepts = []\n",
    "index_times = list(df_Ex_SR_tmp_T.columns)\n",
    "\n",
    "for k in tqdm(df_Ex_SR_tmp_T.columns):\n",
    "    \n",
    "    i = int(index_times.index(k) / holding)\n",
    "\n",
    "    df_return = df_Ex_SR_tmp_T.loc[all_betas[i].index,k].dropna()\n",
    "    df_index = df_return.index\n",
    "    \n",
    "    if len(df_index) != 0:\n",
    "        l = list(ols_model.fit(all_betas[i].loc[df_index,:].values, df_return.values).coef_)\n",
    "        h = ols_model.fit(all_betas[i].loc[df_index,:].values, df_return.values).intercept_\n",
    "        lambdas.append(l)\n",
    "        intercepts.append(h)\n",
    "all_lambdas.append(pd.DataFrame(lambdas))\n",
    "all_intercepts.append(pd.DataFrame(intercepts))"
   ]
  },
  {
   "cell_type": "code",
   "execution_count": 233,
   "metadata": {
    "scrolled": true
   },
   "outputs": [
    {
     "data": {
      "text/html": [
       "<div>\n",
       "<style scoped>\n",
       "    .dataframe tbody tr th:only-of-type {\n",
       "        vertical-align: middle;\n",
       "    }\n",
       "\n",
       "    .dataframe tbody tr th {\n",
       "        vertical-align: top;\n",
       "    }\n",
       "\n",
       "    .dataframe thead th {\n",
       "        text-align: right;\n",
       "    }\n",
       "</style>\n",
       "<table border=\"1\" class=\"dataframe\">\n",
       "  <thead>\n",
       "    <tr style=\"text-align: right;\">\n",
       "      <th></th>\n",
       "      <th>MKT</th>\n",
       "      <th>SMB</th>\n",
       "      <th>HML</th>\n",
       "      <th>WML</th>\n",
       "    </tr>\n",
       "  </thead>\n",
       "  <tbody>\n",
       "    <tr>\n",
       "      <th>0</th>\n",
       "      <td>0.000895</td>\n",
       "      <td>-0.000110</td>\n",
       "      <td>-0.004220</td>\n",
       "      <td>0.001597</td>\n",
       "    </tr>\n",
       "    <tr>\n",
       "      <th>1</th>\n",
       "      <td>0.006620</td>\n",
       "      <td>-0.000723</td>\n",
       "      <td>0.004330</td>\n",
       "      <td>0.008316</td>\n",
       "    </tr>\n",
       "    <tr>\n",
       "      <th>2</th>\n",
       "      <td>-0.003732</td>\n",
       "      <td>0.006177</td>\n",
       "      <td>0.002334</td>\n",
       "      <td>-0.014557</td>\n",
       "    </tr>\n",
       "    <tr>\n",
       "      <th>3</th>\n",
       "      <td>-0.004576</td>\n",
       "      <td>0.008492</td>\n",
       "      <td>0.004944</td>\n",
       "      <td>0.000501</td>\n",
       "    </tr>\n",
       "    <tr>\n",
       "      <th>4</th>\n",
       "      <td>-0.001328</td>\n",
       "      <td>0.001161</td>\n",
       "      <td>0.003132</td>\n",
       "      <td>0.008559</td>\n",
       "    </tr>\n",
       "    <tr>\n",
       "      <th>...</th>\n",
       "      <td>...</td>\n",
       "      <td>...</td>\n",
       "      <td>...</td>\n",
       "      <td>...</td>\n",
       "    </tr>\n",
       "    <tr>\n",
       "      <th>3964</th>\n",
       "      <td>0.002212</td>\n",
       "      <td>0.003199</td>\n",
       "      <td>0.004573</td>\n",
       "      <td>-0.015733</td>\n",
       "    </tr>\n",
       "    <tr>\n",
       "      <th>3965</th>\n",
       "      <td>-0.004973</td>\n",
       "      <td>0.000154</td>\n",
       "      <td>-0.004593</td>\n",
       "      <td>-0.006758</td>\n",
       "    </tr>\n",
       "    <tr>\n",
       "      <th>3966</th>\n",
       "      <td>0.008423</td>\n",
       "      <td>-0.000261</td>\n",
       "      <td>-0.010065</td>\n",
       "      <td>0.016061</td>\n",
       "    </tr>\n",
       "    <tr>\n",
       "      <th>3967</th>\n",
       "      <td>-0.005797</td>\n",
       "      <td>0.001535</td>\n",
       "      <td>0.004377</td>\n",
       "      <td>0.004697</td>\n",
       "    </tr>\n",
       "    <tr>\n",
       "      <th>3968</th>\n",
       "      <td>0.007807</td>\n",
       "      <td>0.004257</td>\n",
       "      <td>0.005096</td>\n",
       "      <td>0.002266</td>\n",
       "    </tr>\n",
       "  </tbody>\n",
       "</table>\n",
       "<p>3969 rows × 4 columns</p>\n",
       "</div>"
      ],
      "text/plain": [
       "           MKT       SMB       HML       WML\n",
       "0     0.000895 -0.000110 -0.004220  0.001597\n",
       "1     0.006620 -0.000723  0.004330  0.008316\n",
       "2    -0.003732  0.006177  0.002334 -0.014557\n",
       "3    -0.004576  0.008492  0.004944  0.000501\n",
       "4    -0.001328  0.001161  0.003132  0.008559\n",
       "...        ...       ...       ...       ...\n",
       "3964  0.002212  0.003199  0.004573 -0.015733\n",
       "3965 -0.004973  0.000154 -0.004593 -0.006758\n",
       "3966  0.008423 -0.000261 -0.010065  0.016061\n",
       "3967 -0.005797  0.001535  0.004377  0.004697\n",
       "3968  0.007807  0.004257  0.005096  0.002266\n",
       "\n",
       "[3969 rows x 4 columns]"
      ]
     },
     "execution_count": 233,
     "metadata": {},
     "output_type": "execute_result"
    }
   ],
   "source": [
    "all_lambdas[0].rename(columns={0:'MKT',1:'SMB',2:'HML',3:'WML'})"
   ]
  },
  {
   "cell_type": "code",
   "execution_count": 234,
   "metadata": {},
   "outputs": [
    {
     "data": {
      "text/plain": [
       "0   -0.269634\n",
       "dtype: float64"
      ]
     },
     "execution_count": 234,
     "metadata": {},
     "output_type": "execute_result"
    }
   ],
   "source": [
    "np.mean(all_intercepts[0])*21*100"
   ]
  },
  {
   "cell_type": "code",
   "execution_count": 235,
   "metadata": {},
   "outputs": [
    {
     "data": {
      "text/plain": [
       "0    0.168697\n",
       "1   -0.104591\n",
       "2   -0.262250\n",
       "3    0.399002\n",
       "dtype: float64"
      ]
     },
     "execution_count": 235,
     "metadata": {},
     "output_type": "execute_result"
    }
   ],
   "source": [
    "np.mean(all_lambdas[0])*21*100"
   ]
  },
  {
   "cell_type": "code",
   "execution_count": 236,
   "metadata": {},
   "outputs": [
    {
     "data": {
      "text/plain": [
       "Ttest_1sampResult(statistic=array([-6.41252278]), pvalue=array([1.59918663e-10]))"
      ]
     },
     "execution_count": 236,
     "metadata": {},
     "output_type": "execute_result"
    }
   ],
   "source": [
    "stats.ttest_1samp(all_intercepts[0], 0.0)"
   ]
  },
  {
   "cell_type": "code",
   "execution_count": 237,
   "metadata": {
    "scrolled": false
   },
   "outputs": [
    {
     "data": {
      "text/plain": [
       "Ttest_1sampResult(statistic=array([ 0.46172348, -0.57528994, -1.1966937 ,  1.44537221]), pvalue=array([0.64430494, 0.56512784, 0.23149746, 0.14843233]))"
      ]
     },
     "execution_count": 237,
     "metadata": {},
     "output_type": "execute_result"
    }
   ],
   "source": [
    "stats.ttest_1samp(all_lambdas[0], 0.0)"
   ]
  },
  {
   "cell_type": "code",
   "execution_count": 81,
   "metadata": {},
   "outputs": [
    {
     "data": {
      "text/plain": [
       "array([ 0.3249548 , -0.38617328, -0.34223017,  0.86988668])"
      ]
     },
     "execution_count": 81,
     "metadata": {},
     "output_type": "execute_result"
    }
   ],
   "source": [
    "## Newey-West Adjustment \n",
    "all_lambdas[0].apply(lambda x: NW_ttest(ret = x, h0=0), axis=0).values"
   ]
  },
  {
   "cell_type": "markdown",
   "metadata": {},
   "source": [
    "## FF5-Factor_OLS (Time-Varying Betas)"
   ]
  },
  {
   "cell_type": "code",
   "execution_count": 82,
   "metadata": {},
   "outputs": [],
   "source": [
    "ols_model = LinearRegression()"
   ]
  },
  {
   "cell_type": "code",
   "execution_count": 83,
   "metadata": {},
   "outputs": [],
   "source": [
    "df_FF5 = pd.read_csv('df_FF5.csv')"
   ]
  },
  {
   "cell_type": "code",
   "execution_count": 84,
   "metadata": {},
   "outputs": [],
   "source": [
    "df_FF5.Dates = df_FF5.Dates.apply(lambda x:x[:10])"
   ]
  },
  {
   "cell_type": "code",
   "execution_count": 85,
   "metadata": {},
   "outputs": [],
   "source": [
    "df_FF5.set_index('Dates',inplace=True)"
   ]
  },
  {
   "cell_type": "code",
   "execution_count": 86,
   "metadata": {},
   "outputs": [],
   "source": [
    "df_RF = pd.read_csv('df_RF.csv',index_col=0)\n",
    "df_SR = pd.read_csv('df_SR.csv',index_col=0)\n",
    "df_SR.index = df_SR.index.to_series().apply(lambda x:x[:10])"
   ]
  },
  {
   "cell_type": "code",
   "execution_count": 87,
   "metadata": {},
   "outputs": [],
   "source": [
    "df_Ex_SR = df_SR-df_RF.values"
   ]
  },
  {
   "cell_type": "code",
   "execution_count": 88,
   "metadata": {},
   "outputs": [],
   "source": [
    "df_Ex_SR = df_Ex_SR.loc[df_FF5.index,:]"
   ]
  },
  {
   "cell_type": "code",
   "execution_count": 89,
   "metadata": {},
   "outputs": [
    {
     "data": {
      "text/plain": [
       "189"
      ]
     },
     "execution_count": 89,
     "metadata": {},
     "output_type": "execute_result"
    }
   ],
   "source": [
    "n = 3\n",
    "holding = 21\n",
    "rollingW = holding * n *12\n",
    "lens = len(df_FF5)\n",
    "periods = int((lens - rollingW) / holding) - 1\n",
    "periods"
   ]
  },
  {
   "cell_type": "code",
   "execution_count": 90,
   "metadata": {},
   "outputs": [
    {
     "name": "stderr",
     "output_type": "stream",
     "text": [
      "100%|██████████| 189/189 [02:02<00:00,  1.54it/s]\n"
     ]
    }
   ],
   "source": [
    "all_betas = []\n",
    "# i is time\n",
    "for i in tqdm(range(periods)):\n",
    "\n",
    "    df_FF5_tmp = df_FF5.iloc[i*holding:i*holding+rollingW,:]\n",
    "    df_Ex_SR_tmp = df_Ex_SR.iloc[i*holding:i*holding+rollingW,:]\n",
    "    \n",
    "    betas = []\n",
    "    # j is stock\n",
    "    for j in df_Ex_SR.columns:\n",
    "        df_index = df_Ex_SR_tmp.loc[:,j].dropna().index\n",
    "        \n",
    "        if len(df_index) != 0:\n",
    "#             b = list(ols_model.fit(pd.DataFrame(df_FF5_tmp.loc[df_index,'RMW']).values, df_Ex_SR_tmp.loc[df_index,j].values).coef_)\n",
    "            b = list(ols_model.fit(df_FF5_tmp.loc[df_index,:].values, df_Ex_SR_tmp.loc[df_index,j].values).coef_)\n",
    "            b.append(j)\n",
    "            betas.append(b)\n",
    "    df_betas = pd.DataFrame(np.array(betas)).rename(columns={0:'MKT',1:'SMB',2:'HML',3:'RMW',4:'CMA',5:'stock'}).set_index('stock')\n",
    "    \n",
    "    all_betas.append(df_betas)\n",
    "\n"
   ]
  },
  {
   "cell_type": "code",
   "execution_count": 91,
   "metadata": {
    "scrolled": true
   },
   "outputs": [
    {
     "data": {
      "text/html": [
       "<div>\n",
       "<style scoped>\n",
       "    .dataframe tbody tr th:only-of-type {\n",
       "        vertical-align: middle;\n",
       "    }\n",
       "\n",
       "    .dataframe tbody tr th {\n",
       "        vertical-align: top;\n",
       "    }\n",
       "\n",
       "    .dataframe thead th {\n",
       "        text-align: right;\n",
       "    }\n",
       "</style>\n",
       "<table border=\"1\" class=\"dataframe\">\n",
       "  <thead>\n",
       "    <tr style=\"text-align: right;\">\n",
       "      <th></th>\n",
       "      <th>MKT</th>\n",
       "      <th>SMB</th>\n",
       "      <th>HML</th>\n",
       "      <th>RMW</th>\n",
       "      <th>CMA</th>\n",
       "    </tr>\n",
       "    <tr>\n",
       "      <th>stock</th>\n",
       "      <th></th>\n",
       "      <th></th>\n",
       "      <th></th>\n",
       "      <th></th>\n",
       "      <th></th>\n",
       "    </tr>\n",
       "  </thead>\n",
       "  <tbody>\n",
       "    <tr>\n",
       "      <th>ABC.SJ.Equity</th>\n",
       "      <td>-0.12517957365259594</td>\n",
       "      <td>-0.2091896517993868</td>\n",
       "      <td>0.4227074165532479</td>\n",
       "      <td>0.3216544488317023</td>\n",
       "      <td>-0.020897113893007115</td>\n",
       "    </tr>\n",
       "    <tr>\n",
       "      <th>ABI.SJ.Equity</th>\n",
       "      <td>0.25475608094329316</td>\n",
       "      <td>-0.005704640473529608</td>\n",
       "      <td>-0.07188377839469011</td>\n",
       "      <td>-0.021825695093243627</td>\n",
       "      <td>-0.010657294131003286</td>\n",
       "    </tr>\n",
       "    <tr>\n",
       "      <th>ABR.SJ.Equity</th>\n",
       "      <td>-0.1722271205020849</td>\n",
       "      <td>0.654491059909995</td>\n",
       "      <td>0.1532440768833887</td>\n",
       "      <td>0.24924461619846072</td>\n",
       "      <td>-0.7858609424188141</td>\n",
       "    </tr>\n",
       "    <tr>\n",
       "      <th>ACL.SJ.Equity</th>\n",
       "      <td>0.8871324045072376</td>\n",
       "      <td>0.3900499220941924</td>\n",
       "      <td>-0.31435195665589866</td>\n",
       "      <td>0.029524922668776862</td>\n",
       "      <td>0.1236554423053057</td>\n",
       "    </tr>\n",
       "    <tr>\n",
       "      <th>ACP.SJ.Equity</th>\n",
       "      <td>-0.04623652159130903</td>\n",
       "      <td>-0.022110306217258055</td>\n",
       "      <td>0.009174940496090259</td>\n",
       "      <td>9.587545188934695e-05</td>\n",
       "      <td>0.06326041913667686</td>\n",
       "    </tr>\n",
       "    <tr>\n",
       "      <th>...</th>\n",
       "      <td>...</td>\n",
       "      <td>...</td>\n",
       "      <td>...</td>\n",
       "      <td>...</td>\n",
       "      <td>...</td>\n",
       "    </tr>\n",
       "    <tr>\n",
       "      <th>WTC.SJ.Equity</th>\n",
       "      <td>0.0789508451474771</td>\n",
       "      <td>-0.02985422178711064</td>\n",
       "      <td>-0.09987158726440265</td>\n",
       "      <td>-0.04919730658081146</td>\n",
       "      <td>-0.1533213262625501</td>\n",
       "    </tr>\n",
       "    <tr>\n",
       "      <th>YRK.SJ.Equity</th>\n",
       "      <td>-0.06894099514428187</td>\n",
       "      <td>-0.024121511915577702</td>\n",
       "      <td>0.07488725720547793</td>\n",
       "      <td>0.08125275916690569</td>\n",
       "      <td>-0.027013071461621806</td>\n",
       "    </tr>\n",
       "    <tr>\n",
       "      <th>ZPT.SJ.Equity</th>\n",
       "      <td>0.11092437919860249</td>\n",
       "      <td>-0.12174922618399239</td>\n",
       "      <td>-0.04611782914177426</td>\n",
       "      <td>-0.19699976183430615</td>\n",
       "      <td>-0.41066526548331667</td>\n",
       "    </tr>\n",
       "    <tr>\n",
       "      <th>ZRR.SJ.Equity</th>\n",
       "      <td>0.13781598903957332</td>\n",
       "      <td>0.2820699070958408</td>\n",
       "      <td>-0.4215211839414583</td>\n",
       "      <td>0.23866381140893322</td>\n",
       "      <td>0.05609288859677848</td>\n",
       "    </tr>\n",
       "    <tr>\n",
       "      <th>ZSA.SJ.Equity</th>\n",
       "      <td>-0.011317013415991983</td>\n",
       "      <td>0.0183513060400912</td>\n",
       "      <td>-0.05227299524801801</td>\n",
       "      <td>0.06784912539230507</td>\n",
       "      <td>0.044065723506862234</td>\n",
       "    </tr>\n",
       "  </tbody>\n",
       "</table>\n",
       "<p>523 rows × 5 columns</p>\n",
       "</div>"
      ],
      "text/plain": [
       "                                 MKT                    SMB  \\\n",
       "stock                                                         \n",
       "ABC.SJ.Equity   -0.12517957365259594    -0.2091896517993868   \n",
       "ABI.SJ.Equity    0.25475608094329316  -0.005704640473529608   \n",
       "ABR.SJ.Equity    -0.1722271205020849      0.654491059909995   \n",
       "ACL.SJ.Equity     0.8871324045072376     0.3900499220941924   \n",
       "ACP.SJ.Equity   -0.04623652159130903  -0.022110306217258055   \n",
       "...                              ...                    ...   \n",
       "WTC.SJ.Equity     0.0789508451474771   -0.02985422178711064   \n",
       "YRK.SJ.Equity   -0.06894099514428187  -0.024121511915577702   \n",
       "ZPT.SJ.Equity    0.11092437919860249   -0.12174922618399239   \n",
       "ZRR.SJ.Equity    0.13781598903957332     0.2820699070958408   \n",
       "ZSA.SJ.Equity  -0.011317013415991983     0.0183513060400912   \n",
       "\n",
       "                                HML                    RMW  \\\n",
       "stock                                                        \n",
       "ABC.SJ.Equity    0.4227074165532479     0.3216544488317023   \n",
       "ABI.SJ.Equity  -0.07188377839469011  -0.021825695093243627   \n",
       "ABR.SJ.Equity    0.1532440768833887    0.24924461619846072   \n",
       "ACL.SJ.Equity  -0.31435195665589866   0.029524922668776862   \n",
       "ACP.SJ.Equity  0.009174940496090259  9.587545188934695e-05   \n",
       "...                             ...                    ...   \n",
       "WTC.SJ.Equity  -0.09987158726440265   -0.04919730658081146   \n",
       "YRK.SJ.Equity   0.07488725720547793    0.08125275916690569   \n",
       "ZPT.SJ.Equity  -0.04611782914177426   -0.19699976183430615   \n",
       "ZRR.SJ.Equity   -0.4215211839414583    0.23866381140893322   \n",
       "ZSA.SJ.Equity  -0.05227299524801801    0.06784912539230507   \n",
       "\n",
       "                                 CMA  \n",
       "stock                                 \n",
       "ABC.SJ.Equity  -0.020897113893007115  \n",
       "ABI.SJ.Equity  -0.010657294131003286  \n",
       "ABR.SJ.Equity    -0.7858609424188141  \n",
       "ACL.SJ.Equity     0.1236554423053057  \n",
       "ACP.SJ.Equity    0.06326041913667686  \n",
       "...                              ...  \n",
       "WTC.SJ.Equity    -0.1533213262625501  \n",
       "YRK.SJ.Equity  -0.027013071461621806  \n",
       "ZPT.SJ.Equity   -0.41066526548331667  \n",
       "ZRR.SJ.Equity    0.05609288859677848  \n",
       "ZSA.SJ.Equity   0.044065723506862234  \n",
       "\n",
       "[523 rows x 5 columns]"
      ]
     },
     "execution_count": 91,
     "metadata": {},
     "output_type": "execute_result"
    }
   ],
   "source": [
    "all_betas[0]"
   ]
  },
  {
   "cell_type": "code",
   "execution_count": 92,
   "metadata": {},
   "outputs": [
    {
     "name": "stderr",
     "output_type": "stream",
     "text": [
      "100%|██████████| 3969/3969 [00:12<00:00, 306.20it/s]\n"
     ]
    }
   ],
   "source": [
    "all_lambdas = []\n",
    "all_intercepts = []\n",
    "# i is time\n",
    "\n",
    "df_Ex_SR_tmp_T = df_Ex_SR.iloc[rollingW:rollingW+periods*holding,:].T\n",
    "\n",
    "lambdas = []\n",
    "intercepts = []\n",
    "index_times = list(df_Ex_SR_tmp_T.columns)\n",
    "\n",
    "for k in tqdm(df_Ex_SR_tmp_T.columns):\n",
    "    \n",
    "    i = int(index_times.index(k) / holding)\n",
    "\n",
    "    df_return = df_Ex_SR_tmp_T.loc[all_betas[i].index,k].dropna()\n",
    "    df_index = df_return.index\n",
    "    \n",
    "    if len(df_index) != 0:\n",
    "        l = list(ols_model.fit(all_betas[i].loc[df_index,:].values, df_return.values).coef_)\n",
    "        h = ols_model.fit(all_betas[i].loc[df_index,:].values, df_return.values).intercept_\n",
    "        lambdas.append(l)\n",
    "        intercepts.append(h)\n",
    "all_lambdas.append(pd.DataFrame(lambdas))\n",
    "all_intercepts.append(pd.DataFrame(intercepts))"
   ]
  },
  {
   "cell_type": "code",
   "execution_count": 93,
   "metadata": {},
   "outputs": [
    {
     "data": {
      "text/html": [
       "<div>\n",
       "<style scoped>\n",
       "    .dataframe tbody tr th:only-of-type {\n",
       "        vertical-align: middle;\n",
       "    }\n",
       "\n",
       "    .dataframe tbody tr th {\n",
       "        vertical-align: top;\n",
       "    }\n",
       "\n",
       "    .dataframe thead th {\n",
       "        text-align: right;\n",
       "    }\n",
       "</style>\n",
       "<table border=\"1\" class=\"dataframe\">\n",
       "  <thead>\n",
       "    <tr style=\"text-align: right;\">\n",
       "      <th></th>\n",
       "      <th>MKT</th>\n",
       "      <th>SMB</th>\n",
       "      <th>HML</th>\n",
       "      <th>RMW</th>\n",
       "      <th>CMA</th>\n",
       "    </tr>\n",
       "  </thead>\n",
       "  <tbody>\n",
       "    <tr>\n",
       "      <th>0</th>\n",
       "      <td>0.005193</td>\n",
       "      <td>0.000292</td>\n",
       "      <td>0.003356</td>\n",
       "      <td>0.005321</td>\n",
       "      <td>0.010622</td>\n",
       "    </tr>\n",
       "    <tr>\n",
       "      <th>1</th>\n",
       "      <td>0.007094</td>\n",
       "      <td>-0.017923</td>\n",
       "      <td>0.001646</td>\n",
       "      <td>-0.002314</td>\n",
       "      <td>-0.008996</td>\n",
       "    </tr>\n",
       "    <tr>\n",
       "      <th>2</th>\n",
       "      <td>-0.013367</td>\n",
       "      <td>-0.035686</td>\n",
       "      <td>0.000662</td>\n",
       "      <td>-0.009443</td>\n",
       "      <td>-0.015719</td>\n",
       "    </tr>\n",
       "    <tr>\n",
       "      <th>3</th>\n",
       "      <td>-0.001758</td>\n",
       "      <td>0.032430</td>\n",
       "      <td>0.003745</td>\n",
       "      <td>-0.004116</td>\n",
       "      <td>0.003762</td>\n",
       "    </tr>\n",
       "    <tr>\n",
       "      <th>4</th>\n",
       "      <td>-0.004108</td>\n",
       "      <td>-0.027834</td>\n",
       "      <td>0.012470</td>\n",
       "      <td>-0.006053</td>\n",
       "      <td>-0.021529</td>\n",
       "    </tr>\n",
       "    <tr>\n",
       "      <th>...</th>\n",
       "      <td>...</td>\n",
       "      <td>...</td>\n",
       "      <td>...</td>\n",
       "      <td>...</td>\n",
       "      <td>...</td>\n",
       "    </tr>\n",
       "    <tr>\n",
       "      <th>3964</th>\n",
       "      <td>0.003520</td>\n",
       "      <td>0.006802</td>\n",
       "      <td>0.002977</td>\n",
       "      <td>-0.003534</td>\n",
       "      <td>-0.000691</td>\n",
       "    </tr>\n",
       "    <tr>\n",
       "      <th>3965</th>\n",
       "      <td>-0.005286</td>\n",
       "      <td>-0.008832</td>\n",
       "      <td>-0.003774</td>\n",
       "      <td>-0.001429</td>\n",
       "      <td>0.009736</td>\n",
       "    </tr>\n",
       "    <tr>\n",
       "      <th>3966</th>\n",
       "      <td>0.006937</td>\n",
       "      <td>-0.000962</td>\n",
       "      <td>-0.007273</td>\n",
       "      <td>0.021038</td>\n",
       "      <td>-0.004700</td>\n",
       "    </tr>\n",
       "    <tr>\n",
       "      <th>3967</th>\n",
       "      <td>-0.006199</td>\n",
       "      <td>0.002293</td>\n",
       "      <td>0.000579</td>\n",
       "      <td>0.004934</td>\n",
       "      <td>-0.001256</td>\n",
       "    </tr>\n",
       "    <tr>\n",
       "      <th>3968</th>\n",
       "      <td>0.007566</td>\n",
       "      <td>0.021454</td>\n",
       "      <td>0.010759</td>\n",
       "      <td>-0.011371</td>\n",
       "      <td>0.004581</td>\n",
       "    </tr>\n",
       "  </tbody>\n",
       "</table>\n",
       "<p>3969 rows × 5 columns</p>\n",
       "</div>"
      ],
      "text/plain": [
       "           MKT       SMB       HML       RMW       CMA\n",
       "0     0.005193  0.000292  0.003356  0.005321  0.010622\n",
       "1     0.007094 -0.017923  0.001646 -0.002314 -0.008996\n",
       "2    -0.013367 -0.035686  0.000662 -0.009443 -0.015719\n",
       "3    -0.001758  0.032430  0.003745 -0.004116  0.003762\n",
       "4    -0.004108 -0.027834  0.012470 -0.006053 -0.021529\n",
       "...        ...       ...       ...       ...       ...\n",
       "3964  0.003520  0.006802  0.002977 -0.003534 -0.000691\n",
       "3965 -0.005286 -0.008832 -0.003774 -0.001429  0.009736\n",
       "3966  0.006937 -0.000962 -0.007273  0.021038 -0.004700\n",
       "3967 -0.006199  0.002293  0.000579  0.004934 -0.001256\n",
       "3968  0.007566  0.021454  0.010759 -0.011371  0.004581\n",
       "\n",
       "[3969 rows x 5 columns]"
      ]
     },
     "execution_count": 93,
     "metadata": {},
     "output_type": "execute_result"
    }
   ],
   "source": [
    "all_lambdas[0].rename(columns={0:'MKT',1:'SMB',2:'HML',3:'RMW',4:'CMA'})"
   ]
  },
  {
   "cell_type": "code",
   "execution_count": 94,
   "metadata": {},
   "outputs": [
    {
     "data": {
      "text/plain": [
       "0   -0.268412\n",
       "dtype: float64"
      ]
     },
     "execution_count": 94,
     "metadata": {},
     "output_type": "execute_result"
    }
   ],
   "source": [
    "np.mean(all_intercepts[0])*21*100"
   ]
  },
  {
   "cell_type": "code",
   "execution_count": 95,
   "metadata": {},
   "outputs": [
    {
     "data": {
      "text/plain": [
       "0    0.242504\n",
       "1   -0.385902\n",
       "2   -0.216035\n",
       "3   -0.210640\n",
       "4    0.036737\n",
       "dtype: float64"
      ]
     },
     "execution_count": 95,
     "metadata": {},
     "output_type": "execute_result"
    }
   ],
   "source": [
    "np.mean(all_lambdas[0])*21*100"
   ]
  },
  {
   "cell_type": "code",
   "execution_count": 96,
   "metadata": {
    "scrolled": true
   },
   "outputs": [
    {
     "data": {
      "text/plain": [
       "Ttest_1sampResult(statistic=array([-6.40613493]), pvalue=array([1.66689131e-10]))"
      ]
     },
     "execution_count": 96,
     "metadata": {},
     "output_type": "execute_result"
    }
   ],
   "source": [
    "stats.ttest_1samp(all_intercepts[0], 0.0)"
   ]
  },
  {
   "cell_type": "code",
   "execution_count": 97,
   "metadata": {
    "scrolled": false
   },
   "outputs": [
    {
     "data": {
      "text/plain": [
       "Ttest_1sampResult(statistic=array([ 0.65588922, -0.63487161, -0.79057093, -0.73867379,  0.13302764]), pvalue=array([0.51193343, 0.52554876, 0.42924166, 0.46014879, 0.89417827]))"
      ]
     },
     "execution_count": 97,
     "metadata": {},
     "output_type": "execute_result"
    }
   ],
   "source": [
    "stats.ttest_1samp(all_lambdas[0], 0.0)"
   ]
  },
  {
   "cell_type": "code",
   "execution_count": 98,
   "metadata": {},
   "outputs": [
    {
     "data": {
      "text/plain": [
       "array([-3.50992885])"
      ]
     },
     "execution_count": 98,
     "metadata": {},
     "output_type": "execute_result"
    }
   ],
   "source": [
    "all_intercepts[0].apply(lambda x: NW_ttest(ret = x, h0=0), axis=0).values"
   ]
  },
  {
   "cell_type": "code",
   "execution_count": 99,
   "metadata": {
    "scrolled": true
   },
   "outputs": [
    {
     "data": {
      "text/plain": [
       "array([ 0.3912641 , -0.41508605, -0.51186748, -0.48023976,  0.08631757])"
      ]
     },
     "execution_count": 99,
     "metadata": {},
     "output_type": "execute_result"
    }
   ],
   "source": [
    "## Newey-West Adjustment \n",
    "all_lambdas[0].apply(lambda x: NW_ttest(ret = x, h0=0), axis=0).values"
   ]
  },
  {
   "cell_type": "markdown",
   "metadata": {},
   "source": [
    "### Adding Firm Characteristic as Control Variables"
   ]
  },
  {
   "cell_type": "code",
   "execution_count": 103,
   "metadata": {},
   "outputs": [],
   "source": [
    "ols_model = LinearRegression()"
   ]
  },
  {
   "cell_type": "code",
   "execution_count": 104,
   "metadata": {},
   "outputs": [],
   "source": [
    "df_RF = pd.read_csv('df_RF.csv',index_col=0)\n",
    "df_SR = pd.read_csv('df_SR.csv',index_col=0)\n",
    "df_SR.index = df_SR.index.to_series().apply(lambda x:x[:10])"
   ]
  },
  {
   "cell_type": "code",
   "execution_count": 105,
   "metadata": {},
   "outputs": [],
   "source": [
    "df_Ex_SR = df_SR-df_RF.values"
   ]
  },
  {
   "cell_type": "code",
   "execution_count": 106,
   "metadata": {},
   "outputs": [],
   "source": [
    "df_Ex_SR = df_Ex_SR.loc[df_FF5.index,:]"
   ]
  },
  {
   "cell_type": "code",
   "execution_count": 107,
   "metadata": {},
   "outputs": [],
   "source": [
    "df_OP = pd.read_csv('df_std_OP.csv')\n",
    "\n",
    "df_INV = pd.read_csv('df_std_INV.csv')\n",
    "\n",
    "df_OP.Dates = df_OP.Dates.apply(lambda x:x[:10])\n",
    "\n",
    "df_OP.set_index('Dates',inplace=True)\n",
    "\n",
    "df_INV.Dates = df_INV.Dates.apply(lambda x:x[:10])\n",
    "\n",
    "df_INV.set_index('Dates',inplace=True)"
   ]
  },
  {
   "cell_type": "code",
   "execution_count": 108,
   "metadata": {},
   "outputs": [],
   "source": [
    "df_ln_Size = pd.read_csv('df_ln_Size.csv')\n",
    "\n",
    "df_PE = pd.read_csv('df_std_PE.csv')\n",
    "\n",
    "df_ln_Size.Dates = df_ln_Size.Dates.apply(lambda x:x[:10])\n",
    "\n",
    "df_ln_Size.set_index('Dates',inplace=True)\n",
    "\n",
    "df_PE.Dates = df_PE.Dates.apply(lambda x:x[:10])\n",
    "\n",
    "df_PE.set_index('Dates',inplace=True)"
   ]
  },
  {
   "cell_type": "code",
   "execution_count": 109,
   "metadata": {},
   "outputs": [],
   "source": [
    "df_ln_Size = df_ln_Size.loc[df_Ex_SR.index,:]"
   ]
  },
  {
   "cell_type": "code",
   "execution_count": 110,
   "metadata": {},
   "outputs": [],
   "source": [
    "df_PE = df_PE.loc[df_Ex_SR.index,:]"
   ]
  },
  {
   "cell_type": "code",
   "execution_count": 111,
   "metadata": {},
   "outputs": [],
   "source": [
    "df_OP = df_OP.loc[df_Ex_SR.index,:]"
   ]
  },
  {
   "cell_type": "code",
   "execution_count": 112,
   "metadata": {},
   "outputs": [],
   "source": [
    "df_INV = df_INV.loc[df_Ex_SR.index,:]"
   ]
  },
  {
   "cell_type": "code",
   "execution_count": 113,
   "metadata": {
    "scrolled": true
   },
   "outputs": [
    {
     "data": {
      "text/plain": [
       "True"
      ]
     },
     "execution_count": 113,
     "metadata": {},
     "output_type": "execute_result"
    }
   ],
   "source": [
    "len(df_ln_Size)==len(df_PE)==len(df_Ex_SR)==len(df_OP)==len(df_INV)==len(df_FF5)"
   ]
  },
  {
   "cell_type": "code",
   "execution_count": 114,
   "metadata": {},
   "outputs": [],
   "source": [
    "## Firm characteristics are lagged for 1 month, to show its predicting ability towards stock returns \n",
    "Gap = 21"
   ]
  },
  {
   "cell_type": "code",
   "execution_count": 115,
   "metadata": {},
   "outputs": [
    {
     "data": {
      "text/plain": [
       "189"
      ]
     },
     "execution_count": 115,
     "metadata": {},
     "output_type": "execute_result"
    }
   ],
   "source": [
    "n = 3\n",
    "holding = 21\n",
    "rollingW = holding * n *12\n",
    "lens = len(df_FF5)\n",
    "periods = int((lens - rollingW) / holding) - 1\n",
    "periods"
   ]
  },
  {
   "cell_type": "code",
   "execution_count": 116,
   "metadata": {
    "scrolled": true
   },
   "outputs": [
    {
     "name": "stderr",
     "output_type": "stream",
     "text": [
      "100%|██████████| 3948/3948 [00:30<00:00, 127.63it/s]\n"
     ]
    }
   ],
   "source": [
    "all_lambdas = []\n",
    "all_intercepts = []\n",
    "\n",
    "\n",
    "df_Ex_SR_tmp_T = df_Ex_SR.iloc[rollingW:rollingW+periods*holding,:].T\n",
    "df_ln_Size_tmp_T = df_ln_Size.iloc[rollingW:rollingW+periods*holding,:].T\n",
    "df_PE_tmp_T = df_PE.iloc[rollingW:rollingW+periods*holding,:].T\n",
    "df_OP_tmp_T = df_OP.iloc[rollingW:rollingW+periods*holding,:].T\n",
    "df_INV_tmp_T = df_INV.iloc[rollingW:rollingW+periods*holding,:].T\n",
    "\n",
    "lambdas = []\n",
    "intercepts = []\n",
    "index_times = list(df_Ex_SR_tmp_T.columns)\n",
    "\n",
    "# If Gap >0, the following should be 'for k in tqdm(df_Ex_SR_tmp_T.columns[:-Gap]):''\n",
    "for k in tqdm(df_Ex_SR_tmp_T.columns[:-Gap]):\n",
    "    # k is time t in 3885 days\n",
    "    i = int(index_times.index(k) / holding)\n",
    "    # i is time T in 185 periods\n",
    "    \n",
    "    df_index = ((((all_betas[i].index).intersection(df_ln_Size_tmp_T.loc[:,k].replace(-np.inf,np.nan).dropna().index).\\\n",
    "                 intersection(df_PE_tmp_T.loc[:,k].replace(-np.inf,np.nan).dropna().index)).\\\n",
    "                  intersection(df_Ex_SR_tmp_T.loc[:,index_times[index_times.index(k)+Gap]].dropna().index)).\\\n",
    "                   intersection(df_OP_tmp_T.loc[:,k].dropna().index)).\\\n",
    "                    intersection(df_INV_tmp_T.loc[:,k].dropna().index)\n",
    "    \n",
    "    if len(df_index) != 0:\n",
    "        \n",
    "        l = list(ols_model.fit((pd.concat([all_betas[i].loc[df_index,:], df_ln_Size_tmp_T.loc[df_index,k],\\\n",
    "                                           df_PE_tmp_T.loc[df_index,k], df_OP_tmp_T.loc[df_index,k],\\\n",
    "                                           df_INV_tmp_T.loc[df_index,k]],axis = 1).values), \\\n",
    "                               (df_Ex_SR_tmp_T.loc[df_index,index_times[index_times.index(k)+Gap]].values)).coef_)\n",
    "        \n",
    "        h = ols_model.fit((pd.concat([all_betas[i].loc[df_index,:], df_ln_Size_tmp_T.loc[df_index,k],\\\n",
    "                                           df_PE_tmp_T.loc[df_index,k], df_OP_tmp_T.loc[df_index,k],\\\n",
    "                                           df_INV_tmp_T.loc[df_index,k]],axis = 1).values), \\\n",
    "                               (df_Ex_SR_tmp_T.loc[df_index,index_times[index_times.index(k)+Gap]].values)).intercept_\n",
    "        \n",
    "        lambdas.append(l)\n",
    "        intercepts.append(h)\n",
    "        \n",
    "all_lambdas.append(pd.DataFrame(lambdas))\n",
    "all_intercepts.append(pd.DataFrame(intercepts))"
   ]
  },
  {
   "cell_type": "code",
   "execution_count": 117,
   "metadata": {
    "scrolled": false
   },
   "outputs": [
    {
     "data": {
      "text/html": [
       "<div>\n",
       "<style scoped>\n",
       "    .dataframe tbody tr th:only-of-type {\n",
       "        vertical-align: middle;\n",
       "    }\n",
       "\n",
       "    .dataframe tbody tr th {\n",
       "        vertical-align: top;\n",
       "    }\n",
       "\n",
       "    .dataframe thead th {\n",
       "        text-align: right;\n",
       "    }\n",
       "</style>\n",
       "<table border=\"1\" class=\"dataframe\">\n",
       "  <thead>\n",
       "    <tr style=\"text-align: right;\">\n",
       "      <th></th>\n",
       "      <th>MKT</th>\n",
       "      <th>SMB</th>\n",
       "      <th>HML</th>\n",
       "      <th>RMW</th>\n",
       "      <th>CMA</th>\n",
       "      <th>Size</th>\n",
       "      <th>PE</th>\n",
       "      <th>OP</th>\n",
       "      <th>INV</th>\n",
       "    </tr>\n",
       "  </thead>\n",
       "  <tbody>\n",
       "    <tr>\n",
       "      <th>0</th>\n",
       "      <td>3.353712e-03</td>\n",
       "      <td>-1.850862e-02</td>\n",
       "      <td>8.069027e-03</td>\n",
       "      <td>8.226317e-04</td>\n",
       "      <td>1.529664e-02</td>\n",
       "      <td>-9.940063e-04</td>\n",
       "      <td>-5.582979e-04</td>\n",
       "      <td>3.859379e-03</td>\n",
       "      <td>-9.548101e-04</td>\n",
       "    </tr>\n",
       "    <tr>\n",
       "      <th>1</th>\n",
       "      <td>9.393125e-03</td>\n",
       "      <td>-6.437106e-03</td>\n",
       "      <td>-3.749715e-03</td>\n",
       "      <td>4.586330e-03</td>\n",
       "      <td>1.208667e-02</td>\n",
       "      <td>-1.039790e-03</td>\n",
       "      <td>-1.776867e-03</td>\n",
       "      <td>1.870298e-03</td>\n",
       "      <td>-4.107961e-03</td>\n",
       "    </tr>\n",
       "    <tr>\n",
       "      <th>2</th>\n",
       "      <td>-7.911225e-36</td>\n",
       "      <td>6.312659e-36</td>\n",
       "      <td>2.539349e-36</td>\n",
       "      <td>2.439881e-36</td>\n",
       "      <td>-1.545482e-37</td>\n",
       "      <td>1.463923e-36</td>\n",
       "      <td>8.337787e-37</td>\n",
       "      <td>-4.477608e-37</td>\n",
       "      <td>7.830958e-37</td>\n",
       "    </tr>\n",
       "    <tr>\n",
       "      <th>3</th>\n",
       "      <td>-9.412972e-03</td>\n",
       "      <td>1.208981e-02</td>\n",
       "      <td>1.100504e-02</td>\n",
       "      <td>-5.015921e-03</td>\n",
       "      <td>4.548124e-03</td>\n",
       "      <td>1.947659e-03</td>\n",
       "      <td>-3.159388e-03</td>\n",
       "      <td>1.133867e-03</td>\n",
       "      <td>1.985641e-03</td>\n",
       "    </tr>\n",
       "    <tr>\n",
       "      <th>4</th>\n",
       "      <td>1.163031e-02</td>\n",
       "      <td>-6.670103e-02</td>\n",
       "      <td>-1.479305e-03</td>\n",
       "      <td>-3.318556e-02</td>\n",
       "      <td>-1.133088e-02</td>\n",
       "      <td>-2.066450e-03</td>\n",
       "      <td>-4.185547e-03</td>\n",
       "      <td>7.105066e-04</td>\n",
       "      <td>7.805213e-04</td>\n",
       "    </tr>\n",
       "    <tr>\n",
       "      <th>...</th>\n",
       "      <td>...</td>\n",
       "      <td>...</td>\n",
       "      <td>...</td>\n",
       "      <td>...</td>\n",
       "      <td>...</td>\n",
       "      <td>...</td>\n",
       "      <td>...</td>\n",
       "      <td>...</td>\n",
       "      <td>...</td>\n",
       "    </tr>\n",
       "    <tr>\n",
       "      <th>3943</th>\n",
       "      <td>8.036107e-03</td>\n",
       "      <td>5.857297e-03</td>\n",
       "      <td>2.788841e-03</td>\n",
       "      <td>-5.008953e-03</td>\n",
       "      <td>-2.077834e-04</td>\n",
       "      <td>-1.462929e-04</td>\n",
       "      <td>-5.835598e-04</td>\n",
       "      <td>1.892520e-04</td>\n",
       "      <td>-8.195344e-04</td>\n",
       "    </tr>\n",
       "    <tr>\n",
       "      <th>3944</th>\n",
       "      <td>-9.942570e-03</td>\n",
       "      <td>-6.155193e-03</td>\n",
       "      <td>-3.943893e-03</td>\n",
       "      <td>-1.759396e-04</td>\n",
       "      <td>7.086565e-03</td>\n",
       "      <td>5.355417e-04</td>\n",
       "      <td>5.545640e-04</td>\n",
       "      <td>-3.204636e-04</td>\n",
       "      <td>5.193936e-05</td>\n",
       "    </tr>\n",
       "    <tr>\n",
       "      <th>3945</th>\n",
       "      <td>5.740099e-03</td>\n",
       "      <td>-1.823528e-03</td>\n",
       "      <td>-6.276866e-03</td>\n",
       "      <td>2.070689e-02</td>\n",
       "      <td>-4.189734e-03</td>\n",
       "      <td>-2.721839e-04</td>\n",
       "      <td>7.995379e-04</td>\n",
       "      <td>1.491664e-04</td>\n",
       "      <td>-7.803699e-04</td>\n",
       "    </tr>\n",
       "    <tr>\n",
       "      <th>3946</th>\n",
       "      <td>-5.799246e-03</td>\n",
       "      <td>1.327930e-03</td>\n",
       "      <td>-3.349282e-03</td>\n",
       "      <td>3.220647e-03</td>\n",
       "      <td>2.329238e-03</td>\n",
       "      <td>3.096578e-04</td>\n",
       "      <td>-2.909989e-03</td>\n",
       "      <td>-1.086650e-03</td>\n",
       "      <td>-3.253052e-03</td>\n",
       "    </tr>\n",
       "    <tr>\n",
       "      <th>3947</th>\n",
       "      <td>3.513207e-03</td>\n",
       "      <td>2.104124e-02</td>\n",
       "      <td>8.407163e-03</td>\n",
       "      <td>-1.141375e-02</td>\n",
       "      <td>3.871170e-03</td>\n",
       "      <td>2.656350e-04</td>\n",
       "      <td>1.595026e-03</td>\n",
       "      <td>5.432947e-04</td>\n",
       "      <td>4.343591e-04</td>\n",
       "    </tr>\n",
       "  </tbody>\n",
       "</table>\n",
       "<p>3948 rows × 9 columns</p>\n",
       "</div>"
      ],
      "text/plain": [
       "               MKT           SMB           HML           RMW           CMA  \\\n",
       "0     3.353712e-03 -1.850862e-02  8.069027e-03  8.226317e-04  1.529664e-02   \n",
       "1     9.393125e-03 -6.437106e-03 -3.749715e-03  4.586330e-03  1.208667e-02   \n",
       "2    -7.911225e-36  6.312659e-36  2.539349e-36  2.439881e-36 -1.545482e-37   \n",
       "3    -9.412972e-03  1.208981e-02  1.100504e-02 -5.015921e-03  4.548124e-03   \n",
       "4     1.163031e-02 -6.670103e-02 -1.479305e-03 -3.318556e-02 -1.133088e-02   \n",
       "...            ...           ...           ...           ...           ...   \n",
       "3943  8.036107e-03  5.857297e-03  2.788841e-03 -5.008953e-03 -2.077834e-04   \n",
       "3944 -9.942570e-03 -6.155193e-03 -3.943893e-03 -1.759396e-04  7.086565e-03   \n",
       "3945  5.740099e-03 -1.823528e-03 -6.276866e-03  2.070689e-02 -4.189734e-03   \n",
       "3946 -5.799246e-03  1.327930e-03 -3.349282e-03  3.220647e-03  2.329238e-03   \n",
       "3947  3.513207e-03  2.104124e-02  8.407163e-03 -1.141375e-02  3.871170e-03   \n",
       "\n",
       "              Size            PE            OP           INV  \n",
       "0    -9.940063e-04 -5.582979e-04  3.859379e-03 -9.548101e-04  \n",
       "1    -1.039790e-03 -1.776867e-03  1.870298e-03 -4.107961e-03  \n",
       "2     1.463923e-36  8.337787e-37 -4.477608e-37  7.830958e-37  \n",
       "3     1.947659e-03 -3.159388e-03  1.133867e-03  1.985641e-03  \n",
       "4    -2.066450e-03 -4.185547e-03  7.105066e-04  7.805213e-04  \n",
       "...            ...           ...           ...           ...  \n",
       "3943 -1.462929e-04 -5.835598e-04  1.892520e-04 -8.195344e-04  \n",
       "3944  5.355417e-04  5.545640e-04 -3.204636e-04  5.193936e-05  \n",
       "3945 -2.721839e-04  7.995379e-04  1.491664e-04 -7.803699e-04  \n",
       "3946  3.096578e-04 -2.909989e-03 -1.086650e-03 -3.253052e-03  \n",
       "3947  2.656350e-04  1.595026e-03  5.432947e-04  4.343591e-04  \n",
       "\n",
       "[3948 rows x 9 columns]"
      ]
     },
     "execution_count": 117,
     "metadata": {},
     "output_type": "execute_result"
    }
   ],
   "source": [
    "all_lambdas[0].rename(columns={0:'MKT',1:'SMB',2:'HML',3:'RMW',4:'CMA',5:'Size',6:'PE',7:'OP',8:'INV'})"
   ]
  },
  {
   "cell_type": "code",
   "execution_count": 118,
   "metadata": {},
   "outputs": [
    {
     "data": {
      "text/plain": [
       "0   -0.762744\n",
       "dtype: float64"
      ]
     },
     "execution_count": 118,
     "metadata": {},
     "output_type": "execute_result"
    }
   ],
   "source": [
    "np.mean(all_intercepts[0])*21*100"
   ]
  },
  {
   "cell_type": "code",
   "execution_count": 119,
   "metadata": {},
   "outputs": [
    {
     "data": {
      "text/plain": [
       "0   -0.546939\n",
       "1   -0.422126\n",
       "2    0.146458\n",
       "3    0.053019\n",
       "4   -0.081039\n",
       "5    0.111833\n",
       "6   -0.512875\n",
       "7    0.208504\n",
       "8    0.107925\n",
       "dtype: float64"
      ]
     },
     "execution_count": 119,
     "metadata": {},
     "output_type": "execute_result"
    }
   ],
   "source": [
    "np.mean(all_lambdas[0])*21*100"
   ]
  },
  {
   "cell_type": "code",
   "execution_count": 120,
   "metadata": {},
   "outputs": [
    {
     "data": {
      "text/plain": [
       "Ttest_1sampResult(statistic=array([-4.23719814]), pvalue=array([2.31495189e-05]))"
      ]
     },
     "execution_count": 120,
     "metadata": {},
     "output_type": "execute_result"
    }
   ],
   "source": [
    "stats.ttest_1samp(all_intercepts[0], 0.0)"
   ]
  },
  {
   "cell_type": "code",
   "execution_count": 121,
   "metadata": {
    "scrolled": true
   },
   "outputs": [
    {
     "data": {
      "text/plain": [
       "Ttest_1sampResult(statistic=array([-1.31118033, -0.60253958,  0.46951034,  0.16363205, -0.25372711,\n",
       "        3.57203709, -7.67480892,  2.90458788,  1.72330968]), pvalue=array([1.89873120e-01, 5.46849639e-01, 6.38730828e-01, 8.70029189e-01,\n",
       "       7.99719607e-01, 3.58443118e-04, 2.07455340e-14, 3.69779318e-03,\n",
       "       8.49108554e-02]))"
      ]
     },
     "execution_count": 121,
     "metadata": {},
     "output_type": "execute_result"
    }
   ],
   "source": [
    "stats.ttest_1samp(all_lambdas[0], 0.0)"
   ]
  },
  {
   "cell_type": "code",
   "execution_count": 122,
   "metadata": {
    "scrolled": true
   },
   "outputs": [
    {
     "data": {
      "text/plain": [
       "array([-0.80222949, -0.39184733,  0.30455396,  0.10580226, -0.16495247,\n",
       "        2.23883478, -4.8215541 ,  1.83631185,  1.08606619])"
      ]
     },
     "execution_count": 122,
     "metadata": {},
     "output_type": "execute_result"
    }
   ],
   "source": [
    "## Newey-West Adjustment \n",
    "all_lambdas[0].apply(lambda x: NW_ttest(ret = x, h0=0), axis=0).values "
   ]
  },
  {
   "cell_type": "code",
   "execution_count": 123,
   "metadata": {},
   "outputs": [
    {
     "data": {
      "text/plain": [
       "array([-2.66983938])"
      ]
     },
     "execution_count": 123,
     "metadata": {},
     "output_type": "execute_result"
    }
   ],
   "source": [
    "all_intercepts[0].apply(lambda x: NW_ttest(ret = x, h0=0), axis=0).values"
   ]
  }
 ],
 "metadata": {
  "interpreter": {
   "hash": "69d8a1c8da2120c547dc6be546b5e615f27ec597372f3fd7b53ede26964dbf96"
  },
  "kernelspec": {
   "display_name": "Python 3",
   "language": "python",
   "name": "python3"
  },
  "language_info": {
   "codemirror_mode": {
    "name": "ipython",
    "version": 3
   },
   "file_extension": ".py",
   "mimetype": "text/x-python",
   "name": "python",
   "nbconvert_exporter": "python",
   "pygments_lexer": "ipython3",
   "version": "3.8.13"
  },
  "toc": {
   "base_numbering": 1,
   "nav_menu": {
    "height": "164.993px",
    "width": "293.026px"
   },
   "number_sections": true,
   "sideBar": true,
   "skip_h1_title": false,
   "title_cell": "Table of Contents",
   "title_sidebar": "Contents",
   "toc_cell": false,
   "toc_position": {},
   "toc_section_display": true,
   "toc_window_display": false
  }
 },
 "nbformat": 4,
 "nbformat_minor": 2
}
