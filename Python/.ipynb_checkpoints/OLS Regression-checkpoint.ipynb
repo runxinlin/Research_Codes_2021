{
 "cells": [
  {
   "cell_type": "code",
   "execution_count": 1,
   "metadata": {},
   "outputs": [],
   "source": [
    "%matplotlib inline\n",
    "import pandas as pd\n",
    "import json\n",
    "from sklearn.linear_model import LinearRegression\n",
    "import numpy as np\n",
    "from scipy import stats\n",
    "from tqdm import tqdm\n",
    "import statsmodels.api as sm\n",
    "import matplotlib.pyplot as plt"
   ]
  },
  {
   "cell_type": "code",
   "execution_count": 2,
   "metadata": {},
   "outputs": [],
   "source": [
    "ols_model = LinearRegression()"
   ]
  },
  {
   "cell_type": "code",
   "execution_count": 3,
   "metadata": {},
   "outputs": [],
   "source": [
    "## Newey-West Adjustment For a Time-Series Data, e.g. Lambdas (factor returns)\n",
    "def NW_ttest(ret,h0):\n",
    "  T = len(ret)\n",
    "  lag = int(4*(T/100)**(2/9))\n",
    "  vv = np.var(ret)\n",
    "\n",
    "  for l in range(0,lag):\n",
    "      cc=np.cov(ret[0:(len(ret)-l)].T,ret[l:len(ret)].T)[0,1]\n",
    "      vv=vv+2*(1-(l+1)/lag)*cc\n",
    "      t=(np.mean(ret)-h0)/np.sqrt(vv)*np.sqrt(T)\n",
    "  \n",
    "  return t"
   ]
  },
  {
   "cell_type": "markdown",
   "metadata": {},
   "source": [
    "Import Data"
   ]
  },
  {
   "cell_type": "code",
   "execution_count": 4,
   "metadata": {},
   "outputs": [],
   "source": [
    "# Import excessive market return (J203T - Rf)\n",
    "df_MR = pd.read_csv('df_MR.csv')\n",
    "df_MR.Dates = df_MR.Dates.apply(lambda x:x[:10])\n",
    "df_MR.set_index('Dates',inplace=True)"
   ]
  },
  {
   "cell_type": "markdown",
   "metadata": {},
   "source": [
    "Import risk-free rate (91-day T-Bill)"
   ]
  },
  {
   "cell_type": "code",
   "execution_count": 5,
   "metadata": {},
   "outputs": [],
   "source": [
    "df_RF = pd.read_csv('df_RF.csv',index_col=0)"
   ]
  },
  {
   "cell_type": "markdown",
   "metadata": {},
   "source": [
    "Import listed stock returns on the JSE"
   ]
  },
  {
   "cell_type": "code",
   "execution_count": 6,
   "metadata": {},
   "outputs": [],
   "source": [
    "df_SR = pd.read_csv('df_SR.csv',index_col=0)\n",
    "df_SR.index = df_SR.index.to_series().apply(lambda x:x[:10])"
   ]
  },
  {
   "cell_type": "markdown",
   "metadata": {},
   "source": [
    "Drop the columns of stock returns that full of 0s or NAs and replace consecutive 0s with NAs"
   ]
  },
  {
   "cell_type": "code",
   "execution_count": 7,
   "metadata": {},
   "outputs": [],
   "source": [
    "df_SR = df_SR.loc[:, (df_SR != 0).any(axis=0)].astype(np.float64)\n",
    "df_SR = df_SR.dropna(axis = 0, how = 'all')\n",
    "# df_SR = df_SR.apply(replacer)"
   ]
  },
  {
   "cell_type": "markdown",
   "metadata": {},
   "source": [
    "Calculate the Excess Stock Returns "
   ]
  },
  {
   "cell_type": "code",
   "execution_count": 8,
   "metadata": {},
   "outputs": [],
   "source": [
    "df_Ex_SR = df_SR-df_RF.values"
   ]
  },
  {
   "cell_type": "markdown",
   "metadata": {},
   "source": [
    "Import the Factor Realizations (Mimicking portfolio returns)"
   ]
  },
  {
   "cell_type": "code",
   "execution_count": 9,
   "metadata": {},
   "outputs": [],
   "source": [
    "df_FF3 = pd.read_csv('df_FF3.csv')\n",
    "df_FF3.Dates = df_FF3.Dates.apply(lambda x: x[:10])\n",
    "df_FF3.set_index('Dates',inplace=True)"
   ]
  },
  {
   "cell_type": "code",
   "execution_count": 10,
   "metadata": {},
   "outputs": [],
   "source": [
    "df_FF4 = pd.read_csv('df_FF4.csv')\n",
    "df_FF4.Dates = df_FF4.Dates.apply(lambda x:x[:10])\n",
    "df_FF4.set_index('Dates',inplace=True)"
   ]
  },
  {
   "cell_type": "code",
   "execution_count": 11,
   "metadata": {},
   "outputs": [],
   "source": [
    "df_FF5 = pd.read_csv('df_FF5.csv')\n",
    "df_FF5.Dates = df_FF5.Dates.apply(lambda x:x[:10])\n",
    "df_FF5.set_index('Dates',inplace=True)"
   ]
  },
  {
   "cell_type": "markdown",
   "metadata": {},
   "source": [
    "Import Firm Characteristics "
   ]
  },
  {
   "cell_type": "code",
   "execution_count": 12,
   "metadata": {},
   "outputs": [],
   "source": [
    "df_ln_Size = pd.read_csv('df_ln_Size.csv')\n",
    "df_ln_Size.Dates = df_ln_Size.Dates.apply(lambda x:x[:10])\n",
    "df_ln_Size.set_index('Dates',inplace=True)"
   ]
  },
  {
   "cell_type": "code",
   "execution_count": 13,
   "metadata": {},
   "outputs": [],
   "source": [
    "df_PE = pd.read_csv('df_std_PE.csv')\n",
    "df_PE.Dates = df_PE.Dates.apply(lambda x:x[:10])\n",
    "df_PE.set_index('Dates',inplace=True)"
   ]
  },
  {
   "cell_type": "code",
   "execution_count": 14,
   "metadata": {},
   "outputs": [],
   "source": [
    "df_OP = pd.read_csv('df_std_OP.csv')\n",
    "df_OP.Dates = df_OP.Dates.apply(lambda x:x[:10])\n",
    "df_OP.set_index('Dates',inplace=True)"
   ]
  },
  {
   "cell_type": "code",
   "execution_count": 15,
   "metadata": {},
   "outputs": [],
   "source": [
    "df_INV = pd.read_csv('df_std_INV.csv')\n",
    "df_INV.Dates = df_INV.Dates.apply(lambda x:x[:10])\n",
    "df_INV.set_index('Dates',inplace=True)"
   ]
  },
  {
   "cell_type": "markdown",
   "metadata": {},
   "source": [
    "Import 18 double-sorted portfolios returns"
   ]
  },
  {
   "cell_type": "code",
   "execution_count": 16,
   "metadata": {},
   "outputs": [],
   "source": [
    "df_18_PR = pd.read_csv('df_18_PR.csv')\n",
    "df_18_PR.Dates = df_18_PR.Dates.apply(lambda x:x[:10])\n",
    "df_18_PR.set_index('Dates',inplace=True)"
   ]
  },
  {
   "cell_type": "markdown",
   "metadata": {},
   "source": [
    "Import Firm Characteristics of 18 double-sorted portfolios"
   ]
  },
  {
   "cell_type": "code",
   "execution_count": 17,
   "metadata": {},
   "outputs": [],
   "source": [
    "df_18_std_Size = pd.read_csv('df_18_std_size.csv')\n",
    "df_18_std_Size.Dates = df_18_std_Size.Dates.apply(lambda x:x[:10])\n",
    "df_18_std_Size.set_index('Dates',inplace=True)"
   ]
  },
  {
   "cell_type": "code",
   "execution_count": 18,
   "metadata": {},
   "outputs": [],
   "source": [
    "df_18_std_PE = pd.read_csv('df_18_std_PE.csv')\n",
    "df_18_std_PE.Dates = df_18_std_PE.Dates.apply(lambda x:x[:10])\n",
    "df_18_std_PE.set_index('Dates',inplace=True)"
   ]
  },
  {
   "cell_type": "code",
   "execution_count": 19,
   "metadata": {},
   "outputs": [],
   "source": [
    "df_18_std_OP = pd.read_csv('df_18_std_OP.csv')\n",
    "df_18_std_OP.Dates = df_18_std_OP.Dates.apply(lambda x:x[:10])\n",
    "df_18_std_OP.set_index('Dates',inplace=True)"
   ]
  },
  {
   "cell_type": "code",
   "execution_count": 20,
   "metadata": {},
   "outputs": [],
   "source": [
    "df_18_std_INV = pd.read_csv('df_18_std_INV.csv')\n",
    "df_18_std_INV.Dates = df_18_std_INV.Dates.apply(lambda x:x[:10])\n",
    "df_18_std_INV.set_index('Dates',inplace=True)"
   ]
  },
  {
   "cell_type": "markdown",
   "metadata": {},
   "source": [
    "# Empirical Results"
   ]
  },
  {
   "cell_type": "markdown",
   "metadata": {},
   "source": [
    "This section employs the OLS and IV methods to estimate the premiums for risk factors proposed by prominent asset pricing models."
   ]
  },
  {
   "cell_type": "markdown",
   "metadata": {},
   "source": [
    "## FM-OLS Regression (Time-Varying Betas)"
   ]
  },
  {
   "cell_type": "markdown",
   "metadata": {},
   "source": [
    "This Section first tests whether the risk premiums under the CAPM and the FF3- and FF5-Factor Models are significantly different from zero using the OLS method with individual stocks. For the OLS tests, the regression is fitted with daily return data from month t-36 to month t-1 to estimate beta for month t. "
   ]
  },
  {
   "cell_type": "markdown",
   "metadata": {},
   "source": [
    "### CAPM Model"
   ]
  },
  {
   "cell_type": "markdown",
   "metadata": {},
   "source": [
    "How many years in the rolling estimation window?"
   ]
  },
  {
   "cell_type": "code",
   "execution_count": 21,
   "metadata": {},
   "outputs": [],
   "source": [
    "n = 3"
   ]
  },
  {
   "cell_type": "markdown",
   "metadata": {},
   "source": [
    "Define the length of rolling window and rebalance frequency"
   ]
  },
  {
   "cell_type": "code",
   "execution_count": 22,
   "metadata": {},
   "outputs": [
    {
     "name": "stdout",
     "output_type": "stream",
     "text": [
      "211 756\n"
     ]
    }
   ],
   "source": [
    "holding = 21\n",
    "rollingW = holding * n *12\n",
    "lens = len(df_MR)\n",
    "periods = int((lens - rollingW) / holding) - 1\n",
    "print(periods, rollingW)"
   ]
  },
  {
   "cell_type": "markdown",
   "metadata": {},
   "source": [
    "This cell is the first stage of FM-OLS regression, which is used to estimate market betas by regressing stock returns on market factor returns"
   ]
  },
  {
   "cell_type": "code",
   "execution_count": 23,
   "metadata": {},
   "outputs": [
    {
     "name": "stderr",
     "output_type": "stream",
     "text": [
      "100%|██████████| 211/211 [00:37<00:00,  5.63it/s]\n"
     ]
    }
   ],
   "source": [
    "# Keep the stock returns has the same length as market returns\n",
    "df_Ex_SR_trnct = df_Ex_SR.loc[df_MR.index,:]\n",
    "\n",
    "all_betas = []\n",
    "\n",
    "for i in tqdm(range(periods)):\n",
    "\n",
    "    df_MR_tmp = df_MR.iloc[i*holding:i*holding+rollingW,:]\n",
    "    df_Ex_SR_tmp = df_Ex_SR_trnct.iloc[i*holding:i*holding+rollingW,:]\n",
    "    \n",
    "    betas = []\n",
    "    for j in df_Ex_SR.columns:\n",
    "        df_index = df_Ex_SR_tmp.loc[:,j].dropna().index\n",
    "        \n",
    "        if len(df_index) > 10:\n",
    "            b = list(ols_model.fit(df_MR_tmp.loc[df_index,:].values, df_Ex_SR_tmp.loc[df_index,j].values).coef_)\n",
    "            b.append(j)\n",
    "            betas.append(b)\n",
    "    df_betas = pd.DataFrame(np.array(betas)).rename(columns={0:'MKT',1:'stock'}).set_index('stock')\n",
    "    \n",
    "    all_betas.append(df_betas)"
   ]
  },
  {
   "cell_type": "code",
   "execution_count": 24,
   "metadata": {
    "scrolled": false
   },
   "outputs": [
    {
     "data": {
      "text/html": [
       "<div>\n",
       "<style scoped>\n",
       "    .dataframe tbody tr th:only-of-type {\n",
       "        vertical-align: middle;\n",
       "    }\n",
       "\n",
       "    .dataframe tbody tr th {\n",
       "        vertical-align: top;\n",
       "    }\n",
       "\n",
       "    .dataframe thead th {\n",
       "        text-align: right;\n",
       "    }\n",
       "</style>\n",
       "<table border=\"1\" class=\"dataframe\">\n",
       "  <thead>\n",
       "    <tr style=\"text-align: right;\">\n",
       "      <th></th>\n",
       "      <th>MKT</th>\n",
       "    </tr>\n",
       "    <tr>\n",
       "      <th>stock</th>\n",
       "      <th></th>\n",
       "    </tr>\n",
       "  </thead>\n",
       "  <tbody>\n",
       "    <tr>\n",
       "      <th>FDS.SJ.Equity</th>\n",
       "      <td>0.5550883022640546</td>\n",
       "    </tr>\n",
       "    <tr>\n",
       "      <th>MOZ.SJ.Equity</th>\n",
       "      <td>0.5653617233888201</td>\n",
       "    </tr>\n",
       "    <tr>\n",
       "      <th>MTN.SJ.Equity</th>\n",
       "      <td>1.2658780526386577</td>\n",
       "    </tr>\n",
       "    <tr>\n",
       "      <th>TRT.SJ.Equity</th>\n",
       "      <td>0.48320607848989805</td>\n",
       "    </tr>\n",
       "    <tr>\n",
       "      <th>AEG.SJ.Equity</th>\n",
       "      <td>0.4687760759603885</td>\n",
       "    </tr>\n",
       "    <tr>\n",
       "      <th>...</th>\n",
       "      <td>...</td>\n",
       "    </tr>\n",
       "    <tr>\n",
       "      <th>CHE.SJ.Equity</th>\n",
       "      <td>0.14705915711382728</td>\n",
       "    </tr>\n",
       "    <tr>\n",
       "      <th>JCG.SJ.Equity</th>\n",
       "      <td>0.13670183676315076</td>\n",
       "    </tr>\n",
       "    <tr>\n",
       "      <th>CRM.SJ.Equity</th>\n",
       "      <td>0.18922501182144139</td>\n",
       "    </tr>\n",
       "    <tr>\n",
       "      <th>CLE.SJ.Equity</th>\n",
       "      <td>0.17071804056283496</td>\n",
       "    </tr>\n",
       "    <tr>\n",
       "      <th>WES.SJ.Equity</th>\n",
       "      <td>-0.041363232203682265</td>\n",
       "    </tr>\n",
       "  </tbody>\n",
       "</table>\n",
       "<p>197 rows × 1 columns</p>\n",
       "</div>"
      ],
      "text/plain": [
       "                                 MKT\n",
       "stock                               \n",
       "FDS.SJ.Equity     0.5550883022640546\n",
       "MOZ.SJ.Equity     0.5653617233888201\n",
       "MTN.SJ.Equity     1.2658780526386577\n",
       "TRT.SJ.Equity    0.48320607848989805\n",
       "AEG.SJ.Equity     0.4687760759603885\n",
       "...                              ...\n",
       "CHE.SJ.Equity    0.14705915711382728\n",
       "JCG.SJ.Equity    0.13670183676315076\n",
       "CRM.SJ.Equity    0.18922501182144139\n",
       "CLE.SJ.Equity    0.17071804056283496\n",
       "WES.SJ.Equity  -0.041363232203682265\n",
       "\n",
       "[197 rows x 1 columns]"
      ]
     },
     "execution_count": 24,
     "metadata": {},
     "output_type": "execute_result"
    }
   ],
   "source": [
    "# Print market betas for one period\n",
    "all_betas[0]"
   ]
  },
  {
   "cell_type": "markdown",
   "metadata": {},
   "source": [
    "This cell is the second stage of FM-OLS regression, which aims to estimate market risk premiums"
   ]
  },
  {
   "cell_type": "code",
   "execution_count": 25,
   "metadata": {},
   "outputs": [
    {
     "name": "stderr",
     "output_type": "stream",
     "text": [
      "100%|██████████| 4431/4431 [00:06<00:00, 675.36it/s]\n"
     ]
    }
   ],
   "source": [
    "all_lambdas = []\n",
    "\n",
    "df_Ex_SR_tmp_T = df_Ex_SR_trnct.iloc[rollingW:rollingW+periods*holding,:].T\n",
    "\n",
    "lambdas = []\n",
    "index_times = list(df_Ex_SR_tmp_T.columns)\n",
    "\n",
    "for k in tqdm(df_Ex_SR_tmp_T.columns):\n",
    "    # k is stock on cross-section\n",
    "    i = int(index_times.index(k) / holding)\n",
    "    # i is time in periods\n",
    "    df_return = df_Ex_SR_tmp_T.loc[all_betas[i].index,k].dropna()\n",
    "    df_index = df_return.index\n",
    "    \n",
    "    if len(df_index) != 0:\n",
    "        ols = sm.OLS(df_return, sm.add_constant(all_betas[i].loc[df_index,:].astype(np.float64)))\n",
    "        res = ols.fit()\n",
    "        l = list(res.params)\n",
    "        \n",
    "        lambdas.append(l)\n",
    "        \n",
    "all_lambdas.append(pd.DataFrame(lambdas))"
   ]
  },
  {
   "cell_type": "code",
   "execution_count": 26,
   "metadata": {
    "scrolled": true
   },
   "outputs": [
    {
     "data": {
      "text/html": [
       "<div>\n",
       "<style scoped>\n",
       "    .dataframe tbody tr th:only-of-type {\n",
       "        vertical-align: middle;\n",
       "    }\n",
       "\n",
       "    .dataframe tbody tr th {\n",
       "        vertical-align: top;\n",
       "    }\n",
       "\n",
       "    .dataframe thead th {\n",
       "        text-align: right;\n",
       "    }\n",
       "</style>\n",
       "<table border=\"1\" class=\"dataframe\">\n",
       "  <thead>\n",
       "    <tr style=\"text-align: right;\">\n",
       "      <th></th>\n",
       "      <th>Intercept</th>\n",
       "      <th>MKT</th>\n",
       "    </tr>\n",
       "  </thead>\n",
       "  <tbody>\n",
       "    <tr>\n",
       "      <th>0</th>\n",
       "      <td>-0.006096</td>\n",
       "      <td>0.010204</td>\n",
       "    </tr>\n",
       "    <tr>\n",
       "      <th>1</th>\n",
       "      <td>0.007551</td>\n",
       "      <td>-0.004164</td>\n",
       "    </tr>\n",
       "    <tr>\n",
       "      <th>2</th>\n",
       "      <td>0.004306</td>\n",
       "      <td>0.004218</td>\n",
       "    </tr>\n",
       "    <tr>\n",
       "      <th>3</th>\n",
       "      <td>-0.002946</td>\n",
       "      <td>0.011662</td>\n",
       "    </tr>\n",
       "    <tr>\n",
       "      <th>4</th>\n",
       "      <td>0.003390</td>\n",
       "      <td>-0.002552</td>\n",
       "    </tr>\n",
       "    <tr>\n",
       "      <th>...</th>\n",
       "      <td>...</td>\n",
       "      <td>...</td>\n",
       "    </tr>\n",
       "    <tr>\n",
       "      <th>4426</th>\n",
       "      <td>0.000890</td>\n",
       "      <td>-0.001593</td>\n",
       "    </tr>\n",
       "    <tr>\n",
       "      <th>4427</th>\n",
       "      <td>-0.001875</td>\n",
       "      <td>0.007188</td>\n",
       "    </tr>\n",
       "    <tr>\n",
       "      <th>4428</th>\n",
       "      <td>-0.000105</td>\n",
       "      <td>0.011617</td>\n",
       "    </tr>\n",
       "    <tr>\n",
       "      <th>4429</th>\n",
       "      <td>0.004768</td>\n",
       "      <td>0.001182</td>\n",
       "    </tr>\n",
       "    <tr>\n",
       "      <th>4430</th>\n",
       "      <td>-0.006163</td>\n",
       "      <td>-0.006554</td>\n",
       "    </tr>\n",
       "  </tbody>\n",
       "</table>\n",
       "<p>4431 rows × 2 columns</p>\n",
       "</div>"
      ],
      "text/plain": [
       "      Intercept       MKT\n",
       "0     -0.006096  0.010204\n",
       "1      0.007551 -0.004164\n",
       "2      0.004306  0.004218\n",
       "3     -0.002946  0.011662\n",
       "4      0.003390 -0.002552\n",
       "...         ...       ...\n",
       "4426   0.000890 -0.001593\n",
       "4427  -0.001875  0.007188\n",
       "4428  -0.000105  0.011617\n",
       "4429   0.004768  0.001182\n",
       "4430  -0.006163 -0.006554\n",
       "\n",
       "[4431 rows x 2 columns]"
      ]
     },
     "execution_count": 26,
     "metadata": {},
     "output_type": "execute_result"
    }
   ],
   "source": [
    "# Print market risk premiums and intercepts\n",
    "all_lambdas[0].rename(columns={0:'Intercept',1:'MKT'})"
   ]
  },
  {
   "cell_type": "code",
   "execution_count": 27,
   "metadata": {},
   "outputs": [
    {
     "name": "stdout",
     "output_type": "stream",
     "text": [
      "0    0.077655\n",
      "1   -0.516471\n",
      "dtype: float64\n"
     ]
    }
   ],
   "source": [
    "# Print the time-series mean of market risk premiums and intercepts\n",
    "print(np.mean(all_lambdas[0], axis = 0)*21*100)"
   ]
  },
  {
   "cell_type": "code",
   "execution_count": 28,
   "metadata": {},
   "outputs": [
    {
     "data": {
      "text/plain": [
       "Ttest_1sampResult(statistic=array([ 0.60689726, -1.18705423]), pvalue=array([0.5439502 , 0.23526988]))"
      ]
     },
     "execution_count": 28,
     "metadata": {},
     "output_type": "execute_result"
    }
   ],
   "source": [
    "stats.ttest_1samp(all_lambdas[0], 0)"
   ]
  },
  {
   "cell_type": "code",
   "execution_count": 29,
   "metadata": {
    "scrolled": false
   },
   "outputs": [
    {
     "data": {
      "text/plain": [
       "0    0.352552\n",
       "1   -0.730572\n",
       "dtype: float64"
      ]
     },
     "execution_count": 29,
     "metadata": {},
     "output_type": "execute_result"
    }
   ],
   "source": [
    "# Use the Newey-West t-test to examine market risk premiums and intercepts\n",
    "all_lambdas[0].apply(lambda x: NW_ttest(ret = x, h0=0), axis = 0)"
   ]
  },
  {
   "cell_type": "markdown",
   "metadata": {},
   "source": [
    "### —Adding Control Variables"
   ]
  },
  {
   "cell_type": "markdown",
   "metadata": {},
   "source": [
    "The significance of factor risk premium estimates may due to an omitted variable bias because the second-stage cross-sectional regressions do not control for corresponding firm charactersitics. For mitigating this potential bias, we add characteristics as control variables in the second stage. "
   ]
  },
  {
   "cell_type": "code",
   "execution_count": 30,
   "metadata": {},
   "outputs": [],
   "source": [
    "# Keep the size and PE have the same length as stock returns\n",
    "df_ln_Size_trnct = df_ln_Size.loc[df_Ex_SR_trnct.index,:]\n",
    "df_PE_trnct = df_PE.loc[df_Ex_SR_trnct.index,:]"
   ]
  },
  {
   "cell_type": "code",
   "execution_count": 31,
   "metadata": {},
   "outputs": [
    {
     "data": {
      "text/plain": [
       "True"
      ]
     },
     "execution_count": 31,
     "metadata": {},
     "output_type": "execute_result"
    }
   ],
   "source": [
    "len(df_ln_Size_trnct)==len(df_PE_trnct)==len(df_Ex_SR_trnct)"
   ]
  },
  {
   "cell_type": "code",
   "execution_count": 32,
   "metadata": {},
   "outputs": [],
   "source": [
    "# Stock returns are forward for 21 days compared to firm characteristics \n",
    "Gap = 21"
   ]
  },
  {
   "cell_type": "code",
   "execution_count": 33,
   "metadata": {},
   "outputs": [
    {
     "name": "stderr",
     "output_type": "stream",
     "text": [
      "100%|██████████| 4410/4410 [00:16<00:00, 265.28it/s]\n"
     ]
    }
   ],
   "source": [
    "# This cell represents the second stage of FM-OLS regression, which estimates the market risk premiums \n",
    "# by controlling for Size and PE characteristics.\n",
    "all_lambdas = []\n",
    "all_intercepts = []\n",
    "\n",
    "df_Ex_SR_tmp_T = df_Ex_SR_trnct.iloc[rollingW:rollingW+periods*holding,:].T\n",
    "df_ln_Size_tmp_T = df_ln_Size_trnct.iloc[rollingW:rollingW+periods*holding,:].T\n",
    "df_PE_tmp_T = df_PE_trnct.iloc[rollingW:rollingW+periods*holding,:].T\n",
    "\n",
    "lambdas = []\n",
    "intercepts = []\n",
    "index_times = list(df_Ex_SR_tmp_T.columns)\n",
    "\n",
    "\n",
    "for k in tqdm(df_Ex_SR_tmp_T.columns[:-Gap]):\n",
    "    # k is date t in len(df_Ex_SR_tmp) days\n",
    "    i = int(index_times.index(k) / holding)\n",
    "    # i is time T in 185 periods\n",
    "    # df_ln_Size_tmp_T.loc[:,k].replace(-np.inf,np.nan), the -inf in ln_Size data dataframe would interrupt the regression\n",
    "    df_index = (((all_betas[i].index).intersection(df_ln_Size_tmp_T.loc[:,k].replace(-np.inf,np.nan).dropna().index).\\\n",
    "                   intersection(df_PE_tmp_T.loc[:,k].dropna().index)).\\\n",
    "                    intersection(df_Ex_SR_tmp_T.loc[:,index_times[index_times.index(k)+Gap]].dropna().index))\n",
    "    \n",
    "    if len(df_index) != 0:\n",
    "        \n",
    "        l = list(ols_model.fit((pd.concat([all_betas[i].loc[df_index,:], \\\n",
    "                                           df_ln_Size_tmp_T.loc[df_index,k],\\\n",
    "                                           df_PE_tmp_T .loc[df_index,k]],axis = 1).values), \\\n",
    "                               (df_Ex_SR_tmp_T.loc[df_index,index_times[index_times.index(k)+Gap]].values)).coef_)\n",
    "        \n",
    "        h = ols_model.fit((pd.concat([all_betas[i].loc[df_index,:], \\\n",
    "                                      df_ln_Size_tmp_T.loc[df_index,k],\\\n",
    "                                      df_PE_tmp_T .loc[df_index,k]],axis = 1).values), \\\n",
    "                          (df_Ex_SR_tmp_T.loc[df_index,index_times[index_times.index(k)+Gap]].values)).intercept_\n",
    "        \n",
    "        lambdas.append(l)\n",
    "        intercepts.append(h)\n",
    "        \n",
    "all_lambdas.append(pd.DataFrame(lambdas))\n",
    "all_intercepts.append(pd.DataFrame(intercepts))"
   ]
  },
  {
   "cell_type": "code",
   "execution_count": 34,
   "metadata": {},
   "outputs": [
    {
     "data": {
      "text/html": [
       "<div>\n",
       "<style scoped>\n",
       "    .dataframe tbody tr th:only-of-type {\n",
       "        vertical-align: middle;\n",
       "    }\n",
       "\n",
       "    .dataframe tbody tr th {\n",
       "        vertical-align: top;\n",
       "    }\n",
       "\n",
       "    .dataframe thead th {\n",
       "        text-align: right;\n",
       "    }\n",
       "</style>\n",
       "<table border=\"1\" class=\"dataframe\">\n",
       "  <thead>\n",
       "    <tr style=\"text-align: right;\">\n",
       "      <th></th>\n",
       "      <th>0</th>\n",
       "    </tr>\n",
       "  </thead>\n",
       "  <tbody>\n",
       "    <tr>\n",
       "      <th>0</th>\n",
       "      <td>0.001900</td>\n",
       "    </tr>\n",
       "    <tr>\n",
       "      <th>1</th>\n",
       "      <td>0.001460</td>\n",
       "    </tr>\n",
       "    <tr>\n",
       "      <th>2</th>\n",
       "      <td>0.003781</td>\n",
       "    </tr>\n",
       "    <tr>\n",
       "      <th>3</th>\n",
       "      <td>-0.000321</td>\n",
       "    </tr>\n",
       "    <tr>\n",
       "      <th>4</th>\n",
       "      <td>0.002247</td>\n",
       "    </tr>\n",
       "    <tr>\n",
       "      <th>...</th>\n",
       "      <td>...</td>\n",
       "    </tr>\n",
       "    <tr>\n",
       "      <th>4405</th>\n",
       "      <td>0.002044</td>\n",
       "    </tr>\n",
       "    <tr>\n",
       "      <th>4406</th>\n",
       "      <td>-0.002589</td>\n",
       "    </tr>\n",
       "    <tr>\n",
       "      <th>4407</th>\n",
       "      <td>-0.000752</td>\n",
       "    </tr>\n",
       "    <tr>\n",
       "      <th>4408</th>\n",
       "      <td>0.003381</td>\n",
       "    </tr>\n",
       "    <tr>\n",
       "      <th>4409</th>\n",
       "      <td>-0.003669</td>\n",
       "    </tr>\n",
       "  </tbody>\n",
       "</table>\n",
       "<p>4410 rows × 1 columns</p>\n",
       "</div>"
      ],
      "text/plain": [
       "             0\n",
       "0     0.001900\n",
       "1     0.001460\n",
       "2     0.003781\n",
       "3    -0.000321\n",
       "4     0.002247\n",
       "...        ...\n",
       "4405  0.002044\n",
       "4406 -0.002589\n",
       "4407 -0.000752\n",
       "4408  0.003381\n",
       "4409 -0.003669\n",
       "\n",
       "[4410 rows x 1 columns]"
      ]
     },
     "execution_count": 34,
     "metadata": {},
     "output_type": "execute_result"
    }
   ],
   "source": [
    "# Print regression intercepts \n",
    "all_intercepts[0]"
   ]
  },
  {
   "cell_type": "code",
   "execution_count": 35,
   "metadata": {
    "scrolled": true
   },
   "outputs": [
    {
     "data": {
      "text/html": [
       "<div>\n",
       "<style scoped>\n",
       "    .dataframe tbody tr th:only-of-type {\n",
       "        vertical-align: middle;\n",
       "    }\n",
       "\n",
       "    .dataframe tbody tr th {\n",
       "        vertical-align: top;\n",
       "    }\n",
       "\n",
       "    .dataframe thead th {\n",
       "        text-align: right;\n",
       "    }\n",
       "</style>\n",
       "<table border=\"1\" class=\"dataframe\">\n",
       "  <thead>\n",
       "    <tr style=\"text-align: right;\">\n",
       "      <th></th>\n",
       "      <th>MKT</th>\n",
       "      <th>Size</th>\n",
       "      <th>PE</th>\n",
       "    </tr>\n",
       "  </thead>\n",
       "  <tbody>\n",
       "    <tr>\n",
       "      <th>0</th>\n",
       "      <td>-6.810638e-03</td>\n",
       "      <td>-3.207939e-04</td>\n",
       "      <td>2.007940e-03</td>\n",
       "    </tr>\n",
       "    <tr>\n",
       "      <th>1</th>\n",
       "      <td>-7.077851e-03</td>\n",
       "      <td>5.350757e-03</td>\n",
       "      <td>-2.551309e-03</td>\n",
       "    </tr>\n",
       "    <tr>\n",
       "      <th>2</th>\n",
       "      <td>-1.077175e-04</td>\n",
       "      <td>-6.693577e-03</td>\n",
       "      <td>-3.258047e-03</td>\n",
       "    </tr>\n",
       "    <tr>\n",
       "      <th>3</th>\n",
       "      <td>-2.911853e-35</td>\n",
       "      <td>1.349768e-37</td>\n",
       "      <td>-1.025882e-36</td>\n",
       "    </tr>\n",
       "    <tr>\n",
       "      <th>4</th>\n",
       "      <td>-2.256026e-03</td>\n",
       "      <td>-6.975234e-05</td>\n",
       "      <td>-5.719866e-04</td>\n",
       "    </tr>\n",
       "    <tr>\n",
       "      <th>...</th>\n",
       "      <td>...</td>\n",
       "      <td>...</td>\n",
       "      <td>...</td>\n",
       "    </tr>\n",
       "    <tr>\n",
       "      <th>4405</th>\n",
       "      <td>-5.679331e-03</td>\n",
       "      <td>2.265864e-03</td>\n",
       "      <td>-7.835070e-04</td>\n",
       "    </tr>\n",
       "    <tr>\n",
       "      <th>4406</th>\n",
       "      <td>9.384853e-03</td>\n",
       "      <td>-1.224385e-03</td>\n",
       "      <td>-5.415693e-05</td>\n",
       "    </tr>\n",
       "    <tr>\n",
       "      <th>4407</th>\n",
       "      <td>1.386840e-02</td>\n",
       "      <td>-6.102249e-04</td>\n",
       "      <td>3.978481e-04</td>\n",
       "    </tr>\n",
       "    <tr>\n",
       "      <th>4408</th>\n",
       "      <td>6.848897e-03</td>\n",
       "      <td>-2.837869e-03</td>\n",
       "      <td>-9.578326e-04</td>\n",
       "    </tr>\n",
       "    <tr>\n",
       "      <th>4409</th>\n",
       "      <td>-1.625989e-02</td>\n",
       "      <td>6.389687e-03</td>\n",
       "      <td>1.609948e-04</td>\n",
       "    </tr>\n",
       "  </tbody>\n",
       "</table>\n",
       "<p>4410 rows × 3 columns</p>\n",
       "</div>"
      ],
      "text/plain": [
       "               MKT          Size            PE\n",
       "0    -6.810638e-03 -3.207939e-04  2.007940e-03\n",
       "1    -7.077851e-03  5.350757e-03 -2.551309e-03\n",
       "2    -1.077175e-04 -6.693577e-03 -3.258047e-03\n",
       "3    -2.911853e-35  1.349768e-37 -1.025882e-36\n",
       "4    -2.256026e-03 -6.975234e-05 -5.719866e-04\n",
       "...            ...           ...           ...\n",
       "4405 -5.679331e-03  2.265864e-03 -7.835070e-04\n",
       "4406  9.384853e-03 -1.224385e-03 -5.415693e-05\n",
       "4407  1.386840e-02 -6.102249e-04  3.978481e-04\n",
       "4408  6.848897e-03 -2.837869e-03 -9.578326e-04\n",
       "4409 -1.625989e-02  6.389687e-03  1.609948e-04\n",
       "\n",
       "[4410 rows x 3 columns]"
      ]
     },
     "execution_count": 35,
     "metadata": {},
     "output_type": "execute_result"
    }
   ],
   "source": [
    "# Print market risk premiums and the slope coefficients of characteristics\n",
    "all_lambdas[0].rename(columns={0:'MKT',1:'Size',2:'PE'})"
   ]
  },
  {
   "cell_type": "code",
   "execution_count": 36,
   "metadata": {
    "scrolled": false
   },
   "outputs": [
    {
     "data": {
      "text/plain": [
       "0    0.079734\n",
       "dtype: float64"
      ]
     },
     "execution_count": 36,
     "metadata": {},
     "output_type": "execute_result"
    }
   ],
   "source": [
    "# Print the mean of intercepts\n",
    "np.mean(all_intercepts[0], axis = 0)*21*100"
   ]
  },
  {
   "cell_type": "code",
   "execution_count": 37,
   "metadata": {},
   "outputs": [
    {
     "name": "stderr",
     "output_type": "stream",
     "text": [
      "/Users/runxinlin/opt/anaconda3/lib/python3.8/site-packages/numpy/core/fromnumeric.py:3438: FutureWarning: In a future version, DataFrame.mean(axis=None) will return a scalar mean over the entire DataFrame. To retain the old behavior, use 'frame.mean(axis=0)' or just 'frame.mean()'\n",
      "  return mean(axis=axis, dtype=dtype, out=out, **kwargs)\n"
     ]
    },
    {
     "data": {
      "text/plain": [
       "0   -0.470247\n",
       "1    0.205496\n",
       "2   -0.101521\n",
       "dtype: float64"
      ]
     },
     "execution_count": 37,
     "metadata": {},
     "output_type": "execute_result"
    }
   ],
   "source": [
    "# Print the mean of market risk premiums\n",
    "np.mean(all_lambdas[0])*21*100"
   ]
  },
  {
   "cell_type": "code",
   "execution_count": 38,
   "metadata": {
    "scrolled": true
   },
   "outputs": [
    {
     "data": {
      "text/plain": [
       "array([0.67716809])"
      ]
     },
     "execution_count": 38,
     "metadata": {},
     "output_type": "execute_result"
    }
   ],
   "source": [
    "# Print the result of ordinary t-test\n",
    "stats.ttest_1samp(all_intercepts[0], 0.0)[0]"
   ]
  },
  {
   "cell_type": "code",
   "execution_count": 39,
   "metadata": {
    "scrolled": true
   },
   "outputs": [
    {
     "data": {
      "text/plain": [
       "array([-1.00938464,  1.34086112, -1.67691108])"
      ]
     },
     "execution_count": 39,
     "metadata": {},
     "output_type": "execute_result"
    }
   ],
   "source": [
    "# Print the result of ordinary t-test\n",
    "stats.ttest_1samp(all_lambdas[0], 0.0)[0]"
   ]
  },
  {
   "cell_type": "code",
   "execution_count": 40,
   "metadata": {},
   "outputs": [
    {
     "data": {
      "text/plain": [
       "array([0.39663275])"
      ]
     },
     "execution_count": 40,
     "metadata": {},
     "output_type": "execute_result"
    }
   ],
   "source": [
    "## Newey-West t-test\n",
    "all_intercepts[0].apply(lambda x: NW_ttest(ret = x, h0=0), axis=0).values"
   ]
  },
  {
   "cell_type": "code",
   "execution_count": 41,
   "metadata": {},
   "outputs": [
    {
     "data": {
      "text/plain": [
       "array([-0.62661646,  0.87951969, -1.04503796])"
      ]
     },
     "execution_count": 41,
     "metadata": {},
     "output_type": "execute_result"
    }
   ],
   "source": [
    "## Newey-West t-test\n",
    "all_lambdas[0].apply(lambda x: NW_ttest(ret = x, h0=0), axis=0).values"
   ]
  },
  {
   "cell_type": "markdown",
   "metadata": {},
   "source": [
    "### FF3-Factor Model"
   ]
  },
  {
   "cell_type": "code",
   "execution_count": 42,
   "metadata": {},
   "outputs": [],
   "source": [
    "# How many years in the rolling window\n",
    "n = 3"
   ]
  },
  {
   "cell_type": "code",
   "execution_count": 43,
   "metadata": {},
   "outputs": [
    {
     "name": "stdout",
     "output_type": "stream",
     "text": [
      "189 756\n"
     ]
    }
   ],
   "source": [
    "holding = 21\n",
    "rollingW = holding * n * 12\n",
    "lens = len(df_FF3)\n",
    "periods = int((lens - rollingW) / holding) - 1\n",
    "print(periods, rollingW)"
   ]
  },
  {
   "cell_type": "markdown",
   "metadata": {},
   "source": [
    "This cell is the first stage of FM OLS regression under the FF3-Factor Model, which aims to estiamte intercepts and the betas of FF3-Factors"
   ]
  },
  {
   "cell_type": "code",
   "execution_count": 44,
   "metadata": {},
   "outputs": [
    {
     "name": "stderr",
     "output_type": "stream",
     "text": [
      "100%|██████████| 189/189 [00:35<00:00,  5.34it/s]\n"
     ]
    }
   ],
   "source": [
    "# Keep the excess stock returns and factor returns have the same length\n",
    "df_Ex_SR_trnct = df_Ex_SR.loc[df_FF3.index,:]\n",
    "\n",
    "all_betas = []\n",
    "\n",
    "for i in tqdm(range(periods)):\n",
    "\n",
    "    df_FF3_tmp = df_FF3.iloc[i*holding:i*holding+rollingW,:]\n",
    "    df_Ex_SR_tmp = df_Ex_SR_trnct.iloc[i*holding:i*holding+rollingW,:]\n",
    "    \n",
    "    betas = []\n",
    "\n",
    "    for j in df_Ex_SR.columns:\n",
    "        df_index = df_Ex_SR_tmp.loc[:,j].dropna().index\n",
    "        \n",
    "        if len(df_index) != 0:\n",
    "            b = list(ols_model.fit(df_FF3_tmp.loc[df_index,:].values, df_Ex_SR_tmp.loc[df_index,j].values).coef_)\n",
    "            b.append(j)\n",
    "            betas.append(b)\n",
    "    df_betas = pd.DataFrame(np.array(betas)).rename(columns={0:'MKT',1:'SMB',2:'HML',3:'stock'}).set_index('stock')\n",
    "    \n",
    "    all_betas.append(df_betas)\n"
   ]
  },
  {
   "cell_type": "code",
   "execution_count": 45,
   "metadata": {
    "scrolled": true
   },
   "outputs": [
    {
     "data": {
      "text/html": [
       "<div>\n",
       "<style scoped>\n",
       "    .dataframe tbody tr th:only-of-type {\n",
       "        vertical-align: middle;\n",
       "    }\n",
       "\n",
       "    .dataframe tbody tr th {\n",
       "        vertical-align: top;\n",
       "    }\n",
       "\n",
       "    .dataframe thead th {\n",
       "        text-align: right;\n",
       "    }\n",
       "</style>\n",
       "<table border=\"1\" class=\"dataframe\">\n",
       "  <thead>\n",
       "    <tr style=\"text-align: right;\">\n",
       "      <th></th>\n",
       "      <th>MKT</th>\n",
       "      <th>SMB</th>\n",
       "      <th>HML</th>\n",
       "    </tr>\n",
       "    <tr>\n",
       "      <th>stock</th>\n",
       "      <th></th>\n",
       "      <th></th>\n",
       "      <th></th>\n",
       "    </tr>\n",
       "  </thead>\n",
       "  <tbody>\n",
       "    <tr>\n",
       "      <th>FDS.SJ.Equity</th>\n",
       "      <td>0.10715398963217436</td>\n",
       "      <td>-0.734816533049782</td>\n",
       "      <td>-0.36073237024722876</td>\n",
       "    </tr>\n",
       "    <tr>\n",
       "      <th>MOZ.SJ.Equity</th>\n",
       "      <td>0.3496847200863343</td>\n",
       "      <td>-1.1690744181025954</td>\n",
       "      <td>-0.3854473564628611</td>\n",
       "    </tr>\n",
       "    <tr>\n",
       "      <th>MTN.SJ.Equity</th>\n",
       "      <td>0.5257922000848395</td>\n",
       "      <td>-1.222008284490231</td>\n",
       "      <td>-0.14892697477848102</td>\n",
       "    </tr>\n",
       "    <tr>\n",
       "      <th>TRT.SJ.Equity</th>\n",
       "      <td>0.3407005946277602</td>\n",
       "      <td>0.5596396456391646</td>\n",
       "      <td>0.43335432663787793</td>\n",
       "    </tr>\n",
       "    <tr>\n",
       "      <th>AEG.SJ.Equity</th>\n",
       "      <td>0.24082250157618124</td>\n",
       "      <td>-0.28012508846578166</td>\n",
       "      <td>-0.08667815822722032</td>\n",
       "    </tr>\n",
       "    <tr>\n",
       "      <th>...</th>\n",
       "      <td>...</td>\n",
       "      <td>...</td>\n",
       "      <td>...</td>\n",
       "    </tr>\n",
       "    <tr>\n",
       "      <th>CHE.SJ.Equity</th>\n",
       "      <td>0.10055786665632858</td>\n",
       "      <td>0.20035876671951153</td>\n",
       "      <td>0.07053816239795793</td>\n",
       "    </tr>\n",
       "    <tr>\n",
       "      <th>JCG.SJ.Equity</th>\n",
       "      <td>0.13232817752399748</td>\n",
       "      <td>0.2136036410356354</td>\n",
       "      <td>-0.26574930268644376</td>\n",
       "    </tr>\n",
       "    <tr>\n",
       "      <th>CRM.SJ.Equity</th>\n",
       "      <td>0.051854963428057725</td>\n",
       "      <td>0.04424585096443055</td>\n",
       "      <td>-0.07010278346250398</td>\n",
       "    </tr>\n",
       "    <tr>\n",
       "      <th>CLE.SJ.Equity</th>\n",
       "      <td>0.047354069133957115</td>\n",
       "      <td>-0.0019346488690393793</td>\n",
       "      <td>-0.20556129419676167</td>\n",
       "    </tr>\n",
       "    <tr>\n",
       "      <th>WES.SJ.Equity</th>\n",
       "      <td>-0.1130730367598654</td>\n",
       "      <td>-0.175391377379043</td>\n",
       "      <td>-0.20573192189806933</td>\n",
       "    </tr>\n",
       "  </tbody>\n",
       "</table>\n",
       "<p>200 rows × 3 columns</p>\n",
       "</div>"
      ],
      "text/plain": [
       "                                MKT                     SMB  \\\n",
       "stock                                                         \n",
       "FDS.SJ.Equity   0.10715398963217436      -0.734816533049782   \n",
       "MOZ.SJ.Equity    0.3496847200863343     -1.1690744181025954   \n",
       "MTN.SJ.Equity    0.5257922000848395      -1.222008284490231   \n",
       "TRT.SJ.Equity    0.3407005946277602      0.5596396456391646   \n",
       "AEG.SJ.Equity   0.24082250157618124    -0.28012508846578166   \n",
       "...                             ...                     ...   \n",
       "CHE.SJ.Equity   0.10055786665632858     0.20035876671951153   \n",
       "JCG.SJ.Equity   0.13232817752399748      0.2136036410356354   \n",
       "CRM.SJ.Equity  0.051854963428057725     0.04424585096443055   \n",
       "CLE.SJ.Equity  0.047354069133957115  -0.0019346488690393793   \n",
       "WES.SJ.Equity   -0.1130730367598654      -0.175391377379043   \n",
       "\n",
       "                                HML  \n",
       "stock                                \n",
       "FDS.SJ.Equity  -0.36073237024722876  \n",
       "MOZ.SJ.Equity   -0.3854473564628611  \n",
       "MTN.SJ.Equity  -0.14892697477848102  \n",
       "TRT.SJ.Equity   0.43335432663787793  \n",
       "AEG.SJ.Equity  -0.08667815822722032  \n",
       "...                             ...  \n",
       "CHE.SJ.Equity   0.07053816239795793  \n",
       "JCG.SJ.Equity  -0.26574930268644376  \n",
       "CRM.SJ.Equity  -0.07010278346250398  \n",
       "CLE.SJ.Equity  -0.20556129419676167  \n",
       "WES.SJ.Equity  -0.20573192189806933  \n",
       "\n",
       "[200 rows x 3 columns]"
      ]
     },
     "execution_count": 45,
     "metadata": {},
     "output_type": "execute_result"
    }
   ],
   "source": [
    "# Print the estimated betas for one period\n",
    "all_betas[0]"
   ]
  },
  {
   "cell_type": "markdown",
   "metadata": {},
   "source": [
    "This cell is the second stage of FM OLS regression, which aims to\n",
    "estimate intercepts and the risk premiums of the FF3-Factor. It should be noted the regression is performed on a time-series scale"
   ]
  },
  {
   "cell_type": "code",
   "execution_count": 46,
   "metadata": {},
   "outputs": [
    {
     "name": "stderr",
     "output_type": "stream",
     "text": [
      "100%|██████████| 3969/3969 [00:06<00:00, 589.05it/s]\n"
     ]
    }
   ],
   "source": [
    "all_lambdas = []\n",
    "all_intercepts = []\n",
    "\n",
    "df_Ex_SR_tmp_T = df_Ex_SR_trnct.iloc[rollingW:rollingW+periods*holding,:].T\n",
    "\n",
    "lambdas = []\n",
    "intercepts = []\n",
    "index_times = list(df_Ex_SR_tmp_T.columns)\n",
    "\n",
    "for k in tqdm(df_Ex_SR_tmp_T.columns):\n",
    "    \n",
    "    i = int(index_times.index(k) / holding)\n",
    "\n",
    "    df_return = df_Ex_SR_tmp_T.loc[all_betas[i].index,k].dropna()\n",
    "    df_index = df_return.index\n",
    "    \n",
    "    if len(df_index) != 0:\n",
    "        l = list(ols_model.fit(all_betas[i].loc[df_index,:].values, df_return.values).coef_)\n",
    "        h = ols_model.fit(all_betas[i].loc[df_index,:].values, df_return.values).intercept_\n",
    "        lambdas.append(l)\n",
    "        intercepts.append(h)\n",
    "        \n",
    "all_lambdas.append(pd.DataFrame(lambdas))\n",
    "all_intercepts.append(pd.DataFrame(intercepts))"
   ]
  },
  {
   "cell_type": "code",
   "execution_count": 47,
   "metadata": {
    "scrolled": true
   },
   "outputs": [
    {
     "data": {
      "text/html": [
       "<div>\n",
       "<style scoped>\n",
       "    .dataframe tbody tr th:only-of-type {\n",
       "        vertical-align: middle;\n",
       "    }\n",
       "\n",
       "    .dataframe tbody tr th {\n",
       "        vertical-align: top;\n",
       "    }\n",
       "\n",
       "    .dataframe thead th {\n",
       "        text-align: right;\n",
       "    }\n",
       "</style>\n",
       "<table border=\"1\" class=\"dataframe\">\n",
       "  <thead>\n",
       "    <tr style=\"text-align: right;\">\n",
       "      <th></th>\n",
       "      <th>MKT</th>\n",
       "      <th>SMB</th>\n",
       "      <th>HML</th>\n",
       "    </tr>\n",
       "  </thead>\n",
       "  <tbody>\n",
       "    <tr>\n",
       "      <th>0</th>\n",
       "      <td>-0.000178</td>\n",
       "      <td>0.021014</td>\n",
       "      <td>-0.002192</td>\n",
       "    </tr>\n",
       "    <tr>\n",
       "      <th>1</th>\n",
       "      <td>0.011544</td>\n",
       "      <td>-0.012654</td>\n",
       "      <td>-0.005232</td>\n",
       "    </tr>\n",
       "    <tr>\n",
       "      <th>2</th>\n",
       "      <td>0.000691</td>\n",
       "      <td>-0.001598</td>\n",
       "      <td>-0.001184</td>\n",
       "    </tr>\n",
       "    <tr>\n",
       "      <th>3</th>\n",
       "      <td>-0.012045</td>\n",
       "      <td>-0.006196</td>\n",
       "      <td>0.016956</td>\n",
       "    </tr>\n",
       "    <tr>\n",
       "      <th>4</th>\n",
       "      <td>0.014316</td>\n",
       "      <td>-0.014997</td>\n",
       "      <td>-0.007062</td>\n",
       "    </tr>\n",
       "    <tr>\n",
       "      <th>...</th>\n",
       "      <td>...</td>\n",
       "      <td>...</td>\n",
       "      <td>...</td>\n",
       "    </tr>\n",
       "    <tr>\n",
       "      <th>3964</th>\n",
       "      <td>0.011811</td>\n",
       "      <td>-0.019187</td>\n",
       "      <td>-0.013076</td>\n",
       "    </tr>\n",
       "    <tr>\n",
       "      <th>3965</th>\n",
       "      <td>-0.011026</td>\n",
       "      <td>-0.004180</td>\n",
       "      <td>0.011909</td>\n",
       "    </tr>\n",
       "    <tr>\n",
       "      <th>3966</th>\n",
       "      <td>0.002040</td>\n",
       "      <td>0.015480</td>\n",
       "      <td>0.002550</td>\n",
       "    </tr>\n",
       "    <tr>\n",
       "      <th>3967</th>\n",
       "      <td>-0.008616</td>\n",
       "      <td>-0.018792</td>\n",
       "      <td>0.007132</td>\n",
       "    </tr>\n",
       "    <tr>\n",
       "      <th>3968</th>\n",
       "      <td>-0.003385</td>\n",
       "      <td>0.007306</td>\n",
       "      <td>0.023253</td>\n",
       "    </tr>\n",
       "  </tbody>\n",
       "</table>\n",
       "<p>3969 rows × 3 columns</p>\n",
       "</div>"
      ],
      "text/plain": [
       "           MKT       SMB       HML\n",
       "0    -0.000178  0.021014 -0.002192\n",
       "1     0.011544 -0.012654 -0.005232\n",
       "2     0.000691 -0.001598 -0.001184\n",
       "3    -0.012045 -0.006196  0.016956\n",
       "4     0.014316 -0.014997 -0.007062\n",
       "...        ...       ...       ...\n",
       "3964  0.011811 -0.019187 -0.013076\n",
       "3965 -0.011026 -0.004180  0.011909\n",
       "3966  0.002040  0.015480  0.002550\n",
       "3967 -0.008616 -0.018792  0.007132\n",
       "3968 -0.003385  0.007306  0.023253\n",
       "\n",
       "[3969 rows x 3 columns]"
      ]
     },
     "execution_count": 47,
     "metadata": {},
     "output_type": "execute_result"
    }
   ],
   "source": [
    "# Print all the risk premiums of FF3-Factor\n",
    "all_lambdas[0].rename(columns={0:'MKT',1:'SMB',2:'HML'})"
   ]
  },
  {
   "cell_type": "code",
   "execution_count": 48,
   "metadata": {
    "scrolled": true
   },
   "outputs": [
    {
     "name": "stderr",
     "output_type": "stream",
     "text": [
      "/Users/runxinlin/opt/anaconda3/lib/python3.8/site-packages/numpy/core/fromnumeric.py:3438: FutureWarning: In a future version, DataFrame.mean(axis=None) will return a scalar mean over the entire DataFrame. To retain the old behavior, use 'frame.mean(axis=0)' or just 'frame.mean()'\n",
      "  return mean(axis=axis, dtype=dtype, out=out, **kwargs)\n"
     ]
    },
    {
     "data": {
      "text/plain": [
       "0    0.107307\n",
       "dtype: float64"
      ]
     },
     "execution_count": 48,
     "metadata": {},
     "output_type": "execute_result"
    }
   ],
   "source": [
    "# Print the time-series average of intercepts\n",
    "np.mean(all_intercepts[0])*21*100"
   ]
  },
  {
   "cell_type": "code",
   "execution_count": 49,
   "metadata": {
    "scrolled": true
   },
   "outputs": [
    {
     "data": {
      "text/plain": [
       "0   -0.470702\n",
       "1   -0.148356\n",
       "2    0.284496\n",
       "dtype: float64"
      ]
     },
     "execution_count": 49,
     "metadata": {},
     "output_type": "execute_result"
    }
   ],
   "source": [
    "# Print the time-series average of risk premiums\n",
    "np.mean(all_lambdas[0], axis = 0)*21*100"
   ]
  },
  {
   "cell_type": "code",
   "execution_count": 50,
   "metadata": {
    "scrolled": true
   },
   "outputs": [
    {
     "data": {
      "text/plain": [
       "Ttest_1sampResult(statistic=array([0.88743472]), pvalue=array([0.37489868]))"
      ]
     },
     "execution_count": 50,
     "metadata": {},
     "output_type": "execute_result"
    }
   ],
   "source": [
    "# Print the ordinary t-statistics of intercepts\n",
    "stats.ttest_1samp(all_intercepts[0], 0.0)"
   ]
  },
  {
   "cell_type": "code",
   "execution_count": 51,
   "metadata": {
    "scrolled": false
   },
   "outputs": [
    {
     "data": {
      "text/plain": [
       "Ttest_1sampResult(statistic=array([-1.11113726, -0.59864657,  0.89824256]), pvalue=array([0.26657659, 0.54944277, 0.36911075]))"
      ]
     },
     "execution_count": 51,
     "metadata": {},
     "output_type": "execute_result"
    }
   ],
   "source": [
    "# Print the ordinary t-statistics of factor premiums \n",
    "stats.ttest_1samp(all_lambdas[0], 0.0)"
   ]
  },
  {
   "cell_type": "code",
   "execution_count": 52,
   "metadata": {
    "scrolled": false
   },
   "outputs": [
    {
     "data": {
      "text/plain": [
       "array([-0.67703242, -0.38548791,  0.59345951])"
      ]
     },
     "execution_count": 52,
     "metadata": {},
     "output_type": "execute_result"
    }
   ],
   "source": [
    "## Newey-West t-test For FF3-Factor\n",
    "all_lambdas[0].apply(lambda x: NW_ttest(ret = x, h0=0), axis=0).values"
   ]
  },
  {
   "cell_type": "markdown",
   "metadata": {},
   "source": [
    "### —Adding Control Variables"
   ]
  },
  {
   "cell_type": "code",
   "execution_count": 53,
   "metadata": {},
   "outputs": [],
   "source": [
    "# Keep the size and PE have the same length as stock returns\n",
    "df_ln_Size_trnct = df_ln_Size.loc[df_Ex_SR_trnct.index,:]\n",
    "df_PE_trnct = df_PE.loc[df_Ex_SR_trnct.index,:]"
   ]
  },
  {
   "cell_type": "code",
   "execution_count": 54,
   "metadata": {},
   "outputs": [
    {
     "data": {
      "text/plain": [
       "True"
      ]
     },
     "execution_count": 54,
     "metadata": {},
     "output_type": "execute_result"
    }
   ],
   "source": [
    "len(df_ln_Size_trnct)==len(df_PE_trnct)==len(df_Ex_SR_trnct)"
   ]
  },
  {
   "cell_type": "code",
   "execution_count": 55,
   "metadata": {},
   "outputs": [],
   "source": [
    "# Stock returns are forward for 21 days compared to firm characteristics \n",
    "Gap = 21"
   ]
  },
  {
   "cell_type": "markdown",
   "metadata": {},
   "source": [
    "This cell is the second stage of FM OLS regression under the FF3-Factor model and combined with the firm characteristics as control variables. This aim of this cell is to estimate factor premiums while controlling for omitted-variables bias"
   ]
  },
  {
   "cell_type": "code",
   "execution_count": 56,
   "metadata": {},
   "outputs": [
    {
     "name": "stderr",
     "output_type": "stream",
     "text": [
      "100%|██████████| 3948/3948 [00:17<00:00, 225.83it/s]\n"
     ]
    }
   ],
   "source": [
    "all_lambdas = []\n",
    "all_intercepts = []\n",
    "\n",
    "df_Ex_SR_tmp_T = df_Ex_SR_trnct.iloc[rollingW:rollingW+periods*holding,:].T\n",
    "df_ln_Size_tmp_T = df_ln_Size_trnct.iloc[rollingW:rollingW+periods*holding,:].T\n",
    "df_PE_tmp_T = df_PE_trnct.iloc[rollingW:rollingW+periods*holding,:].T\n",
    "\n",
    "lambdas = []\n",
    "intercepts = []\n",
    "index_times = list(df_Ex_SR_tmp_T.columns)\n",
    "\n",
    "\n",
    "for k in tqdm(df_Ex_SR_tmp_T.columns[:-Gap]):\n",
    "    i = int(index_times.index(k) / holding)\n",
    "    df_index = (((all_betas[i].index).intersection(df_ln_Size_tmp_T.loc[:,k].replace(-np.inf,np.nan).dropna().index).\\\n",
    "                   intersection(df_PE_tmp_T.loc[:,k].dropna().index)).\\\n",
    "                    intersection(df_Ex_SR_tmp_T.loc[:,index_times[index_times.index(k)+Gap]].dropna().index))\n",
    "    \n",
    "    if len(df_index) != 0:\n",
    "        \n",
    "        l = list(ols_model.fit((pd.concat([all_betas[i].loc[df_index,:], \\\n",
    "                                           df_ln_Size_tmp_T.loc[df_index,k],\\\n",
    "                                           df_PE_tmp_T .loc[df_index,k]],axis = 1).values), \\\n",
    "                               (df_Ex_SR_tmp_T.loc[df_index,index_times[index_times.index(k)+Gap]].values)).coef_)\n",
    "        \n",
    "        h = ols_model.fit((pd.concat([all_betas[i].loc[df_index,:], \\\n",
    "                                      df_ln_Size_tmp_T.loc[df_index,k],\\\n",
    "                                      df_PE_tmp_T .loc[df_index,k]],axis = 1).values), \\\n",
    "                          (df_Ex_SR_tmp_T.loc[df_index,index_times[index_times.index(k)+Gap]].values)).intercept_\n",
    "        \n",
    "        lambdas.append(l)\n",
    "        intercepts.append(h)\n",
    "        \n",
    "all_lambdas.append(pd.DataFrame(lambdas))\n",
    "all_intercepts.append(pd.DataFrame(intercepts))"
   ]
  },
  {
   "cell_type": "code",
   "execution_count": 57,
   "metadata": {
    "scrolled": true
   },
   "outputs": [
    {
     "data": {
      "text/html": [
       "<div>\n",
       "<style scoped>\n",
       "    .dataframe tbody tr th:only-of-type {\n",
       "        vertical-align: middle;\n",
       "    }\n",
       "\n",
       "    .dataframe tbody tr th {\n",
       "        vertical-align: top;\n",
       "    }\n",
       "\n",
       "    .dataframe thead th {\n",
       "        text-align: right;\n",
       "    }\n",
       "</style>\n",
       "<table border=\"1\" class=\"dataframe\">\n",
       "  <thead>\n",
       "    <tr style=\"text-align: right;\">\n",
       "      <th></th>\n",
       "      <th>0</th>\n",
       "    </tr>\n",
       "  </thead>\n",
       "  <tbody>\n",
       "    <tr>\n",
       "      <th>0</th>\n",
       "      <td>0.006178</td>\n",
       "    </tr>\n",
       "    <tr>\n",
       "      <th>1</th>\n",
       "      <td>-0.002231</td>\n",
       "    </tr>\n",
       "    <tr>\n",
       "      <th>2</th>\n",
       "      <td>-0.000196</td>\n",
       "    </tr>\n",
       "    <tr>\n",
       "      <th>3</th>\n",
       "      <td>0.005051</td>\n",
       "    </tr>\n",
       "    <tr>\n",
       "      <th>4</th>\n",
       "      <td>0.009729</td>\n",
       "    </tr>\n",
       "    <tr>\n",
       "      <th>...</th>\n",
       "      <td>...</td>\n",
       "    </tr>\n",
       "    <tr>\n",
       "      <th>3943</th>\n",
       "      <td>-0.000427</td>\n",
       "    </tr>\n",
       "    <tr>\n",
       "      <th>3944</th>\n",
       "      <td>0.001235</td>\n",
       "    </tr>\n",
       "    <tr>\n",
       "      <th>3945</th>\n",
       "      <td>-0.003506</td>\n",
       "    </tr>\n",
       "    <tr>\n",
       "      <th>3946</th>\n",
       "      <td>0.002570</td>\n",
       "    </tr>\n",
       "    <tr>\n",
       "      <th>3947</th>\n",
       "      <td>-0.000046</td>\n",
       "    </tr>\n",
       "  </tbody>\n",
       "</table>\n",
       "<p>3948 rows × 1 columns</p>\n",
       "</div>"
      ],
      "text/plain": [
       "             0\n",
       "0     0.006178\n",
       "1    -0.002231\n",
       "2    -0.000196\n",
       "3     0.005051\n",
       "4     0.009729\n",
       "...        ...\n",
       "3943 -0.000427\n",
       "3944  0.001235\n",
       "3945 -0.003506\n",
       "3946  0.002570\n",
       "3947 -0.000046\n",
       "\n",
       "[3948 rows x 1 columns]"
      ]
     },
     "execution_count": 57,
     "metadata": {},
     "output_type": "execute_result"
    }
   ],
   "source": [
    "# Print all the intercepts\n",
    "all_intercepts[0]"
   ]
  },
  {
   "cell_type": "code",
   "execution_count": 58,
   "metadata": {
    "scrolled": true
   },
   "outputs": [
    {
     "data": {
      "text/html": [
       "<div>\n",
       "<style scoped>\n",
       "    .dataframe tbody tr th:only-of-type {\n",
       "        vertical-align: middle;\n",
       "    }\n",
       "\n",
       "    .dataframe tbody tr th {\n",
       "        vertical-align: top;\n",
       "    }\n",
       "\n",
       "    .dataframe thead th {\n",
       "        text-align: right;\n",
       "    }\n",
       "</style>\n",
       "<table border=\"1\" class=\"dataframe\">\n",
       "  <thead>\n",
       "    <tr style=\"text-align: right;\">\n",
       "      <th></th>\n",
       "      <th>MKT</th>\n",
       "      <th>SMB</th>\n",
       "      <th>HML</th>\n",
       "      <th>Size</th>\n",
       "      <th>PE</th>\n",
       "    </tr>\n",
       "  </thead>\n",
       "  <tbody>\n",
       "    <tr>\n",
       "      <th>0</th>\n",
       "      <td>-1.064738e-02</td>\n",
       "      <td>1.840459e-03</td>\n",
       "      <td>-1.835874e-03</td>\n",
       "      <td>-3.196612e-04</td>\n",
       "      <td>3.474267e-03</td>\n",
       "    </tr>\n",
       "    <tr>\n",
       "      <th>1</th>\n",
       "      <td>7.467738e-03</td>\n",
       "      <td>-6.077850e-03</td>\n",
       "      <td>1.433193e-03</td>\n",
       "      <td>2.478058e-03</td>\n",
       "      <td>-3.463930e-04</td>\n",
       "    </tr>\n",
       "    <tr>\n",
       "      <th>2</th>\n",
       "      <td>-9.726217e-36</td>\n",
       "      <td>5.979824e-36</td>\n",
       "      <td>-7.790773e-37</td>\n",
       "      <td>3.027692e-36</td>\n",
       "      <td>-1.013072e-36</td>\n",
       "    </tr>\n",
       "    <tr>\n",
       "      <th>3</th>\n",
       "      <td>8.835954e-04</td>\n",
       "      <td>3.755131e-03</td>\n",
       "      <td>3.443500e-04</td>\n",
       "      <td>1.257490e-04</td>\n",
       "      <td>-6.546777e-03</td>\n",
       "    </tr>\n",
       "    <tr>\n",
       "      <th>4</th>\n",
       "      <td>-1.659113e-02</td>\n",
       "      <td>-2.392120e-03</td>\n",
       "      <td>8.430940e-03</td>\n",
       "      <td>5.206268e-03</td>\n",
       "      <td>3.628873e-03</td>\n",
       "    </tr>\n",
       "    <tr>\n",
       "      <th>...</th>\n",
       "      <td>...</td>\n",
       "      <td>...</td>\n",
       "      <td>...</td>\n",
       "      <td>...</td>\n",
       "      <td>...</td>\n",
       "    </tr>\n",
       "    <tr>\n",
       "      <th>3943</th>\n",
       "      <td>-6.750868e-03</td>\n",
       "      <td>-1.555005e-02</td>\n",
       "      <td>2.356817e-03</td>\n",
       "      <td>4.352075e-03</td>\n",
       "      <td>-1.086785e-03</td>\n",
       "    </tr>\n",
       "    <tr>\n",
       "      <th>3944</th>\n",
       "      <td>-2.215524e-02</td>\n",
       "      <td>7.484788e-03</td>\n",
       "      <td>1.175397e-02</td>\n",
       "      <td>7.432452e-03</td>\n",
       "      <td>3.079888e-03</td>\n",
       "    </tr>\n",
       "    <tr>\n",
       "      <th>3945</th>\n",
       "      <td>3.239354e-02</td>\n",
       "      <td>-3.845284e-03</td>\n",
       "      <td>-1.326750e-02</td>\n",
       "      <td>-1.478204e-02</td>\n",
       "      <td>-2.565785e-03</td>\n",
       "    </tr>\n",
       "    <tr>\n",
       "      <th>3946</th>\n",
       "      <td>-2.942957e-02</td>\n",
       "      <td>-1.049631e-02</td>\n",
       "      <td>2.390797e-02</td>\n",
       "      <td>6.810575e-03</td>\n",
       "      <td>3.358731e-05</td>\n",
       "    </tr>\n",
       "    <tr>\n",
       "      <th>3947</th>\n",
       "      <td>1.260181e-02</td>\n",
       "      <td>4.232563e-03</td>\n",
       "      <td>6.976610e-03</td>\n",
       "      <td>-3.568700e-03</td>\n",
       "      <td>2.122680e-03</td>\n",
       "    </tr>\n",
       "  </tbody>\n",
       "</table>\n",
       "<p>3948 rows × 5 columns</p>\n",
       "</div>"
      ],
      "text/plain": [
       "               MKT           SMB           HML          Size            PE\n",
       "0    -1.064738e-02  1.840459e-03 -1.835874e-03 -3.196612e-04  3.474267e-03\n",
       "1     7.467738e-03 -6.077850e-03  1.433193e-03  2.478058e-03 -3.463930e-04\n",
       "2    -9.726217e-36  5.979824e-36 -7.790773e-37  3.027692e-36 -1.013072e-36\n",
       "3     8.835954e-04  3.755131e-03  3.443500e-04  1.257490e-04 -6.546777e-03\n",
       "4    -1.659113e-02 -2.392120e-03  8.430940e-03  5.206268e-03  3.628873e-03\n",
       "...            ...           ...           ...           ...           ...\n",
       "3943 -6.750868e-03 -1.555005e-02  2.356817e-03  4.352075e-03 -1.086785e-03\n",
       "3944 -2.215524e-02  7.484788e-03  1.175397e-02  7.432452e-03  3.079888e-03\n",
       "3945  3.239354e-02 -3.845284e-03 -1.326750e-02 -1.478204e-02 -2.565785e-03\n",
       "3946 -2.942957e-02 -1.049631e-02  2.390797e-02  6.810575e-03  3.358731e-05\n",
       "3947  1.260181e-02  4.232563e-03  6.976610e-03 -3.568700e-03  2.122680e-03\n",
       "\n",
       "[3948 rows x 5 columns]"
      ]
     },
     "execution_count": 58,
     "metadata": {},
     "output_type": "execute_result"
    }
   ],
   "source": [
    "# Print all the risk premiums of FF3-Factor and the slope coefficients of firm characteristics\n",
    "all_lambdas[0].rename(columns={0:'MKT',1:'SMB',2:'HML',3:'Size',4:'PE'})"
   ]
  },
  {
   "cell_type": "code",
   "execution_count": 59,
   "metadata": {},
   "outputs": [
    {
     "data": {
      "text/plain": [
       "0    0.067208\n",
       "dtype: float64"
      ]
     },
     "execution_count": 59,
     "metadata": {},
     "output_type": "execute_result"
    }
   ],
   "source": [
    "# Print the time-series average of intercepts (pricing-errors)\n",
    "np.mean(all_intercepts[0], axis = 0)*21*100"
   ]
  },
  {
   "cell_type": "code",
   "execution_count": 60,
   "metadata": {
    "scrolled": true
   },
   "outputs": [
    {
     "name": "stderr",
     "output_type": "stream",
     "text": [
      "/Users/runxinlin/opt/anaconda3/lib/python3.8/site-packages/numpy/core/fromnumeric.py:3438: FutureWarning: In a future version, DataFrame.mean(axis=None) will return a scalar mean over the entire DataFrame. To retain the old behavior, use 'frame.mean(axis=0)' or just 'frame.mean()'\n",
      "  return mean(axis=axis, dtype=dtype, out=out, **kwargs)\n"
     ]
    },
    {
     "data": {
      "text/plain": [
       "0   -0.445835\n",
       "1    0.028950\n",
       "2    0.307128\n",
       "3    0.188822\n",
       "4   -0.065372\n",
       "dtype: float64"
      ]
     },
     "execution_count": 60,
     "metadata": {},
     "output_type": "execute_result"
    }
   ],
   "source": [
    "# Print he time-series average of factor premiums \n",
    "np.mean(all_lambdas[0])*21*100"
   ]
  },
  {
   "cell_type": "code",
   "execution_count": 61,
   "metadata": {},
   "outputs": [
    {
     "data": {
      "text/plain": [
       "array([0.567425])"
      ]
     },
     "execution_count": 61,
     "metadata": {},
     "output_type": "execute_result"
    }
   ],
   "source": [
    "# Print the ordinary t-statistics of intercepts\n",
    "stats.ttest_1samp(all_intercepts[0], 0.0)[0]"
   ]
  },
  {
   "cell_type": "code",
   "execution_count": 62,
   "metadata": {
    "scrolled": false
   },
   "outputs": [
    {
     "data": {
      "text/plain": [
       "array([-0.9177775 ,  0.09683119,  1.01346342,  1.12457412, -1.16113502])"
      ]
     },
     "execution_count": 62,
     "metadata": {},
     "output_type": "execute_result"
    }
   ],
   "source": [
    "# Print the ordinary t-statistics of risk premiums\n",
    "stats.ttest_1samp(all_lambdas[0], 0.0)[0]"
   ]
  },
  {
   "cell_type": "code",
   "execution_count": 63,
   "metadata": {},
   "outputs": [
    {
     "data": {
      "text/plain": [
       "array([-0.56648578,  0.06263045,  0.66214541,  0.74030678, -0.72724455])"
      ]
     },
     "execution_count": 63,
     "metadata": {},
     "output_type": "execute_result"
    }
   ],
   "source": [
    "## Newey-West t-statistics of factor premiums \n",
    "all_lambdas[0].apply(lambda x: NW_ttest(ret = x, h0=0), axis=0).values"
   ]
  },
  {
   "cell_type": "markdown",
   "metadata": {},
   "source": [
    "### Carhart4-Factor Model"
   ]
  },
  {
   "cell_type": "code",
   "execution_count": 64,
   "metadata": {},
   "outputs": [],
   "source": [
    "n = 3\n",
    "holding = 21\n",
    "rollingW = holding * n *12\n",
    "lens = len(df_FF4)\n",
    "periods = int((lens - rollingW) / holding) - 1"
   ]
  },
  {
   "cell_type": "markdown",
   "metadata": {},
   "source": [
    "This cell is the first stage of FM OLS regression under the Carhart4-Factor Model, which aims to estiamte intercepts and the betas of Carhart4-Factors"
   ]
  },
  {
   "cell_type": "code",
   "execution_count": 65,
   "metadata": {
    "scrolled": true
   },
   "outputs": [
    {
     "name": "stderr",
     "output_type": "stream",
     "text": [
      "100%|██████████| 189/189 [00:45<00:00,  4.17it/s]\n"
     ]
    }
   ],
   "source": [
    "# Keep the excess stock returns and factor returns have the same length\n",
    "df_Ex_SR_trnct = df_Ex_SR.loc[df_FF4.index,:]\n",
    "\n",
    "all_betas = []\n",
    "\n",
    "for i in tqdm(range(periods)):\n",
    "\n",
    "    df_FF4_tmp = df_FF4.iloc[i*holding:i*holding+rollingW,:]\n",
    "    df_Ex_SR_tmp = df_Ex_SR_trnct.iloc[i*holding:i*holding+rollingW,:]\n",
    "    \n",
    "    betas = []\n",
    "\n",
    "    for j in df_Ex_SR.columns:\n",
    "        df_index = df_Ex_SR_tmp.loc[:,j].dropna().index\n",
    "        \n",
    "        if len(df_index) != 0:\n",
    "            b = list(ols_model.fit(df_FF4_tmp.loc[df_index,:].values, df_Ex_SR_tmp.loc[df_index,j].values).coef_)\n",
    "            b.append(j)\n",
    "            betas.append(b)\n",
    "    df_betas = pd.DataFrame(np.array(betas)).rename(columns={0:'MKT',1:'SMB',2:'HML',3:'WML',4:'stock'}).set_index('stock')\n",
    "    \n",
    "    all_betas.append(df_betas)"
   ]
  },
  {
   "cell_type": "code",
   "execution_count": 66,
   "metadata": {
    "scrolled": true
   },
   "outputs": [
    {
     "data": {
      "text/html": [
       "<div>\n",
       "<style scoped>\n",
       "    .dataframe tbody tr th:only-of-type {\n",
       "        vertical-align: middle;\n",
       "    }\n",
       "\n",
       "    .dataframe tbody tr th {\n",
       "        vertical-align: top;\n",
       "    }\n",
       "\n",
       "    .dataframe thead th {\n",
       "        text-align: right;\n",
       "    }\n",
       "</style>\n",
       "<table border=\"1\" class=\"dataframe\">\n",
       "  <thead>\n",
       "    <tr style=\"text-align: right;\">\n",
       "      <th></th>\n",
       "      <th>MKT</th>\n",
       "      <th>SMB</th>\n",
       "      <th>HML</th>\n",
       "      <th>WML</th>\n",
       "    </tr>\n",
       "    <tr>\n",
       "      <th>stock</th>\n",
       "      <th></th>\n",
       "      <th></th>\n",
       "      <th></th>\n",
       "      <th></th>\n",
       "    </tr>\n",
       "  </thead>\n",
       "  <tbody>\n",
       "    <tr>\n",
       "      <th>FDS.SJ.Equity</th>\n",
       "      <td>0.24177300440579327</td>\n",
       "      <td>-0.4094764065208389</td>\n",
       "      <td>-0.3005724328521078</td>\n",
       "      <td>-0.4919795333836393</td>\n",
       "    </tr>\n",
       "    <tr>\n",
       "      <th>MOZ.SJ.Equity</th>\n",
       "      <td>0.4056615847821329</td>\n",
       "      <td>-1.0492150826286548</td>\n",
       "      <td>-0.27889957930875264</td>\n",
       "      <td>-0.07557311035311315</td>\n",
       "    </tr>\n",
       "    <tr>\n",
       "      <th>MTN.SJ.Equity</th>\n",
       "      <td>0.547062339296451</td>\n",
       "      <td>-1.2987631211074795</td>\n",
       "      <td>-0.08232264670969627</td>\n",
       "      <td>-0.10404017631632623</td>\n",
       "    </tr>\n",
       "    <tr>\n",
       "      <th>TRT.SJ.Equity</th>\n",
       "      <td>0.3348852423272915</td>\n",
       "      <td>0.5910440280061804</td>\n",
       "      <td>0.39633358774372124</td>\n",
       "      <td>0.00609271304615</td>\n",
       "    </tr>\n",
       "    <tr>\n",
       "      <th>AEG.SJ.Equity</th>\n",
       "      <td>0.2876566748824977</td>\n",
       "      <td>-0.11515048714272419</td>\n",
       "      <td>-0.0409813329970857</td>\n",
       "      <td>-0.07519192645081765</td>\n",
       "    </tr>\n",
       "    <tr>\n",
       "      <th>...</th>\n",
       "      <td>...</td>\n",
       "      <td>...</td>\n",
       "      <td>...</td>\n",
       "      <td>...</td>\n",
       "    </tr>\n",
       "    <tr>\n",
       "      <th>CHE.SJ.Equity</th>\n",
       "      <td>0.09089840855436024</td>\n",
       "      <td>0.14076073555101876</td>\n",
       "      <td>0.03526811085986954</td>\n",
       "      <td>-0.05545390193506684</td>\n",
       "    </tr>\n",
       "    <tr>\n",
       "      <th>JCG.SJ.Equity</th>\n",
       "      <td>0.14811832628462557</td>\n",
       "      <td>0.3324361243852805</td>\n",
       "      <td>-0.25411183754894456</td>\n",
       "      <td>0.030558795972424446</td>\n",
       "    </tr>\n",
       "    <tr>\n",
       "      <th>CRM.SJ.Equity</th>\n",
       "      <td>0.06315120987879569</td>\n",
       "      <td>0.08076189444438221</td>\n",
       "      <td>-0.0717431296682374</td>\n",
       "      <td>-0.04418162886207781</td>\n",
       "    </tr>\n",
       "    <tr>\n",
       "      <th>CLE.SJ.Equity</th>\n",
       "      <td>0.06704533036279861</td>\n",
       "      <td>0.05534200328585487</td>\n",
       "      <td>-0.20350931977348796</td>\n",
       "      <td>-0.07392660958028069</td>\n",
       "    </tr>\n",
       "    <tr>\n",
       "      <th>WES.SJ.Equity</th>\n",
       "      <td>-0.10626912508181187</td>\n",
       "      <td>-0.14329529474329045</td>\n",
       "      <td>-0.1820624266524506</td>\n",
       "      <td>0.02784361966335866</td>\n",
       "    </tr>\n",
       "  </tbody>\n",
       "</table>\n",
       "<p>200 rows × 4 columns</p>\n",
       "</div>"
      ],
      "text/plain": [
       "                                MKT                   SMB  \\\n",
       "stock                                                       \n",
       "FDS.SJ.Equity   0.24177300440579327   -0.4094764065208389   \n",
       "MOZ.SJ.Equity    0.4056615847821329   -1.0492150826286548   \n",
       "MTN.SJ.Equity     0.547062339296451   -1.2987631211074795   \n",
       "TRT.SJ.Equity    0.3348852423272915    0.5910440280061804   \n",
       "AEG.SJ.Equity    0.2876566748824977  -0.11515048714272419   \n",
       "...                             ...                   ...   \n",
       "CHE.SJ.Equity   0.09089840855436024   0.14076073555101876   \n",
       "JCG.SJ.Equity   0.14811832628462557    0.3324361243852805   \n",
       "CRM.SJ.Equity   0.06315120987879569   0.08076189444438221   \n",
       "CLE.SJ.Equity   0.06704533036279861   0.05534200328585487   \n",
       "WES.SJ.Equity  -0.10626912508181187  -0.14329529474329045   \n",
       "\n",
       "                                HML                   WML  \n",
       "stock                                                      \n",
       "FDS.SJ.Equity   -0.3005724328521078   -0.4919795333836393  \n",
       "MOZ.SJ.Equity  -0.27889957930875264  -0.07557311035311315  \n",
       "MTN.SJ.Equity  -0.08232264670969627  -0.10404017631632623  \n",
       "TRT.SJ.Equity   0.39633358774372124      0.00609271304615  \n",
       "AEG.SJ.Equity   -0.0409813329970857  -0.07519192645081765  \n",
       "...                             ...                   ...  \n",
       "CHE.SJ.Equity   0.03526811085986954  -0.05545390193506684  \n",
       "JCG.SJ.Equity  -0.25411183754894456  0.030558795972424446  \n",
       "CRM.SJ.Equity   -0.0717431296682374  -0.04418162886207781  \n",
       "CLE.SJ.Equity  -0.20350931977348796  -0.07392660958028069  \n",
       "WES.SJ.Equity   -0.1820624266524506   0.02784361966335866  \n",
       "\n",
       "[200 rows x 4 columns]"
      ]
     },
     "execution_count": 66,
     "metadata": {},
     "output_type": "execute_result"
    }
   ],
   "source": [
    "# Print the estimated betas for one period\n",
    "all_betas[0]"
   ]
  },
  {
   "cell_type": "markdown",
   "metadata": {},
   "source": [
    "This cell is the second stage of FM OLS regression, which aims to\n",
    "estimate intercepts and the risk premiums of the Carhart4-Factor. It should be noted that the regression is performed on a time-series scale"
   ]
  },
  {
   "cell_type": "code",
   "execution_count": 67,
   "metadata": {},
   "outputs": [
    {
     "name": "stderr",
     "output_type": "stream",
     "text": [
      "100%|██████████| 3969/3969 [00:08<00:00, 471.87it/s]\n"
     ]
    }
   ],
   "source": [
    "all_lambdas = []\n",
    "all_intercepts = []\n",
    "\n",
    "lambdas = []\n",
    "intercepts = []\n",
    "index_times = list(df_Ex_SR_tmp_T.columns)\n",
    "\n",
    "for k in tqdm(df_Ex_SR_tmp_T.columns):\n",
    "    \n",
    "    i = int(index_times.index(k) / holding)\n",
    "\n",
    "    df_return = df_Ex_SR_tmp_T.loc[all_betas[i].index,k].dropna()\n",
    "    df_index = df_return.index\n",
    "    \n",
    "    if len(df_index) != 0:\n",
    "        l = list(ols_model.fit(all_betas[i].loc[df_index,:].values, df_return.values).coef_)\n",
    "        h = ols_model.fit(all_betas[i].loc[df_index,:].values, df_return.values).intercept_\n",
    "        lambdas.append(l)\n",
    "        intercepts.append(h)\n",
    "        \n",
    "all_lambdas.append(pd.DataFrame(lambdas))\n",
    "all_intercepts.append(pd.DataFrame(intercepts))"
   ]
  },
  {
   "cell_type": "code",
   "execution_count": 68,
   "metadata": {
    "scrolled": true
   },
   "outputs": [
    {
     "data": {
      "text/html": [
       "<div>\n",
       "<style scoped>\n",
       "    .dataframe tbody tr th:only-of-type {\n",
       "        vertical-align: middle;\n",
       "    }\n",
       "\n",
       "    .dataframe tbody tr th {\n",
       "        vertical-align: top;\n",
       "    }\n",
       "\n",
       "    .dataframe thead th {\n",
       "        text-align: right;\n",
       "    }\n",
       "</style>\n",
       "<table border=\"1\" class=\"dataframe\">\n",
       "  <thead>\n",
       "    <tr style=\"text-align: right;\">\n",
       "      <th></th>\n",
       "      <th>MKT</th>\n",
       "      <th>SMB</th>\n",
       "      <th>HML</th>\n",
       "      <th>WML</th>\n",
       "    </tr>\n",
       "  </thead>\n",
       "  <tbody>\n",
       "    <tr>\n",
       "      <th>0</th>\n",
       "      <td>0.004545</td>\n",
       "      <td>0.019473</td>\n",
       "      <td>-0.009060</td>\n",
       "      <td>-0.031456</td>\n",
       "    </tr>\n",
       "    <tr>\n",
       "      <th>1</th>\n",
       "      <td>0.012638</td>\n",
       "      <td>-0.012311</td>\n",
       "      <td>-0.005911</td>\n",
       "      <td>-0.004416</td>\n",
       "    </tr>\n",
       "    <tr>\n",
       "      <th>2</th>\n",
       "      <td>-0.002235</td>\n",
       "      <td>-0.001809</td>\n",
       "      <td>0.002407</td>\n",
       "      <td>0.019264</td>\n",
       "    </tr>\n",
       "    <tr>\n",
       "      <th>3</th>\n",
       "      <td>-0.012260</td>\n",
       "      <td>-0.005589</td>\n",
       "      <td>0.017893</td>\n",
       "      <td>0.000400</td>\n",
       "    </tr>\n",
       "    <tr>\n",
       "      <th>4</th>\n",
       "      <td>0.010182</td>\n",
       "      <td>-0.012116</td>\n",
       "      <td>-0.001880</td>\n",
       "      <td>0.025864</td>\n",
       "    </tr>\n",
       "    <tr>\n",
       "      <th>...</th>\n",
       "      <td>...</td>\n",
       "      <td>...</td>\n",
       "      <td>...</td>\n",
       "      <td>...</td>\n",
       "    </tr>\n",
       "    <tr>\n",
       "      <th>3964</th>\n",
       "      <td>0.010946</td>\n",
       "      <td>-0.018895</td>\n",
       "      <td>-0.014050</td>\n",
       "      <td>-0.002631</td>\n",
       "    </tr>\n",
       "    <tr>\n",
       "      <th>3965</th>\n",
       "      <td>-0.007452</td>\n",
       "      <td>-0.003173</td>\n",
       "      <td>0.011285</td>\n",
       "      <td>0.010397</td>\n",
       "    </tr>\n",
       "    <tr>\n",
       "      <th>3966</th>\n",
       "      <td>-0.007037</td>\n",
       "      <td>0.013551</td>\n",
       "      <td>0.004458</td>\n",
       "      <td>-0.023200</td>\n",
       "    </tr>\n",
       "    <tr>\n",
       "      <th>3967</th>\n",
       "      <td>-0.003844</td>\n",
       "      <td>-0.013612</td>\n",
       "      <td>0.004714</td>\n",
       "      <td>0.008081</td>\n",
       "    </tr>\n",
       "    <tr>\n",
       "      <th>3968</th>\n",
       "      <td>-0.008262</td>\n",
       "      <td>0.004010</td>\n",
       "      <td>0.025264</td>\n",
       "      <td>-0.006076</td>\n",
       "    </tr>\n",
       "  </tbody>\n",
       "</table>\n",
       "<p>3969 rows × 4 columns</p>\n",
       "</div>"
      ],
      "text/plain": [
       "           MKT       SMB       HML       WML\n",
       "0     0.004545  0.019473 -0.009060 -0.031456\n",
       "1     0.012638 -0.012311 -0.005911 -0.004416\n",
       "2    -0.002235 -0.001809  0.002407  0.019264\n",
       "3    -0.012260 -0.005589  0.017893  0.000400\n",
       "4     0.010182 -0.012116 -0.001880  0.025864\n",
       "...        ...       ...       ...       ...\n",
       "3964  0.010946 -0.018895 -0.014050 -0.002631\n",
       "3965 -0.007452 -0.003173  0.011285  0.010397\n",
       "3966 -0.007037  0.013551  0.004458 -0.023200\n",
       "3967 -0.003844 -0.013612  0.004714  0.008081\n",
       "3968 -0.008262  0.004010  0.025264 -0.006076\n",
       "\n",
       "[3969 rows x 4 columns]"
      ]
     },
     "execution_count": 68,
     "metadata": {},
     "output_type": "execute_result"
    }
   ],
   "source": [
    "# Print all the risk premiums of Carhart4-Factor\n",
    "all_lambdas[0].rename(columns={0:'MKT',1:'SMB',2:'HML',3:'WML'})"
   ]
  },
  {
   "cell_type": "code",
   "execution_count": 69,
   "metadata": {},
   "outputs": [
    {
     "data": {
      "text/plain": [
       "0    0.070273\n",
       "dtype: float64"
      ]
     },
     "execution_count": 69,
     "metadata": {},
     "output_type": "execute_result"
    }
   ],
   "source": [
    "# Print the time-series average of intercepts\n",
    "np.mean(all_intercepts[0], axis = 0)*21*100"
   ]
  },
  {
   "cell_type": "code",
   "execution_count": 70,
   "metadata": {},
   "outputs": [
    {
     "name": "stderr",
     "output_type": "stream",
     "text": [
      "/Users/runxinlin/opt/anaconda3/lib/python3.8/site-packages/numpy/core/fromnumeric.py:3438: FutureWarning: In a future version, DataFrame.mean(axis=None) will return a scalar mean over the entire DataFrame. To retain the old behavior, use 'frame.mean(axis=0)' or just 'frame.mean()'\n",
      "  return mean(axis=axis, dtype=dtype, out=out, **kwargs)\n"
     ]
    },
    {
     "data": {
      "text/plain": [
       "0   -0.336100\n",
       "1   -0.091794\n",
       "2    0.264773\n",
       "3    0.059924\n",
       "dtype: float64"
      ]
     },
     "execution_count": 70,
     "metadata": {},
     "output_type": "execute_result"
    }
   ],
   "source": [
    "# Print the time-series average of the risk premiums of Carhart4-Factor\n",
    "np.mean(all_lambdas[0])*21*100"
   ]
  },
  {
   "cell_type": "code",
   "execution_count": 71,
   "metadata": {},
   "outputs": [
    {
     "data": {
      "text/plain": [
       "array([0.56599423])"
      ]
     },
     "execution_count": 71,
     "metadata": {},
     "output_type": "execute_result"
    }
   ],
   "source": [
    "stats.ttest_1samp(all_intercepts[0], 0.0)[0]"
   ]
  },
  {
   "cell_type": "code",
   "execution_count": 72,
   "metadata": {
    "scrolled": false
   },
   "outputs": [
    {
     "data": {
      "text/plain": [
       "array([-0.79049803, -0.35975897,  0.97466268,  0.12580304])"
      ]
     },
     "execution_count": 72,
     "metadata": {},
     "output_type": "execute_result"
    }
   ],
   "source": [
    "stats.ttest_1samp(all_lambdas[0], 0.0)[0]"
   ]
  },
  {
   "cell_type": "code",
   "execution_count": 73,
   "metadata": {},
   "outputs": [
    {
     "data": {
      "text/plain": [
       "array([-0.48397576, -0.23070276,  0.62619986,  0.08305253])"
      ]
     },
     "execution_count": 73,
     "metadata": {},
     "output_type": "execute_result"
    }
   ],
   "source": [
    "## Newey-West t-test\n",
    "all_lambdas[0].apply(lambda x: NW_ttest(ret = x, h0=0), axis=0).values"
   ]
  },
  {
   "cell_type": "markdown",
   "metadata": {},
   "source": [
    "### FF5-Factor Model"
   ]
  },
  {
   "cell_type": "code",
   "execution_count": 74,
   "metadata": {},
   "outputs": [],
   "source": [
    "# How many years in the rolling window\n",
    "n = 3"
   ]
  },
  {
   "cell_type": "code",
   "execution_count": 75,
   "metadata": {},
   "outputs": [
    {
     "data": {
      "text/plain": [
       "189"
      ]
     },
     "execution_count": 75,
     "metadata": {},
     "output_type": "execute_result"
    }
   ],
   "source": [
    "holding = 21\n",
    "rollingW = holding * n *12\n",
    "lens = len(df_FF5)\n",
    "periods = int((lens - rollingW) / holding) - 1\n",
    "periods"
   ]
  },
  {
   "cell_type": "code",
   "execution_count": 76,
   "metadata": {},
   "outputs": [
    {
     "name": "stderr",
     "output_type": "stream",
     "text": [
      "100%|██████████| 189/189 [00:39<00:00,  4.78it/s]\n"
     ]
    }
   ],
   "source": [
    "df_Ex_SR_trnct = df_Ex_SR.loc[df_FF5.index,:]\n",
    "\n",
    "all_betas = []\n",
    "\n",
    "for i in tqdm(range(periods)):\n",
    "\n",
    "    df_FF5_tmp = df_FF5.iloc[i*holding:i*holding+rollingW,:]\n",
    "    df_Ex_SR_tmp = df_Ex_SR_trnct.iloc[i*holding:i*holding+rollingW,:]\n",
    "    \n",
    "    betas = []\n",
    "\n",
    "    for j in df_Ex_SR.columns:\n",
    "        df_index = df_Ex_SR_tmp.loc[:,j].dropna().index\n",
    "        \n",
    "        if len(df_index) != 0:\n",
    "            b = list(ols_model.fit(df_FF5_tmp.loc[df_index,:].values, df_Ex_SR_tmp.loc[df_index,j].values).coef_)\n",
    "            b.append(j)\n",
    "            betas.append(b)\n",
    "            \n",
    "    df_betas = pd.DataFrame(np.array(betas)).rename(columns={0:'MKT',1:'SMB',2:'HML',3:'RMW',4:'CMA',5:'stock'}).set_index('stock')    \n",
    "    all_betas.append(df_betas)\n"
   ]
  },
  {
   "cell_type": "code",
   "execution_count": 77,
   "metadata": {
    "scrolled": true
   },
   "outputs": [
    {
     "data": {
      "text/html": [
       "<div>\n",
       "<style scoped>\n",
       "    .dataframe tbody tr th:only-of-type {\n",
       "        vertical-align: middle;\n",
       "    }\n",
       "\n",
       "    .dataframe tbody tr th {\n",
       "        vertical-align: top;\n",
       "    }\n",
       "\n",
       "    .dataframe thead th {\n",
       "        text-align: right;\n",
       "    }\n",
       "</style>\n",
       "<table border=\"1\" class=\"dataframe\">\n",
       "  <thead>\n",
       "    <tr style=\"text-align: right;\">\n",
       "      <th></th>\n",
       "      <th>MKT</th>\n",
       "      <th>SMB</th>\n",
       "      <th>HML</th>\n",
       "      <th>RMW</th>\n",
       "      <th>CMA</th>\n",
       "    </tr>\n",
       "    <tr>\n",
       "      <th>stock</th>\n",
       "      <th></th>\n",
       "      <th></th>\n",
       "      <th></th>\n",
       "      <th></th>\n",
       "      <th></th>\n",
       "    </tr>\n",
       "  </thead>\n",
       "  <tbody>\n",
       "    <tr>\n",
       "      <th>FDS.SJ.Equity</th>\n",
       "      <td>0.21594264102098834</td>\n",
       "      <td>-0.26365301195099544</td>\n",
       "      <td>-0.15474269947945266</td>\n",
       "      <td>0.06449239226592982</td>\n",
       "      <td>-0.733818752778601</td>\n",
       "    </tr>\n",
       "    <tr>\n",
       "      <th>MOZ.SJ.Equity</th>\n",
       "      <td>0.3567148744111223</td>\n",
       "      <td>-1.1407355303866715</td>\n",
       "      <td>-0.26624992335694897</td>\n",
       "      <td>-0.46973897280632726</td>\n",
       "      <td>0.13455746395747728</td>\n",
       "    </tr>\n",
       "    <tr>\n",
       "      <th>MTN.SJ.Equity</th>\n",
       "      <td>0.5385334266557813</td>\n",
       "      <td>-1.2596571699238706</td>\n",
       "      <td>-0.03867049865215673</td>\n",
       "      <td>-0.07861584975846897</td>\n",
       "      <td>-0.21640578514747963</td>\n",
       "    </tr>\n",
       "    <tr>\n",
       "      <th>TRT.SJ.Equity</th>\n",
       "      <td>0.39773876018490356</td>\n",
       "      <td>0.8228095450977866</td>\n",
       "      <td>0.47128387465798915</td>\n",
       "      <td>0.38679539906786753</td>\n",
       "      <td>-0.7008336739851152</td>\n",
       "    </tr>\n",
       "    <tr>\n",
       "      <th>AEG.SJ.Equity</th>\n",
       "      <td>0.2664837466811016</td>\n",
       "      <td>-0.093139172897612</td>\n",
       "      <td>0.014010569670607449</td>\n",
       "      <td>-0.3348346930264554</td>\n",
       "      <td>-0.22855322146509105</td>\n",
       "    </tr>\n",
       "    <tr>\n",
       "      <th>...</th>\n",
       "      <td>...</td>\n",
       "      <td>...</td>\n",
       "      <td>...</td>\n",
       "      <td>...</td>\n",
       "      <td>...</td>\n",
       "    </tr>\n",
       "    <tr>\n",
       "      <th>CHE.SJ.Equity</th>\n",
       "      <td>0.09277949691567697</td>\n",
       "      <td>0.19514050786355222</td>\n",
       "      <td>0.07443424189179781</td>\n",
       "      <td>-0.03746204340522412</td>\n",
       "      <td>-0.23471649085733015</td>\n",
       "    </tr>\n",
       "    <tr>\n",
       "      <th>JCG.SJ.Equity</th>\n",
       "      <td>0.10013197038212897</td>\n",
       "      <td>0.12032503174862093</td>\n",
       "      <td>-0.33902235920377743</td>\n",
       "      <td>-0.24517513025441123</td>\n",
       "      <td>0.6953659671618272</td>\n",
       "    </tr>\n",
       "    <tr>\n",
       "      <th>CRM.SJ.Equity</th>\n",
       "      <td>0.06397657938958827</td>\n",
       "      <td>0.10095118120072953</td>\n",
       "      <td>-0.05869801093783745</td>\n",
       "      <td>0.042567506120066184</td>\n",
       "      <td>-0.07894489270300882</td>\n",
       "    </tr>\n",
       "    <tr>\n",
       "      <th>CLE.SJ.Equity</th>\n",
       "      <td>0.07273293650832194</td>\n",
       "      <td>0.1268421246515941</td>\n",
       "      <td>-0.15821236404628308</td>\n",
       "      <td>0.01757411369442965</td>\n",
       "      <td>-0.2863258300137765</td>\n",
       "    </tr>\n",
       "    <tr>\n",
       "      <th>WES.SJ.Equity</th>\n",
       "      <td>-0.10925597035011188</td>\n",
       "      <td>-0.16084418028738662</td>\n",
       "      <td>-0.18962302646990786</td>\n",
       "      <td>-0.05841226023418728</td>\n",
       "      <td>0.056387993851078774</td>\n",
       "    </tr>\n",
       "  </tbody>\n",
       "</table>\n",
       "<p>200 rows × 5 columns</p>\n",
       "</div>"
      ],
      "text/plain": [
       "                                MKT                   SMB  \\\n",
       "stock                                                       \n",
       "FDS.SJ.Equity   0.21594264102098834  -0.26365301195099544   \n",
       "MOZ.SJ.Equity    0.3567148744111223   -1.1407355303866715   \n",
       "MTN.SJ.Equity    0.5385334266557813   -1.2596571699238706   \n",
       "TRT.SJ.Equity   0.39773876018490356    0.8228095450977866   \n",
       "AEG.SJ.Equity    0.2664837466811016    -0.093139172897612   \n",
       "...                             ...                   ...   \n",
       "CHE.SJ.Equity   0.09277949691567697   0.19514050786355222   \n",
       "JCG.SJ.Equity   0.10013197038212897   0.12032503174862093   \n",
       "CRM.SJ.Equity   0.06397657938958827   0.10095118120072953   \n",
       "CLE.SJ.Equity   0.07273293650832194    0.1268421246515941   \n",
       "WES.SJ.Equity  -0.10925597035011188  -0.16084418028738662   \n",
       "\n",
       "                                HML                   RMW  \\\n",
       "stock                                                       \n",
       "FDS.SJ.Equity  -0.15474269947945266   0.06449239226592982   \n",
       "MOZ.SJ.Equity  -0.26624992335694897  -0.46973897280632726   \n",
       "MTN.SJ.Equity  -0.03867049865215673  -0.07861584975846897   \n",
       "TRT.SJ.Equity   0.47128387465798915   0.38679539906786753   \n",
       "AEG.SJ.Equity  0.014010569670607449   -0.3348346930264554   \n",
       "...                             ...                   ...   \n",
       "CHE.SJ.Equity   0.07443424189179781  -0.03746204340522412   \n",
       "JCG.SJ.Equity  -0.33902235920377743  -0.24517513025441123   \n",
       "CRM.SJ.Equity  -0.05869801093783745  0.042567506120066184   \n",
       "CLE.SJ.Equity  -0.15821236404628308   0.01757411369442965   \n",
       "WES.SJ.Equity  -0.18962302646990786  -0.05841226023418728   \n",
       "\n",
       "                                CMA  \n",
       "stock                                \n",
       "FDS.SJ.Equity    -0.733818752778601  \n",
       "MOZ.SJ.Equity   0.13455746395747728  \n",
       "MTN.SJ.Equity  -0.21640578514747963  \n",
       "TRT.SJ.Equity   -0.7008336739851152  \n",
       "AEG.SJ.Equity  -0.22855322146509105  \n",
       "...                             ...  \n",
       "CHE.SJ.Equity  -0.23471649085733015  \n",
       "JCG.SJ.Equity    0.6953659671618272  \n",
       "CRM.SJ.Equity  -0.07894489270300882  \n",
       "CLE.SJ.Equity   -0.2863258300137765  \n",
       "WES.SJ.Equity  0.056387993851078774  \n",
       "\n",
       "[200 rows x 5 columns]"
      ]
     },
     "execution_count": 77,
     "metadata": {},
     "output_type": "execute_result"
    }
   ],
   "source": [
    "all_betas[0]"
   ]
  },
  {
   "cell_type": "code",
   "execution_count": 78,
   "metadata": {},
   "outputs": [
    {
     "name": "stderr",
     "output_type": "stream",
     "text": [
      "100%|██████████| 3969/3969 [00:08<00:00, 489.26it/s]\n"
     ]
    }
   ],
   "source": [
    "all_lambdas = []\n",
    "all_intercepts = []\n",
    "\n",
    "df_Ex_SR_tmp_T = df_Ex_SR_trnct.iloc[rollingW:rollingW+periods*holding,:].T\n",
    "\n",
    "lambdas = []\n",
    "intercepts = []\n",
    "index_times = list(df_Ex_SR_tmp_T.columns)\n",
    "\n",
    "for k in tqdm(df_Ex_SR_tmp_T.columns):\n",
    "    \n",
    "    i = int(index_times.index(k) / holding)\n",
    "\n",
    "    df_return = df_Ex_SR_tmp_T.loc[all_betas[i].index,k].dropna()\n",
    "    df_index = df_return.index\n",
    "    \n",
    "    if len(df_index) != 0:\n",
    "        l = list(ols_model.fit(all_betas[i].loc[df_index,:].values, df_return.values).coef_)\n",
    "        h = ols_model.fit(all_betas[i].loc[df_index,:].values, df_return.values).intercept_\n",
    "        lambdas.append(l)\n",
    "        intercepts.append(h)\n",
    "        \n",
    "all_lambdas.append(pd.DataFrame(lambdas))\n",
    "all_intercepts.append(pd.DataFrame(intercepts))"
   ]
  },
  {
   "cell_type": "code",
   "execution_count": 79,
   "metadata": {},
   "outputs": [
    {
     "data": {
      "text/html": [
       "<div>\n",
       "<style scoped>\n",
       "    .dataframe tbody tr th:only-of-type {\n",
       "        vertical-align: middle;\n",
       "    }\n",
       "\n",
       "    .dataframe tbody tr th {\n",
       "        vertical-align: top;\n",
       "    }\n",
       "\n",
       "    .dataframe thead th {\n",
       "        text-align: right;\n",
       "    }\n",
       "</style>\n",
       "<table border=\"1\" class=\"dataframe\">\n",
       "  <thead>\n",
       "    <tr style=\"text-align: right;\">\n",
       "      <th></th>\n",
       "      <th>MKT</th>\n",
       "      <th>SMB</th>\n",
       "      <th>HML</th>\n",
       "      <th>RMW</th>\n",
       "      <th>CMA</th>\n",
       "    </tr>\n",
       "  </thead>\n",
       "  <tbody>\n",
       "    <tr>\n",
       "      <th>0</th>\n",
       "      <td>0.004841</td>\n",
       "      <td>0.019025</td>\n",
       "      <td>0.003580</td>\n",
       "      <td>-0.013258</td>\n",
       "      <td>0.027418</td>\n",
       "    </tr>\n",
       "    <tr>\n",
       "      <th>1</th>\n",
       "      <td>0.007902</td>\n",
       "      <td>-0.009573</td>\n",
       "      <td>-0.010646</td>\n",
       "      <td>0.020359</td>\n",
       "      <td>-0.019369</td>\n",
       "    </tr>\n",
       "    <tr>\n",
       "      <th>2</th>\n",
       "      <td>-0.002017</td>\n",
       "      <td>-0.002292</td>\n",
       "      <td>-0.003517</td>\n",
       "      <td>-0.000169</td>\n",
       "      <td>-0.011087</td>\n",
       "    </tr>\n",
       "    <tr>\n",
       "      <th>3</th>\n",
       "      <td>-0.010529</td>\n",
       "      <td>-0.007551</td>\n",
       "      <td>0.019799</td>\n",
       "      <td>-0.013404</td>\n",
       "      <td>0.005410</td>\n",
       "    </tr>\n",
       "    <tr>\n",
       "      <th>4</th>\n",
       "      <td>0.009562</td>\n",
       "      <td>-0.008857</td>\n",
       "      <td>-0.014598</td>\n",
       "      <td>0.033373</td>\n",
       "      <td>-0.023970</td>\n",
       "    </tr>\n",
       "    <tr>\n",
       "      <th>...</th>\n",
       "      <td>...</td>\n",
       "      <td>...</td>\n",
       "      <td>...</td>\n",
       "      <td>...</td>\n",
       "      <td>...</td>\n",
       "    </tr>\n",
       "    <tr>\n",
       "      <th>3964</th>\n",
       "      <td>0.010772</td>\n",
       "      <td>-0.019225</td>\n",
       "      <td>-0.013925</td>\n",
       "      <td>-0.001462</td>\n",
       "      <td>0.000805</td>\n",
       "    </tr>\n",
       "    <tr>\n",
       "      <th>3965</th>\n",
       "      <td>-0.013836</td>\n",
       "      <td>-0.004854</td>\n",
       "      <td>0.011781</td>\n",
       "      <td>0.004009</td>\n",
       "      <td>0.011121</td>\n",
       "    </tr>\n",
       "    <tr>\n",
       "      <th>3966</th>\n",
       "      <td>-0.000024</td>\n",
       "      <td>0.014058</td>\n",
       "      <td>0.003850</td>\n",
       "      <td>-0.005597</td>\n",
       "      <td>0.009667</td>\n",
       "    </tr>\n",
       "    <tr>\n",
       "      <th>3967</th>\n",
       "      <td>-0.003915</td>\n",
       "      <td>-0.011756</td>\n",
       "      <td>0.002375</td>\n",
       "      <td>0.015650</td>\n",
       "      <td>0.000378</td>\n",
       "    </tr>\n",
       "    <tr>\n",
       "      <th>3968</th>\n",
       "      <td>-0.015183</td>\n",
       "      <td>-0.000912</td>\n",
       "      <td>0.028255</td>\n",
       "      <td>-0.012750</td>\n",
       "      <td>0.027706</td>\n",
       "    </tr>\n",
       "  </tbody>\n",
       "</table>\n",
       "<p>3969 rows × 5 columns</p>\n",
       "</div>"
      ],
      "text/plain": [
       "           MKT       SMB       HML       RMW       CMA\n",
       "0     0.004841  0.019025  0.003580 -0.013258  0.027418\n",
       "1     0.007902 -0.009573 -0.010646  0.020359 -0.019369\n",
       "2    -0.002017 -0.002292 -0.003517 -0.000169 -0.011087\n",
       "3    -0.010529 -0.007551  0.019799 -0.013404  0.005410\n",
       "4     0.009562 -0.008857 -0.014598  0.033373 -0.023970\n",
       "...        ...       ...       ...       ...       ...\n",
       "3964  0.010772 -0.019225 -0.013925 -0.001462  0.000805\n",
       "3965 -0.013836 -0.004854  0.011781  0.004009  0.011121\n",
       "3966 -0.000024  0.014058  0.003850 -0.005597  0.009667\n",
       "3967 -0.003915 -0.011756  0.002375  0.015650  0.000378\n",
       "3968 -0.015183 -0.000912  0.028255 -0.012750  0.027706\n",
       "\n",
       "[3969 rows x 5 columns]"
      ]
     },
     "execution_count": 79,
     "metadata": {},
     "output_type": "execute_result"
    }
   ],
   "source": [
    "all_lambdas[0].rename(columns={0:'MKT',1:'SMB',2:'HML',3:'RMW',4:'CMA'})"
   ]
  },
  {
   "cell_type": "code",
   "execution_count": 80,
   "metadata": {},
   "outputs": [
    {
     "data": {
      "text/plain": [
       "0    0.099596\n",
       "dtype: float64"
      ]
     },
     "execution_count": 80,
     "metadata": {},
     "output_type": "execute_result"
    }
   ],
   "source": [
    "np.mean(all_intercepts[0], axis = 0)*21*100"
   ]
  },
  {
   "cell_type": "code",
   "execution_count": 81,
   "metadata": {},
   "outputs": [
    {
     "name": "stderr",
     "output_type": "stream",
     "text": [
      "/Users/runxinlin/opt/anaconda3/lib/python3.8/site-packages/numpy/core/fromnumeric.py:3438: FutureWarning: In a future version, DataFrame.mean(axis=None) will return a scalar mean over the entire DataFrame. To retain the old behavior, use 'frame.mean(axis=0)' or just 'frame.mean()'\n",
      "  return mean(axis=axis, dtype=dtype, out=out, **kwargs)\n"
     ]
    },
    {
     "data": {
      "text/plain": [
       "0   -0.415490\n",
       "1   -0.053654\n",
       "2    0.290036\n",
       "3    0.333198\n",
       "4    0.154152\n",
       "dtype: float64"
      ]
     },
     "execution_count": 81,
     "metadata": {},
     "output_type": "execute_result"
    }
   ],
   "source": [
    "np.mean(all_lambdas[0])*21*100"
   ]
  },
  {
   "cell_type": "code",
   "execution_count": 82,
   "metadata": {
    "scrolled": true
   },
   "outputs": [
    {
     "data": {
      "text/plain": [
       "array([0.84058529])"
      ]
     },
     "execution_count": 82,
     "metadata": {},
     "output_type": "execute_result"
    }
   ],
   "source": [
    "stats.ttest_1samp(all_intercepts[0], 0.0)[0]"
   ]
  },
  {
   "cell_type": "code",
   "execution_count": 83,
   "metadata": {
    "scrolled": false
   },
   "outputs": [
    {
     "data": {
      "text/plain": [
       "array([-0.9580704 , -0.19496849,  0.96641119,  0.94372652,  0.39466475])"
      ]
     },
     "execution_count": 83,
     "metadata": {},
     "output_type": "execute_result"
    }
   ],
   "source": [
    "stats.ttest_1samp(all_lambdas[0], 0.0)[0]"
   ]
  },
  {
   "cell_type": "code",
   "execution_count": 84,
   "metadata": {},
   "outputs": [
    {
     "data": {
      "text/plain": [
       "array([0.48710959])"
      ]
     },
     "execution_count": 84,
     "metadata": {},
     "output_type": "execute_result"
    }
   ],
   "source": [
    "all_intercepts[0].apply(lambda x: NW_ttest(ret = x, h0=0), axis=0).values"
   ]
  },
  {
   "cell_type": "code",
   "execution_count": 85,
   "metadata": {
    "scrolled": true
   },
   "outputs": [
    {
     "data": {
      "text/plain": [
       "array([-0.58446029, -0.12611289,  0.62517794,  0.60582779,  0.25863726])"
      ]
     },
     "execution_count": 85,
     "metadata": {},
     "output_type": "execute_result"
    }
   ],
   "source": [
    "## Newey-West t-test \n",
    "all_lambdas[0].apply(lambda x: NW_ttest(ret = x, h0=0), axis=0).values"
   ]
  },
  {
   "cell_type": "markdown",
   "metadata": {},
   "source": [
    "### —Adding Control Variables"
   ]
  },
  {
   "cell_type": "code",
   "execution_count": 86,
   "metadata": {},
   "outputs": [],
   "source": [
    "df_OP_trnct = df_OP.loc[df_FF5.index,:]\n",
    "df_INV_trnct = df_INV.loc[df_FF5.index,:]"
   ]
  },
  {
   "cell_type": "code",
   "execution_count": 87,
   "metadata": {
    "scrolled": false
   },
   "outputs": [
    {
     "data": {
      "text/plain": [
       "True"
      ]
     },
     "execution_count": 87,
     "metadata": {},
     "output_type": "execute_result"
    }
   ],
   "source": [
    "len(df_ln_Size_trnct)==len(df_PE_trnct)==len(df_Ex_SR_trnct)==len(df_OP_trnct)==len(df_INV_trnct)==len(df_FF5)"
   ]
  },
  {
   "cell_type": "code",
   "execution_count": 88,
   "metadata": {},
   "outputs": [],
   "source": [
    "Gap = 21"
   ]
  },
  {
   "cell_type": "code",
   "execution_count": 89,
   "metadata": {
    "scrolled": true
   },
   "outputs": [
    {
     "name": "stderr",
     "output_type": "stream",
     "text": [
      "100%|██████████| 3948/3948 [00:23<00:00, 168.50it/s]\n"
     ]
    }
   ],
   "source": [
    "all_lambdas = []\n",
    "all_intercepts = []\n",
    "\n",
    "\n",
    "df_Ex_SR_tmp_T = df_Ex_SR_trnct.iloc[rollingW:rollingW+periods*holding,:].T\n",
    "df_ln_Size_tmp_T = df_ln_Size_trnct.iloc[rollingW:rollingW+periods*holding,:].T\n",
    "df_PE_tmp_T = df_PE_trnct.iloc[rollingW:rollingW+periods*holding,:].T\n",
    "df_OP_tmp_T = df_OP_trnct.iloc[rollingW:rollingW+periods*holding,:].T\n",
    "df_INV_tmp_T = df_INV_trnct.iloc[rollingW:rollingW+periods*holding,:].T\n",
    "\n",
    "lambdas = []\n",
    "intercepts = []\n",
    "index_times = list(df_Ex_SR_tmp_T.columns)\n",
    "\n",
    "# If Gap >0, the following should be 'for k in tqdm(df_Ex_SR_tmp_T.columns[:-Gap]):''\n",
    "for k in tqdm(df_Ex_SR_tmp_T.columns[:-Gap]):\n",
    "    # k is time t in 3885 days\n",
    "    i = int(index_times.index(k) / holding)\n",
    "    # i is time T in 185 periods\n",
    "    \n",
    "    df_index = ((((all_betas[i].index).intersection(df_ln_Size_tmp_T.loc[:,k].replace(-np.inf,np.nan).dropna().index).\\\n",
    "                 intersection(df_PE_tmp_T.loc[:,k].replace(-np.inf,np.nan).dropna().index)).\\\n",
    "                  intersection(df_Ex_SR_tmp_T.loc[:,index_times[index_times.index(k)+Gap]].dropna().index)).\\\n",
    "                   intersection(df_OP_tmp_T.loc[:,k].dropna().index)).\\\n",
    "                    intersection(df_INV_tmp_T.loc[:,k].dropna().index)\n",
    "    \n",
    "    if len(df_index) != 0:\n",
    "        \n",
    "        l = list(ols_model.fit((pd.concat([all_betas[i].loc[df_index,:], df_ln_Size_tmp_T.loc[df_index,k],\\\n",
    "                                           df_PE_tmp_T.loc[df_index,k], df_OP_tmp_T.loc[df_index,k],\\\n",
    "                                           df_INV_tmp_T.loc[df_index,k]],axis = 1).values), \\\n",
    "                               (df_Ex_SR_tmp_T.loc[df_index,index_times[index_times.index(k)+Gap]].values)).coef_)\n",
    "        \n",
    "        h = ols_model.fit((pd.concat([all_betas[i].loc[df_index,:], df_ln_Size_tmp_T.loc[df_index,k],\\\n",
    "                                           df_PE_tmp_T.loc[df_index,k], df_OP_tmp_T.loc[df_index,k],\\\n",
    "                                           df_INV_tmp_T.loc[df_index,k]],axis = 1).values), \\\n",
    "                               (df_Ex_SR_tmp_T.loc[df_index,index_times[index_times.index(k)+Gap]].values)).intercept_\n",
    "        \n",
    "        lambdas.append(l)\n",
    "        intercepts.append(h)\n",
    "        \n",
    "all_lambdas.append(pd.DataFrame(lambdas))\n",
    "all_intercepts.append(pd.DataFrame(intercepts))"
   ]
  },
  {
   "cell_type": "code",
   "execution_count": 90,
   "metadata": {
    "scrolled": false
   },
   "outputs": [
    {
     "data": {
      "text/html": [
       "<div>\n",
       "<style scoped>\n",
       "    .dataframe tbody tr th:only-of-type {\n",
       "        vertical-align: middle;\n",
       "    }\n",
       "\n",
       "    .dataframe tbody tr th {\n",
       "        vertical-align: top;\n",
       "    }\n",
       "\n",
       "    .dataframe thead th {\n",
       "        text-align: right;\n",
       "    }\n",
       "</style>\n",
       "<table border=\"1\" class=\"dataframe\">\n",
       "  <thead>\n",
       "    <tr style=\"text-align: right;\">\n",
       "      <th></th>\n",
       "      <th>MKT</th>\n",
       "      <th>SMB</th>\n",
       "      <th>HML</th>\n",
       "      <th>RMW</th>\n",
       "      <th>CMA</th>\n",
       "      <th>Size</th>\n",
       "      <th>PE</th>\n",
       "      <th>OP</th>\n",
       "      <th>INV</th>\n",
       "    </tr>\n",
       "  </thead>\n",
       "  <tbody>\n",
       "    <tr>\n",
       "      <th>0</th>\n",
       "      <td>-0.006739</td>\n",
       "      <td>0.004048</td>\n",
       "      <td>-0.000273</td>\n",
       "      <td>0.003712</td>\n",
       "      <td>0.001711</td>\n",
       "      <td>0.000309</td>\n",
       "      <td>0.003726</td>\n",
       "      <td>0.000033</td>\n",
       "      <td>-0.000115</td>\n",
       "    </tr>\n",
       "    <tr>\n",
       "      <th>1</th>\n",
       "      <td>0.005525</td>\n",
       "      <td>-0.004915</td>\n",
       "      <td>-0.005742</td>\n",
       "      <td>-0.003951</td>\n",
       "      <td>-0.003126</td>\n",
       "      <td>0.001862</td>\n",
       "      <td>-0.000911</td>\n",
       "      <td>0.004431</td>\n",
       "      <td>-0.007176</td>\n",
       "    </tr>\n",
       "    <tr>\n",
       "      <th>2</th>\n",
       "      <td>0.000000</td>\n",
       "      <td>0.000000</td>\n",
       "      <td>0.000000</td>\n",
       "      <td>0.000000</td>\n",
       "      <td>0.000000</td>\n",
       "      <td>0.000000</td>\n",
       "      <td>0.000000</td>\n",
       "      <td>0.000000</td>\n",
       "      <td>0.000000</td>\n",
       "    </tr>\n",
       "    <tr>\n",
       "      <th>3</th>\n",
       "      <td>-0.013207</td>\n",
       "      <td>0.016723</td>\n",
       "      <td>0.012691</td>\n",
       "      <td>0.023139</td>\n",
       "      <td>-0.007734</td>\n",
       "      <td>0.009477</td>\n",
       "      <td>-0.005230</td>\n",
       "      <td>-0.017224</td>\n",
       "      <td>-0.004898</td>\n",
       "    </tr>\n",
       "    <tr>\n",
       "      <th>4</th>\n",
       "      <td>-0.000602</td>\n",
       "      <td>-0.013702</td>\n",
       "      <td>-0.002164</td>\n",
       "      <td>-0.019258</td>\n",
       "      <td>0.012822</td>\n",
       "      <td>-0.004541</td>\n",
       "      <td>0.002362</td>\n",
       "      <td>0.017438</td>\n",
       "      <td>0.006125</td>\n",
       "    </tr>\n",
       "    <tr>\n",
       "      <th>...</th>\n",
       "      <td>...</td>\n",
       "      <td>...</td>\n",
       "      <td>...</td>\n",
       "      <td>...</td>\n",
       "      <td>...</td>\n",
       "      <td>...</td>\n",
       "      <td>...</td>\n",
       "      <td>...</td>\n",
       "      <td>...</td>\n",
       "    </tr>\n",
       "    <tr>\n",
       "      <th>3943</th>\n",
       "      <td>-0.012237</td>\n",
       "      <td>-0.014547</td>\n",
       "      <td>0.003047</td>\n",
       "      <td>-0.004095</td>\n",
       "      <td>0.006937</td>\n",
       "      <td>0.006192</td>\n",
       "      <td>-0.001636</td>\n",
       "      <td>0.000692</td>\n",
       "      <td>0.000298</td>\n",
       "    </tr>\n",
       "    <tr>\n",
       "      <th>3944</th>\n",
       "      <td>-0.028670</td>\n",
       "      <td>0.008107</td>\n",
       "      <td>0.012182</td>\n",
       "      <td>0.002217</td>\n",
       "      <td>0.011556</td>\n",
       "      <td>0.009252</td>\n",
       "      <td>0.002554</td>\n",
       "      <td>-0.001434</td>\n",
       "      <td>-0.003836</td>\n",
       "    </tr>\n",
       "    <tr>\n",
       "      <th>3945</th>\n",
       "      <td>0.035655</td>\n",
       "      <td>-0.004751</td>\n",
       "      <td>-0.014623</td>\n",
       "      <td>-0.001076</td>\n",
       "      <td>0.002495</td>\n",
       "      <td>-0.015915</td>\n",
       "      <td>-0.002500</td>\n",
       "      <td>0.001175</td>\n",
       "      <td>-0.000417</td>\n",
       "    </tr>\n",
       "    <tr>\n",
       "      <th>3946</th>\n",
       "      <td>-0.034110</td>\n",
       "      <td>-0.000918</td>\n",
       "      <td>0.022731</td>\n",
       "      <td>0.009771</td>\n",
       "      <td>0.005393</td>\n",
       "      <td>0.011302</td>\n",
       "      <td>-0.000467</td>\n",
       "      <td>-0.000601</td>\n",
       "      <td>-0.007610</td>\n",
       "    </tr>\n",
       "    <tr>\n",
       "      <th>3947</th>\n",
       "      <td>0.005109</td>\n",
       "      <td>-0.005799</td>\n",
       "      <td>0.008805</td>\n",
       "      <td>-0.009962</td>\n",
       "      <td>0.026754</td>\n",
       "      <td>-0.005423</td>\n",
       "      <td>0.001394</td>\n",
       "      <td>0.002809</td>\n",
       "      <td>-0.000617</td>\n",
       "    </tr>\n",
       "  </tbody>\n",
       "</table>\n",
       "<p>3948 rows × 9 columns</p>\n",
       "</div>"
      ],
      "text/plain": [
       "           MKT       SMB       HML       RMW       CMA      Size        PE  \\\n",
       "0    -0.006739  0.004048 -0.000273  0.003712  0.001711  0.000309  0.003726   \n",
       "1     0.005525 -0.004915 -0.005742 -0.003951 -0.003126  0.001862 -0.000911   \n",
       "2     0.000000  0.000000  0.000000  0.000000  0.000000  0.000000  0.000000   \n",
       "3    -0.013207  0.016723  0.012691  0.023139 -0.007734  0.009477 -0.005230   \n",
       "4    -0.000602 -0.013702 -0.002164 -0.019258  0.012822 -0.004541  0.002362   \n",
       "...        ...       ...       ...       ...       ...       ...       ...   \n",
       "3943 -0.012237 -0.014547  0.003047 -0.004095  0.006937  0.006192 -0.001636   \n",
       "3944 -0.028670  0.008107  0.012182  0.002217  0.011556  0.009252  0.002554   \n",
       "3945  0.035655 -0.004751 -0.014623 -0.001076  0.002495 -0.015915 -0.002500   \n",
       "3946 -0.034110 -0.000918  0.022731  0.009771  0.005393  0.011302 -0.000467   \n",
       "3947  0.005109 -0.005799  0.008805 -0.009962  0.026754 -0.005423  0.001394   \n",
       "\n",
       "            OP       INV  \n",
       "0     0.000033 -0.000115  \n",
       "1     0.004431 -0.007176  \n",
       "2     0.000000  0.000000  \n",
       "3    -0.017224 -0.004898  \n",
       "4     0.017438  0.006125  \n",
       "...        ...       ...  \n",
       "3943  0.000692  0.000298  \n",
       "3944 -0.001434 -0.003836  \n",
       "3945  0.001175 -0.000417  \n",
       "3946 -0.000601 -0.007610  \n",
       "3947  0.002809 -0.000617  \n",
       "\n",
       "[3948 rows x 9 columns]"
      ]
     },
     "execution_count": 90,
     "metadata": {},
     "output_type": "execute_result"
    }
   ],
   "source": [
    "all_lambdas[0].rename(columns={0:'MKT',1:'SMB',2:'HML',3:'RMW',4:'CMA',5:'Size',6:'PE',7:'OP',8:'INV'})"
   ]
  },
  {
   "cell_type": "code",
   "execution_count": 91,
   "metadata": {},
   "outputs": [
    {
     "data": {
      "text/plain": [
       "0    0.045375\n",
       "dtype: float64"
      ]
     },
     "execution_count": 91,
     "metadata": {},
     "output_type": "execute_result"
    }
   ],
   "source": [
    "np.mean(all_intercepts[0], axis = 0)*21*100"
   ]
  },
  {
   "cell_type": "code",
   "execution_count": 92,
   "metadata": {},
   "outputs": [
    {
     "name": "stderr",
     "output_type": "stream",
     "text": [
      "/Users/runxinlin/opt/anaconda3/lib/python3.8/site-packages/numpy/core/fromnumeric.py:3438: FutureWarning: In a future version, DataFrame.mean(axis=None) will return a scalar mean over the entire DataFrame. To retain the old behavior, use 'frame.mean(axis=0)' or just 'frame.mean()'\n",
      "  return mean(axis=axis, dtype=dtype, out=out, **kwargs)\n"
     ]
    },
    {
     "data": {
      "text/plain": [
       "0   -0.342707\n",
       "1    0.105880\n",
       "2    0.428785\n",
       "3    0.107426\n",
       "4    0.295921\n",
       "5    0.176873\n",
       "6   -0.083288\n",
       "7    0.270894\n",
       "8    0.277168\n",
       "dtype: float64"
      ]
     },
     "execution_count": 92,
     "metadata": {},
     "output_type": "execute_result"
    }
   ],
   "source": [
    "np.mean(all_lambdas[0])*21*100"
   ]
  },
  {
   "cell_type": "code",
   "execution_count": 93,
   "metadata": {},
   "outputs": [
    {
     "data": {
      "text/plain": [
       "array([0.36271981])"
      ]
     },
     "execution_count": 93,
     "metadata": {},
     "output_type": "execute_result"
    }
   ],
   "source": [
    "stats.ttest_1samp(all_intercepts[0], 0.0)[0]"
   ]
  },
  {
   "cell_type": "code",
   "execution_count": 94,
   "metadata": {
    "scrolled": true
   },
   "outputs": [
    {
     "data": {
      "text/plain": [
       "array([-0.70104045,  0.28243647,  0.84589056,  0.30144464,  0.58326256,\n",
       "        1.08479107, -1.38725778,  2.34160821,  2.15841627])"
      ]
     },
     "execution_count": 94,
     "metadata": {},
     "output_type": "execute_result"
    }
   ],
   "source": [
    "stats.ttest_1samp(all_lambdas[0], 0.0)[0]"
   ]
  },
  {
   "cell_type": "code",
   "execution_count": 95,
   "metadata": {
    "scrolled": true
   },
   "outputs": [
    {
     "data": {
      "text/plain": [
       "array([-0.43273271,  0.18666049,  0.5683471 ,  0.19296423,  0.38977885,\n",
       "        0.70888499, -0.87606561,  1.54399394,  1.38705367])"
      ]
     },
     "execution_count": 95,
     "metadata": {},
     "output_type": "execute_result"
    }
   ],
   "source": [
    "all_lambdas[0].apply(lambda x: NW_ttest(ret = x, h0=0), axis=0).values "
   ]
  },
  {
   "cell_type": "code",
   "execution_count": 96,
   "metadata": {
    "scrolled": true
   },
   "outputs": [
    {
     "data": {
      "text/plain": [
       "array([0.21081816])"
      ]
     },
     "execution_count": 96,
     "metadata": {},
     "output_type": "execute_result"
    }
   ],
   "source": [
    "all_intercepts[0].apply(lambda x: NW_ttest(ret = x, h0=0), axis=0).values"
   ]
  }
 ],
 "metadata": {
  "interpreter": {
   "hash": "69d8a1c8da2120c547dc6be546b5e615f27ec597372f3fd7b53ede26964dbf96"
  },
  "kernelspec": {
   "display_name": "Python 3",
   "language": "python",
   "name": "python3"
  },
  "language_info": {
   "codemirror_mode": {
    "name": "ipython",
    "version": 3
   },
   "file_extension": ".py",
   "mimetype": "text/x-python",
   "name": "python",
   "nbconvert_exporter": "python",
   "pygments_lexer": "ipython3",
   "version": "3.8.13"
  },
  "toc": {
   "base_numbering": 1,
   "nav_menu": {
    "height": "164.993px",
    "width": "293.026px"
   },
   "number_sections": true,
   "sideBar": true,
   "skip_h1_title": false,
   "title_cell": "Table of Contents",
   "title_sidebar": "Contents",
   "toc_cell": false,
   "toc_position": {},
   "toc_section_display": true,
   "toc_window_display": false
  }
 },
 "nbformat": 4,
 "nbformat_minor": 2
}
