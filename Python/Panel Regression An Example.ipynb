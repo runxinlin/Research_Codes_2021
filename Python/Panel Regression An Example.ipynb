{
 "cells": [
  {
   "cell_type": "markdown",
   "metadata": {},
   "source": [
    "__https://towardsdatascience.com/a-guide-to-panel-data-regression-theoretics-and-implementation-with-python-4c84c5055cf8__"
   ]
  },
  {
   "cell_type": "markdown",
   "metadata": {},
   "source": [
    "How to decide which Model is appropriate?\n",
    "\n",
    "Choosing between PooledOLS and FE/RE: Basically, there are five assumptions for simple linear regression models that must be fulfilled. Two of them can help us in choosing between PooledOLS and FE/RE.\n",
    "\n",
    "These assumptions are (1) Linearity, (2) Exogeneity, (3a) Homoskedasticity and (3b) Non-autocorrelation, (4) Independent variables are not Stochastic and (5) No Multicolinearity.\n",
    "\n",
    "If assumption (2) or (3) (or both) are violated, then FE or RE might be more suitable.\n",
    "\n",
    "Choosing between FE and RE: Answering this question depends on your assumption, if the individual, unobserved heterogeneity is a constant or random effect. But this question can also be answered perfoming the Hausman-Test.\n",
    "\n",
    "Hausman-Test: In simple termns, the Hausman-Test is a test of endogeneity. By running the Hausman-Test, the null hypothesis is that the covariance between IV(s) and alpha is zero. If this is the case, then RE is preferred over FE. If the null hypothesis is not true, we must go with the FE-model."
   ]
  },
  {
   "cell_type": "code",
   "execution_count": 3,
   "metadata": {},
   "outputs": [],
   "source": [
    "import numpy as np\n",
    "import pandas as pd\n",
    "import statsmodels.api as sm\n",
    "import matplotlib.pyplot as plt\n",
    "from linearmodels import PooledOLS"
   ]
  },
  {
   "cell_type": "code",
   "execution_count": null,
   "metadata": {},
   "outputs": [],
   "source": [
    "dataset = pd.read_csv(\"Guns.csv\", usecols = [\"state\", \"date\", \"latitude\", \"longitude\"],index_col = [\"state\", \"date\"])"
   ]
  },
  {
   "cell_type": "code",
   "execution_count": 56,
   "metadata": {},
   "outputs": [
    {
     "data": {
      "text/html": [
       "<div>\n",
       "<style scoped>\n",
       "    .dataframe tbody tr th:only-of-type {\n",
       "        vertical-align: middle;\n",
       "    }\n",
       "\n",
       "    .dataframe tbody tr th {\n",
       "        vertical-align: top;\n",
       "    }\n",
       "\n",
       "    .dataframe thead th {\n",
       "        text-align: right;\n",
       "    }\n",
       "</style>\n",
       "<table border=\"1\" class=\"dataframe\">\n",
       "  <thead>\n",
       "    <tr style=\"text-align: right;\">\n",
       "      <th></th>\n",
       "      <th></th>\n",
       "      <th>latitude</th>\n",
       "      <th>longitude</th>\n",
       "    </tr>\n",
       "    <tr>\n",
       "      <th>state</th>\n",
       "      <th>date</th>\n",
       "      <th></th>\n",
       "      <th></th>\n",
       "    </tr>\n",
       "  </thead>\n",
       "  <tbody>\n",
       "    <tr>\n",
       "      <th>Pennsylvania</th>\n",
       "      <th>2013-01-01</th>\n",
       "      <td>40.3467</td>\n",
       "      <td>-79.8559</td>\n",
       "    </tr>\n",
       "    <tr>\n",
       "      <th>California</th>\n",
       "      <th>2013-01-01</th>\n",
       "      <td>33.9090</td>\n",
       "      <td>-118.3330</td>\n",
       "    </tr>\n",
       "    <tr>\n",
       "      <th>Ohio</th>\n",
       "      <th>2013-01-01</th>\n",
       "      <td>41.4455</td>\n",
       "      <td>-82.1377</td>\n",
       "    </tr>\n",
       "    <tr>\n",
       "      <th>Colorado</th>\n",
       "      <th>2013-01-05</th>\n",
       "      <td>39.6518</td>\n",
       "      <td>-104.8020</td>\n",
       "    </tr>\n",
       "    <tr>\n",
       "      <th>North Carolina</th>\n",
       "      <th>2013-01-07</th>\n",
       "      <td>36.1140</td>\n",
       "      <td>-79.9569</td>\n",
       "    </tr>\n",
       "    <tr>\n",
       "      <th>...</th>\n",
       "      <th>...</th>\n",
       "      <td>...</td>\n",
       "      <td>...</td>\n",
       "    </tr>\n",
       "    <tr>\n",
       "      <th rowspan=\"3\" valign=\"top\">Louisiana</th>\n",
       "      <th>2018-03-31</th>\n",
       "      <td>NaN</td>\n",
       "      <td>NaN</td>\n",
       "    </tr>\n",
       "    <tr>\n",
       "      <th>2018-03-31</th>\n",
       "      <td>31.7537</td>\n",
       "      <td>-93.0836</td>\n",
       "    </tr>\n",
       "    <tr>\n",
       "      <th>2018-03-31</th>\n",
       "      <td>29.9239</td>\n",
       "      <td>-90.0442</td>\n",
       "    </tr>\n",
       "    <tr>\n",
       "      <th>Texas</th>\n",
       "      <th>2018-03-31</th>\n",
       "      <td>29.7201</td>\n",
       "      <td>-95.6110</td>\n",
       "    </tr>\n",
       "    <tr>\n",
       "      <th>Maine</th>\n",
       "      <th>2018-03-31</th>\n",
       "      <td>44.7293</td>\n",
       "      <td>-69.7691</td>\n",
       "    </tr>\n",
       "  </tbody>\n",
       "</table>\n",
       "<p>239677 rows × 2 columns</p>\n",
       "</div>"
      ],
      "text/plain": [
       "                           latitude  longitude\n",
       "state          date                           \n",
       "Pennsylvania   2013-01-01   40.3467   -79.8559\n",
       "California     2013-01-01   33.9090  -118.3330\n",
       "Ohio           2013-01-01   41.4455   -82.1377\n",
       "Colorado       2013-01-05   39.6518  -104.8020\n",
       "North Carolina 2013-01-07   36.1140   -79.9569\n",
       "...                             ...        ...\n",
       "Louisiana      2018-03-31       NaN        NaN\n",
       "               2018-03-31   31.7537   -93.0836\n",
       "               2018-03-31   29.9239   -90.0442\n",
       "Texas          2018-03-31   29.7201   -95.6110\n",
       "Maine          2018-03-31   44.7293   -69.7691\n",
       "\n",
       "[239677 rows x 2 columns]"
      ]
     },
     "execution_count": 56,
     "metadata": {},
     "output_type": "execute_result"
    }
   ],
   "source": [
    "dataset.index = dataset.index.set_levels(pd.to_datetime(dataset.index.levels[1]), level=1)\n",
    "dataset"
   ]
  },
  {
   "cell_type": "code",
   "execution_count": 57,
   "metadata": {},
   "outputs": [],
   "source": [
    "dates = dataset.index.get_level_values(\"date\").to_list()\n",
    "dataset[\"date\"] = pd.Categorical(dates)"
   ]
  },
  {
   "cell_type": "code",
   "execution_count": 58,
   "metadata": {},
   "outputs": [
    {
     "data": {
      "text/html": [
       "<div>\n",
       "<style scoped>\n",
       "    .dataframe tbody tr th:only-of-type {\n",
       "        vertical-align: middle;\n",
       "    }\n",
       "\n",
       "    .dataframe tbody tr th {\n",
       "        vertical-align: top;\n",
       "    }\n",
       "\n",
       "    .dataframe thead th {\n",
       "        text-align: right;\n",
       "    }\n",
       "</style>\n",
       "<table border=\"1\" class=\"dataframe\">\n",
       "  <thead>\n",
       "    <tr style=\"text-align: right;\">\n",
       "      <th></th>\n",
       "      <th></th>\n",
       "      <th>latitude</th>\n",
       "      <th>longitude</th>\n",
       "      <th>date</th>\n",
       "    </tr>\n",
       "    <tr>\n",
       "      <th>state</th>\n",
       "      <th>date</th>\n",
       "      <th></th>\n",
       "      <th></th>\n",
       "      <th></th>\n",
       "    </tr>\n",
       "  </thead>\n",
       "  <tbody>\n",
       "    <tr>\n",
       "      <th>Pennsylvania</th>\n",
       "      <th>2013-01-01</th>\n",
       "      <td>40.3467</td>\n",
       "      <td>-79.8559</td>\n",
       "      <td>2013-01-01</td>\n",
       "    </tr>\n",
       "    <tr>\n",
       "      <th>California</th>\n",
       "      <th>2013-01-01</th>\n",
       "      <td>33.9090</td>\n",
       "      <td>-118.3330</td>\n",
       "      <td>2013-01-01</td>\n",
       "    </tr>\n",
       "    <tr>\n",
       "      <th>Ohio</th>\n",
       "      <th>2013-01-01</th>\n",
       "      <td>41.4455</td>\n",
       "      <td>-82.1377</td>\n",
       "      <td>2013-01-01</td>\n",
       "    </tr>\n",
       "    <tr>\n",
       "      <th>Colorado</th>\n",
       "      <th>2013-01-05</th>\n",
       "      <td>39.6518</td>\n",
       "      <td>-104.8020</td>\n",
       "      <td>2013-01-05</td>\n",
       "    </tr>\n",
       "    <tr>\n",
       "      <th>North Carolina</th>\n",
       "      <th>2013-01-07</th>\n",
       "      <td>36.1140</td>\n",
       "      <td>-79.9569</td>\n",
       "      <td>2013-01-07</td>\n",
       "    </tr>\n",
       "    <tr>\n",
       "      <th>...</th>\n",
       "      <th>...</th>\n",
       "      <td>...</td>\n",
       "      <td>...</td>\n",
       "      <td>...</td>\n",
       "    </tr>\n",
       "    <tr>\n",
       "      <th rowspan=\"3\" valign=\"top\">Louisiana</th>\n",
       "      <th>2018-03-31</th>\n",
       "      <td>NaN</td>\n",
       "      <td>NaN</td>\n",
       "      <td>2018-03-31</td>\n",
       "    </tr>\n",
       "    <tr>\n",
       "      <th>2018-03-31</th>\n",
       "      <td>31.7537</td>\n",
       "      <td>-93.0836</td>\n",
       "      <td>2018-03-31</td>\n",
       "    </tr>\n",
       "    <tr>\n",
       "      <th>2018-03-31</th>\n",
       "      <td>29.9239</td>\n",
       "      <td>-90.0442</td>\n",
       "      <td>2018-03-31</td>\n",
       "    </tr>\n",
       "    <tr>\n",
       "      <th>Texas</th>\n",
       "      <th>2018-03-31</th>\n",
       "      <td>29.7201</td>\n",
       "      <td>-95.6110</td>\n",
       "      <td>2018-03-31</td>\n",
       "    </tr>\n",
       "    <tr>\n",
       "      <th>Maine</th>\n",
       "      <th>2018-03-31</th>\n",
       "      <td>44.7293</td>\n",
       "      <td>-69.7691</td>\n",
       "      <td>2018-03-31</td>\n",
       "    </tr>\n",
       "  </tbody>\n",
       "</table>\n",
       "<p>239677 rows × 3 columns</p>\n",
       "</div>"
      ],
      "text/plain": [
       "                           latitude  longitude       date\n",
       "state          date                                      \n",
       "Pennsylvania   2013-01-01   40.3467   -79.8559 2013-01-01\n",
       "California     2013-01-01   33.9090  -118.3330 2013-01-01\n",
       "Ohio           2013-01-01   41.4455   -82.1377 2013-01-01\n",
       "Colorado       2013-01-05   39.6518  -104.8020 2013-01-05\n",
       "North Carolina 2013-01-07   36.1140   -79.9569 2013-01-07\n",
       "...                             ...        ...        ...\n",
       "Louisiana      2018-03-31       NaN        NaN 2018-03-31\n",
       "               2018-03-31   31.7537   -93.0836 2018-03-31\n",
       "               2018-03-31   29.9239   -90.0442 2018-03-31\n",
       "Texas          2018-03-31   29.7201   -95.6110 2018-03-31\n",
       "Maine          2018-03-31   44.7293   -69.7691 2018-03-31\n",
       "\n",
       "[239677 rows x 3 columns]"
      ]
     },
     "execution_count": 58,
     "metadata": {},
     "output_type": "execute_result"
    }
   ],
   "source": [
    "dataset"
   ]
  },
  {
   "cell_type": "code",
   "execution_count": 59,
   "metadata": {},
   "outputs": [],
   "source": [
    "# Perform PooledOLS\n",
    "exog = sm.tools.tools.add_constant(dataset['latitude'].fillna(0))\n",
    "endog = dataset['longitude'].fillna(0)\n",
    "mod = PooledOLS(endog, exog)\n",
    "pooledOLS_res = mod.fit(cov_type='clustered', cluster_entity=True)"
   ]
  },
  {
   "cell_type": "code",
   "execution_count": 60,
   "metadata": {},
   "outputs": [
    {
     "data": {
      "text/html": [
       "<table class=\"simpletable\">\n",
       "<caption>PooledOLS Estimation Summary</caption>\n",
       "<tr>\n",
       "  <th>Dep. Variable:</th>        <td>longitude</td>    <th>  R-squared:         </th>     <td>0.3862</td>   \n",
       "</tr>\n",
       "<tr>\n",
       "  <th>Estimator:</th>            <td>PooledOLS</td>    <th>  R-squared (Between):</th>    <td>-0.2139</td>  \n",
       "</tr>\n",
       "<tr>\n",
       "  <th>No. Observations:</th>      <td>239677</td>      <th>  R-squared (Within):</th>     <td>0.8513</td>   \n",
       "</tr>\n",
       "<tr>\n",
       "  <th>Date:</th>             <td>Sun, May 22 2022</td> <th>  R-squared (Overall):</th>    <td>0.3862</td>   \n",
       "</tr>\n",
       "<tr>\n",
       "  <th>Time:</th>                 <td>15:12:27</td>     <th>  Log-likelihood     </th>   <td>-1.015e+06</td> \n",
       "</tr>\n",
       "<tr>\n",
       "  <th>Cov. Estimator:</th>       <td>Clustered</td>    <th>                     </th>        <td></td>      \n",
       "</tr>\n",
       "<tr>\n",
       "  <th></th>                          <td></td>         <th>  F-statistic:       </th>    <td>1.508e+05</td> \n",
       "</tr>\n",
       "<tr>\n",
       "  <th>Entities:</th>                <td>51</td>        <th>  P-value            </th>     <td>0.0000</td>   \n",
       "</tr>\n",
       "<tr>\n",
       "  <th>Avg Obs:</th>               <td>4699.5</td>      <th>  Distribution:      </th>   <td>F(1,239675)</td>\n",
       "</tr>\n",
       "<tr>\n",
       "  <th>Min Obs:</th>               <td>289.00</td>      <th>                     </th>        <td></td>      \n",
       "</tr>\n",
       "<tr>\n",
       "  <th>Max Obs:</th>              <td>1.756e+04</td>    <th>  F-statistic (robust):</th>   <td>153.61</td>   \n",
       "</tr>\n",
       "<tr>\n",
       "  <th></th>                          <td></td>         <th>  P-value            </th>     <td>0.0000</td>   \n",
       "</tr>\n",
       "<tr>\n",
       "  <th>Time periods:</th>           <td>1725</td>       <th>  Distribution:      </th>   <td>F(1,239675)</td>\n",
       "</tr>\n",
       "<tr>\n",
       "  <th>Avg Obs:</th>               <td>138.94</td>      <th>                     </th>        <td></td>      \n",
       "</tr>\n",
       "<tr>\n",
       "  <th>Min Obs:</th>               <td>1.0000</td>      <th>                     </th>        <td></td>      \n",
       "</tr>\n",
       "<tr>\n",
       "  <th>Max Obs:</th>               <td>342.00</td>      <th>                     </th>        <td></td>      \n",
       "</tr>\n",
       "<tr>\n",
       "  <th></th>                          <td></td>         <th>                     </th>        <td></td>      \n",
       "</tr>\n",
       "</table>\n",
       "<table class=\"simpletable\">\n",
       "<caption>Parameter Estimates</caption>\n",
       "<tr>\n",
       "      <td></td>     <th>Parameter</th> <th>Std. Err.</th> <th>T-stat</th>  <th>P-value</th> <th>Lower CI</th> <th>Upper CI</th>\n",
       "</tr>\n",
       "<tr>\n",
       "  <th>const</th>     <td>-29.103</td>   <td>5.2189</td>   <td>-5.5764</td> <td>0.0000</td>   <td>-39.331</td>  <td>-18.874</td>\n",
       "</tr>\n",
       "<tr>\n",
       "  <th>latitude</th>  <td>-1.5778</td>   <td>0.1273</td>   <td>-12.394</td> <td>0.0000</td>   <td>-1.8273</td>  <td>-1.3283</td>\n",
       "</tr>\n",
       "</table>"
      ],
      "text/plain": [
       "<class 'linearmodels.compat.statsmodels.Summary'>\n",
       "\"\"\"\n",
       "                          PooledOLS Estimation Summary                          \n",
       "================================================================================\n",
       "Dep. Variable:              longitude   R-squared:                        0.3862\n",
       "Estimator:                  PooledOLS   R-squared (Between):             -0.2139\n",
       "No. Observations:              239677   R-squared (Within):               0.8513\n",
       "Date:                Sun, May 22 2022   R-squared (Overall):              0.3862\n",
       "Time:                        15:12:27   Log-likelihood                -1.015e+06\n",
       "Cov. Estimator:             Clustered                                           \n",
       "                                        F-statistic:                   1.508e+05\n",
       "Entities:                          51   P-value                           0.0000\n",
       "Avg Obs:                       4699.5   Distribution:                F(1,239675)\n",
       "Min Obs:                       289.00                                           \n",
       "Max Obs:                    1.756e+04   F-statistic (robust):             153.61\n",
       "                                        P-value                           0.0000\n",
       "Time periods:                    1725   Distribution:                F(1,239675)\n",
       "Avg Obs:                       138.94                                           \n",
       "Min Obs:                       1.0000                                           \n",
       "Max Obs:                       342.00                                           \n",
       "                                                                                \n",
       "                             Parameter Estimates                              \n",
       "==============================================================================\n",
       "            Parameter  Std. Err.     T-stat    P-value    Lower CI    Upper CI\n",
       "------------------------------------------------------------------------------\n",
       "const         -29.103     5.2189    -5.5764     0.0000     -39.331     -18.874\n",
       "latitude      -1.5778     0.1273    -12.394     0.0000     -1.8273     -1.3283\n",
       "==============================================================================\n",
       "\"\"\""
      ]
     },
     "execution_count": 60,
     "metadata": {},
     "output_type": "execute_result"
    }
   ],
   "source": [
    "pooledOLS_res.summary"
   ]
  },
  {
   "cell_type": "code",
   "execution_count": 43,
   "metadata": {},
   "outputs": [],
   "source": [
    "# Store values for checking homoskedasticity graphically\n",
    "fittedvals_pooled_OLS = pooledOLS_res.predict().fitted_values\n",
    "residuals_pooled_OLS = pooledOLS_res.resids"
   ]
  },
  {
   "cell_type": "code",
   "execution_count": 64,
   "metadata": {},
   "outputs": [
    {
     "data": {
      "image/png": "[encoded data removed]",
      "text/plain": [
       "<Figure size 640x480 with 1 Axes>"
      ]
     },
     "metadata": {},
     "output_type": "display_data"
    }
   ],
   "source": [
    "# Homoskedasticity\n",
    "## Residuals-Plot for growing Variance Detection\n",
    "fig, ax = plt.subplots()\n",
    "ax.scatter(fittedvals_pooled_OLS, residuals_pooled_OLS, color = \"blue\")\n",
    "ax.axhline(0, color = 'r', ls = '--')\n",
    "ax.set_xlabel(\"Predicted Values\", fontsize = 15)\n",
    "ax.set_ylabel(\"Residuals\", fontsize = 15)\n",
    "ax.set_title(\"Homoskedasticity Test\", fontsize = 30)\n",
    "plt.show()"
   ]
  },
  {
   "cell_type": "code",
   "execution_count": 66,
   "metadata": {},
   "outputs": [
    {
     "name": "stdout",
     "output_type": "stream",
     "text": [
      "{'LM-Stat': 24.380443350599514, 'LM p-val': 5.07988631632863e-06, 'F-Stat': 12.191309217527126, 'F p-val': 5.077512235031087e-06}\n",
      "{'LM-Stat': 16.237246407422766, 'LM p-val': 5.588451915644609e-05, 'F-Stat': 16.238210994513416, 'F p-val': 5.587329187457991e-05}\n"
     ]
    }
   ],
   "source": [
    "## White-Test\n",
    "from statsmodels.stats.diagnostic import het_white, het_breuschpagan\n",
    "pooled_OLS_dataset = pd.concat([dataset, residuals_pooled_OLS], axis=1)\n",
    "pooled_OLS_dataset = pooled_OLS_dataset.drop([\"date\"], axis = 1).fillna(0)\n",
    "exog = sm.tools.tools.add_constant(dataset['latitude']).fillna(0)\n",
    "white_test_results = het_white(pooled_OLS_dataset[\"residual\"], exog)\n",
    "labels = [\"LM-Stat\", \"LM p-val\", \"F-Stat\", \"F p-val\"] \n",
    "print(dict(zip(labels, white_test_results)))\n",
    "## Breusch-Pagan-Test\n",
    "breusch_pagan_test_results = het_breuschpagan(pooled_OLS_dataset[\"residual\"], exog)\n",
    "labels = [\"LM-Stat\", \"LM p-val\", \"F-Stat\", \"F p-val\"] \n",
    "print(dict(zip(labels, breusch_pagan_test_results)))"
   ]
  },
  {
   "cell_type": "markdown",
   "metadata": {},
   "source": [
    "**Heteroskedasticity: In simple terms, if p < 0.05, then heteroskedasticity is indicated.**"
   ]
  },
  {
   "cell_type": "code",
   "execution_count": 87,
   "metadata": {},
   "outputs": [
    {
     "name": "stdout",
     "output_type": "stream",
     "text": [
      "1.9699614268460006\n"
     ]
    }
   ],
   "source": [
    "## Non-Autocorrelation\n",
    "## Durbin-Watson-Test\n",
    "from statsmodels.stats.stattools import durbin_watson\n",
    "\n",
    "durbin_watson_test_results = durbin_watson(pooled_OLS_dataset[\"residual\"]) \n",
    "print(durbin_watson_test_results)"
   ]
  },
  {
   "cell_type": "markdown",
   "metadata": {},
   "source": [
    "**Auto-Correlation: The Durbin-Watson-Test will have one output between 0 – 4. The mean (= 2) would indicate that there is no autocorrelation identified, 0 – 2 means positive autocorrelation (the nearer to zero the higher the correlation), and 2 – 4 means negative autocorrelation (the nearer to four the higher the correlation).**"
   ]
  },
  {
   "cell_type": "markdown",
   "metadata": {},
   "source": [
    "*To sum up, assumption 3a and 3b are violated in this sample, so it seems that a FE-/RE-model will be more suitable.*"
   ]
  },
  {
   "cell_type": "code",
   "execution_count": 89,
   "metadata": {},
   "outputs": [
    {
     "name": "stdout",
     "output_type": "stream",
     "text": [
      "                        RandomEffects Estimation Summary                        \n",
      "================================================================================\n",
      "Dep. Variable:              longitude   R-squared:                        0.9384\n",
      "Estimator:              RandomEffects   R-squared (Between):             -0.4658\n",
      "No. Observations:              239677   R-squared (Within):               0.9384\n",
      "Date:                Sun, May 22 2022   R-squared (Overall):              0.3118\n",
      "Time:                        17:14:37   Log-likelihood                -6.731e+05\n",
      "Cov. Estimator:            Unadjusted                                           \n",
      "                                        F-statistic:                   3.652e+06\n",
      "Entities:                          51   P-value                           0.0000\n",
      "Avg Obs:                       4699.5   Distribution:                F(1,239675)\n",
      "Min Obs:                       289.00                                           \n",
      "Max Obs:                    1.756e+04   F-statistic (robust):          3.652e+06\n",
      "                                        P-value                           0.0000\n",
      "Time periods:                    1725   Distribution:                F(1,239675)\n",
      "Avg Obs:                       138.94                                           \n",
      "Min Obs:                       1.0000                                           \n",
      "Max Obs:                       342.00                                           \n",
      "                                                                                \n",
      "                             Parameter Estimates                              \n",
      "==============================================================================\n",
      "            Parameter  Std. Err.     T-stat    P-value    Lower CI    Upper CI\n",
      "------------------------------------------------------------------------------\n",
      "const         -3.6458     2.5787    -1.4138     0.1574     -8.6999      1.4083\n",
      "latitude      -2.2690     0.0012    -1910.9     0.0000     -2.2714     -2.2667\n",
      "==============================================================================\n",
      "                          PanelOLS Estimation Summary                           \n",
      "================================================================================\n",
      "Dep. Variable:              longitude   R-squared:                        0.9384\n",
      "Estimator:                   PanelOLS   R-squared (Between):             -0.4662\n",
      "No. Observations:              239677   R-squared (Within):               0.9384\n",
      "Date:                Sun, May 22 2022   R-squared (Overall):              0.3121\n",
      "Time:                        17:14:37   Log-likelihood                 -6.73e+05\n",
      "Cov. Estimator:            Unadjusted                                           \n",
      "                                        F-statistic:                   3.652e+06\n",
      "Entities:                          51   P-value                           0.0000\n",
      "Avg Obs:                       4699.5   Distribution:                F(1,239625)\n",
      "Min Obs:                       289.00                                           \n",
      "Max Obs:                    1.756e+04   F-statistic (robust):          3.652e+06\n",
      "                                        P-value                           0.0000\n",
      "Time periods:                    1725   Distribution:                F(1,239625)\n",
      "Avg Obs:                       138.94                                           \n",
      "Min Obs:                       1.0000                                           \n",
      "Max Obs:                       342.00                                           \n",
      "                                                                                \n",
      "                             Parameter Estimates                              \n",
      "==============================================================================\n",
      "            Parameter  Std. Err.     T-stat    P-value    Lower CI    Upper CI\n",
      "------------------------------------------------------------------------------\n",
      "const         -4.0067     0.0439    -91.312     0.0000     -4.0927     -3.9207\n",
      "latitude      -2.2690     0.0012    -1911.0     0.0000     -2.2714     -2.2667\n",
      "==============================================================================\n",
      "\n",
      "F-test for Poolability: 7.829e+04\n",
      "P-value: 0.0000\n",
      "Distribution: F(50,239625)\n",
      "\n",
      "Included effects: Entity\n"
     ]
    }
   ],
   "source": [
    "# FE und RE model\n",
    "from linearmodels import PanelOLS\n",
    "from linearmodels import RandomEffects\n",
    "exog = sm.tools.tools.add_constant(dataset[\"latitude\"].fillna(0))\n",
    "endog = dataset[\"longitude\"].fillna(0)\n",
    "# random effects model\n",
    "model_re = RandomEffects(endog, exog) \n",
    "re_res = model_re.fit() \n",
    "# fixed effects model\n",
    "model_fe = PanelOLS(endog, exog, entity_effects = True) \n",
    "fe_res = model_fe.fit() \n",
    "#print results\n",
    "print(re_res)\n",
    "print(fe_res)"
   ]
  },
  {
   "cell_type": "code",
   "execution_count": 92,
   "metadata": {},
   "outputs": [
    {
     "name": "stdout",
     "output_type": "stream",
     "text": [
      "chi-Squared: -2.004020403879787\n",
      "degrees of freedom: 2\n",
      "p-Value: 1.0\n"
     ]
    }
   ],
   "source": [
    "import numpy.linalg as la\n",
    "from scipy import stats\n",
    "import numpy as np\n",
    "\n",
    "def hausman(fe, re):\n",
    "    b = fe.params\n",
    "    B = re.params\n",
    "    v_b = fe.cov\n",
    "    v_B = re.cov\n",
    "    df = b[np.abs(b) < 1e8].size\n",
    "    chi2 = np.dot((b - B).T, la.inv(v_b - v_B).dot(b - B)) \n",
    " \n",
    "    pval = stats.chi2.sf(chi2, df)\n",
    " \n",
    "    return chi2, df, pval\n",
    "\n",
    "hausman_results = hausman(fe_res, re_res) \n",
    "\n",
    "print(\"chi-Squared: \" + str(hausman_results[0]))\n",
    "print(\"degrees of freedom: \" + str(hausman_results[1]))\n",
    "print(\"p-Value: \" + str(hausman_results[2]))"
   ]
  },
  {
   "cell_type": "markdown",
   "metadata": {},
   "source": [
    "*Since the p-value is 1, the null hypothesis cannot be rejected. Accordingly, the RE-model seems to be the most suitable, because we clearly do not have endogeneity in our model.*"
   ]
  },
  {
   "cell_type": "code",
   "execution_count": null,
   "metadata": {},
   "outputs": [],
   "source": []
  }
 ],
 "metadata": {
  "interpreter": {
   "hash": "7ca7bbdbd7bf2e00c215953b6b7746afac26d03bac37fefe449470aabc987dbf"
  },
  "kernelspec": {
   "display_name": "Python 3",
   "language": "python",
   "name": "python3"
  },
  "language_info": {
   "codemirror_mode": {
    "name": "ipython",
    "version": 3
   },
   "file_extension": ".py",
   "mimetype": "text/x-python",
   "name": "python",
   "nbconvert_exporter": "python",
   "pygments_lexer": "ipython3",
   "version": "3.8.13"
  },
  "toc": {
   "base_numbering": 1,
   "nav_menu": {},
   "number_sections": true,
   "sideBar": true,
   "skip_h1_title": false,
   "title_cell": "Table of Contents",
   "title_sidebar": "Contents",
   "toc_cell": false,
   "toc_position": {},
   "toc_section_display": true,
   "toc_window_display": false
  }
 },
 "nbformat": 4,
 "nbformat_minor": 2
}
