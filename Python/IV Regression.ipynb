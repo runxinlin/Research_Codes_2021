{
 "cells": [
  {
   "cell_type": "code",
   "execution_count": 1,
   "metadata": {},
   "outputs": [],
   "source": [
    "import pandas as pd\n",
    "from sklearn.linear_model import LinearRegression\n",
    "from statsmodels.sandbox.regression.gmm import IV2SLS\n",
    "import numpy as np\n",
    "from scipy import stats\n",
    "from tqdm import tqdm\n",
    "import statsmodels.api as sm"
   ]
  },
  {
   "cell_type": "code",
   "execution_count": 2,
   "metadata": {},
   "outputs": [],
   "source": [
    "## Newey-West Adjustment For a Time-Series Data, e.g. Lambdas (factor returns)\n",
    "def NW_ttest(ret,h0):\n",
    "  T = len(ret)\n",
    "  lag = int(4*(T/100)**(2/9))\n",
    "  vv = np.var(ret)\n",
    "\n",
    "  for l in range(0,lag):\n",
    "      cc=np.cov(ret[0:(len(ret)-l)].T,ret[l:len(ret)].T)[0,1]\n",
    "      vv=vv+2*(1-(l+1)/lag)*cc\n",
    "      t=(np.mean(ret)-h0)/np.sqrt(vv)*np.sqrt(T)\n",
    "  \n",
    "  return t"
   ]
  },
  {
   "cell_type": "markdown",
   "metadata": {},
   "source": [
    "## CAPM_IV"
   ]
  },
  {
   "cell_type": "code",
   "execution_count": 3,
   "metadata": {},
   "outputs": [],
   "source": [
    "df_MR = pd.read_csv('df_MR.csv')"
   ]
  },
  {
   "cell_type": "code",
   "execution_count": 4,
   "metadata": {},
   "outputs": [],
   "source": [
    "df_MR.Dates = df_MR.Dates.apply(lambda x:x[:10])"
   ]
  },
  {
   "cell_type": "code",
   "execution_count": 5,
   "metadata": {},
   "outputs": [],
   "source": [
    "df_MR.set_index('Dates',inplace=True)"
   ]
  },
  {
   "cell_type": "code",
   "execution_count": 6,
   "metadata": {},
   "outputs": [],
   "source": [
    "ols_model = LinearRegression()"
   ]
  },
  {
   "cell_type": "code",
   "execution_count": 7,
   "metadata": {},
   "outputs": [],
   "source": [
    "df_RF = pd.read_csv('df_RF.csv',index_col=0)\n",
    "df_SR = pd.read_csv('df_SR.csv',index_col=0)\n",
    "df_SR.index = df_SR.index.to_series().apply(lambda x:x[:10])"
   ]
  },
  {
   "cell_type": "code",
   "execution_count": 8,
   "metadata": {},
   "outputs": [],
   "source": [
    "df_SR = df_SR.loc[:, (df_SR != 0).any(axis=0)]\n",
    "# df_SR = df_SR.apply(replacer)"
   ]
  },
  {
   "cell_type": "code",
   "execution_count": 9,
   "metadata": {},
   "outputs": [],
   "source": [
    "df_Ex_SR = df_SR - df_RF.values"
   ]
  },
  {
   "cell_type": "code",
   "execution_count": 10,
   "metadata": {},
   "outputs": [
    {
     "data": {
      "text/plain": [
       "(5215, 740)"
      ]
     },
     "execution_count": 10,
     "metadata": {},
     "output_type": "execute_result"
    }
   ],
   "source": [
    "df_Ex_SR = df_Ex_SR.loc[df_MR.index,:]\n",
    "df_Ex_SR.shape"
   ]
  },
  {
   "cell_type": "code",
   "execution_count": 11,
   "metadata": {},
   "outputs": [],
   "source": [
    "n = 3\n",
    "holding = 21\n",
    "rollingW = holding * n *12\n",
    "lens = len(df_MR)\n",
    "periods = int((lens - rollingW) / holding) - 1"
   ]
  },
  {
   "cell_type": "code",
   "execution_count": 12,
   "metadata": {},
   "outputs": [
    {
     "name": "stderr",
     "output_type": "stream",
     "text": [
      "100%|██████████| 211/211 [04:57<00:00,  1.41s/it]\n"
     ]
    }
   ],
   "source": [
    "all_betas_ev = []\n",
    "all_betas_iv = []\n",
    "\n",
    "# i is time in periods\n",
    "for i in tqdm(range(periods)):\n",
    "\n",
    "    df_MR_tmp = df_MR.iloc[i*holding:i*holding+rollingW,:]\n",
    "    df_Ex_SR_tmp = df_Ex_SR.iloc[i*holding:i*holding+rollingW,:]\n",
    "    \n",
    "\n",
    "    if (i + 1) % 2 == 1:\n",
    "        rw_odd = pd.DataFrame()\n",
    "        for k in range(0,n*12,2):\n",
    "            rw_odd = pd.concat([rw_odd,df_MR_tmp.iloc[21*k:21*(k+1),:]])\n",
    "\n",
    "        betas_ev = []\n",
    "        # j is cross-sectional stock label\n",
    "        for j in df_Ex_SR.columns:\n",
    "            df_index = df_Ex_SR_tmp.loc[rw_odd.index,j].dropna().index\n",
    "            \n",
    "            if len(df_index) != 0:\n",
    "                b = list(ols_model.fit(df_MR_tmp.loc[df_index,:].values, df_Ex_SR_tmp.loc[df_index,j].values).coef_)\n",
    "                b.append(j)\n",
    "                betas_ev.append(b)\n",
    "        df_betas_ev = pd.DataFrame(np.array(betas_ev)).rename(columns={0:'beta_1',1:'stock'}).set_index('stock')\n",
    "        all_betas_ev.append(df_betas_ev)\n",
    "\n",
    "\n",
    "        rw_even = pd.DataFrame()   \n",
    "        for k in range(1,n*12,2):\n",
    "            rw_even = pd.concat([rw_even,df_MR_tmp.iloc[21*k:21*(k+1),:]])\n",
    "        \n",
    "        betas_iv = []\n",
    "        # j is stock\n",
    "        for j in df_Ex_SR.columns:\n",
    "            df_index = df_Ex_SR_tmp.loc[rw_even.index,j].dropna().index\n",
    "            \n",
    "            if len(df_index) != 0:\n",
    "                b = list(ols_model.fit(df_MR_tmp.loc[df_index,:].values, df_Ex_SR_tmp.loc[df_index,j].values).coef_)\n",
    "                b.append(j)\n",
    "                betas_iv.append(b)\n",
    "        df_betas_iv = pd.DataFrame(np.array(betas_iv)).rename(columns={0:'beta_1',1:'stock'}).set_index('stock')\n",
    "        all_betas_iv.append(df_betas_iv)\n",
    "\n",
    "\n",
    "    if (i + 1) % 2 == 0:\n",
    "        rw_odd = pd.DataFrame()\n",
    "        for k in range(0,n*12,2):\n",
    "            rw_odd = pd.concat([rw_odd,df_MR_tmp.iloc[21*k:21*(k+1),:]])\n",
    "\n",
    "        betas_iv = []\n",
    "        # j is stock\n",
    "        for j in df_Ex_SR.columns:\n",
    "            df_index = df_Ex_SR_tmp.loc[rw_odd.index,j].dropna().index\n",
    "            \n",
    "            if len(df_index) != 0:\n",
    "                b = list(ols_model.fit(df_MR_tmp.loc[df_index,:].values, df_Ex_SR_tmp.loc[df_index,j].values).coef_)\n",
    "                b.append(j)\n",
    "                betas_iv.append(b)\n",
    "        df_betas_iv = pd.DataFrame(np.array(betas_iv)).rename(columns={0:'beta_1',1:'stock'}).set_index('stock')\n",
    "        all_betas_iv.append(df_betas_iv)\n",
    "        \n",
    "\n",
    "        rw_even = pd.DataFrame()   \n",
    "        for k in range(1,n*12,2):\n",
    "            rw_even = pd.concat([rw_even,df_MR_tmp.iloc[21*k:21*(k+1),:]])\n",
    "\n",
    "        betas_ev = []\n",
    "        # j is stock\n",
    "        for j in df_Ex_SR.columns:\n",
    "            df_index = df_Ex_SR_tmp.loc[rw_even.index,j].dropna().index\n",
    "            \n",
    "            if len(df_index) != 0:\n",
    "                b = list(ols_model.fit(df_MR_tmp.loc[df_index,:].values, df_Ex_SR_tmp.loc[df_index,j].values).coef_)\n",
    "                b.append(j)\n",
    "                betas_ev.append(b)\n",
    "        df_betas_ev = pd.DataFrame(np.array(betas_ev)).rename(columns={0:'beta_1',1:'stock'}).set_index('stock')\n",
    "        all_betas_ev.append(df_betas_ev)\n"
   ]
  },
  {
   "cell_type": "code",
   "execution_count": 13,
   "metadata": {
    "scrolled": true
   },
   "outputs": [
    {
     "data": {
      "text/html": [
       "<div>\n",
       "<style scoped>\n",
       "    .dataframe tbody tr th:only-of-type {\n",
       "        vertical-align: middle;\n",
       "    }\n",
       "\n",
       "    .dataframe tbody tr th {\n",
       "        vertical-align: top;\n",
       "    }\n",
       "\n",
       "    .dataframe thead th {\n",
       "        text-align: right;\n",
       "    }\n",
       "</style>\n",
       "<table border=\"1\" class=\"dataframe\">\n",
       "  <thead>\n",
       "    <tr style=\"text-align: right;\">\n",
       "      <th></th>\n",
       "      <th>beta_1</th>\n",
       "    </tr>\n",
       "    <tr>\n",
       "      <th>stock</th>\n",
       "      <th></th>\n",
       "    </tr>\n",
       "  </thead>\n",
       "  <tbody>\n",
       "    <tr>\n",
       "      <th>ABC.SJ.Equity</th>\n",
       "      <td>0.009525758651982777</td>\n",
       "    </tr>\n",
       "    <tr>\n",
       "      <th>ABI.SJ.Equity</th>\n",
       "      <td>0.1960923076113216</td>\n",
       "    </tr>\n",
       "    <tr>\n",
       "      <th>ABR.SJ.Equity</th>\n",
       "      <td>0.186521230022673</td>\n",
       "    </tr>\n",
       "    <tr>\n",
       "      <th>ACL.SJ.Equity</th>\n",
       "      <td>1.097261797813182</td>\n",
       "    </tr>\n",
       "    <tr>\n",
       "      <th>ACP.SJ.Equity</th>\n",
       "      <td>-0.032080565428087175</td>\n",
       "    </tr>\n",
       "    <tr>\n",
       "      <th>...</th>\n",
       "      <td>...</td>\n",
       "    </tr>\n",
       "    <tr>\n",
       "      <th>WTC.SJ.Equity</th>\n",
       "      <td>0.14110604960768647</td>\n",
       "    </tr>\n",
       "    <tr>\n",
       "      <th>YRK.SJ.Equity</th>\n",
       "      <td>-0.0007643014234958393</td>\n",
       "    </tr>\n",
       "    <tr>\n",
       "      <th>ZPT.SJ.Equity</th>\n",
       "      <td>-0.006818859254406023</td>\n",
       "    </tr>\n",
       "    <tr>\n",
       "      <th>ZRR.SJ.Equity</th>\n",
       "      <td>0.1498549385898545</td>\n",
       "    </tr>\n",
       "    <tr>\n",
       "      <th>ZSA.SJ.Equity</th>\n",
       "      <td>0.0669772513018001</td>\n",
       "    </tr>\n",
       "  </tbody>\n",
       "</table>\n",
       "<p>421 rows × 1 columns</p>\n",
       "</div>"
      ],
      "text/plain": [
       "                               beta_1\n",
       "stock                                \n",
       "ABC.SJ.Equity    0.009525758651982777\n",
       "ABI.SJ.Equity      0.1960923076113216\n",
       "ABR.SJ.Equity       0.186521230022673\n",
       "ACL.SJ.Equity       1.097261797813182\n",
       "ACP.SJ.Equity   -0.032080565428087175\n",
       "...                               ...\n",
       "WTC.SJ.Equity     0.14110604960768647\n",
       "YRK.SJ.Equity  -0.0007643014234958393\n",
       "ZPT.SJ.Equity   -0.006818859254406023\n",
       "ZRR.SJ.Equity      0.1498549385898545\n",
       "ZSA.SJ.Equity      0.0669772513018001\n",
       "\n",
       "[421 rows x 1 columns]"
      ]
     },
     "execution_count": 13,
     "metadata": {},
     "output_type": "execute_result"
    }
   ],
   "source": [
    "all_betas_ev[0]"
   ]
  },
  {
   "cell_type": "code",
   "execution_count": 14,
   "metadata": {},
   "outputs": [
    {
     "name": "stderr",
     "output_type": "stream",
     "text": [
      "100%|██████████| 4431/4431 [00:11<00:00, 381.60it/s]\n"
     ]
    }
   ],
   "source": [
    "all_lambdas = []\n",
    "# i is time\n",
    "\n",
    "df_Ex_SR_tmp_T = df_Ex_SR.iloc[rollingW:rollingW+periods*holding,:].T\n",
    "\n",
    "lambdas = []\n",
    "index_times = list(df_Ex_SR_tmp_T.columns)\n",
    "\n",
    "for k in tqdm(df_Ex_SR_tmp_T.columns):\n",
    "    \n",
    "    i = int(index_times.index(k) / holding)\n",
    "\n",
    "    df_index = ((all_betas_iv[i].index).intersection(all_betas_ev[i].index)).intersection(df_Ex_SR.loc[k,:].dropna().index)\n",
    "    \n",
    "    if len(df_index) != 0:\n",
    "        iv = IV2SLS(endog = df_Ex_SR_tmp_T.loc[df_index,k].values,exog = sm.add_constant(all_betas_ev[i].loc[df_index,:].values.astype(np.float64)),instrument = sm.add_constant(all_betas_iv[i].loc[df_index,:].values.astype(np.float64)))\n",
    "        res = iv.fit()\n",
    "        l = list(res.params)\n",
    "        lambdas.append(l)\n",
    "all_lambdas.append(pd.DataFrame(lambdas))"
   ]
  },
  {
   "cell_type": "code",
   "execution_count": 15,
   "metadata": {
    "scrolled": true
   },
   "outputs": [
    {
     "data": {
      "text/html": [
       "<div>\n",
       "<style scoped>\n",
       "    .dataframe tbody tr th:only-of-type {\n",
       "        vertical-align: middle;\n",
       "    }\n",
       "\n",
       "    .dataframe tbody tr th {\n",
       "        vertical-align: top;\n",
       "    }\n",
       "\n",
       "    .dataframe thead th {\n",
       "        text-align: right;\n",
       "    }\n",
       "</style>\n",
       "<table border=\"1\" class=\"dataframe\">\n",
       "  <thead>\n",
       "    <tr style=\"text-align: right;\">\n",
       "      <th></th>\n",
       "      <th>Intercept</th>\n",
       "      <th>MKT</th>\n",
       "    </tr>\n",
       "  </thead>\n",
       "  <tbody>\n",
       "    <tr>\n",
       "      <th>0</th>\n",
       "      <td>-0.001979</td>\n",
       "      <td>0.016466</td>\n",
       "    </tr>\n",
       "    <tr>\n",
       "      <th>1</th>\n",
       "      <td>0.001600</td>\n",
       "      <td>-0.002094</td>\n",
       "    </tr>\n",
       "    <tr>\n",
       "      <th>2</th>\n",
       "      <td>-0.000184</td>\n",
       "      <td>0.011280</td>\n",
       "    </tr>\n",
       "    <tr>\n",
       "      <th>3</th>\n",
       "      <td>-0.001818</td>\n",
       "      <td>0.015955</td>\n",
       "    </tr>\n",
       "    <tr>\n",
       "      <th>4</th>\n",
       "      <td>0.004119</td>\n",
       "      <td>-0.022074</td>\n",
       "    </tr>\n",
       "    <tr>\n",
       "      <th>...</th>\n",
       "      <td>...</td>\n",
       "      <td>...</td>\n",
       "    </tr>\n",
       "    <tr>\n",
       "      <th>4426</th>\n",
       "      <td>-0.000319</td>\n",
       "      <td>-0.000034</td>\n",
       "    </tr>\n",
       "    <tr>\n",
       "      <th>4427</th>\n",
       "      <td>0.000149</td>\n",
       "      <td>0.003264</td>\n",
       "    </tr>\n",
       "    <tr>\n",
       "      <th>4428</th>\n",
       "      <td>-0.000715</td>\n",
       "      <td>0.011156</td>\n",
       "    </tr>\n",
       "    <tr>\n",
       "      <th>4429</th>\n",
       "      <td>0.001260</td>\n",
       "      <td>0.001068</td>\n",
       "    </tr>\n",
       "    <tr>\n",
       "      <th>4430</th>\n",
       "      <td>-0.001252</td>\n",
       "      <td>-0.012948</td>\n",
       "    </tr>\n",
       "  </tbody>\n",
       "</table>\n",
       "<p>4431 rows × 2 columns</p>\n",
       "</div>"
      ],
      "text/plain": [
       "      Intercept       MKT\n",
       "0     -0.001979  0.016466\n",
       "1      0.001600 -0.002094\n",
       "2     -0.000184  0.011280\n",
       "3     -0.001818  0.015955\n",
       "4      0.004119 -0.022074\n",
       "...         ...       ...\n",
       "4426  -0.000319 -0.000034\n",
       "4427   0.000149  0.003264\n",
       "4428  -0.000715  0.011156\n",
       "4429   0.001260  0.001068\n",
       "4430  -0.001252 -0.012948\n",
       "\n",
       "[4431 rows x 2 columns]"
      ]
     },
     "execution_count": 15,
     "metadata": {},
     "output_type": "execute_result"
    }
   ],
   "source": [
    "all_lambdas[0].rename(columns={0:'Intercept',1:'MKT'})"
   ]
  },
  {
   "cell_type": "code",
   "execution_count": 16,
   "metadata": {},
   "outputs": [
    {
     "data": {
      "text/plain": [
       "array([-0.23449305,  0.13260874])"
      ]
     },
     "execution_count": 16,
     "metadata": {},
     "output_type": "execute_result"
    }
   ],
   "source": [
    "np.nanmean(all_lambdas[0], axis = 0)*100*21"
   ]
  },
  {
   "cell_type": "code",
   "execution_count": 17,
   "metadata": {},
   "outputs": [
    {
     "data": {
      "text/plain": [
       "Ttest_1sampResult(statistic=array([-4.29253676,  0.29508812]), pvalue=array([1.80417867e-05, 7.67940391e-01]))"
      ]
     },
     "execution_count": 17,
     "metadata": {},
     "output_type": "execute_result"
    }
   ],
   "source": [
    "stats.ttest_1samp(all_lambdas[0].dropna(), 0.0)"
   ]
  },
  {
   "cell_type": "code",
   "execution_count": 18,
   "metadata": {
    "scrolled": false
   },
   "outputs": [
    {
     "data": {
      "text/plain": [
       "array([-2.4635258,  0.1754759])"
      ]
     },
     "execution_count": 18,
     "metadata": {},
     "output_type": "execute_result"
    }
   ],
   "source": [
    "## New-West Adjustment for CAPM lambda\n",
    "all_lambdas[0].dropna().apply(lambda x: NW_ttest(ret = x, h0=0), axis=0).values"
   ]
  },
  {
   "cell_type": "markdown",
   "metadata": {},
   "source": [
    "### Adding Firm Characteristics"
   ]
  },
  {
   "cell_type": "code",
   "execution_count": 19,
   "metadata": {},
   "outputs": [],
   "source": [
    "df_ln_Size = pd.read_csv('df_ln_Size.csv')\n",
    "\n",
    "df_PE = pd.read_csv('df_std_PE.csv')\n",
    "\n",
    "df_ln_Size.Dates = df_ln_Size.Dates.apply(lambda x:x[:10])\n",
    "\n",
    "df_ln_Size.set_index('Dates',inplace=True)\n",
    "\n",
    "df_PE.Dates = df_PE.Dates.apply(lambda x:x[:10])\n",
    "\n",
    "df_PE.set_index('Dates',inplace=True)"
   ]
  },
  {
   "cell_type": "code",
   "execution_count": 20,
   "metadata": {},
   "outputs": [],
   "source": [
    "df_ln_Size = df_ln_Size.loc[df_Ex_SR.index,:]"
   ]
  },
  {
   "cell_type": "code",
   "execution_count": 21,
   "metadata": {},
   "outputs": [],
   "source": [
    "df_PE = df_PE.loc[df_Ex_SR.index,:]"
   ]
  },
  {
   "cell_type": "code",
   "execution_count": 22,
   "metadata": {
    "scrolled": false
   },
   "outputs": [
    {
     "data": {
      "text/plain": [
       "True"
      ]
     },
     "execution_count": 22,
     "metadata": {},
     "output_type": "execute_result"
    }
   ],
   "source": [
    "len(df_ln_Size)==len(df_PE)==len(df_Ex_SR)"
   ]
  },
  {
   "cell_type": "code",
   "execution_count": 23,
   "metadata": {},
   "outputs": [],
   "source": [
    "n = 3\n",
    "holding = 21\n",
    "rollingW = holding * n * 12\n",
    "lens = len(df_MR)\n",
    "periods = int((lens - rollingW) / holding) - 1"
   ]
  },
  {
   "cell_type": "code",
   "execution_count": 24,
   "metadata": {},
   "outputs": [
    {
     "name": "stderr",
     "output_type": "stream",
     "text": [
      "100%|██████████| 4431/4431 [00:26<00:00, 165.65it/s]\n"
     ]
    }
   ],
   "source": [
    "all_lambdas = []\n",
    "\n",
    "df_Ex_SR_tmp_T = df_Ex_SR.iloc[rollingW:rollingW+periods*holding,:].T\n",
    "df_ln_Size_tmp_T = df_ln_Size.iloc[rollingW:rollingW+periods*holding,:].T\n",
    "df_PE_tmp_T = df_PE.iloc[rollingW:rollingW+periods*holding,:].T\n",
    "\n",
    "lambdas = []\n",
    "\n",
    "index_times = list(df_Ex_SR_tmp_T.columns)\n",
    "\n",
    "for k in tqdm(df_Ex_SR_tmp_T.columns):\n",
    "    # k is time t in 3948 days\n",
    "    i = int(index_times.index(k) / holding)\n",
    "    # i is time T in 185 periods\n",
    "    # df_ln_Size_tmp_T.loc[:,k].replace(-np.inf,np.nan), the -inf in ln_Size data dataframe would interrupt the regression\n",
    "    df_index =  (((((all_betas_ev[i].index).intersection(all_betas_iv[i].index)).\\\n",
    "                 intersection(df_ln_Size_tmp_T.loc[:,k].replace(-np.inf,np.nan).dropna().index)).\\\n",
    "                 intersection(df_PE_tmp_T.loc[:,k].dropna().index)).\\\n",
    "                 intersection(df_Ex_SR_tmp_T.loc[:,index_times[index_times.index(k)]].dropna().index))\n",
    "    \n",
    "    if len(df_index) != 0:\n",
    "        iv = IV2SLS(endog = df_Ex_SR_tmp_T.loc[df_index,index_times[index_times.index(k)]].values,\\\n",
    "                    exog = sm.add_constant(pd.concat([all_betas_ev[i].loc[df_index,:],\\\n",
    "                                                      df_ln_Size_tmp_T.loc[df_index,k],\\\n",
    "                                                      df_PE_tmp_T.loc[df_index,k]],axis = 1).values.astype(np.float64)),\\\n",
    "                    instrument = sm.add_constant(pd.concat([all_betas_iv[i].loc[df_index,:],\\\n",
    "                                                           df_ln_Size_tmp_T.loc[df_index,k],\\\n",
    "                                                           df_PE_tmp_T.loc[df_index,k]],axis = 1).values.astype(np.float64)))\n",
    "        res = iv.fit()\n",
    "        l = list(res.params)     \n",
    "        lambdas.append(l)\n",
    "\n",
    "all_lambdas.append(pd.DataFrame(lambdas))"
   ]
  },
  {
   "cell_type": "code",
   "execution_count": 25,
   "metadata": {
    "scrolled": false
   },
   "outputs": [
    {
     "data": {
      "text/html": [
       "<div>\n",
       "<style scoped>\n",
       "    .dataframe tbody tr th:only-of-type {\n",
       "        vertical-align: middle;\n",
       "    }\n",
       "\n",
       "    .dataframe tbody tr th {\n",
       "        vertical-align: top;\n",
       "    }\n",
       "\n",
       "    .dataframe thead th {\n",
       "        text-align: right;\n",
       "    }\n",
       "</style>\n",
       "<table border=\"1\" class=\"dataframe\">\n",
       "  <thead>\n",
       "    <tr style=\"text-align: right;\">\n",
       "      <th></th>\n",
       "      <th>Intercept</th>\n",
       "      <th>MKT</th>\n",
       "      <th>Size</th>\n",
       "      <th>PE</th>\n",
       "    </tr>\n",
       "  </thead>\n",
       "  <tbody>\n",
       "    <tr>\n",
       "      <th>0</th>\n",
       "      <td>-0.000899</td>\n",
       "      <td>0.024234</td>\n",
       "      <td>-0.000201</td>\n",
       "      <td>0.004694</td>\n",
       "    </tr>\n",
       "    <tr>\n",
       "      <th>1</th>\n",
       "      <td>0.006810</td>\n",
       "      <td>-0.000371</td>\n",
       "      <td>-0.001295</td>\n",
       "      <td>-0.003227</td>\n",
       "    </tr>\n",
       "    <tr>\n",
       "      <th>2</th>\n",
       "      <td>0.005971</td>\n",
       "      <td>0.020013</td>\n",
       "      <td>-0.001070</td>\n",
       "      <td>0.000147</td>\n",
       "    </tr>\n",
       "    <tr>\n",
       "      <th>3</th>\n",
       "      <td>0.014526</td>\n",
       "      <td>0.023382</td>\n",
       "      <td>-0.002621</td>\n",
       "      <td>0.003577</td>\n",
       "    </tr>\n",
       "    <tr>\n",
       "      <th>4</th>\n",
       "      <td>-0.011938</td>\n",
       "      <td>-0.049785</td>\n",
       "      <td>0.002896</td>\n",
       "      <td>-0.001443</td>\n",
       "    </tr>\n",
       "    <tr>\n",
       "      <th>...</th>\n",
       "      <td>...</td>\n",
       "      <td>...</td>\n",
       "      <td>...</td>\n",
       "      <td>...</td>\n",
       "    </tr>\n",
       "    <tr>\n",
       "      <th>4426</th>\n",
       "      <td>-0.003034</td>\n",
       "      <td>-0.003449</td>\n",
       "      <td>0.000579</td>\n",
       "      <td>0.000979</td>\n",
       "    </tr>\n",
       "    <tr>\n",
       "      <th>4427</th>\n",
       "      <td>-0.003265</td>\n",
       "      <td>0.001809</td>\n",
       "      <td>0.000419</td>\n",
       "      <td>-0.001005</td>\n",
       "    </tr>\n",
       "    <tr>\n",
       "      <th>4428</th>\n",
       "      <td>-0.003432</td>\n",
       "      <td>0.006911</td>\n",
       "      <td>0.000410</td>\n",
       "      <td>0.000321</td>\n",
       "    </tr>\n",
       "    <tr>\n",
       "      <th>4429</th>\n",
       "      <td>0.000863</td>\n",
       "      <td>0.002092</td>\n",
       "      <td>0.000185</td>\n",
       "      <td>-0.000092</td>\n",
       "    </tr>\n",
       "    <tr>\n",
       "      <th>4430</th>\n",
       "      <td>-0.004540</td>\n",
       "      <td>-0.020198</td>\n",
       "      <td>0.000638</td>\n",
       "      <td>-0.002318</td>\n",
       "    </tr>\n",
       "  </tbody>\n",
       "</table>\n",
       "<p>4431 rows × 4 columns</p>\n",
       "</div>"
      ],
      "text/plain": [
       "      Intercept       MKT      Size        PE\n",
       "0     -0.000899  0.024234 -0.000201  0.004694\n",
       "1      0.006810 -0.000371 -0.001295 -0.003227\n",
       "2      0.005971  0.020013 -0.001070  0.000147\n",
       "3      0.014526  0.023382 -0.002621  0.003577\n",
       "4     -0.011938 -0.049785  0.002896 -0.001443\n",
       "...         ...       ...       ...       ...\n",
       "4426  -0.003034 -0.003449  0.000579  0.000979\n",
       "4427  -0.003265  0.001809  0.000419 -0.001005\n",
       "4428  -0.003432  0.006911  0.000410  0.000321\n",
       "4429   0.000863  0.002092  0.000185 -0.000092\n",
       "4430  -0.004540 -0.020198  0.000638 -0.002318\n",
       "\n",
       "[4431 rows x 4 columns]"
      ]
     },
     "execution_count": 25,
     "metadata": {},
     "output_type": "execute_result"
    }
   ],
   "source": [
    "all_lambdas[0].rename(columns={0:'Intercept',1:'MKT',2:'Size',3:'PE'})"
   ]
  },
  {
   "cell_type": "code",
   "execution_count": 26,
   "metadata": {
    "scrolled": true
   },
   "outputs": [
    {
     "name": "stderr",
     "output_type": "stream",
     "text": [
      "/Users/runxinlin/opt/anaconda3/envs/Research_Codes_2021/lib/python3.8/site-packages/numpy/core/fromnumeric.py:3438: FutureWarning: In a future version, DataFrame.mean(axis=None) will return a scalar mean over the entire DataFrame. To retain the old behavior, use 'frame.mean(axis=0)' or just 'frame.mean()'\n",
      "  return mean(axis=axis, dtype=dtype, out=out, **kwargs)\n"
     ]
    },
    {
     "data": {
      "text/plain": [
       "0   -0.695162\n",
       "1   -0.481642\n",
       "2    0.084818\n",
       "3    0.973146\n",
       "dtype: float64"
      ]
     },
     "execution_count": 26,
     "metadata": {},
     "output_type": "execute_result"
    }
   ],
   "source": [
    "np.mean(all_lambdas[0])*21*100"
   ]
  },
  {
   "cell_type": "code",
   "execution_count": 27,
   "metadata": {
    "scrolled": true
   },
   "outputs": [
    {
     "data": {
      "text/plain": [
       "array([-3.68948571, -0.85975906,  2.43448067, 16.08246606])"
      ]
     },
     "execution_count": 27,
     "metadata": {},
     "output_type": "execute_result"
    }
   ],
   "source": [
    "stats.ttest_1samp(all_lambdas[0].dropna(), 0.0)[0]"
   ]
  },
  {
   "cell_type": "code",
   "execution_count": 28,
   "metadata": {
    "scrolled": true
   },
   "outputs": [
    {
     "data": {
      "text/plain": [
       "array([-2.33636942, -0.5257334 ,  1.53924127, 10.06383403])"
      ]
     },
     "execution_count": 28,
     "metadata": {},
     "output_type": "execute_result"
    }
   ],
   "source": [
    "## New-West Adjustment \n",
    "all_lambdas[0].dropna().apply(lambda x: NW_ttest(ret = x, h0=0), axis=0).values"
   ]
  },
  {
   "cell_type": "markdown",
   "metadata": {},
   "source": [
    "## FF3-Factor_IV"
   ]
  },
  {
   "cell_type": "code",
   "execution_count": 29,
   "metadata": {},
   "outputs": [],
   "source": [
    "ols_model = LinearRegression()"
   ]
  },
  {
   "cell_type": "code",
   "execution_count": 30,
   "metadata": {},
   "outputs": [],
   "source": [
    "df_FF3 = pd.read_csv('df_FF3.csv')"
   ]
  },
  {
   "cell_type": "code",
   "execution_count": 31,
   "metadata": {},
   "outputs": [],
   "source": [
    "df_FF3.Dates = df_FF3.Dates.apply(lambda x:x[:10])"
   ]
  },
  {
   "cell_type": "code",
   "execution_count": 32,
   "metadata": {},
   "outputs": [],
   "source": [
    "df_FF3.set_index('Dates',inplace=True)"
   ]
  },
  {
   "cell_type": "code",
   "execution_count": 33,
   "metadata": {},
   "outputs": [],
   "source": [
    "df_RF = pd.read_csv('df_RF.csv',index_col=0)\n",
    "df_SR = pd.read_csv('df_SR.csv',index_col=0)\n",
    "df_SR.index = df_SR.index.to_series().apply(lambda x:x[:10])"
   ]
  },
  {
   "cell_type": "code",
   "execution_count": 34,
   "metadata": {},
   "outputs": [],
   "source": [
    "df_Ex_SR = df_SR-df_RF.values"
   ]
  },
  {
   "cell_type": "code",
   "execution_count": 35,
   "metadata": {},
   "outputs": [],
   "source": [
    "df_Ex_SR = df_Ex_SR.loc[df_FF3.index,:]"
   ]
  },
  {
   "cell_type": "code",
   "execution_count": 36,
   "metadata": {},
   "outputs": [],
   "source": [
    "n = 3\n",
    "holding = 21\n",
    "rollingW = holding * n * 12\n",
    "lens = len(df_FF3)\n",
    "periods = int((lens - rollingW) / holding) - 1"
   ]
  },
  {
   "cell_type": "code",
   "execution_count": 37,
   "metadata": {
    "scrolled": true
   },
   "outputs": [
    {
     "name": "stderr",
     "output_type": "stream",
     "text": [
      "100%|██████████| 189/189 [04:40<00:00,  1.48s/it]\n"
     ]
    }
   ],
   "source": [
    "all_betas_ev = []\n",
    "all_betas_iv = []\n",
    "\n",
    "# i is time\n",
    "for i in tqdm(range(periods)):\n",
    "\n",
    "    df_FF3_tmp = df_FF3.iloc[i*holding:i*holding+rollingW,:]\n",
    "    df_Ex_SR_tmp = df_Ex_SR.iloc[i*holding:i*holding+rollingW,:]\n",
    "    \n",
    "\n",
    "    if (i + 1) % 2 == 1:\n",
    "        rw_odd = pd.DataFrame()\n",
    "        for k in range(0,n*12,2):\n",
    "            rw_odd = pd.concat([rw_odd,df_FF3_tmp.iloc[21*k:21*(k+1),:]])\n",
    "\n",
    "        betas_ev = []\n",
    "        # j is stock\n",
    "        for j in df_Ex_SR.columns:\n",
    "            df_index = df_Ex_SR_tmp.loc[rw_odd.index,j].dropna().index\n",
    "            \n",
    "            if len(df_index) != 0:\n",
    "                b = list(ols_model.fit(df_FF3_tmp.loc[df_index,:].values, df_Ex_SR_tmp.loc[df_index,j].values).coef_)\n",
    "                b.append(j)\n",
    "                betas_ev.append(b)\n",
    "        df_betas_ev = pd.DataFrame(np.array(betas_ev)).rename(columns={0:'beta_1',1:'beta_2',2:'beta_3',3:'stock'}).set_index('stock')\n",
    "        all_betas_ev.append(df_betas_ev)\n",
    "\n",
    "\n",
    "        rw_even = pd.DataFrame()   \n",
    "        for k in range(1,n*12,2):\n",
    "            rw_even = pd.concat([rw_even,df_FF3_tmp.iloc[21*k:21*(k+1),:]])\n",
    "        \n",
    "        betas_iv = []\n",
    "        # j is stock\n",
    "        for j in df_Ex_SR.columns:\n",
    "            df_index = df_Ex_SR_tmp.loc[rw_even.index,j].dropna().index\n",
    "            \n",
    "            if len(df_index) != 0:\n",
    "                b = list(ols_model.fit(df_FF3_tmp.loc[df_index,:].values, df_Ex_SR_tmp.loc[df_index,j].values).coef_)\n",
    "                b.append(j)\n",
    "                betas_iv.append(b)\n",
    "        df_betas_iv = pd.DataFrame(np.array(betas_iv)).rename(columns={0:'beta_1',1:'beta_2',2:'beta_3',3:'stock'}).set_index('stock')\n",
    "        all_betas_iv.append(df_betas_iv)\n",
    "\n",
    "\n",
    "    if (i + 1) % 2 == 0:\n",
    "        rw_odd = pd.DataFrame()\n",
    "        for k in range(0,n*12,2):\n",
    "            rw_odd = pd.concat([rw_odd,df_FF3_tmp.iloc[21*k:21*(k+1),:]])\n",
    "\n",
    "        betas_iv = []\n",
    "        # j is stock\n",
    "        for j in df_Ex_SR.columns:\n",
    "            df_index = df_Ex_SR_tmp.loc[rw_odd.index,j].dropna().index\n",
    "            \n",
    "            if len(df_index) != 0:\n",
    "                b = list(ols_model.fit(df_FF3_tmp.loc[df_index,:].values, df_Ex_SR_tmp.loc[df_index,j].values).coef_)\n",
    "                b.append(j)\n",
    "                betas_iv.append(b)\n",
    "        df_betas_iv = pd.DataFrame(np.array(betas_iv)).rename(columns={0:'beta_1',1:'beta_2',2:'beta_3',3:'stock'}).set_index('stock')\n",
    "        all_betas_iv.append(df_betas_iv)\n",
    "        \n",
    "\n",
    "        rw_even = pd.DataFrame()   \n",
    "        for k in range(1,n*12,2):\n",
    "            rw_even = pd.concat([rw_even,df_FF3_tmp.iloc[21*k:21*(k+1),:]])\n",
    "\n",
    "        betas_ev = []\n",
    "        # j is stock\n",
    "        for j in df_Ex_SR.columns:\n",
    "            df_index = df_Ex_SR_tmp.loc[rw_even.index,j].dropna().index\n",
    "            \n",
    "            if len(df_index) != 0:\n",
    "                b = list(ols_model.fit(df_FF3_tmp.loc[df_index,:].values, df_Ex_SR_tmp.loc[df_index,j].values).coef_)\n",
    "                b.append(j)\n",
    "                betas_ev.append(b)\n",
    "        df_betas_ev = pd.DataFrame(np.array(betas_ev)).rename(columns={0:'beta_1',1:'beta_2',2:'beta_3',3:'stock'}).set_index('stock')\n",
    "        all_betas_ev.append(df_betas_ev)\n",
    "\n"
   ]
  },
  {
   "cell_type": "code",
   "execution_count": 38,
   "metadata": {
    "scrolled": true
   },
   "outputs": [
    {
     "data": {
      "text/html": [
       "<div>\n",
       "<style scoped>\n",
       "    .dataframe tbody tr th:only-of-type {\n",
       "        vertical-align: middle;\n",
       "    }\n",
       "\n",
       "    .dataframe tbody tr th {\n",
       "        vertical-align: top;\n",
       "    }\n",
       "\n",
       "    .dataframe thead th {\n",
       "        text-align: right;\n",
       "    }\n",
       "</style>\n",
       "<table border=\"1\" class=\"dataframe\">\n",
       "  <thead>\n",
       "    <tr style=\"text-align: right;\">\n",
       "      <th></th>\n",
       "      <th>beta_1</th>\n",
       "      <th>beta_2</th>\n",
       "      <th>beta_3</th>\n",
       "    </tr>\n",
       "    <tr>\n",
       "      <th>stock</th>\n",
       "      <th></th>\n",
       "      <th></th>\n",
       "      <th></th>\n",
       "    </tr>\n",
       "  </thead>\n",
       "  <tbody>\n",
       "    <tr>\n",
       "      <th>ABC.SJ.Equity</th>\n",
       "      <td>-0.3268531755110442</td>\n",
       "      <td>-0.6124245989848942</td>\n",
       "      <td>0.5184193635149579</td>\n",
       "    </tr>\n",
       "    <tr>\n",
       "      <th>ABI.SJ.Equity</th>\n",
       "      <td>0.24617730235525837</td>\n",
       "      <td>0.05425134648046361</td>\n",
       "      <td>0.0422217378258441</td>\n",
       "    </tr>\n",
       "    <tr>\n",
       "      <th>ABR.SJ.Equity</th>\n",
       "      <td>0.1010109731125653</td>\n",
       "      <td>-0.34507237181482997</td>\n",
       "      <td>-0.5898301921449686</td>\n",
       "    </tr>\n",
       "    <tr>\n",
       "      <th>ACL.SJ.Equity</th>\n",
       "      <td>1.0668768540336409</td>\n",
       "      <td>1.5465407429547147</td>\n",
       "      <td>0.5948677602591734</td>\n",
       "    </tr>\n",
       "    <tr>\n",
       "      <th>ACP.SJ.Equity</th>\n",
       "      <td>-0.06303301722658639</td>\n",
       "      <td>-0.10388120490467742</td>\n",
       "      <td>0.1043280940176547</td>\n",
       "    </tr>\n",
       "    <tr>\n",
       "      <th>...</th>\n",
       "      <td>...</td>\n",
       "      <td>...</td>\n",
       "      <td>...</td>\n",
       "    </tr>\n",
       "    <tr>\n",
       "      <th>WTC.SJ.Equity</th>\n",
       "      <td>0.08829694059751701</td>\n",
       "      <td>-0.23470768343869003</td>\n",
       "      <td>-0.1276217050250745</td>\n",
       "    </tr>\n",
       "    <tr>\n",
       "      <th>YRK.SJ.Equity</th>\n",
       "      <td>-0.06685682467539814</td>\n",
       "      <td>-0.07086800152369618</td>\n",
       "      <td>-0.0005126169970859351</td>\n",
       "    </tr>\n",
       "    <tr>\n",
       "      <th>ZPT.SJ.Equity</th>\n",
       "      <td>0.1284458132594861</td>\n",
       "      <td>-0.8697247063803566</td>\n",
       "      <td>-0.668607414250201</td>\n",
       "    </tr>\n",
       "    <tr>\n",
       "      <th>ZRR.SJ.Equity</th>\n",
       "      <td>-0.024711260687379596</td>\n",
       "      <td>1.861073057068256</td>\n",
       "      <td>-1.0941560241410766</td>\n",
       "    </tr>\n",
       "    <tr>\n",
       "      <th>ZSA.SJ.Equity</th>\n",
       "      <td>-0.0345652473513432</td>\n",
       "      <td>-0.10054857135182307</td>\n",
       "      <td>0.01676759067321748</td>\n",
       "    </tr>\n",
       "  </tbody>\n",
       "</table>\n",
       "<p>522 rows × 3 columns</p>\n",
       "</div>"
      ],
      "text/plain": [
       "                              beta_1                beta_2  \\\n",
       "stock                                                        \n",
       "ABC.SJ.Equity    -0.3268531755110442   -0.6124245989848942   \n",
       "ABI.SJ.Equity    0.24617730235525837   0.05425134648046361   \n",
       "ABR.SJ.Equity     0.1010109731125653  -0.34507237181482997   \n",
       "ACL.SJ.Equity     1.0668768540336409    1.5465407429547147   \n",
       "ACP.SJ.Equity   -0.06303301722658639  -0.10388120490467742   \n",
       "...                              ...                   ...   \n",
       "WTC.SJ.Equity    0.08829694059751701  -0.23470768343869003   \n",
       "YRK.SJ.Equity   -0.06685682467539814  -0.07086800152369618   \n",
       "ZPT.SJ.Equity     0.1284458132594861   -0.8697247063803566   \n",
       "ZRR.SJ.Equity  -0.024711260687379596     1.861073057068256   \n",
       "ZSA.SJ.Equity    -0.0345652473513432  -0.10054857135182307   \n",
       "\n",
       "                               beta_3  \n",
       "stock                                  \n",
       "ABC.SJ.Equity      0.5184193635149579  \n",
       "ABI.SJ.Equity      0.0422217378258441  \n",
       "ABR.SJ.Equity     -0.5898301921449686  \n",
       "ACL.SJ.Equity      0.5948677602591734  \n",
       "ACP.SJ.Equity      0.1043280940176547  \n",
       "...                               ...  \n",
       "WTC.SJ.Equity     -0.1276217050250745  \n",
       "YRK.SJ.Equity  -0.0005126169970859351  \n",
       "ZPT.SJ.Equity      -0.668607414250201  \n",
       "ZRR.SJ.Equity     -1.0941560241410766  \n",
       "ZSA.SJ.Equity     0.01676759067321748  \n",
       "\n",
       "[522 rows x 3 columns]"
      ]
     },
     "execution_count": 38,
     "metadata": {},
     "output_type": "execute_result"
    }
   ],
   "source": [
    "all_betas_ev[0]"
   ]
  },
  {
   "cell_type": "code",
   "execution_count": 39,
   "metadata": {},
   "outputs": [
    {
     "name": "stderr",
     "output_type": "stream",
     "text": [
      "100%|██████████| 3969/3969 [00:15<00:00, 258.87it/s]\n"
     ]
    }
   ],
   "source": [
    "all_lambdas = []\n",
    "# i is time in periods\n",
    "\n",
    "df_Ex_SR_tmp_T = df_Ex_SR.iloc[rollingW:rollingW+periods*holding,:].T\n",
    "\n",
    "lambdas = []\n",
    "index_times = list(df_Ex_SR_tmp_T.columns)\n",
    "\n",
    "for k in tqdm(df_Ex_SR_tmp_T.columns):\n",
    "  #k is cross-sectional stock label  \n",
    "    i = int(index_times.index(k) / holding)\n",
    "\n",
    "    df_index = ((all_betas_iv[i].index).intersection(all_betas_ev[i].index)).intersection(df_Ex_SR.loc[k,:].dropna().index)\n",
    "    \n",
    "    if len(df_index) != 0:\n",
    "        iv = IV2SLS(endog = df_Ex_SR_tmp_T.loc[df_index,k].values,exog = sm.add_constant(all_betas_ev[i].loc[df_index,:].values.astype(np.float64)),instrument = sm.add_constant(all_betas_iv[i].loc[df_index,:].values.astype(np.float64)))\n",
    "        res = iv.fit()\n",
    "        l = list(res.params)\n",
    "        lambdas.append(l)\n",
    "        \n",
    "all_lambdas.append(pd.DataFrame(lambdas))"
   ]
  },
  {
   "cell_type": "code",
   "execution_count": 40,
   "metadata": {},
   "outputs": [
    {
     "data": {
      "text/html": [
       "<div>\n",
       "<style scoped>\n",
       "    .dataframe tbody tr th:only-of-type {\n",
       "        vertical-align: middle;\n",
       "    }\n",
       "\n",
       "    .dataframe tbody tr th {\n",
       "        vertical-align: top;\n",
       "    }\n",
       "\n",
       "    .dataframe thead th {\n",
       "        text-align: right;\n",
       "    }\n",
       "</style>\n",
       "<table border=\"1\" class=\"dataframe\">\n",
       "  <thead>\n",
       "    <tr style=\"text-align: right;\">\n",
       "      <th></th>\n",
       "      <th>Intercept</th>\n",
       "      <th>MKT</th>\n",
       "      <th>SMB</th>\n",
       "      <th>HML</th>\n",
       "    </tr>\n",
       "  </thead>\n",
       "  <tbody>\n",
       "    <tr>\n",
       "      <th>0</th>\n",
       "      <td>0.001815</td>\n",
       "      <td>0.003035</td>\n",
       "      <td>-0.008225</td>\n",
       "      <td>-0.016139</td>\n",
       "    </tr>\n",
       "    <tr>\n",
       "      <th>1</th>\n",
       "      <td>0.000483</td>\n",
       "      <td>0.015281</td>\n",
       "      <td>-0.026548</td>\n",
       "      <td>0.119394</td>\n",
       "    </tr>\n",
       "    <tr>\n",
       "      <th>2</th>\n",
       "      <td>-0.005488</td>\n",
       "      <td>0.050964</td>\n",
       "      <td>-0.157700</td>\n",
       "      <td>0.258583</td>\n",
       "    </tr>\n",
       "    <tr>\n",
       "      <th>3</th>\n",
       "      <td>0.004780</td>\n",
       "      <td>-0.034746</td>\n",
       "      <td>0.108313</td>\n",
       "      <td>0.054221</td>\n",
       "    </tr>\n",
       "    <tr>\n",
       "      <th>4</th>\n",
       "      <td>-0.000398</td>\n",
       "      <td>-0.003620</td>\n",
       "      <td>-0.015763</td>\n",
       "      <td>0.067161</td>\n",
       "    </tr>\n",
       "    <tr>\n",
       "      <th>...</th>\n",
       "      <td>...</td>\n",
       "      <td>...</td>\n",
       "      <td>...</td>\n",
       "      <td>...</td>\n",
       "    </tr>\n",
       "    <tr>\n",
       "      <th>3964</th>\n",
       "      <td>-0.001137</td>\n",
       "      <td>0.003157</td>\n",
       "      <td>0.005594</td>\n",
       "      <td>0.007004</td>\n",
       "    </tr>\n",
       "    <tr>\n",
       "      <th>3965</th>\n",
       "      <td>-0.001701</td>\n",
       "      <td>-0.005845</td>\n",
       "      <td>-0.002336</td>\n",
       "      <td>-0.005901</td>\n",
       "    </tr>\n",
       "    <tr>\n",
       "      <th>3966</th>\n",
       "      <td>0.000210</td>\n",
       "      <td>0.007632</td>\n",
       "      <td>0.005109</td>\n",
       "      <td>-0.008238</td>\n",
       "    </tr>\n",
       "    <tr>\n",
       "      <th>3967</th>\n",
       "      <td>-0.000515</td>\n",
       "      <td>-0.008449</td>\n",
       "      <td>-0.001604</td>\n",
       "      <td>0.008289</td>\n",
       "    </tr>\n",
       "    <tr>\n",
       "      <th>3968</th>\n",
       "      <td>-0.000065</td>\n",
       "      <td>0.007751</td>\n",
       "      <td>0.004577</td>\n",
       "      <td>-0.001284</td>\n",
       "    </tr>\n",
       "  </tbody>\n",
       "</table>\n",
       "<p>3959 rows × 4 columns</p>\n",
       "</div>"
      ],
      "text/plain": [
       "      Intercept       MKT       SMB       HML\n",
       "0      0.001815  0.003035 -0.008225 -0.016139\n",
       "1      0.000483  0.015281 -0.026548  0.119394\n",
       "2     -0.005488  0.050964 -0.157700  0.258583\n",
       "3      0.004780 -0.034746  0.108313  0.054221\n",
       "4     -0.000398 -0.003620 -0.015763  0.067161\n",
       "...         ...       ...       ...       ...\n",
       "3964  -0.001137  0.003157  0.005594  0.007004\n",
       "3965  -0.001701 -0.005845 -0.002336 -0.005901\n",
       "3966   0.000210  0.007632  0.005109 -0.008238\n",
       "3967  -0.000515 -0.008449 -0.001604  0.008289\n",
       "3968  -0.000065  0.007751  0.004577 -0.001284\n",
       "\n",
       "[3959 rows x 4 columns]"
      ]
     },
     "execution_count": 40,
     "metadata": {},
     "output_type": "execute_result"
    }
   ],
   "source": [
    "# One of the issues that often arise with IV estimators is that for any finite stock amount N, \n",
    "# there is a very small change that the cross-products of the matrixes of (B_IV ) and (B_EV ) \n",
    "# might be singular, which will cause the parameter estimates too large to be trusted. \n",
    "# To avoid this potential problem in finite samples, the monthly risk premium estimates that deviate \n",
    "# six or more standard deviations of the corresponding factor realizations from their sample average as missing values. \n",
    "# For each column, it first computes the Z-score of each value in the column, relative to the column mean and standard deviation.\n",
    "# It then takes the absolute Z-score because the direction does not matter, only if it is below the threshold.\n",
    "# all(axis=1) ensures that for each row, all column satisfy the constraint.\n",
    "# Finally, the result of this condition is used to index the dataframe.\n",
    "all_lambdas[0] = all_lambdas[0][(np.abs((all_lambdas[0]-all_lambdas[0].mean())/all_lambdas[0].std()) <= 6).all(axis=1)]\n",
    "all_lambdas[0].rename(columns={0:'Intercept',1:'MKT',2:'SMB',3:'HML'})"
   ]
  },
  {
   "cell_type": "code",
   "execution_count": 41,
   "metadata": {},
   "outputs": [
    {
     "name": "stderr",
     "output_type": "stream",
     "text": [
      "/Users/runxinlin/opt/anaconda3/envs/Research_Codes_2021/lib/python3.8/site-packages/numpy/core/fromnumeric.py:3438: FutureWarning: In a future version, DataFrame.mean(axis=None) will return a scalar mean over the entire DataFrame. To retain the old behavior, use 'frame.mean(axis=0)' or just 'frame.mean()'\n",
      "  return mean(axis=axis, dtype=dtype, out=out, **kwargs)\n"
     ]
    },
    {
     "data": {
      "text/plain": [
       "0   -0.230296\n",
       "1   -0.443876\n",
       "2   -4.068414\n",
       "3   -1.191729\n",
       "dtype: float64"
      ]
     },
     "execution_count": 41,
     "metadata": {},
     "output_type": "execute_result"
    }
   ],
   "source": [
    "np.mean(all_lambdas[0])*21*100"
   ]
  },
  {
   "cell_type": "code",
   "execution_count": 42,
   "metadata": {
    "scrolled": false
   },
   "outputs": [
    {
     "data": {
      "text/plain": [
       "array([-2.12808159, -0.5469318 , -1.53500743, -0.40440495])"
      ]
     },
     "execution_count": 42,
     "metadata": {},
     "output_type": "execute_result"
    }
   ],
   "source": [
    "stats.ttest_1samp(all_lambdas[0].dropna(), 0.0)[0]"
   ]
  },
  {
   "cell_type": "code",
   "execution_count": 43,
   "metadata": {},
   "outputs": [
    {
     "data": {
      "text/plain": [
       "array([-1.37001976, -0.34998833, -0.99754777, -0.24744054])"
      ]
     },
     "execution_count": 43,
     "metadata": {},
     "output_type": "execute_result"
    }
   ],
   "source": [
    "all_lambdas[0].dropna().apply(lambda x: NW_ttest(ret = x, h0=0), axis=0).values"
   ]
  },
  {
   "cell_type": "markdown",
   "metadata": {},
   "source": [
    "### Adding firm characteristics as control variables"
   ]
  },
  {
   "cell_type": "code",
   "execution_count": 44,
   "metadata": {},
   "outputs": [],
   "source": [
    "ols_model = LinearRegression()"
   ]
  },
  {
   "cell_type": "code",
   "execution_count": 45,
   "metadata": {},
   "outputs": [],
   "source": [
    "df_FF3 = pd.read_csv('df_FF3.csv')"
   ]
  },
  {
   "cell_type": "code",
   "execution_count": 46,
   "metadata": {},
   "outputs": [],
   "source": [
    "df_FF3.Dates = df_FF3.Dates.apply(lambda x:x[:10])"
   ]
  },
  {
   "cell_type": "code",
   "execution_count": 47,
   "metadata": {},
   "outputs": [],
   "source": [
    "df_FF3.set_index('Dates',inplace=True)"
   ]
  },
  {
   "cell_type": "code",
   "execution_count": 48,
   "metadata": {},
   "outputs": [],
   "source": [
    "df_RF = pd.read_csv('df_RF.csv',index_col=0)\n",
    "df_SR = pd.read_csv('df_SR.csv',index_col=0)\n",
    "df_SR.index = df_SR.index.to_series().apply(lambda x:x[:10])"
   ]
  },
  {
   "cell_type": "code",
   "execution_count": 49,
   "metadata": {},
   "outputs": [],
   "source": [
    "# df_SR = df_SR.replace(0,np.nan)"
   ]
  },
  {
   "cell_type": "code",
   "execution_count": 50,
   "metadata": {},
   "outputs": [],
   "source": [
    "df_Ex_SR = df_SR-df_RF.values"
   ]
  },
  {
   "cell_type": "code",
   "execution_count": 51,
   "metadata": {},
   "outputs": [],
   "source": [
    "df_Ex_SR = df_Ex_SR.loc[df_FF3.index,:]"
   ]
  },
  {
   "cell_type": "code",
   "execution_count": 52,
   "metadata": {},
   "outputs": [],
   "source": [
    "df_ln_Size = pd.read_csv('df_ln_Size.csv')\n",
    "\n",
    "df_PE = pd.read_csv('df_std_PE.csv')\n",
    "\n",
    "df_ln_Size.Dates = df_ln_Size.Dates.apply(lambda x:x[:10])\n",
    "\n",
    "df_ln_Size.set_index('Dates',inplace=True)\n",
    "\n",
    "df_PE.Dates = df_PE.Dates.apply(lambda x:x[:10])\n",
    "\n",
    "df_PE.set_index('Dates',inplace=True)"
   ]
  },
  {
   "cell_type": "code",
   "execution_count": 53,
   "metadata": {},
   "outputs": [],
   "source": [
    "df_ln_Size = df_ln_Size.loc[df_Ex_SR.index,:]"
   ]
  },
  {
   "cell_type": "code",
   "execution_count": 54,
   "metadata": {},
   "outputs": [],
   "source": [
    "df_PE = df_PE.loc[df_Ex_SR.index,:]"
   ]
  },
  {
   "cell_type": "code",
   "execution_count": 55,
   "metadata": {
    "scrolled": true
   },
   "outputs": [
    {
     "data": {
      "text/plain": [
       "True"
      ]
     },
     "execution_count": 55,
     "metadata": {},
     "output_type": "execute_result"
    }
   ],
   "source": [
    "len(df_ln_Size)==len(df_PE)==len(df_Ex_SR)==len(df_FF3)"
   ]
  },
  {
   "cell_type": "code",
   "execution_count": 56,
   "metadata": {},
   "outputs": [],
   "source": [
    "n = 3\n",
    "holding = 21\n",
    "rollingW = holding * n * 12\n",
    "lens = len(df_FF3)\n",
    "periods = int((lens - rollingW) / holding) - 1"
   ]
  },
  {
   "cell_type": "code",
   "execution_count": 57,
   "metadata": {},
   "outputs": [
    {
     "name": "stderr",
     "output_type": "stream",
     "text": [
      "100%|██████████| 3969/3969 [00:25<00:00, 158.10it/s]\n"
     ]
    }
   ],
   "source": [
    "all_lambdas = []\n",
    "\n",
    "df_Ex_SR_tmp_T = df_Ex_SR.iloc[rollingW:rollingW+periods*holding,:].T\n",
    "df_ln_Size_tmp_T = df_ln_Size.iloc[rollingW:rollingW+periods*holding,:].T\n",
    "df_PE_tmp_T = df_PE.iloc[rollingW:rollingW+periods*holding,:].T\n",
    "\n",
    "lambdas = []\n",
    "\n",
    "index_times = list(df_Ex_SR_tmp_T.columns)\n",
    "\n",
    "for k in tqdm(df_Ex_SR_tmp_T.columns):\n",
    "    # k is time t in 3948 days\n",
    "    i = int(index_times.index(k) / holding)\n",
    "    # i is time T in 185 periods\n",
    "    # df_ln_Size_tmp_T.loc[:,k].replace(-np.inf,np.nan), the -inf in ln_Size data dataframe would interrupt the regression\n",
    "    df_index =  (((((all_betas_ev[i].index).intersection(all_betas_iv[i].index)).\\\n",
    "                 intersection(df_ln_Size_tmp_T.loc[:,k].replace(-np.inf,np.nan).dropna().index)).\\\n",
    "                 intersection(df_PE_tmp_T.loc[:,k].dropna().index)).\\\n",
    "                 intersection(df_Ex_SR_tmp_T.loc[:,index_times[index_times.index(k)]].dropna().index))\n",
    "    \n",
    "    if len(df_index) != 0:\n",
    "        iv = IV2SLS(endog = df_Ex_SR_tmp_T.loc[df_index,index_times[index_times.index(k)]].values,\\\n",
    "                    exog = sm.add_constant(pd.concat([all_betas_ev[i].loc[df_index,:],\\\n",
    "                                                      df_ln_Size_tmp_T.loc[df_index,k],\\\n",
    "                                                      df_PE_tmp_T.loc[df_index,k]],axis = 1).values.astype(np.float64)),\\\n",
    "                    instrument = sm.add_constant(pd.concat([all_betas_iv[i].loc[df_index,:],\\\n",
    "                                                           df_ln_Size_tmp_T.loc[df_index,k],\\\n",
    "                                                           df_PE_tmp_T.loc[df_index,k]],axis = 1).values.astype(np.float64)))\n",
    "        res = iv.fit()\n",
    "        l = list(res.params)     \n",
    "        lambdas.append(l)\n",
    "\n",
    "all_lambdas.append(pd.DataFrame(lambdas))"
   ]
  },
  {
   "cell_type": "code",
   "execution_count": 58,
   "metadata": {
    "scrolled": true
   },
   "outputs": [
    {
     "data": {
      "text/html": [
       "<div>\n",
       "<style scoped>\n",
       "    .dataframe tbody tr th:only-of-type {\n",
       "        vertical-align: middle;\n",
       "    }\n",
       "\n",
       "    .dataframe tbody tr th {\n",
       "        vertical-align: top;\n",
       "    }\n",
       "\n",
       "    .dataframe thead th {\n",
       "        text-align: right;\n",
       "    }\n",
       "</style>\n",
       "<table border=\"1\" class=\"dataframe\">\n",
       "  <thead>\n",
       "    <tr style=\"text-align: right;\">\n",
       "      <th></th>\n",
       "      <th>Intercept</th>\n",
       "      <th>MKT</th>\n",
       "      <th>SMB</th>\n",
       "      <th>HML</th>\n",
       "      <th>Size</th>\n",
       "      <th>PE</th>\n",
       "    </tr>\n",
       "  </thead>\n",
       "  <tbody>\n",
       "    <tr>\n",
       "      <th>0</th>\n",
       "      <td>0.019847</td>\n",
       "      <td>0.061514</td>\n",
       "      <td>-0.065955</td>\n",
       "      <td>-0.022792</td>\n",
       "      <td>-0.004659</td>\n",
       "      <td>-0.006877</td>\n",
       "    </tr>\n",
       "    <tr>\n",
       "      <th>1</th>\n",
       "      <td>0.008911</td>\n",
       "      <td>0.015144</td>\n",
       "      <td>0.004663</td>\n",
       "      <td>0.032104</td>\n",
       "      <td>-0.001553</td>\n",
       "      <td>-0.000520</td>\n",
       "    </tr>\n",
       "    <tr>\n",
       "      <th>2</th>\n",
       "      <td>0.053855</td>\n",
       "      <td>0.070376</td>\n",
       "      <td>-0.061480</td>\n",
       "      <td>0.123890</td>\n",
       "      <td>-0.010556</td>\n",
       "      <td>-0.004021</td>\n",
       "    </tr>\n",
       "    <tr>\n",
       "      <th>3</th>\n",
       "      <td>-0.016999</td>\n",
       "      <td>-0.039322</td>\n",
       "      <td>0.040828</td>\n",
       "      <td>-0.024967</td>\n",
       "      <td>0.003740</td>\n",
       "      <td>0.001863</td>\n",
       "    </tr>\n",
       "    <tr>\n",
       "      <th>4</th>\n",
       "      <td>-0.016434</td>\n",
       "      <td>-0.064259</td>\n",
       "      <td>0.043714</td>\n",
       "      <td>0.026512</td>\n",
       "      <td>0.004117</td>\n",
       "      <td>0.005366</td>\n",
       "    </tr>\n",
       "    <tr>\n",
       "      <th>...</th>\n",
       "      <td>...</td>\n",
       "      <td>...</td>\n",
       "      <td>...</td>\n",
       "      <td>...</td>\n",
       "      <td>...</td>\n",
       "      <td>...</td>\n",
       "    </tr>\n",
       "    <tr>\n",
       "      <th>3964</th>\n",
       "      <td>-0.000147</td>\n",
       "      <td>0.007495</td>\n",
       "      <td>0.004358</td>\n",
       "      <td>0.007326</td>\n",
       "      <td>-0.000226</td>\n",
       "      <td>0.000743</td>\n",
       "    </tr>\n",
       "    <tr>\n",
       "      <th>3965</th>\n",
       "      <td>-0.003085</td>\n",
       "      <td>-0.009041</td>\n",
       "      <td>-0.002363</td>\n",
       "      <td>-0.007532</td>\n",
       "      <td>0.000269</td>\n",
       "      <td>0.000465</td>\n",
       "    </tr>\n",
       "    <tr>\n",
       "      <th>3966</th>\n",
       "      <td>0.000450</td>\n",
       "      <td>0.005478</td>\n",
       "      <td>0.004398</td>\n",
       "      <td>-0.007938</td>\n",
       "      <td>0.000064</td>\n",
       "      <td>0.001609</td>\n",
       "    </tr>\n",
       "    <tr>\n",
       "      <th>3967</th>\n",
       "      <td>-0.003340</td>\n",
       "      <td>-0.013284</td>\n",
       "      <td>-0.001377</td>\n",
       "      <td>0.007162</td>\n",
       "      <td>0.000416</td>\n",
       "      <td>-0.000977</td>\n",
       "    </tr>\n",
       "    <tr>\n",
       "      <th>3968</th>\n",
       "      <td>-0.002122</td>\n",
       "      <td>0.003105</td>\n",
       "      <td>0.005539</td>\n",
       "      <td>-0.003350</td>\n",
       "      <td>0.000407</td>\n",
       "      <td>0.001358</td>\n",
       "    </tr>\n",
       "  </tbody>\n",
       "</table>\n",
       "<p>3969 rows × 6 columns</p>\n",
       "</div>"
      ],
      "text/plain": [
       "      Intercept       MKT       SMB       HML      Size        PE\n",
       "0      0.019847  0.061514 -0.065955 -0.022792 -0.004659 -0.006877\n",
       "1      0.008911  0.015144  0.004663  0.032104 -0.001553 -0.000520\n",
       "2      0.053855  0.070376 -0.061480  0.123890 -0.010556 -0.004021\n",
       "3     -0.016999 -0.039322  0.040828 -0.024967  0.003740  0.001863\n",
       "4     -0.016434 -0.064259  0.043714  0.026512  0.004117  0.005366\n",
       "...         ...       ...       ...       ...       ...       ...\n",
       "3964  -0.000147  0.007495  0.004358  0.007326 -0.000226  0.000743\n",
       "3965  -0.003085 -0.009041 -0.002363 -0.007532  0.000269  0.000465\n",
       "3966   0.000450  0.005478  0.004398 -0.007938  0.000064  0.001609\n",
       "3967  -0.003340 -0.013284 -0.001377  0.007162  0.000416 -0.000977\n",
       "3968  -0.002122  0.003105  0.005539 -0.003350  0.000407  0.001358\n",
       "\n",
       "[3969 rows x 6 columns]"
      ]
     },
     "execution_count": 58,
     "metadata": {},
     "output_type": "execute_result"
    }
   ],
   "source": [
    "all_lambdas[0].rename(columns={0:'Intercept',1:'MKT',2:'SMB',3:'HML',4:'Size',5:'PE'})"
   ]
  },
  {
   "cell_type": "code",
   "execution_count": 59,
   "metadata": {},
   "outputs": [
    {
     "name": "stderr",
     "output_type": "stream",
     "text": [
      "/Users/runxinlin/opt/anaconda3/envs/Research_Codes_2021/lib/python3.8/site-packages/numpy/core/fromnumeric.py:3438: FutureWarning: In a future version, DataFrame.mean(axis=None) will return a scalar mean over the entire DataFrame. To retain the old behavior, use 'frame.mean(axis=0)' or just 'frame.mean()'\n",
      "  return mean(axis=axis, dtype=dtype, out=out, **kwargs)\n"
     ]
    },
    {
     "data": {
      "text/plain": [
       "0   -0.752861\n",
       "1   -0.900076\n",
       "2   -0.019621\n",
       "3   -0.362426\n",
       "4    0.099754\n",
       "5    0.972124\n",
       "dtype: float64"
      ]
     },
     "execution_count": 59,
     "metadata": {},
     "output_type": "execute_result"
    }
   ],
   "source": [
    "np.mean(all_lambdas[0].dropna())*21*100"
   ]
  },
  {
   "cell_type": "code",
   "execution_count": 60,
   "metadata": {
    "scrolled": true
   },
   "outputs": [
    {
     "data": {
      "text/plain": [
       "Ttest_1sampResult(statistic=array([-2.97595833, -1.28929888, -0.03503747, -0.44421432,  2.04290027,\n",
       "       13.45099292]), pvalue=array([2.93837380e-03, 1.97369348e-01, 9.72051624e-01, 6.56911867e-01,\n",
       "       4.11282509e-02, 2.29922023e-40]))"
      ]
     },
     "execution_count": 60,
     "metadata": {},
     "output_type": "execute_result"
    }
   ],
   "source": [
    "stats.ttest_1samp(all_lambdas[0].dropna(), 0.0)"
   ]
  },
  {
   "cell_type": "code",
   "execution_count": 61,
   "metadata": {
    "scrolled": true
   },
   "outputs": [
    {
     "data": {
      "text/plain": [
       "array([-1.93242562, -0.80032237, -0.02269382, -0.292432  ,  1.32293421,\n",
       "        8.55800316])"
      ]
     },
     "execution_count": 61,
     "metadata": {},
     "output_type": "execute_result"
    }
   ],
   "source": [
    "all_lambdas[0].dropna().apply(lambda x: NW_ttest(ret = x, h0=0), axis=0).values"
   ]
  },
  {
   "cell_type": "markdown",
   "metadata": {},
   "source": [
    "## Carhart4-Factor_IV"
   ]
  },
  {
   "cell_type": "code",
   "execution_count": 62,
   "metadata": {},
   "outputs": [],
   "source": [
    "ols_model = LinearRegression()"
   ]
  },
  {
   "cell_type": "code",
   "execution_count": 63,
   "metadata": {},
   "outputs": [],
   "source": [
    "df_FF4 = pd.read_csv('df_FF4.csv')"
   ]
  },
  {
   "cell_type": "code",
   "execution_count": 64,
   "metadata": {},
   "outputs": [],
   "source": [
    "df_FF4.Dates = df_FF4.Dates.apply(lambda x:x[:10])"
   ]
  },
  {
   "cell_type": "code",
   "execution_count": 65,
   "metadata": {},
   "outputs": [],
   "source": [
    "df_FF4.set_index('Dates',inplace=True)"
   ]
  },
  {
   "cell_type": "code",
   "execution_count": 66,
   "metadata": {},
   "outputs": [],
   "source": [
    "df_RF = pd.read_csv('df_RF.csv',index_col=0)\n",
    "df_SR = pd.read_csv('df_SR.csv',index_col=0)\n",
    "df_SR.index = df_SR.index.to_series().apply(lambda x:x[:10])"
   ]
  },
  {
   "cell_type": "code",
   "execution_count": 67,
   "metadata": {},
   "outputs": [],
   "source": [
    "df_Ex_SR = df_SR-df_RF.values"
   ]
  },
  {
   "cell_type": "code",
   "execution_count": 68,
   "metadata": {},
   "outputs": [],
   "source": [
    "df_Ex_SR = df_Ex_SR.loc[df_FF4.index,:]"
   ]
  },
  {
   "cell_type": "code",
   "execution_count": 69,
   "metadata": {},
   "outputs": [],
   "source": [
    "n = 3\n",
    "holding = 21\n",
    "rollingW = holding * n *12\n",
    "lens = len(df_FF4)\n",
    "periods = int((lens - rollingW) / holding) - 1"
   ]
  },
  {
   "cell_type": "code",
   "execution_count": 70,
   "metadata": {},
   "outputs": [
    {
     "data": {
      "text/plain": [
       "189"
      ]
     },
     "execution_count": 70,
     "metadata": {},
     "output_type": "execute_result"
    }
   ],
   "source": [
    "periods"
   ]
  },
  {
   "cell_type": "code",
   "execution_count": 71,
   "metadata": {},
   "outputs": [
    {
     "name": "stderr",
     "output_type": "stream",
     "text": [
      "100%|██████████| 189/189 [04:36<00:00,  1.47s/it]\n"
     ]
    }
   ],
   "source": [
    "all_betas_ev = []\n",
    "all_betas_iv = []\n",
    "\n",
    "# i is time\n",
    "for i in tqdm(range(periods)):\n",
    "\n",
    "    df_FF4_tmp = df_FF4.iloc[i*holding:i*holding+rollingW,:]\n",
    "    df_Ex_SR_tmp = df_Ex_SR.iloc[i*holding:i*holding+rollingW,:]\n",
    "    \n",
    "\n",
    "    if (i + 1) % 2 == 1:\n",
    "        rw_odd = pd.DataFrame()\n",
    "        for k in range(0,n*12,2):\n",
    "            rw_odd = pd.concat([rw_odd,df_FF4_tmp.iloc[21*k:21*(k+1),:]])\n",
    "\n",
    "        betas_ev = []\n",
    "        # j is stock\n",
    "        for j in df_Ex_SR.columns:\n",
    "            df_index = df_Ex_SR_tmp.loc[rw_odd.index,j].dropna().index\n",
    "            \n",
    "            if len(df_index) != 0:\n",
    "                b = list(ols_model.fit(df_FF4_tmp.loc[df_index,:].values, df_Ex_SR_tmp.loc[df_index,j].values).coef_)\n",
    "                b.append(j)\n",
    "                betas_ev.append(b)\n",
    "        df_betas_ev = pd.DataFrame(np.array(betas_ev)).rename(columns={0:'beta_1',1:'beta_2',2:'beta_3',3:'beta_4',4:'stock'}).set_index('stock')\n",
    "        all_betas_ev.append(df_betas_ev)\n",
    "\n",
    "\n",
    "        rw_even = pd.DataFrame()   \n",
    "        for k in range(1,n*12,2):\n",
    "            rw_even = pd.concat([rw_even,df_FF4_tmp.iloc[21*k:21*(k+1),:]])\n",
    "        \n",
    "        betas_iv = []\n",
    "        # j is stock\n",
    "        for j in df_Ex_SR.columns:\n",
    "            df_index = df_Ex_SR_tmp.loc[rw_even.index,j].dropna().index\n",
    "            \n",
    "            if len(df_index) != 0:\n",
    "                b = list(ols_model.fit(df_FF4_tmp.loc[df_index,:].values, df_Ex_SR_tmp.loc[df_index,j].values).coef_)\n",
    "                b.append(j)\n",
    "                betas_iv.append(b)\n",
    "        df_betas_iv = pd.DataFrame(np.array(betas_iv)).rename(columns={0:'beta_1',1:'beta_2',2:'beta_3',3:'beta_4',4:'stock'}).set_index('stock')\n",
    "        all_betas_iv.append(df_betas_iv)\n",
    "\n",
    "\n",
    "    if (i + 1) % 2 == 0:\n",
    "        rw_odd = pd.DataFrame()\n",
    "        for k in range(0,n*12,2):\n",
    "            rw_odd = pd.concat([rw_odd,df_FF4_tmp.iloc[21*k:21*(k+1),:]])\n",
    "\n",
    "        betas_iv = []\n",
    "        # j is stock\n",
    "        for j in df_Ex_SR.columns:\n",
    "            df_index = df_Ex_SR_tmp.loc[rw_odd.index,j].dropna().index\n",
    "            \n",
    "            if len(df_index) != 0:\n",
    "                b = list(ols_model.fit(df_FF4_tmp.loc[df_index,:].values, df_Ex_SR_tmp.loc[df_index,j].values).coef_)\n",
    "                b.append(j)\n",
    "                betas_iv.append(b)\n",
    "        df_betas_iv = pd.DataFrame(np.array(betas_iv)).rename(columns={0:'beta_1',1:'beta_2',2:'beta_3',3:'beta_4',4:'stock'}).set_index('stock')\n",
    "        all_betas_iv.append(df_betas_iv)\n",
    "        \n",
    "\n",
    "        rw_even = pd.DataFrame()   \n",
    "        for k in range(1,n*12,2):\n",
    "            rw_even = pd.concat([rw_even,df_FF4_tmp.iloc[21*k:21*(k+1),:]])\n",
    "\n",
    "        betas_ev = []\n",
    "        # j is stock\n",
    "        for j in df_Ex_SR.columns:\n",
    "            df_index = df_Ex_SR_tmp.loc[rw_even.index,j].dropna().index\n",
    "            \n",
    "            if len(df_index) != 0:\n",
    "                b = list(ols_model.fit(df_FF4_tmp.loc[df_index,:].values, df_Ex_SR_tmp.loc[df_index,j].values).coef_)\n",
    "                b.append(j)\n",
    "                betas_ev.append(b)\n",
    "        df_betas_ev = pd.DataFrame(np.array(betas_ev)).rename(columns={0:'beta_1',1:'beta_2',2:'beta_3',3:'beta_4',4:'stock'}).set_index('stock')\n",
    "        all_betas_ev.append(df_betas_ev)\n",
    "\n"
   ]
  },
  {
   "cell_type": "code",
   "execution_count": 72,
   "metadata": {
    "scrolled": true
   },
   "outputs": [
    {
     "data": {
      "text/html": [
       "<div>\n",
       "<style scoped>\n",
       "    .dataframe tbody tr th:only-of-type {\n",
       "        vertical-align: middle;\n",
       "    }\n",
       "\n",
       "    .dataframe tbody tr th {\n",
       "        vertical-align: top;\n",
       "    }\n",
       "\n",
       "    .dataframe thead th {\n",
       "        text-align: right;\n",
       "    }\n",
       "</style>\n",
       "<table border=\"1\" class=\"dataframe\">\n",
       "  <thead>\n",
       "    <tr style=\"text-align: right;\">\n",
       "      <th></th>\n",
       "      <th>beta_1</th>\n",
       "      <th>beta_2</th>\n",
       "      <th>beta_3</th>\n",
       "      <th>beta_4</th>\n",
       "    </tr>\n",
       "    <tr>\n",
       "      <th>stock</th>\n",
       "      <th></th>\n",
       "      <th></th>\n",
       "      <th></th>\n",
       "      <th></th>\n",
       "    </tr>\n",
       "  </thead>\n",
       "  <tbody>\n",
       "    <tr>\n",
       "      <th>ABC.SJ.Equity</th>\n",
       "      <td>0.0656845569626169</td>\n",
       "      <td>-0.8699058368890427</td>\n",
       "      <td>1.22047780623036</td>\n",
       "      <td>0.11164566633025275</td>\n",
       "    </tr>\n",
       "    <tr>\n",
       "      <th>ABI.SJ.Equity</th>\n",
       "      <td>0.26707948127248565</td>\n",
       "      <td>-0.07241045551827295</td>\n",
       "      <td>-0.06176587041601211</td>\n",
       "      <td>-0.06614527486980788</td>\n",
       "    </tr>\n",
       "    <tr>\n",
       "      <th>ABR.SJ.Equity</th>\n",
       "      <td>-0.4795801044035704</td>\n",
       "      <td>1.9057894646316478</td>\n",
       "      <td>-0.15162748653778113</td>\n",
       "      <td>0.5509700968751177</td>\n",
       "    </tr>\n",
       "    <tr>\n",
       "      <th>ACL.SJ.Equity</th>\n",
       "      <td>0.7706463652726757</td>\n",
       "      <td>1.1732282918786088</td>\n",
       "      <td>-0.6077852702344433</td>\n",
       "      <td>-0.3580881554110593</td>\n",
       "    </tr>\n",
       "    <tr>\n",
       "      <th>ACP.SJ.Equity</th>\n",
       "      <td>-0.016920386656687835</td>\n",
       "      <td>-0.01049026612220319</td>\n",
       "      <td>0.19099885306394182</td>\n",
       "      <td>-0.012355055461858083</td>\n",
       "    </tr>\n",
       "    <tr>\n",
       "      <th>...</th>\n",
       "      <td>...</td>\n",
       "      <td>...</td>\n",
       "      <td>...</td>\n",
       "      <td>...</td>\n",
       "    </tr>\n",
       "    <tr>\n",
       "      <th>WTC.SJ.Equity</th>\n",
       "      <td>0.054390082964423464</td>\n",
       "      <td>-0.055516906448164205</td>\n",
       "      <td>-0.341291631075831</td>\n",
       "      <td>0.1364131330049344</td>\n",
       "    </tr>\n",
       "    <tr>\n",
       "      <th>YRK.SJ.Equity</th>\n",
       "      <td>-0.06899731520465617</td>\n",
       "      <td>-0.1317826150230018</td>\n",
       "      <td>0.1757901993569013</td>\n",
       "      <td>0.11825865851026425</td>\n",
       "    </tr>\n",
       "    <tr>\n",
       "      <th>ZPT.SJ.Equity</th>\n",
       "      <td>0.04773796186747457</td>\n",
       "      <td>-1.0492644000104407</td>\n",
       "      <td>-0.08757487010402643</td>\n",
       "      <td>0.5184032714137832</td>\n",
       "    </tr>\n",
       "    <tr>\n",
       "      <th>ZRR.SJ.Equity</th>\n",
       "      <td>0.3234916219347627</td>\n",
       "      <td>0.701062183911547</td>\n",
       "      <td>0.03077876038596028</td>\n",
       "      <td>-0.11212116151580748</td>\n",
       "    </tr>\n",
       "    <tr>\n",
       "      <th>ZSA.SJ.Equity</th>\n",
       "      <td>0.012526110058636549</td>\n",
       "      <td>0.22372929632583677</td>\n",
       "      <td>-0.08379362575357813</td>\n",
       "      <td>-0.0802700617308175</td>\n",
       "    </tr>\n",
       "  </tbody>\n",
       "</table>\n",
       "<p>523 rows × 4 columns</p>\n",
       "</div>"
      ],
      "text/plain": [
       "                              beta_1                 beta_2  \\\n",
       "stock                                                         \n",
       "ABC.SJ.Equity     0.0656845569626169    -0.8699058368890427   \n",
       "ABI.SJ.Equity    0.26707948127248565   -0.07241045551827295   \n",
       "ABR.SJ.Equity    -0.4795801044035704     1.9057894646316478   \n",
       "ACL.SJ.Equity     0.7706463652726757     1.1732282918786088   \n",
       "ACP.SJ.Equity  -0.016920386656687835   -0.01049026612220319   \n",
       "...                              ...                    ...   \n",
       "WTC.SJ.Equity   0.054390082964423464  -0.055516906448164205   \n",
       "YRK.SJ.Equity   -0.06899731520465617    -0.1317826150230018   \n",
       "ZPT.SJ.Equity    0.04773796186747457    -1.0492644000104407   \n",
       "ZRR.SJ.Equity     0.3234916219347627      0.701062183911547   \n",
       "ZSA.SJ.Equity   0.012526110058636549    0.22372929632583677   \n",
       "\n",
       "                             beta_3                 beta_4  \n",
       "stock                                                       \n",
       "ABC.SJ.Equity      1.22047780623036    0.11164566633025275  \n",
       "ABI.SJ.Equity  -0.06176587041601211   -0.06614527486980788  \n",
       "ABR.SJ.Equity  -0.15162748653778113     0.5509700968751177  \n",
       "ACL.SJ.Equity   -0.6077852702344433    -0.3580881554110593  \n",
       "ACP.SJ.Equity   0.19099885306394182  -0.012355055461858083  \n",
       "...                             ...                    ...  \n",
       "WTC.SJ.Equity    -0.341291631075831     0.1364131330049344  \n",
       "YRK.SJ.Equity    0.1757901993569013    0.11825865851026425  \n",
       "ZPT.SJ.Equity  -0.08757487010402643     0.5184032714137832  \n",
       "ZRR.SJ.Equity   0.03077876038596028   -0.11212116151580748  \n",
       "ZSA.SJ.Equity  -0.08379362575357813    -0.0802700617308175  \n",
       "\n",
       "[523 rows x 4 columns]"
      ]
     },
     "execution_count": 72,
     "metadata": {},
     "output_type": "execute_result"
    }
   ],
   "source": [
    "all_betas_iv[0]"
   ]
  },
  {
   "cell_type": "code",
   "execution_count": 73,
   "metadata": {},
   "outputs": [
    {
     "name": "stderr",
     "output_type": "stream",
     "text": [
      "100%|██████████| 3969/3969 [00:15<00:00, 251.53it/s]\n"
     ]
    }
   ],
   "source": [
    "all_lambdas = []\n",
    "# i is time\n",
    "\n",
    "df_Ex_SR_tmp_T = df_Ex_SR.iloc[rollingW:rollingW+periods*holding,:].T\n",
    "\n",
    "lambdas = []\n",
    "index_times = list(df_Ex_SR_tmp_T.columns)\n",
    "\n",
    "for k in tqdm(df_Ex_SR_tmp_T.columns):\n",
    "    \n",
    "    i = int(index_times.index(k) / holding)\n",
    "\n",
    "    df_index = ((all_betas_iv[i].index).intersection(all_betas_ev[i].index)).intersection(df_Ex_SR.loc[k,:].dropna().index)\n",
    "    \n",
    "    if len(df_index) != 0:\n",
    "        \n",
    "        iv = IV2SLS(endog = df_Ex_SR_tmp_T.loc[df_index,k].values,exog = sm.add_constant(all_betas_ev[i].loc[df_index,:].values.astype(np.float64)),instrument = sm.add_constant(all_betas_iv[i].loc[df_index,:].values.astype(np.float64)))\n",
    "        res = iv.fit()\n",
    "        l = list(res.params)\n",
    "        lambdas.append(l)\n",
    "        \n",
    "all_lambdas.append(pd.DataFrame(lambdas))"
   ]
  },
  {
   "cell_type": "code",
   "execution_count": 74,
   "metadata": {
    "scrolled": true
   },
   "outputs": [
    {
     "data": {
      "text/html": [
       "<div>\n",
       "<style scoped>\n",
       "    .dataframe tbody tr th:only-of-type {\n",
       "        vertical-align: middle;\n",
       "    }\n",
       "\n",
       "    .dataframe tbody tr th {\n",
       "        vertical-align: top;\n",
       "    }\n",
       "\n",
       "    .dataframe thead th {\n",
       "        text-align: right;\n",
       "    }\n",
       "</style>\n",
       "<table border=\"1\" class=\"dataframe\">\n",
       "  <thead>\n",
       "    <tr style=\"text-align: right;\">\n",
       "      <th></th>\n",
       "      <th>Intercept</th>\n",
       "      <th>MKT</th>\n",
       "      <th>SMB</th>\n",
       "      <th>HML</th>\n",
       "      <th>WML</th>\n",
       "    </tr>\n",
       "  </thead>\n",
       "  <tbody>\n",
       "    <tr>\n",
       "      <th>0</th>\n",
       "      <td>0.001769</td>\n",
       "      <td>0.004210</td>\n",
       "      <td>-0.007220</td>\n",
       "      <td>-0.010617</td>\n",
       "      <td>0.006389</td>\n",
       "    </tr>\n",
       "    <tr>\n",
       "      <th>1</th>\n",
       "      <td>0.001086</td>\n",
       "      <td>0.011596</td>\n",
       "      <td>-0.016017</td>\n",
       "      <td>0.125695</td>\n",
       "      <td>-0.009031</td>\n",
       "    </tr>\n",
       "    <tr>\n",
       "      <th>2</th>\n",
       "      <td>-0.004272</td>\n",
       "      <td>0.032881</td>\n",
       "      <td>-0.152278</td>\n",
       "      <td>0.227423</td>\n",
       "      <td>-0.101148</td>\n",
       "    </tr>\n",
       "    <tr>\n",
       "      <th>3</th>\n",
       "      <td>0.005374</td>\n",
       "      <td>-0.035881</td>\n",
       "      <td>0.127116</td>\n",
       "      <td>0.080037</td>\n",
       "      <td>0.016442</td>\n",
       "    </tr>\n",
       "    <tr>\n",
       "      <th>4</th>\n",
       "      <td>0.000040</td>\n",
       "      <td>-0.003897</td>\n",
       "      <td>-0.004719</td>\n",
       "      <td>0.084834</td>\n",
       "      <td>0.009408</td>\n",
       "    </tr>\n",
       "    <tr>\n",
       "      <th>...</th>\n",
       "      <td>...</td>\n",
       "      <td>...</td>\n",
       "      <td>...</td>\n",
       "      <td>...</td>\n",
       "      <td>...</td>\n",
       "    </tr>\n",
       "    <tr>\n",
       "      <th>3964</th>\n",
       "      <td>-0.001524</td>\n",
       "      <td>-0.000176</td>\n",
       "      <td>0.006805</td>\n",
       "      <td>0.005394</td>\n",
       "      <td>-0.032816</td>\n",
       "    </tr>\n",
       "    <tr>\n",
       "      <th>3965</th>\n",
       "      <td>-0.001723</td>\n",
       "      <td>-0.005855</td>\n",
       "      <td>-0.002345</td>\n",
       "      <td>-0.005938</td>\n",
       "      <td>-0.002446</td>\n",
       "    </tr>\n",
       "    <tr>\n",
       "      <th>3966</th>\n",
       "      <td>0.000485</td>\n",
       "      <td>0.008426</td>\n",
       "      <td>0.004559</td>\n",
       "      <td>-0.009585</td>\n",
       "      <td>0.010196</td>\n",
       "    </tr>\n",
       "    <tr>\n",
       "      <th>3967</th>\n",
       "      <td>-0.000599</td>\n",
       "      <td>-0.008249</td>\n",
       "      <td>-0.001527</td>\n",
       "      <td>0.009448</td>\n",
       "      <td>0.001439</td>\n",
       "    </tr>\n",
       "    <tr>\n",
       "      <th>3968</th>\n",
       "      <td>-0.000073</td>\n",
       "      <td>0.008357</td>\n",
       "      <td>0.004493</td>\n",
       "      <td>-0.000339</td>\n",
       "      <td>0.003747</td>\n",
       "    </tr>\n",
       "  </tbody>\n",
       "</table>\n",
       "<p>3969 rows × 5 columns</p>\n",
       "</div>"
      ],
      "text/plain": [
       "      Intercept       MKT       SMB       HML       WML\n",
       "0      0.001769  0.004210 -0.007220 -0.010617  0.006389\n",
       "1      0.001086  0.011596 -0.016017  0.125695 -0.009031\n",
       "2     -0.004272  0.032881 -0.152278  0.227423 -0.101148\n",
       "3      0.005374 -0.035881  0.127116  0.080037  0.016442\n",
       "4      0.000040 -0.003897 -0.004719  0.084834  0.009408\n",
       "...         ...       ...       ...       ...       ...\n",
       "3964  -0.001524 -0.000176  0.006805  0.005394 -0.032816\n",
       "3965  -0.001723 -0.005855 -0.002345 -0.005938 -0.002446\n",
       "3966   0.000485  0.008426  0.004559 -0.009585  0.010196\n",
       "3967  -0.000599 -0.008249 -0.001527  0.009448  0.001439\n",
       "3968  -0.000073  0.008357  0.004493 -0.000339  0.003747\n",
       "\n",
       "[3969 rows x 5 columns]"
      ]
     },
     "execution_count": 74,
     "metadata": {},
     "output_type": "execute_result"
    }
   ],
   "source": [
    "# all_lambdas[0] = all_lambdas[0][(np.abs((all_lambdas[0]-all_lambdas[0].mean())/all_lambdas[0].std()) <= 6).all(axis=1)]\n",
    "all_lambdas[0].rename(columns={0:'Intercept',1:'MKT',2:'SMB',3:'HML',4:'WML'})"
   ]
  },
  {
   "cell_type": "code",
   "execution_count": 75,
   "metadata": {},
   "outputs": [
    {
     "name": "stderr",
     "output_type": "stream",
     "text": [
      "/Users/runxinlin/opt/anaconda3/envs/Research_Codes_2021/lib/python3.8/site-packages/numpy/core/fromnumeric.py:3438: FutureWarning: In a future version, DataFrame.mean(axis=None) will return a scalar mean over the entire DataFrame. To retain the old behavior, use 'frame.mean(axis=0)' or just 'frame.mean()'\n",
      "  return mean(axis=axis, dtype=dtype, out=out, **kwargs)\n"
     ]
    },
    {
     "data": {
      "text/plain": [
       "0    0.000180\n",
       "1   -0.000603\n",
       "2   -0.003755\n",
       "3    0.008917\n",
       "4    0.001380\n",
       "dtype: float64"
      ]
     },
     "execution_count": 75,
     "metadata": {},
     "output_type": "execute_result"
    }
   ],
   "source": [
    "np.mean(all_lambdas[0].dropna())"
   ]
  },
  {
   "cell_type": "code",
   "execution_count": 76,
   "metadata": {
    "scrolled": false
   },
   "outputs": [
    {
     "data": {
      "text/plain": [
       "Ttest_1sampResult(statistic=array([ 0.67349064, -0.80701114, -0.89357476,  1.4262298 ,  0.75484449]), pvalue=array([0.50067443, 0.41970843, 0.37160364, 0.15388069, 0.45038709]))"
      ]
     },
     "execution_count": 76,
     "metadata": {},
     "output_type": "execute_result"
    }
   ],
   "source": [
    "stats.ttest_1samp(all_lambdas[0].dropna(), 0.0)"
   ]
  },
  {
   "cell_type": "code",
   "execution_count": 77,
   "metadata": {
    "scrolled": true
   },
   "outputs": [
    {
     "data": {
      "text/plain": [
       "array([ 0.40553951, -0.50745667, -0.54277449,  0.85025391,  0.4644976 ])"
      ]
     },
     "execution_count": 77,
     "metadata": {},
     "output_type": "execute_result"
    }
   ],
   "source": [
    "## New-West Adjustment \n",
    "all_lambdas[0].dropna().apply(lambda x: NW_ttest(ret = x, h0=0), axis=0).values"
   ]
  },
  {
   "cell_type": "markdown",
   "metadata": {},
   "source": [
    "## FF5-Factor_IV"
   ]
  },
  {
   "cell_type": "code",
   "execution_count": 78,
   "metadata": {},
   "outputs": [],
   "source": [
    "ols_model = LinearRegression()"
   ]
  },
  {
   "cell_type": "code",
   "execution_count": 79,
   "metadata": {},
   "outputs": [],
   "source": [
    "df_FF5 = pd.read_csv('df_FF5.csv')"
   ]
  },
  {
   "cell_type": "code",
   "execution_count": 80,
   "metadata": {},
   "outputs": [],
   "source": [
    "df_FF5.Dates = df_FF5.Dates.apply(lambda x:x[:10])"
   ]
  },
  {
   "cell_type": "code",
   "execution_count": 81,
   "metadata": {},
   "outputs": [],
   "source": [
    "df_FF5.set_index('Dates',inplace=True)"
   ]
  },
  {
   "cell_type": "code",
   "execution_count": 82,
   "metadata": {},
   "outputs": [],
   "source": [
    "df_RF = pd.read_csv('df_RF.csv',index_col=0)\n",
    "df_SR = pd.read_csv('df_SR.csv',index_col=0)\n",
    "df_SR.index = df_SR.index.to_series().apply(lambda x:x[:10])"
   ]
  },
  {
   "cell_type": "code",
   "execution_count": 83,
   "metadata": {},
   "outputs": [],
   "source": [
    "df_Ex_SR = df_SR-df_RF.values"
   ]
  },
  {
   "cell_type": "code",
   "execution_count": 84,
   "metadata": {},
   "outputs": [],
   "source": [
    "df_Ex_SR = df_Ex_SR.loc[df_FF5.index,:]"
   ]
  },
  {
   "cell_type": "code",
   "execution_count": 85,
   "metadata": {},
   "outputs": [],
   "source": [
    "n = 5\n",
    "holding = 21\n",
    "rollingW = holding * n *12\n",
    "lens = len(df_FF5)\n",
    "periods = int((lens - rollingW) / holding) - 1"
   ]
  },
  {
   "cell_type": "code",
   "execution_count": 86,
   "metadata": {},
   "outputs": [
    {
     "data": {
      "text/plain": [
       "165"
      ]
     },
     "execution_count": 86,
     "metadata": {},
     "output_type": "execute_result"
    }
   ],
   "source": [
    "periods"
   ]
  },
  {
   "cell_type": "code",
   "execution_count": 87,
   "metadata": {},
   "outputs": [
    {
     "name": "stderr",
     "output_type": "stream",
     "text": [
      "100%|██████████| 165/165 [04:53<00:00,  1.78s/it]\n"
     ]
    }
   ],
   "source": [
    "all_betas_ev = []\n",
    "all_betas_iv = []\n",
    "\n",
    "# i is time\n",
    "for i in tqdm(range(periods)):\n",
    "\n",
    "    df_FF5_tmp = df_FF5.iloc[i*holding:i*holding+rollingW,:]\n",
    "    df_Ex_SR_tmp = df_Ex_SR.iloc[i*holding:i*holding+rollingW,:]\n",
    "    \n",
    "\n",
    "    if (i + 1) % 2 == 1:\n",
    "        rw_odd = pd.DataFrame()\n",
    "        for k in range(0,n*12,2):\n",
    "            rw_odd = pd.concat([rw_odd,df_FF5_tmp.iloc[21*k:21*(k+1),:]])\n",
    "\n",
    "        betas_ev = []\n",
    "        # j is stock\n",
    "        for j in df_Ex_SR.columns:\n",
    "            df_index = df_Ex_SR_tmp.loc[rw_odd.index,j].dropna().index\n",
    "            \n",
    "            if len(df_index) != 0:\n",
    "                b = list(ols_model.fit(df_FF5_tmp.loc[df_index,:].values, df_Ex_SR_tmp.loc[df_index,j].values).coef_)\n",
    "                b.append(j)\n",
    "                betas_ev.append(b)\n",
    "        df_betas_ev = pd.DataFrame(np.array(betas_ev)).rename(columns={0:'beta_1',1:'beta_2',2:'beta_3',3:'beta_4',4:'beta_5',5:'stock'}).set_index('stock')\n",
    "        all_betas_ev.append(df_betas_ev)\n",
    "\n",
    "\n",
    "        rw_even = pd.DataFrame()   \n",
    "        for k in range(1,n*12,2):\n",
    "            rw_even = pd.concat([rw_even,df_FF5_tmp.iloc[21*k:21*(k+1),:]])\n",
    "        \n",
    "        betas_iv = []\n",
    "        # j is stock\n",
    "        for j in df_Ex_SR.columns:\n",
    "            df_index = df_Ex_SR_tmp.loc[rw_even.index,j].dropna().index\n",
    "            \n",
    "            if len(df_index) != 0:\n",
    "                b = list(ols_model.fit(df_FF5_tmp.loc[df_index,:].values, df_Ex_SR_tmp.loc[df_index,j].values).coef_)\n",
    "                b.append(j)\n",
    "                betas_iv.append(b)\n",
    "        df_betas_iv = pd.DataFrame(np.array(betas_iv)).rename(columns={0:'beta_1',1:'beta_2',2:'beta_3',3:'beta_4',4:'beta_5',5:'stock'}).set_index('stock')\n",
    "        all_betas_iv.append(df_betas_iv)\n",
    "\n",
    "\n",
    "    if (i + 1) % 2 == 0:\n",
    "        rw_odd = pd.DataFrame()\n",
    "        for k in range(0,n*12,2):\n",
    "            rw_odd = pd.concat([rw_odd,df_FF5_tmp.iloc[21*k:21*(k+1),:]])\n",
    "\n",
    "        betas_iv = []\n",
    "        # j is stock\n",
    "        for j in df_Ex_SR.columns:\n",
    "            df_index = df_Ex_SR_tmp.loc[rw_odd.index,j].dropna().index\n",
    "            \n",
    "            if len(df_index) != 0:\n",
    "                b = list(ols_model.fit(df_FF5_tmp.loc[df_index,:].values, df_Ex_SR_tmp.loc[df_index,j].values).coef_)\n",
    "                b.append(j)\n",
    "                betas_iv.append(b)\n",
    "        df_betas_iv = pd.DataFrame(np.array(betas_iv)).rename(columns={0:'beta_1',1:'beta_2',2:'beta_3',3:'beta_4',4:'beta_5',5:'stock'}).set_index('stock')\n",
    "        all_betas_iv.append(df_betas_iv)\n",
    "        \n",
    "\n",
    "        rw_even = pd.DataFrame()   \n",
    "        for k in range(1,n*12,2):\n",
    "            rw_even = pd.concat([rw_even,df_FF5_tmp.iloc[21*k:21*(k+1),:]])\n",
    "\n",
    "        betas_ev = []\n",
    "        # j is stock\n",
    "        for j in df_Ex_SR.columns:\n",
    "            df_index = df_Ex_SR_tmp.loc[rw_even.index,j].dropna().index\n",
    "            \n",
    "            if len(df_index) != 0:\n",
    "                b = list(ols_model.fit(df_FF5_tmp.loc[df_index,:].values, df_Ex_SR_tmp.loc[df_index,j].values).coef_)\n",
    "                b.append(j)\n",
    "                betas_ev.append(b)\n",
    "        df_betas_ev = pd.DataFrame(np.array(betas_ev)).rename(columns={0:'beta_1',1:'beta_2',2:'beta_3',3:'beta_4',4:'beta_5',5:'stock'}).set_index('stock')\n",
    "        all_betas_ev.append(df_betas_ev)\n",
    "\n"
   ]
  },
  {
   "cell_type": "code",
   "execution_count": 88,
   "metadata": {
    "scrolled": true
   },
   "outputs": [
    {
     "data": {
      "text/html": [
       "<div>\n",
       "<style scoped>\n",
       "    .dataframe tbody tr th:only-of-type {\n",
       "        vertical-align: middle;\n",
       "    }\n",
       "\n",
       "    .dataframe tbody tr th {\n",
       "        vertical-align: top;\n",
       "    }\n",
       "\n",
       "    .dataframe thead th {\n",
       "        text-align: right;\n",
       "    }\n",
       "</style>\n",
       "<table border=\"1\" class=\"dataframe\">\n",
       "  <thead>\n",
       "    <tr style=\"text-align: right;\">\n",
       "      <th></th>\n",
       "      <th>beta_1</th>\n",
       "      <th>beta_2</th>\n",
       "      <th>beta_3</th>\n",
       "      <th>beta_4</th>\n",
       "      <th>beta_5</th>\n",
       "    </tr>\n",
       "    <tr>\n",
       "      <th>stock</th>\n",
       "      <th></th>\n",
       "      <th></th>\n",
       "      <th></th>\n",
       "      <th></th>\n",
       "      <th></th>\n",
       "    </tr>\n",
       "  </thead>\n",
       "  <tbody>\n",
       "    <tr>\n",
       "      <th>ABC.SJ.Equity</th>\n",
       "      <td>0.017404141603707235</td>\n",
       "      <td>-0.4626161165521546</td>\n",
       "      <td>0.853584653363094</td>\n",
       "      <td>0.6988655148597678</td>\n",
       "      <td>0.154658988919582</td>\n",
       "    </tr>\n",
       "    <tr>\n",
       "      <th>ABI.SJ.Equity</th>\n",
       "      <td>0.2320568403644699</td>\n",
       "      <td>-0.026005865333026786</td>\n",
       "      <td>-0.054336445225803394</td>\n",
       "      <td>-0.13543128231582643</td>\n",
       "      <td>-0.029930768809007222</td>\n",
       "    </tr>\n",
       "    <tr>\n",
       "      <th>ABR.SJ.Equity</th>\n",
       "      <td>-0.37147172854153504</td>\n",
       "      <td>1.7593474981577522</td>\n",
       "      <td>-0.209837387567265</td>\n",
       "      <td>0.322072323212365</td>\n",
       "      <td>-0.540373057692644</td>\n",
       "    </tr>\n",
       "    <tr>\n",
       "      <th>ACL.SJ.Equity</th>\n",
       "      <td>0.8533750560875047</td>\n",
       "      <td>1.0469468630206493</td>\n",
       "      <td>-0.2308102657012565</td>\n",
       "      <td>0.21834308742320813</td>\n",
       "      <td>-0.04145786268668872</td>\n",
       "    </tr>\n",
       "    <tr>\n",
       "      <th>ACP.SJ.Equity</th>\n",
       "      <td>0.010382974998620053</td>\n",
       "      <td>0.005489499298303696</td>\n",
       "      <td>0.1855320192534109</td>\n",
       "      <td>-0.0964911443882201</td>\n",
       "      <td>0.0805835709149977</td>\n",
       "    </tr>\n",
       "    <tr>\n",
       "      <th>...</th>\n",
       "      <td>...</td>\n",
       "      <td>...</td>\n",
       "      <td>...</td>\n",
       "      <td>...</td>\n",
       "      <td>...</td>\n",
       "    </tr>\n",
       "    <tr>\n",
       "      <th>WTC.SJ.Equity</th>\n",
       "      <td>0.04871845219807283</td>\n",
       "      <td>-0.08086673236325148</td>\n",
       "      <td>-0.2471779881248271</td>\n",
       "      <td>-0.1131414368806107</td>\n",
       "      <td>-0.09837551445820594</td>\n",
       "    </tr>\n",
       "    <tr>\n",
       "      <th>YRK.SJ.Equity</th>\n",
       "      <td>-0.09877375717702369</td>\n",
       "      <td>0.3717418279557105</td>\n",
       "      <td>-0.2852236683658058</td>\n",
       "      <td>-0.2902212515169485</td>\n",
       "      <td>-0.3799401091160878</td>\n",
       "    </tr>\n",
       "    <tr>\n",
       "      <th>ZPT.SJ.Equity</th>\n",
       "      <td>0.03625530757073325</td>\n",
       "      <td>-0.2868064536499078</td>\n",
       "      <td>0.2728226538497176</td>\n",
       "      <td>0.19146474723565043</td>\n",
       "      <td>-0.1649424006158563</td>\n",
       "    </tr>\n",
       "    <tr>\n",
       "      <th>ZRR.SJ.Equity</th>\n",
       "      <td>0.29033540002897734</td>\n",
       "      <td>0.689789959911161</td>\n",
       "      <td>-0.09396190749776545</td>\n",
       "      <td>0.03604483507044709</td>\n",
       "      <td>-0.8511628047310142</td>\n",
       "    </tr>\n",
       "    <tr>\n",
       "      <th>ZSA.SJ.Equity</th>\n",
       "      <td>-0.018980819199464313</td>\n",
       "      <td>0.21928630766188265</td>\n",
       "      <td>-0.12885117923804704</td>\n",
       "      <td>0.04768096417511178</td>\n",
       "      <td>-0.045191573360431656</td>\n",
       "    </tr>\n",
       "  </tbody>\n",
       "</table>\n",
       "<p>541 rows × 5 columns</p>\n",
       "</div>"
      ],
      "text/plain": [
       "                              beta_1                 beta_2  \\\n",
       "stock                                                         \n",
       "ABC.SJ.Equity   0.017404141603707235    -0.4626161165521546   \n",
       "ABI.SJ.Equity     0.2320568403644699  -0.026005865333026786   \n",
       "ABR.SJ.Equity   -0.37147172854153504     1.7593474981577522   \n",
       "ACL.SJ.Equity     0.8533750560875047     1.0469468630206493   \n",
       "ACP.SJ.Equity   0.010382974998620053   0.005489499298303696   \n",
       "...                              ...                    ...   \n",
       "WTC.SJ.Equity    0.04871845219807283   -0.08086673236325148   \n",
       "YRK.SJ.Equity   -0.09877375717702369     0.3717418279557105   \n",
       "ZPT.SJ.Equity    0.03625530757073325    -0.2868064536499078   \n",
       "ZRR.SJ.Equity    0.29033540002897734      0.689789959911161   \n",
       "ZSA.SJ.Equity  -0.018980819199464313    0.21928630766188265   \n",
       "\n",
       "                              beta_3                beta_4  \\\n",
       "stock                                                        \n",
       "ABC.SJ.Equity      0.853584653363094    0.6988655148597678   \n",
       "ABI.SJ.Equity  -0.054336445225803394  -0.13543128231582643   \n",
       "ABR.SJ.Equity     -0.209837387567265     0.322072323212365   \n",
       "ACL.SJ.Equity    -0.2308102657012565   0.21834308742320813   \n",
       "ACP.SJ.Equity     0.1855320192534109   -0.0964911443882201   \n",
       "...                              ...                   ...   \n",
       "WTC.SJ.Equity    -0.2471779881248271   -0.1131414368806107   \n",
       "YRK.SJ.Equity    -0.2852236683658058   -0.2902212515169485   \n",
       "ZPT.SJ.Equity     0.2728226538497176   0.19146474723565043   \n",
       "ZRR.SJ.Equity   -0.09396190749776545   0.03604483507044709   \n",
       "ZSA.SJ.Equity   -0.12885117923804704   0.04768096417511178   \n",
       "\n",
       "                              beta_5  \n",
       "stock                                 \n",
       "ABC.SJ.Equity      0.154658988919582  \n",
       "ABI.SJ.Equity  -0.029930768809007222  \n",
       "ABR.SJ.Equity     -0.540373057692644  \n",
       "ACL.SJ.Equity   -0.04145786268668872  \n",
       "ACP.SJ.Equity     0.0805835709149977  \n",
       "...                              ...  \n",
       "WTC.SJ.Equity   -0.09837551445820594  \n",
       "YRK.SJ.Equity    -0.3799401091160878  \n",
       "ZPT.SJ.Equity    -0.1649424006158563  \n",
       "ZRR.SJ.Equity    -0.8511628047310142  \n",
       "ZSA.SJ.Equity  -0.045191573360431656  \n",
       "\n",
       "[541 rows x 5 columns]"
      ]
     },
     "execution_count": 88,
     "metadata": {},
     "output_type": "execute_result"
    }
   ],
   "source": [
    "all_betas_iv[0]"
   ]
  },
  {
   "cell_type": "code",
   "execution_count": 89,
   "metadata": {},
   "outputs": [
    {
     "name": "stderr",
     "output_type": "stream",
     "text": [
      "100%|██████████| 3465/3465 [00:16<00:00, 213.05it/s]\n"
     ]
    }
   ],
   "source": [
    "all_lambdas = []\n",
    "# i is time\n",
    "\n",
    "df_Ex_SR_tmp_T = df_Ex_SR.iloc[rollingW:rollingW+periods*holding,:].T\n",
    "\n",
    "lambdas = []\n",
    "index_times = list(df_Ex_SR_tmp_T.columns)\n",
    "\n",
    "for k in tqdm(df_Ex_SR_tmp_T.columns):\n",
    "    \n",
    "    i = int(index_times.index(k) / holding)\n",
    "\n",
    "    df_index = ((all_betas_iv[i].index).intersection(all_betas_ev[i].index)).intersection(df_Ex_SR.loc[k,:].dropna().index)\n",
    "    \n",
    "    if len(df_index) != 0:\n",
    "        \n",
    "        iv = IV2SLS(endog = df_Ex_SR_tmp_T.loc[df_index,k].values,exog = sm.add_constant(all_betas_ev[i].loc[df_index,:].values.astype(np.float64)),instrument = sm.add_constant(all_betas_iv[i].loc[df_index,:].values.astype(np.float64)))\n",
    "        res = iv.fit()\n",
    "        l = list(res.params)\n",
    "        lambdas.append(l)\n",
    "        \n",
    "all_lambdas.append(pd.DataFrame(lambdas))"
   ]
  },
  {
   "cell_type": "code",
   "execution_count": 90,
   "metadata": {
    "scrolled": true
   },
   "outputs": [
    {
     "data": {
      "text/html": [
       "<div>\n",
       "<style scoped>\n",
       "    .dataframe tbody tr th:only-of-type {\n",
       "        vertical-align: middle;\n",
       "    }\n",
       "\n",
       "    .dataframe tbody tr th {\n",
       "        vertical-align: top;\n",
       "    }\n",
       "\n",
       "    .dataframe thead th {\n",
       "        text-align: right;\n",
       "    }\n",
       "</style>\n",
       "<table border=\"1\" class=\"dataframe\">\n",
       "  <thead>\n",
       "    <tr style=\"text-align: right;\">\n",
       "      <th></th>\n",
       "      <th>Intercept</th>\n",
       "      <th>MKT</th>\n",
       "      <th>SMB</th>\n",
       "      <th>HML</th>\n",
       "      <th>RMW</th>\n",
       "      <th>CMA</th>\n",
       "    </tr>\n",
       "  </thead>\n",
       "  <tbody>\n",
       "    <tr>\n",
       "      <th>0</th>\n",
       "      <td>-5.119667e-03</td>\n",
       "      <td>-0.002914</td>\n",
       "      <td>-0.058345</td>\n",
       "      <td>0.098615</td>\n",
       "      <td>-0.042906</td>\n",
       "      <td>-0.116153</td>\n",
       "    </tr>\n",
       "    <tr>\n",
       "      <th>1</th>\n",
       "      <td>2.274167e-03</td>\n",
       "      <td>0.013777</td>\n",
       "      <td>0.012770</td>\n",
       "      <td>-0.024770</td>\n",
       "      <td>-0.015602</td>\n",
       "      <td>0.029963</td>\n",
       "    </tr>\n",
       "    <tr>\n",
       "      <th>2</th>\n",
       "      <td>6.105835e-04</td>\n",
       "      <td>-0.016718</td>\n",
       "      <td>-0.062342</td>\n",
       "      <td>0.064100</td>\n",
       "      <td>-0.038322</td>\n",
       "      <td>-0.056332</td>\n",
       "    </tr>\n",
       "    <tr>\n",
       "      <th>3</th>\n",
       "      <td>-1.865059e-04</td>\n",
       "      <td>0.031024</td>\n",
       "      <td>-0.042026</td>\n",
       "      <td>0.052700</td>\n",
       "      <td>-0.063119</td>\n",
       "      <td>-0.047117</td>\n",
       "    </tr>\n",
       "    <tr>\n",
       "      <th>4</th>\n",
       "      <td>1.799984e-03</td>\n",
       "      <td>0.000689</td>\n",
       "      <td>0.012385</td>\n",
       "      <td>0.004852</td>\n",
       "      <td>0.008375</td>\n",
       "      <td>0.013486</td>\n",
       "    </tr>\n",
       "    <tr>\n",
       "      <th>...</th>\n",
       "      <td>...</td>\n",
       "      <td>...</td>\n",
       "      <td>...</td>\n",
       "      <td>...</td>\n",
       "      <td>...</td>\n",
       "      <td>...</td>\n",
       "    </tr>\n",
       "    <tr>\n",
       "      <th>3460</th>\n",
       "      <td>-9.726035e-04</td>\n",
       "      <td>0.002260</td>\n",
       "      <td>0.008120</td>\n",
       "      <td>0.005880</td>\n",
       "      <td>-0.008660</td>\n",
       "      <td>0.007021</td>\n",
       "    </tr>\n",
       "    <tr>\n",
       "      <th>3461</th>\n",
       "      <td>-1.755660e-03</td>\n",
       "      <td>-0.002835</td>\n",
       "      <td>-0.011068</td>\n",
       "      <td>-0.009876</td>\n",
       "      <td>0.015862</td>\n",
       "      <td>-0.008484</td>\n",
       "    </tr>\n",
       "    <tr>\n",
       "      <th>3462</th>\n",
       "      <td>3.583297e-04</td>\n",
       "      <td>0.009450</td>\n",
       "      <td>0.002169</td>\n",
       "      <td>-0.011189</td>\n",
       "      <td>0.014089</td>\n",
       "      <td>0.004549</td>\n",
       "    </tr>\n",
       "    <tr>\n",
       "      <th>3463</th>\n",
       "      <td>-4.830718e-04</td>\n",
       "      <td>-0.005767</td>\n",
       "      <td>-0.010769</td>\n",
       "      <td>0.011664</td>\n",
       "      <td>0.017846</td>\n",
       "      <td>-0.002649</td>\n",
       "    </tr>\n",
       "    <tr>\n",
       "      <th>3464</th>\n",
       "      <td>5.536167e-07</td>\n",
       "      <td>0.007331</td>\n",
       "      <td>0.002946</td>\n",
       "      <td>-0.001330</td>\n",
       "      <td>-0.002931</td>\n",
       "      <td>0.005846</td>\n",
       "    </tr>\n",
       "  </tbody>\n",
       "</table>\n",
       "<p>3465 rows × 6 columns</p>\n",
       "</div>"
      ],
      "text/plain": [
       "         Intercept       MKT       SMB       HML       RMW       CMA\n",
       "0    -5.119667e-03 -0.002914 -0.058345  0.098615 -0.042906 -0.116153\n",
       "1     2.274167e-03  0.013777  0.012770 -0.024770 -0.015602  0.029963\n",
       "2     6.105835e-04 -0.016718 -0.062342  0.064100 -0.038322 -0.056332\n",
       "3    -1.865059e-04  0.031024 -0.042026  0.052700 -0.063119 -0.047117\n",
       "4     1.799984e-03  0.000689  0.012385  0.004852  0.008375  0.013486\n",
       "...            ...       ...       ...       ...       ...       ...\n",
       "3460 -9.726035e-04  0.002260  0.008120  0.005880 -0.008660  0.007021\n",
       "3461 -1.755660e-03 -0.002835 -0.011068 -0.009876  0.015862 -0.008484\n",
       "3462  3.583297e-04  0.009450  0.002169 -0.011189  0.014089  0.004549\n",
       "3463 -4.830718e-04 -0.005767 -0.010769  0.011664  0.017846 -0.002649\n",
       "3464  5.536167e-07  0.007331  0.002946 -0.001330 -0.002931  0.005846\n",
       "\n",
       "[3465 rows x 6 columns]"
      ]
     },
     "execution_count": 90,
     "metadata": {},
     "output_type": "execute_result"
    }
   ],
   "source": [
    "# all_lambdas[0] = all_lambdas[0][(np.abs((all_lambdas[0]-all_lambdas[0].mean())/all_lambdas[0].std()) <= 3).all(axis=1)]\n",
    "all_lambdas[0].rename(columns={0:'Intercept',1:'MKT',2:'SMB',3:'HML',4:'RMW',5:'CMA'})"
   ]
  },
  {
   "cell_type": "code",
   "execution_count": 91,
   "metadata": {
    "scrolled": false
   },
   "outputs": [
    {
     "name": "stderr",
     "output_type": "stream",
     "text": [
      "/Users/runxinlin/opt/anaconda3/envs/Research_Codes_2021/lib/python3.8/site-packages/numpy/core/fromnumeric.py:3438: FutureWarning: In a future version, DataFrame.mean(axis=None) will return a scalar mean over the entire DataFrame. To retain the old behavior, use 'frame.mean(axis=0)' or just 'frame.mean()'\n",
      "  return mean(axis=axis, dtype=dtype, out=out, **kwargs)\n"
     ]
    },
    {
     "data": {
      "text/plain": [
       "0    -1.260813\n",
       "1     6.828044\n",
       "2    15.216093\n",
       "3     8.546427\n",
       "4    14.657665\n",
       "5    -5.379176\n",
       "dtype: float64"
      ]
     },
     "execution_count": 91,
     "metadata": {},
     "output_type": "execute_result"
    }
   ],
   "source": [
    "np.mean(all_lambdas[0])*21*100"
   ]
  },
  {
   "cell_type": "code",
   "execution_count": 92,
   "metadata": {
    "scrolled": false
   },
   "outputs": [
    {
     "data": {
      "text/plain": [
       "array([-2.28002313,  1.34062661,  0.51874535,  0.36181064,  1.59685602,\n",
       "       -0.82349007])"
      ]
     },
     "execution_count": 92,
     "metadata": {},
     "output_type": "execute_result"
    }
   ],
   "source": [
    "stats.ttest_1samp(all_lambdas[0].dropna(), 0.0)[0]"
   ]
  },
  {
   "cell_type": "code",
   "execution_count": 93,
   "metadata": {
    "scrolled": true
   },
   "outputs": [
    {
     "data": {
      "text/plain": [
       "array([-1.35205516,  0.79125107,  0.3056829 ,  0.21368124,  0.95460126,\n",
       "       -0.51555878])"
      ]
     },
     "execution_count": 93,
     "metadata": {},
     "output_type": "execute_result"
    }
   ],
   "source": [
    "## New-West Adjustment \n",
    "all_lambdas[0].apply(lambda x: NW_ttest(ret = x, h0=0), axis=0).values"
   ]
  },
  {
   "cell_type": "markdown",
   "metadata": {},
   "source": [
    "### Adding Firm Characteristics as Control Variables"
   ]
  },
  {
   "cell_type": "code",
   "execution_count": 94,
   "metadata": {},
   "outputs": [],
   "source": [
    "df_OP = pd.read_csv('df_std_OP.csv')\n",
    "\n",
    "df_INV = pd.read_csv('df_std_INV.csv')\n",
    "\n",
    "df_OP.Dates = df_OP.Dates.apply(lambda x:x[:10])\n",
    "\n",
    "df_OP.set_index('Dates',inplace=True)\n",
    "\n",
    "df_INV.Dates = df_INV.Dates.apply(lambda x:x[:10])\n",
    "\n",
    "df_INV.set_index('Dates',inplace=True)"
   ]
  },
  {
   "cell_type": "code",
   "execution_count": 95,
   "metadata": {},
   "outputs": [],
   "source": [
    "df_ln_Size = pd.read_csv('df_ln_Size.csv')\n",
    "\n",
    "df_PE = pd.read_csv('df_std_PE.csv')\n",
    "\n",
    "df_ln_Size.Dates = df_ln_Size.Dates.apply(lambda x:x[:10])\n",
    "\n",
    "df_ln_Size.set_index('Dates',inplace=True)\n",
    "\n",
    "df_PE.Dates = df_PE.Dates.apply(lambda x:x[:10])\n",
    "\n",
    "df_PE.set_index('Dates',inplace=True)"
   ]
  },
  {
   "cell_type": "code",
   "execution_count": 96,
   "metadata": {},
   "outputs": [],
   "source": [
    "df_ln_Size = df_ln_Size.loc[df_Ex_SR.index,:]"
   ]
  },
  {
   "cell_type": "code",
   "execution_count": 97,
   "metadata": {},
   "outputs": [],
   "source": [
    "df_PE = df_PE.loc[df_Ex_SR.index,:]"
   ]
  },
  {
   "cell_type": "code",
   "execution_count": 98,
   "metadata": {},
   "outputs": [],
   "source": [
    "df_OP = df_OP.loc[df_Ex_SR.index,:]"
   ]
  },
  {
   "cell_type": "code",
   "execution_count": 99,
   "metadata": {},
   "outputs": [],
   "source": [
    "df_INV = df_INV.loc[df_Ex_SR.index,:]"
   ]
  },
  {
   "cell_type": "code",
   "execution_count": 100,
   "metadata": {
    "scrolled": false
   },
   "outputs": [
    {
     "data": {
      "text/plain": [
       "True"
      ]
     },
     "execution_count": 100,
     "metadata": {},
     "output_type": "execute_result"
    }
   ],
   "source": [
    "len(df_ln_Size)==len(df_PE)==len(df_Ex_SR)==len(df_OP)==len(df_INV)"
   ]
  },
  {
   "cell_type": "code",
   "execution_count": 101,
   "metadata": {},
   "outputs": [],
   "source": [
    "Gap = 21"
   ]
  },
  {
   "cell_type": "code",
   "execution_count": 102,
   "metadata": {},
   "outputs": [
    {
     "data": {
      "text/plain": [
       "165"
      ]
     },
     "execution_count": 102,
     "metadata": {},
     "output_type": "execute_result"
    }
   ],
   "source": [
    "n = 5\n",
    "holding = 21\n",
    "rollingW = holding * n *12\n",
    "lens = len(df_FF5)\n",
    "periods = int((lens - rollingW) / holding) - 1\n",
    "periods"
   ]
  },
  {
   "cell_type": "code",
   "execution_count": 103,
   "metadata": {
    "scrolled": true
   },
   "outputs": [
    {
     "name": "stderr",
     "output_type": "stream",
     "text": [
      "100%|██████████| 3444/3444 [00:29<00:00, 117.66it/s]\n"
     ]
    }
   ],
   "source": [
    "all_lambdas = []\n",
    "\n",
    "df_Ex_SR_tmp_T = df_Ex_SR.iloc[rollingW:rollingW+periods*holding,:].T\n",
    "df_ln_Size_tmp_T = df_ln_Size.iloc[rollingW:rollingW+periods*holding,:].T\n",
    "df_PE_tmp_T = df_PE.iloc[rollingW:rollingW+periods*holding,:].T\n",
    "df_OP_tmp_T = df_OP.iloc[rollingW:rollingW+periods*holding,:].T\n",
    "df_INV_tmp_T = df_INV.iloc[rollingW:rollingW+periods*holding,:].T\n",
    "\n",
    "lambdas = []\n",
    "index_times = list(df_Ex_SR_tmp_T.columns)\n",
    "# If Gap >0, the following should be 'for k in tqdm(df_Ex_SR_tmp_T.columns[:-Gap]):''\n",
    "for k in tqdm(df_Ex_SR_tmp_T.columns[:-Gap]):\n",
    "    # k is time t in 3948 days\n",
    "    i = int(index_times.index(k) / holding)\n",
    "    # i is time T in 185 periods\n",
    "    # df_ln_Size_tmp_T.loc[:,k].replace(-np.inf,np.nan), the -inf in ln_Size data dataframe would interrupt the regression\n",
    "    df_index = ((((((all_betas_ev[i].index).intersection(df_ln_Size_tmp_T.loc[:,k].replace(-np.inf,np.nan).dropna().index).\\\n",
    "                 intersection(df_PE_tmp_T.loc[:,k].replace(-np.inf,np.nan).dropna().index)).\\\n",
    "                  intersection(df_Ex_SR_tmp_T.loc[:,index_times[index_times.index(k)+Gap]].dropna().index)).\\\n",
    "                   intersection(df_OP_tmp_T.loc[:,k].dropna().index)).\\\n",
    "                    intersection(df_INV_tmp_T.loc[:,k].dropna().index)).\\\n",
    "                     intersection(all_betas_iv[i].index))\n",
    "    \n",
    "    if len(df_index) != 0:\n",
    "        iv = IV2SLS(endog = df_Ex_SR_tmp_T.loc[df_index,index_times[index_times.index(k)+Gap]].values,\\\n",
    "                    exog = sm.add_constant(pd.concat([all_betas_ev[i].loc[df_index,:],\\\n",
    "                                                      df_ln_Size_tmp_T.loc[df_index,k],\\\n",
    "                                                      df_PE_tmp_T.loc[df_index,k],\\\n",
    "                                                      df_OP_tmp_T.loc[df_index,k],\\\n",
    "                                                      df_INV_tmp_T.loc[df_index,k]],axis = 1).values.astype(np.float64)),\\\n",
    "                    instrument = sm.add_constant(pd.concat([all_betas_iv[i].loc[df_index,:],\\\n",
    "                                                           df_ln_Size_tmp_T.loc[df_index,k],\\\n",
    "                                                           df_PE_tmp_T.loc[df_index,k],\\\n",
    "                                                           df_OP_tmp_T.loc[df_index,k],\\\n",
    "                                                           df_INV_tmp_T.loc[df_index,k]],axis = 1).values.astype(np.float64)))\n",
    "        res = iv.fit()\n",
    "        l = list(res.params)           \n",
    "        lambdas.append(l)\n",
    "\n",
    "all_lambdas.append(pd.DataFrame(lambdas))"
   ]
  },
  {
   "cell_type": "code",
   "execution_count": 104,
   "metadata": {
    "scrolled": true
   },
   "outputs": [
    {
     "data": {
      "text/html": [
       "<div>\n",
       "<style scoped>\n",
       "    .dataframe tbody tr th:only-of-type {\n",
       "        vertical-align: middle;\n",
       "    }\n",
       "\n",
       "    .dataframe tbody tr th {\n",
       "        vertical-align: top;\n",
       "    }\n",
       "\n",
       "    .dataframe thead th {\n",
       "        text-align: right;\n",
       "    }\n",
       "</style>\n",
       "<table border=\"1\" class=\"dataframe\">\n",
       "  <thead>\n",
       "    <tr style=\"text-align: right;\">\n",
       "      <th></th>\n",
       "      <th>Intercept</th>\n",
       "      <th>MKT</th>\n",
       "      <th>SMB</th>\n",
       "      <th>HML</th>\n",
       "      <th>RMW</th>\n",
       "      <th>CMA</th>\n",
       "      <th>Size</th>\n",
       "      <th>PE</th>\n",
       "      <th>OP</th>\n",
       "      <th>INV</th>\n",
       "    </tr>\n",
       "  </thead>\n",
       "  <tbody>\n",
       "    <tr>\n",
       "      <th>0</th>\n",
       "      <td>-0.014265</td>\n",
       "      <td>-0.033442</td>\n",
       "      <td>0.042430</td>\n",
       "      <td>-0.032455</td>\n",
       "      <td>0.028544</td>\n",
       "      <td>0.022501</td>\n",
       "      <td>0.003424</td>\n",
       "      <td>0.004547</td>\n",
       "      <td>0.002098</td>\n",
       "      <td>0.002360</td>\n",
       "    </tr>\n",
       "    <tr>\n",
       "      <th>1</th>\n",
       "      <td>-0.012558</td>\n",
       "      <td>0.001157</td>\n",
       "      <td>0.024291</td>\n",
       "      <td>-0.022793</td>\n",
       "      <td>0.013241</td>\n",
       "      <td>0.000934</td>\n",
       "      <td>0.002270</td>\n",
       "      <td>0.000770</td>\n",
       "      <td>-0.001425</td>\n",
       "      <td>0.002610</td>\n",
       "    </tr>\n",
       "    <tr>\n",
       "      <th>2</th>\n",
       "      <td>-0.011171</td>\n",
       "      <td>-0.021922</td>\n",
       "      <td>0.087880</td>\n",
       "      <td>-0.024756</td>\n",
       "      <td>0.022592</td>\n",
       "      <td>-0.003378</td>\n",
       "      <td>0.002283</td>\n",
       "      <td>0.001883</td>\n",
       "      <td>0.003955</td>\n",
       "      <td>-0.000616</td>\n",
       "    </tr>\n",
       "    <tr>\n",
       "      <th>3</th>\n",
       "      <td>-0.001963</td>\n",
       "      <td>-0.018922</td>\n",
       "      <td>-0.014410</td>\n",
       "      <td>-0.015132</td>\n",
       "      <td>0.011513</td>\n",
       "      <td>-0.006048</td>\n",
       "      <td>0.000250</td>\n",
       "      <td>0.000380</td>\n",
       "      <td>0.002214</td>\n",
       "      <td>0.002090</td>\n",
       "    </tr>\n",
       "    <tr>\n",
       "      <th>4</th>\n",
       "      <td>0.019792</td>\n",
       "      <td>0.014930</td>\n",
       "      <td>-0.118494</td>\n",
       "      <td>0.055010</td>\n",
       "      <td>-0.077545</td>\n",
       "      <td>0.011532</td>\n",
       "      <td>-0.003540</td>\n",
       "      <td>-0.006187</td>\n",
       "      <td>-0.001727</td>\n",
       "      <td>-0.004463</td>\n",
       "    </tr>\n",
       "    <tr>\n",
       "      <th>...</th>\n",
       "      <td>...</td>\n",
       "      <td>...</td>\n",
       "      <td>...</td>\n",
       "      <td>...</td>\n",
       "      <td>...</td>\n",
       "      <td>...</td>\n",
       "      <td>...</td>\n",
       "      <td>...</td>\n",
       "      <td>...</td>\n",
       "      <td>...</td>\n",
       "    </tr>\n",
       "    <tr>\n",
       "      <th>3439</th>\n",
       "      <td>0.000097</td>\n",
       "      <td>0.010990</td>\n",
       "      <td>0.003844</td>\n",
       "      <td>0.003936</td>\n",
       "      <td>-0.009277</td>\n",
       "      <td>-0.002942</td>\n",
       "      <td>-0.000411</td>\n",
       "      <td>-0.000388</td>\n",
       "      <td>0.000175</td>\n",
       "      <td>-0.000937</td>\n",
       "    </tr>\n",
       "    <tr>\n",
       "      <th>3440</th>\n",
       "      <td>-0.006557</td>\n",
       "      <td>-0.013967</td>\n",
       "      <td>-0.007583</td>\n",
       "      <td>-0.009475</td>\n",
       "      <td>0.018604</td>\n",
       "      <td>0.002551</td>\n",
       "      <td>0.000973</td>\n",
       "      <td>0.000510</td>\n",
       "      <td>-0.000300</td>\n",
       "      <td>0.000471</td>\n",
       "    </tr>\n",
       "    <tr>\n",
       "      <th>3441</th>\n",
       "      <td>0.003080</td>\n",
       "      <td>0.008685</td>\n",
       "      <td>0.003964</td>\n",
       "      <td>-0.007389</td>\n",
       "      <td>0.009525</td>\n",
       "      <td>0.006448</td>\n",
       "      <td>-0.000348</td>\n",
       "      <td>0.000904</td>\n",
       "      <td>0.000572</td>\n",
       "      <td>-0.000995</td>\n",
       "    </tr>\n",
       "    <tr>\n",
       "      <th>3442</th>\n",
       "      <td>-0.004678</td>\n",
       "      <td>-0.014342</td>\n",
       "      <td>-0.006751</td>\n",
       "      <td>0.010294</td>\n",
       "      <td>0.008361</td>\n",
       "      <td>0.015774</td>\n",
       "      <td>0.000642</td>\n",
       "      <td>-0.003461</td>\n",
       "      <td>-0.001627</td>\n",
       "      <td>-0.003397</td>\n",
       "    </tr>\n",
       "    <tr>\n",
       "      <th>3443</th>\n",
       "      <td>-0.001305</td>\n",
       "      <td>0.002842</td>\n",
       "      <td>0.004347</td>\n",
       "      <td>-0.005783</td>\n",
       "      <td>-0.008988</td>\n",
       "      <td>0.008094</td>\n",
       "      <td>0.000270</td>\n",
       "      <td>0.001429</td>\n",
       "      <td>0.000635</td>\n",
       "      <td>0.000762</td>\n",
       "    </tr>\n",
       "  </tbody>\n",
       "</table>\n",
       "<p>3384 rows × 10 columns</p>\n",
       "</div>"
      ],
      "text/plain": [
       "      Intercept       MKT       SMB       HML       RMW       CMA      Size  \\\n",
       "0     -0.014265 -0.033442  0.042430 -0.032455  0.028544  0.022501  0.003424   \n",
       "1     -0.012558  0.001157  0.024291 -0.022793  0.013241  0.000934  0.002270   \n",
       "2     -0.011171 -0.021922  0.087880 -0.024756  0.022592 -0.003378  0.002283   \n",
       "3     -0.001963 -0.018922 -0.014410 -0.015132  0.011513 -0.006048  0.000250   \n",
       "4      0.019792  0.014930 -0.118494  0.055010 -0.077545  0.011532 -0.003540   \n",
       "...         ...       ...       ...       ...       ...       ...       ...   \n",
       "3439   0.000097  0.010990  0.003844  0.003936 -0.009277 -0.002942 -0.000411   \n",
       "3440  -0.006557 -0.013967 -0.007583 -0.009475  0.018604  0.002551  0.000973   \n",
       "3441   0.003080  0.008685  0.003964 -0.007389  0.009525  0.006448 -0.000348   \n",
       "3442  -0.004678 -0.014342 -0.006751  0.010294  0.008361  0.015774  0.000642   \n",
       "3443  -0.001305  0.002842  0.004347 -0.005783 -0.008988  0.008094  0.000270   \n",
       "\n",
       "            PE        OP       INV  \n",
       "0     0.004547  0.002098  0.002360  \n",
       "1     0.000770 -0.001425  0.002610  \n",
       "2     0.001883  0.003955 -0.000616  \n",
       "3     0.000380  0.002214  0.002090  \n",
       "4    -0.006187 -0.001727 -0.004463  \n",
       "...        ...       ...       ...  \n",
       "3439 -0.000388  0.000175 -0.000937  \n",
       "3440  0.000510 -0.000300  0.000471  \n",
       "3441  0.000904  0.000572 -0.000995  \n",
       "3442 -0.003461 -0.001627 -0.003397  \n",
       "3443  0.001429  0.000635  0.000762  \n",
       "\n",
       "[3384 rows x 10 columns]"
      ]
     },
     "execution_count": 104,
     "metadata": {},
     "output_type": "execute_result"
    }
   ],
   "source": [
    "all_lambdas[0] = all_lambdas[0][(np.abs((all_lambdas[0]-all_lambdas[0].mean())/all_lambdas[0].std()) <= 3).all(axis=1)]\n",
    "all_lambdas[0].rename(columns={0:'Intercept',1:'MKT',2:'SMB',3:'HML',4:'RMW',5:'CMA',6:'Size',7:'PE',8:'OP',9:'INV'})"
   ]
  },
  {
   "cell_type": "code",
   "execution_count": 105,
   "metadata": {},
   "outputs": [
    {
     "name": "stderr",
     "output_type": "stream",
     "text": [
      "/Users/runxinlin/opt/anaconda3/envs/Research_Codes_2021/lib/python3.8/site-packages/numpy/core/fromnumeric.py:3438: FutureWarning: In a future version, DataFrame.mean(axis=None) will return a scalar mean over the entire DataFrame. To retain the old behavior, use 'frame.mean(axis=0)' or just 'frame.mean()'\n",
      "  return mean(axis=axis, dtype=dtype, out=out, **kwargs)\n"
     ]
    },
    {
     "data": {
      "text/plain": [
       "0   -0.952103\n",
       "1   -0.879151\n",
       "2    0.051132\n",
       "3    0.102356\n",
       "4    0.940577\n",
       "5   -0.373992\n",
       "6    0.127982\n",
       "7   -0.432520\n",
       "8    0.217028\n",
       "9    0.058879\n",
       "dtype: float64"
      ]
     },
     "execution_count": 105,
     "metadata": {},
     "output_type": "execute_result"
    }
   ],
   "source": [
    "np.mean(all_lambdas[0])*21*100"
   ]
  },
  {
   "cell_type": "code",
   "execution_count": 106,
   "metadata": {
    "scrolled": true
   },
   "outputs": [
    {
     "data": {
      "text/plain": [
       "array([-3.59166434, -1.24138456,  0.04551549,  0.10634246,  0.98898087,\n",
       "       -0.41901242,  2.58220985, -3.9527402 ,  2.26070912,  0.71389521])"
      ]
     },
     "execution_count": 106,
     "metadata": {},
     "output_type": "execute_result"
    }
   ],
   "source": [
    "stats.ttest_1samp(all_lambdas[0].dropna(), 0.0)[0]"
   ]
  },
  {
   "cell_type": "code",
   "execution_count": 107,
   "metadata": {
    "scrolled": true
   },
   "outputs": [
    {
     "data": {
      "text/plain": [
       "array([-2.30661461, -0.7712936 ,  0.02921575,  0.06879817,  0.63880906,\n",
       "       -0.26613885,  1.64595196, -2.52984091,  1.44316208,  0.45350563])"
      ]
     },
     "execution_count": 107,
     "metadata": {},
     "output_type": "execute_result"
    }
   ],
   "source": [
    "## New-West Adjustment \n",
    "all_lambdas[0].apply(lambda x: NW_ttest(ret = x, h0=0), axis=0).values"
   ]
  }
 ],
 "metadata": {
  "interpreter": {
   "hash": "69d8a1c8da2120c547dc6be546b5e615f27ec597372f3fd7b53ede26964dbf96"
  },
  "kernelspec": {
   "display_name": "Python 3",
   "language": "python",
   "name": "python3"
  },
  "language_info": {
   "codemirror_mode": {
    "name": "ipython",
    "version": 3
   },
   "file_extension": ".py",
   "mimetype": "text/x-python",
   "name": "python",
   "nbconvert_exporter": "python",
   "pygments_lexer": "ipython3",
   "version": "3.8.13"
  },
  "toc": {
   "base_numbering": 1,
   "nav_menu": {
    "height": "201.996px",
    "width": "356.996px"
   },
   "number_sections": true,
   "sideBar": true,
   "skip_h1_title": false,
   "title_cell": "Table of Contents",
   "title_sidebar": "Contents",
   "toc_cell": false,
   "toc_position": {},
   "toc_section_display": true,
   "toc_window_display": false
  }
 },
 "nbformat": 4,
 "nbformat_minor": 2
}
