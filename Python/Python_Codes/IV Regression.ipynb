{
 "cells": [
  {
   "cell_type": "code",
   "execution_count": 23,
   "metadata": {},
   "outputs": [],
   "source": [
    "import pandas as pd\n",
    "from sklearn.linear_model import LinearRegression\n",
    "from statsmodels.sandbox.regression.gmm import IV2SLS\n",
    "import numpy as np\n",
    "from scipy import stats\n",
    "from tqdm import tqdm\n",
    "import statsmodels.api as sm"
   ]
  },
  {
   "cell_type": "code",
   "execution_count": 25,
   "metadata": {},
   "outputs": [],
   "source": [
    "## Newey-West Adjustment For a Time-Series Data, e.g. Lambdas (factor returns)\n",
    "def NW_ttest(ret,h0):\n",
    "  T = len(ret)\n",
    "  lag = int(4*(T/100)**(2/9))\n",
    "  vv = np.var(ret)\n",
    "\n",
    "  for l in range(0,lag):\n",
    "      cc=np.cov(ret[0:(len(ret)-l)].T,ret[l:len(ret)].T)[0,1]\n",
    "      vv=vv+2*(1-(l+1)/lag)*cc\n",
    "      t=(np.mean(ret)-h0)/np.sqrt(vv)*np.sqrt(T)\n",
    "  \n",
    "  return t"
   ]
  },
  {
   "cell_type": "markdown",
   "metadata": {},
   "source": [
    "## CAPM_IV"
   ]
  },
  {
   "cell_type": "code",
   "execution_count": 26,
   "metadata": {},
   "outputs": [],
   "source": [
    "df_MR = pd.read_csv('df_MR.csv')"
   ]
  },
  {
   "cell_type": "code",
   "execution_count": 27,
   "metadata": {},
   "outputs": [],
   "source": [
    "df_MR.Dates = df_MR.Dates.apply(lambda x:x[:10])"
   ]
  },
  {
   "cell_type": "code",
   "execution_count": 28,
   "metadata": {},
   "outputs": [],
   "source": [
    "df_MR.set_index('Dates',inplace=True)"
   ]
  },
  {
   "cell_type": "code",
   "execution_count": 29,
   "metadata": {},
   "outputs": [],
   "source": [
    "ols_model = LinearRegression()"
   ]
  },
  {
   "cell_type": "code",
   "execution_count": 30,
   "metadata": {},
   "outputs": [],
   "source": [
    "df_RF = pd.read_csv('df_RF.csv',index_col=0)\n",
    "df_SR = pd.read_csv('df_SR.csv',index_col=0)\n",
    "df_SR.index = df_SR.index.to_series().apply(lambda x:x[:10])"
   ]
  },
  {
   "cell_type": "code",
   "execution_count": 31,
   "metadata": {},
   "outputs": [],
   "source": [
    "df_SR = df_SR.loc[:, (df_SR != 0).any(axis=0)]\n",
    "# df_SR = df_SR.apply(replacer)"
   ]
  },
  {
   "cell_type": "code",
   "execution_count": 32,
   "metadata": {},
   "outputs": [],
   "source": [
    "df_Ex_SR = df_SR - df_RF.values"
   ]
  },
  {
   "cell_type": "code",
   "execution_count": 33,
   "metadata": {},
   "outputs": [
    {
     "data": {
      "text/plain": [
       "(5215, 740)"
      ]
     },
     "execution_count": 33,
     "metadata": {},
     "output_type": "execute_result"
    }
   ],
   "source": [
    "df_Ex_SR = df_Ex_SR.loc[df_MR.index,:]\n",
    "df_Ex_SR.shape"
   ]
  },
  {
   "cell_type": "code",
   "execution_count": 34,
   "metadata": {},
   "outputs": [],
   "source": [
    "n = 3\n",
    "holding = 21\n",
    "rollingW = holding * n *12\n",
    "lens = len(df_MR)\n",
    "periods = int((lens - rollingW) / holding) - 1"
   ]
  },
  {
   "cell_type": "code",
   "execution_count": 35,
   "metadata": {},
   "outputs": [
    {
     "name": "stderr",
     "output_type": "stream",
     "text": [
      "100%|██████████| 211/211 [03:20<00:00,  1.05it/s]\n"
     ]
    }
   ],
   "source": [
    "all_betas_ev = []\n",
    "all_betas_iv = []\n",
    "\n",
    "# i is time in periods\n",
    "for i in tqdm(range(periods)):\n",
    "\n",
    "    df_MR_tmp = df_MR.iloc[i*holding:i*holding+rollingW,:]\n",
    "    df_Ex_SR_tmp = df_Ex_SR.iloc[i*holding:i*holding+rollingW,:]\n",
    "    \n",
    "\n",
    "    if (i + 1) % 2 == 1:\n",
    "        rw_odd = pd.DataFrame()\n",
    "        for k in range(0,n*12,2):\n",
    "            rw_odd = pd.concat([rw_odd,df_MR_tmp.iloc[21*k:21*(k+1),:]])\n",
    "\n",
    "        betas_ev = []\n",
    "        # j is cross-sectional stock label\n",
    "        for j in df_Ex_SR.columns:\n",
    "            df_index = df_Ex_SR_tmp.loc[rw_odd.index,j].dropna().index\n",
    "            \n",
    "            if len(df_index) != 0:\n",
    "                b = list(ols_model.fit(df_MR_tmp.loc[df_index,:].values, df_Ex_SR_tmp.loc[df_index,j].values).coef_)\n",
    "                b.append(j)\n",
    "                betas_ev.append(b)\n",
    "        df_betas_ev = pd.DataFrame(np.array(betas_ev)).rename(columns={0:'beta_1',1:'stock'}).set_index('stock')\n",
    "        all_betas_ev.append(df_betas_ev)\n",
    "\n",
    "\n",
    "        rw_even = pd.DataFrame()   \n",
    "        for k in range(1,n*12,2):\n",
    "            rw_even = pd.concat([rw_even,df_MR_tmp.iloc[21*k:21*(k+1),:]])\n",
    "        \n",
    "        betas_iv = []\n",
    "        # j is stock\n",
    "        for j in df_Ex_SR.columns:\n",
    "            df_index = df_Ex_SR_tmp.loc[rw_even.index,j].dropna().index\n",
    "            \n",
    "            if len(df_index) != 0:\n",
    "                b = list(ols_model.fit(df_MR_tmp.loc[df_index,:].values, df_Ex_SR_tmp.loc[df_index,j].values).coef_)\n",
    "                b.append(j)\n",
    "                betas_iv.append(b)\n",
    "        df_betas_iv = pd.DataFrame(np.array(betas_iv)).rename(columns={0:'beta_1',1:'stock'}).set_index('stock')\n",
    "        all_betas_iv.append(df_betas_iv)\n",
    "\n",
    "\n",
    "    if (i + 1) % 2 == 0:\n",
    "        rw_odd = pd.DataFrame()\n",
    "        for k in range(0,n*12,2):\n",
    "            rw_odd = pd.concat([rw_odd,df_MR_tmp.iloc[21*k:21*(k+1),:]])\n",
    "\n",
    "        betas_iv = []\n",
    "        # j is stock\n",
    "        for j in df_Ex_SR.columns:\n",
    "            df_index = df_Ex_SR_tmp.loc[rw_odd.index,j].dropna().index\n",
    "            \n",
    "            if len(df_index) != 0:\n",
    "                b = list(ols_model.fit(df_MR_tmp.loc[df_index,:].values, df_Ex_SR_tmp.loc[df_index,j].values).coef_)\n",
    "                b.append(j)\n",
    "                betas_iv.append(b)\n",
    "        df_betas_iv = pd.DataFrame(np.array(betas_iv)).rename(columns={0:'beta_1',1:'stock'}).set_index('stock')\n",
    "        all_betas_iv.append(df_betas_iv)\n",
    "        \n",
    "\n",
    "        rw_even = pd.DataFrame()   \n",
    "        for k in range(1,n*12,2):\n",
    "            rw_even = pd.concat([rw_even,df_MR_tmp.iloc[21*k:21*(k+1),:]])\n",
    "\n",
    "        betas_ev = []\n",
    "        # j is stock\n",
    "        for j in df_Ex_SR.columns:\n",
    "            df_index = df_Ex_SR_tmp.loc[rw_even.index,j].dropna().index\n",
    "            \n",
    "            if len(df_index) != 0:\n",
    "                b = list(ols_model.fit(df_MR_tmp.loc[df_index,:].values, df_Ex_SR_tmp.loc[df_index,j].values).coef_)\n",
    "                b.append(j)\n",
    "                betas_ev.append(b)\n",
    "        df_betas_ev = pd.DataFrame(np.array(betas_ev)).rename(columns={0:'beta_1',1:'stock'}).set_index('stock')\n",
    "        all_betas_ev.append(df_betas_ev)\n"
   ]
  },
  {
   "cell_type": "code",
   "execution_count": 38,
   "metadata": {
    "scrolled": true
   },
   "outputs": [
    {
     "data": {
      "text/html": [
       "<div>\n",
       "<style scoped>\n",
       "    .dataframe tbody tr th:only-of-type {\n",
       "        vertical-align: middle;\n",
       "    }\n",
       "\n",
       "    .dataframe tbody tr th {\n",
       "        vertical-align: top;\n",
       "    }\n",
       "\n",
       "    .dataframe thead th {\n",
       "        text-align: right;\n",
       "    }\n",
       "</style>\n",
       "<table border=\"1\" class=\"dataframe\">\n",
       "  <thead>\n",
       "    <tr style=\"text-align: right;\">\n",
       "      <th></th>\n",
       "      <th>beta_1</th>\n",
       "    </tr>\n",
       "    <tr>\n",
       "      <th>stock</th>\n",
       "      <th></th>\n",
       "    </tr>\n",
       "  </thead>\n",
       "  <tbody>\n",
       "    <tr>\n",
       "      <th>ABC.SJ.Equity</th>\n",
       "      <td>0.020752036332654343</td>\n",
       "    </tr>\n",
       "    <tr>\n",
       "      <th>ABI.SJ.Equity</th>\n",
       "      <td>0.1960923076113216</td>\n",
       "    </tr>\n",
       "    <tr>\n",
       "      <th>ABR.SJ.Equity</th>\n",
       "      <td>0.25699255481558286</td>\n",
       "    </tr>\n",
       "    <tr>\n",
       "      <th>ACL.SJ.Equity</th>\n",
       "      <td>1.097261797813182</td>\n",
       "    </tr>\n",
       "    <tr>\n",
       "      <th>ACP.SJ.Equity</th>\n",
       "      <td>-0.0360787349375643</td>\n",
       "    </tr>\n",
       "    <tr>\n",
       "      <th>...</th>\n",
       "      <td>...</td>\n",
       "    </tr>\n",
       "    <tr>\n",
       "      <th>WTC.SJ.Equity</th>\n",
       "      <td>0.4319673313768428</td>\n",
       "    </tr>\n",
       "    <tr>\n",
       "      <th>YRK.SJ.Equity</th>\n",
       "      <td>-0.0019644100899250823</td>\n",
       "    </tr>\n",
       "    <tr>\n",
       "      <th>ZPT.SJ.Equity</th>\n",
       "      <td>-0.019458893419979854</td>\n",
       "    </tr>\n",
       "    <tr>\n",
       "      <th>ZRR.SJ.Equity</th>\n",
       "      <td>0.1641413659846572</td>\n",
       "    </tr>\n",
       "    <tr>\n",
       "      <th>ZSA.SJ.Equity</th>\n",
       "      <td>0.07982134703931368</td>\n",
       "    </tr>\n",
       "  </tbody>\n",
       "</table>\n",
       "<p>421 rows × 1 columns</p>\n",
       "</div>"
      ],
      "text/plain": [
       "                               beta_1\n",
       "stock                                \n",
       "ABC.SJ.Equity    0.020752036332654343\n",
       "ABI.SJ.Equity      0.1960923076113216\n",
       "ABR.SJ.Equity     0.25699255481558286\n",
       "ACL.SJ.Equity       1.097261797813182\n",
       "ACP.SJ.Equity     -0.0360787349375643\n",
       "...                               ...\n",
       "WTC.SJ.Equity      0.4319673313768428\n",
       "YRK.SJ.Equity  -0.0019644100899250823\n",
       "ZPT.SJ.Equity   -0.019458893419979854\n",
       "ZRR.SJ.Equity      0.1641413659846572\n",
       "ZSA.SJ.Equity     0.07982134703931368\n",
       "\n",
       "[421 rows x 1 columns]"
      ]
     },
     "execution_count": 38,
     "metadata": {},
     "output_type": "execute_result"
    }
   ],
   "source": [
    "all_betas_ev[0]"
   ]
  },
  {
   "cell_type": "code",
   "execution_count": 39,
   "metadata": {},
   "outputs": [
    {
     "name": "stderr",
     "output_type": "stream",
     "text": [
      "100%|██████████| 4431/4431 [00:14<00:00, 298.37it/s]\n"
     ]
    }
   ],
   "source": [
    "all_lambdas = []\n",
    "# i is time\n",
    "\n",
    "df_Ex_SR_tmp_T = df_Ex_SR.iloc[rollingW:rollingW+periods*holding,:].T\n",
    "\n",
    "lambdas = []\n",
    "index_times = list(df_Ex_SR_tmp_T.columns)\n",
    "\n",
    "for k in tqdm(df_Ex_SR_tmp_T.columns):\n",
    "    \n",
    "    i = int(index_times.index(k) / holding)\n",
    "\n",
    "    df_index = ((all_betas_iv[i].index).intersection(all_betas_ev[i].index)).intersection(df_Ex_SR.loc[k,:].dropna().index)\n",
    "    \n",
    "    if len(df_index) != 0:\n",
    "        iv = IV2SLS(endog = df_Ex_SR_tmp_T.loc[df_index,k].values,exog = sm.add_constant(all_betas_ev[i].loc[df_index,:].values.astype(np.float64)),instrument = sm.add_constant(all_betas_iv[i].loc[df_index,:].values.astype(np.float64)))\n",
    "        res = iv.fit()\n",
    "        l = list(res.params)\n",
    "        lambdas.append(l)\n",
    "all_lambdas.append(pd.DataFrame(lambdas))"
   ]
  },
  {
   "cell_type": "code",
   "execution_count": 40,
   "metadata": {
    "scrolled": true
   },
   "outputs": [
    {
     "data": {
      "text/html": [
       "<div>\n",
       "<style scoped>\n",
       "    .dataframe tbody tr th:only-of-type {\n",
       "        vertical-align: middle;\n",
       "    }\n",
       "\n",
       "    .dataframe tbody tr th {\n",
       "        vertical-align: top;\n",
       "    }\n",
       "\n",
       "    .dataframe thead th {\n",
       "        text-align: right;\n",
       "    }\n",
       "</style>\n",
       "<table border=\"1\" class=\"dataframe\">\n",
       "  <thead>\n",
       "    <tr style=\"text-align: right;\">\n",
       "      <th></th>\n",
       "      <th>Intercept</th>\n",
       "      <th>MKT</th>\n",
       "    </tr>\n",
       "  </thead>\n",
       "  <tbody>\n",
       "    <tr>\n",
       "      <th>0</th>\n",
       "      <td>-0.004259</td>\n",
       "      <td>0.023874</td>\n",
       "    </tr>\n",
       "    <tr>\n",
       "      <th>1</th>\n",
       "      <td>0.004750</td>\n",
       "      <td>-0.010384</td>\n",
       "    </tr>\n",
       "    <tr>\n",
       "      <th>2</th>\n",
       "      <td>-0.000105</td>\n",
       "      <td>0.012696</td>\n",
       "    </tr>\n",
       "    <tr>\n",
       "      <th>3</th>\n",
       "      <td>-0.001016</td>\n",
       "      <td>0.012151</td>\n",
       "    </tr>\n",
       "    <tr>\n",
       "      <th>4</th>\n",
       "      <td>0.006704</td>\n",
       "      <td>-0.026393</td>\n",
       "    </tr>\n",
       "    <tr>\n",
       "      <th>...</th>\n",
       "      <td>...</td>\n",
       "      <td>...</td>\n",
       "    </tr>\n",
       "    <tr>\n",
       "      <th>4426</th>\n",
       "      <td>-0.000695</td>\n",
       "      <td>0.000513</td>\n",
       "    </tr>\n",
       "    <tr>\n",
       "      <th>4427</th>\n",
       "      <td>0.001149</td>\n",
       "      <td>0.001897</td>\n",
       "    </tr>\n",
       "    <tr>\n",
       "      <th>4428</th>\n",
       "      <td>-0.001743</td>\n",
       "      <td>0.012511</td>\n",
       "    </tr>\n",
       "    <tr>\n",
       "      <th>4429</th>\n",
       "      <td>0.004971</td>\n",
       "      <td>-0.003894</td>\n",
       "    </tr>\n",
       "    <tr>\n",
       "      <th>4430</th>\n",
       "      <td>-0.004354</td>\n",
       "      <td>-0.008946</td>\n",
       "    </tr>\n",
       "  </tbody>\n",
       "</table>\n",
       "<p>4431 rows × 2 columns</p>\n",
       "</div>"
      ],
      "text/plain": [
       "      Intercept       MKT\n",
       "0     -0.004259  0.023874\n",
       "1      0.004750 -0.010384\n",
       "2     -0.000105  0.012696\n",
       "3     -0.001016  0.012151\n",
       "4      0.006704 -0.026393\n",
       "...         ...       ...\n",
       "4426  -0.000695  0.000513\n",
       "4427   0.001149  0.001897\n",
       "4428  -0.001743  0.012511\n",
       "4429   0.004971 -0.003894\n",
       "4430  -0.004354 -0.008946\n",
       "\n",
       "[4431 rows x 2 columns]"
      ]
     },
     "execution_count": 40,
     "metadata": {},
     "output_type": "execute_result"
    }
   ],
   "source": [
    "all_lambdas[0].rename(columns={0:'Intercept',1:'MKT'})"
   ]
  },
  {
   "cell_type": "code",
   "execution_count": 41,
   "metadata": {},
   "outputs": [
    {
     "data": {
      "text/plain": [
       "array([-0.12126831, -0.21433428])"
      ]
     },
     "execution_count": 41,
     "metadata": {},
     "output_type": "execute_result"
    }
   ],
   "source": [
    "np.nanmean(all_lambdas[0], axis = 0)*100*21"
   ]
  },
  {
   "cell_type": "code",
   "execution_count": 42,
   "metadata": {},
   "outputs": [
    {
     "data": {
      "text/plain": [
       "Ttest_1sampResult(statistic=array([-0.76588406, -0.37784617]), pvalue=array([0.44378609, 0.70556297]))"
      ]
     },
     "execution_count": 42,
     "metadata": {},
     "output_type": "execute_result"
    }
   ],
   "source": [
    "stats.ttest_1samp(all_lambdas[0].dropna(), 0.0)"
   ]
  },
  {
   "cell_type": "code",
   "execution_count": 43,
   "metadata": {
    "scrolled": false
   },
   "outputs": [
    {
     "data": {
      "text/plain": [
       "array([-0.44484331, -0.23306974])"
      ]
     },
     "execution_count": 43,
     "metadata": {},
     "output_type": "execute_result"
    }
   ],
   "source": [
    "## New-West Adjustment for CAPM lambda\n",
    "all_lambdas[0].dropna().apply(lambda x: NW_ttest(ret = x, h0=0), axis=0).values"
   ]
  },
  {
   "cell_type": "markdown",
   "metadata": {},
   "source": [
    "### Adding Firm Characteristics"
   ]
  },
  {
   "cell_type": "code",
   "execution_count": 44,
   "metadata": {},
   "outputs": [],
   "source": [
    "df_ln_Size = pd.read_csv('df_ln_Size.csv')\n",
    "\n",
    "df_PE = pd.read_csv('df_std_PE.csv')\n",
    "\n",
    "df_ln_Size.Dates = df_ln_Size.Dates.apply(lambda x:x[:10])\n",
    "\n",
    "df_ln_Size.set_index('Dates',inplace=True)\n",
    "\n",
    "df_PE.Dates = df_PE.Dates.apply(lambda x:x[:10])\n",
    "\n",
    "df_PE.set_index('Dates',inplace=True)"
   ]
  },
  {
   "cell_type": "code",
   "execution_count": 45,
   "metadata": {},
   "outputs": [],
   "source": [
    "df_ln_Size = df_ln_Size.loc[df_Ex_SR.index,:]"
   ]
  },
  {
   "cell_type": "code",
   "execution_count": 46,
   "metadata": {},
   "outputs": [],
   "source": [
    "df_PE = df_PE.loc[df_Ex_SR.index,:]"
   ]
  },
  {
   "cell_type": "code",
   "execution_count": 47,
   "metadata": {
    "scrolled": false
   },
   "outputs": [
    {
     "data": {
      "text/plain": [
       "True"
      ]
     },
     "execution_count": 47,
     "metadata": {},
     "output_type": "execute_result"
    }
   ],
   "source": [
    "len(df_ln_Size)==len(df_PE)==len(df_Ex_SR)"
   ]
  },
  {
   "cell_type": "code",
   "execution_count": 48,
   "metadata": {},
   "outputs": [],
   "source": [
    "n = 3\n",
    "holding = 21\n",
    "rollingW = holding * n * 12\n",
    "lens = len(df_MR)\n",
    "periods = int((lens - rollingW) / holding) - 1"
   ]
  },
  {
   "cell_type": "code",
   "execution_count": 54,
   "metadata": {},
   "outputs": [
    {
     "name": "stderr",
     "output_type": "stream",
     "text": [
      "100%|██████████| 4431/4431 [00:21<00:00, 210.62it/s]\n"
     ]
    }
   ],
   "source": [
    "all_lambdas = []\n",
    "\n",
    "df_Ex_SR_tmp_T = df_Ex_SR.iloc[rollingW:rollingW+periods*holding,:].T\n",
    "df_ln_Size_tmp_T = df_ln_Size.iloc[rollingW:rollingW+periods*holding,:].T\n",
    "df_PE_tmp_T = df_PE.iloc[rollingW:rollingW+periods*holding,:].T\n",
    "\n",
    "lambdas = []\n",
    "\n",
    "index_times = list(df_Ex_SR_tmp_T.columns)\n",
    "\n",
    "for k in tqdm(df_Ex_SR_tmp_T.columns):\n",
    "    # k is time t in 3948 days\n",
    "    i = int(index_times.index(k) / holding)\n",
    "    # i is time T in 185 periods\n",
    "    # df_ln_Size_tmp_T.loc[:,k].replace(-np.inf,np.nan), the -inf in ln_Size data dataframe would interrupt the regression\n",
    "    df_index =  (((((all_betas_ev[i].index).intersection(all_betas_iv[i].index)).\\\n",
    "                 intersection(df_ln_Size_tmp_T.loc[:,k].replace(-np.inf,np.nan).dropna().index)).\\\n",
    "                 intersection(df_PE_tmp_T.loc[:,k].dropna().index)).\\\n",
    "                 intersection(df_Ex_SR_tmp_T.loc[:,index_times[index_times.index(k)]].dropna().index))\n",
    "    \n",
    "    if len(df_index) != 0:\n",
    "        iv = IV2SLS(endog = df_Ex_SR_tmp_T.loc[df_index,index_times[index_times.index(k)]].values,\\\n",
    "                    exog = sm.add_constant(pd.concat([all_betas_ev[i].loc[df_index,:],\\\n",
    "                                                      df_ln_Size_tmp_T.loc[df_index,k],\\\n",
    "                                                      df_PE_tmp_T.loc[df_index,k]],axis = 1).values.astype(np.float64)),\\\n",
    "                    instrument = sm.add_constant(pd.concat([all_betas_iv[i].loc[df_index,:],\\\n",
    "                                                           df_ln_Size_tmp_T.loc[df_index,k],\\\n",
    "                                                           df_PE_tmp_T.loc[df_index,k]],axis = 1).values.astype(np.float64)))\n",
    "        res = iv.fit()\n",
    "        l = list(res.params)     \n",
    "        lambdas.append(l)\n",
    "\n",
    "all_lambdas.append(pd.DataFrame(lambdas))"
   ]
  },
  {
   "cell_type": "code",
   "execution_count": 55,
   "metadata": {
    "scrolled": false
   },
   "outputs": [
    {
     "data": {
      "text/html": [
       "<div>\n",
       "<style scoped>\n",
       "    .dataframe tbody tr th:only-of-type {\n",
       "        vertical-align: middle;\n",
       "    }\n",
       "\n",
       "    .dataframe tbody tr th {\n",
       "        vertical-align: top;\n",
       "    }\n",
       "\n",
       "    .dataframe thead th {\n",
       "        text-align: right;\n",
       "    }\n",
       "</style>\n",
       "<table border=\"1\" class=\"dataframe\">\n",
       "  <thead>\n",
       "    <tr style=\"text-align: right;\">\n",
       "      <th></th>\n",
       "      <th>Intercept</th>\n",
       "      <th>MKT</th>\n",
       "      <th>Size</th>\n",
       "      <th>PE</th>\n",
       "    </tr>\n",
       "  </thead>\n",
       "  <tbody>\n",
       "    <tr>\n",
       "      <th>0</th>\n",
       "      <td>0.001411</td>\n",
       "      <td>0.029158</td>\n",
       "      <td>-0.000714</td>\n",
       "      <td>0.004820</td>\n",
       "    </tr>\n",
       "    <tr>\n",
       "      <th>1</th>\n",
       "      <td>0.010663</td>\n",
       "      <td>0.003985</td>\n",
       "      <td>-0.002076</td>\n",
       "      <td>-0.003550</td>\n",
       "    </tr>\n",
       "    <tr>\n",
       "      <th>2</th>\n",
       "      <td>0.012263</td>\n",
       "      <td>0.019755</td>\n",
       "      <td>-0.001836</td>\n",
       "      <td>0.000288</td>\n",
       "    </tr>\n",
       "    <tr>\n",
       "      <th>3</th>\n",
       "      <td>0.025302</td>\n",
       "      <td>0.021619</td>\n",
       "      <td>-0.003934</td>\n",
       "      <td>0.003830</td>\n",
       "    </tr>\n",
       "    <tr>\n",
       "      <th>4</th>\n",
       "      <td>-0.022587</td>\n",
       "      <td>-0.056710</td>\n",
       "      <td>0.004742</td>\n",
       "      <td>-0.001219</td>\n",
       "    </tr>\n",
       "    <tr>\n",
       "      <th>...</th>\n",
       "      <td>...</td>\n",
       "      <td>...</td>\n",
       "      <td>...</td>\n",
       "      <td>...</td>\n",
       "    </tr>\n",
       "    <tr>\n",
       "      <th>4426</th>\n",
       "      <td>-0.015723</td>\n",
       "      <td>-0.015075</td>\n",
       "      <td>0.002723</td>\n",
       "      <td>0.001520</td>\n",
       "    </tr>\n",
       "    <tr>\n",
       "      <th>4427</th>\n",
       "      <td>-0.017773</td>\n",
       "      <td>-0.001042</td>\n",
       "      <td>0.002171</td>\n",
       "      <td>-0.001693</td>\n",
       "    </tr>\n",
       "    <tr>\n",
       "      <th>4428</th>\n",
       "      <td>-0.021147</td>\n",
       "      <td>0.001717</td>\n",
       "      <td>0.002643</td>\n",
       "      <td>0.000090</td>\n",
       "    </tr>\n",
       "    <tr>\n",
       "      <th>4429</th>\n",
       "      <td>0.011261</td>\n",
       "      <td>-0.007113</td>\n",
       "      <td>-0.000308</td>\n",
       "      <td>0.000678</td>\n",
       "    </tr>\n",
       "    <tr>\n",
       "      <th>4430</th>\n",
       "      <td>-0.026048</td>\n",
       "      <td>-0.024406</td>\n",
       "      <td>0.003221</td>\n",
       "      <td>-0.004578</td>\n",
       "    </tr>\n",
       "  </tbody>\n",
       "</table>\n",
       "<p>4431 rows × 4 columns</p>\n",
       "</div>"
      ],
      "text/plain": [
       "      Intercept       MKT      Size        PE\n",
       "0      0.001411  0.029158 -0.000714  0.004820\n",
       "1      0.010663  0.003985 -0.002076 -0.003550\n",
       "2      0.012263  0.019755 -0.001836  0.000288\n",
       "3      0.025302  0.021619 -0.003934  0.003830\n",
       "4     -0.022587 -0.056710  0.004742 -0.001219\n",
       "...         ...       ...       ...       ...\n",
       "4426  -0.015723 -0.015075  0.002723  0.001520\n",
       "4427  -0.017773 -0.001042  0.002171 -0.001693\n",
       "4428  -0.021147  0.001717  0.002643  0.000090\n",
       "4429   0.011261 -0.007113 -0.000308  0.000678\n",
       "4430  -0.026048 -0.024406  0.003221 -0.004578\n",
       "\n",
       "[4431 rows x 4 columns]"
      ]
     },
     "execution_count": 55,
     "metadata": {},
     "output_type": "execute_result"
    }
   ],
   "source": [
    "all_lambdas[0].rename(columns={0:'Intercept',1:'MKT',2:'Size',3:'PE'})"
   ]
  },
  {
   "cell_type": "code",
   "execution_count": 56,
   "metadata": {
    "scrolled": true
   },
   "outputs": [
    {
     "data": {
      "text/plain": [
       "0   -0.802520\n",
       "1   -0.149548\n",
       "2    0.083902\n",
       "3    1.168367\n",
       "dtype: float64"
      ]
     },
     "execution_count": 56,
     "metadata": {},
     "output_type": "execute_result"
    }
   ],
   "source": [
    "np.mean(all_lambdas[0])*21*100"
   ]
  },
  {
   "cell_type": "code",
   "execution_count": 57,
   "metadata": {
    "scrolled": true
   },
   "outputs": [
    {
     "data": {
      "text/plain": [
       "array([-0.61944457, -0.04312719,  0.27545061, 13.32747049])"
      ]
     },
     "execution_count": 57,
     "metadata": {},
     "output_type": "execute_result"
    }
   ],
   "source": [
    "stats.ttest_1samp(all_lambdas[0].dropna(), 0.0)[0]"
   ]
  },
  {
   "cell_type": "code",
   "execution_count": 58,
   "metadata": {
    "scrolled": true
   },
   "outputs": [
    {
     "data": {
      "text/plain": [
       "array([-0.4066301 , -0.02855098,  0.18229397,  8.56600948])"
      ]
     },
     "execution_count": 58,
     "metadata": {},
     "output_type": "execute_result"
    }
   ],
   "source": [
    "## New-West Adjustment \n",
    "all_lambdas[0].dropna().apply(lambda x: NW_ttest(ret = x, h0=0), axis=0).values"
   ]
  },
  {
   "cell_type": "markdown",
   "metadata": {},
   "source": [
    "## FF3-Factor_IV"
   ]
  },
  {
   "cell_type": "code",
   "execution_count": 130,
   "metadata": {},
   "outputs": [],
   "source": [
    "ols_model = LinearRegression()"
   ]
  },
  {
   "cell_type": "code",
   "execution_count": 131,
   "metadata": {},
   "outputs": [],
   "source": [
    "df_FF3 = pd.read_csv('df_FF3.csv')"
   ]
  },
  {
   "cell_type": "code",
   "execution_count": 132,
   "metadata": {},
   "outputs": [],
   "source": [
    "df_FF3.Dates = df_FF3.Dates.apply(lambda x:x[:10])"
   ]
  },
  {
   "cell_type": "code",
   "execution_count": 133,
   "metadata": {},
   "outputs": [],
   "source": [
    "df_FF3.set_index('Dates',inplace=True)"
   ]
  },
  {
   "cell_type": "code",
   "execution_count": 134,
   "metadata": {},
   "outputs": [],
   "source": [
    "df_RF = pd.read_csv('df_RF.csv',index_col=0)\n",
    "df_SR = pd.read_csv('df_SR.csv',index_col=0)\n",
    "df_SR.index = df_SR.index.to_series().apply(lambda x:x[:10])"
   ]
  },
  {
   "cell_type": "code",
   "execution_count": 136,
   "metadata": {},
   "outputs": [],
   "source": [
    "df_Ex_SR = df_SR-df_RF.values"
   ]
  },
  {
   "cell_type": "code",
   "execution_count": 137,
   "metadata": {},
   "outputs": [],
   "source": [
    "df_Ex_SR = df_Ex_SR.loc[df_FF3.index,:]"
   ]
  },
  {
   "cell_type": "code",
   "execution_count": 138,
   "metadata": {},
   "outputs": [],
   "source": [
    "n = 3\n",
    "holding = 21\n",
    "rollingW = holding * n * 12\n",
    "lens = len(df_FF3)\n",
    "periods = int((lens - rollingW) / holding) - 1"
   ]
  },
  {
   "cell_type": "code",
   "execution_count": 139,
   "metadata": {
    "scrolled": true
   },
   "outputs": [
    {
     "name": "stderr",
     "output_type": "stream",
     "text": [
      "100%|██████████| 189/189 [04:18<00:00,  1.37s/it]\n"
     ]
    }
   ],
   "source": [
    "all_betas_ev = []\n",
    "all_betas_iv = []\n",
    "\n",
    "# i is time\n",
    "for i in tqdm(range(periods)):\n",
    "\n",
    "    df_FF3_tmp = df_FF3.iloc[i*holding:i*holding+rollingW,:]\n",
    "    df_Ex_SR_tmp = df_Ex_SR.iloc[i*holding:i*holding+rollingW,:]\n",
    "    \n",
    "\n",
    "    if (i + 1) % 2 == 1:\n",
    "        rw_odd = pd.DataFrame()\n",
    "        for k in range(0,n*12,2):\n",
    "            rw_odd = pd.concat([rw_odd,df_FF3_tmp.iloc[21*k:21*(k+1),:]])\n",
    "\n",
    "        betas_ev = []\n",
    "        # j is stock\n",
    "        for j in df_Ex_SR.columns:\n",
    "            df_index = df_Ex_SR_tmp.loc[rw_odd.index,j].dropna().index\n",
    "            \n",
    "            if len(df_index) != 0:\n",
    "                b = list(ols_model.fit(df_FF3_tmp.loc[df_index,:].values, df_Ex_SR_tmp.loc[df_index,j].values).coef_)\n",
    "                b.append(j)\n",
    "                betas_ev.append(b)\n",
    "        df_betas_ev = pd.DataFrame(np.array(betas_ev)).rename(columns={0:'beta_1',1:'beta_2',2:'beta_3',3:'stock'}).set_index('stock')\n",
    "        all_betas_ev.append(df_betas_ev)\n",
    "\n",
    "\n",
    "        rw_even = pd.DataFrame()   \n",
    "        for k in range(1,n*12,2):\n",
    "            rw_even = pd.concat([rw_even,df_FF3_tmp.iloc[21*k:21*(k+1),:]])\n",
    "        \n",
    "        betas_iv = []\n",
    "        # j is stock\n",
    "        for j in df_Ex_SR.columns:\n",
    "            df_index = df_Ex_SR_tmp.loc[rw_even.index,j].dropna().index\n",
    "            \n",
    "            if len(df_index) != 0:\n",
    "                b = list(ols_model.fit(df_FF3_tmp.loc[df_index,:].values, df_Ex_SR_tmp.loc[df_index,j].values).coef_)\n",
    "                b.append(j)\n",
    "                betas_iv.append(b)\n",
    "        df_betas_iv = pd.DataFrame(np.array(betas_iv)).rename(columns={0:'beta_1',1:'beta_2',2:'beta_3',3:'stock'}).set_index('stock')\n",
    "        all_betas_iv.append(df_betas_iv)\n",
    "\n",
    "\n",
    "    if (i + 1) % 2 == 0:\n",
    "        rw_odd = pd.DataFrame()\n",
    "        for k in range(0,n*12,2):\n",
    "            rw_odd = pd.concat([rw_odd,df_FF3_tmp.iloc[21*k:21*(k+1),:]])\n",
    "\n",
    "        betas_iv = []\n",
    "        # j is stock\n",
    "        for j in df_Ex_SR.columns:\n",
    "            df_index = df_Ex_SR_tmp.loc[rw_odd.index,j].dropna().index\n",
    "            \n",
    "            if len(df_index) != 0:\n",
    "                b = list(ols_model.fit(df_FF3_tmp.loc[df_index,:].values, df_Ex_SR_tmp.loc[df_index,j].values).coef_)\n",
    "                b.append(j)\n",
    "                betas_iv.append(b)\n",
    "        df_betas_iv = pd.DataFrame(np.array(betas_iv)).rename(columns={0:'beta_1',1:'beta_2',2:'beta_3',3:'stock'}).set_index('stock')\n",
    "        all_betas_iv.append(df_betas_iv)\n",
    "        \n",
    "\n",
    "        rw_even = pd.DataFrame()   \n",
    "        for k in range(1,n*12,2):\n",
    "            rw_even = pd.concat([rw_even,df_FF3_tmp.iloc[21*k:21*(k+1),:]])\n",
    "\n",
    "        betas_ev = []\n",
    "        # j is stock\n",
    "        for j in df_Ex_SR.columns:\n",
    "            df_index = df_Ex_SR_tmp.loc[rw_even.index,j].dropna().index\n",
    "            \n",
    "            if len(df_index) != 0:\n",
    "                b = list(ols_model.fit(df_FF3_tmp.loc[df_index,:].values, df_Ex_SR_tmp.loc[df_index,j].values).coef_)\n",
    "                b.append(j)\n",
    "                betas_ev.append(b)\n",
    "        df_betas_ev = pd.DataFrame(np.array(betas_ev)).rename(columns={0:'beta_1',1:'beta_2',2:'beta_3',3:'stock'}).set_index('stock')\n",
    "        all_betas_ev.append(df_betas_ev)\n",
    "\n"
   ]
  },
  {
   "cell_type": "code",
   "execution_count": 39,
   "metadata": {
    "scrolled": true
   },
   "outputs": [
    {
     "data": {
      "text/html": [
       "<div>\n",
       "<style scoped>\n",
       "    .dataframe tbody tr th:only-of-type {\n",
       "        vertical-align: middle;\n",
       "    }\n",
       "\n",
       "    .dataframe tbody tr th {\n",
       "        vertical-align: top;\n",
       "    }\n",
       "\n",
       "    .dataframe thead th {\n",
       "        text-align: right;\n",
       "    }\n",
       "</style>\n",
       "<table border=\"1\" class=\"dataframe\">\n",
       "  <thead>\n",
       "    <tr style=\"text-align: right;\">\n",
       "      <th></th>\n",
       "      <th>beta_1</th>\n",
       "      <th>beta_2</th>\n",
       "      <th>beta_3</th>\n",
       "    </tr>\n",
       "    <tr>\n",
       "      <th>stock</th>\n",
       "      <th></th>\n",
       "      <th></th>\n",
       "      <th></th>\n",
       "    </tr>\n",
       "  </thead>\n",
       "  <tbody>\n",
       "    <tr>\n",
       "      <th>ABC.SJ.Equity</th>\n",
       "      <td>-0.3450479103402</td>\n",
       "      <td>-0.9013937856205195</td>\n",
       "      <td>0.07037902558738829</td>\n",
       "    </tr>\n",
       "    <tr>\n",
       "      <th>ABI.SJ.Equity</th>\n",
       "      <td>0.24442555773531263</td>\n",
       "      <td>0.015567121061726346</td>\n",
       "      <td>-0.01682438515002521</td>\n",
       "    </tr>\n",
       "    <tr>\n",
       "      <th>ABR.SJ.Equity</th>\n",
       "      <td>0.12202032625933008</td>\n",
       "      <td>0.09239379104161108</td>\n",
       "      <td>0.10318923571716765</td>\n",
       "    </tr>\n",
       "    <tr>\n",
       "      <th>ACL.SJ.Equity</th>\n",
       "      <td>1.068714488205904</td>\n",
       "      <td>1.2858159343408646</td>\n",
       "      <td>0.15535498914098245</td>\n",
       "    </tr>\n",
       "    <tr>\n",
       "      <th>ACP.SJ.Equity</th>\n",
       "      <td>-0.056898803620166936</td>\n",
       "      <td>0.03514691634035487</td>\n",
       "      <td>0.10734478653399498</td>\n",
       "    </tr>\n",
       "    <tr>\n",
       "      <th>...</th>\n",
       "      <td>...</td>\n",
       "      <td>...</td>\n",
       "      <td>...</td>\n",
       "    </tr>\n",
       "    <tr>\n",
       "      <th>WTC.SJ.Equity</th>\n",
       "      <td>0.08731394006476963</td>\n",
       "      <td>-0.22690505911023556</td>\n",
       "      <td>-0.04665498693566708</td>\n",
       "    </tr>\n",
       "    <tr>\n",
       "      <th>YRK.SJ.Equity</th>\n",
       "      <td>-0.0640646926233111</td>\n",
       "      <td>-0.028294456627727872</td>\n",
       "      <td>0.06842958205121522</td>\n",
       "    </tr>\n",
       "    <tr>\n",
       "      <th>ZPT.SJ.Equity</th>\n",
       "      <td>0.15755587268066448</td>\n",
       "      <td>-0.3008526663092845</td>\n",
       "      <td>0.25989708660932814</td>\n",
       "    </tr>\n",
       "    <tr>\n",
       "      <th>ZRR.SJ.Equity</th>\n",
       "      <td>-0.03180208366329865</td>\n",
       "      <td>1.1580198922741012</td>\n",
       "      <td>-0.8364768035242083</td>\n",
       "    </tr>\n",
       "    <tr>\n",
       "      <th>ZSA.SJ.Equity</th>\n",
       "      <td>-0.03466175419180099</td>\n",
       "      <td>-0.0197598450830574</td>\n",
       "      <td>-0.011096048115057452</td>\n",
       "    </tr>\n",
       "  </tbody>\n",
       "</table>\n",
       "<p>522 rows × 3 columns</p>\n",
       "</div>"
      ],
      "text/plain": [
       "                              beta_1                 beta_2  \\\n",
       "stock                                                         \n",
       "ABC.SJ.Equity       -0.3450479103402    -0.9013937856205195   \n",
       "ABI.SJ.Equity    0.24442555773531263   0.015567121061726346   \n",
       "ABR.SJ.Equity    0.12202032625933008    0.09239379104161108   \n",
       "ACL.SJ.Equity      1.068714488205904     1.2858159343408646   \n",
       "ACP.SJ.Equity  -0.056898803620166936    0.03514691634035487   \n",
       "...                              ...                    ...   \n",
       "WTC.SJ.Equity    0.08731394006476963   -0.22690505911023556   \n",
       "YRK.SJ.Equity    -0.0640646926233111  -0.028294456627727872   \n",
       "ZPT.SJ.Equity    0.15755587268066448    -0.3008526663092845   \n",
       "ZRR.SJ.Equity   -0.03180208366329865     1.1580198922741012   \n",
       "ZSA.SJ.Equity   -0.03466175419180099    -0.0197598450830574   \n",
       "\n",
       "                              beta_3  \n",
       "stock                                 \n",
       "ABC.SJ.Equity    0.07037902558738829  \n",
       "ABI.SJ.Equity   -0.01682438515002521  \n",
       "ABR.SJ.Equity    0.10318923571716765  \n",
       "ACL.SJ.Equity    0.15535498914098245  \n",
       "ACP.SJ.Equity    0.10734478653399498  \n",
       "...                              ...  \n",
       "WTC.SJ.Equity   -0.04665498693566708  \n",
       "YRK.SJ.Equity    0.06842958205121522  \n",
       "ZPT.SJ.Equity    0.25989708660932814  \n",
       "ZRR.SJ.Equity    -0.8364768035242083  \n",
       "ZSA.SJ.Equity  -0.011096048115057452  \n",
       "\n",
       "[522 rows x 3 columns]"
      ]
     },
     "execution_count": 39,
     "metadata": {},
     "output_type": "execute_result"
    }
   ],
   "source": [
    "all_betas_ev[0]"
   ]
  },
  {
   "cell_type": "code",
   "execution_count": 147,
   "metadata": {},
   "outputs": [
    {
     "name": "stderr",
     "output_type": "stream",
     "text": [
      "100%|██████████| 3969/3969 [00:15<00:00, 260.09it/s]\n"
     ]
    }
   ],
   "source": [
    "all_lambdas = []\n",
    "# i is time in periods\n",
    "\n",
    "df_Ex_SR_tmp_T = df_Ex_SR.iloc[rollingW:rollingW+periods*holding,:].T\n",
    "\n",
    "lambdas = []\n",
    "index_times = list(df_Ex_SR_tmp_T.columns)\n",
    "\n",
    "for k in tqdm(df_Ex_SR_tmp_T.columns):\n",
    "  #k is cross-sectional stock label  \n",
    "    i = int(index_times.index(k) / holding)\n",
    "\n",
    "    df_index = ((all_betas_iv[i].index).intersection(all_betas_ev[i].index)).intersection(df_Ex_SR.loc[k,:].dropna().index)\n",
    "    \n",
    "    if len(df_index) != 0:\n",
    "        iv = IV2SLS(endog = df_Ex_SR_tmp_T.loc[df_index,k].values,exog = sm.add_constant(all_betas_ev[i].loc[df_index,:].values.astype(np.float64)),instrument = sm.add_constant(all_betas_iv[i].loc[df_index,:].values.astype(np.float64)))\n",
    "        res = iv.fit()\n",
    "        l = list(res.params)\n",
    "        lambdas.append(l)\n",
    "        \n",
    "all_lambdas.append(pd.DataFrame(lambdas))"
   ]
  },
  {
   "cell_type": "code",
   "execution_count": 148,
   "metadata": {},
   "outputs": [
    {
     "data": {
      "text/html": [
       "<div>\n",
       "<style scoped>\n",
       "    .dataframe tbody tr th:only-of-type {\n",
       "        vertical-align: middle;\n",
       "    }\n",
       "\n",
       "    .dataframe tbody tr th {\n",
       "        vertical-align: top;\n",
       "    }\n",
       "\n",
       "    .dataframe thead th {\n",
       "        text-align: right;\n",
       "    }\n",
       "</style>\n",
       "<table border=\"1\" class=\"dataframe\">\n",
       "  <thead>\n",
       "    <tr style=\"text-align: right;\">\n",
       "      <th></th>\n",
       "      <th>Intercept</th>\n",
       "      <th>MKT</th>\n",
       "      <th>SMB</th>\n",
       "      <th>HML</th>\n",
       "    </tr>\n",
       "  </thead>\n",
       "  <tbody>\n",
       "    <tr>\n",
       "      <th>0</th>\n",
       "      <td>0.001171</td>\n",
       "      <td>0.011758</td>\n",
       "      <td>-0.026516</td>\n",
       "      <td>0.002814</td>\n",
       "    </tr>\n",
       "    <tr>\n",
       "      <th>1</th>\n",
       "      <td>-0.000303</td>\n",
       "      <td>0.008859</td>\n",
       "      <td>-0.017378</td>\n",
       "      <td>0.008799</td>\n",
       "    </tr>\n",
       "    <tr>\n",
       "      <th>2</th>\n",
       "      <td>-0.001638</td>\n",
       "      <td>-0.002327</td>\n",
       "      <td>-0.036472</td>\n",
       "      <td>0.059885</td>\n",
       "    </tr>\n",
       "    <tr>\n",
       "      <th>3</th>\n",
       "      <td>0.002607</td>\n",
       "      <td>-0.026474</td>\n",
       "      <td>0.048481</td>\n",
       "      <td>0.002946</td>\n",
       "    </tr>\n",
       "    <tr>\n",
       "      <th>4</th>\n",
       "      <td>-0.000422</td>\n",
       "      <td>-0.008639</td>\n",
       "      <td>-0.007423</td>\n",
       "      <td>0.012311</td>\n",
       "    </tr>\n",
       "    <tr>\n",
       "      <th>...</th>\n",
       "      <td>...</td>\n",
       "      <td>...</td>\n",
       "      <td>...</td>\n",
       "      <td>...</td>\n",
       "    </tr>\n",
       "    <tr>\n",
       "      <th>3964</th>\n",
       "      <td>-0.001128</td>\n",
       "      <td>0.004781</td>\n",
       "      <td>0.001644</td>\n",
       "      <td>0.011840</td>\n",
       "    </tr>\n",
       "    <tr>\n",
       "      <th>3965</th>\n",
       "      <td>-0.001849</td>\n",
       "      <td>-0.006416</td>\n",
       "      <td>0.000613</td>\n",
       "      <td>-0.002754</td>\n",
       "    </tr>\n",
       "    <tr>\n",
       "      <th>3966</th>\n",
       "      <td>0.000375</td>\n",
       "      <td>0.006903</td>\n",
       "      <td>0.006874</td>\n",
       "      <td>-0.019319</td>\n",
       "    </tr>\n",
       "    <tr>\n",
       "      <th>3967</th>\n",
       "      <td>-0.000252</td>\n",
       "      <td>-0.008535</td>\n",
       "      <td>-0.002335</td>\n",
       "      <td>-0.002201</td>\n",
       "    </tr>\n",
       "    <tr>\n",
       "      <th>3968</th>\n",
       "      <td>-0.000297</td>\n",
       "      <td>0.008980</td>\n",
       "      <td>0.004252</td>\n",
       "      <td>0.010953</td>\n",
       "    </tr>\n",
       "  </tbody>\n",
       "</table>\n",
       "<p>3963 rows × 4 columns</p>\n",
       "</div>"
      ],
      "text/plain": [
       "      Intercept       MKT       SMB       HML\n",
       "0      0.001171  0.011758 -0.026516  0.002814\n",
       "1     -0.000303  0.008859 -0.017378  0.008799\n",
       "2     -0.001638 -0.002327 -0.036472  0.059885\n",
       "3      0.002607 -0.026474  0.048481  0.002946\n",
       "4     -0.000422 -0.008639 -0.007423  0.012311\n",
       "...         ...       ...       ...       ...\n",
       "3964  -0.001128  0.004781  0.001644  0.011840\n",
       "3965  -0.001849 -0.006416  0.000613 -0.002754\n",
       "3966   0.000375  0.006903  0.006874 -0.019319\n",
       "3967  -0.000252 -0.008535 -0.002335 -0.002201\n",
       "3968  -0.000297  0.008980  0.004252  0.010953\n",
       "\n",
       "[3963 rows x 4 columns]"
      ]
     },
     "execution_count": 148,
     "metadata": {},
     "output_type": "execute_result"
    }
   ],
   "source": [
    "# One of the issues that often arise with IV estimators is that for any finite stock amount N, \n",
    "# there is a very small change that the cross-products of the matrixes of (B_IV ) and (B_EV ) \n",
    "# might be singular, which will cause the parameter estimates too large to be trusted. \n",
    "# To avoid this potential problem in finite samples, the monthly risk premium estimates that deviate \n",
    "# six or more standard deviations of the corresponding factor realizations from their sample average as missing values. \n",
    "# For each column, it first computes the Z-score of each value in the column, relative to the column mean and standard deviation.\n",
    "# It then takes the absolute Z-score because the direction does not matter, only if it is below the threshold.\n",
    "# all(axis=1) ensures that for each row, all column satisfy the constraint.\n",
    "# Finally, the result of this condition is used to index the dataframe.\n",
    "all_lambdas[0] = all_lambdas[0][(np.abs((all_lambdas[0]-all_lambdas[0].mean())/all_lambdas[0].std()) <= 6).all(axis=1)]\n",
    "all_lambdas[0].rename(columns={0:'Intercept',1:'MKT',2:'SMB',3:'HML'})"
   ]
  },
  {
   "cell_type": "code",
   "execution_count": 149,
   "metadata": {},
   "outputs": [
    {
     "data": {
      "text/plain": [
       "0   -0.374266\n",
       "1    0.428978\n",
       "2   -2.642724\n",
       "3    1.622151\n",
       "dtype: float64"
      ]
     },
     "execution_count": 149,
     "metadata": {},
     "output_type": "execute_result"
    }
   ],
   "source": [
    "np.mean(all_lambdas[0])*21*100"
   ]
  },
  {
   "cell_type": "code",
   "execution_count": 150,
   "metadata": {
    "scrolled": false
   },
   "outputs": [
    {
     "data": {
      "text/plain": [
       "array([-3.42008208,  0.6228337 , -0.96780872,  0.84194774])"
      ]
     },
     "execution_count": 150,
     "metadata": {},
     "output_type": "execute_result"
    }
   ],
   "source": [
    "stats.ttest_1samp(all_lambdas[0].dropna(), 0.0)[0]"
   ]
  },
  {
   "cell_type": "code",
   "execution_count": 151,
   "metadata": {},
   "outputs": [
    {
     "data": {
      "text/plain": [
       "array([-2.15280821,  0.39371979, -0.61724742,  0.54224493])"
      ]
     },
     "execution_count": 151,
     "metadata": {},
     "output_type": "execute_result"
    }
   ],
   "source": [
    "all_lambdas[0].dropna().apply(lambda x: NW_ttest(ret = x, h0=0), axis=0).values"
   ]
  },
  {
   "cell_type": "markdown",
   "metadata": {},
   "source": [
    "### Adding firm characteristics as control variables"
   ]
  },
  {
   "cell_type": "code",
   "execution_count": 45,
   "metadata": {},
   "outputs": [],
   "source": [
    "ols_model = LinearRegression()"
   ]
  },
  {
   "cell_type": "code",
   "execution_count": 46,
   "metadata": {},
   "outputs": [],
   "source": [
    "df_FF3 = pd.read_csv('df_FF3.csv')"
   ]
  },
  {
   "cell_type": "code",
   "execution_count": 47,
   "metadata": {},
   "outputs": [],
   "source": [
    "df_FF3.Dates = df_FF3.Dates.apply(lambda x:x[:10])"
   ]
  },
  {
   "cell_type": "code",
   "execution_count": 48,
   "metadata": {},
   "outputs": [],
   "source": [
    "df_FF3.set_index('Dates',inplace=True)"
   ]
  },
  {
   "cell_type": "code",
   "execution_count": 49,
   "metadata": {},
   "outputs": [],
   "source": [
    "df_RF = pd.read_csv('df_RF.csv',index_col=0)\n",
    "df_SR = pd.read_csv('df_SR.csv',index_col=0)\n",
    "df_SR.index = df_SR.index.to_series().apply(lambda x:x[:10])"
   ]
  },
  {
   "cell_type": "code",
   "execution_count": 50,
   "metadata": {},
   "outputs": [],
   "source": [
    "# df_SR = df_SR.replace(0,np.nan)"
   ]
  },
  {
   "cell_type": "code",
   "execution_count": 51,
   "metadata": {},
   "outputs": [],
   "source": [
    "df_Ex_SR = df_SR-df_RF.values"
   ]
  },
  {
   "cell_type": "code",
   "execution_count": 52,
   "metadata": {},
   "outputs": [],
   "source": [
    "df_Ex_SR = df_Ex_SR.loc[df_FF3.index,:]"
   ]
  },
  {
   "cell_type": "code",
   "execution_count": 53,
   "metadata": {},
   "outputs": [],
   "source": [
    "df_ln_Size = pd.read_csv('df_ln_Size.csv')\n",
    "\n",
    "df_PE = pd.read_csv('df_std_PE.csv')\n",
    "\n",
    "df_ln_Size.Dates = df_ln_Size.Dates.apply(lambda x:x[:10])\n",
    "\n",
    "df_ln_Size.set_index('Dates',inplace=True)\n",
    "\n",
    "df_PE.Dates = df_PE.Dates.apply(lambda x:x[:10])\n",
    "\n",
    "df_PE.set_index('Dates',inplace=True)"
   ]
  },
  {
   "cell_type": "code",
   "execution_count": 54,
   "metadata": {},
   "outputs": [],
   "source": [
    "df_ln_Size = df_ln_Size.loc[df_Ex_SR.index,:]"
   ]
  },
  {
   "cell_type": "code",
   "execution_count": 55,
   "metadata": {},
   "outputs": [],
   "source": [
    "df_PE = df_PE.loc[df_Ex_SR.index,:]"
   ]
  },
  {
   "cell_type": "code",
   "execution_count": 56,
   "metadata": {
    "scrolled": true
   },
   "outputs": [
    {
     "data": {
      "text/plain": [
       "True"
      ]
     },
     "execution_count": 56,
     "metadata": {},
     "output_type": "execute_result"
    }
   ],
   "source": [
    "len(df_ln_Size)==len(df_PE)==len(df_Ex_SR)==len(df_FF3)"
   ]
  },
  {
   "cell_type": "code",
   "execution_count": 57,
   "metadata": {},
   "outputs": [],
   "source": [
    "n = 3\n",
    "holding = 21\n",
    "rollingW = holding * n * 12\n",
    "lens = len(df_FF3)\n",
    "periods = int((lens - rollingW) / holding) - 1"
   ]
  },
  {
   "cell_type": "code",
   "execution_count": 58,
   "metadata": {},
   "outputs": [
    {
     "name": "stderr",
     "output_type": "stream",
     "text": [
      "100%|██████████| 3969/3969 [00:22<00:00, 178.49it/s]\n"
     ]
    }
   ],
   "source": [
    "all_lambdas = []\n",
    "\n",
    "df_Ex_SR_tmp_T = df_Ex_SR.iloc[rollingW:rollingW+periods*holding,:].T\n",
    "df_ln_Size_tmp_T = df_ln_Size.iloc[rollingW:rollingW+periods*holding,:].T\n",
    "df_PE_tmp_T = df_PE.iloc[rollingW:rollingW+periods*holding,:].T\n",
    "\n",
    "lambdas = []\n",
    "\n",
    "index_times = list(df_Ex_SR_tmp_T.columns)\n",
    "\n",
    "for k in tqdm(df_Ex_SR_tmp_T.columns):\n",
    "    # k is time t in 3948 days\n",
    "    i = int(index_times.index(k) / holding)\n",
    "    # i is time T in 185 periods\n",
    "    # df_ln_Size_tmp_T.loc[:,k].replace(-np.inf,np.nan), the -inf in ln_Size data dataframe would interrupt the regression\n",
    "    df_index =  (((((all_betas_ev[i].index).intersection(all_betas_iv[i].index)).\\\n",
    "                 intersection(df_ln_Size_tmp_T.loc[:,k].replace(-np.inf,np.nan).dropna().index)).\\\n",
    "                 intersection(df_PE_tmp_T.loc[:,k].dropna().index)).\\\n",
    "                 intersection(df_Ex_SR_tmp_T.loc[:,index_times[index_times.index(k)]].dropna().index))\n",
    "    \n",
    "    if len(df_index) != 0:\n",
    "        iv = IV2SLS(endog = df_Ex_SR_tmp_T.loc[df_index,index_times[index_times.index(k)]].values,\\\n",
    "                    exog = sm.add_constant(pd.concat([all_betas_ev[i].loc[df_index,:],\\\n",
    "                                                      df_ln_Size_tmp_T.loc[df_index,k],\\\n",
    "                                                      df_PE_tmp_T.loc[df_index,k]],axis = 1).values.astype(np.float64)),\\\n",
    "                    instrument = sm.add_constant(pd.concat([all_betas_iv[i].loc[df_index,:],\\\n",
    "                                                           df_ln_Size_tmp_T.loc[df_index,k],\\\n",
    "                                                           df_PE_tmp_T.loc[df_index,k]],axis = 1).values.astype(np.float64)))\n",
    "        res = iv.fit()\n",
    "        l = list(res.params)     \n",
    "        lambdas.append(l)\n",
    "\n",
    "all_lambdas.append(pd.DataFrame(lambdas))"
   ]
  },
  {
   "cell_type": "code",
   "execution_count": 59,
   "metadata": {
    "scrolled": true
   },
   "outputs": [
    {
     "data": {
      "text/html": [
       "<div>\n",
       "<style scoped>\n",
       "    .dataframe tbody tr th:only-of-type {\n",
       "        vertical-align: middle;\n",
       "    }\n",
       "\n",
       "    .dataframe tbody tr th {\n",
       "        vertical-align: top;\n",
       "    }\n",
       "\n",
       "    .dataframe thead th {\n",
       "        text-align: right;\n",
       "    }\n",
       "</style>\n",
       "<table border=\"1\" class=\"dataframe\">\n",
       "  <thead>\n",
       "    <tr style=\"text-align: right;\">\n",
       "      <th></th>\n",
       "      <th>Intercept</th>\n",
       "      <th>MKT</th>\n",
       "      <th>SMB</th>\n",
       "      <th>HML</th>\n",
       "      <th>Size</th>\n",
       "      <th>PE</th>\n",
       "    </tr>\n",
       "  </thead>\n",
       "  <tbody>\n",
       "    <tr>\n",
       "      <th>0</th>\n",
       "      <td>0.010727</td>\n",
       "      <td>0.040954</td>\n",
       "      <td>-0.031282</td>\n",
       "      <td>-0.001213</td>\n",
       "      <td>-0.002458</td>\n",
       "      <td>-0.004101</td>\n",
       "    </tr>\n",
       "    <tr>\n",
       "      <th>1</th>\n",
       "      <td>0.007573</td>\n",
       "      <td>0.024132</td>\n",
       "      <td>-0.015205</td>\n",
       "      <td>0.008035</td>\n",
       "      <td>-0.001671</td>\n",
       "      <td>-0.001707</td>\n",
       "    </tr>\n",
       "    <tr>\n",
       "      <th>2</th>\n",
       "      <td>0.014516</td>\n",
       "      <td>-0.020141</td>\n",
       "      <td>0.025564</td>\n",
       "      <td>0.098764</td>\n",
       "      <td>-0.002241</td>\n",
       "      <td>-0.001682</td>\n",
       "    </tr>\n",
       "    <tr>\n",
       "      <th>3</th>\n",
       "      <td>-0.003868</td>\n",
       "      <td>-0.013269</td>\n",
       "      <td>0.013271</td>\n",
       "      <td>-0.017983</td>\n",
       "      <td>0.000987</td>\n",
       "      <td>0.000624</td>\n",
       "    </tr>\n",
       "    <tr>\n",
       "      <th>4</th>\n",
       "      <td>-0.012248</td>\n",
       "      <td>-0.042732</td>\n",
       "      <td>0.007130</td>\n",
       "      <td>-0.006637</td>\n",
       "      <td>0.002691</td>\n",
       "      <td>0.003154</td>\n",
       "    </tr>\n",
       "    <tr>\n",
       "      <th>...</th>\n",
       "      <td>...</td>\n",
       "      <td>...</td>\n",
       "      <td>...</td>\n",
       "      <td>...</td>\n",
       "      <td>...</td>\n",
       "      <td>...</td>\n",
       "    </tr>\n",
       "    <tr>\n",
       "      <th>3964</th>\n",
       "      <td>0.000740</td>\n",
       "      <td>0.009143</td>\n",
       "      <td>0.001142</td>\n",
       "      <td>0.008860</td>\n",
       "      <td>-0.000383</td>\n",
       "      <td>0.000552</td>\n",
       "    </tr>\n",
       "    <tr>\n",
       "      <th>3965</th>\n",
       "      <td>-0.003504</td>\n",
       "      <td>-0.009925</td>\n",
       "      <td>0.000281</td>\n",
       "      <td>-0.003759</td>\n",
       "      <td>0.000322</td>\n",
       "      <td>0.000756</td>\n",
       "    </tr>\n",
       "    <tr>\n",
       "      <th>3966</th>\n",
       "      <td>-0.000196</td>\n",
       "      <td>0.004987</td>\n",
       "      <td>0.005892</td>\n",
       "      <td>-0.010893</td>\n",
       "      <td>0.000189</td>\n",
       "      <td>0.001550</td>\n",
       "    </tr>\n",
       "    <tr>\n",
       "      <th>3967</th>\n",
       "      <td>-0.003676</td>\n",
       "      <td>-0.013189</td>\n",
       "      <td>-0.001745</td>\n",
       "      <td>-0.003972</td>\n",
       "      <td>0.000517</td>\n",
       "      <td>-0.001334</td>\n",
       "    </tr>\n",
       "    <tr>\n",
       "      <th>3968</th>\n",
       "      <td>-0.001396</td>\n",
       "      <td>0.004321</td>\n",
       "      <td>0.005116</td>\n",
       "      <td>0.008307</td>\n",
       "      <td>0.000235</td>\n",
       "      <td>0.001597</td>\n",
       "    </tr>\n",
       "  </tbody>\n",
       "</table>\n",
       "<p>3969 rows × 6 columns</p>\n",
       "</div>"
      ],
      "text/plain": [
       "      Intercept       MKT       SMB       HML      Size        PE\n",
       "0      0.010727  0.040954 -0.031282 -0.001213 -0.002458 -0.004101\n",
       "1      0.007573  0.024132 -0.015205  0.008035 -0.001671 -0.001707\n",
       "2      0.014516 -0.020141  0.025564  0.098764 -0.002241 -0.001682\n",
       "3     -0.003868 -0.013269  0.013271 -0.017983  0.000987  0.000624\n",
       "4     -0.012248 -0.042732  0.007130 -0.006637  0.002691  0.003154\n",
       "...         ...       ...       ...       ...       ...       ...\n",
       "3964   0.000740  0.009143  0.001142  0.008860 -0.000383  0.000552\n",
       "3965  -0.003504 -0.009925  0.000281 -0.003759  0.000322  0.000756\n",
       "3966  -0.000196  0.004987  0.005892 -0.010893  0.000189  0.001550\n",
       "3967  -0.003676 -0.013189 -0.001745 -0.003972  0.000517 -0.001334\n",
       "3968  -0.001396  0.004321  0.005116  0.008307  0.000235  0.001597\n",
       "\n",
       "[3969 rows x 6 columns]"
      ]
     },
     "execution_count": 59,
     "metadata": {},
     "output_type": "execute_result"
    }
   ],
   "source": [
    "all_lambdas[0].rename(columns={0:'Intercept',1:'MKT',2:'SMB',3:'HML',4:'Size',5:'PE'})"
   ]
  },
  {
   "cell_type": "code",
   "execution_count": 60,
   "metadata": {},
   "outputs": [
    {
     "data": {
      "text/plain": [
       "0   -0.731730\n",
       "1   -0.818486\n",
       "2   -0.161365\n",
       "3   -0.114729\n",
       "4    0.095019\n",
       "5    0.983848\n",
       "dtype: float64"
      ]
     },
     "execution_count": 60,
     "metadata": {},
     "output_type": "execute_result"
    }
   ],
   "source": [
    "np.mean(all_lambdas[0].dropna())*21*100"
   ]
  },
  {
   "cell_type": "code",
   "execution_count": 61,
   "metadata": {
    "scrolled": true
   },
   "outputs": [
    {
     "data": {
      "text/plain": [
       "Ttest_1sampResult(statistic=array([-3.98043314, -1.28125845, -0.2580833 , -0.12731967,  2.61797765,\n",
       "       13.86692867]), pvalue=array([7.00199727e-05, 2.00177773e-01, 7.96356004e-01, 8.98693848e-01,\n",
       "       8.87886588e-03, 9.83045453e-43]))"
      ]
     },
     "execution_count": 61,
     "metadata": {},
     "output_type": "execute_result"
    }
   ],
   "source": [
    "stats.ttest_1samp(all_lambdas[0].dropna(), 0.0)"
   ]
  },
  {
   "cell_type": "code",
   "execution_count": 62,
   "metadata": {
    "scrolled": true
   },
   "outputs": [
    {
     "data": {
      "text/plain": [
       "array([-2.54141592, -0.79435453, -0.16660847, -0.08317149,  1.67050677,\n",
       "        8.78646286])"
      ]
     },
     "execution_count": 62,
     "metadata": {},
     "output_type": "execute_result"
    }
   ],
   "source": [
    "all_lambdas[0].dropna().apply(lambda x: NW_ttest(ret = x, h0=0), axis=0).values"
   ]
  },
  {
   "cell_type": "markdown",
   "metadata": {},
   "source": [
    "## Carhart4-Factor_IV"
   ]
  },
  {
   "cell_type": "code",
   "execution_count": 63,
   "metadata": {},
   "outputs": [],
   "source": [
    "ols_model = LinearRegression()"
   ]
  },
  {
   "cell_type": "code",
   "execution_count": 64,
   "metadata": {},
   "outputs": [],
   "source": [
    "df_FF4 = pd.read_csv('df_FF4.csv')"
   ]
  },
  {
   "cell_type": "code",
   "execution_count": 65,
   "metadata": {},
   "outputs": [],
   "source": [
    "df_FF4.Dates = df_FF4.Dates.apply(lambda x:x[:10])"
   ]
  },
  {
   "cell_type": "code",
   "execution_count": 66,
   "metadata": {},
   "outputs": [],
   "source": [
    "df_FF4.set_index('Dates',inplace=True)"
   ]
  },
  {
   "cell_type": "code",
   "execution_count": 67,
   "metadata": {},
   "outputs": [],
   "source": [
    "df_RF = pd.read_csv('df_RF.csv',index_col=0)\n",
    "df_SR = pd.read_csv('df_SR.csv',index_col=0)\n",
    "df_SR.index = df_SR.index.to_series().apply(lambda x:x[:10])"
   ]
  },
  {
   "cell_type": "code",
   "execution_count": 69,
   "metadata": {},
   "outputs": [],
   "source": [
    "df_Ex_SR = df_SR-df_RF.values"
   ]
  },
  {
   "cell_type": "code",
   "execution_count": 70,
   "metadata": {},
   "outputs": [],
   "source": [
    "df_Ex_SR = df_Ex_SR.loc[df_FF4.index,:]"
   ]
  },
  {
   "cell_type": "code",
   "execution_count": 71,
   "metadata": {},
   "outputs": [],
   "source": [
    "n = 3\n",
    "holding = 21\n",
    "rollingW = holding * n *12\n",
    "lens = len(df_FF4)\n",
    "periods = int((lens - rollingW) / holding) - 1"
   ]
  },
  {
   "cell_type": "code",
   "execution_count": 72,
   "metadata": {},
   "outputs": [
    {
     "data": {
      "text/plain": [
       "189"
      ]
     },
     "execution_count": 72,
     "metadata": {},
     "output_type": "execute_result"
    }
   ],
   "source": [
    "periods"
   ]
  },
  {
   "cell_type": "code",
   "execution_count": 73,
   "metadata": {},
   "outputs": [
    {
     "name": "stderr",
     "output_type": "stream",
     "text": [
      "100%|██████████| 189/189 [03:41<00:00,  1.17s/it]\n"
     ]
    }
   ],
   "source": [
    "all_betas_ev = []\n",
    "all_betas_iv = []\n",
    "\n",
    "# i is time\n",
    "for i in tqdm(range(periods)):\n",
    "\n",
    "    df_FF4_tmp = df_FF4.iloc[i*holding:i*holding+rollingW,:]\n",
    "    df_Ex_SR_tmp = df_Ex_SR.iloc[i*holding:i*holding+rollingW,:]\n",
    "    \n",
    "\n",
    "    if (i + 1) % 2 == 1:\n",
    "        rw_odd = pd.DataFrame()\n",
    "        for k in range(0,n*12,2):\n",
    "            rw_odd = pd.concat([rw_odd,df_FF4_tmp.iloc[21*k:21*(k+1),:]])\n",
    "\n",
    "        betas_ev = []\n",
    "        # j is stock\n",
    "        for j in df_Ex_SR.columns:\n",
    "            df_index = df_Ex_SR_tmp.loc[rw_odd.index,j].dropna().index\n",
    "            \n",
    "            if len(df_index) != 0:\n",
    "                b = list(ols_model.fit(df_FF4_tmp.loc[df_index,:].values, df_Ex_SR_tmp.loc[df_index,j].values).coef_)\n",
    "                b.append(j)\n",
    "                betas_ev.append(b)\n",
    "        df_betas_ev = pd.DataFrame(np.array(betas_ev)).rename(columns={0:'beta_1',1:'beta_2',2:'beta_3',3:'beta_4',4:'stock'}).set_index('stock')\n",
    "        all_betas_ev.append(df_betas_ev)\n",
    "\n",
    "\n",
    "        rw_even = pd.DataFrame()   \n",
    "        for k in range(1,n*12,2):\n",
    "            rw_even = pd.concat([rw_even,df_FF4_tmp.iloc[21*k:21*(k+1),:]])\n",
    "        \n",
    "        betas_iv = []\n",
    "        # j is stock\n",
    "        for j in df_Ex_SR.columns:\n",
    "            df_index = df_Ex_SR_tmp.loc[rw_even.index,j].dropna().index\n",
    "            \n",
    "            if len(df_index) != 0:\n",
    "                b = list(ols_model.fit(df_FF4_tmp.loc[df_index,:].values, df_Ex_SR_tmp.loc[df_index,j].values).coef_)\n",
    "                b.append(j)\n",
    "                betas_iv.append(b)\n",
    "        df_betas_iv = pd.DataFrame(np.array(betas_iv)).rename(columns={0:'beta_1',1:'beta_2',2:'beta_3',3:'beta_4',4:'stock'}).set_index('stock')\n",
    "        all_betas_iv.append(df_betas_iv)\n",
    "\n",
    "\n",
    "    if (i + 1) % 2 == 0:\n",
    "        rw_odd = pd.DataFrame()\n",
    "        for k in range(0,n*12,2):\n",
    "            rw_odd = pd.concat([rw_odd,df_FF4_tmp.iloc[21*k:21*(k+1),:]])\n",
    "\n",
    "        betas_iv = []\n",
    "        # j is stock\n",
    "        for j in df_Ex_SR.columns:\n",
    "            df_index = df_Ex_SR_tmp.loc[rw_odd.index,j].dropna().index\n",
    "            \n",
    "            if len(df_index) != 0:\n",
    "                b = list(ols_model.fit(df_FF4_tmp.loc[df_index,:].values, df_Ex_SR_tmp.loc[df_index,j].values).coef_)\n",
    "                b.append(j)\n",
    "                betas_iv.append(b)\n",
    "        df_betas_iv = pd.DataFrame(np.array(betas_iv)).rename(columns={0:'beta_1',1:'beta_2',2:'beta_3',3:'beta_4',4:'stock'}).set_index('stock')\n",
    "        all_betas_iv.append(df_betas_iv)\n",
    "        \n",
    "\n",
    "        rw_even = pd.DataFrame()   \n",
    "        for k in range(1,n*12,2):\n",
    "            rw_even = pd.concat([rw_even,df_FF4_tmp.iloc[21*k:21*(k+1),:]])\n",
    "\n",
    "        betas_ev = []\n",
    "        # j is stock\n",
    "        for j in df_Ex_SR.columns:\n",
    "            df_index = df_Ex_SR_tmp.loc[rw_even.index,j].dropna().index\n",
    "            \n",
    "            if len(df_index) != 0:\n",
    "                b = list(ols_model.fit(df_FF4_tmp.loc[df_index,:].values, df_Ex_SR_tmp.loc[df_index,j].values).coef_)\n",
    "                b.append(j)\n",
    "                betas_ev.append(b)\n",
    "        df_betas_ev = pd.DataFrame(np.array(betas_ev)).rename(columns={0:'beta_1',1:'beta_2',2:'beta_3',3:'beta_4',4:'stock'}).set_index('stock')\n",
    "        all_betas_ev.append(df_betas_ev)\n",
    "\n"
   ]
  },
  {
   "cell_type": "code",
   "execution_count": 74,
   "metadata": {
    "scrolled": true
   },
   "outputs": [
    {
     "data": {
      "text/html": [
       "<div>\n",
       "<style scoped>\n",
       "    .dataframe tbody tr th:only-of-type {\n",
       "        vertical-align: middle;\n",
       "    }\n",
       "\n",
       "    .dataframe tbody tr th {\n",
       "        vertical-align: top;\n",
       "    }\n",
       "\n",
       "    .dataframe thead th {\n",
       "        text-align: right;\n",
       "    }\n",
       "</style>\n",
       "<table border=\"1\" class=\"dataframe\">\n",
       "  <thead>\n",
       "    <tr style=\"text-align: right;\">\n",
       "      <th></th>\n",
       "      <th>beta_1</th>\n",
       "      <th>beta_2</th>\n",
       "      <th>beta_3</th>\n",
       "      <th>beta_4</th>\n",
       "    </tr>\n",
       "    <tr>\n",
       "      <th>stock</th>\n",
       "      <th></th>\n",
       "      <th></th>\n",
       "      <th></th>\n",
       "      <th></th>\n",
       "    </tr>\n",
       "  </thead>\n",
       "  <tbody>\n",
       "    <tr>\n",
       "      <th>ABC.SJ.Equity</th>\n",
       "      <td>0.05868531684868637</td>\n",
       "      <td>-0.9794182171356192</td>\n",
       "      <td>0.6322351671160076</td>\n",
       "      <td>0.2131583507134486</td>\n",
       "    </tr>\n",
       "    <tr>\n",
       "      <th>ABI.SJ.Equity</th>\n",
       "      <td>0.2594330207856468</td>\n",
       "      <td>-0.09513051220878505</td>\n",
       "      <td>-0.13329957808567186</td>\n",
       "      <td>-0.07879442371422818</td>\n",
       "    </tr>\n",
       "    <tr>\n",
       "      <th>ABR.SJ.Equity</th>\n",
       "      <td>-0.46145631538139054</td>\n",
       "      <td>1.769854847974078</td>\n",
       "      <td>0.08008330605892389</td>\n",
       "      <td>0.4934823218392971</td>\n",
       "    </tr>\n",
       "    <tr>\n",
       "      <th>ACL.SJ.Equity</th>\n",
       "      <td>0.7466575180412792</td>\n",
       "      <td>0.7470779795059452</td>\n",
       "      <td>-0.7067616892813978</td>\n",
       "      <td>-0.4438821207605245</td>\n",
       "    </tr>\n",
       "    <tr>\n",
       "      <th>ACP.SJ.Equity</th>\n",
       "      <td>-0.0344091139964603</td>\n",
       "      <td>-0.18888016893266268</td>\n",
       "      <td>-0.05595481296994584</td>\n",
       "      <td>-0.012026843941453702</td>\n",
       "    </tr>\n",
       "    <tr>\n",
       "      <th>...</th>\n",
       "      <td>...</td>\n",
       "      <td>...</td>\n",
       "      <td>...</td>\n",
       "      <td>...</td>\n",
       "    </tr>\n",
       "    <tr>\n",
       "      <th>WTC.SJ.Equity</th>\n",
       "      <td>0.05737016567555949</td>\n",
       "      <td>0.002846787451553978</td>\n",
       "      <td>-0.15170457139584625</td>\n",
       "      <td>0.12426244800620771</td>\n",
       "    </tr>\n",
       "    <tr>\n",
       "      <th>YRK.SJ.Equity</th>\n",
       "      <td>-0.07044194191912104</td>\n",
       "      <td>-0.12614662409516172</td>\n",
       "      <td>0.08553511175958478</td>\n",
       "      <td>0.12890574927943896</td>\n",
       "    </tr>\n",
       "    <tr>\n",
       "      <th>ZPT.SJ.Equity</th>\n",
       "      <td>0.02742378335248406</td>\n",
       "      <td>-0.8615319983806928</td>\n",
       "      <td>-0.3123535190855845</td>\n",
       "      <td>0.49215443679103693</td>\n",
       "    </tr>\n",
       "    <tr>\n",
       "      <th>ZRR.SJ.Equity</th>\n",
       "      <td>0.32366582591252707</td>\n",
       "      <td>0.5438415081136593</td>\n",
       "      <td>-0.007375256193542956</td>\n",
       "      <td>-0.1285547255324735</td>\n",
       "    </tr>\n",
       "    <tr>\n",
       "      <th>ZSA.SJ.Equity</th>\n",
       "      <td>0.010702776782751002</td>\n",
       "      <td>0.18235177105396805</td>\n",
       "      <td>-0.08021728157511074</td>\n",
       "      <td>-0.09504372768561782</td>\n",
       "    </tr>\n",
       "  </tbody>\n",
       "</table>\n",
       "<p>523 rows × 4 columns</p>\n",
       "</div>"
      ],
      "text/plain": [
       "                             beta_1                beta_2  \\\n",
       "stock                                                       \n",
       "ABC.SJ.Equity   0.05868531684868637   -0.9794182171356192   \n",
       "ABI.SJ.Equity    0.2594330207856468  -0.09513051220878505   \n",
       "ABR.SJ.Equity  -0.46145631538139054     1.769854847974078   \n",
       "ACL.SJ.Equity    0.7466575180412792    0.7470779795059452   \n",
       "ACP.SJ.Equity   -0.0344091139964603  -0.18888016893266268   \n",
       "...                             ...                   ...   \n",
       "WTC.SJ.Equity   0.05737016567555949  0.002846787451553978   \n",
       "YRK.SJ.Equity  -0.07044194191912104  -0.12614662409516172   \n",
       "ZPT.SJ.Equity   0.02742378335248406   -0.8615319983806928   \n",
       "ZRR.SJ.Equity   0.32366582591252707    0.5438415081136593   \n",
       "ZSA.SJ.Equity  0.010702776782751002   0.18235177105396805   \n",
       "\n",
       "                              beta_3                 beta_4  \n",
       "stock                                                        \n",
       "ABC.SJ.Equity     0.6322351671160076     0.2131583507134486  \n",
       "ABI.SJ.Equity   -0.13329957808567186   -0.07879442371422818  \n",
       "ABR.SJ.Equity    0.08008330605892389     0.4934823218392971  \n",
       "ACL.SJ.Equity    -0.7067616892813978    -0.4438821207605245  \n",
       "ACP.SJ.Equity   -0.05595481296994584  -0.012026843941453702  \n",
       "...                              ...                    ...  \n",
       "WTC.SJ.Equity   -0.15170457139584625    0.12426244800620771  \n",
       "YRK.SJ.Equity    0.08553511175958478    0.12890574927943896  \n",
       "ZPT.SJ.Equity    -0.3123535190855845    0.49215443679103693  \n",
       "ZRR.SJ.Equity  -0.007375256193542956    -0.1285547255324735  \n",
       "ZSA.SJ.Equity   -0.08021728157511074   -0.09504372768561782  \n",
       "\n",
       "[523 rows x 4 columns]"
      ]
     },
     "execution_count": 74,
     "metadata": {},
     "output_type": "execute_result"
    }
   ],
   "source": [
    "all_betas_iv[0]"
   ]
  },
  {
   "cell_type": "code",
   "execution_count": 75,
   "metadata": {},
   "outputs": [
    {
     "name": "stderr",
     "output_type": "stream",
     "text": [
      "100%|██████████| 3969/3969 [00:13<00:00, 288.69it/s]\n"
     ]
    }
   ],
   "source": [
    "all_lambdas = []\n",
    "# i is time\n",
    "\n",
    "df_Ex_SR_tmp_T = df_Ex_SR.iloc[rollingW:rollingW+periods*holding,:].T\n",
    "\n",
    "lambdas = []\n",
    "index_times = list(df_Ex_SR_tmp_T.columns)\n",
    "\n",
    "for k in tqdm(df_Ex_SR_tmp_T.columns):\n",
    "    \n",
    "    i = int(index_times.index(k) / holding)\n",
    "\n",
    "    df_index = ((all_betas_iv[i].index).intersection(all_betas_ev[i].index)).intersection(df_Ex_SR.loc[k,:].dropna().index)\n",
    "    \n",
    "    if len(df_index) != 0:\n",
    "        \n",
    "        iv = IV2SLS(endog = df_Ex_SR_tmp_T.loc[df_index,k].values,exog = sm.add_constant(all_betas_ev[i].loc[df_index,:].values.astype(np.float64)),instrument = sm.add_constant(all_betas_iv[i].loc[df_index,:].values.astype(np.float64)))\n",
    "        res = iv.fit()\n",
    "        l = list(res.params)\n",
    "        lambdas.append(l)\n",
    "        \n",
    "all_lambdas.append(pd.DataFrame(lambdas))"
   ]
  },
  {
   "cell_type": "code",
   "execution_count": 76,
   "metadata": {
    "scrolled": true
   },
   "outputs": [
    {
     "data": {
      "text/html": [
       "<div>\n",
       "<style scoped>\n",
       "    .dataframe tbody tr th:only-of-type {\n",
       "        vertical-align: middle;\n",
       "    }\n",
       "\n",
       "    .dataframe tbody tr th {\n",
       "        vertical-align: top;\n",
       "    }\n",
       "\n",
       "    .dataframe thead th {\n",
       "        text-align: right;\n",
       "    }\n",
       "</style>\n",
       "<table border=\"1\" class=\"dataframe\">\n",
       "  <thead>\n",
       "    <tr style=\"text-align: right;\">\n",
       "      <th></th>\n",
       "      <th>Intercept</th>\n",
       "      <th>MKT</th>\n",
       "      <th>SMB</th>\n",
       "      <th>HML</th>\n",
       "      <th>WML</th>\n",
       "    </tr>\n",
       "  </thead>\n",
       "  <tbody>\n",
       "    <tr>\n",
       "      <th>0</th>\n",
       "      <td>0.001308</td>\n",
       "      <td>0.010749</td>\n",
       "      <td>-0.022658</td>\n",
       "      <td>0.005319</td>\n",
       "      <td>0.004712</td>\n",
       "    </tr>\n",
       "    <tr>\n",
       "      <th>1</th>\n",
       "      <td>-0.000250</td>\n",
       "      <td>0.008397</td>\n",
       "      <td>-0.014954</td>\n",
       "      <td>0.009557</td>\n",
       "      <td>0.003223</td>\n",
       "    </tr>\n",
       "    <tr>\n",
       "      <th>2</th>\n",
       "      <td>-0.002580</td>\n",
       "      <td>0.004596</td>\n",
       "      <td>-0.071310</td>\n",
       "      <td>0.053617</td>\n",
       "      <td>-0.063046</td>\n",
       "    </tr>\n",
       "    <tr>\n",
       "      <th>3</th>\n",
       "      <td>0.003181</td>\n",
       "      <td>-0.031128</td>\n",
       "      <td>0.062694</td>\n",
       "      <td>0.010016</td>\n",
       "      <td>0.014090</td>\n",
       "    </tr>\n",
       "    <tr>\n",
       "      <th>4</th>\n",
       "      <td>0.000222</td>\n",
       "      <td>-0.013489</td>\n",
       "      <td>0.008114</td>\n",
       "      <td>0.020869</td>\n",
       "      <td>0.015983</td>\n",
       "    </tr>\n",
       "    <tr>\n",
       "      <th>...</th>\n",
       "      <td>...</td>\n",
       "      <td>...</td>\n",
       "      <td>...</td>\n",
       "      <td>...</td>\n",
       "      <td>...</td>\n",
       "    </tr>\n",
       "    <tr>\n",
       "      <th>3964</th>\n",
       "      <td>-0.001320</td>\n",
       "      <td>-0.001233</td>\n",
       "      <td>0.003331</td>\n",
       "      <td>-0.003058</td>\n",
       "      <td>-0.037847</td>\n",
       "    </tr>\n",
       "    <tr>\n",
       "      <th>3965</th>\n",
       "      <td>-0.001730</td>\n",
       "      <td>-0.009182</td>\n",
       "      <td>0.000746</td>\n",
       "      <td>-0.014848</td>\n",
       "      <td>-0.015197</td>\n",
       "    </tr>\n",
       "    <tr>\n",
       "      <th>3966</th>\n",
       "      <td>0.000998</td>\n",
       "      <td>0.003557</td>\n",
       "      <td>0.005668</td>\n",
       "      <td>-0.043176</td>\n",
       "      <td>-0.010409</td>\n",
       "    </tr>\n",
       "    <tr>\n",
       "      <th>3967</th>\n",
       "      <td>-0.000374</td>\n",
       "      <td>-0.005383</td>\n",
       "      <td>-0.002599</td>\n",
       "      <td>0.008939</td>\n",
       "      <td>0.014915</td>\n",
       "    </tr>\n",
       "    <tr>\n",
       "      <th>3968</th>\n",
       "      <td>-0.000697</td>\n",
       "      <td>0.012914</td>\n",
       "      <td>0.004389</td>\n",
       "      <td>0.031176</td>\n",
       "      <td>0.015728</td>\n",
       "    </tr>\n",
       "  </tbody>\n",
       "</table>\n",
       "<p>3969 rows × 5 columns</p>\n",
       "</div>"
      ],
      "text/plain": [
       "      Intercept       MKT       SMB       HML       WML\n",
       "0      0.001308  0.010749 -0.022658  0.005319  0.004712\n",
       "1     -0.000250  0.008397 -0.014954  0.009557  0.003223\n",
       "2     -0.002580  0.004596 -0.071310  0.053617 -0.063046\n",
       "3      0.003181 -0.031128  0.062694  0.010016  0.014090\n",
       "4      0.000222 -0.013489  0.008114  0.020869  0.015983\n",
       "...         ...       ...       ...       ...       ...\n",
       "3964  -0.001320 -0.001233  0.003331 -0.003058 -0.037847\n",
       "3965  -0.001730 -0.009182  0.000746 -0.014848 -0.015197\n",
       "3966   0.000998  0.003557  0.005668 -0.043176 -0.010409\n",
       "3967  -0.000374 -0.005383 -0.002599  0.008939  0.014915\n",
       "3968  -0.000697  0.012914  0.004389  0.031176  0.015728\n",
       "\n",
       "[3969 rows x 5 columns]"
      ]
     },
     "execution_count": 76,
     "metadata": {},
     "output_type": "execute_result"
    }
   ],
   "source": [
    "# all_lambdas[0] = all_lambdas[0][(np.abs((all_lambdas[0]-all_lambdas[0].mean())/all_lambdas[0].std()) <= 6).all(axis=1)]\n",
    "all_lambdas[0].rename(columns={0:'Intercept',1:'MKT',2:'SMB',3:'HML',4:'WML'})"
   ]
  },
  {
   "cell_type": "code",
   "execution_count": 77,
   "metadata": {},
   "outputs": [
    {
     "data": {
      "text/plain": [
       "0   -0.000079\n",
       "1   -0.001564\n",
       "2   -0.004346\n",
       "3   -0.006590\n",
       "4   -0.004581\n",
       "dtype: float64"
      ]
     },
     "execution_count": 77,
     "metadata": {},
     "output_type": "execute_result"
    }
   ],
   "source": [
    "np.mean(all_lambdas[0].dropna())"
   ]
  },
  {
   "cell_type": "code",
   "execution_count": 78,
   "metadata": {
    "scrolled": false
   },
   "outputs": [
    {
     "data": {
      "text/plain": [
       "Ttest_1sampResult(statistic=array([-0.43440934, -0.92116073, -0.82863604, -1.08348736, -0.82170634]), pvalue=array([0.66401483, 0.35702252, 0.40736022, 0.27865799, 0.41129342]))"
      ]
     },
     "execution_count": 78,
     "metadata": {},
     "output_type": "execute_result"
    }
   ],
   "source": [
    "stats.ttest_1samp(all_lambdas[0].dropna(), 0.0)"
   ]
  },
  {
   "cell_type": "code",
   "execution_count": 79,
   "metadata": {
    "scrolled": true
   },
   "outputs": [
    {
     "data": {
      "text/plain": [
       "array([-0.28970946, -0.60074729, -0.51907038, -0.67852529, -0.51778038])"
      ]
     },
     "execution_count": 79,
     "metadata": {},
     "output_type": "execute_result"
    }
   ],
   "source": [
    "## New-West Adjustment \n",
    "all_lambdas[0].dropna().apply(lambda x: NW_ttest(ret = x, h0=0), axis=0).values"
   ]
  },
  {
   "cell_type": "markdown",
   "metadata": {},
   "source": [
    "## FF5-Factor_IV"
   ]
  },
  {
   "cell_type": "code",
   "execution_count": 80,
   "metadata": {},
   "outputs": [],
   "source": [
    "ols_model = LinearRegression()"
   ]
  },
  {
   "cell_type": "code",
   "execution_count": 81,
   "metadata": {},
   "outputs": [],
   "source": [
    "df_FF5 = pd.read_csv('df_FF5.csv')"
   ]
  },
  {
   "cell_type": "code",
   "execution_count": 82,
   "metadata": {},
   "outputs": [],
   "source": [
    "df_FF5.Dates = df_FF5.Dates.apply(lambda x:x[:10])"
   ]
  },
  {
   "cell_type": "code",
   "execution_count": 83,
   "metadata": {},
   "outputs": [],
   "source": [
    "df_FF5.set_index('Dates',inplace=True)"
   ]
  },
  {
   "cell_type": "code",
   "execution_count": 84,
   "metadata": {},
   "outputs": [],
   "source": [
    "df_RF = pd.read_csv('df_RF.csv',index_col=0)\n",
    "df_SR = pd.read_csv('df_SR.csv',index_col=0)\n",
    "df_SR.index = df_SR.index.to_series().apply(lambda x:x[:10])"
   ]
  },
  {
   "cell_type": "code",
   "execution_count": 86,
   "metadata": {},
   "outputs": [],
   "source": [
    "df_Ex_SR = df_SR-df_RF.values"
   ]
  },
  {
   "cell_type": "code",
   "execution_count": 87,
   "metadata": {},
   "outputs": [],
   "source": [
    "df_Ex_SR = df_Ex_SR.loc[df_FF5.index,:]"
   ]
  },
  {
   "cell_type": "code",
   "execution_count": 88,
   "metadata": {},
   "outputs": [],
   "source": [
    "n = 5\n",
    "holding = 21\n",
    "rollingW = holding * n *12\n",
    "lens = len(df_FF5)\n",
    "periods = int((lens - rollingW) / holding) - 1"
   ]
  },
  {
   "cell_type": "code",
   "execution_count": 89,
   "metadata": {},
   "outputs": [
    {
     "data": {
      "text/plain": [
       "165"
      ]
     },
     "execution_count": 89,
     "metadata": {},
     "output_type": "execute_result"
    }
   ],
   "source": [
    "periods"
   ]
  },
  {
   "cell_type": "code",
   "execution_count": 90,
   "metadata": {},
   "outputs": [
    {
     "name": "stderr",
     "output_type": "stream",
     "text": [
      "100%|██████████| 165/165 [04:45<00:00,  1.73s/it]\n"
     ]
    }
   ],
   "source": [
    "all_betas_ev = []\n",
    "all_betas_iv = []\n",
    "\n",
    "# i is time\n",
    "for i in tqdm(range(periods)):\n",
    "\n",
    "    df_FF5_tmp = df_FF5.iloc[i*holding:i*holding+rollingW,:]\n",
    "    df_Ex_SR_tmp = df_Ex_SR.iloc[i*holding:i*holding+rollingW,:]\n",
    "    \n",
    "\n",
    "    if (i + 1) % 2 == 1:\n",
    "        rw_odd = pd.DataFrame()\n",
    "        for k in range(0,n*12,2):\n",
    "            rw_odd = pd.concat([rw_odd,df_FF5_tmp.iloc[21*k:21*(k+1),:]])\n",
    "\n",
    "        betas_ev = []\n",
    "        # j is stock\n",
    "        for j in df_Ex_SR.columns:\n",
    "            df_index = df_Ex_SR_tmp.loc[rw_odd.index,j].dropna().index\n",
    "            \n",
    "            if len(df_index) != 0:\n",
    "                b = list(ols_model.fit(df_FF5_tmp.loc[df_index,:].values, df_Ex_SR_tmp.loc[df_index,j].values).coef_)\n",
    "                b.append(j)\n",
    "                betas_ev.append(b)\n",
    "        df_betas_ev = pd.DataFrame(np.array(betas_ev)).rename(columns={0:'beta_1',1:'beta_2',2:'beta_3',3:'beta_4',4:'beta_5',5:'stock'}).set_index('stock')\n",
    "        all_betas_ev.append(df_betas_ev)\n",
    "\n",
    "\n",
    "        rw_even = pd.DataFrame()   \n",
    "        for k in range(1,n*12,2):\n",
    "            rw_even = pd.concat([rw_even,df_FF5_tmp.iloc[21*k:21*(k+1),:]])\n",
    "        \n",
    "        betas_iv = []\n",
    "        # j is stock\n",
    "        for j in df_Ex_SR.columns:\n",
    "            df_index = df_Ex_SR_tmp.loc[rw_even.index,j].dropna().index\n",
    "            \n",
    "            if len(df_index) != 0:\n",
    "                b = list(ols_model.fit(df_FF5_tmp.loc[df_index,:].values, df_Ex_SR_tmp.loc[df_index,j].values).coef_)\n",
    "                b.append(j)\n",
    "                betas_iv.append(b)\n",
    "        df_betas_iv = pd.DataFrame(np.array(betas_iv)).rename(columns={0:'beta_1',1:'beta_2',2:'beta_3',3:'beta_4',4:'beta_5',5:'stock'}).set_index('stock')\n",
    "        all_betas_iv.append(df_betas_iv)\n",
    "\n",
    "\n",
    "    if (i + 1) % 2 == 0:\n",
    "        rw_odd = pd.DataFrame()\n",
    "        for k in range(0,n*12,2):\n",
    "            rw_odd = pd.concat([rw_odd,df_FF5_tmp.iloc[21*k:21*(k+1),:]])\n",
    "\n",
    "        betas_iv = []\n",
    "        # j is stock\n",
    "        for j in df_Ex_SR.columns:\n",
    "            df_index = df_Ex_SR_tmp.loc[rw_odd.index,j].dropna().index\n",
    "            \n",
    "            if len(df_index) != 0:\n",
    "                b = list(ols_model.fit(df_FF5_tmp.loc[df_index,:].values, df_Ex_SR_tmp.loc[df_index,j].values).coef_)\n",
    "                b.append(j)\n",
    "                betas_iv.append(b)\n",
    "        df_betas_iv = pd.DataFrame(np.array(betas_iv)).rename(columns={0:'beta_1',1:'beta_2',2:'beta_3',3:'beta_4',4:'beta_5',5:'stock'}).set_index('stock')\n",
    "        all_betas_iv.append(df_betas_iv)\n",
    "        \n",
    "\n",
    "        rw_even = pd.DataFrame()   \n",
    "        for k in range(1,n*12,2):\n",
    "            rw_even = pd.concat([rw_even,df_FF5_tmp.iloc[21*k:21*(k+1),:]])\n",
    "\n",
    "        betas_ev = []\n",
    "        # j is stock\n",
    "        for j in df_Ex_SR.columns:\n",
    "            df_index = df_Ex_SR_tmp.loc[rw_even.index,j].dropna().index\n",
    "            \n",
    "            if len(df_index) != 0:\n",
    "                b = list(ols_model.fit(df_FF5_tmp.loc[df_index,:].values, df_Ex_SR_tmp.loc[df_index,j].values).coef_)\n",
    "                b.append(j)\n",
    "                betas_ev.append(b)\n",
    "        df_betas_ev = pd.DataFrame(np.array(betas_ev)).rename(columns={0:'beta_1',1:'beta_2',2:'beta_3',3:'beta_4',4:'beta_5',5:'stock'}).set_index('stock')\n",
    "        all_betas_ev.append(df_betas_ev)\n",
    "\n"
   ]
  },
  {
   "cell_type": "code",
   "execution_count": 91,
   "metadata": {
    "scrolled": true
   },
   "outputs": [
    {
     "data": {
      "text/html": [
       "<div>\n",
       "<style scoped>\n",
       "    .dataframe tbody tr th:only-of-type {\n",
       "        vertical-align: middle;\n",
       "    }\n",
       "\n",
       "    .dataframe tbody tr th {\n",
       "        vertical-align: top;\n",
       "    }\n",
       "\n",
       "    .dataframe thead th {\n",
       "        text-align: right;\n",
       "    }\n",
       "</style>\n",
       "<table border=\"1\" class=\"dataframe\">\n",
       "  <thead>\n",
       "    <tr style=\"text-align: right;\">\n",
       "      <th></th>\n",
       "      <th>beta_1</th>\n",
       "      <th>beta_2</th>\n",
       "      <th>beta_3</th>\n",
       "      <th>beta_4</th>\n",
       "      <th>beta_5</th>\n",
       "    </tr>\n",
       "    <tr>\n",
       "      <th>stock</th>\n",
       "      <th></th>\n",
       "      <th></th>\n",
       "      <th></th>\n",
       "      <th></th>\n",
       "      <th></th>\n",
       "    </tr>\n",
       "  </thead>\n",
       "  <tbody>\n",
       "    <tr>\n",
       "      <th>ABC.SJ.Equity</th>\n",
       "      <td>0.027739161068604256</td>\n",
       "      <td>-0.20864088588926621</td>\n",
       "      <td>0.45301550021405157</td>\n",
       "      <td>0.2619034718731777</td>\n",
       "      <td>-0.039434944472493905</td>\n",
       "    </tr>\n",
       "    <tr>\n",
       "      <th>ABI.SJ.Equity</th>\n",
       "      <td>0.23574838065910345</td>\n",
       "      <td>-0.0070256172165493735</td>\n",
       "      <td>-0.06894415920407701</td>\n",
       "      <td>-0.09845853340856141</td>\n",
       "      <td>-0.0950092181703325</td>\n",
       "    </tr>\n",
       "    <tr>\n",
       "      <th>ABR.SJ.Equity</th>\n",
       "      <td>-0.35483965264963613</td>\n",
       "      <td>0.717706391937484</td>\n",
       "      <td>-0.012830150917756189</td>\n",
       "      <td>0.19629746264209214</td>\n",
       "      <td>-0.4725413050290982</td>\n",
       "    </tr>\n",
       "    <tr>\n",
       "      <th>ACL.SJ.Equity</th>\n",
       "      <td>0.8125232512525501</td>\n",
       "      <td>0.29456009431204255</td>\n",
       "      <td>-0.4777124284101453</td>\n",
       "      <td>0.3104093303780326</td>\n",
       "      <td>-0.03430134775210375</td>\n",
       "    </tr>\n",
       "    <tr>\n",
       "      <th>ACP.SJ.Equity</th>\n",
       "      <td>0.00018233015912555502</td>\n",
       "      <td>-0.03349833542803239</td>\n",
       "      <td>0.019448973928432617</td>\n",
       "      <td>0.025793653470835384</td>\n",
       "      <td>0.029027983305394238</td>\n",
       "    </tr>\n",
       "    <tr>\n",
       "      <th>...</th>\n",
       "      <td>...</td>\n",
       "      <td>...</td>\n",
       "      <td>...</td>\n",
       "      <td>...</td>\n",
       "      <td>...</td>\n",
       "    </tr>\n",
       "    <tr>\n",
       "      <th>WTC.SJ.Equity</th>\n",
       "      <td>0.061377006609874586</td>\n",
       "      <td>-0.0017920022385793932</td>\n",
       "      <td>-0.10630295750267238</td>\n",
       "      <td>-0.13649233657218968</td>\n",
       "      <td>-0.12949964475755377</td>\n",
       "    </tr>\n",
       "    <tr>\n",
       "      <th>YRK.SJ.Equity</th>\n",
       "      <td>-0.09685868344641943</td>\n",
       "      <td>0.1315932064250195</td>\n",
       "      <td>-0.18125147762369698</td>\n",
       "      <td>-0.0948984019406076</td>\n",
       "      <td>-0.2466106135879061</td>\n",
       "    </tr>\n",
       "    <tr>\n",
       "      <th>ZPT.SJ.Equity</th>\n",
       "      <td>0.03656268256101802</td>\n",
       "      <td>0.0799384532543406</td>\n",
       "      <td>0.04518269456787212</td>\n",
       "      <td>0.22624294124386934</td>\n",
       "      <td>-0.2763675833139778</td>\n",
       "    </tr>\n",
       "    <tr>\n",
       "      <th>ZRR.SJ.Equity</th>\n",
       "      <td>0.28103034997074855</td>\n",
       "      <td>0.13223014105682518</td>\n",
       "      <td>-0.0573943108686875</td>\n",
       "      <td>0.06122993320405817</td>\n",
       "      <td>-0.14468011731210154</td>\n",
       "    </tr>\n",
       "    <tr>\n",
       "      <th>ZSA.SJ.Equity</th>\n",
       "      <td>-0.034507566685402266</td>\n",
       "      <td>0.05055798049595872</td>\n",
       "      <td>-0.1658262873066323</td>\n",
       "      <td>0.15053697884885703</td>\n",
       "      <td>-0.00843822378889722</td>\n",
       "    </tr>\n",
       "  </tbody>\n",
       "</table>\n",
       "<p>541 rows × 5 columns</p>\n",
       "</div>"
      ],
      "text/plain": [
       "                               beta_1                  beta_2  \\\n",
       "stock                                                           \n",
       "ABC.SJ.Equity    0.027739161068604256    -0.20864088588926621   \n",
       "ABI.SJ.Equity     0.23574838065910345  -0.0070256172165493735   \n",
       "ABR.SJ.Equity    -0.35483965264963613       0.717706391937484   \n",
       "ACL.SJ.Equity      0.8125232512525501     0.29456009431204255   \n",
       "ACP.SJ.Equity  0.00018233015912555502    -0.03349833542803239   \n",
       "...                               ...                     ...   \n",
       "WTC.SJ.Equity    0.061377006609874586  -0.0017920022385793932   \n",
       "YRK.SJ.Equity    -0.09685868344641943      0.1315932064250195   \n",
       "ZPT.SJ.Equity     0.03656268256101802      0.0799384532543406   \n",
       "ZRR.SJ.Equity     0.28103034997074855     0.13223014105682518   \n",
       "ZSA.SJ.Equity   -0.034507566685402266     0.05055798049595872   \n",
       "\n",
       "                              beta_3                beta_4  \\\n",
       "stock                                                        \n",
       "ABC.SJ.Equity    0.45301550021405157    0.2619034718731777   \n",
       "ABI.SJ.Equity   -0.06894415920407701  -0.09845853340856141   \n",
       "ABR.SJ.Equity  -0.012830150917756189   0.19629746264209214   \n",
       "ACL.SJ.Equity    -0.4777124284101453    0.3104093303780326   \n",
       "ACP.SJ.Equity   0.019448973928432617  0.025793653470835384   \n",
       "...                              ...                   ...   \n",
       "WTC.SJ.Equity   -0.10630295750267238  -0.13649233657218968   \n",
       "YRK.SJ.Equity   -0.18125147762369698   -0.0948984019406076   \n",
       "ZPT.SJ.Equity    0.04518269456787212   0.22624294124386934   \n",
       "ZRR.SJ.Equity    -0.0573943108686875   0.06122993320405817   \n",
       "ZSA.SJ.Equity    -0.1658262873066323   0.15053697884885703   \n",
       "\n",
       "                              beta_5  \n",
       "stock                                 \n",
       "ABC.SJ.Equity  -0.039434944472493905  \n",
       "ABI.SJ.Equity    -0.0950092181703325  \n",
       "ABR.SJ.Equity    -0.4725413050290982  \n",
       "ACL.SJ.Equity   -0.03430134775210375  \n",
       "ACP.SJ.Equity   0.029027983305394238  \n",
       "...                              ...  \n",
       "WTC.SJ.Equity   -0.12949964475755377  \n",
       "YRK.SJ.Equity    -0.2466106135879061  \n",
       "ZPT.SJ.Equity    -0.2763675833139778  \n",
       "ZRR.SJ.Equity   -0.14468011731210154  \n",
       "ZSA.SJ.Equity   -0.00843822378889722  \n",
       "\n",
       "[541 rows x 5 columns]"
      ]
     },
     "execution_count": 91,
     "metadata": {},
     "output_type": "execute_result"
    }
   ],
   "source": [
    "all_betas_iv[0]"
   ]
  },
  {
   "cell_type": "code",
   "execution_count": 92,
   "metadata": {},
   "outputs": [
    {
     "name": "stderr",
     "output_type": "stream",
     "text": [
      "100%|██████████| 3465/3465 [00:17<00:00, 195.46it/s]\n"
     ]
    }
   ],
   "source": [
    "all_lambdas = []\n",
    "# i is time\n",
    "\n",
    "df_Ex_SR_tmp_T = df_Ex_SR.iloc[rollingW:rollingW+periods*holding,:].T\n",
    "\n",
    "lambdas = []\n",
    "index_times = list(df_Ex_SR_tmp_T.columns)\n",
    "\n",
    "for k in tqdm(df_Ex_SR_tmp_T.columns):\n",
    "    \n",
    "    i = int(index_times.index(k) / holding)\n",
    "\n",
    "    df_index = ((all_betas_iv[i].index).intersection(all_betas_ev[i].index)).intersection(df_Ex_SR.loc[k,:].dropna().index)\n",
    "    \n",
    "    if len(df_index) != 0:\n",
    "        \n",
    "        iv = IV2SLS(endog = df_Ex_SR_tmp_T.loc[df_index,k].values,exog = sm.add_constant(all_betas_ev[i].loc[df_index,:].values.astype(np.float64)),instrument = sm.add_constant(all_betas_iv[i].loc[df_index,:].values.astype(np.float64)))\n",
    "        res = iv.fit()\n",
    "        l = list(res.params)\n",
    "        lambdas.append(l)\n",
    "        \n",
    "all_lambdas.append(pd.DataFrame(lambdas))"
   ]
  },
  {
   "cell_type": "code",
   "execution_count": 93,
   "metadata": {
    "scrolled": true
   },
   "outputs": [
    {
     "data": {
      "text/html": [
       "<div>\n",
       "<style scoped>\n",
       "    .dataframe tbody tr th:only-of-type {\n",
       "        vertical-align: middle;\n",
       "    }\n",
       "\n",
       "    .dataframe tbody tr th {\n",
       "        vertical-align: top;\n",
       "    }\n",
       "\n",
       "    .dataframe thead th {\n",
       "        text-align: right;\n",
       "    }\n",
       "</style>\n",
       "<table border=\"1\" class=\"dataframe\">\n",
       "  <thead>\n",
       "    <tr style=\"text-align: right;\">\n",
       "      <th></th>\n",
       "      <th>Intercept</th>\n",
       "      <th>MKT</th>\n",
       "      <th>SMB</th>\n",
       "      <th>HML</th>\n",
       "      <th>RMW</th>\n",
       "      <th>CMA</th>\n",
       "    </tr>\n",
       "  </thead>\n",
       "  <tbody>\n",
       "    <tr>\n",
       "      <th>0</th>\n",
       "      <td>-0.002595</td>\n",
       "      <td>-0.036408</td>\n",
       "      <td>0.101865</td>\n",
       "      <td>-0.027268</td>\n",
       "      <td>0.064488</td>\n",
       "      <td>0.033975</td>\n",
       "    </tr>\n",
       "    <tr>\n",
       "      <th>1</th>\n",
       "      <td>0.000204</td>\n",
       "      <td>0.017395</td>\n",
       "      <td>0.059345</td>\n",
       "      <td>-0.021122</td>\n",
       "      <td>0.017340</td>\n",
       "      <td>0.015095</td>\n",
       "    </tr>\n",
       "    <tr>\n",
       "      <th>2</th>\n",
       "      <td>0.001960</td>\n",
       "      <td>-0.024289</td>\n",
       "      <td>0.005689</td>\n",
       "      <td>-0.004852</td>\n",
       "      <td>0.025110</td>\n",
       "      <td>0.040461</td>\n",
       "    </tr>\n",
       "    <tr>\n",
       "      <th>3</th>\n",
       "      <td>0.002006</td>\n",
       "      <td>0.001961</td>\n",
       "      <td>0.154594</td>\n",
       "      <td>-0.089907</td>\n",
       "      <td>0.011504</td>\n",
       "      <td>0.065018</td>\n",
       "    </tr>\n",
       "    <tr>\n",
       "      <th>4</th>\n",
       "      <td>0.001426</td>\n",
       "      <td>0.011220</td>\n",
       "      <td>0.000422</td>\n",
       "      <td>0.029456</td>\n",
       "      <td>-0.024108</td>\n",
       "      <td>-0.006367</td>\n",
       "    </tr>\n",
       "    <tr>\n",
       "      <th>...</th>\n",
       "      <td>...</td>\n",
       "      <td>...</td>\n",
       "      <td>...</td>\n",
       "      <td>...</td>\n",
       "      <td>...</td>\n",
       "      <td>...</td>\n",
       "    </tr>\n",
       "    <tr>\n",
       "      <th>3460</th>\n",
       "      <td>-0.000814</td>\n",
       "      <td>0.001696</td>\n",
       "      <td>0.025266</td>\n",
       "      <td>0.008378</td>\n",
       "      <td>-0.014354</td>\n",
       "      <td>0.008213</td>\n",
       "    </tr>\n",
       "    <tr>\n",
       "      <th>3461</th>\n",
       "      <td>-0.001063</td>\n",
       "      <td>-0.011310</td>\n",
       "      <td>-0.014821</td>\n",
       "      <td>-0.011359</td>\n",
       "      <td>0.001926</td>\n",
       "      <td>0.030011</td>\n",
       "    </tr>\n",
       "    <tr>\n",
       "      <th>3462</th>\n",
       "      <td>-0.000279</td>\n",
       "      <td>0.010754</td>\n",
       "      <td>-0.000681</td>\n",
       "      <td>0.001823</td>\n",
       "      <td>0.037409</td>\n",
       "      <td>-0.003742</td>\n",
       "    </tr>\n",
       "    <tr>\n",
       "      <th>3463</th>\n",
       "      <td>0.001085</td>\n",
       "      <td>-0.020361</td>\n",
       "      <td>0.027573</td>\n",
       "      <td>0.002954</td>\n",
       "      <td>-0.034154</td>\n",
       "      <td>0.059204</td>\n",
       "    </tr>\n",
       "    <tr>\n",
       "      <th>3464</th>\n",
       "      <td>-0.000736</td>\n",
       "      <td>0.013221</td>\n",
       "      <td>-0.025103</td>\n",
       "      <td>0.008787</td>\n",
       "      <td>0.025569</td>\n",
       "      <td>-0.004408</td>\n",
       "    </tr>\n",
       "  </tbody>\n",
       "</table>\n",
       "<p>3465 rows × 6 columns</p>\n",
       "</div>"
      ],
      "text/plain": [
       "      Intercept       MKT       SMB       HML       RMW       CMA\n",
       "0     -0.002595 -0.036408  0.101865 -0.027268  0.064488  0.033975\n",
       "1      0.000204  0.017395  0.059345 -0.021122  0.017340  0.015095\n",
       "2      0.001960 -0.024289  0.005689 -0.004852  0.025110  0.040461\n",
       "3      0.002006  0.001961  0.154594 -0.089907  0.011504  0.065018\n",
       "4      0.001426  0.011220  0.000422  0.029456 -0.024108 -0.006367\n",
       "...         ...       ...       ...       ...       ...       ...\n",
       "3460  -0.000814  0.001696  0.025266  0.008378 -0.014354  0.008213\n",
       "3461  -0.001063 -0.011310 -0.014821 -0.011359  0.001926  0.030011\n",
       "3462  -0.000279  0.010754 -0.000681  0.001823  0.037409 -0.003742\n",
       "3463   0.001085 -0.020361  0.027573  0.002954 -0.034154  0.059204\n",
       "3464  -0.000736  0.013221 -0.025103  0.008787  0.025569 -0.004408\n",
       "\n",
       "[3465 rows x 6 columns]"
      ]
     },
     "execution_count": 93,
     "metadata": {},
     "output_type": "execute_result"
    }
   ],
   "source": [
    "# all_lambdas[0] = all_lambdas[0][(np.abs((all_lambdas[0]-all_lambdas[0].mean())/all_lambdas[0].std()) <= 3).all(axis=1)]\n",
    "all_lambdas[0].rename(columns={0:'Intercept',1:'MKT',2:'SMB',3:'HML',4:'RMW',5:'CMA'})"
   ]
  },
  {
   "cell_type": "code",
   "execution_count": 94,
   "metadata": {
    "scrolled": false
   },
   "outputs": [
    {
     "data": {
      "text/plain": [
       "0   -0.504765\n",
       "1    1.081535\n",
       "2    0.763762\n",
       "3    2.495129\n",
       "4    5.763902\n",
       "5    6.336348\n",
       "dtype: float64"
      ]
     },
     "execution_count": 94,
     "metadata": {},
     "output_type": "execute_result"
    }
   ],
   "source": [
    "np.mean(all_lambdas[0])*21*100"
   ]
  },
  {
   "cell_type": "code",
   "execution_count": 95,
   "metadata": {
    "scrolled": false
   },
   "outputs": [
    {
     "data": {
      "text/plain": [
       "array([-2.27610266,  0.69014178,  0.03207976,  0.54911619,  0.83474209,\n",
       "        0.49343067])"
      ]
     },
     "execution_count": 95,
     "metadata": {},
     "output_type": "execute_result"
    }
   ],
   "source": [
    "stats.ttest_1samp(all_lambdas[0].dropna(), 0.0)[0]"
   ]
  },
  {
   "cell_type": "code",
   "execution_count": 96,
   "metadata": {
    "scrolled": true
   },
   "outputs": [
    {
     "data": {
      "text/plain": [
       "array([-1.47705265,  0.44104491,  0.02053001,  0.35688192,  0.55395337,\n",
       "        0.3209101 ])"
      ]
     },
     "execution_count": 96,
     "metadata": {},
     "output_type": "execute_result"
    }
   ],
   "source": [
    "## New-West Adjustment \n",
    "all_lambdas[0].apply(lambda x: NW_ttest(ret = x, h0=0), axis=0).values"
   ]
  },
  {
   "cell_type": "markdown",
   "metadata": {},
   "source": [
    "### Adding Firm Characteristics as Control Variables"
   ]
  },
  {
   "cell_type": "code",
   "execution_count": 97,
   "metadata": {},
   "outputs": [],
   "source": [
    "df_OP = pd.read_csv('df_std_OP.csv')\n",
    "\n",
    "df_INV = pd.read_csv('df_std_INV.csv')\n",
    "\n",
    "df_OP.Dates = df_OP.Dates.apply(lambda x:x[:10])\n",
    "\n",
    "df_OP.set_index('Dates',inplace=True)\n",
    "\n",
    "df_INV.Dates = df_INV.Dates.apply(lambda x:x[:10])\n",
    "\n",
    "df_INV.set_index('Dates',inplace=True)"
   ]
  },
  {
   "cell_type": "code",
   "execution_count": 98,
   "metadata": {},
   "outputs": [],
   "source": [
    "df_ln_Size = pd.read_csv('df_ln_Size.csv')\n",
    "\n",
    "df_PE = pd.read_csv('df_std_PE.csv')\n",
    "\n",
    "df_ln_Size.Dates = df_ln_Size.Dates.apply(lambda x:x[:10])\n",
    "\n",
    "df_ln_Size.set_index('Dates',inplace=True)\n",
    "\n",
    "df_PE.Dates = df_PE.Dates.apply(lambda x:x[:10])\n",
    "\n",
    "df_PE.set_index('Dates',inplace=True)"
   ]
  },
  {
   "cell_type": "code",
   "execution_count": 99,
   "metadata": {},
   "outputs": [],
   "source": [
    "df_ln_Size = df_ln_Size.loc[df_Ex_SR.index,:]"
   ]
  },
  {
   "cell_type": "code",
   "execution_count": 100,
   "metadata": {},
   "outputs": [],
   "source": [
    "df_PE = df_PE.loc[df_Ex_SR.index,:]"
   ]
  },
  {
   "cell_type": "code",
   "execution_count": 101,
   "metadata": {},
   "outputs": [],
   "source": [
    "df_OP = df_OP.loc[df_Ex_SR.index,:]"
   ]
  },
  {
   "cell_type": "code",
   "execution_count": 102,
   "metadata": {},
   "outputs": [],
   "source": [
    "df_INV = df_INV.loc[df_Ex_SR.index,:]"
   ]
  },
  {
   "cell_type": "code",
   "execution_count": 103,
   "metadata": {
    "scrolled": false
   },
   "outputs": [
    {
     "data": {
      "text/plain": [
       "True"
      ]
     },
     "execution_count": 103,
     "metadata": {},
     "output_type": "execute_result"
    }
   ],
   "source": [
    "len(df_ln_Size)==len(df_PE)==len(df_Ex_SR)==len(df_OP)==len(df_INV)"
   ]
  },
  {
   "cell_type": "code",
   "execution_count": 104,
   "metadata": {},
   "outputs": [],
   "source": [
    "Gap = 21"
   ]
  },
  {
   "cell_type": "code",
   "execution_count": 105,
   "metadata": {},
   "outputs": [
    {
     "data": {
      "text/plain": [
       "165"
      ]
     },
     "execution_count": 105,
     "metadata": {},
     "output_type": "execute_result"
    }
   ],
   "source": [
    "n = 5\n",
    "holding = 21\n",
    "rollingW = holding * n *12\n",
    "lens = len(df_FF5)\n",
    "periods = int((lens - rollingW) / holding) - 1\n",
    "periods"
   ]
  },
  {
   "cell_type": "code",
   "execution_count": 106,
   "metadata": {
    "scrolled": true
   },
   "outputs": [
    {
     "name": "stderr",
     "output_type": "stream",
     "text": [
      "100%|██████████| 3444/3444 [00:27<00:00, 125.14it/s]\n"
     ]
    }
   ],
   "source": [
    "all_lambdas = []\n",
    "\n",
    "df_Ex_SR_tmp_T = df_Ex_SR.iloc[rollingW:rollingW+periods*holding,:].T\n",
    "df_ln_Size_tmp_T = df_ln_Size.iloc[rollingW:rollingW+periods*holding,:].T\n",
    "df_PE_tmp_T = df_PE.iloc[rollingW:rollingW+periods*holding,:].T\n",
    "df_OP_tmp_T = df_OP.iloc[rollingW:rollingW+periods*holding,:].T\n",
    "df_INV_tmp_T = df_INV.iloc[rollingW:rollingW+periods*holding,:].T\n",
    "\n",
    "lambdas = []\n",
    "index_times = list(df_Ex_SR_tmp_T.columns)\n",
    "# If Gap >0, the following should be 'for k in tqdm(df_Ex_SR_tmp_T.columns[:-Gap]):''\n",
    "for k in tqdm(df_Ex_SR_tmp_T.columns[:-Gap]):\n",
    "    # k is time t in 3948 days\n",
    "    i = int(index_times.index(k) / holding)\n",
    "    # i is time T in 185 periods\n",
    "    # df_ln_Size_tmp_T.loc[:,k].replace(-np.inf,np.nan), the -inf in ln_Size data dataframe would interrupt the regression\n",
    "    df_index = ((((((all_betas_ev[i].index).intersection(df_ln_Size_tmp_T.loc[:,k].replace(-np.inf,np.nan).dropna().index).\\\n",
    "                 intersection(df_PE_tmp_T.loc[:,k].replace(-np.inf,np.nan).dropna().index)).\\\n",
    "                  intersection(df_Ex_SR_tmp_T.loc[:,index_times[index_times.index(k)+Gap]].dropna().index)).\\\n",
    "                   intersection(df_OP_tmp_T.loc[:,k].dropna().index)).\\\n",
    "                    intersection(df_INV_tmp_T.loc[:,k].dropna().index)).\\\n",
    "                     intersection(all_betas_iv[i].index))\n",
    "    \n",
    "    if len(df_index) != 0:\n",
    "        iv = IV2SLS(endog = df_Ex_SR_tmp_T.loc[df_index,index_times[index_times.index(k)+Gap]].values,\\\n",
    "                    exog = sm.add_constant(pd.concat([all_betas_ev[i].loc[df_index,:],\\\n",
    "                                                      df_ln_Size_tmp_T.loc[df_index,k],\\\n",
    "                                                      df_PE_tmp_T.loc[df_index,k],\\\n",
    "                                                      df_OP_tmp_T.loc[df_index,k],\\\n",
    "                                                      df_INV_tmp_T.loc[df_index,k]],axis = 1).values.astype(np.float64)),\\\n",
    "                    instrument = sm.add_constant(pd.concat([all_betas_iv[i].loc[df_index,:],\\\n",
    "                                                           df_ln_Size_tmp_T.loc[df_index,k],\\\n",
    "                                                           df_PE_tmp_T.loc[df_index,k],\\\n",
    "                                                           df_OP_tmp_T.loc[df_index,k],\\\n",
    "                                                           df_INV_tmp_T.loc[df_index,k]],axis = 1).values.astype(np.float64)))\n",
    "        res = iv.fit()\n",
    "        l = list(res.params)           \n",
    "        lambdas.append(l)\n",
    "\n",
    "all_lambdas.append(pd.DataFrame(lambdas))"
   ]
  },
  {
   "cell_type": "code",
   "execution_count": 126,
   "metadata": {
    "scrolled": true
   },
   "outputs": [
    {
     "data": {
      "text/html": [
       "<div>\n",
       "<style scoped>\n",
       "    .dataframe tbody tr th:only-of-type {\n",
       "        vertical-align: middle;\n",
       "    }\n",
       "\n",
       "    .dataframe tbody tr th {\n",
       "        vertical-align: top;\n",
       "    }\n",
       "\n",
       "    .dataframe thead th {\n",
       "        text-align: right;\n",
       "    }\n",
       "</style>\n",
       "<table border=\"1\" class=\"dataframe\">\n",
       "  <thead>\n",
       "    <tr style=\"text-align: right;\">\n",
       "      <th></th>\n",
       "      <th>Intercept</th>\n",
       "      <th>MKT</th>\n",
       "      <th>SMB</th>\n",
       "      <th>HML</th>\n",
       "      <th>RMW</th>\n",
       "      <th>CMA</th>\n",
       "      <th>Size</th>\n",
       "      <th>PE</th>\n",
       "      <th>OP</th>\n",
       "      <th>INV</th>\n",
       "    </tr>\n",
       "  </thead>\n",
       "  <tbody>\n",
       "    <tr>\n",
       "      <th>0</th>\n",
       "      <td>-0.011827</td>\n",
       "      <td>-0.023069</td>\n",
       "      <td>0.085299</td>\n",
       "      <td>-0.063094</td>\n",
       "      <td>0.056884</td>\n",
       "      <td>0.031306</td>\n",
       "      <td>0.002571</td>\n",
       "      <td>0.004230</td>\n",
       "      <td>0.003220</td>\n",
       "      <td>0.003572</td>\n",
       "    </tr>\n",
       "    <tr>\n",
       "      <th>1</th>\n",
       "      <td>-0.012564</td>\n",
       "      <td>-0.002128</td>\n",
       "      <td>0.078102</td>\n",
       "      <td>-0.021120</td>\n",
       "      <td>0.045023</td>\n",
       "      <td>0.008844</td>\n",
       "      <td>0.002164</td>\n",
       "      <td>0.000689</td>\n",
       "      <td>-0.001394</td>\n",
       "      <td>0.002813</td>\n",
       "    </tr>\n",
       "    <tr>\n",
       "      <th>2</th>\n",
       "      <td>0.007764</td>\n",
       "      <td>0.008337</td>\n",
       "      <td>0.050220</td>\n",
       "      <td>-0.012628</td>\n",
       "      <td>-0.003301</td>\n",
       "      <td>0.007465</td>\n",
       "      <td>-0.001487</td>\n",
       "      <td>-0.000040</td>\n",
       "      <td>0.004447</td>\n",
       "      <td>-0.001319</td>\n",
       "    </tr>\n",
       "    <tr>\n",
       "      <th>3</th>\n",
       "      <td>-0.002531</td>\n",
       "      <td>-0.020339</td>\n",
       "      <td>-0.032863</td>\n",
       "      <td>-0.021327</td>\n",
       "      <td>0.026876</td>\n",
       "      <td>-0.005788</td>\n",
       "      <td>0.000354</td>\n",
       "      <td>0.000505</td>\n",
       "      <td>0.002267</td>\n",
       "      <td>0.002344</td>\n",
       "    </tr>\n",
       "    <tr>\n",
       "      <th>4</th>\n",
       "      <td>0.009193</td>\n",
       "      <td>-0.005720</td>\n",
       "      <td>-0.228515</td>\n",
       "      <td>0.087180</td>\n",
       "      <td>-0.131290</td>\n",
       "      <td>-0.034139</td>\n",
       "      <td>-0.000849</td>\n",
       "      <td>-0.005842</td>\n",
       "      <td>-0.002895</td>\n",
       "      <td>-0.005884</td>\n",
       "    </tr>\n",
       "    <tr>\n",
       "      <th>...</th>\n",
       "      <td>...</td>\n",
       "      <td>...</td>\n",
       "      <td>...</td>\n",
       "      <td>...</td>\n",
       "      <td>...</td>\n",
       "      <td>...</td>\n",
       "      <td>...</td>\n",
       "      <td>...</td>\n",
       "      <td>...</td>\n",
       "      <td>...</td>\n",
       "    </tr>\n",
       "    <tr>\n",
       "      <th>3439</th>\n",
       "      <td>0.000557</td>\n",
       "      <td>0.011755</td>\n",
       "      <td>-0.000309</td>\n",
       "      <td>0.006006</td>\n",
       "      <td>-0.002675</td>\n",
       "      <td>-0.003219</td>\n",
       "      <td>-0.000446</td>\n",
       "      <td>-0.000491</td>\n",
       "      <td>0.000159</td>\n",
       "      <td>-0.000790</td>\n",
       "    </tr>\n",
       "    <tr>\n",
       "      <th>3440</th>\n",
       "      <td>-0.007412</td>\n",
       "      <td>-0.018653</td>\n",
       "      <td>-0.032161</td>\n",
       "      <td>-0.018848</td>\n",
       "      <td>0.017171</td>\n",
       "      <td>0.014285</td>\n",
       "      <td>0.001078</td>\n",
       "      <td>0.000187</td>\n",
       "      <td>-0.000657</td>\n",
       "      <td>0.000189</td>\n",
       "    </tr>\n",
       "    <tr>\n",
       "      <th>3441</th>\n",
       "      <td>0.002147</td>\n",
       "      <td>0.008373</td>\n",
       "      <td>0.032773</td>\n",
       "      <td>0.003041</td>\n",
       "      <td>0.012251</td>\n",
       "      <td>-0.002043</td>\n",
       "      <td>-0.000266</td>\n",
       "      <td>0.001326</td>\n",
       "      <td>0.000358</td>\n",
       "      <td>-0.001430</td>\n",
       "    </tr>\n",
       "    <tr>\n",
       "      <th>3442</th>\n",
       "      <td>-0.005234</td>\n",
       "      <td>-0.017837</td>\n",
       "      <td>-0.034687</td>\n",
       "      <td>0.010752</td>\n",
       "      <td>0.018850</td>\n",
       "      <td>0.032638</td>\n",
       "      <td>0.000653</td>\n",
       "      <td>-0.003792</td>\n",
       "      <td>-0.003111</td>\n",
       "      <td>-0.002934</td>\n",
       "    </tr>\n",
       "    <tr>\n",
       "      <th>3443</th>\n",
       "      <td>-0.001837</td>\n",
       "      <td>0.001004</td>\n",
       "      <td>0.016651</td>\n",
       "      <td>0.000873</td>\n",
       "      <td>-0.009945</td>\n",
       "      <td>0.018850</td>\n",
       "      <td>0.000345</td>\n",
       "      <td>0.001309</td>\n",
       "      <td>-0.000187</td>\n",
       "      <td>0.000500</td>\n",
       "    </tr>\n",
       "  </tbody>\n",
       "</table>\n",
       "<p>3389 rows × 10 columns</p>\n",
       "</div>"
      ],
      "text/plain": [
       "      Intercept       MKT       SMB       HML       RMW       CMA      Size  \\\n",
       "0     -0.011827 -0.023069  0.085299 -0.063094  0.056884  0.031306  0.002571   \n",
       "1     -0.012564 -0.002128  0.078102 -0.021120  0.045023  0.008844  0.002164   \n",
       "2      0.007764  0.008337  0.050220 -0.012628 -0.003301  0.007465 -0.001487   \n",
       "3     -0.002531 -0.020339 -0.032863 -0.021327  0.026876 -0.005788  0.000354   \n",
       "4      0.009193 -0.005720 -0.228515  0.087180 -0.131290 -0.034139 -0.000849   \n",
       "...         ...       ...       ...       ...       ...       ...       ...   \n",
       "3439   0.000557  0.011755 -0.000309  0.006006 -0.002675 -0.003219 -0.000446   \n",
       "3440  -0.007412 -0.018653 -0.032161 -0.018848  0.017171  0.014285  0.001078   \n",
       "3441   0.002147  0.008373  0.032773  0.003041  0.012251 -0.002043 -0.000266   \n",
       "3442  -0.005234 -0.017837 -0.034687  0.010752  0.018850  0.032638  0.000653   \n",
       "3443  -0.001837  0.001004  0.016651  0.000873 -0.009945  0.018850  0.000345   \n",
       "\n",
       "            PE        OP       INV  \n",
       "0     0.004230  0.003220  0.003572  \n",
       "1     0.000689 -0.001394  0.002813  \n",
       "2    -0.000040  0.004447 -0.001319  \n",
       "3     0.000505  0.002267  0.002344  \n",
       "4    -0.005842 -0.002895 -0.005884  \n",
       "...        ...       ...       ...  \n",
       "3439 -0.000491  0.000159 -0.000790  \n",
       "3440  0.000187 -0.000657  0.000189  \n",
       "3441  0.001326  0.000358 -0.001430  \n",
       "3442 -0.003792 -0.003111 -0.002934  \n",
       "3443  0.001309 -0.000187  0.000500  \n",
       "\n",
       "[3389 rows x 10 columns]"
      ]
     },
     "execution_count": 126,
     "metadata": {},
     "output_type": "execute_result"
    }
   ],
   "source": [
    "all_lambdas[0] = all_lambdas[0][(np.abs((all_lambdas[0]-all_lambdas[0].mean())/all_lambdas[0].std()) <= 3).all(axis=1)]\n",
    "all_lambdas[0].rename(columns={0:'Intercept',1:'MKT',2:'SMB',3:'HML',4:'RMW',5:'CMA',6:'Size',7:'PE',8:'OP',9:'INV'})"
   ]
  },
  {
   "cell_type": "code",
   "execution_count": 127,
   "metadata": {},
   "outputs": [
    {
     "data": {
      "text/plain": [
       "0   -0.660636\n",
       "1   -0.817933\n",
       "2   -1.540293\n",
       "3   -1.889474\n",
       "4   -1.263579\n",
       "5   -0.373080\n",
       "6    0.089673\n",
       "7   -0.475708\n",
       "8    0.254486\n",
       "9    0.098073\n",
       "dtype: float64"
      ]
     },
     "execution_count": 127,
     "metadata": {},
     "output_type": "execute_result"
    }
   ],
   "source": [
    "np.mean(all_lambdas[0])*21*100"
   ]
  },
  {
   "cell_type": "code",
   "execution_count": 128,
   "metadata": {
    "scrolled": true
   },
   "outputs": [
    {
     "data": {
      "text/plain": [
       "array([-2.31911573, -1.09315226, -0.59007815, -1.59403424, -0.97493671,\n",
       "       -0.3075382 ,  1.72866065, -5.27346186,  2.72530314,  1.15230241])"
      ]
     },
     "execution_count": 128,
     "metadata": {},
     "output_type": "execute_result"
    }
   ],
   "source": [
    "stats.ttest_1samp(all_lambdas[0].dropna(), 0.0)[0]"
   ]
  },
  {
   "cell_type": "code",
   "execution_count": 129,
   "metadata": {
    "scrolled": true
   },
   "outputs": [
    {
     "data": {
      "text/plain": [
       "array([-1.45962092, -0.67714827, -0.37939123, -1.0070646 , -0.61542253,\n",
       "       -0.20058756,  1.08646018, -3.3634224 ,  1.73553362,  0.72927884])"
      ]
     },
     "execution_count": 129,
     "metadata": {},
     "output_type": "execute_result"
    }
   ],
   "source": [
    "## New-West Adjustment \n",
    "all_lambdas[0].apply(lambda x: NW_ttest(ret = x, h0=0), axis=0).values"
   ]
  }
 ],
 "metadata": {
  "interpreter": {
   "hash": "69d8a1c8da2120c547dc6be546b5e615f27ec597372f3fd7b53ede26964dbf96"
  },
  "kernelspec": {
   "display_name": "Python 3",
   "language": "python",
   "name": "python3"
  },
  "language_info": {
   "codemirror_mode": {
    "name": "ipython",
    "version": 3
   },
   "file_extension": ".py",
   "mimetype": "text/x-python",
   "name": "python",
   "nbconvert_exporter": "python",
   "pygments_lexer": "ipython3",
   "version": "3.8.5"
  },
  "toc": {
   "base_numbering": 1,
   "nav_menu": {
    "height": "201.996px",
    "width": "356.996px"
   },
   "number_sections": true,
   "sideBar": true,
   "skip_h1_title": false,
   "title_cell": "Table of Contents",
   "title_sidebar": "Contents",
   "toc_cell": false,
   "toc_position": {},
   "toc_section_display": true,
   "toc_window_display": false
  }
 },
 "nbformat": 4,
 "nbformat_minor": 2
}
