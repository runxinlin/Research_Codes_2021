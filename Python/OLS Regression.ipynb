{
 "cells": [
  {
   "cell_type": "code",
   "execution_count": 470,
   "metadata": {},
   "outputs": [],
   "source": [
    "%matplotlib inline\n",
    "import pandas as pd\n",
    "import json\n",
    "from sklearn.linear_model import LinearRegression\n",
    "import numpy as np\n",
    "from scipy import stats\n",
    "from tqdm import tqdm\n",
    "import statsmodels.api as sm\n",
    "import matplotlib.pyplot as plt"
   ]
  },
  {
   "cell_type": "code",
   "execution_count": 471,
   "metadata": {},
   "outputs": [],
   "source": [
    "ols_model = LinearRegression()"
   ]
  },
  {
   "cell_type": "code",
   "execution_count": 472,
   "metadata": {},
   "outputs": [],
   "source": [
    "def replacer(l,target_val=0,replace_val=np.NaN,repeat_max=10):\n",
    "    #repeat_max = n (consecutive 0s over 10 times will be replaced with NAs)\n",
    "    counter = 0\n",
    "    new_l = []\n",
    "    for e in l:\n",
    "        if e == target_val: counter += 1\n",
    "        else:\n",
    "            counter = 0\n",
    "\n",
    "        if counter > repeat_max:\n",
    "            new_l.append(replace_val)\n",
    "        else:\n",
    "            new_l.append(e)\n",
    "\n",
    "    return new_l"
   ]
  },
  {
   "cell_type": "code",
   "execution_count": 473,
   "metadata": {},
   "outputs": [],
   "source": [
    "def froll_sum(x): \n",
    "    # Convert daily return to monthly return, use fix_rolling_sum function\n",
    "    tmp = []\n",
    "    for i in range(int(len(x)/21)): # 21 represents the trading days for one month\n",
    "        res = np.sum(x[i*21:(i+1)*21])\n",
    "        tmp.append(res)\n",
    "    return tmp"
   ]
  },
  {
   "cell_type": "code",
   "execution_count": 474,
   "metadata": {},
   "outputs": [],
   "source": [
    "## Newey-West Adjustment For a Time-Series Data, e.g. Lambdas (factor returns)\n",
    "def NW_ttest(ret,h0):\n",
    "  T = len(ret)\n",
    "  lag = int(4*(T/100)**(2/9))\n",
    "  vv = np.var(ret)\n",
    "\n",
    "  for l in range(0,lag):\n",
    "      cc=np.cov(ret[0:(len(ret)-l)].T,ret[l:len(ret)].T)[0,1]\n",
    "      vv=vv+2*(1-(l+1)/lag)*cc\n",
    "      t=(np.mean(ret)-h0)/np.sqrt(vv)*np.sqrt(T)\n",
    "  \n",
    "  return t"
   ]
  },
  {
   "cell_type": "markdown",
   "metadata": {},
   "source": [
    "Import Data"
   ]
  },
  {
   "cell_type": "code",
   "execution_count": 475,
   "metadata": {},
   "outputs": [],
   "source": [
    "# Import excessive market return (J203T - Rf)\n",
    "df_MR = pd.read_csv('df_MR.csv')\n",
    "df_MR.Dates = df_MR.Dates.apply(lambda x:x[:10])\n",
    "df_MR.set_index('Dates',inplace=True)"
   ]
  },
  {
   "cell_type": "markdown",
   "metadata": {},
   "source": [
    "Import risk-free rate (91-day T-Bill)"
   ]
  },
  {
   "cell_type": "code",
   "execution_count": 476,
   "metadata": {},
   "outputs": [],
   "source": [
    "df_RF = pd.read_csv('df_RF.csv',index_col=0)"
   ]
  },
  {
   "cell_type": "markdown",
   "metadata": {},
   "source": [
    "Import listed stock returns on the JSE"
   ]
  },
  {
   "cell_type": "code",
   "execution_count": 477,
   "metadata": {},
   "outputs": [],
   "source": [
    "df_SR = pd.read_csv('df_SR.csv',index_col=0)\n",
    "df_SR.index = df_SR.index.to_series().apply(lambda x:x[:10])"
   ]
  },
  {
   "cell_type": "markdown",
   "metadata": {},
   "source": [
    "Drop the columns of stock returns that full of 0s or NAs and replace consecutive 0s with NAs"
   ]
  },
  {
   "cell_type": "code",
   "execution_count": 478,
   "metadata": {},
   "outputs": [],
   "source": [
    "df_SR = df_SR.loc[:, (df_SR != 0).any(axis=0)].astype(np.float64)\n",
    "df_SR = df_SR.dropna(axis = 0, how = 'all')\n",
    "df_SR = df_SR.apply(replacer)"
   ]
  },
  {
   "cell_type": "code",
   "execution_count": 479,
   "metadata": {},
   "outputs": [
    {
     "data": {
      "text/html": [
       "<div>\n",
       "<style scoped>\n",
       "    .dataframe tbody tr th:only-of-type {\n",
       "        vertical-align: middle;\n",
       "    }\n",
       "\n",
       "    .dataframe tbody tr th {\n",
       "        vertical-align: top;\n",
       "    }\n",
       "\n",
       "    .dataframe thead th {\n",
       "        text-align: right;\n",
       "    }\n",
       "</style>\n",
       "<table border=\"1\" class=\"dataframe\">\n",
       "  <thead>\n",
       "    <tr style=\"text-align: right;\">\n",
       "      <th></th>\n",
       "      <th>MTN.SJ.Equity</th>\n",
       "      <th>NTC.SJ.Equity</th>\n",
       "      <th>WHL.SJ.Equity</th>\n",
       "      <th>SOL.SJ.Equity</th>\n",
       "      <th>RMH.SJ.Equity</th>\n",
       "      <th>SAP.SJ.Equity</th>\n",
       "      <th>IMP.SJ.Equity</th>\n",
       "      <th>NPK.SJ.Equity</th>\n",
       "      <th>GFI.SJ.Equity</th>\n",
       "      <th>ACL.SJ.Equity</th>\n",
       "      <th>...</th>\n",
       "      <th>AFE.SJ.Equity</th>\n",
       "      <th>DSY.SJ.Equity</th>\n",
       "      <th>MRP.SJ.Equity</th>\n",
       "      <th>APN.SJ.Equity</th>\n",
       "      <th>AFX.SJ.Equity</th>\n",
       "      <th>SUR.SJ.Equity</th>\n",
       "      <th>DRD.SJ.Equity</th>\n",
       "      <th>SUI.SJ.Equity</th>\n",
       "      <th>WBO.SJ.Equity</th>\n",
       "      <th>SNT.SJ.Equity</th>\n",
       "    </tr>\n",
       "    <tr>\n",
       "      <th>Dates</th>\n",
       "      <th></th>\n",
       "      <th></th>\n",
       "      <th></th>\n",
       "      <th></th>\n",
       "      <th></th>\n",
       "      <th></th>\n",
       "      <th></th>\n",
       "      <th></th>\n",
       "      <th></th>\n",
       "      <th></th>\n",
       "      <th></th>\n",
       "      <th></th>\n",
       "      <th></th>\n",
       "      <th></th>\n",
       "      <th></th>\n",
       "      <th></th>\n",
       "      <th></th>\n",
       "      <th></th>\n",
       "      <th></th>\n",
       "      <th></th>\n",
       "      <th></th>\n",
       "    </tr>\n",
       "  </thead>\n",
       "  <tbody>\n",
       "    <tr>\n",
       "      <th>2000-01-05</th>\n",
       "      <td>0.012821</td>\n",
       "      <td>-0.024693</td>\n",
       "      <td>-0.040734</td>\n",
       "      <td>-0.009132</td>\n",
       "      <td>-0.004376</td>\n",
       "      <td>-0.016666</td>\n",
       "      <td>-0.048790</td>\n",
       "      <td>-0.025318</td>\n",
       "      <td>-0.079755</td>\n",
       "      <td>-0.013234</td>\n",
       "      <td>...</td>\n",
       "      <td>0.000000</td>\n",
       "      <td>-0.004491</td>\n",
       "      <td>0.000000</td>\n",
       "      <td>0.000000</td>\n",
       "      <td>-0.013889</td>\n",
       "      <td>0.000000</td>\n",
       "      <td>-0.020201</td>\n",
       "      <td>-0.020620</td>\n",
       "      <td>-0.040822</td>\n",
       "      <td>0.000000</td>\n",
       "    </tr>\n",
       "    <tr>\n",
       "      <th>2000-01-06</th>\n",
       "      <td>0.075623</td>\n",
       "      <td>-0.077962</td>\n",
       "      <td>-0.047886</td>\n",
       "      <td>0.015175</td>\n",
       "      <td>-0.015470</td>\n",
       "      <td>0.024898</td>\n",
       "      <td>-0.021053</td>\n",
       "      <td>0.011332</td>\n",
       "      <td>-0.015207</td>\n",
       "      <td>0.034932</td>\n",
       "      <td>...</td>\n",
       "      <td>0.034689</td>\n",
       "      <td>-0.018187</td>\n",
       "      <td>0.000000</td>\n",
       "      <td>-0.024698</td>\n",
       "      <td>0.020762</td>\n",
       "      <td>0.000000</td>\n",
       "      <td>-0.031094</td>\n",
       "      <td>0.000000</td>\n",
       "      <td>0.000000</td>\n",
       "      <td>-0.032789</td>\n",
       "    </tr>\n",
       "    <tr>\n",
       "      <th>2000-01-07</th>\n",
       "      <td>0.079437</td>\n",
       "      <td>0.013423</td>\n",
       "      <td>0.034816</td>\n",
       "      <td>0.041304</td>\n",
       "      <td>0.011808</td>\n",
       "      <td>0.032262</td>\n",
       "      <td>0.004246</td>\n",
       "      <td>0.068053</td>\n",
       "      <td>0.033902</td>\n",
       "      <td>0.147389</td>\n",
       "      <td>...</td>\n",
       "      <td>0.100805</td>\n",
       "      <td>-0.086180</td>\n",
       "      <td>0.007117</td>\n",
       "      <td>0.060625</td>\n",
       "      <td>0.020340</td>\n",
       "      <td>0.021979</td>\n",
       "      <td>0.031094</td>\n",
       "      <td>0.010363</td>\n",
       "      <td>0.020619</td>\n",
       "      <td>0.003325</td>\n",
       "    </tr>\n",
       "    <tr>\n",
       "      <th>2000-01-10</th>\n",
       "      <td>0.066809</td>\n",
       "      <td>0.089231</td>\n",
       "      <td>0.076001</td>\n",
       "      <td>0.020973</td>\n",
       "      <td>0.100433</td>\n",
       "      <td>0.023531</td>\n",
       "      <td>0.000000</td>\n",
       "      <td>0.071096</td>\n",
       "      <td>0.016530</td>\n",
       "      <td>0.043488</td>\n",
       "      <td>...</td>\n",
       "      <td>0.000000</td>\n",
       "      <td>0.014887</td>\n",
       "      <td>0.021053</td>\n",
       "      <td>0.045994</td>\n",
       "      <td>0.036248</td>\n",
       "      <td>0.000000</td>\n",
       "      <td>0.005086</td>\n",
       "      <td>0.000000</td>\n",
       "      <td>0.010152</td>\n",
       "      <td>0.043874</td>\n",
       "    </tr>\n",
       "    <tr>\n",
       "      <th>2000-01-11</th>\n",
       "      <td>0.020203</td>\n",
       "      <td>0.070618</td>\n",
       "      <td>-0.050029</td>\n",
       "      <td>-0.044366</td>\n",
       "      <td>0.003312</td>\n",
       "      <td>-0.012481</td>\n",
       "      <td>-0.044182</td>\n",
       "      <td>-0.055430</td>\n",
       "      <td>-0.009151</td>\n",
       "      <td>-0.090891</td>\n",
       "      <td>...</td>\n",
       "      <td>-0.017275</td>\n",
       "      <td>-0.004934</td>\n",
       "      <td>0.000000</td>\n",
       "      <td>0.220877</td>\n",
       "      <td>-0.003241</td>\n",
       "      <td>0.021506</td>\n",
       "      <td>0.000000</td>\n",
       "      <td>0.006167</td>\n",
       "      <td>0.010050</td>\n",
       "      <td>0.017337</td>\n",
       "    </tr>\n",
       "    <tr>\n",
       "      <th>...</th>\n",
       "      <td>...</td>\n",
       "      <td>...</td>\n",
       "      <td>...</td>\n",
       "      <td>...</td>\n",
       "      <td>...</td>\n",
       "      <td>...</td>\n",
       "      <td>...</td>\n",
       "      <td>...</td>\n",
       "      <td>...</td>\n",
       "      <td>...</td>\n",
       "      <td>...</td>\n",
       "      <td>...</td>\n",
       "      <td>...</td>\n",
       "      <td>...</td>\n",
       "      <td>...</td>\n",
       "      <td>...</td>\n",
       "      <td>...</td>\n",
       "      <td>...</td>\n",
       "      <td>...</td>\n",
       "      <td>...</td>\n",
       "      <td>...</td>\n",
       "    </tr>\n",
       "    <tr>\n",
       "      <th>2019-12-25</th>\n",
       "      <td>0.000000</td>\n",
       "      <td>0.000000</td>\n",
       "      <td>0.000000</td>\n",
       "      <td>0.000000</td>\n",
       "      <td>0.000000</td>\n",
       "      <td>0.000000</td>\n",
       "      <td>0.000000</td>\n",
       "      <td>0.000000</td>\n",
       "      <td>0.000000</td>\n",
       "      <td>0.000000</td>\n",
       "      <td>...</td>\n",
       "      <td>0.000000</td>\n",
       "      <td>0.000000</td>\n",
       "      <td>0.000000</td>\n",
       "      <td>0.000000</td>\n",
       "      <td>0.000000</td>\n",
       "      <td>0.000000</td>\n",
       "      <td>0.000000</td>\n",
       "      <td>0.000000</td>\n",
       "      <td>0.000000</td>\n",
       "      <td>0.000000</td>\n",
       "    </tr>\n",
       "    <tr>\n",
       "      <th>2019-12-26</th>\n",
       "      <td>0.000000</td>\n",
       "      <td>0.000000</td>\n",
       "      <td>0.000000</td>\n",
       "      <td>0.000000</td>\n",
       "      <td>0.000000</td>\n",
       "      <td>0.000000</td>\n",
       "      <td>0.000000</td>\n",
       "      <td>0.000000</td>\n",
       "      <td>0.000000</td>\n",
       "      <td>0.000000</td>\n",
       "      <td>...</td>\n",
       "      <td>0.000000</td>\n",
       "      <td>0.000000</td>\n",
       "      <td>0.000000</td>\n",
       "      <td>0.000000</td>\n",
       "      <td>0.000000</td>\n",
       "      <td>0.000000</td>\n",
       "      <td>0.000000</td>\n",
       "      <td>0.000000</td>\n",
       "      <td>0.000000</td>\n",
       "      <td>0.000000</td>\n",
       "    </tr>\n",
       "    <tr>\n",
       "      <th>2019-12-27</th>\n",
       "      <td>-0.000119</td>\n",
       "      <td>0.004612</td>\n",
       "      <td>0.003673</td>\n",
       "      <td>0.012542</td>\n",
       "      <td>0.003590</td>\n",
       "      <td>0.004883</td>\n",
       "      <td>0.009022</td>\n",
       "      <td>-0.001472</td>\n",
       "      <td>0.025673</td>\n",
       "      <td>-0.080043</td>\n",
       "      <td>...</td>\n",
       "      <td>-0.027909</td>\n",
       "      <td>0.010917</td>\n",
       "      <td>0.007941</td>\n",
       "      <td>0.010903</td>\n",
       "      <td>0.005886</td>\n",
       "      <td>-0.030334</td>\n",
       "      <td>0.027399</td>\n",
       "      <td>0.011287</td>\n",
       "      <td>-0.010159</td>\n",
       "      <td>-0.021661</td>\n",
       "    </tr>\n",
       "    <tr>\n",
       "      <th>2019-12-30</th>\n",
       "      <td>-0.007392</td>\n",
       "      <td>0.011185</td>\n",
       "      <td>0.013955</td>\n",
       "      <td>-0.008505</td>\n",
       "      <td>0.004451</td>\n",
       "      <td>-0.010238</td>\n",
       "      <td>0.011009</td>\n",
       "      <td>0.001472</td>\n",
       "      <td>0.007703</td>\n",
       "      <td>0.000000</td>\n",
       "      <td>...</td>\n",
       "      <td>0.022481</td>\n",
       "      <td>0.021483</td>\n",
       "      <td>0.002204</td>\n",
       "      <td>0.025693</td>\n",
       "      <td>-0.009070</td>\n",
       "      <td>0.038246</td>\n",
       "      <td>-0.026011</td>\n",
       "      <td>-0.026952</td>\n",
       "      <td>-0.021132</td>\n",
       "      <td>0.027393</td>\n",
       "    </tr>\n",
       "    <tr>\n",
       "      <th>2019-12-31</th>\n",
       "      <td>-0.013008</td>\n",
       "      <td>-0.016310</td>\n",
       "      <td>-0.024191</td>\n",
       "      <td>-0.022063</td>\n",
       "      <td>-0.013117</td>\n",
       "      <td>-0.023312</td>\n",
       "      <td>-0.011775</td>\n",
       "      <td>0.004402</td>\n",
       "      <td>0.021508</td>\n",
       "      <td>-0.008368</td>\n",
       "      <td>...</td>\n",
       "      <td>-0.013092</td>\n",
       "      <td>-0.029246</td>\n",
       "      <td>-0.020340</td>\n",
       "      <td>-0.031214</td>\n",
       "      <td>-0.020249</td>\n",
       "      <td>0.000000</td>\n",
       "      <td>0.039434</td>\n",
       "      <td>0.000000</td>\n",
       "      <td>-0.013592</td>\n",
       "      <td>-0.018948</td>\n",
       "    </tr>\n",
       "  </tbody>\n",
       "</table>\n",
       "<p>5215 rows × 42 columns</p>\n",
       "</div>"
      ],
      "text/plain": [
       "            MTN.SJ.Equity  NTC.SJ.Equity  WHL.SJ.Equity  SOL.SJ.Equity  \\\n",
       "Dates                                                                    \n",
       "2000-01-05       0.012821      -0.024693      -0.040734      -0.009132   \n",
       "2000-01-06       0.075623      -0.077962      -0.047886       0.015175   \n",
       "2000-01-07       0.079437       0.013423       0.034816       0.041304   \n",
       "2000-01-10       0.066809       0.089231       0.076001       0.020973   \n",
       "2000-01-11       0.020203       0.070618      -0.050029      -0.044366   \n",
       "...                   ...            ...            ...            ...   \n",
       "2019-12-25       0.000000       0.000000       0.000000       0.000000   \n",
       "2019-12-26       0.000000       0.000000       0.000000       0.000000   \n",
       "2019-12-27      -0.000119       0.004612       0.003673       0.012542   \n",
       "2019-12-30      -0.007392       0.011185       0.013955      -0.008505   \n",
       "2019-12-31      -0.013008      -0.016310      -0.024191      -0.022063   \n",
       "\n",
       "            RMH.SJ.Equity  SAP.SJ.Equity  IMP.SJ.Equity  NPK.SJ.Equity  \\\n",
       "Dates                                                                    \n",
       "2000-01-05      -0.004376      -0.016666      -0.048790      -0.025318   \n",
       "2000-01-06      -0.015470       0.024898      -0.021053       0.011332   \n",
       "2000-01-07       0.011808       0.032262       0.004246       0.068053   \n",
       "2000-01-10       0.100433       0.023531       0.000000       0.071096   \n",
       "2000-01-11       0.003312      -0.012481      -0.044182      -0.055430   \n",
       "...                   ...            ...            ...            ...   \n",
       "2019-12-25       0.000000       0.000000       0.000000       0.000000   \n",
       "2019-12-26       0.000000       0.000000       0.000000       0.000000   \n",
       "2019-12-27       0.003590       0.004883       0.009022      -0.001472   \n",
       "2019-12-30       0.004451      -0.010238       0.011009       0.001472   \n",
       "2019-12-31      -0.013117      -0.023312      -0.011775       0.004402   \n",
       "\n",
       "            GFI.SJ.Equity  ACL.SJ.Equity  ...  AFE.SJ.Equity  DSY.SJ.Equity  \\\n",
       "Dates                                     ...                                 \n",
       "2000-01-05      -0.079755      -0.013234  ...       0.000000      -0.004491   \n",
       "2000-01-06      -0.015207       0.034932  ...       0.034689      -0.018187   \n",
       "2000-01-07       0.033902       0.147389  ...       0.100805      -0.086180   \n",
       "2000-01-10       0.016530       0.043488  ...       0.000000       0.014887   \n",
       "2000-01-11      -0.009151      -0.090891  ...      -0.017275      -0.004934   \n",
       "...                   ...            ...  ...            ...            ...   \n",
       "2019-12-25       0.000000       0.000000  ...       0.000000       0.000000   \n",
       "2019-12-26       0.000000       0.000000  ...       0.000000       0.000000   \n",
       "2019-12-27       0.025673      -0.080043  ...      -0.027909       0.010917   \n",
       "2019-12-30       0.007703       0.000000  ...       0.022481       0.021483   \n",
       "2019-12-31       0.021508      -0.008368  ...      -0.013092      -0.029246   \n",
       "\n",
       "            MRP.SJ.Equity  APN.SJ.Equity  AFX.SJ.Equity  SUR.SJ.Equity  \\\n",
       "Dates                                                                    \n",
       "2000-01-05       0.000000       0.000000      -0.013889       0.000000   \n",
       "2000-01-06       0.000000      -0.024698       0.020762       0.000000   \n",
       "2000-01-07       0.007117       0.060625       0.020340       0.021979   \n",
       "2000-01-10       0.021053       0.045994       0.036248       0.000000   \n",
       "2000-01-11       0.000000       0.220877      -0.003241       0.021506   \n",
       "...                   ...            ...            ...            ...   \n",
       "2019-12-25       0.000000       0.000000       0.000000       0.000000   \n",
       "2019-12-26       0.000000       0.000000       0.000000       0.000000   \n",
       "2019-12-27       0.007941       0.010903       0.005886      -0.030334   \n",
       "2019-12-30       0.002204       0.025693      -0.009070       0.038246   \n",
       "2019-12-31      -0.020340      -0.031214      -0.020249       0.000000   \n",
       "\n",
       "            DRD.SJ.Equity  SUI.SJ.Equity  WBO.SJ.Equity  SNT.SJ.Equity  \n",
       "Dates                                                                   \n",
       "2000-01-05      -0.020201      -0.020620      -0.040822       0.000000  \n",
       "2000-01-06      -0.031094       0.000000       0.000000      -0.032789  \n",
       "2000-01-07       0.031094       0.010363       0.020619       0.003325  \n",
       "2000-01-10       0.005086       0.000000       0.010152       0.043874  \n",
       "2000-01-11       0.000000       0.006167       0.010050       0.017337  \n",
       "...                   ...            ...            ...            ...  \n",
       "2019-12-25       0.000000       0.000000       0.000000       0.000000  \n",
       "2019-12-26       0.000000       0.000000       0.000000       0.000000  \n",
       "2019-12-27       0.027399       0.011287      -0.010159      -0.021661  \n",
       "2019-12-30      -0.026011      -0.026952      -0.021132       0.027393  \n",
       "2019-12-31       0.039434       0.000000      -0.013592      -0.018948  \n",
       "\n",
       "[5215 rows x 42 columns]"
      ]
     },
     "execution_count": 479,
     "metadata": {},
     "output_type": "execute_result"
    }
   ],
   "source": [
    "df_SR.dropna(axis=1)"
   ]
  },
  {
   "cell_type": "markdown",
   "metadata": {},
   "source": [
    "Calculate the Excess Stock Returns "
   ]
  },
  {
   "cell_type": "code",
   "execution_count": 480,
   "metadata": {},
   "outputs": [],
   "source": [
    "df_Ex_SR = df_SR-df_RF.values"
   ]
  },
  {
   "cell_type": "markdown",
   "metadata": {},
   "source": [
    "Import the Factor Realizations (Mimicking portfolio returns)"
   ]
  },
  {
   "cell_type": "code",
   "execution_count": 481,
   "metadata": {},
   "outputs": [],
   "source": [
    "df_FF3 = pd.read_csv('df_FF3.csv')\n",
    "df_FF3.Dates = df_FF3.Dates.apply(lambda x: x[:10])\n",
    "df_FF3.set_index('Dates',inplace=True)"
   ]
  },
  {
   "cell_type": "code",
   "execution_count": 482,
   "metadata": {},
   "outputs": [],
   "source": [
    "df_FF4 = pd.read_csv('df_FF4.csv')\n",
    "df_FF4.Dates = df_FF4.Dates.apply(lambda x:x[:10])\n",
    "df_FF4.set_index('Dates',inplace=True)"
   ]
  },
  {
   "cell_type": "code",
   "execution_count": 483,
   "metadata": {},
   "outputs": [],
   "source": [
    "df_FF5 = pd.read_csv('df_FF5.csv')\n",
    "df_FF5.Dates = df_FF5.Dates.apply(lambda x:x[:10])\n",
    "df_FF5.set_index('Dates',inplace=True)"
   ]
  },
  {
   "cell_type": "code",
   "execution_count": 493,
   "metadata": {},
   "outputs": [],
   "source": [
    "from scipy.stats.mstats import winsorize\n",
    "df_FF5 = df_FF5.apply(lambda x: winsorize(x, (0.01, 0.01))) #For example, we will write (0.01, 0.01). This means we want to apply quantile(0.01) and quantile(0.99) as a boundary.\n",
    "df_Ex_SR = df_Ex_SR.apply(lambda x: winsorize(x, (0.01, 0.01)))"
   ]
  },
  {
   "cell_type": "markdown",
   "metadata": {},
   "source": [
    "Import Firm Characteristics "
   ]
  },
  {
   "cell_type": "code",
   "execution_count": 484,
   "metadata": {},
   "outputs": [],
   "source": [
    "df_ln_Size = pd.read_csv('df_ln_Size.csv')\n",
    "df_ln_Size.Dates = df_ln_Size.Dates.apply(lambda x:x[:10])\n",
    "df_ln_Size.set_index('Dates',inplace=True)"
   ]
  },
  {
   "cell_type": "code",
   "execution_count": 485,
   "metadata": {},
   "outputs": [],
   "source": [
    "df_PE = pd.read_csv('df_std_PE.csv')\n",
    "df_PE.Dates = df_PE.Dates.apply(lambda x:x[:10])\n",
    "df_PE.set_index('Dates',inplace=True)"
   ]
  },
  {
   "cell_type": "code",
   "execution_count": 486,
   "metadata": {},
   "outputs": [],
   "source": [
    "df_OP = pd.read_csv('df_std_OP.csv')\n",
    "df_OP.Dates = df_OP.Dates.apply(lambda x:x[:10])\n",
    "df_OP.set_index('Dates',inplace=True)"
   ]
  },
  {
   "cell_type": "code",
   "execution_count": 487,
   "metadata": {},
   "outputs": [],
   "source": [
    "df_INV = pd.read_csv('df_std_INV.csv')\n",
    "df_INV.Dates = df_INV.Dates.apply(lambda x:x[:10])\n",
    "df_INV.set_index('Dates',inplace=True)"
   ]
  },
  {
   "cell_type": "markdown",
   "metadata": {},
   "source": [
    "Import 18 double-sorted portfolios returns"
   ]
  },
  {
   "cell_type": "code",
   "execution_count": 488,
   "metadata": {},
   "outputs": [],
   "source": [
    "df_18_PR = pd.read_csv('df_18_PR.csv')\n",
    "df_18_PR.Dates = df_18_PR.Dates.apply(lambda x:x[:10])\n",
    "df_18_PR.set_index('Dates',inplace=True)"
   ]
  },
  {
   "cell_type": "markdown",
   "metadata": {},
   "source": [
    "Import Firm Characteristics of 18 double-sorted portfolios"
   ]
  },
  {
   "cell_type": "code",
   "execution_count": 489,
   "metadata": {},
   "outputs": [],
   "source": [
    "df_18_std_Size = pd.read_csv('df_18_std_size.csv')\n",
    "df_18_std_Size.Dates = df_18_std_Size.Dates.apply(lambda x:x[:10])\n",
    "df_18_std_Size.set_index('Dates',inplace=True)"
   ]
  },
  {
   "cell_type": "code",
   "execution_count": 490,
   "metadata": {},
   "outputs": [],
   "source": [
    "df_18_std_PE = pd.read_csv('df_18_std_PE.csv')\n",
    "df_18_std_PE.Dates = df_18_std_PE.Dates.apply(lambda x:x[:10])\n",
    "df_18_std_PE.set_index('Dates',inplace=True)"
   ]
  },
  {
   "cell_type": "code",
   "execution_count": 491,
   "metadata": {},
   "outputs": [],
   "source": [
    "df_18_std_OP = pd.read_csv('df_18_std_OP.csv')\n",
    "df_18_std_OP.Dates = df_18_std_OP.Dates.apply(lambda x:x[:10])\n",
    "df_18_std_OP.set_index('Dates',inplace=True)"
   ]
  },
  {
   "cell_type": "code",
   "execution_count": 492,
   "metadata": {},
   "outputs": [],
   "source": [
    "df_18_std_INV = pd.read_csv('df_18_std_INV.csv')\n",
    "df_18_std_INV.Dates = df_18_std_INV.Dates.apply(lambda x:x[:10])\n",
    "df_18_std_INV.set_index('Dates',inplace=True)"
   ]
  },
  {
   "cell_type": "code",
   "execution_count": 550,
   "metadata": {
    "scrolled": true
   },
   "outputs": [
    {
     "data": {
      "text/html": [
       "<div>\n",
       "<style scoped>\n",
       "    .dataframe tbody tr th:only-of-type {\n",
       "        vertical-align: middle;\n",
       "    }\n",
       "\n",
       "    .dataframe tbody tr th {\n",
       "        vertical-align: top;\n",
       "    }\n",
       "\n",
       "    .dataframe thead th {\n",
       "        text-align: right;\n",
       "    }\n",
       "</style>\n",
       "<table border=\"1\" class=\"dataframe\">\n",
       "  <thead>\n",
       "    <tr style=\"text-align: right;\">\n",
       "      <th></th>\n",
       "      <th>MR_RF</th>\n",
       "      <th>SMB</th>\n",
       "      <th>HML</th>\n",
       "    </tr>\n",
       "  </thead>\n",
       "  <tbody>\n",
       "    <tr>\n",
       "      <th>count</th>\n",
       "      <td>4750.000000</td>\n",
       "      <td>4750.000000</td>\n",
       "      <td>4750.000000</td>\n",
       "    </tr>\n",
       "    <tr>\n",
       "      <th>mean</th>\n",
       "      <td>0.000320</td>\n",
       "      <td>-0.000271</td>\n",
       "      <td>0.000281</td>\n",
       "    </tr>\n",
       "    <tr>\n",
       "      <th>std</th>\n",
       "      <td>0.011617</td>\n",
       "      <td>0.007110</td>\n",
       "      <td>0.007457</td>\n",
       "    </tr>\n",
       "    <tr>\n",
       "      <th>min</th>\n",
       "      <td>-0.074100</td>\n",
       "      <td>-0.070567</td>\n",
       "      <td>-0.128500</td>\n",
       "    </tr>\n",
       "    <tr>\n",
       "      <th>25%</th>\n",
       "      <td>-0.005700</td>\n",
       "      <td>-0.004158</td>\n",
       "      <td>-0.003700</td>\n",
       "    </tr>\n",
       "    <tr>\n",
       "      <th>50%</th>\n",
       "      <td>0.000100</td>\n",
       "      <td>0.000000</td>\n",
       "      <td>0.000000</td>\n",
       "    </tr>\n",
       "    <tr>\n",
       "      <th>75%</th>\n",
       "      <td>0.006700</td>\n",
       "      <td>0.003700</td>\n",
       "      <td>0.004100</td>\n",
       "    </tr>\n",
       "    <tr>\n",
       "      <th>max</th>\n",
       "      <td>0.068500</td>\n",
       "      <td>0.084067</td>\n",
       "      <td>0.055750</td>\n",
       "    </tr>\n",
       "  </tbody>\n",
       "</table>\n",
       "</div>"
      ],
      "text/plain": [
       "             MR_RF          SMB          HML\n",
       "count  4750.000000  4750.000000  4750.000000\n",
       "mean      0.000320    -0.000271     0.000281\n",
       "std       0.011617     0.007110     0.007457\n",
       "min      -0.074100    -0.070567    -0.128500\n",
       "25%      -0.005700    -0.004158    -0.003700\n",
       "50%       0.000100     0.000000     0.000000\n",
       "75%       0.006700     0.003700     0.004100\n",
       "max       0.068500     0.084067     0.055750"
      ]
     },
     "execution_count": 550,
     "metadata": {},
     "output_type": "execute_result"
    }
   ],
   "source": [
    "df_FF3.describe()"
   ]
  },
  {
   "cell_type": "code",
   "execution_count": 551,
   "metadata": {},
   "outputs": [
    {
     "data": {
      "text/html": [
       "<div>\n",
       "<style scoped>\n",
       "    .dataframe tbody tr th:only-of-type {\n",
       "        vertical-align: middle;\n",
       "    }\n",
       "\n",
       "    .dataframe tbody tr th {\n",
       "        vertical-align: top;\n",
       "    }\n",
       "\n",
       "    .dataframe thead th {\n",
       "        text-align: right;\n",
       "    }\n",
       "</style>\n",
       "<table border=\"1\" class=\"dataframe\">\n",
       "  <thead>\n",
       "    <tr style=\"text-align: right;\">\n",
       "      <th></th>\n",
       "      <th>MR_RF</th>\n",
       "      <th>SMB</th>\n",
       "      <th>HML</th>\n",
       "    </tr>\n",
       "  </thead>\n",
       "  <tbody>\n",
       "    <tr>\n",
       "      <th>count</th>\n",
       "      <td>4750.000000</td>\n",
       "      <td>4750.000000</td>\n",
       "      <td>4750.000000</td>\n",
       "    </tr>\n",
       "    <tr>\n",
       "      <th>mean</th>\n",
       "      <td>0.000369</td>\n",
       "      <td>-0.000221</td>\n",
       "      <td>0.000225</td>\n",
       "    </tr>\n",
       "    <tr>\n",
       "      <th>std</th>\n",
       "      <td>0.008100</td>\n",
       "      <td>0.005073</td>\n",
       "      <td>0.005120</td>\n",
       "    </tr>\n",
       "    <tr>\n",
       "      <th>min</th>\n",
       "      <td>-0.013000</td>\n",
       "      <td>-0.008433</td>\n",
       "      <td>-0.007900</td>\n",
       "    </tr>\n",
       "    <tr>\n",
       "      <th>25%</th>\n",
       "      <td>-0.005700</td>\n",
       "      <td>-0.004158</td>\n",
       "      <td>-0.003700</td>\n",
       "    </tr>\n",
       "    <tr>\n",
       "      <th>50%</th>\n",
       "      <td>0.000100</td>\n",
       "      <td>0.000000</td>\n",
       "      <td>0.000000</td>\n",
       "    </tr>\n",
       "    <tr>\n",
       "      <th>75%</th>\n",
       "      <td>0.006700</td>\n",
       "      <td>0.003700</td>\n",
       "      <td>0.004100</td>\n",
       "    </tr>\n",
       "    <tr>\n",
       "      <th>max</th>\n",
       "      <td>0.013000</td>\n",
       "      <td>0.007800</td>\n",
       "      <td>0.008500</td>\n",
       "    </tr>\n",
       "  </tbody>\n",
       "</table>\n",
       "</div>"
      ],
      "text/plain": [
       "             MR_RF          SMB          HML\n",
       "count  4750.000000  4750.000000  4750.000000\n",
       "mean      0.000369    -0.000221     0.000225\n",
       "std       0.008100     0.005073     0.005120\n",
       "min      -0.013000    -0.008433    -0.007900\n",
       "25%      -0.005700    -0.004158    -0.003700\n",
       "50%       0.000100     0.000000     0.000000\n",
       "75%       0.006700     0.003700     0.004100\n",
       "max       0.013000     0.007800     0.008500"
      ]
     },
     "execution_count": 551,
     "metadata": {},
     "output_type": "execute_result"
    }
   ],
   "source": [
    "df_FF3 = df_FF3.apply(lambda x: winsorize(x, (0.1,0.1)))\n",
    "df_FF3.describe()"
   ]
  },
  {
   "cell_type": "markdown",
   "metadata": {},
   "source": [
    "## Constant Beta"
   ]
  },
  {
   "cell_type": "code",
   "execution_count": 408,
   "metadata": {},
   "outputs": [
    {
     "data": {
      "text/html": [
       "<div>\n",
       "<style scoped>\n",
       "    .dataframe tbody tr th:only-of-type {\n",
       "        vertical-align: middle;\n",
       "    }\n",
       "\n",
       "    .dataframe tbody tr th {\n",
       "        vertical-align: top;\n",
       "    }\n",
       "\n",
       "    .dataframe thead th {\n",
       "        text-align: right;\n",
       "    }\n",
       "</style>\n",
       "<table border=\"1\" class=\"dataframe\">\n",
       "  <thead>\n",
       "    <tr style=\"text-align: right;\">\n",
       "      <th></th>\n",
       "      <th>MTN.SJ.Equity</th>\n",
       "      <th>NTC.SJ.Equity</th>\n",
       "      <th>WHL.SJ.Equity</th>\n",
       "      <th>SOL.SJ.Equity</th>\n",
       "      <th>RMH.SJ.Equity</th>\n",
       "      <th>SAP.SJ.Equity</th>\n",
       "      <th>IMP.SJ.Equity</th>\n",
       "      <th>NPK.SJ.Equity</th>\n",
       "      <th>GFI.SJ.Equity</th>\n",
       "      <th>ACL.SJ.Equity</th>\n",
       "      <th>...</th>\n",
       "      <th>AFE.SJ.Equity</th>\n",
       "      <th>DSY.SJ.Equity</th>\n",
       "      <th>MRP.SJ.Equity</th>\n",
       "      <th>APN.SJ.Equity</th>\n",
       "      <th>AFX.SJ.Equity</th>\n",
       "      <th>SUR.SJ.Equity</th>\n",
       "      <th>DRD.SJ.Equity</th>\n",
       "      <th>SUI.SJ.Equity</th>\n",
       "      <th>WBO.SJ.Equity</th>\n",
       "      <th>SNT.SJ.Equity</th>\n",
       "    </tr>\n",
       "    <tr>\n",
       "      <th>Dates</th>\n",
       "      <th></th>\n",
       "      <th></th>\n",
       "      <th></th>\n",
       "      <th></th>\n",
       "      <th></th>\n",
       "      <th></th>\n",
       "      <th></th>\n",
       "      <th></th>\n",
       "      <th></th>\n",
       "      <th></th>\n",
       "      <th></th>\n",
       "      <th></th>\n",
       "      <th></th>\n",
       "      <th></th>\n",
       "      <th></th>\n",
       "      <th></th>\n",
       "      <th></th>\n",
       "      <th></th>\n",
       "      <th></th>\n",
       "      <th></th>\n",
       "      <th></th>\n",
       "    </tr>\n",
       "  </thead>\n",
       "  <tbody>\n",
       "    <tr>\n",
       "      <th>2000-01-05</th>\n",
       "      <td>0.012542</td>\n",
       "      <td>-0.024971</td>\n",
       "      <td>-0.041012</td>\n",
       "      <td>-0.009411</td>\n",
       "      <td>-0.004655</td>\n",
       "      <td>-0.016945</td>\n",
       "      <td>-0.049069</td>\n",
       "      <td>-0.025597</td>\n",
       "      <td>-0.080034</td>\n",
       "      <td>-0.013512</td>\n",
       "      <td>...</td>\n",
       "      <td>-0.000279</td>\n",
       "      <td>-0.004770</td>\n",
       "      <td>-0.000279</td>\n",
       "      <td>-0.000279</td>\n",
       "      <td>-0.014168</td>\n",
       "      <td>-0.000279</td>\n",
       "      <td>-0.020480</td>\n",
       "      <td>-0.020899</td>\n",
       "      <td>-0.041101</td>\n",
       "      <td>-0.000279</td>\n",
       "    </tr>\n",
       "    <tr>\n",
       "      <th>2000-01-06</th>\n",
       "      <td>0.075345</td>\n",
       "      <td>-0.078240</td>\n",
       "      <td>-0.048165</td>\n",
       "      <td>0.014896</td>\n",
       "      <td>-0.015749</td>\n",
       "      <td>0.024619</td>\n",
       "      <td>-0.021332</td>\n",
       "      <td>0.011053</td>\n",
       "      <td>-0.015486</td>\n",
       "      <td>0.034653</td>\n",
       "      <td>...</td>\n",
       "      <td>0.034411</td>\n",
       "      <td>-0.018466</td>\n",
       "      <td>-0.000279</td>\n",
       "      <td>-0.024976</td>\n",
       "      <td>0.020483</td>\n",
       "      <td>-0.000279</td>\n",
       "      <td>-0.031373</td>\n",
       "      <td>-0.000279</td>\n",
       "      <td>-0.000279</td>\n",
       "      <td>-0.033068</td>\n",
       "    </tr>\n",
       "    <tr>\n",
       "      <th>2000-01-07</th>\n",
       "      <td>0.079162</td>\n",
       "      <td>0.013148</td>\n",
       "      <td>0.034541</td>\n",
       "      <td>0.041029</td>\n",
       "      <td>0.011533</td>\n",
       "      <td>0.031987</td>\n",
       "      <td>0.003971</td>\n",
       "      <td>0.067778</td>\n",
       "      <td>0.033627</td>\n",
       "      <td>0.147114</td>\n",
       "      <td>...</td>\n",
       "      <td>0.100530</td>\n",
       "      <td>-0.086455</td>\n",
       "      <td>0.006842</td>\n",
       "      <td>0.060350</td>\n",
       "      <td>0.020065</td>\n",
       "      <td>0.021704</td>\n",
       "      <td>0.030819</td>\n",
       "      <td>0.010088</td>\n",
       "      <td>0.020344</td>\n",
       "      <td>0.003050</td>\n",
       "    </tr>\n",
       "    <tr>\n",
       "      <th>2000-01-10</th>\n",
       "      <td>0.066534</td>\n",
       "      <td>0.088956</td>\n",
       "      <td>0.075726</td>\n",
       "      <td>0.020698</td>\n",
       "      <td>0.100158</td>\n",
       "      <td>0.023256</td>\n",
       "      <td>-0.000275</td>\n",
       "      <td>0.070821</td>\n",
       "      <td>0.016254</td>\n",
       "      <td>0.043213</td>\n",
       "      <td>...</td>\n",
       "      <td>-0.000275</td>\n",
       "      <td>0.014612</td>\n",
       "      <td>0.020778</td>\n",
       "      <td>0.045719</td>\n",
       "      <td>0.035973</td>\n",
       "      <td>-0.000275</td>\n",
       "      <td>0.004811</td>\n",
       "      <td>-0.000275</td>\n",
       "      <td>0.009877</td>\n",
       "      <td>0.043599</td>\n",
       "    </tr>\n",
       "    <tr>\n",
       "      <th>2000-01-11</th>\n",
       "      <td>0.019928</td>\n",
       "      <td>0.070342</td>\n",
       "      <td>-0.050305</td>\n",
       "      <td>-0.044641</td>\n",
       "      <td>0.003037</td>\n",
       "      <td>-0.012756</td>\n",
       "      <td>-0.044457</td>\n",
       "      <td>-0.055705</td>\n",
       "      <td>-0.009426</td>\n",
       "      <td>-0.091166</td>\n",
       "      <td>...</td>\n",
       "      <td>-0.017550</td>\n",
       "      <td>-0.005209</td>\n",
       "      <td>-0.000275</td>\n",
       "      <td>0.220602</td>\n",
       "      <td>-0.003517</td>\n",
       "      <td>0.021231</td>\n",
       "      <td>-0.000275</td>\n",
       "      <td>0.005892</td>\n",
       "      <td>0.009775</td>\n",
       "      <td>0.017062</td>\n",
       "    </tr>\n",
       "    <tr>\n",
       "      <th>...</th>\n",
       "      <td>...</td>\n",
       "      <td>...</td>\n",
       "      <td>...</td>\n",
       "      <td>...</td>\n",
       "      <td>...</td>\n",
       "      <td>...</td>\n",
       "      <td>...</td>\n",
       "      <td>...</td>\n",
       "      <td>...</td>\n",
       "      <td>...</td>\n",
       "      <td>...</td>\n",
       "      <td>...</td>\n",
       "      <td>...</td>\n",
       "      <td>...</td>\n",
       "      <td>...</td>\n",
       "      <td>...</td>\n",
       "      <td>...</td>\n",
       "      <td>...</td>\n",
       "      <td>...</td>\n",
       "      <td>...</td>\n",
       "      <td>...</td>\n",
       "    </tr>\n",
       "    <tr>\n",
       "      <th>2019-12-25</th>\n",
       "      <td>-0.000190</td>\n",
       "      <td>-0.000190</td>\n",
       "      <td>-0.000190</td>\n",
       "      <td>-0.000190</td>\n",
       "      <td>-0.000190</td>\n",
       "      <td>-0.000190</td>\n",
       "      <td>-0.000190</td>\n",
       "      <td>-0.000190</td>\n",
       "      <td>-0.000190</td>\n",
       "      <td>-0.000190</td>\n",
       "      <td>...</td>\n",
       "      <td>-0.000190</td>\n",
       "      <td>-0.000190</td>\n",
       "      <td>-0.000190</td>\n",
       "      <td>-0.000190</td>\n",
       "      <td>-0.000190</td>\n",
       "      <td>-0.000190</td>\n",
       "      <td>-0.000190</td>\n",
       "      <td>-0.000190</td>\n",
       "      <td>-0.000190</td>\n",
       "      <td>-0.000190</td>\n",
       "    </tr>\n",
       "    <tr>\n",
       "      <th>2019-12-26</th>\n",
       "      <td>-0.000190</td>\n",
       "      <td>-0.000190</td>\n",
       "      <td>-0.000190</td>\n",
       "      <td>-0.000190</td>\n",
       "      <td>-0.000190</td>\n",
       "      <td>-0.000190</td>\n",
       "      <td>-0.000190</td>\n",
       "      <td>-0.000190</td>\n",
       "      <td>-0.000190</td>\n",
       "      <td>-0.000190</td>\n",
       "      <td>...</td>\n",
       "      <td>-0.000190</td>\n",
       "      <td>-0.000190</td>\n",
       "      <td>-0.000190</td>\n",
       "      <td>-0.000190</td>\n",
       "      <td>-0.000190</td>\n",
       "      <td>-0.000190</td>\n",
       "      <td>-0.000190</td>\n",
       "      <td>-0.000190</td>\n",
       "      <td>-0.000190</td>\n",
       "      <td>-0.000190</td>\n",
       "    </tr>\n",
       "    <tr>\n",
       "      <th>2019-12-27</th>\n",
       "      <td>-0.000308</td>\n",
       "      <td>0.004422</td>\n",
       "      <td>0.003483</td>\n",
       "      <td>0.012353</td>\n",
       "      <td>0.003400</td>\n",
       "      <td>0.004694</td>\n",
       "      <td>0.008833</td>\n",
       "      <td>-0.001661</td>\n",
       "      <td>0.025484</td>\n",
       "      <td>-0.080232</td>\n",
       "      <td>...</td>\n",
       "      <td>-0.028098</td>\n",
       "      <td>0.010728</td>\n",
       "      <td>0.007752</td>\n",
       "      <td>0.010714</td>\n",
       "      <td>0.005697</td>\n",
       "      <td>-0.030524</td>\n",
       "      <td>0.027209</td>\n",
       "      <td>0.011097</td>\n",
       "      <td>-0.010348</td>\n",
       "      <td>-0.021851</td>\n",
       "    </tr>\n",
       "    <tr>\n",
       "      <th>2019-12-30</th>\n",
       "      <td>-0.007581</td>\n",
       "      <td>0.010995</td>\n",
       "      <td>0.013766</td>\n",
       "      <td>-0.008695</td>\n",
       "      <td>0.004261</td>\n",
       "      <td>-0.010428</td>\n",
       "      <td>0.010820</td>\n",
       "      <td>0.001282</td>\n",
       "      <td>0.007514</td>\n",
       "      <td>-0.000189</td>\n",
       "      <td>...</td>\n",
       "      <td>0.022292</td>\n",
       "      <td>0.021294</td>\n",
       "      <td>0.002014</td>\n",
       "      <td>0.025504</td>\n",
       "      <td>-0.009260</td>\n",
       "      <td>0.038056</td>\n",
       "      <td>-0.026201</td>\n",
       "      <td>-0.027142</td>\n",
       "      <td>-0.021322</td>\n",
       "      <td>0.027204</td>\n",
       "    </tr>\n",
       "    <tr>\n",
       "      <th>2019-12-31</th>\n",
       "      <td>-0.013197</td>\n",
       "      <td>-0.016500</td>\n",
       "      <td>-0.024380</td>\n",
       "      <td>-0.022252</td>\n",
       "      <td>-0.013307</td>\n",
       "      <td>-0.023502</td>\n",
       "      <td>-0.011965</td>\n",
       "      <td>0.004213</td>\n",
       "      <td>0.021319</td>\n",
       "      <td>-0.008558</td>\n",
       "      <td>...</td>\n",
       "      <td>-0.013281</td>\n",
       "      <td>-0.029435</td>\n",
       "      <td>-0.020529</td>\n",
       "      <td>-0.031403</td>\n",
       "      <td>-0.020439</td>\n",
       "      <td>-0.000189</td>\n",
       "      <td>0.039245</td>\n",
       "      <td>-0.000189</td>\n",
       "      <td>-0.013781</td>\n",
       "      <td>-0.019138</td>\n",
       "    </tr>\n",
       "  </tbody>\n",
       "</table>\n",
       "<p>5215 rows × 42 columns</p>\n",
       "</div>"
      ],
      "text/plain": [
       "            MTN.SJ.Equity  NTC.SJ.Equity  WHL.SJ.Equity  SOL.SJ.Equity  \\\n",
       "Dates                                                                    \n",
       "2000-01-05       0.012542      -0.024971      -0.041012      -0.009411   \n",
       "2000-01-06       0.075345      -0.078240      -0.048165       0.014896   \n",
       "2000-01-07       0.079162       0.013148       0.034541       0.041029   \n",
       "2000-01-10       0.066534       0.088956       0.075726       0.020698   \n",
       "2000-01-11       0.019928       0.070342      -0.050305      -0.044641   \n",
       "...                   ...            ...            ...            ...   \n",
       "2019-12-25      -0.000190      -0.000190      -0.000190      -0.000190   \n",
       "2019-12-26      -0.000190      -0.000190      -0.000190      -0.000190   \n",
       "2019-12-27      -0.000308       0.004422       0.003483       0.012353   \n",
       "2019-12-30      -0.007581       0.010995       0.013766      -0.008695   \n",
       "2019-12-31      -0.013197      -0.016500      -0.024380      -0.022252   \n",
       "\n",
       "            RMH.SJ.Equity  SAP.SJ.Equity  IMP.SJ.Equity  NPK.SJ.Equity  \\\n",
       "Dates                                                                    \n",
       "2000-01-05      -0.004655      -0.016945      -0.049069      -0.025597   \n",
       "2000-01-06      -0.015749       0.024619      -0.021332       0.011053   \n",
       "2000-01-07       0.011533       0.031987       0.003971       0.067778   \n",
       "2000-01-10       0.100158       0.023256      -0.000275       0.070821   \n",
       "2000-01-11       0.003037      -0.012756      -0.044457      -0.055705   \n",
       "...                   ...            ...            ...            ...   \n",
       "2019-12-25      -0.000190      -0.000190      -0.000190      -0.000190   \n",
       "2019-12-26      -0.000190      -0.000190      -0.000190      -0.000190   \n",
       "2019-12-27       0.003400       0.004694       0.008833      -0.001661   \n",
       "2019-12-30       0.004261      -0.010428       0.010820       0.001282   \n",
       "2019-12-31      -0.013307      -0.023502      -0.011965       0.004213   \n",
       "\n",
       "            GFI.SJ.Equity  ACL.SJ.Equity  ...  AFE.SJ.Equity  DSY.SJ.Equity  \\\n",
       "Dates                                     ...                                 \n",
       "2000-01-05      -0.080034      -0.013512  ...      -0.000279      -0.004770   \n",
       "2000-01-06      -0.015486       0.034653  ...       0.034411      -0.018466   \n",
       "2000-01-07       0.033627       0.147114  ...       0.100530      -0.086455   \n",
       "2000-01-10       0.016254       0.043213  ...      -0.000275       0.014612   \n",
       "2000-01-11      -0.009426      -0.091166  ...      -0.017550      -0.005209   \n",
       "...                   ...            ...  ...            ...            ...   \n",
       "2019-12-25      -0.000190      -0.000190  ...      -0.000190      -0.000190   \n",
       "2019-12-26      -0.000190      -0.000190  ...      -0.000190      -0.000190   \n",
       "2019-12-27       0.025484      -0.080232  ...      -0.028098       0.010728   \n",
       "2019-12-30       0.007514      -0.000189  ...       0.022292       0.021294   \n",
       "2019-12-31       0.021319      -0.008558  ...      -0.013281      -0.029435   \n",
       "\n",
       "            MRP.SJ.Equity  APN.SJ.Equity  AFX.SJ.Equity  SUR.SJ.Equity  \\\n",
       "Dates                                                                    \n",
       "2000-01-05      -0.000279      -0.000279      -0.014168      -0.000279   \n",
       "2000-01-06      -0.000279      -0.024976       0.020483      -0.000279   \n",
       "2000-01-07       0.006842       0.060350       0.020065       0.021704   \n",
       "2000-01-10       0.020778       0.045719       0.035973      -0.000275   \n",
       "2000-01-11      -0.000275       0.220602      -0.003517       0.021231   \n",
       "...                   ...            ...            ...            ...   \n",
       "2019-12-25      -0.000190      -0.000190      -0.000190      -0.000190   \n",
       "2019-12-26      -0.000190      -0.000190      -0.000190      -0.000190   \n",
       "2019-12-27       0.007752       0.010714       0.005697      -0.030524   \n",
       "2019-12-30       0.002014       0.025504      -0.009260       0.038056   \n",
       "2019-12-31      -0.020529      -0.031403      -0.020439      -0.000189   \n",
       "\n",
       "            DRD.SJ.Equity  SUI.SJ.Equity  WBO.SJ.Equity  SNT.SJ.Equity  \n",
       "Dates                                                                   \n",
       "2000-01-05      -0.020480      -0.020899      -0.041101      -0.000279  \n",
       "2000-01-06      -0.031373      -0.000279      -0.000279      -0.033068  \n",
       "2000-01-07       0.030819       0.010088       0.020344       0.003050  \n",
       "2000-01-10       0.004811      -0.000275       0.009877       0.043599  \n",
       "2000-01-11      -0.000275       0.005892       0.009775       0.017062  \n",
       "...                   ...            ...            ...            ...  \n",
       "2019-12-25      -0.000190      -0.000190      -0.000190      -0.000190  \n",
       "2019-12-26      -0.000190      -0.000190      -0.000190      -0.000190  \n",
       "2019-12-27       0.027209       0.011097      -0.010348      -0.021851  \n",
       "2019-12-30      -0.026201      -0.027142      -0.021322       0.027204  \n",
       "2019-12-31       0.039245      -0.000189      -0.013781      -0.019138  \n",
       "\n",
       "[5215 rows x 42 columns]"
      ]
     },
     "execution_count": 408,
     "metadata": {},
     "output_type": "execute_result"
    }
   ],
   "source": [
    "df_Ex_SR.dropna(axis = 1)"
   ]
  },
  {
   "cell_type": "code",
   "execution_count": 108,
   "metadata": {},
   "outputs": [
    {
     "data": {
      "text/html": [
       "<table class=\"simpletable\">\n",
       "<caption>LinearFactorModel Estimation Summary</caption>\n",
       "<tr>\n",
       "  <th>No. Test Portfolios:</th>        <td>18</td>        <th>  R-squared:         </th>  <td>0.5513</td> \n",
       "</tr>\n",
       "<tr>\n",
       "  <th>No. Factors:</th>                 <td>5</td>        <th>  J-statistic:       </th>  <td>21.140</td> \n",
       "</tr>\n",
       "<tr>\n",
       "  <th>No. Observations:</th>          <td>4750</td>       <th>  P-value            </th>  <td>0.0702</td> \n",
       "</tr>\n",
       "<tr>\n",
       "  <th>Date:</th>                <td>Thu, May 26 2022</td> <th>  Distribution:      </th> <td>chi2(13)</td>\n",
       "</tr>\n",
       "<tr>\n",
       "  <th>Time:</th>                    <td>19:20:47</td>     <th>                     </th>     <td></td>    \n",
       "</tr>\n",
       "<tr>\n",
       "  <th>Cov. Estimator:</th>           <td>robust</td>      <th>                     </th>     <td></td>    \n",
       "</tr>\n",
       "<tr>\n",
       "  <th></th>                             <td></td>         <th>                     </th>     <td></td>    \n",
       "</tr>\n",
       "</table>\n",
       "<table class=\"simpletable\">\n",
       "<caption>Risk Premia Estimates</caption>\n",
       "<tr>\n",
       "    <td></td>    <th>Parameter</th> <th>Std. Err.</th> <th>T-stat</th>  <th>P-value</th> <th>Lower CI</th>   <th>Upper CI</th> \n",
       "</tr>\n",
       "<tr>\n",
       "  <th>MR_RF</th>  <td>0.0003</td>    <td>0.0002</td>   <td>1.3707</td>  <td>0.1705</td>   <td>-0.0001</td>    <td>0.0007</td>  \n",
       "</tr>\n",
       "<tr>\n",
       "  <th>SMB</th>    <td>-0.0002</td>   <td>0.0001</td>   <td>-2.0155</td> <td>0.0438</td>   <td>-0.0004</td>  <td>-5.617e-06</td>\n",
       "</tr>\n",
       "<tr>\n",
       "  <th>HML</th>    <td>0.0003</td>    <td>0.0001</td>   <td>2.5721</td>  <td>0.0101</td>  <td>7.004e-05</td>   <td>0.0005</td>  \n",
       "</tr>\n",
       "<tr>\n",
       "  <th>RMW</th>    <td>0.0004</td>    <td>0.0001</td>   <td>2.9925</td>  <td>0.0028</td>   <td>0.0001</td>     <td>0.0006</td>  \n",
       "</tr>\n",
       "<tr>\n",
       "  <th>CMA</th>    <td>-0.0002</td>   <td>0.0001</td>   <td>-1.4170</td> <td>0.1565</td>   <td>-0.0004</td>   <td>6.541e-05</td>\n",
       "</tr>\n",
       "</table><br/><br/>Covariance estimator:<br/>HeteroskedasticCovariance<br/>See full_summary for complete results"
      ],
      "text/plain": [
       "<class 'linearmodels.compat.statsmodels.Summary'>\n",
       "\"\"\"\n",
       "                      LinearFactorModel Estimation Summary                      \n",
       "================================================================================\n",
       "No. Test Portfolios:                 18   R-squared:                      0.5513\n",
       "No. Factors:                          5   J-statistic:                    21.140\n",
       "No. Observations:                  4750   P-value                         0.0702\n",
       "Date:                  Thu, May 26 2022   Distribution:                 chi2(13)\n",
       "Time:                          19:20:47                                         \n",
       "Cov. Estimator:                  robust                                         \n",
       "                                                                                \n",
       "                            Risk Premia Estimates                             \n",
       "==============================================================================\n",
       "            Parameter  Std. Err.     T-stat    P-value    Lower CI    Upper CI\n",
       "------------------------------------------------------------------------------\n",
       "MR_RF          0.0003     0.0002     1.3707     0.1705     -0.0001      0.0007\n",
       "SMB           -0.0002     0.0001    -2.0155     0.0438     -0.0004  -5.617e-06\n",
       "HML            0.0003     0.0001     2.5721     0.0101   7.004e-05      0.0005\n",
       "RMW            0.0004     0.0001     2.9925     0.0028      0.0001      0.0006\n",
       "CMA           -0.0002     0.0001    -1.4170     0.1565     -0.0004   6.541e-05\n",
       "==============================================================================\n",
       "\n",
       "Covariance estimator:\n",
       "HeteroskedasticCovariance\n",
       "See full_summary for complete results\n",
       "\"\"\""
      ]
     },
     "execution_count": 108,
     "metadata": {},
     "output_type": "execute_result"
    }
   ],
   "source": [
    "from linearmodels.asset_pricing.model import LinearFactorModel\n",
    "model_ols = LinearFactorModel(portfolios=df_18_PR, factors= df_FF5, risk_free = None)\n",
    "res_ols = model_ols.fit()\n",
    "res_ols.summary"
   ]
  },
  {
   "cell_type": "code",
   "execution_count": 156,
   "metadata": {},
   "outputs": [
    {
     "data": {
      "text/html": [
       "<table class=\"simpletable\">\n",
       "<caption>LinearFactorModel Estimation Summary</caption>\n",
       "<tr>\n",
       "  <th>No. Test Portfolios:</th>        <td>191</td>       <th>  R-squared:         </th>  <td>0.0380</td>  \n",
       "</tr>\n",
       "<tr>\n",
       "  <th>No. Factors:</th>                 <td>6</td>        <th>  J-statistic:       </th> <td>7.831e+04</td>\n",
       "</tr>\n",
       "<tr>\n",
       "  <th>No. Observations:</th>          <td>4750</td>       <th>  P-value            </th>  <td>0.0000</td>  \n",
       "</tr>\n",
       "<tr>\n",
       "  <th>Date:</th>                <td>Thu, May 26 2022</td> <th>  Distribution:      </th> <td>chi2(185)</td>\n",
       "</tr>\n",
       "<tr>\n",
       "  <th>Time:</th>                    <td>20:10:57</td>     <th>                     </th>     <td></td>     \n",
       "</tr>\n",
       "<tr>\n",
       "  <th>Cov. Estimator:</th>           <td>robust</td>      <th>                     </th>     <td></td>     \n",
       "</tr>\n",
       "<tr>\n",
       "  <th></th>                             <td></td>         <th>                     </th>     <td></td>     \n",
       "</tr>\n",
       "</table>\n",
       "<table class=\"simpletable\">\n",
       "<caption>Risk Premia Estimates</caption>\n",
       "<tr>\n",
       "    <td></td>    <th>Parameter</th> <th>Std. Err.</th> <th>T-stat</th>  <th>P-value</th> <th>Lower CI</th> <th>Upper CI</th> \n",
       "</tr>\n",
       "<tr>\n",
       "  <th>MR_RF</th>  <td>0.0002</td>    <td>0.0002</td>   <td>0.8660</td>  <td>0.3865</td>   <td>-0.0002</td>  <td>0.0006</td>  \n",
       "</tr>\n",
       "<tr>\n",
       "  <th>SMB</th>    <td>-0.0003</td>   <td>0.0002</td>   <td>-1.8013</td> <td>0.0717</td>   <td>-0.0007</td> <td>2.853e-05</td>\n",
       "</tr>\n",
       "<tr>\n",
       "  <th>HML</th>    <td>-0.0001</td>   <td>0.0003</td>   <td>-0.4419</td> <td>0.6586</td>   <td>-0.0006</td>  <td>0.0004</td>  \n",
       "</tr>\n",
       "<tr>\n",
       "  <th>RMW</th>    <td>0.0004</td>    <td>0.0003</td>   <td>1.4625</td>  <td>0.1436</td>   <td>-0.0001</td>  <td>0.0009</td>  \n",
       "</tr>\n",
       "<tr>\n",
       "  <th>CMA</th>    <td>-0.0005</td>   <td>0.0004</td>   <td>-1.5023</td> <td>0.1330</td>   <td>-0.0012</td>  <td>0.0002</td>  \n",
       "</tr>\n",
       "<tr>\n",
       "  <th>WML</th>    <td>0.0008</td>    <td>0.0005</td>   <td>1.4218</td>  <td>0.1551</td>   <td>-0.0003</td>  <td>0.0018</td>  \n",
       "</tr>\n",
       "</table><br/><br/>Covariance estimator:<br/>HeteroskedasticCovariance<br/>See full_summary for complete results"
      ],
      "text/plain": [
       "<class 'linearmodels.compat.statsmodels.Summary'>\n",
       "\"\"\"\n",
       "                      LinearFactorModel Estimation Summary                      \n",
       "================================================================================\n",
       "No. Test Portfolios:                191   R-squared:                      0.0380\n",
       "No. Factors:                          6   J-statistic:                 7.831e+04\n",
       "No. Observations:                  4750   P-value                         0.0000\n",
       "Date:                  Thu, May 26 2022   Distribution:                chi2(185)\n",
       "Time:                          20:10:57                                         \n",
       "Cov. Estimator:                  robust                                         \n",
       "                                                                                \n",
       "                            Risk Premia Estimates                             \n",
       "==============================================================================\n",
       "            Parameter  Std. Err.     T-stat    P-value    Lower CI    Upper CI\n",
       "------------------------------------------------------------------------------\n",
       "MR_RF          0.0002     0.0002     0.8660     0.3865     -0.0002      0.0006\n",
       "SMB           -0.0003     0.0002    -1.8013     0.0717     -0.0007   2.853e-05\n",
       "HML           -0.0001     0.0003    -0.4419     0.6586     -0.0006      0.0004\n",
       "RMW            0.0004     0.0003     1.4625     0.1436     -0.0001      0.0009\n",
       "CMA           -0.0005     0.0004    -1.5023     0.1330     -0.0012      0.0002\n",
       "WML            0.0008     0.0005     1.4218     0.1551     -0.0003      0.0018\n",
       "==============================================================================\n",
       "\n",
       "Covariance estimator:\n",
       "HeteroskedasticCovariance\n",
       "See full_summary for complete results\n",
       "\"\"\""
      ]
     },
     "execution_count": 156,
     "metadata": {},
     "output_type": "execute_result"
    }
   ],
   "source": [
    "from linearmodels.asset_pricing.model import LinearFactorModel\n",
    "model_ols = LinearFactorModel(portfolios=df_Ex_SR.loc[df_FF5.index,:].dropna(axis = 1), factors= pd.concat([df_FF5, df_FF4.loc[:,\"WML\"]], axis = 1), risk_free = None)\n",
    "res_ols = model_ols.fit()\n",
    "res_ols.summary"
   ]
  },
  {
   "cell_type": "code",
   "execution_count": 411,
   "metadata": {},
   "outputs": [],
   "source": [
    "df_SR.index = pd.to_datetime(df_SR.index)\n",
    "df_Ex_SR.index = pd.to_datetime(df_Ex_SR.index)\n",
    "df_FF5.index = pd.to_datetime(df_FF5.index)\n",
    "df_FF4.index = pd.to_datetime(df_FF4.index)\n",
    "df_18_PR.index = pd.to_datetime(df_18_PR.index)\n",
    "df_ln_Size.index = pd.to_datetime(df_ln_Size.index)\n",
    "df_MR.index = pd.to_datetime(df_MR.index)"
   ]
  },
  {
   "cell_type": "code",
   "execution_count": 163,
   "metadata": {},
   "outputs": [
    {
     "data": {
      "text/plain": [
       "4750"
      ]
     },
     "execution_count": 163,
     "metadata": {},
     "output_type": "execute_result"
    }
   ],
   "source": [
    "df_Ex_SR.loc[df_FF5.index,:].dropna(axis = 1).shape[0]"
   ]
  },
  {
   "cell_type": "code",
   "execution_count": 164,
   "metadata": {},
   "outputs": [
    {
     "data": {
      "text/plain": [
       "4750"
      ]
     },
     "execution_count": 164,
     "metadata": {},
     "output_type": "execute_result"
    }
   ],
   "source": [
    "pd.concat([df_FF5, df_FF4.loc[:,\"WML\"]], axis = 1).shape[0]"
   ]
  },
  {
   "cell_type": "code",
   "execution_count": 166,
   "metadata": {},
   "outputs": [],
   "source": [
    "from linearmodels.panel.model import PooledOLS"
   ]
  },
  {
   "cell_type": "code",
   "execution_count": 189,
   "metadata": {},
   "outputs": [],
   "source": [
    "df_Ex_SR_tmp = df_Ex_SR.loc[df_FF5.index,:].dropna(axis = 1)"
   ]
  },
  {
   "cell_type": "code",
   "execution_count": 187,
   "metadata": {
    "scrolled": true
   },
   "outputs": [
    {
     "name": "stderr",
     "output_type": "stream",
     "text": [
      "/Users/runxinlin/opt/anaconda3/lib/python3.8/site-packages/linearmodels/shared/exceptions.py:37: MissingValueWarning: \n",
      "Inputs contain missing values. Dropping rows with missing observations.\n",
      "  warnings.warn(missing_value_warning_msg, MissingValueWarning)\n"
     ]
    },
    {
     "data": {
      "text/html": [
       "<table class=\"simpletable\">\n",
       "<caption>PooledOLS Estimation Summary</caption>\n",
       "<tr>\n",
       "  <th>Dep. Variable:</th>           <td>Dep</td>       <th>  R-squared:         </th>    <td>2.285e-07</td> \n",
       "</tr>\n",
       "<tr>\n",
       "  <th>Estimator:</th>            <td>PooledOLS</td>    <th>  R-squared (Between):</th>    <td>0.0184</td>   \n",
       "</tr>\n",
       "<tr>\n",
       "  <th>No. Observations:</th>      <td>843255</td>      <th>  R-squared (Within):</th>    <td>-4.23e-06</td> \n",
       "</tr>\n",
       "<tr>\n",
       "  <th>Date:</th>             <td>Thu, May 26 2022</td> <th>  R-squared (Overall):</th>   <td>2.285e-07</td> \n",
       "</tr>\n",
       "<tr>\n",
       "  <th>Time:</th>                 <td>21:59:04</td>     <th>  Log-likelihood     </th>    <td>1.727e+06</td> \n",
       "</tr>\n",
       "<tr>\n",
       "  <th>Cov. Estimator:</th>      <td>Unadjusted</td>    <th>                     </th>        <td></td>      \n",
       "</tr>\n",
       "<tr>\n",
       "  <th></th>                          <td></td>         <th>  F-statistic:       </th>     <td>0.1927</td>   \n",
       "</tr>\n",
       "<tr>\n",
       "  <th>Entities:</th>                <td>189</td>       <th>  P-value            </th>     <td>0.6607</td>   \n",
       "</tr>\n",
       "<tr>\n",
       "  <th>Avg Obs:</th>               <td>4461.7</td>      <th>  Distribution:      </th>   <td>F(1,843254)</td>\n",
       "</tr>\n",
       "<tr>\n",
       "  <th>Min Obs:</th>               <td>1830.0</td>      <th>                     </th>        <td></td>      \n",
       "</tr>\n",
       "<tr>\n",
       "  <th>Max Obs:</th>               <td>4750.0</td>      <th>  F-statistic (robust):</th>   <td>0.1927</td>   \n",
       "</tr>\n",
       "<tr>\n",
       "  <th></th>                          <td></td>         <th>  P-value            </th>     <td>0.6607</td>   \n",
       "</tr>\n",
       "<tr>\n",
       "  <th>Time periods:</th>           <td>4750</td>       <th>  Distribution:      </th>   <td>F(1,843254)</td>\n",
       "</tr>\n",
       "<tr>\n",
       "  <th>Avg Obs:</th>               <td>177.53</td>      <th>                     </th>        <td></td>      \n",
       "</tr>\n",
       "<tr>\n",
       "  <th>Min Obs:</th>               <td>120.00</td>      <th>                     </th>        <td></td>      \n",
       "</tr>\n",
       "<tr>\n",
       "  <th>Max Obs:</th>               <td>189.00</td>      <th>                     </th>        <td></td>      \n",
       "</tr>\n",
       "<tr>\n",
       "  <th></th>                          <td></td>         <th>                     </th>        <td></td>      \n",
       "</tr>\n",
       "</table>\n",
       "<table class=\"simpletable\">\n",
       "<caption>Parameter Estimates</caption>\n",
       "<tr>\n",
       "    <td></td>   <th>Parameter</th> <th>Std. Err.</th> <th>T-stat</th> <th>P-value</th>  <th>Lower CI</th>  <th>Upper CI</th> \n",
       "</tr>\n",
       "<tr>\n",
       "  <th>Exog</th> <td>1.456e-05</td> <td>3.317e-05</td> <td>0.4390</td> <td>0.6607</td>  <td>-5.045e-05</td> <td>7.957e-05</td>\n",
       "</tr>\n",
       "</table>"
      ],
      "text/plain": [
       "<class 'linearmodels.compat.statsmodels.Summary'>\n",
       "\"\"\"\n",
       "                          PooledOLS Estimation Summary                          \n",
       "================================================================================\n",
       "Dep. Variable:                    Dep   R-squared:                     2.285e-07\n",
       "Estimator:                  PooledOLS   R-squared (Between):              0.0184\n",
       "No. Observations:              843255   R-squared (Within):            -4.23e-06\n",
       "Date:                Thu, May 26 2022   R-squared (Overall):           2.285e-07\n",
       "Time:                        21:59:04   Log-likelihood                 1.727e+06\n",
       "Cov. Estimator:            Unadjusted                                           \n",
       "                                        F-statistic:                      0.1927\n",
       "Entities:                         189   P-value                           0.6607\n",
       "Avg Obs:                       4461.7   Distribution:                F(1,843254)\n",
       "Min Obs:                       1830.0                                           \n",
       "Max Obs:                       4750.0   F-statistic (robust):             0.1927\n",
       "                                        P-value                           0.6607\n",
       "Time periods:                    4750   Distribution:                F(1,843254)\n",
       "Avg Obs:                       177.53                                           \n",
       "Min Obs:                       120.00                                           \n",
       "Max Obs:                       189.00                                           \n",
       "                                                                                \n",
       "                             Parameter Estimates                              \n",
       "==============================================================================\n",
       "            Parameter  Std. Err.     T-stat    P-value    Lower CI    Upper CI\n",
       "------------------------------------------------------------------------------\n",
       "Exog        1.456e-05  3.317e-05     0.4390     0.6607  -5.045e-05   7.957e-05\n",
       "==============================================================================\n",
       "\"\"\""
      ]
     },
     "execution_count": 187,
     "metadata": {},
     "output_type": "execute_result"
    }
   ],
   "source": [
    "fm_mod = PooledOLS(dependent= df_Ex_SR_tmp, exog= df_ln_Size.loc[df_FF5.index,df_Ex_SR_tmp.columns])\n",
    "res_fm = fm_mod.fit()\n",
    "res_fm.summary"
   ]
  },
  {
   "cell_type": "code",
   "execution_count": 215,
   "metadata": {},
   "outputs": [
    {
     "data": {
      "text/plain": [
       "'NTC.SJ.Equity'"
      ]
     },
     "execution_count": 215,
     "metadata": {},
     "output_type": "execute_result"
    }
   ],
   "source": [
    "df_Ex_SR.columns[6]"
   ]
  },
  {
   "cell_type": "code",
   "execution_count": 232,
   "metadata": {
    "scrolled": true
   },
   "outputs": [
    {
     "data": {
      "text/html": [
       "<table class=\"simpletable\">\n",
       "<caption>OLS Regression Results</caption>\n",
       "<tr>\n",
       "  <th>Dep. Variable:</th>      <td>FPT.SJ.Equity</td>  <th>  R-squared (uncentered):</th>       <td>   0.028</td> \n",
       "</tr>\n",
       "<tr>\n",
       "  <th>Model:</th>                   <td>OLS</td>       <th>  Adj. R-squared (uncentered):</th>  <td>   0.028</td> \n",
       "</tr>\n",
       "<tr>\n",
       "  <th>Method:</th>             <td>Least Squares</td>  <th>  F-statistic:       </th>           <td>   151.4</td> \n",
       "</tr>\n",
       "<tr>\n",
       "  <th>Date:</th>             <td>Fri, 27 May 2022</td> <th>  Prob (F-statistic):</th>           <td>2.58e-34</td> \n",
       "</tr>\n",
       "<tr>\n",
       "  <th>Time:</th>                 <td>00:24:12</td>     <th>  Log-Likelihood:    </th>           <td>  15367.</td> \n",
       "</tr>\n",
       "<tr>\n",
       "  <th>No. Observations:</th>      <td>  5215</td>      <th>  AIC:               </th>          <td>-3.073e+04</td>\n",
       "</tr>\n",
       "<tr>\n",
       "  <th>Df Residuals:</th>          <td>  5214</td>      <th>  BIC:               </th>          <td>-3.073e+04</td>\n",
       "</tr>\n",
       "<tr>\n",
       "  <th>Df Model:</th>              <td>     1</td>      <th>                     </th>               <td> </td>    \n",
       "</tr>\n",
       "<tr>\n",
       "  <th>Covariance Type:</th>      <td>nonrobust</td>    <th>                     </th>               <td> </td>    \n",
       "</tr>\n",
       "</table>\n",
       "<table class=\"simpletable\">\n",
       "<tr>\n",
       "    <td></td>       <th>coef</th>     <th>std err</th>      <th>t</th>      <th>P>|t|</th>  <th>[0.025</th>    <th>0.975]</th>  \n",
       "</tr>\n",
       "<tr>\n",
       "  <th>MR_RF</th> <td>    0.1874</td> <td>    0.015</td> <td>   12.304</td> <td> 0.000</td> <td>    0.158</td> <td>    0.217</td>\n",
       "</tr>\n",
       "</table>\n",
       "<table class=\"simpletable\">\n",
       "<tr>\n",
       "  <th>Omnibus:</th>       <td>886.759</td> <th>  Durbin-Watson:     </th> <td>   2.091</td> \n",
       "</tr>\n",
       "<tr>\n",
       "  <th>Prob(Omnibus):</th> <td> 0.000</td>  <th>  Jarque-Bera (JB):  </th> <td>10049.618</td>\n",
       "</tr>\n",
       "<tr>\n",
       "  <th>Skew:</th>          <td>-0.461</td>  <th>  Prob(JB):          </th> <td>    0.00</td> \n",
       "</tr>\n",
       "<tr>\n",
       "  <th>Kurtosis:</th>      <td> 9.738</td>  <th>  Cond. No.          </th> <td>    1.00</td> \n",
       "</tr>\n",
       "</table><br/><br/>Notes:<br/>[1] R² is computed without centering (uncentered) since the model does not contain a constant.<br/>[2] Standard Errors assume that the covariance matrix of the errors is correctly specified."
      ],
      "text/plain": [
       "<class 'statsmodels.iolib.summary.Summary'>\n",
       "\"\"\"\n",
       "                                 OLS Regression Results                                \n",
       "=======================================================================================\n",
       "Dep. Variable:          FPT.SJ.Equity   R-squared (uncentered):                   0.028\n",
       "Model:                            OLS   Adj. R-squared (uncentered):              0.028\n",
       "Method:                 Least Squares   F-statistic:                              151.4\n",
       "Date:                Fri, 27 May 2022   Prob (F-statistic):                    2.58e-34\n",
       "Time:                        00:24:12   Log-Likelihood:                          15367.\n",
       "No. Observations:                5215   AIC:                                 -3.073e+04\n",
       "Df Residuals:                    5214   BIC:                                 -3.073e+04\n",
       "Df Model:                           1                                                  \n",
       "Covariance Type:            nonrobust                                                  \n",
       "==============================================================================\n",
       "                 coef    std err          t      P>|t|      [0.025      0.975]\n",
       "------------------------------------------------------------------------------\n",
       "MR_RF          0.1874      0.015     12.304      0.000       0.158       0.217\n",
       "==============================================================================\n",
       "Omnibus:                      886.759   Durbin-Watson:                   2.091\n",
       "Prob(Omnibus):                  0.000   Jarque-Bera (JB):            10049.618\n",
       "Skew:                          -0.461   Prob(JB):                         0.00\n",
       "Kurtosis:                       9.738   Cond. No.                         1.00\n",
       "==============================================================================\n",
       "\n",
       "Notes:\n",
       "[1] R² is computed without centering (uncentered) since the model does not contain a constant.\n",
       "[2] Standard Errors assume that the covariance matrix of the errors is correctly specified.\n",
       "\"\"\""
      ]
     },
     "execution_count": 232,
     "metadata": {},
     "output_type": "execute_result"
    }
   ],
   "source": [
    "mod_ols = sm.OLS(endog=df_Ex_SR.loc[df_MR.index,df_Ex_SR.columns[19]], exog=df_MR)\n",
    "res_ols = mod_ols.fit()\n",
    "res_ols.summary()"
   ]
  },
  {
   "cell_type": "code",
   "execution_count": 251,
   "metadata": {},
   "outputs": [],
   "source": [
    "def froll_sum(x): \n",
    "    # Convert daily return to monthly return, use fix_rolling_sum function\n",
    "    tmp = []\n",
    "    for i in range(int(len(x)/21)): # 21 represents the trading days for one month\n",
    "        res = np.nansum(x[i*21:(i+1)*21])\n",
    "        tmp.append(res)\n",
    "    return tmp"
   ]
  },
  {
   "cell_type": "code",
   "execution_count": 271,
   "metadata": {},
   "outputs": [],
   "source": [
    "m_df_Ex_SR = df_Ex_SR.dropna(axis = 1).apply(lambda x: froll_sum(x))"
   ]
  },
  {
   "cell_type": "code",
   "execution_count": 272,
   "metadata": {},
   "outputs": [
    {
     "data": {
      "text/html": [
       "<div>\n",
       "<style scoped>\n",
       "    .dataframe tbody tr th:only-of-type {\n",
       "        vertical-align: middle;\n",
       "    }\n",
       "\n",
       "    .dataframe tbody tr th {\n",
       "        vertical-align: top;\n",
       "    }\n",
       "\n",
       "    .dataframe thead th {\n",
       "        text-align: right;\n",
       "    }\n",
       "</style>\n",
       "<table border=\"1\" class=\"dataframe\">\n",
       "  <thead>\n",
       "    <tr style=\"text-align: right;\">\n",
       "      <th></th>\n",
       "      <th>FDS.SJ.Equity</th>\n",
       "      <th>MOZ.SJ.Equity</th>\n",
       "      <th>MTN.SJ.Equity</th>\n",
       "      <th>TRT.SJ.Equity</th>\n",
       "      <th>AEG.SJ.Equity</th>\n",
       "      <th>ECO.SJ.Equity</th>\n",
       "      <th>NTC.SJ.Equity</th>\n",
       "      <th>SFT.SJ.Equity</th>\n",
       "      <th>WHL.SJ.Equity</th>\n",
       "      <th>SOL.SJ.Equity</th>\n",
       "      <th>...</th>\n",
       "      <th>ABI.SJ.Equity</th>\n",
       "      <th>SGG.SJ.Equity</th>\n",
       "      <th>CXT.SJ.Equity</th>\n",
       "      <th>GIJ.SJ.Equity</th>\n",
       "      <th>PAM.SJ.Equity</th>\n",
       "      <th>CHE.SJ.Equity</th>\n",
       "      <th>JCG.SJ.Equity</th>\n",
       "      <th>CRM.SJ.Equity</th>\n",
       "      <th>CLE.SJ.Equity</th>\n",
       "      <th>WES.SJ.Equity</th>\n",
       "    </tr>\n",
       "  </thead>\n",
       "  <tbody>\n",
       "    <tr>\n",
       "      <th>0</th>\n",
       "      <td>0.072165</td>\n",
       "      <td>-0.020800</td>\n",
       "      <td>0.356718</td>\n",
       "      <td>0.065927</td>\n",
       "      <td>0.124700</td>\n",
       "      <td>-0.150558</td>\n",
       "      <td>0.018565</td>\n",
       "      <td>0.115681</td>\n",
       "      <td>0.026352</td>\n",
       "      <td>0.004518</td>\n",
       "      <td>...</td>\n",
       "      <td>0.007738</td>\n",
       "      <td>-0.041745</td>\n",
       "      <td>-0.101678</td>\n",
       "      <td>0.152756</td>\n",
       "      <td>0.014380</td>\n",
       "      <td>-0.018326</td>\n",
       "      <td>-0.157433</td>\n",
       "      <td>0.051626</td>\n",
       "      <td>-0.032745</td>\n",
       "      <td>0.007046</td>\n",
       "    </tr>\n",
       "    <tr>\n",
       "      <th>1</th>\n",
       "      <td>-0.321464</td>\n",
       "      <td>-0.085416</td>\n",
       "      <td>0.114407</td>\n",
       "      <td>-0.245906</td>\n",
       "      <td>-0.148942</td>\n",
       "      <td>-0.083488</td>\n",
       "      <td>0.148780</td>\n",
       "      <td>0.017204</td>\n",
       "      <td>-0.098995</td>\n",
       "      <td>-0.170245</td>\n",
       "      <td>...</td>\n",
       "      <td>-0.170885</td>\n",
       "      <td>-0.117745</td>\n",
       "      <td>-0.005370</td>\n",
       "      <td>-0.070510</td>\n",
       "      <td>-0.242855</td>\n",
       "      <td>0.003177</td>\n",
       "      <td>0.250925</td>\n",
       "      <td>-0.021371</td>\n",
       "      <td>0.011724</td>\n",
       "      <td>0.016880</td>\n",
       "    </tr>\n",
       "    <tr>\n",
       "      <th>2</th>\n",
       "      <td>-0.044659</td>\n",
       "      <td>-0.065513</td>\n",
       "      <td>-0.050221</td>\n",
       "      <td>-0.614471</td>\n",
       "      <td>-0.046486</td>\n",
       "      <td>0.094156</td>\n",
       "      <td>0.054017</td>\n",
       "      <td>-0.293089</td>\n",
       "      <td>-0.024135</td>\n",
       "      <td>-0.043873</td>\n",
       "      <td>...</td>\n",
       "      <td>-0.081568</td>\n",
       "      <td>-0.034965</td>\n",
       "      <td>-0.132396</td>\n",
       "      <td>-0.178159</td>\n",
       "      <td>-0.171199</td>\n",
       "      <td>-0.085095</td>\n",
       "      <td>-0.207044</td>\n",
       "      <td>0.171524</td>\n",
       "      <td>0.156943</td>\n",
       "      <td>-0.052975</td>\n",
       "    </tr>\n",
       "    <tr>\n",
       "      <th>3</th>\n",
       "      <td>-0.002750</td>\n",
       "      <td>-0.105868</td>\n",
       "      <td>0.002869</td>\n",
       "      <td>0.041823</td>\n",
       "      <td>-0.070462</td>\n",
       "      <td>-0.095661</td>\n",
       "      <td>-0.150011</td>\n",
       "      <td>-0.192046</td>\n",
       "      <td>-0.144373</td>\n",
       "      <td>-0.030245</td>\n",
       "      <td>...</td>\n",
       "      <td>-0.059630</td>\n",
       "      <td>-0.056723</td>\n",
       "      <td>-0.213079</td>\n",
       "      <td>-0.176387</td>\n",
       "      <td>-0.057586</td>\n",
       "      <td>0.035208</td>\n",
       "      <td>-0.223268</td>\n",
       "      <td>-0.046815</td>\n",
       "      <td>-0.086433</td>\n",
       "      <td>-0.235004</td>\n",
       "    </tr>\n",
       "    <tr>\n",
       "      <th>4</th>\n",
       "      <td>-0.300411</td>\n",
       "      <td>-0.201712</td>\n",
       "      <td>-0.069580</td>\n",
       "      <td>-0.248154</td>\n",
       "      <td>-0.239998</td>\n",
       "      <td>-0.087830</td>\n",
       "      <td>-0.062751</td>\n",
       "      <td>-0.037665</td>\n",
       "      <td>-0.093176</td>\n",
       "      <td>0.155355</td>\n",
       "      <td>...</td>\n",
       "      <td>0.058155</td>\n",
       "      <td>0.004879</td>\n",
       "      <td>0.137516</td>\n",
       "      <td>-0.064947</td>\n",
       "      <td>0.031700</td>\n",
       "      <td>-0.032500</td>\n",
       "      <td>0.075671</td>\n",
       "      <td>-0.035616</td>\n",
       "      <td>-0.073470</td>\n",
       "      <td>-0.005592</td>\n",
       "    </tr>\n",
       "    <tr>\n",
       "      <th>...</th>\n",
       "      <td>...</td>\n",
       "      <td>...</td>\n",
       "      <td>...</td>\n",
       "      <td>...</td>\n",
       "      <td>...</td>\n",
       "      <td>...</td>\n",
       "      <td>...</td>\n",
       "      <td>...</td>\n",
       "      <td>...</td>\n",
       "      <td>...</td>\n",
       "      <td>...</td>\n",
       "      <td>...</td>\n",
       "      <td>...</td>\n",
       "      <td>...</td>\n",
       "      <td>...</td>\n",
       "      <td>...</td>\n",
       "      <td>...</td>\n",
       "      <td>...</td>\n",
       "      <td>...</td>\n",
       "      <td>...</td>\n",
       "      <td>...</td>\n",
       "    </tr>\n",
       "    <tr>\n",
       "      <th>243</th>\n",
       "      <td>-0.003894</td>\n",
       "      <td>-0.003894</td>\n",
       "      <td>-0.057368</td>\n",
       "      <td>-0.003894</td>\n",
       "      <td>-0.003894</td>\n",
       "      <td>-0.003894</td>\n",
       "      <td>-0.117104</td>\n",
       "      <td>-0.003894</td>\n",
       "      <td>-0.045106</td>\n",
       "      <td>-0.158582</td>\n",
       "      <td>...</td>\n",
       "      <td>-0.003894</td>\n",
       "      <td>-0.003894</td>\n",
       "      <td>-0.003894</td>\n",
       "      <td>-0.003894</td>\n",
       "      <td>-0.003894</td>\n",
       "      <td>-0.003894</td>\n",
       "      <td>-0.003894</td>\n",
       "      <td>-0.003894</td>\n",
       "      <td>-0.003894</td>\n",
       "      <td>-0.003894</td>\n",
       "    </tr>\n",
       "    <tr>\n",
       "      <th>244</th>\n",
       "      <td>-0.003835</td>\n",
       "      <td>-0.003835</td>\n",
       "      <td>-0.015162</td>\n",
       "      <td>-0.003835</td>\n",
       "      <td>-0.404527</td>\n",
       "      <td>-0.003835</td>\n",
       "      <td>0.114683</td>\n",
       "      <td>-0.003835</td>\n",
       "      <td>0.095469</td>\n",
       "      <td>0.036686</td>\n",
       "      <td>...</td>\n",
       "      <td>-0.003835</td>\n",
       "      <td>-0.003835</td>\n",
       "      <td>-0.003835</td>\n",
       "      <td>-0.003835</td>\n",
       "      <td>-0.003835</td>\n",
       "      <td>-0.003835</td>\n",
       "      <td>-0.003835</td>\n",
       "      <td>-0.003835</td>\n",
       "      <td>-0.003835</td>\n",
       "      <td>-0.003835</td>\n",
       "    </tr>\n",
       "    <tr>\n",
       "      <th>245</th>\n",
       "      <td>-0.003772</td>\n",
       "      <td>-0.003772</td>\n",
       "      <td>-0.046436</td>\n",
       "      <td>-0.003772</td>\n",
       "      <td>-0.003772</td>\n",
       "      <td>-0.003772</td>\n",
       "      <td>0.071008</td>\n",
       "      <td>-0.003772</td>\n",
       "      <td>0.011802</td>\n",
       "      <td>-0.038184</td>\n",
       "      <td>...</td>\n",
       "      <td>-0.003772</td>\n",
       "      <td>-0.003772</td>\n",
       "      <td>-0.003772</td>\n",
       "      <td>-0.003772</td>\n",
       "      <td>-0.003772</td>\n",
       "      <td>-0.003772</td>\n",
       "      <td>-0.003772</td>\n",
       "      <td>-0.003772</td>\n",
       "      <td>-0.003772</td>\n",
       "      <td>-0.003772</td>\n",
       "    </tr>\n",
       "    <tr>\n",
       "      <th>246</th>\n",
       "      <td>-0.003872</td>\n",
       "      <td>-0.003872</td>\n",
       "      <td>-0.018684</td>\n",
       "      <td>-0.003872</td>\n",
       "      <td>-0.003872</td>\n",
       "      <td>-0.003872</td>\n",
       "      <td>0.093817</td>\n",
       "      <td>-0.003872</td>\n",
       "      <td>0.013172</td>\n",
       "      <td>0.030468</td>\n",
       "      <td>...</td>\n",
       "      <td>-0.003872</td>\n",
       "      <td>-0.003872</td>\n",
       "      <td>-0.003872</td>\n",
       "      <td>-0.003872</td>\n",
       "      <td>-0.003872</td>\n",
       "      <td>-0.003872</td>\n",
       "      <td>-0.003872</td>\n",
       "      <td>-0.003872</td>\n",
       "      <td>-0.003872</td>\n",
       "      <td>-0.003872</td>\n",
       "    </tr>\n",
       "    <tr>\n",
       "      <th>247</th>\n",
       "      <td>-0.003940</td>\n",
       "      <td>-0.003940</td>\n",
       "      <td>-0.102165</td>\n",
       "      <td>-0.003940</td>\n",
       "      <td>-0.003940</td>\n",
       "      <td>-0.003940</td>\n",
       "      <td>-0.029512</td>\n",
       "      <td>-0.003940</td>\n",
       "      <td>-0.188449</td>\n",
       "      <td>0.115438</td>\n",
       "      <td>...</td>\n",
       "      <td>-0.003940</td>\n",
       "      <td>-0.003940</td>\n",
       "      <td>-0.003940</td>\n",
       "      <td>-0.003940</td>\n",
       "      <td>-0.003940</td>\n",
       "      <td>-0.003940</td>\n",
       "      <td>-0.003940</td>\n",
       "      <td>-0.003940</td>\n",
       "      <td>-0.003940</td>\n",
       "      <td>-0.003940</td>\n",
       "    </tr>\n",
       "  </tbody>\n",
       "</table>\n",
       "<p>248 rows × 186 columns</p>\n",
       "</div>"
      ],
      "text/plain": [
       "     FDS.SJ.Equity  MOZ.SJ.Equity  MTN.SJ.Equity  TRT.SJ.Equity  \\\n",
       "0         0.072165      -0.020800       0.356718       0.065927   \n",
       "1        -0.321464      -0.085416       0.114407      -0.245906   \n",
       "2        -0.044659      -0.065513      -0.050221      -0.614471   \n",
       "3        -0.002750      -0.105868       0.002869       0.041823   \n",
       "4        -0.300411      -0.201712      -0.069580      -0.248154   \n",
       "..             ...            ...            ...            ...   \n",
       "243      -0.003894      -0.003894      -0.057368      -0.003894   \n",
       "244      -0.003835      -0.003835      -0.015162      -0.003835   \n",
       "245      -0.003772      -0.003772      -0.046436      -0.003772   \n",
       "246      -0.003872      -0.003872      -0.018684      -0.003872   \n",
       "247      -0.003940      -0.003940      -0.102165      -0.003940   \n",
       "\n",
       "     AEG.SJ.Equity  ECO.SJ.Equity  NTC.SJ.Equity  SFT.SJ.Equity  \\\n",
       "0         0.124700      -0.150558       0.018565       0.115681   \n",
       "1        -0.148942      -0.083488       0.148780       0.017204   \n",
       "2        -0.046486       0.094156       0.054017      -0.293089   \n",
       "3        -0.070462      -0.095661      -0.150011      -0.192046   \n",
       "4        -0.239998      -0.087830      -0.062751      -0.037665   \n",
       "..             ...            ...            ...            ...   \n",
       "243      -0.003894      -0.003894      -0.117104      -0.003894   \n",
       "244      -0.404527      -0.003835       0.114683      -0.003835   \n",
       "245      -0.003772      -0.003772       0.071008      -0.003772   \n",
       "246      -0.003872      -0.003872       0.093817      -0.003872   \n",
       "247      -0.003940      -0.003940      -0.029512      -0.003940   \n",
       "\n",
       "     WHL.SJ.Equity  SOL.SJ.Equity  ...  ABI.SJ.Equity  SGG.SJ.Equity  \\\n",
       "0         0.026352       0.004518  ...       0.007738      -0.041745   \n",
       "1        -0.098995      -0.170245  ...      -0.170885      -0.117745   \n",
       "2        -0.024135      -0.043873  ...      -0.081568      -0.034965   \n",
       "3        -0.144373      -0.030245  ...      -0.059630      -0.056723   \n",
       "4        -0.093176       0.155355  ...       0.058155       0.004879   \n",
       "..             ...            ...  ...            ...            ...   \n",
       "243      -0.045106      -0.158582  ...      -0.003894      -0.003894   \n",
       "244       0.095469       0.036686  ...      -0.003835      -0.003835   \n",
       "245       0.011802      -0.038184  ...      -0.003772      -0.003772   \n",
       "246       0.013172       0.030468  ...      -0.003872      -0.003872   \n",
       "247      -0.188449       0.115438  ...      -0.003940      -0.003940   \n",
       "\n",
       "     CXT.SJ.Equity  GIJ.SJ.Equity  PAM.SJ.Equity  CHE.SJ.Equity  \\\n",
       "0        -0.101678       0.152756       0.014380      -0.018326   \n",
       "1        -0.005370      -0.070510      -0.242855       0.003177   \n",
       "2        -0.132396      -0.178159      -0.171199      -0.085095   \n",
       "3        -0.213079      -0.176387      -0.057586       0.035208   \n",
       "4         0.137516      -0.064947       0.031700      -0.032500   \n",
       "..             ...            ...            ...            ...   \n",
       "243      -0.003894      -0.003894      -0.003894      -0.003894   \n",
       "244      -0.003835      -0.003835      -0.003835      -0.003835   \n",
       "245      -0.003772      -0.003772      -0.003772      -0.003772   \n",
       "246      -0.003872      -0.003872      -0.003872      -0.003872   \n",
       "247      -0.003940      -0.003940      -0.003940      -0.003940   \n",
       "\n",
       "     JCG.SJ.Equity  CRM.SJ.Equity  CLE.SJ.Equity  WES.SJ.Equity  \n",
       "0        -0.157433       0.051626      -0.032745       0.007046  \n",
       "1         0.250925      -0.021371       0.011724       0.016880  \n",
       "2        -0.207044       0.171524       0.156943      -0.052975  \n",
       "3        -0.223268      -0.046815      -0.086433      -0.235004  \n",
       "4         0.075671      -0.035616      -0.073470      -0.005592  \n",
       "..             ...            ...            ...            ...  \n",
       "243      -0.003894      -0.003894      -0.003894      -0.003894  \n",
       "244      -0.003835      -0.003835      -0.003835      -0.003835  \n",
       "245      -0.003772      -0.003772      -0.003772      -0.003772  \n",
       "246      -0.003872      -0.003872      -0.003872      -0.003872  \n",
       "247      -0.003940      -0.003940      -0.003940      -0.003940  \n",
       "\n",
       "[248 rows x 186 columns]"
      ]
     },
     "execution_count": 272,
     "metadata": {},
     "output_type": "execute_result"
    }
   ],
   "source": [
    "m_df_Ex_SR"
   ]
  },
  {
   "cell_type": "code",
   "execution_count": 331,
   "metadata": {
    "scrolled": true
   },
   "outputs": [],
   "source": [
    "# FM_OLS Regression\n",
    "# 1st Stage of FM_OLS Regression/ Beta Estimation\n",
    "# Time-Series Regression\n",
    "df_MR_tmp = df_MR\n",
    "df_Ex_SR_tmp = df_Ex_SR.loc[df_MR.index, :].dropna(axis = 1)\n",
    "betas = []\n",
    "\n",
    "for j in df_Ex_SR_tmp.columns:\n",
    "    OLS = sm.OLS(df_Ex_SR_tmp.loc[:, j].values.astype(\n",
    "        np.float64), df_MR_tmp.values.astype(np.float64))\n",
    "    res = OLS.fit(cov_type=\"HC1\")\n",
    "    b = list(res.params)\n",
    "    betas.append(b)\n",
    "df_betas = pd.DataFrame(betas).rename(columns={0:\"MKT\"})\n",
    "\n",
    "\n",
    "# 2nd Stage of FM_OLS Regression/ Risk Premium Estimation\n",
    "# Cross-sectional Regression\n",
    "lambdas = []\n",
    "df_Ex_SR_tmp_T = df_Ex_SR_tmp.T\n",
    "for k in df_Ex_SR_tmp_T.columns:\n",
    "    OLS = sm.OLS(df_Ex_SR_tmp_T.loc[:, k].values, \n",
    "        df_betas[\"MKT\"].astype(np.float64))\n",
    "    res = OLS.fit(cov_type=\"HC1\")\n",
    "    l = list(res.params)\n",
    "    lambdas.append(l)"
   ]
  },
  {
   "cell_type": "code",
   "execution_count": 332,
   "metadata": {
    "scrolled": true
   },
   "outputs": [
    {
     "data": {
      "text/html": [
       "<div>\n",
       "<style scoped>\n",
       "    .dataframe tbody tr th:only-of-type {\n",
       "        vertical-align: middle;\n",
       "    }\n",
       "\n",
       "    .dataframe tbody tr th {\n",
       "        vertical-align: top;\n",
       "    }\n",
       "\n",
       "    .dataframe thead th {\n",
       "        text-align: right;\n",
       "    }\n",
       "</style>\n",
       "<table border=\"1\" class=\"dataframe\">\n",
       "  <thead>\n",
       "    <tr style=\"text-align: right;\">\n",
       "      <th></th>\n",
       "      <th>MKT</th>\n",
       "    </tr>\n",
       "  </thead>\n",
       "  <tbody>\n",
       "    <tr>\n",
       "      <th>0</th>\n",
       "      <td>0.097357</td>\n",
       "    </tr>\n",
       "    <tr>\n",
       "      <th>1</th>\n",
       "      <td>0.144294</td>\n",
       "    </tr>\n",
       "    <tr>\n",
       "      <th>2</th>\n",
       "      <td>1.040482</td>\n",
       "    </tr>\n",
       "    <tr>\n",
       "      <th>3</th>\n",
       "      <td>0.127970</td>\n",
       "    </tr>\n",
       "    <tr>\n",
       "      <th>4</th>\n",
       "      <td>0.653292</td>\n",
       "    </tr>\n",
       "    <tr>\n",
       "      <th>...</th>\n",
       "      <td>...</td>\n",
       "    </tr>\n",
       "    <tr>\n",
       "      <th>181</th>\n",
       "      <td>0.028121</td>\n",
       "    </tr>\n",
       "    <tr>\n",
       "      <th>182</th>\n",
       "      <td>0.023760</td>\n",
       "    </tr>\n",
       "    <tr>\n",
       "      <th>183</th>\n",
       "      <td>0.056708</td>\n",
       "    </tr>\n",
       "    <tr>\n",
       "      <th>184</th>\n",
       "      <td>0.035313</td>\n",
       "    </tr>\n",
       "    <tr>\n",
       "      <th>185</th>\n",
       "      <td>0.275099</td>\n",
       "    </tr>\n",
       "  </tbody>\n",
       "</table>\n",
       "<p>186 rows × 1 columns</p>\n",
       "</div>"
      ],
      "text/plain": [
       "          MKT\n",
       "0    0.097357\n",
       "1    0.144294\n",
       "2    1.040482\n",
       "3    0.127970\n",
       "4    0.653292\n",
       "..        ...\n",
       "181  0.028121\n",
       "182  0.023760\n",
       "183  0.056708\n",
       "184  0.035313\n",
       "185  0.275099\n",
       "\n",
       "[186 rows x 1 columns]"
      ]
     },
     "execution_count": 332,
     "metadata": {},
     "output_type": "execute_result"
    }
   ],
   "source": [
    "df_betas"
   ]
  },
  {
   "cell_type": "code",
   "execution_count": 333,
   "metadata": {},
   "outputs": [
    {
     "data": {
      "text/plain": [
       "-4.63255989511288e-05"
      ]
     },
     "execution_count": 333,
     "metadata": {},
     "output_type": "execute_result"
    }
   ],
   "source": [
    "np.mean(lambdas)"
   ]
  },
  {
   "cell_type": "code",
   "execution_count": 334,
   "metadata": {},
   "outputs": [
    {
     "data": {
      "text/plain": [
       "Ttest_1sampResult(statistic=array([-0.23721169]), pvalue=array([0.81250189]))"
      ]
     },
     "execution_count": 334,
     "metadata": {},
     "output_type": "execute_result"
    }
   ],
   "source": [
    "stats.ttest_1samp(lambdas, 0)"
   ]
  },
  {
   "cell_type": "code",
   "execution_count": 406,
   "metadata": {},
   "outputs": [
    {
     "data": {
      "text/html": [
       "<table class=\"simpletable\">\n",
       "<caption>LinearFactorModel Estimation Summary</caption>\n",
       "<tr>\n",
       "  <th>No. Test Portfolios:</th>        <td>186</td>       <th>  R-squared:         </th>  <td>0.0175</td>  \n",
       "</tr>\n",
       "<tr>\n",
       "  <th>No. Factors:</th>                 <td>1</td>        <th>  J-statistic:       </th>  <td>191.67</td>  \n",
       "</tr>\n",
       "<tr>\n",
       "  <th>No. Observations:</th>          <td>5215</td>       <th>  P-value            </th>  <td>0.3530</td>  \n",
       "</tr>\n",
       "<tr>\n",
       "  <th>Date:</th>                <td>Sat, May 28 2022</td> <th>  Distribution:      </th> <td>chi2(185)</td>\n",
       "</tr>\n",
       "<tr>\n",
       "  <th>Time:</th>                    <td>02:11:02</td>     <th>                     </th>     <td></td>     \n",
       "</tr>\n",
       "<tr>\n",
       "  <th>Cov. Estimator:</th>           <td>robust</td>      <th>                     </th>     <td></td>     \n",
       "</tr>\n",
       "<tr>\n",
       "  <th></th>                             <td></td>         <th>                     </th>     <td></td>     \n",
       "</tr>\n",
       "</table>\n",
       "<table class=\"simpletable\">\n",
       "<caption>Risk Premia Estimates</caption>\n",
       "<tr>\n",
       "    <td></td>     <th>Parameter</th> <th>Std. Err.</th> <th>T-stat</th>  <th>P-value</th> <th>Lower CI</th> <th>Upper CI</th>\n",
       "</tr>\n",
       "<tr>\n",
       "  <th>MR_RF</th> <td>-4.841e-05</td>  <td>0.0002</td>   <td>-0.2455</td> <td>0.8061</td>   <td>-0.0004</td>  <td>0.0003</td> \n",
       "</tr>\n",
       "</table><br/><br/>Covariance estimator:<br/>HeteroskedasticCovariance<br/>See full_summary for complete results"
      ],
      "text/plain": [
       "<class 'linearmodels.compat.statsmodels.Summary'>\n",
       "\"\"\"\n",
       "                      LinearFactorModel Estimation Summary                      \n",
       "================================================================================\n",
       "No. Test Portfolios:                186   R-squared:                      0.0175\n",
       "No. Factors:                          1   J-statistic:                    191.67\n",
       "No. Observations:                  5215   P-value                         0.3530\n",
       "Date:                  Sat, May 28 2022   Distribution:                chi2(185)\n",
       "Time:                          02:11:02                                         \n",
       "Cov. Estimator:                  robust                                         \n",
       "                                                                                \n",
       "                            Risk Premia Estimates                             \n",
       "==============================================================================\n",
       "            Parameter  Std. Err.     T-stat    P-value    Lower CI    Upper CI\n",
       "------------------------------------------------------------------------------\n",
       "MR_RF      -4.841e-05     0.0002    -0.2455     0.8061     -0.0004      0.0003\n",
       "==============================================================================\n",
       "\n",
       "Covariance estimator:\n",
       "HeteroskedasticCovariance\n",
       "See full_summary for complete results\n",
       "\"\"\""
      ]
     },
     "execution_count": 406,
     "metadata": {},
     "output_type": "execute_result"
    }
   ],
   "source": [
    "from linearmodels.asset_pricing.model import LinearFactorModel\n",
    "model_ols = LinearFactorModel(portfolios=df_Ex_SR.dropna(axis = 1), factors= df_MR, risk_free = None)\n",
    "res_ols = model_ols.fit()\n",
    "res_ols.summary"
   ]
  },
  {
   "cell_type": "code",
   "execution_count": 345,
   "metadata": {},
   "outputs": [
    {
     "data": {
      "text/plain": [
       "-4.840516038811684e-05"
      ]
     },
     "execution_count": 345,
     "metadata": {},
     "output_type": "execute_result"
    }
   ],
   "source": [
    "res_ols.risk_premia[0]"
   ]
  },
  {
   "cell_type": "code",
   "execution_count": 326,
   "metadata": {},
   "outputs": [
    {
     "data": {
      "text/plain": [
       "<AxesSubplot:xlabel='Dates'>"
      ]
     },
     "execution_count": 326,
     "metadata": {},
     "output_type": "execute_result"
    },
    {
     "data": {
      "image/png": "[encoded data removed]",
      "text/plain": [
       "<Figure size 432x288 with 1 Axes>"
      ]
     },
     "metadata": {
      "needs_background": "light"
     },
     "output_type": "display_data"
    }
   ],
   "source": [
    "df_Ex_SR.iloc[:,2].plot()"
   ]
  },
  {
   "cell_type": "code",
   "execution_count": 351,
   "metadata": {},
   "outputs": [
    {
     "data": {
      "text/plain": [
       "<AxesSubplot:xlabel='Dates'>"
      ]
     },
     "execution_count": 351,
     "metadata": {},
     "output_type": "execute_result"
    },
    {
     "data": {
      "image/png": "[encoded data removed]",
      "text/plain": [
       "<Figure size 432x288 with 1 Axes>"
      ]
     },
     "metadata": {
      "needs_background": "light"
     },
     "output_type": "display_data"
    }
   ],
   "source": [
    "df_18_PR.iloc[:,4].plot()"
   ]
  },
  {
   "cell_type": "code",
   "execution_count": 552,
   "metadata": {},
   "outputs": [],
   "source": [
    "m_df_18_PR = df_18_PR.apply(lambda x: froll_sum(x))\n",
    "m_df_FF5 = df_FF5.apply(lambda x: froll_sum(x))"
   ]
  },
  {
   "cell_type": "code",
   "execution_count": 553,
   "metadata": {},
   "outputs": [
    {
     "data": {
      "text/html": [
       "<table class=\"simpletable\">\n",
       "<caption>LinearFactorModel Estimation Summary</caption>\n",
       "<tr>\n",
       "  <th>No. Test Portfolios:</th>        <td>18</td>        <th>  R-squared:         </th>  <td>0.5688</td> \n",
       "</tr>\n",
       "<tr>\n",
       "  <th>No. Factors:</th>                 <td>5</td>        <th>  J-statistic:       </th>  <td>26.633</td> \n",
       "</tr>\n",
       "<tr>\n",
       "  <th>No. Observations:</th>           <td>226</td>       <th>  P-value            </th>  <td>0.0140</td> \n",
       "</tr>\n",
       "<tr>\n",
       "  <th>Date:</th>                <td>Sat, May 28 2022</td> <th>  Distribution:      </th> <td>chi2(13)</td>\n",
       "</tr>\n",
       "<tr>\n",
       "  <th>Time:</th>                    <td>03:33:43</td>     <th>                     </th>     <td></td>    \n",
       "</tr>\n",
       "<tr>\n",
       "  <th>Cov. Estimator:</th>           <td>robust</td>      <th>                     </th>     <td></td>    \n",
       "</tr>\n",
       "<tr>\n",
       "  <th></th>                             <td></td>         <th>                     </th>     <td></td>    \n",
       "</tr>\n",
       "</table>\n",
       "<table class=\"simpletable\">\n",
       "<caption>Risk Premia Estimates</caption>\n",
       "<tr>\n",
       "    <td></td>    <th>Parameter</th> <th>Std. Err.</th> <th>T-stat</th>  <th>P-value</th> <th>Lower CI</th> <th>Upper CI</th>\n",
       "</tr>\n",
       "<tr>\n",
       "  <th>MR_RF</th>  <td>0.0036</td>    <td>0.0044</td>   <td>0.8355</td>  <td>0.4035</td>   <td>-0.0049</td>  <td>0.0122</td> \n",
       "</tr>\n",
       "<tr>\n",
       "  <th>SMB</th>    <td>-0.0041</td>   <td>0.0018</td>   <td>-2.2976</td> <td>0.0216</td>   <td>-0.0076</td>  <td>-0.0006</td>\n",
       "</tr>\n",
       "<tr>\n",
       "  <th>HML</th>    <td>0.0061</td>    <td>0.0021</td>   <td>2.8401</td>  <td>0.0045</td>   <td>0.0019</td>   <td>0.0102</td> \n",
       "</tr>\n",
       "<tr>\n",
       "  <th>RMW</th>    <td>0.0065</td>    <td>0.0023</td>   <td>2.8553</td>  <td>0.0043</td>   <td>0.0020</td>   <td>0.0109</td> \n",
       "</tr>\n",
       "<tr>\n",
       "  <th>CMA</th>    <td>-0.0033</td>   <td>0.0022</td>   <td>-1.5053</td> <td>0.1323</td>   <td>-0.0077</td>  <td>0.0010</td> \n",
       "</tr>\n",
       "</table><br/><br/>Covariance estimator:<br/>HeteroskedasticCovariance<br/>See full_summary for complete results"
      ],
      "text/plain": [
       "<class 'linearmodels.compat.statsmodels.Summary'>\n",
       "\"\"\"\n",
       "                      LinearFactorModel Estimation Summary                      \n",
       "================================================================================\n",
       "No. Test Portfolios:                 18   R-squared:                      0.5688\n",
       "No. Factors:                          5   J-statistic:                    26.633\n",
       "No. Observations:                   226   P-value                         0.0140\n",
       "Date:                  Sat, May 28 2022   Distribution:                 chi2(13)\n",
       "Time:                          03:33:43                                         \n",
       "Cov. Estimator:                  robust                                         \n",
       "                                                                                \n",
       "                            Risk Premia Estimates                             \n",
       "==============================================================================\n",
       "            Parameter  Std. Err.     T-stat    P-value    Lower CI    Upper CI\n",
       "------------------------------------------------------------------------------\n",
       "MR_RF          0.0036     0.0044     0.8355     0.4035     -0.0049      0.0122\n",
       "SMB           -0.0041     0.0018    -2.2976     0.0216     -0.0076     -0.0006\n",
       "HML            0.0061     0.0021     2.8401     0.0045      0.0019      0.0102\n",
       "RMW            0.0065     0.0023     2.8553     0.0043      0.0020      0.0109\n",
       "CMA           -0.0033     0.0022    -1.5053     0.1323     -0.0077      0.0010\n",
       "==============================================================================\n",
       "\n",
       "Covariance estimator:\n",
       "HeteroskedasticCovariance\n",
       "See full_summary for complete results\n",
       "\"\"\""
      ]
     },
     "execution_count": 553,
     "metadata": {},
     "output_type": "execute_result"
    }
   ],
   "source": [
    "model_ols = LinearFactorModel(portfolios=m_df_18_PR, factors= m_df_FF5, risk_free = None)\n",
    "res_ols = model_ols.fit()\n",
    "res_ols.summary"
   ]
  },
  {
   "cell_type": "code",
   "execution_count": 364,
   "metadata": {},
   "outputs": [
    {
     "data": {
      "text/html": [
       "<table class=\"simpletable\">\n",
       "<caption>LinearFactorModel Estimation Summary</caption>\n",
       "<tr>\n",
       "  <th>No. Test Portfolios:</th>        <td>18</td>        <th>  R-squared:         </th>  <td>0.5513</td> \n",
       "</tr>\n",
       "<tr>\n",
       "  <th>No. Factors:</th>                 <td>5</td>        <th>  J-statistic:       </th>  <td>21.140</td> \n",
       "</tr>\n",
       "<tr>\n",
       "  <th>No. Observations:</th>          <td>4750</td>       <th>  P-value            </th>  <td>0.0702</td> \n",
       "</tr>\n",
       "<tr>\n",
       "  <th>Date:</th>                <td>Sat, May 28 2022</td> <th>  Distribution:      </th> <td>chi2(13)</td>\n",
       "</tr>\n",
       "<tr>\n",
       "  <th>Time:</th>                    <td>01:34:13</td>     <th>                     </th>     <td></td>    \n",
       "</tr>\n",
       "<tr>\n",
       "  <th>Cov. Estimator:</th>           <td>robust</td>      <th>                     </th>     <td></td>    \n",
       "</tr>\n",
       "<tr>\n",
       "  <th></th>                             <td></td>         <th>                     </th>     <td></td>    \n",
       "</tr>\n",
       "</table>\n",
       "<table class=\"simpletable\">\n",
       "<caption>Risk Premia Estimates</caption>\n",
       "<tr>\n",
       "    <td></td>    <th>Parameter</th> <th>Std. Err.</th> <th>T-stat</th>  <th>P-value</th> <th>Lower CI</th>   <th>Upper CI</th> \n",
       "</tr>\n",
       "<tr>\n",
       "  <th>MR_RF</th>  <td>0.0003</td>    <td>0.0002</td>   <td>1.3707</td>  <td>0.1705</td>   <td>-0.0001</td>    <td>0.0007</td>  \n",
       "</tr>\n",
       "<tr>\n",
       "  <th>SMB</th>    <td>-0.0002</td>   <td>0.0001</td>   <td>-2.0155</td> <td>0.0438</td>   <td>-0.0004</td>  <td>-5.617e-06</td>\n",
       "</tr>\n",
       "<tr>\n",
       "  <th>HML</th>    <td>0.0003</td>    <td>0.0001</td>   <td>2.5721</td>  <td>0.0101</td>  <td>7.004e-05</td>   <td>0.0005</td>  \n",
       "</tr>\n",
       "<tr>\n",
       "  <th>RMW</th>    <td>0.0004</td>    <td>0.0001</td>   <td>2.9925</td>  <td>0.0028</td>   <td>0.0001</td>     <td>0.0006</td>  \n",
       "</tr>\n",
       "<tr>\n",
       "  <th>CMA</th>    <td>-0.0002</td>   <td>0.0001</td>   <td>-1.4170</td> <td>0.1565</td>   <td>-0.0004</td>   <td>6.541e-05</td>\n",
       "</tr>\n",
       "</table><br/><br/>Covariance estimator:<br/>HeteroskedasticCovariance<br/>See full_summary for complete results"
      ],
      "text/plain": [
       "<class 'linearmodels.compat.statsmodels.Summary'>\n",
       "\"\"\"\n",
       "                      LinearFactorModel Estimation Summary                      \n",
       "================================================================================\n",
       "No. Test Portfolios:                 18   R-squared:                      0.5513\n",
       "No. Factors:                          5   J-statistic:                    21.140\n",
       "No. Observations:                  4750   P-value                         0.0702\n",
       "Date:                  Sat, May 28 2022   Distribution:                 chi2(13)\n",
       "Time:                          01:34:13                                         \n",
       "Cov. Estimator:                  robust                                         \n",
       "                                                                                \n",
       "                            Risk Premia Estimates                             \n",
       "==============================================================================\n",
       "            Parameter  Std. Err.     T-stat    P-value    Lower CI    Upper CI\n",
       "------------------------------------------------------------------------------\n",
       "MR_RF          0.0003     0.0002     1.3707     0.1705     -0.0001      0.0007\n",
       "SMB           -0.0002     0.0001    -2.0155     0.0438     -0.0004  -5.617e-06\n",
       "HML            0.0003     0.0001     2.5721     0.0101   7.004e-05      0.0005\n",
       "RMW            0.0004     0.0001     2.9925     0.0028      0.0001      0.0006\n",
       "CMA           -0.0002     0.0001    -1.4170     0.1565     -0.0004   6.541e-05\n",
       "==============================================================================\n",
       "\n",
       "Covariance estimator:\n",
       "HeteroskedasticCovariance\n",
       "See full_summary for complete results\n",
       "\"\"\""
      ]
     },
     "execution_count": 364,
     "metadata": {},
     "output_type": "execute_result"
    }
   ],
   "source": [
    "model_ols = LinearFactorModel(portfolios = df_18_PR, factors= df_FF5, risk_free = None)\n",
    "res_ols = model_ols.fit()\n",
    "res_ols.summary"
   ]
  },
  {
   "cell_type": "code",
   "execution_count": 460,
   "metadata": {},
   "outputs": [
    {
     "name": "stderr",
     "output_type": "stream",
     "text": [
      "100%|██████████| 4750/4750 [00:04<00:00, 979.06it/s] \n"
     ]
    }
   ],
   "source": [
    "df_FF5_tmp = df_FF5\n",
    "df_Ex_SR_tmp = df_Ex_SR.loc[df_FF5_tmp.index, :].dropna(axis = 1)\n",
    "betas = []\n",
    "\n",
    "for j in df_Ex_SR_tmp.columns:\n",
    "    OLS = sm.OLS(df_Ex_SR_tmp.loc[:, j].values.astype(\n",
    "        np.float64), df_FF5_tmp.values.astype(np.float64))\n",
    "    res = OLS.fit(cov_type=\"HC1\")\n",
    "    b = list(res.params)\n",
    "    betas.append(b)\n",
    "df_betas = pd.DataFrame(betas)\n",
    "\n",
    "\n",
    "# 2nd Stage of FM_OLS Regression/ Risk Premium Estimation\n",
    "# Cross-sectional Regression\n",
    "lambdas = []\n",
    "all_lambdas = []\n",
    "df_Ex_SR_tmp_T = df_Ex_SR_tmp.T\n",
    "for k in tqdm(df_Ex_SR_tmp_T.columns):\n",
    "    OLS = sm.OLS(df_Ex_SR_tmp_T.loc[:, k].values, \n",
    "        df_betas.astype(np.float64))\n",
    "    res = OLS.fit(cov_type=\"HC1\")\n",
    "    l = pd.DataFrame(res.params).T\n",
    "    lambdas.append(l)\n"
   ]
  },
  {
   "cell_type": "code",
   "execution_count": 461,
   "metadata": {},
   "outputs": [
    {
     "data": {
      "text/html": [
       "<div>\n",
       "<style scoped>\n",
       "    .dataframe tbody tr th:only-of-type {\n",
       "        vertical-align: middle;\n",
       "    }\n",
       "\n",
       "    .dataframe tbody tr th {\n",
       "        vertical-align: top;\n",
       "    }\n",
       "\n",
       "    .dataframe thead th {\n",
       "        text-align: right;\n",
       "    }\n",
       "</style>\n",
       "<table border=\"1\" class=\"dataframe\">\n",
       "  <thead>\n",
       "    <tr style=\"text-align: right;\">\n",
       "      <th></th>\n",
       "      <th>0</th>\n",
       "      <th>1</th>\n",
       "      <th>2</th>\n",
       "      <th>3</th>\n",
       "      <th>4</th>\n",
       "    </tr>\n",
       "  </thead>\n",
       "  <tbody>\n",
       "    <tr>\n",
       "      <th>0</th>\n",
       "      <td>0.851082</td>\n",
       "      <td>-0.518358</td>\n",
       "      <td>0.000883</td>\n",
       "      <td>0.127713</td>\n",
       "      <td>-0.007495</td>\n",
       "    </tr>\n",
       "    <tr>\n",
       "      <th>1</th>\n",
       "      <td>0.580152</td>\n",
       "      <td>-0.310619</td>\n",
       "      <td>0.100502</td>\n",
       "      <td>-0.286521</td>\n",
       "      <td>-0.086860</td>\n",
       "    </tr>\n",
       "    <tr>\n",
       "      <th>2</th>\n",
       "      <td>0.446188</td>\n",
       "      <td>-0.422544</td>\n",
       "      <td>-0.010831</td>\n",
       "      <td>0.090795</td>\n",
       "      <td>0.017296</td>\n",
       "    </tr>\n",
       "    <tr>\n",
       "      <th>3</th>\n",
       "      <td>0.501757</td>\n",
       "      <td>-0.640108</td>\n",
       "      <td>-0.139435</td>\n",
       "      <td>0.247611</td>\n",
       "      <td>0.102298</td>\n",
       "    </tr>\n",
       "    <tr>\n",
       "      <th>4</th>\n",
       "      <td>1.118059</td>\n",
       "      <td>-0.010157</td>\n",
       "      <td>-0.026024</td>\n",
       "      <td>-0.000991</td>\n",
       "      <td>0.059185</td>\n",
       "    </tr>\n",
       "    <tr>\n",
       "      <th>...</th>\n",
       "      <td>...</td>\n",
       "      <td>...</td>\n",
       "      <td>...</td>\n",
       "      <td>...</td>\n",
       "      <td>...</td>\n",
       "    </tr>\n",
       "    <tr>\n",
       "      <th>68</th>\n",
       "      <td>0.214074</td>\n",
       "      <td>-0.261282</td>\n",
       "      <td>-0.038723</td>\n",
       "      <td>0.012467</td>\n",
       "      <td>0.004447</td>\n",
       "    </tr>\n",
       "    <tr>\n",
       "      <th>69</th>\n",
       "      <td>0.174918</td>\n",
       "      <td>-0.118946</td>\n",
       "      <td>-0.107943</td>\n",
       "      <td>0.118267</td>\n",
       "      <td>-0.021664</td>\n",
       "    </tr>\n",
       "    <tr>\n",
       "      <th>70</th>\n",
       "      <td>0.270469</td>\n",
       "      <td>0.108459</td>\n",
       "      <td>0.065425</td>\n",
       "      <td>0.111565</td>\n",
       "      <td>0.011571</td>\n",
       "    </tr>\n",
       "    <tr>\n",
       "      <th>71</th>\n",
       "      <td>0.291847</td>\n",
       "      <td>0.355868</td>\n",
       "      <td>0.006307</td>\n",
       "      <td>-0.094990</td>\n",
       "      <td>0.000960</td>\n",
       "    </tr>\n",
       "    <tr>\n",
       "      <th>72</th>\n",
       "      <td>0.268096</td>\n",
       "      <td>-0.014227</td>\n",
       "      <td>0.201226</td>\n",
       "      <td>0.008276</td>\n",
       "      <td>-0.053513</td>\n",
       "    </tr>\n",
       "  </tbody>\n",
       "</table>\n",
       "<p>73 rows × 5 columns</p>\n",
       "</div>"
      ],
      "text/plain": [
       "           0         1         2         3         4\n",
       "0   0.851082 -0.518358  0.000883  0.127713 -0.007495\n",
       "1   0.580152 -0.310619  0.100502 -0.286521 -0.086860\n",
       "2   0.446188 -0.422544 -0.010831  0.090795  0.017296\n",
       "3   0.501757 -0.640108 -0.139435  0.247611  0.102298\n",
       "4   1.118059 -0.010157 -0.026024 -0.000991  0.059185\n",
       "..       ...       ...       ...       ...       ...\n",
       "68  0.214074 -0.261282 -0.038723  0.012467  0.004447\n",
       "69  0.174918 -0.118946 -0.107943  0.118267 -0.021664\n",
       "70  0.270469  0.108459  0.065425  0.111565  0.011571\n",
       "71  0.291847  0.355868  0.006307 -0.094990  0.000960\n",
       "72  0.268096 -0.014227  0.201226  0.008276 -0.053513\n",
       "\n",
       "[73 rows x 5 columns]"
      ]
     },
     "execution_count": 461,
     "metadata": {},
     "output_type": "execute_result"
    }
   ],
   "source": [
    "df_betas"
   ]
  },
  {
   "cell_type": "code",
   "execution_count": 462,
   "metadata": {},
   "outputs": [
    {
     "data": {
      "text/html": [
       "<div>\n",
       "<style scoped>\n",
       "    .dataframe tbody tr th:only-of-type {\n",
       "        vertical-align: middle;\n",
       "    }\n",
       "\n",
       "    .dataframe tbody tr th {\n",
       "        vertical-align: top;\n",
       "    }\n",
       "\n",
       "    .dataframe thead th {\n",
       "        text-align: right;\n",
       "    }\n",
       "</style>\n",
       "<table border=\"1\" class=\"dataframe\">\n",
       "  <thead>\n",
       "    <tr style=\"text-align: right;\">\n",
       "      <th></th>\n",
       "      <th>0</th>\n",
       "      <th>1</th>\n",
       "      <th>2</th>\n",
       "      <th>3</th>\n",
       "      <th>4</th>\n",
       "    </tr>\n",
       "  </thead>\n",
       "  <tbody>\n",
       "    <tr>\n",
       "      <th>0</th>\n",
       "      <td>0.009127</td>\n",
       "      <td>0.019836</td>\n",
       "      <td>-0.009591</td>\n",
       "      <td>0.010249</td>\n",
       "      <td>-0.039115</td>\n",
       "    </tr>\n",
       "    <tr>\n",
       "      <th>1</th>\n",
       "      <td>-0.012399</td>\n",
       "      <td>-0.003250</td>\n",
       "      <td>-0.012932</td>\n",
       "      <td>-0.006868</td>\n",
       "      <td>0.077512</td>\n",
       "    </tr>\n",
       "    <tr>\n",
       "      <th>2</th>\n",
       "      <td>0.032053</td>\n",
       "      <td>0.015721</td>\n",
       "      <td>0.001200</td>\n",
       "      <td>0.014728</td>\n",
       "      <td>-0.016301</td>\n",
       "    </tr>\n",
       "    <tr>\n",
       "      <th>3</th>\n",
       "      <td>-0.000445</td>\n",
       "      <td>0.000033</td>\n",
       "      <td>-0.000138</td>\n",
       "      <td>-0.000088</td>\n",
       "      <td>-0.000109</td>\n",
       "    </tr>\n",
       "    <tr>\n",
       "      <th>4</th>\n",
       "      <td>-0.000445</td>\n",
       "      <td>0.000033</td>\n",
       "      <td>-0.000138</td>\n",
       "      <td>-0.000088</td>\n",
       "      <td>-0.000109</td>\n",
       "    </tr>\n",
       "    <tr>\n",
       "      <th>...</th>\n",
       "      <td>...</td>\n",
       "      <td>...</td>\n",
       "      <td>...</td>\n",
       "      <td>...</td>\n",
       "      <td>...</td>\n",
       "    </tr>\n",
       "    <tr>\n",
       "      <th>4745</th>\n",
       "      <td>-0.004601</td>\n",
       "      <td>-0.007674</td>\n",
       "      <td>0.013444</td>\n",
       "      <td>-0.021011</td>\n",
       "      <td>0.020563</td>\n",
       "    </tr>\n",
       "    <tr>\n",
       "      <th>4746</th>\n",
       "      <td>-0.003419</td>\n",
       "      <td>-0.018331</td>\n",
       "      <td>-0.023171</td>\n",
       "      <td>-0.081433</td>\n",
       "      <td>-0.101232</td>\n",
       "    </tr>\n",
       "    <tr>\n",
       "      <th>4747</th>\n",
       "      <td>-0.009695</td>\n",
       "      <td>-0.007186</td>\n",
       "      <td>-0.007975</td>\n",
       "      <td>0.042718</td>\n",
       "      <td>0.033873</td>\n",
       "    </tr>\n",
       "    <tr>\n",
       "      <th>4748</th>\n",
       "      <td>-0.009806</td>\n",
       "      <td>-0.017347</td>\n",
       "      <td>0.012659</td>\n",
       "      <td>-0.007890</td>\n",
       "      <td>-0.062196</td>\n",
       "    </tr>\n",
       "    <tr>\n",
       "      <th>4749</th>\n",
       "      <td>-0.003609</td>\n",
       "      <td>0.010854</td>\n",
       "      <td>0.018575</td>\n",
       "      <td>0.001902</td>\n",
       "      <td>-0.001238</td>\n",
       "    </tr>\n",
       "  </tbody>\n",
       "</table>\n",
       "<p>4750 rows × 5 columns</p>\n",
       "</div>"
      ],
      "text/plain": [
       "             0         1         2         3         4\n",
       "0     0.009127  0.019836 -0.009591  0.010249 -0.039115\n",
       "1    -0.012399 -0.003250 -0.012932 -0.006868  0.077512\n",
       "2     0.032053  0.015721  0.001200  0.014728 -0.016301\n",
       "3    -0.000445  0.000033 -0.000138 -0.000088 -0.000109\n",
       "4    -0.000445  0.000033 -0.000138 -0.000088 -0.000109\n",
       "...        ...       ...       ...       ...       ...\n",
       "4745 -0.004601 -0.007674  0.013444 -0.021011  0.020563\n",
       "4746 -0.003419 -0.018331 -0.023171 -0.081433 -0.101232\n",
       "4747 -0.009695 -0.007186 -0.007975  0.042718  0.033873\n",
       "4748 -0.009806 -0.017347  0.012659 -0.007890 -0.062196\n",
       "4749 -0.003609  0.010854  0.018575  0.001902 -0.001238\n",
       "\n",
       "[4750 rows x 5 columns]"
      ]
     },
     "execution_count": 462,
     "metadata": {},
     "output_type": "execute_result"
    }
   ],
   "source": [
    "all_lambdas = pd.DataFrame(np.concatenate(lambdas))\n",
    "all_lambdas"
   ]
  },
  {
   "cell_type": "code",
   "execution_count": 463,
   "metadata": {},
   "outputs": [
    {
     "data": {
      "text/plain": [
       "0    0.000650\n",
       "1    0.000232\n",
       "2    0.001901\n",
       "3    0.000456\n",
       "4    0.001912\n",
       "dtype: float64"
      ]
     },
     "execution_count": 463,
     "metadata": {},
     "output_type": "execute_result"
    }
   ],
   "source": [
    "all_lambdas.apply(lambda x: np.mean(x, axis = 0))"
   ]
  },
  {
   "cell_type": "code",
   "execution_count": 464,
   "metadata": {},
   "outputs": [
    {
     "data": {
      "text/plain": [
       "0    3.186619\n",
       "1    1.208660\n",
       "2    4.955117\n",
       "3    1.433455\n",
       "4    3.419914\n",
       "dtype: float64"
      ]
     },
     "execution_count": 464,
     "metadata": {},
     "output_type": "execute_result"
    }
   ],
   "source": [
    "all_lambdas.apply(lambda x: stats.ttest_1samp(x,0)[0])"
   ]
  },
  {
   "cell_type": "code",
   "execution_count": 558,
   "metadata": {},
   "outputs": [
    {
     "data": {
      "text/html": [
       "<table class=\"simpletable\">\n",
       "<caption>LinearFactorModel Estimation Summary</caption>\n",
       "<tr>\n",
       "  <th>No. Test Portfolios:</th>        <td>73</td>        <th>  R-squared:         </th>  <td>0.0982</td> \n",
       "</tr>\n",
       "<tr>\n",
       "  <th>No. Factors:</th>                 <td>5</td>        <th>  J-statistic:       </th>  <td>142.57</td> \n",
       "</tr>\n",
       "<tr>\n",
       "  <th>No. Observations:</th>          <td>4750</td>       <th>  P-value            </th>  <td>0.0000</td> \n",
       "</tr>\n",
       "<tr>\n",
       "  <th>Date:</th>                <td>Sat, May 28 2022</td> <th>  Distribution:      </th> <td>chi2(68)</td>\n",
       "</tr>\n",
       "<tr>\n",
       "  <th>Time:</th>                    <td>03:47:45</td>     <th>                     </th>     <td></td>    \n",
       "</tr>\n",
       "<tr>\n",
       "  <th>Cov. Estimator:</th>           <td>robust</td>      <th>                     </th>     <td></td>    \n",
       "</tr>\n",
       "<tr>\n",
       "  <th></th>                             <td></td>         <th>                     </th>     <td></td>    \n",
       "</tr>\n",
       "</table>\n",
       "<table class=\"simpletable\">\n",
       "<caption>Risk Premia Estimates</caption>\n",
       "<tr>\n",
       "    <td></td>    <th>Parameter</th> <th>Std. Err.</th> <th>T-stat</th> <th>P-value</th> <th>Lower CI</th> <th>Upper CI</th>\n",
       "</tr>\n",
       "<tr>\n",
       "  <th>MR_RF</th>  <td>0.0006</td>    <td>0.0002</td>   <td>2.6804</td> <td>0.0074</td>   <td>0.0002</td>   <td>0.0011</td> \n",
       "</tr>\n",
       "<tr>\n",
       "  <th>SMB</th>    <td>0.0002</td>    <td>0.0003</td>   <td>0.8767</td> <td>0.3807</td>   <td>-0.0003</td>  <td>0.0008</td> \n",
       "</tr>\n",
       "<tr>\n",
       "  <th>HML</th>    <td>0.0019</td>    <td>0.0005</td>   <td>3.5611</td> <td>0.0004</td>   <td>0.0008</td>   <td>0.0029</td> \n",
       "</tr>\n",
       "<tr>\n",
       "  <th>RMW</th>    <td>0.0004</td>    <td>0.0006</td>   <td>0.6437</td> <td>0.5198</td>   <td>-0.0008</td>  <td>0.0016</td> \n",
       "</tr>\n",
       "<tr>\n",
       "  <th>CMA</th>    <td>0.0018</td>    <td>0.0011</td>   <td>1.6903</td> <td>0.0910</td>   <td>-0.0003</td>  <td>0.0039</td> \n",
       "</tr>\n",
       "</table><br/><br/>Covariance estimator:<br/>HeteroskedasticCovariance<br/>See full_summary for complete results"
      ],
      "text/plain": [
       "<class 'linearmodels.compat.statsmodels.Summary'>\n",
       "\"\"\"\n",
       "                      LinearFactorModel Estimation Summary                      \n",
       "================================================================================\n",
       "No. Test Portfolios:                 73   R-squared:                      0.0982\n",
       "No. Factors:                          5   J-statistic:                    142.57\n",
       "No. Observations:                  4750   P-value                         0.0000\n",
       "Date:                  Sat, May 28 2022   Distribution:                 chi2(68)\n",
       "Time:                          03:47:45                                         \n",
       "Cov. Estimator:                  robust                                         \n",
       "                                                                                \n",
       "                            Risk Premia Estimates                             \n",
       "==============================================================================\n",
       "            Parameter  Std. Err.     T-stat    P-value    Lower CI    Upper CI\n",
       "------------------------------------------------------------------------------\n",
       "MR_RF          0.0006     0.0002     2.6804     0.0074      0.0002      0.0011\n",
       "SMB            0.0002     0.0003     0.8767     0.3807     -0.0003      0.0008\n",
       "HML            0.0019     0.0005     3.5611     0.0004      0.0008      0.0029\n",
       "RMW            0.0004     0.0006     0.6437     0.5198     -0.0008      0.0016\n",
       "CMA            0.0018     0.0011     1.6903     0.0910     -0.0003      0.0039\n",
       "==============================================================================\n",
       "\n",
       "Covariance estimator:\n",
       "HeteroskedasticCovariance\n",
       "See full_summary for complete results\n",
       "\"\"\""
      ]
     },
     "execution_count": 558,
     "metadata": {},
     "output_type": "execute_result"
    }
   ],
   "source": [
    "model_ols = LinearFactorModel(portfolios=df_Ex_SR.loc[df_FF5.index,:].dropna(axis = 1), factors= df_FF5, risk_free = None)\n",
    "res_ols = model_ols.fit()\n",
    "res_ols.summary"
   ]
  },
  {
   "cell_type": "code",
   "execution_count": 556,
   "metadata": {},
   "outputs": [
    {
     "data": {
      "text/html": [
       "<div>\n",
       "<style scoped>\n",
       "    .dataframe tbody tr th:only-of-type {\n",
       "        vertical-align: middle;\n",
       "    }\n",
       "\n",
       "    .dataframe tbody tr th {\n",
       "        vertical-align: top;\n",
       "    }\n",
       "\n",
       "    .dataframe thead th {\n",
       "        text-align: right;\n",
       "    }\n",
       "</style>\n",
       "<table border=\"1\" class=\"dataframe\">\n",
       "  <thead>\n",
       "    <tr style=\"text-align: right;\">\n",
       "      <th></th>\n",
       "      <th>FDS.SJ.Equity</th>\n",
       "      <th>MOZ.SJ.Equity</th>\n",
       "      <th>MTN.SJ.Equity</th>\n",
       "      <th>TRT.SJ.Equity</th>\n",
       "      <th>AEG.SJ.Equity</th>\n",
       "      <th>ECO.SJ.Equity</th>\n",
       "      <th>NTC.SJ.Equity</th>\n",
       "      <th>SFT.SJ.Equity</th>\n",
       "      <th>WHL.SJ.Equity</th>\n",
       "      <th>SOL.SJ.Equity</th>\n",
       "      <th>...</th>\n",
       "      <th>REB.SJ.Equity</th>\n",
       "      <th>EQU.SJ.Equity</th>\n",
       "      <th>CLI.SJ.Equity</th>\n",
       "      <th>MCG.SJ.Equity</th>\n",
       "      <th>DGH.SJ.Equity</th>\n",
       "      <th>MTH.SJ.Equity</th>\n",
       "      <th>DIA.SJ.Equity</th>\n",
       "      <th>CTK.SJ.Equity</th>\n",
       "      <th>SSS.SJ.Equity</th>\n",
       "      <th>AFT.SJ.Equity</th>\n",
       "    </tr>\n",
       "  </thead>\n",
       "  <tbody>\n",
       "    <tr>\n",
       "      <th>count</th>\n",
       "      <td>610.000000</td>\n",
       "      <td>1383.000000</td>\n",
       "      <td>5215.000000</td>\n",
       "      <td>2265.000000</td>\n",
       "      <td>5215.000000</td>\n",
       "      <td>1923.000000</td>\n",
       "      <td>5215.000000</td>\n",
       "      <td>1015.000000</td>\n",
       "      <td>5215.000000</td>\n",
       "      <td>5215.000000</td>\n",
       "      <td>...</td>\n",
       "      <td>2248.000000</td>\n",
       "      <td>1414.000000</td>\n",
       "      <td>2981.000000</td>\n",
       "      <td>219.000000</td>\n",
       "      <td>413.000000</td>\n",
       "      <td>288.000000</td>\n",
       "      <td>1949.000000</td>\n",
       "      <td>1312.000000</td>\n",
       "      <td>1077.000000</td>\n",
       "      <td>3430.000000</td>\n",
       "    </tr>\n",
       "    <tr>\n",
       "      <th>mean</th>\n",
       "      <td>0.003633</td>\n",
       "      <td>0.000769</td>\n",
       "      <td>0.000114</td>\n",
       "      <td>0.000544</td>\n",
       "      <td>0.002450</td>\n",
       "      <td>0.001217</td>\n",
       "      <td>0.000410</td>\n",
       "      <td>-0.000081</td>\n",
       "      <td>0.000247</td>\n",
       "      <td>0.000141</td>\n",
       "      <td>...</td>\n",
       "      <td>-0.000868</td>\n",
       "      <td>0.000950</td>\n",
       "      <td>0.000604</td>\n",
       "      <td>0.003509</td>\n",
       "      <td>0.000949</td>\n",
       "      <td>0.001774</td>\n",
       "      <td>0.001059</td>\n",
       "      <td>0.001399</td>\n",
       "      <td>0.000742</td>\n",
       "      <td>0.000754</td>\n",
       "    </tr>\n",
       "    <tr>\n",
       "      <th>std</th>\n",
       "      <td>0.053905</td>\n",
       "      <td>0.027874</td>\n",
       "      <td>0.021901</td>\n",
       "      <td>0.025724</td>\n",
       "      <td>0.059552</td>\n",
       "      <td>0.018136</td>\n",
       "      <td>0.017188</td>\n",
       "      <td>0.036281</td>\n",
       "      <td>0.018023</td>\n",
       "      <td>0.019784</td>\n",
       "      <td>...</td>\n",
       "      <td>0.021490</td>\n",
       "      <td>0.014053</td>\n",
       "      <td>0.021523</td>\n",
       "      <td>0.014268</td>\n",
       "      <td>0.013816</td>\n",
       "      <td>0.018574</td>\n",
       "      <td>0.022435</td>\n",
       "      <td>0.021304</td>\n",
       "      <td>0.011594</td>\n",
       "      <td>0.023860</td>\n",
       "    </tr>\n",
       "    <tr>\n",
       "      <th>min</th>\n",
       "      <td>-0.043042</td>\n",
       "      <td>-0.049925</td>\n",
       "      <td>-0.062193</td>\n",
       "      <td>-0.059983</td>\n",
       "      <td>-0.224052</td>\n",
       "      <td>-0.039289</td>\n",
       "      <td>-0.047144</td>\n",
       "      <td>-0.061751</td>\n",
       "      <td>-0.049104</td>\n",
       "      <td>-0.056222</td>\n",
       "      <td>...</td>\n",
       "      <td>-0.060519</td>\n",
       "      <td>-0.025407</td>\n",
       "      <td>-0.057156</td>\n",
       "      <td>-0.009381</td>\n",
       "      <td>-0.016888</td>\n",
       "      <td>-0.020534</td>\n",
       "      <td>-0.035872</td>\n",
       "      <td>-0.038560</td>\n",
       "      <td>-0.020528</td>\n",
       "      <td>-0.055415</td>\n",
       "    </tr>\n",
       "    <tr>\n",
       "      <th>25%</th>\n",
       "      <td>-0.016302</td>\n",
       "      <td>-0.013440</td>\n",
       "      <td>-0.011874</td>\n",
       "      <td>-0.009751</td>\n",
       "      <td>-0.011556</td>\n",
       "      <td>-0.007232</td>\n",
       "      <td>-0.009529</td>\n",
       "      <td>-0.021532</td>\n",
       "      <td>-0.010119</td>\n",
       "      <td>-0.010834</td>\n",
       "      <td>...</td>\n",
       "      <td>-0.008499</td>\n",
       "      <td>-0.002732</td>\n",
       "      <td>-0.000763</td>\n",
       "      <td>-0.009270</td>\n",
       "      <td>-0.008510</td>\n",
       "      <td>-0.012162</td>\n",
       "      <td>-0.000194</td>\n",
       "      <td>-0.004817</td>\n",
       "      <td>-0.005004</td>\n",
       "      <td>-0.009363</td>\n",
       "    </tr>\n",
       "    <tr>\n",
       "      <th>50%</th>\n",
       "      <td>-0.000269</td>\n",
       "      <td>-0.000264</td>\n",
       "      <td>-0.000193</td>\n",
       "      <td>-0.000244</td>\n",
       "      <td>-0.000195</td>\n",
       "      <td>-0.000228</td>\n",
       "      <td>-0.000197</td>\n",
       "      <td>-0.000292</td>\n",
       "      <td>-0.000191</td>\n",
       "      <td>-0.000189</td>\n",
       "      <td>...</td>\n",
       "      <td>-0.000161</td>\n",
       "      <td>-0.000173</td>\n",
       "      <td>-0.000181</td>\n",
       "      <td>-0.000016</td>\n",
       "      <td>-0.000191</td>\n",
       "      <td>-0.000195</td>\n",
       "      <td>-0.000162</td>\n",
       "      <td>-0.000190</td>\n",
       "      <td>-0.000189</td>\n",
       "      <td>-0.000183</td>\n",
       "    </tr>\n",
       "    <tr>\n",
       "      <th>75%</th>\n",
       "      <td>0.014249</td>\n",
       "      <td>0.011599</td>\n",
       "      <td>0.012036</td>\n",
       "      <td>0.009623</td>\n",
       "      <td>0.010975</td>\n",
       "      <td>0.008793</td>\n",
       "      <td>0.009848</td>\n",
       "      <td>0.015648</td>\n",
       "      <td>0.010520</td>\n",
       "      <td>0.011261</td>\n",
       "      <td>...</td>\n",
       "      <td>0.005958</td>\n",
       "      <td>0.003233</td>\n",
       "      <td>0.000488</td>\n",
       "      <td>0.009676</td>\n",
       "      <td>0.007989</td>\n",
       "      <td>0.012708</td>\n",
       "      <td>-0.000136</td>\n",
       "      <td>0.000864</td>\n",
       "      <td>0.005220</td>\n",
       "      <td>0.008820</td>\n",
       "    </tr>\n",
       "    <tr>\n",
       "      <th>max</th>\n",
       "      <td>0.916047</td>\n",
       "      <td>0.271286</td>\n",
       "      <td>0.066746</td>\n",
       "      <td>0.222876</td>\n",
       "      <td>0.400506</td>\n",
       "      <td>0.140974</td>\n",
       "      <td>0.051113</td>\n",
       "      <td>0.191272</td>\n",
       "      <td>0.050048</td>\n",
       "      <td>0.056672</td>\n",
       "      <td>...</td>\n",
       "      <td>0.200492</td>\n",
       "      <td>0.149861</td>\n",
       "      <td>0.190434</td>\n",
       "      <td>0.088643</td>\n",
       "      <td>0.080509</td>\n",
       "      <td>0.105617</td>\n",
       "      <td>0.710316</td>\n",
       "      <td>0.138170</td>\n",
       "      <td>0.063340</td>\n",
       "      <td>0.494480</td>\n",
       "    </tr>\n",
       "  </tbody>\n",
       "</table>\n",
       "<p>8 rows × 245 columns</p>\n",
       "</div>"
      ],
      "text/plain": [
       "       FDS.SJ.Equity  MOZ.SJ.Equity  MTN.SJ.Equity  TRT.SJ.Equity  \\\n",
       "count     610.000000    1383.000000    5215.000000    2265.000000   \n",
       "mean        0.003633       0.000769       0.000114       0.000544   \n",
       "std         0.053905       0.027874       0.021901       0.025724   \n",
       "min        -0.043042      -0.049925      -0.062193      -0.059983   \n",
       "25%        -0.016302      -0.013440      -0.011874      -0.009751   \n",
       "50%        -0.000269      -0.000264      -0.000193      -0.000244   \n",
       "75%         0.014249       0.011599       0.012036       0.009623   \n",
       "max         0.916047       0.271286       0.066746       0.222876   \n",
       "\n",
       "       AEG.SJ.Equity  ECO.SJ.Equity  NTC.SJ.Equity  SFT.SJ.Equity  \\\n",
       "count    5215.000000    1923.000000    5215.000000    1015.000000   \n",
       "mean        0.002450       0.001217       0.000410      -0.000081   \n",
       "std         0.059552       0.018136       0.017188       0.036281   \n",
       "min        -0.224052      -0.039289      -0.047144      -0.061751   \n",
       "25%        -0.011556      -0.007232      -0.009529      -0.021532   \n",
       "50%        -0.000195      -0.000228      -0.000197      -0.000292   \n",
       "75%         0.010975       0.008793       0.009848       0.015648   \n",
       "max         0.400506       0.140974       0.051113       0.191272   \n",
       "\n",
       "       WHL.SJ.Equity  SOL.SJ.Equity  ...  REB.SJ.Equity  EQU.SJ.Equity  \\\n",
       "count    5215.000000    5215.000000  ...    2248.000000    1414.000000   \n",
       "mean        0.000247       0.000141  ...      -0.000868       0.000950   \n",
       "std         0.018023       0.019784  ...       0.021490       0.014053   \n",
       "min        -0.049104      -0.056222  ...      -0.060519      -0.025407   \n",
       "25%        -0.010119      -0.010834  ...      -0.008499      -0.002732   \n",
       "50%        -0.000191      -0.000189  ...      -0.000161      -0.000173   \n",
       "75%         0.010520       0.011261  ...       0.005958       0.003233   \n",
       "max         0.050048       0.056672  ...       0.200492       0.149861   \n",
       "\n",
       "       CLI.SJ.Equity  MCG.SJ.Equity  DGH.SJ.Equity  MTH.SJ.Equity  \\\n",
       "count    2981.000000     219.000000     413.000000     288.000000   \n",
       "mean        0.000604       0.003509       0.000949       0.001774   \n",
       "std         0.021523       0.014268       0.013816       0.018574   \n",
       "min        -0.057156      -0.009381      -0.016888      -0.020534   \n",
       "25%        -0.000763      -0.009270      -0.008510      -0.012162   \n",
       "50%        -0.000181      -0.000016      -0.000191      -0.000195   \n",
       "75%         0.000488       0.009676       0.007989       0.012708   \n",
       "max         0.190434       0.088643       0.080509       0.105617   \n",
       "\n",
       "       DIA.SJ.Equity  CTK.SJ.Equity  SSS.SJ.Equity  AFT.SJ.Equity  \n",
       "count    1949.000000    1312.000000    1077.000000    3430.000000  \n",
       "mean        0.001059       0.001399       0.000742       0.000754  \n",
       "std         0.022435       0.021304       0.011594       0.023860  \n",
       "min        -0.035872      -0.038560      -0.020528      -0.055415  \n",
       "25%        -0.000194      -0.004817      -0.005004      -0.009363  \n",
       "50%        -0.000162      -0.000190      -0.000189      -0.000183  \n",
       "75%        -0.000136       0.000864       0.005220       0.008820  \n",
       "max         0.710316       0.138170       0.063340       0.494480  \n",
       "\n",
       "[8 rows x 245 columns]"
      ]
     },
     "execution_count": 556,
     "metadata": {},
     "output_type": "execute_result"
    }
   ],
   "source": [
    "df_Ex_SR.describe()"
   ]
  },
  {
   "cell_type": "markdown",
   "metadata": {},
   "source": [
    "# Empirical Results"
   ]
  },
  {
   "cell_type": "markdown",
   "metadata": {},
   "source": [
    "This section employs the OLS and IV methods to estimate the premiums for risk factors proposed by prominent asset pricing models."
   ]
  },
  {
   "cell_type": "markdown",
   "metadata": {},
   "source": [
    "## FM-OLS Regression (Time-Varying Betas)"
   ]
  },
  {
   "cell_type": "markdown",
   "metadata": {},
   "source": [
    "This Section first tests whether the risk premiums under the CAPM and the FF3- and FF5-Factor Models are significantly different from zero using the OLS method with individual stocks. For the OLS tests, the regression is fitted with daily return data from month t-36 to month t-1 to estimate beta for month t. "
   ]
  },
  {
   "cell_type": "markdown",
   "metadata": {},
   "source": [
    "### CAPM Model"
   ]
  },
  {
   "cell_type": "markdown",
   "metadata": {},
   "source": [
    "How many years in the rolling estimation window?"
   ]
  },
  {
   "cell_type": "code",
   "execution_count": 507,
   "metadata": {},
   "outputs": [],
   "source": [
    "n = 3"
   ]
  },
  {
   "cell_type": "markdown",
   "metadata": {},
   "source": [
    "Define the length of rolling window and rebalance frequency"
   ]
  },
  {
   "cell_type": "code",
   "execution_count": 508,
   "metadata": {},
   "outputs": [
    {
     "name": "stdout",
     "output_type": "stream",
     "text": [
      "211 756\n"
     ]
    }
   ],
   "source": [
    "holding = 21\n",
    "rollingW = holding * n *12\n",
    "lens = len(df_MR)\n",
    "periods = int((lens - rollingW) / holding) - 1\n",
    "print(periods, rollingW)"
   ]
  },
  {
   "cell_type": "markdown",
   "metadata": {},
   "source": [
    "This cell is the first stage of FM-OLS regression, which is used to estimate market betas by regressing stock returns on market factor returns"
   ]
  },
  {
   "cell_type": "code",
   "execution_count": 509,
   "metadata": {},
   "outputs": [
    {
     "name": "stderr",
     "output_type": "stream",
     "text": [
      "100%|██████████| 211/211 [00:31<00:00,  6.62it/s]\n"
     ]
    }
   ],
   "source": [
    "# Keep the stock returns has the same length as market returns\n",
    "df_Ex_SR_trnct = df_Ex_SR.loc[df_MR.index,:]\n",
    "\n",
    "all_betas = []\n",
    "\n",
    "for i in tqdm(range(periods)):\n",
    "\n",
    "    df_MR_tmp = df_MR.iloc[i*holding:i*holding+rollingW,:]\n",
    "    df_Ex_SR_tmp = df_Ex_SR_trnct.iloc[i*holding:i*holding+rollingW,:]\n",
    "    \n",
    "    betas = []\n",
    "    for j in df_Ex_SR.columns:\n",
    "        df_index = df_Ex_SR_tmp.loc[:,j].dropna().index\n",
    "        \n",
    "        if len(df_index) > 0:\n",
    "            b = list(ols_model.fit(df_MR_tmp.loc[df_index,:].values, df_Ex_SR_tmp.loc[df_index,j].values).coef_)\n",
    "            b.append(j)\n",
    "            betas.append(b)\n",
    "    df_betas = pd.DataFrame(np.array(betas)).rename(columns={0:'MKT',1:'stock'}).set_index('stock')\n",
    "    \n",
    "    all_betas.append(df_betas)"
   ]
  },
  {
   "cell_type": "code",
   "execution_count": 510,
   "metadata": {
    "scrolled": false
   },
   "outputs": [
    {
     "data": {
      "text/html": [
       "<div>\n",
       "<style scoped>\n",
       "    .dataframe tbody tr th:only-of-type {\n",
       "        vertical-align: middle;\n",
       "    }\n",
       "\n",
       "    .dataframe tbody tr th {\n",
       "        vertical-align: top;\n",
       "    }\n",
       "\n",
       "    .dataframe thead th {\n",
       "        text-align: right;\n",
       "    }\n",
       "</style>\n",
       "<table border=\"1\" class=\"dataframe\">\n",
       "  <thead>\n",
       "    <tr style=\"text-align: right;\">\n",
       "      <th></th>\n",
       "      <th>MKT</th>\n",
       "    </tr>\n",
       "    <tr>\n",
       "      <th>stock</th>\n",
       "      <th></th>\n",
       "    </tr>\n",
       "  </thead>\n",
       "  <tbody>\n",
       "    <tr>\n",
       "      <th>FDS.SJ.Equity</th>\n",
       "      <td>0.9894487978071494</td>\n",
       "    </tr>\n",
       "    <tr>\n",
       "      <th>MOZ.SJ.Equity</th>\n",
       "      <td>0.7848969592400954</td>\n",
       "    </tr>\n",
       "    <tr>\n",
       "      <th>MTN.SJ.Equity</th>\n",
       "      <td>1.5743473947531972</td>\n",
       "    </tr>\n",
       "    <tr>\n",
       "      <th>TRT.SJ.Equity</th>\n",
       "      <td>0.6192254293399595</td>\n",
       "    </tr>\n",
       "    <tr>\n",
       "      <th>AEG.SJ.Equity</th>\n",
       "      <td>0.5490166084565032</td>\n",
       "    </tr>\n",
       "    <tr>\n",
       "      <th>...</th>\n",
       "      <td>...</td>\n",
       "    </tr>\n",
       "    <tr>\n",
       "      <th>CHE.SJ.Equity</th>\n",
       "      <td>0.17622230629720723</td>\n",
       "    </tr>\n",
       "    <tr>\n",
       "      <th>JCG.SJ.Equity</th>\n",
       "      <td>0.246685266948119</td>\n",
       "    </tr>\n",
       "    <tr>\n",
       "      <th>CRM.SJ.Equity</th>\n",
       "      <td>0.1162409137192998</td>\n",
       "    </tr>\n",
       "    <tr>\n",
       "      <th>CLE.SJ.Equity</th>\n",
       "      <td>0.24435348053237585</td>\n",
       "    </tr>\n",
       "    <tr>\n",
       "      <th>WES.SJ.Equity</th>\n",
       "      <td>-0.04234946446124784</td>\n",
       "    </tr>\n",
       "  </tbody>\n",
       "</table>\n",
       "<p>197 rows × 1 columns</p>\n",
       "</div>"
      ],
      "text/plain": [
       "                                MKT\n",
       "stock                              \n",
       "FDS.SJ.Equity    0.9894487978071494\n",
       "MOZ.SJ.Equity    0.7848969592400954\n",
       "MTN.SJ.Equity    1.5743473947531972\n",
       "TRT.SJ.Equity    0.6192254293399595\n",
       "AEG.SJ.Equity    0.5490166084565032\n",
       "...                             ...\n",
       "CHE.SJ.Equity   0.17622230629720723\n",
       "JCG.SJ.Equity     0.246685266948119\n",
       "CRM.SJ.Equity    0.1162409137192998\n",
       "CLE.SJ.Equity   0.24435348053237585\n",
       "WES.SJ.Equity  -0.04234946446124784\n",
       "\n",
       "[197 rows x 1 columns]"
      ]
     },
     "execution_count": 510,
     "metadata": {},
     "output_type": "execute_result"
    }
   ],
   "source": [
    "# Print market betas for one period\n",
    "all_betas[0]"
   ]
  },
  {
   "cell_type": "markdown",
   "metadata": {},
   "source": [
    "This cell is the second stage of FM-OLS regression, which aims to estimate market risk premiums"
   ]
  },
  {
   "cell_type": "code",
   "execution_count": 511,
   "metadata": {},
   "outputs": [
    {
     "name": "stderr",
     "output_type": "stream",
     "text": [
      "100%|██████████| 4431/4431 [00:06<00:00, 659.20it/s]\n"
     ]
    }
   ],
   "source": [
    "all_lambdas = []\n",
    "\n",
    "df_Ex_SR_tmp_T = df_Ex_SR_trnct.iloc[rollingW:rollingW+periods*holding,:].T\n",
    "\n",
    "lambdas = []\n",
    "index_times = list(df_Ex_SR_tmp_T.columns)\n",
    "\n",
    "for k in tqdm(df_Ex_SR_tmp_T.columns):\n",
    "    # k is stock on cross-section\n",
    "    i = int(index_times.index(k) / holding)\n",
    "    # i is time in periods\n",
    "    df_return = df_Ex_SR_tmp_T.loc[all_betas[i].index,k].dropna()\n",
    "    df_index = df_return.index\n",
    "    \n",
    "    if len(df_index) != 0:\n",
    "        ols = sm.OLS(df_return, sm.add_constant(all_betas[i].loc[df_index,:].astype(np.float64)))\n",
    "        res = ols.fit()\n",
    "        l = list(res.params)\n",
    "        \n",
    "        lambdas.append(l)\n",
    "        \n",
    "all_lambdas.append(pd.DataFrame(lambdas))"
   ]
  },
  {
   "cell_type": "code",
   "execution_count": 512,
   "metadata": {
    "scrolled": true
   },
   "outputs": [
    {
     "data": {
      "text/html": [
       "<div>\n",
       "<style scoped>\n",
       "    .dataframe tbody tr th:only-of-type {\n",
       "        vertical-align: middle;\n",
       "    }\n",
       "\n",
       "    .dataframe tbody tr th {\n",
       "        vertical-align: top;\n",
       "    }\n",
       "\n",
       "    .dataframe thead th {\n",
       "        text-align: right;\n",
       "    }\n",
       "</style>\n",
       "<table border=\"1\" class=\"dataframe\">\n",
       "  <thead>\n",
       "    <tr style=\"text-align: right;\">\n",
       "      <th></th>\n",
       "      <th>Intercept</th>\n",
       "      <th>MKT</th>\n",
       "    </tr>\n",
       "  </thead>\n",
       "  <tbody>\n",
       "    <tr>\n",
       "      <th>0</th>\n",
       "      <td>0.003755</td>\n",
       "      <td>0.003064</td>\n",
       "    </tr>\n",
       "    <tr>\n",
       "      <th>1</th>\n",
       "      <td>0.014378</td>\n",
       "      <td>-0.012923</td>\n",
       "    </tr>\n",
       "    <tr>\n",
       "      <th>2</th>\n",
       "      <td>0.003506</td>\n",
       "      <td>0.003360</td>\n",
       "    </tr>\n",
       "    <tr>\n",
       "      <th>3</th>\n",
       "      <td>0.000330</td>\n",
       "      <td>0.004561</td>\n",
       "    </tr>\n",
       "    <tr>\n",
       "      <th>4</th>\n",
       "      <td>0.001947</td>\n",
       "      <td>0.005034</td>\n",
       "    </tr>\n",
       "    <tr>\n",
       "      <th>...</th>\n",
       "      <td>...</td>\n",
       "      <td>...</td>\n",
       "    </tr>\n",
       "    <tr>\n",
       "      <th>4426</th>\n",
       "      <td>0.002170</td>\n",
       "      <td>-0.001172</td>\n",
       "    </tr>\n",
       "    <tr>\n",
       "      <th>4427</th>\n",
       "      <td>-0.002625</td>\n",
       "      <td>0.006625</td>\n",
       "    </tr>\n",
       "    <tr>\n",
       "      <th>4428</th>\n",
       "      <td>0.000051</td>\n",
       "      <td>0.010506</td>\n",
       "    </tr>\n",
       "    <tr>\n",
       "      <th>4429</th>\n",
       "      <td>0.013504</td>\n",
       "      <td>-0.008443</td>\n",
       "    </tr>\n",
       "    <tr>\n",
       "      <th>4430</th>\n",
       "      <td>-0.005003</td>\n",
       "      <td>-0.006806</td>\n",
       "    </tr>\n",
       "  </tbody>\n",
       "</table>\n",
       "<p>4431 rows × 2 columns</p>\n",
       "</div>"
      ],
      "text/plain": [
       "      Intercept       MKT\n",
       "0      0.003755  0.003064\n",
       "1      0.014378 -0.012923\n",
       "2      0.003506  0.003360\n",
       "3      0.000330  0.004561\n",
       "4      0.001947  0.005034\n",
       "...         ...       ...\n",
       "4426   0.002170 -0.001172\n",
       "4427  -0.002625  0.006625\n",
       "4428   0.000051  0.010506\n",
       "4429   0.013504 -0.008443\n",
       "4430  -0.005003 -0.006806\n",
       "\n",
       "[4431 rows x 2 columns]"
      ]
     },
     "execution_count": 512,
     "metadata": {},
     "output_type": "execute_result"
    }
   ],
   "source": [
    "# Print market risk premiums and intercepts\n",
    "all_lambdas[0].rename(columns={0:'Intercept',1:'MKT'})"
   ]
  },
  {
   "cell_type": "code",
   "execution_count": 513,
   "metadata": {},
   "outputs": [
    {
     "name": "stdout",
     "output_type": "stream",
     "text": [
      "0    1.615572\n",
      "1   -1.325390\n",
      "dtype: float64\n"
     ]
    }
   ],
   "source": [
    "# Print the time-series mean of market risk premiums and intercepts\n",
    "print(np.mean(all_lambdas[0], axis = 0)*21*100)"
   ]
  },
  {
   "cell_type": "code",
   "execution_count": 514,
   "metadata": {},
   "outputs": [
    {
     "data": {
      "text/plain": [
       "Ttest_1sampResult(statistic=array([ 8.88227447, -3.78528971]), pvalue=array([9.35110322e-19, 1.55560303e-04]))"
      ]
     },
     "execution_count": 514,
     "metadata": {},
     "output_type": "execute_result"
    }
   ],
   "source": [
    "stats.ttest_1samp(all_lambdas[0], 0)"
   ]
  },
  {
   "cell_type": "code",
   "execution_count": 515,
   "metadata": {
    "scrolled": false
   },
   "outputs": [
    {
     "data": {
      "text/plain": [
       "0    5.026208\n",
       "1   -2.324211\n",
       "dtype: float64"
      ]
     },
     "execution_count": 515,
     "metadata": {},
     "output_type": "execute_result"
    }
   ],
   "source": [
    "# Use the Newey-West t-test to examine market risk premiums and intercepts\n",
    "all_lambdas[0].apply(lambda x: NW_ttest(ret = x, h0=0), axis = 0)"
   ]
  },
  {
   "cell_type": "markdown",
   "metadata": {},
   "source": [
    "### —Adding Control Variables"
   ]
  },
  {
   "cell_type": "markdown",
   "metadata": {},
   "source": [
    "The significance of factor risk premium estimates may due to an omitted variable bias because the second-stage cross-sectional regressions do not control for corresponding firm charactersitics. For mitigating this potential bias, we add characteristics as control variables in the second stage. "
   ]
  },
  {
   "cell_type": "code",
   "execution_count": 516,
   "metadata": {},
   "outputs": [],
   "source": [
    "# Keep the size and PE have the same length as stock returns\n",
    "df_ln_Size_trnct = df_ln_Size.loc[df_Ex_SR_trnct.index,:]\n",
    "df_PE_trnct = df_PE.loc[df_Ex_SR_trnct.index,:]"
   ]
  },
  {
   "cell_type": "code",
   "execution_count": 517,
   "metadata": {},
   "outputs": [
    {
     "data": {
      "text/plain": [
       "True"
      ]
     },
     "execution_count": 517,
     "metadata": {},
     "output_type": "execute_result"
    }
   ],
   "source": [
    "len(df_ln_Size_trnct)==len(df_PE_trnct)==len(df_Ex_SR_trnct)"
   ]
  },
  {
   "cell_type": "code",
   "execution_count": 518,
   "metadata": {},
   "outputs": [],
   "source": [
    "# Stock returns are forward for 21 days compared to firm characteristics \n",
    "Gap = 21"
   ]
  },
  {
   "cell_type": "code",
   "execution_count": 519,
   "metadata": {},
   "outputs": [
    {
     "name": "stderr",
     "output_type": "stream",
     "text": [
      "100%|██████████| 4410/4410 [00:17<00:00, 254.90it/s]\n"
     ]
    }
   ],
   "source": [
    "# This cell represents the second stage of FM-OLS regression, which estimates the market risk premiums \n",
    "# by controlling for Size and PE characteristics.\n",
    "all_lambdas = []\n",
    "all_intercepts = []\n",
    "\n",
    "df_Ex_SR_tmp_T = df_Ex_SR_trnct.iloc[rollingW:rollingW+periods*holding,:].T\n",
    "df_ln_Size_tmp_T = df_ln_Size_trnct.iloc[rollingW:rollingW+periods*holding,:].T\n",
    "df_PE_tmp_T = df_PE_trnct.iloc[rollingW:rollingW+periods*holding,:].T\n",
    "\n",
    "lambdas = []\n",
    "intercepts = []\n",
    "index_times = list(df_Ex_SR_tmp_T.columns)\n",
    "\n",
    "\n",
    "for k in tqdm(df_Ex_SR_tmp_T.columns[:-Gap]):\n",
    "    # k is date t in len(df_Ex_SR_tmp) days\n",
    "    i = int(index_times.index(k) / holding)\n",
    "    # i is time T in 185 periods\n",
    "    # df_ln_Size_tmp_T.loc[:,k].replace(-np.inf,np.nan), the -inf in ln_Size data dataframe would interrupt the regression\n",
    "    df_index = (((all_betas[i].index).intersection(df_ln_Size_tmp_T.loc[:,k].replace(-np.inf,np.nan).dropna().index).\\\n",
    "                   intersection(df_PE_tmp_T.loc[:,k].dropna().index)).\\\n",
    "                    intersection(df_Ex_SR_tmp_T.loc[:,index_times[index_times.index(k)+Gap]].dropna().index))\n",
    "    \n",
    "    if len(df_index) != 0:\n",
    "        \n",
    "        l = list(ols_model.fit((pd.concat([all_betas[i].loc[df_index,:], \\\n",
    "                                           df_ln_Size_tmp_T.loc[df_index,k],\\\n",
    "                                           df_PE_tmp_T .loc[df_index,k]],axis = 1).values), \\\n",
    "                               (df_Ex_SR_tmp_T.loc[df_index,index_times[index_times.index(k)+Gap]].values)).coef_)\n",
    "        \n",
    "        h = ols_model.fit((pd.concat([all_betas[i].loc[df_index,:], \\\n",
    "                                      df_ln_Size_tmp_T.loc[df_index,k],\\\n",
    "                                      df_PE_tmp_T .loc[df_index,k]],axis = 1).values), \\\n",
    "                          (df_Ex_SR_tmp_T.loc[df_index,index_times[index_times.index(k)+Gap]].values)).intercept_\n",
    "        \n",
    "        lambdas.append(l)\n",
    "        intercepts.append(h)\n",
    "        \n",
    "all_lambdas.append(pd.DataFrame(lambdas))\n",
    "all_intercepts.append(pd.DataFrame(intercepts))"
   ]
  },
  {
   "cell_type": "code",
   "execution_count": 520,
   "metadata": {},
   "outputs": [
    {
     "data": {
      "text/html": [
       "<div>\n",
       "<style scoped>\n",
       "    .dataframe tbody tr th:only-of-type {\n",
       "        vertical-align: middle;\n",
       "    }\n",
       "\n",
       "    .dataframe tbody tr th {\n",
       "        vertical-align: top;\n",
       "    }\n",
       "\n",
       "    .dataframe thead th {\n",
       "        text-align: right;\n",
       "    }\n",
       "</style>\n",
       "<table border=\"1\" class=\"dataframe\">\n",
       "  <thead>\n",
       "    <tr style=\"text-align: right;\">\n",
       "      <th></th>\n",
       "      <th>0</th>\n",
       "    </tr>\n",
       "  </thead>\n",
       "  <tbody>\n",
       "    <tr>\n",
       "      <th>0</th>\n",
       "      <td>0.002970</td>\n",
       "    </tr>\n",
       "    <tr>\n",
       "      <th>1</th>\n",
       "      <td>0.005312</td>\n",
       "    </tr>\n",
       "    <tr>\n",
       "      <th>2</th>\n",
       "      <td>0.004870</td>\n",
       "    </tr>\n",
       "    <tr>\n",
       "      <th>3</th>\n",
       "      <td>0.001500</td>\n",
       "    </tr>\n",
       "    <tr>\n",
       "      <th>4</th>\n",
       "      <td>0.011820</td>\n",
       "    </tr>\n",
       "    <tr>\n",
       "      <th>...</th>\n",
       "      <td>...</td>\n",
       "    </tr>\n",
       "    <tr>\n",
       "      <th>4405</th>\n",
       "      <td>0.003366</td>\n",
       "    </tr>\n",
       "    <tr>\n",
       "      <th>4406</th>\n",
       "      <td>-0.004076</td>\n",
       "    </tr>\n",
       "    <tr>\n",
       "      <th>4407</th>\n",
       "      <td>-0.002252</td>\n",
       "    </tr>\n",
       "    <tr>\n",
       "      <th>4408</th>\n",
       "      <td>0.009438</td>\n",
       "    </tr>\n",
       "    <tr>\n",
       "      <th>4409</th>\n",
       "      <td>-0.006539</td>\n",
       "    </tr>\n",
       "  </tbody>\n",
       "</table>\n",
       "<p>4410 rows × 1 columns</p>\n",
       "</div>"
      ],
      "text/plain": [
       "             0\n",
       "0     0.002970\n",
       "1     0.005312\n",
       "2     0.004870\n",
       "3     0.001500\n",
       "4     0.011820\n",
       "...        ...\n",
       "4405  0.003366\n",
       "4406 -0.004076\n",
       "4407 -0.002252\n",
       "4408  0.009438\n",
       "4409 -0.006539\n",
       "\n",
       "[4410 rows x 1 columns]"
      ]
     },
     "execution_count": 520,
     "metadata": {},
     "output_type": "execute_result"
    }
   ],
   "source": [
    "# Print regression intercepts \n",
    "all_intercepts[0]"
   ]
  },
  {
   "cell_type": "code",
   "execution_count": 521,
   "metadata": {
    "scrolled": true
   },
   "outputs": [
    {
     "data": {
      "text/html": [
       "<div>\n",
       "<style scoped>\n",
       "    .dataframe tbody tr th:only-of-type {\n",
       "        vertical-align: middle;\n",
       "    }\n",
       "\n",
       "    .dataframe tbody tr th {\n",
       "        vertical-align: top;\n",
       "    }\n",
       "\n",
       "    .dataframe thead th {\n",
       "        text-align: right;\n",
       "    }\n",
       "</style>\n",
       "<table border=\"1\" class=\"dataframe\">\n",
       "  <thead>\n",
       "    <tr style=\"text-align: right;\">\n",
       "      <th></th>\n",
       "      <th>MKT</th>\n",
       "      <th>Size</th>\n",
       "      <th>PE</th>\n",
       "    </tr>\n",
       "  </thead>\n",
       "  <tbody>\n",
       "    <tr>\n",
       "      <th>0</th>\n",
       "      <td>-0.005887</td>\n",
       "      <td>-0.000324</td>\n",
       "      <td>0.001699</td>\n",
       "    </tr>\n",
       "    <tr>\n",
       "      <th>1</th>\n",
       "      <td>-0.011956</td>\n",
       "      <td>0.006341</td>\n",
       "      <td>-0.001928</td>\n",
       "    </tr>\n",
       "    <tr>\n",
       "      <th>2</th>\n",
       "      <td>0.000300</td>\n",
       "      <td>-0.007423</td>\n",
       "      <td>-0.003649</td>\n",
       "    </tr>\n",
       "    <tr>\n",
       "      <th>3</th>\n",
       "      <td>-0.002134</td>\n",
       "      <td>-0.000017</td>\n",
       "      <td>-0.000372</td>\n",
       "    </tr>\n",
       "    <tr>\n",
       "      <th>4</th>\n",
       "      <td>-0.013392</td>\n",
       "      <td>-0.004168</td>\n",
       "      <td>-0.001744</td>\n",
       "    </tr>\n",
       "    <tr>\n",
       "      <th>...</th>\n",
       "      <td>...</td>\n",
       "      <td>...</td>\n",
       "      <td>...</td>\n",
       "    </tr>\n",
       "    <tr>\n",
       "      <th>4405</th>\n",
       "      <td>-0.006451</td>\n",
       "      <td>0.002911</td>\n",
       "      <td>-0.004345</td>\n",
       "    </tr>\n",
       "    <tr>\n",
       "      <th>4406</th>\n",
       "      <td>0.010986</td>\n",
       "      <td>-0.002616</td>\n",
       "      <td>-0.000744</td>\n",
       "    </tr>\n",
       "    <tr>\n",
       "      <th>4407</th>\n",
       "      <td>0.018367</td>\n",
       "      <td>-0.003779</td>\n",
       "      <td>0.002429</td>\n",
       "    </tr>\n",
       "    <tr>\n",
       "      <th>4408</th>\n",
       "      <td>0.006356</td>\n",
       "      <td>-0.008645</td>\n",
       "      <td>-0.000988</td>\n",
       "    </tr>\n",
       "    <tr>\n",
       "      <th>4409</th>\n",
       "      <td>-0.003404</td>\n",
       "      <td>-0.001518</td>\n",
       "      <td>-0.004399</td>\n",
       "    </tr>\n",
       "  </tbody>\n",
       "</table>\n",
       "<p>4410 rows × 3 columns</p>\n",
       "</div>"
      ],
      "text/plain": [
       "           MKT      Size        PE\n",
       "0    -0.005887 -0.000324  0.001699\n",
       "1    -0.011956  0.006341 -0.001928\n",
       "2     0.000300 -0.007423 -0.003649\n",
       "3    -0.002134 -0.000017 -0.000372\n",
       "4    -0.013392 -0.004168 -0.001744\n",
       "...        ...       ...       ...\n",
       "4405 -0.006451  0.002911 -0.004345\n",
       "4406  0.010986 -0.002616 -0.000744\n",
       "4407  0.018367 -0.003779  0.002429\n",
       "4408  0.006356 -0.008645 -0.000988\n",
       "4409 -0.003404 -0.001518 -0.004399\n",
       "\n",
       "[4410 rows x 3 columns]"
      ]
     },
     "execution_count": 521,
     "metadata": {},
     "output_type": "execute_result"
    }
   ],
   "source": [
    "# Print market risk premiums and the slope coefficients of characteristics\n",
    "all_lambdas[0].rename(columns={0:'MKT',1:'Size',2:'PE'})"
   ]
  },
  {
   "cell_type": "code",
   "execution_count": 522,
   "metadata": {
    "scrolled": false
   },
   "outputs": [
    {
     "data": {
      "text/plain": [
       "0    0.979691\n",
       "dtype: float64"
      ]
     },
     "execution_count": 522,
     "metadata": {},
     "output_type": "execute_result"
    }
   ],
   "source": [
    "# Print the mean of intercepts\n",
    "np.mean(all_intercepts[0], axis = 0)*21*100"
   ]
  },
  {
   "cell_type": "code",
   "execution_count": 523,
   "metadata": {},
   "outputs": [
    {
     "name": "stderr",
     "output_type": "stream",
     "text": [
      "/Users/runxinlin/opt/anaconda3/lib/python3.8/site-packages/numpy/core/fromnumeric.py:3438: FutureWarning: In a future version, DataFrame.mean(axis=None) will return a scalar mean over the entire DataFrame. To retain the old behavior, use 'frame.mean(axis=0)' or just 'frame.mean()'\n",
      "  return mean(axis=axis, dtype=dtype, out=out, **kwargs)\n"
     ]
    },
    {
     "data": {
      "text/plain": [
       "0    0.243038\n",
       "1   -0.975652\n",
       "2   -0.128813\n",
       "dtype: float64"
      ]
     },
     "execution_count": 523,
     "metadata": {},
     "output_type": "execute_result"
    }
   ],
   "source": [
    "# Print the mean of market risk premiums\n",
    "np.mean(all_lambdas[0])*21*100"
   ]
  },
  {
   "cell_type": "code",
   "execution_count": 524,
   "metadata": {
    "scrolled": true
   },
   "outputs": [
    {
     "data": {
      "text/plain": [
       "array([5.40568636])"
      ]
     },
     "execution_count": 524,
     "metadata": {},
     "output_type": "execute_result"
    }
   ],
   "source": [
    "# Print the result of ordinary t-test\n",
    "stats.ttest_1samp(all_intercepts[0], 0.0)[0]"
   ]
  },
  {
   "cell_type": "code",
   "execution_count": 525,
   "metadata": {
    "scrolled": true
   },
   "outputs": [
    {
     "data": {
      "text/plain": [
       "array([ 0.53445071, -4.60753576, -1.35469305])"
      ]
     },
     "execution_count": 525,
     "metadata": {},
     "output_type": "execute_result"
    }
   ],
   "source": [
    "# Print the result of ordinary t-test\n",
    "stats.ttest_1samp(all_lambdas[0], 0.0)[0]"
   ]
  },
  {
   "cell_type": "code",
   "execution_count": 526,
   "metadata": {},
   "outputs": [
    {
     "data": {
      "text/plain": [
       "array([3.1145494])"
      ]
     },
     "execution_count": 526,
     "metadata": {},
     "output_type": "execute_result"
    }
   ],
   "source": [
    "## Newey-West t-test\n",
    "all_intercepts[0].apply(lambda x: NW_ttest(ret = x, h0=0), axis=0).values"
   ]
  },
  {
   "cell_type": "code",
   "execution_count": 527,
   "metadata": {},
   "outputs": [
    {
     "data": {
      "text/plain": [
       "array([ 0.33041306, -2.85305171, -0.81826405])"
      ]
     },
     "execution_count": 527,
     "metadata": {},
     "output_type": "execute_result"
    }
   ],
   "source": [
    "## Newey-West t-test\n",
    "all_lambdas[0].apply(lambda x: NW_ttest(ret = x, h0=0), axis=0).values"
   ]
  },
  {
   "cell_type": "markdown",
   "metadata": {},
   "source": [
    "### FF3-Factor Model"
   ]
  },
  {
   "cell_type": "code",
   "execution_count": 528,
   "metadata": {},
   "outputs": [],
   "source": [
    "# How many years in the rolling window\n",
    "n = 3"
   ]
  },
  {
   "cell_type": "code",
   "execution_count": 529,
   "metadata": {},
   "outputs": [
    {
     "name": "stdout",
     "output_type": "stream",
     "text": [
      "189 756\n"
     ]
    }
   ],
   "source": [
    "holding = 21\n",
    "rollingW = holding * n * 12\n",
    "lens = len(df_FF3)\n",
    "periods = int((lens - rollingW) / holding) - 1\n",
    "print(periods, rollingW)"
   ]
  },
  {
   "cell_type": "markdown",
   "metadata": {},
   "source": [
    "This cell is the first stage of FM OLS regression under the FF3-Factor Model, which aims to estiamte intercepts and the betas of FF3-Factors"
   ]
  },
  {
   "cell_type": "code",
   "execution_count": 530,
   "metadata": {},
   "outputs": [
    {
     "name": "stderr",
     "output_type": "stream",
     "text": [
      "100%|██████████| 189/189 [00:30<00:00,  6.12it/s]\n"
     ]
    }
   ],
   "source": [
    "# Keep the excess stock returns and factor returns have the same length\n",
    "df_Ex_SR_trnct = df_Ex_SR.loc[df_FF3.index,:]\n",
    "\n",
    "all_betas = []\n",
    "\n",
    "for i in tqdm(range(periods)):\n",
    "\n",
    "    df_FF3_tmp = df_FF3.iloc[i*holding:i*holding+rollingW,:]\n",
    "    df_Ex_SR_tmp = df_Ex_SR_trnct.iloc[i*holding:i*holding+rollingW,:]\n",
    "    \n",
    "    betas = []\n",
    "\n",
    "    for j in df_Ex_SR.columns:\n",
    "        df_index = df_Ex_SR_tmp.loc[:,j].dropna().index\n",
    "        \n",
    "        if len(df_index) != 0:\n",
    "            b = list(ols_model.fit(df_FF3_tmp.loc[df_index,:].values, df_Ex_SR_tmp.loc[df_index,j].values).coef_)\n",
    "            b.append(j)\n",
    "            betas.append(b)\n",
    "    df_betas = pd.DataFrame(np.array(betas)).rename(columns={0:'MKT',1:'SMB',2:'HML',3:'stock'}).set_index('stock')\n",
    "    \n",
    "    all_betas.append(df_betas)\n"
   ]
  },
  {
   "cell_type": "code",
   "execution_count": 531,
   "metadata": {
    "scrolled": true
   },
   "outputs": [
    {
     "data": {
      "text/html": [
       "<div>\n",
       "<style scoped>\n",
       "    .dataframe tbody tr th:only-of-type {\n",
       "        vertical-align: middle;\n",
       "    }\n",
       "\n",
       "    .dataframe tbody tr th {\n",
       "        vertical-align: top;\n",
       "    }\n",
       "\n",
       "    .dataframe thead th {\n",
       "        text-align: right;\n",
       "    }\n",
       "</style>\n",
       "<table border=\"1\" class=\"dataframe\">\n",
       "  <thead>\n",
       "    <tr style=\"text-align: right;\">\n",
       "      <th></th>\n",
       "      <th>MKT</th>\n",
       "      <th>SMB</th>\n",
       "      <th>HML</th>\n",
       "    </tr>\n",
       "    <tr>\n",
       "      <th>stock</th>\n",
       "      <th></th>\n",
       "      <th></th>\n",
       "      <th></th>\n",
       "    </tr>\n",
       "  </thead>\n",
       "  <tbody>\n",
       "    <tr>\n",
       "      <th>FDS.SJ.Equity</th>\n",
       "      <td>0.37925300253510374</td>\n",
       "      <td>-0.8126013272671241</td>\n",
       "      <td>-0.5899409956854067</td>\n",
       "    </tr>\n",
       "    <tr>\n",
       "      <th>MOZ.SJ.Equity</th>\n",
       "      <td>0.3731372721961675</td>\n",
       "      <td>-1.1138284859747671</td>\n",
       "      <td>-0.3199151834254433</td>\n",
       "    </tr>\n",
       "    <tr>\n",
       "      <th>MTN.SJ.Equity</th>\n",
       "      <td>0.506548762701289</td>\n",
       "      <td>-1.1531093292289725</td>\n",
       "      <td>-0.13771117217658185</td>\n",
       "    </tr>\n",
       "    <tr>\n",
       "      <th>TRT.SJ.Equity</th>\n",
       "      <td>0.35076967153008</td>\n",
       "      <td>0.5655527525098887</td>\n",
       "      <td>0.41899933463800887</td>\n",
       "    </tr>\n",
       "    <tr>\n",
       "      <th>AEG.SJ.Equity</th>\n",
       "      <td>0.24082250157618124</td>\n",
       "      <td>-0.28012508846578166</td>\n",
       "      <td>-0.08667815822722032</td>\n",
       "    </tr>\n",
       "    <tr>\n",
       "      <th>...</th>\n",
       "      <td>...</td>\n",
       "      <td>...</td>\n",
       "      <td>...</td>\n",
       "    </tr>\n",
       "    <tr>\n",
       "      <th>CHE.SJ.Equity</th>\n",
       "      <td>0.09744460844473643</td>\n",
       "      <td>0.1649950782351675</td>\n",
       "      <td>0.048301768724552704</td>\n",
       "    </tr>\n",
       "    <tr>\n",
       "      <th>JCG.SJ.Equity</th>\n",
       "      <td>0.1770324102635516</td>\n",
       "      <td>0.2955794330891469</td>\n",
       "      <td>-0.4616626625685706</td>\n",
       "    </tr>\n",
       "    <tr>\n",
       "      <th>CRM.SJ.Equity</th>\n",
       "      <td>0.021485391800519397</td>\n",
       "      <td>0.05434544042773805</td>\n",
       "      <td>-0.05580159400472863</td>\n",
       "    </tr>\n",
       "    <tr>\n",
       "      <th>CLE.SJ.Equity</th>\n",
       "      <td>0.043924944678211904</td>\n",
       "      <td>0.004668677093186555</td>\n",
       "      <td>-0.11997963453803075</td>\n",
       "    </tr>\n",
       "    <tr>\n",
       "      <th>WES.SJ.Equity</th>\n",
       "      <td>-0.05401475051020496</td>\n",
       "      <td>0.02359199380736631</td>\n",
       "      <td>-0.031204654760301247</td>\n",
       "    </tr>\n",
       "  </tbody>\n",
       "</table>\n",
       "<p>200 rows × 3 columns</p>\n",
       "</div>"
      ],
      "text/plain": [
       "                                MKT                   SMB  \\\n",
       "stock                                                       \n",
       "FDS.SJ.Equity   0.37925300253510374   -0.8126013272671241   \n",
       "MOZ.SJ.Equity    0.3731372721961675   -1.1138284859747671   \n",
       "MTN.SJ.Equity     0.506548762701289   -1.1531093292289725   \n",
       "TRT.SJ.Equity      0.35076967153008    0.5655527525098887   \n",
       "AEG.SJ.Equity   0.24082250157618124  -0.28012508846578166   \n",
       "...                             ...                   ...   \n",
       "CHE.SJ.Equity   0.09744460844473643    0.1649950782351675   \n",
       "JCG.SJ.Equity    0.1770324102635516    0.2955794330891469   \n",
       "CRM.SJ.Equity  0.021485391800519397   0.05434544042773805   \n",
       "CLE.SJ.Equity  0.043924944678211904  0.004668677093186555   \n",
       "WES.SJ.Equity  -0.05401475051020496   0.02359199380736631   \n",
       "\n",
       "                                 HML  \n",
       "stock                                 \n",
       "FDS.SJ.Equity    -0.5899409956854067  \n",
       "MOZ.SJ.Equity    -0.3199151834254433  \n",
       "MTN.SJ.Equity   -0.13771117217658185  \n",
       "TRT.SJ.Equity    0.41899933463800887  \n",
       "AEG.SJ.Equity   -0.08667815822722032  \n",
       "...                              ...  \n",
       "CHE.SJ.Equity   0.048301768724552704  \n",
       "JCG.SJ.Equity    -0.4616626625685706  \n",
       "CRM.SJ.Equity   -0.05580159400472863  \n",
       "CLE.SJ.Equity   -0.11997963453803075  \n",
       "WES.SJ.Equity  -0.031204654760301247  \n",
       "\n",
       "[200 rows x 3 columns]"
      ]
     },
     "execution_count": 531,
     "metadata": {},
     "output_type": "execute_result"
    }
   ],
   "source": [
    "# Print the estimated betas for one period\n",
    "all_betas[0]"
   ]
  },
  {
   "cell_type": "markdown",
   "metadata": {},
   "source": [
    "This cell is the second stage of FM OLS regression, which aims to\n",
    "estimate intercepts and the risk premiums of the FF3-Factor. It should be noted the regression is performed on a time-series scale"
   ]
  },
  {
   "cell_type": "code",
   "execution_count": 532,
   "metadata": {},
   "outputs": [
    {
     "name": "stderr",
     "output_type": "stream",
     "text": [
      "100%|██████████| 3969/3969 [00:06<00:00, 596.12it/s]\n"
     ]
    }
   ],
   "source": [
    "all_lambdas = []\n",
    "all_intercepts = []\n",
    "\n",
    "df_Ex_SR_tmp_T = df_Ex_SR_trnct.iloc[rollingW:rollingW+periods*holding,:].T\n",
    "\n",
    "lambdas = []\n",
    "intercepts = []\n",
    "index_times = list(df_Ex_SR_tmp_T.columns)\n",
    "\n",
    "for k in tqdm(df_Ex_SR_tmp_T.columns):\n",
    "    \n",
    "    i = int(index_times.index(k) / holding)\n",
    "\n",
    "    df_return = df_Ex_SR_tmp_T.loc[all_betas[i].index,k].dropna()\n",
    "    df_index = df_return.index\n",
    "    \n",
    "    if len(df_index) != 0:\n",
    "        l = list(ols_model.fit(all_betas[i].loc[df_index,:].values, df_return.values).coef_)\n",
    "        h = ols_model.fit(all_betas[i].loc[df_index,:].values, df_return.values).intercept_\n",
    "        lambdas.append(l)\n",
    "        intercepts.append(h)\n",
    "        \n",
    "all_lambdas.append(pd.DataFrame(lambdas))\n",
    "all_intercepts.append(pd.DataFrame(intercepts))"
   ]
  },
  {
   "cell_type": "code",
   "execution_count": 533,
   "metadata": {
    "scrolled": true
   },
   "outputs": [
    {
     "data": {
      "text/html": [
       "<div>\n",
       "<style scoped>\n",
       "    .dataframe tbody tr th:only-of-type {\n",
       "        vertical-align: middle;\n",
       "    }\n",
       "\n",
       "    .dataframe tbody tr th {\n",
       "        vertical-align: top;\n",
       "    }\n",
       "\n",
       "    .dataframe thead th {\n",
       "        text-align: right;\n",
       "    }\n",
       "</style>\n",
       "<table border=\"1\" class=\"dataframe\">\n",
       "  <thead>\n",
       "    <tr style=\"text-align: right;\">\n",
       "      <th></th>\n",
       "      <th>MKT</th>\n",
       "      <th>SMB</th>\n",
       "      <th>HML</th>\n",
       "    </tr>\n",
       "  </thead>\n",
       "  <tbody>\n",
       "    <tr>\n",
       "      <th>0</th>\n",
       "      <td>-0.001413</td>\n",
       "      <td>0.013395</td>\n",
       "      <td>-0.011926</td>\n",
       "    </tr>\n",
       "    <tr>\n",
       "      <th>1</th>\n",
       "      <td>0.009134</td>\n",
       "      <td>-0.007035</td>\n",
       "      <td>0.003627</td>\n",
       "    </tr>\n",
       "    <tr>\n",
       "      <th>2</th>\n",
       "      <td>0.003141</td>\n",
       "      <td>-0.000624</td>\n",
       "      <td>-0.002847</td>\n",
       "    </tr>\n",
       "    <tr>\n",
       "      <th>3</th>\n",
       "      <td>-0.015638</td>\n",
       "      <td>-0.006011</td>\n",
       "      <td>0.017597</td>\n",
       "    </tr>\n",
       "    <tr>\n",
       "      <th>4</th>\n",
       "      <td>0.022681</td>\n",
       "      <td>-0.015423</td>\n",
       "      <td>0.000167</td>\n",
       "    </tr>\n",
       "    <tr>\n",
       "      <th>...</th>\n",
       "      <td>...</td>\n",
       "      <td>...</td>\n",
       "      <td>...</td>\n",
       "    </tr>\n",
       "    <tr>\n",
       "      <th>3964</th>\n",
       "      <td>0.014618</td>\n",
       "      <td>-0.008926</td>\n",
       "      <td>-0.008742</td>\n",
       "    </tr>\n",
       "    <tr>\n",
       "      <th>3965</th>\n",
       "      <td>-0.008686</td>\n",
       "      <td>-0.007241</td>\n",
       "      <td>0.007757</td>\n",
       "    </tr>\n",
       "    <tr>\n",
       "      <th>3966</th>\n",
       "      <td>0.009363</td>\n",
       "      <td>0.033099</td>\n",
       "      <td>0.002446</td>\n",
       "    </tr>\n",
       "    <tr>\n",
       "      <th>3967</th>\n",
       "      <td>-0.008793</td>\n",
       "      <td>-0.006619</td>\n",
       "      <td>0.013156</td>\n",
       "    </tr>\n",
       "    <tr>\n",
       "      <th>3968</th>\n",
       "      <td>0.005701</td>\n",
       "      <td>0.018039</td>\n",
       "      <td>0.017832</td>\n",
       "    </tr>\n",
       "  </tbody>\n",
       "</table>\n",
       "<p>3969 rows × 3 columns</p>\n",
       "</div>"
      ],
      "text/plain": [
       "           MKT       SMB       HML\n",
       "0    -0.001413  0.013395 -0.011926\n",
       "1     0.009134 -0.007035  0.003627\n",
       "2     0.003141 -0.000624 -0.002847\n",
       "3    -0.015638 -0.006011  0.017597\n",
       "4     0.022681 -0.015423  0.000167\n",
       "...        ...       ...       ...\n",
       "3964  0.014618 -0.008926 -0.008742\n",
       "3965 -0.008686 -0.007241  0.007757\n",
       "3966  0.009363  0.033099  0.002446\n",
       "3967 -0.008793 -0.006619  0.013156\n",
       "3968  0.005701  0.018039  0.017832\n",
       "\n",
       "[3969 rows x 3 columns]"
      ]
     },
     "execution_count": 533,
     "metadata": {},
     "output_type": "execute_result"
    }
   ],
   "source": [
    "# Print all the risk premiums of FF3-Factor\n",
    "all_lambdas[0].rename(columns={0:'MKT',1:'SMB',2:'HML'})"
   ]
  },
  {
   "cell_type": "code",
   "execution_count": 534,
   "metadata": {
    "scrolled": true
   },
   "outputs": [
    {
     "name": "stderr",
     "output_type": "stream",
     "text": [
      "/Users/runxinlin/opt/anaconda3/lib/python3.8/site-packages/numpy/core/fromnumeric.py:3438: FutureWarning: In a future version, DataFrame.mean(axis=None) will return a scalar mean over the entire DataFrame. To retain the old behavior, use 'frame.mean(axis=0)' or just 'frame.mean()'\n",
      "  return mean(axis=axis, dtype=dtype, out=out, **kwargs)\n"
     ]
    },
    {
     "data": {
      "text/plain": [
       "0    1.388163\n",
       "dtype: float64"
      ]
     },
     "execution_count": 534,
     "metadata": {},
     "output_type": "execute_result"
    }
   ],
   "source": [
    "# Print the time-series average of intercepts\n",
    "np.mean(all_intercepts[0])*21*100"
   ]
  },
  {
   "cell_type": "code",
   "execution_count": 535,
   "metadata": {
    "scrolled": true
   },
   "outputs": [
    {
     "data": {
      "text/plain": [
       "0   -1.287356\n",
       "1    1.194063\n",
       "2    0.061533\n",
       "dtype: float64"
      ]
     },
     "execution_count": 535,
     "metadata": {},
     "output_type": "execute_result"
    }
   ],
   "source": [
    "# Print the time-series average of risk premiums\n",
    "np.mean(all_lambdas[0], axis = 0)*21*100"
   ]
  },
  {
   "cell_type": "code",
   "execution_count": 536,
   "metadata": {
    "scrolled": true
   },
   "outputs": [
    {
     "data": {
      "text/plain": [
       "Ttest_1sampResult(statistic=array([7.29879]), pvalue=array([3.48966762e-13]))"
      ]
     },
     "execution_count": 536,
     "metadata": {},
     "output_type": "execute_result"
    }
   ],
   "source": [
    "# Print the ordinary t-statistics of intercepts\n",
    "stats.ttest_1samp(all_intercepts[0], 0.0)"
   ]
  },
  {
   "cell_type": "code",
   "execution_count": 537,
   "metadata": {
    "scrolled": false
   },
   "outputs": [
    {
     "data": {
      "text/plain": [
       "Ttest_1sampResult(statistic=array([-2.62137504,  3.15421812,  0.11935829]), pvalue=array([0.00879101, 0.00162131, 0.90499754]))"
      ]
     },
     "execution_count": 537,
     "metadata": {},
     "output_type": "execute_result"
    }
   ],
   "source": [
    "# Print the ordinary t-statistics of factor premiums \n",
    "stats.ttest_1samp(all_lambdas[0], 0.0)"
   ]
  },
  {
   "cell_type": "code",
   "execution_count": 538,
   "metadata": {
    "scrolled": false
   },
   "outputs": [
    {
     "data": {
      "text/plain": [
       "array([-1.61168788,  2.03056061,  0.0780233 ])"
      ]
     },
     "execution_count": 538,
     "metadata": {},
     "output_type": "execute_result"
    }
   ],
   "source": [
    "## Newey-West t-test For FF3-Factor\n",
    "all_lambdas[0].apply(lambda x: NW_ttest(ret = x, h0=0), axis=0).values"
   ]
  },
  {
   "cell_type": "markdown",
   "metadata": {},
   "source": [
    "### —Adding Control Variables"
   ]
  },
  {
   "cell_type": "code",
   "execution_count": 539,
   "metadata": {},
   "outputs": [],
   "source": [
    "# Keep the size and PE have the same length as stock returns\n",
    "df_ln_Size_trnct = df_ln_Size.loc[df_Ex_SR_trnct.index,:]\n",
    "df_PE_trnct = df_PE.loc[df_Ex_SR_trnct.index,:]"
   ]
  },
  {
   "cell_type": "code",
   "execution_count": 540,
   "metadata": {},
   "outputs": [
    {
     "data": {
      "text/plain": [
       "True"
      ]
     },
     "execution_count": 540,
     "metadata": {},
     "output_type": "execute_result"
    }
   ],
   "source": [
    "len(df_ln_Size_trnct)==len(df_PE_trnct)==len(df_Ex_SR_trnct)"
   ]
  },
  {
   "cell_type": "code",
   "execution_count": 541,
   "metadata": {},
   "outputs": [],
   "source": [
    "# Stock returns are forward for 21 days compared to firm characteristics \n",
    "Gap = 21"
   ]
  },
  {
   "cell_type": "markdown",
   "metadata": {},
   "source": [
    "This cell is the second stage of FM OLS regression under the FF3-Factor model and combined with the firm characteristics as control variables. This aim of this cell is to estimate factor premiums while controlling for omitted-variables bias"
   ]
  },
  {
   "cell_type": "code",
   "execution_count": 542,
   "metadata": {},
   "outputs": [
    {
     "name": "stderr",
     "output_type": "stream",
     "text": [
      "100%|██████████| 3948/3948 [00:15<00:00, 253.09it/s]\n"
     ]
    }
   ],
   "source": [
    "all_lambdas = []\n",
    "all_intercepts = []\n",
    "\n",
    "df_Ex_SR_tmp_T = df_Ex_SR_trnct.iloc[rollingW:rollingW+periods*holding,:].T\n",
    "df_ln_Size_tmp_T = df_ln_Size_trnct.iloc[rollingW:rollingW+periods*holding,:].T\n",
    "df_PE_tmp_T = df_PE_trnct.iloc[rollingW:rollingW+periods*holding,:].T\n",
    "\n",
    "lambdas = []\n",
    "intercepts = []\n",
    "index_times = list(df_Ex_SR_tmp_T.columns)\n",
    "\n",
    "\n",
    "for k in tqdm(df_Ex_SR_tmp_T.columns[:-Gap]):\n",
    "    i = int(index_times.index(k) / holding)\n",
    "    df_index = (((all_betas[i].index).intersection(df_ln_Size_tmp_T.loc[:,k].replace(-np.inf,np.nan).dropna().index).\\\n",
    "                   intersection(df_PE_tmp_T.loc[:,k].dropna().index)).\\\n",
    "                    intersection(df_Ex_SR_tmp_T.loc[:,index_times[index_times.index(k)+Gap]].dropna().index))\n",
    "    \n",
    "    if len(df_index) != 0:\n",
    "        \n",
    "        l = list(ols_model.fit((pd.concat([all_betas[i].loc[df_index,:], \\\n",
    "                                           df_ln_Size_tmp_T.loc[df_index,k],\\\n",
    "                                           df_PE_tmp_T .loc[df_index,k]],axis = 1).values), \\\n",
    "                               (df_Ex_SR_tmp_T.loc[df_index,index_times[index_times.index(k)+Gap]].values)).coef_)\n",
    "        \n",
    "        h = ols_model.fit((pd.concat([all_betas[i].loc[df_index,:], \\\n",
    "                                      df_ln_Size_tmp_T.loc[df_index,k],\\\n",
    "                                      df_PE_tmp_T .loc[df_index,k]],axis = 1).values), \\\n",
    "                          (df_Ex_SR_tmp_T.loc[df_index,index_times[index_times.index(k)+Gap]].values)).intercept_\n",
    "        \n",
    "        lambdas.append(l)\n",
    "        intercepts.append(h)\n",
    "        \n",
    "all_lambdas.append(pd.DataFrame(lambdas))\n",
    "all_intercepts.append(pd.DataFrame(intercepts))"
   ]
  },
  {
   "cell_type": "code",
   "execution_count": 543,
   "metadata": {
    "scrolled": true
   },
   "outputs": [
    {
     "data": {
      "text/html": [
       "<div>\n",
       "<style scoped>\n",
       "    .dataframe tbody tr th:only-of-type {\n",
       "        vertical-align: middle;\n",
       "    }\n",
       "\n",
       "    .dataframe tbody tr th {\n",
       "        vertical-align: top;\n",
       "    }\n",
       "\n",
       "    .dataframe thead th {\n",
       "        text-align: right;\n",
       "    }\n",
       "</style>\n",
       "<table border=\"1\" class=\"dataframe\">\n",
       "  <thead>\n",
       "    <tr style=\"text-align: right;\">\n",
       "      <th></th>\n",
       "      <th>0</th>\n",
       "    </tr>\n",
       "  </thead>\n",
       "  <tbody>\n",
       "    <tr>\n",
       "      <th>0</th>\n",
       "      <td>0.007259</td>\n",
       "    </tr>\n",
       "    <tr>\n",
       "      <th>1</th>\n",
       "      <td>-0.001445</td>\n",
       "    </tr>\n",
       "    <tr>\n",
       "      <th>2</th>\n",
       "      <td>-0.000196</td>\n",
       "    </tr>\n",
       "    <tr>\n",
       "      <th>3</th>\n",
       "      <td>0.004564</td>\n",
       "    </tr>\n",
       "    <tr>\n",
       "      <th>4</th>\n",
       "      <td>0.008850</td>\n",
       "    </tr>\n",
       "    <tr>\n",
       "      <th>...</th>\n",
       "      <td>...</td>\n",
       "    </tr>\n",
       "    <tr>\n",
       "      <th>3943</th>\n",
       "      <td>-0.006092</td>\n",
       "    </tr>\n",
       "    <tr>\n",
       "      <th>3944</th>\n",
       "      <td>0.001576</td>\n",
       "    </tr>\n",
       "    <tr>\n",
       "      <th>3945</th>\n",
       "      <td>0.002276</td>\n",
       "    </tr>\n",
       "    <tr>\n",
       "      <th>3946</th>\n",
       "      <td>-0.000350</td>\n",
       "    </tr>\n",
       "    <tr>\n",
       "      <th>3947</th>\n",
       "      <td>0.003907</td>\n",
       "    </tr>\n",
       "  </tbody>\n",
       "</table>\n",
       "<p>3948 rows × 1 columns</p>\n",
       "</div>"
      ],
      "text/plain": [
       "             0\n",
       "0     0.007259\n",
       "1    -0.001445\n",
       "2    -0.000196\n",
       "3     0.004564\n",
       "4     0.008850\n",
       "...        ...\n",
       "3943 -0.006092\n",
       "3944  0.001576\n",
       "3945  0.002276\n",
       "3946 -0.000350\n",
       "3947  0.003907\n",
       "\n",
       "[3948 rows x 1 columns]"
      ]
     },
     "execution_count": 543,
     "metadata": {},
     "output_type": "execute_result"
    }
   ],
   "source": [
    "# Print all the intercepts\n",
    "all_intercepts[0]"
   ]
  },
  {
   "cell_type": "code",
   "execution_count": 544,
   "metadata": {
    "scrolled": true
   },
   "outputs": [
    {
     "data": {
      "text/html": [
       "<div>\n",
       "<style scoped>\n",
       "    .dataframe tbody tr th:only-of-type {\n",
       "        vertical-align: middle;\n",
       "    }\n",
       "\n",
       "    .dataframe tbody tr th {\n",
       "        vertical-align: top;\n",
       "    }\n",
       "\n",
       "    .dataframe thead th {\n",
       "        text-align: right;\n",
       "    }\n",
       "</style>\n",
       "<table border=\"1\" class=\"dataframe\">\n",
       "  <thead>\n",
       "    <tr style=\"text-align: right;\">\n",
       "      <th></th>\n",
       "      <th>MKT</th>\n",
       "      <th>SMB</th>\n",
       "      <th>HML</th>\n",
       "      <th>Size</th>\n",
       "      <th>PE</th>\n",
       "    </tr>\n",
       "  </thead>\n",
       "  <tbody>\n",
       "    <tr>\n",
       "      <th>0</th>\n",
       "      <td>-0.013161</td>\n",
       "      <td>0.002471</td>\n",
       "      <td>-0.002503</td>\n",
       "      <td>-0.000121</td>\n",
       "      <td>0.003519</td>\n",
       "    </tr>\n",
       "    <tr>\n",
       "      <th>1</th>\n",
       "      <td>0.005791</td>\n",
       "      <td>-0.009087</td>\n",
       "      <td>-0.003275</td>\n",
       "      <td>0.001174</td>\n",
       "      <td>-0.000695</td>\n",
       "    </tr>\n",
       "    <tr>\n",
       "      <th>2</th>\n",
       "      <td>0.000000</td>\n",
       "      <td>0.000000</td>\n",
       "      <td>0.000000</td>\n",
       "      <td>0.000000</td>\n",
       "      <td>0.000000</td>\n",
       "    </tr>\n",
       "    <tr>\n",
       "      <th>3</th>\n",
       "      <td>0.005662</td>\n",
       "      <td>0.001197</td>\n",
       "      <td>-0.001167</td>\n",
       "      <td>-0.001437</td>\n",
       "      <td>-0.006888</td>\n",
       "    </tr>\n",
       "    <tr>\n",
       "      <th>4</th>\n",
       "      <td>-0.006423</td>\n",
       "      <td>-0.001511</td>\n",
       "      <td>0.005992</td>\n",
       "      <td>0.001472</td>\n",
       "      <td>0.002059</td>\n",
       "    </tr>\n",
       "    <tr>\n",
       "      <th>...</th>\n",
       "      <td>...</td>\n",
       "      <td>...</td>\n",
       "      <td>...</td>\n",
       "      <td>...</td>\n",
       "      <td>...</td>\n",
       "    </tr>\n",
       "    <tr>\n",
       "      <th>3943</th>\n",
       "      <td>0.014657</td>\n",
       "      <td>-0.011974</td>\n",
       "      <td>-0.006122</td>\n",
       "      <td>-0.001189</td>\n",
       "      <td>-0.000852</td>\n",
       "    </tr>\n",
       "    <tr>\n",
       "      <th>3944</th>\n",
       "      <td>-0.028430</td>\n",
       "      <td>0.018593</td>\n",
       "      <td>0.009841</td>\n",
       "      <td>0.017274</td>\n",
       "      <td>0.003552</td>\n",
       "    </tr>\n",
       "    <tr>\n",
       "      <th>3945</th>\n",
       "      <td>0.043158</td>\n",
       "      <td>-0.009816</td>\n",
       "      <td>-0.015599</td>\n",
       "      <td>-0.031135</td>\n",
       "      <td>-0.003934</td>\n",
       "    </tr>\n",
       "    <tr>\n",
       "      <th>3946</th>\n",
       "      <td>-0.013943</td>\n",
       "      <td>-0.001131</td>\n",
       "      <td>0.018099</td>\n",
       "      <td>0.004280</td>\n",
       "      <td>0.000529</td>\n",
       "    </tr>\n",
       "    <tr>\n",
       "      <th>3947</th>\n",
       "      <td>0.015097</td>\n",
       "      <td>0.007775</td>\n",
       "      <td>0.003637</td>\n",
       "      <td>-0.008301</td>\n",
       "      <td>0.001336</td>\n",
       "    </tr>\n",
       "  </tbody>\n",
       "</table>\n",
       "<p>3948 rows × 5 columns</p>\n",
       "</div>"
      ],
      "text/plain": [
       "           MKT       SMB       HML      Size        PE\n",
       "0    -0.013161  0.002471 -0.002503 -0.000121  0.003519\n",
       "1     0.005791 -0.009087 -0.003275  0.001174 -0.000695\n",
       "2     0.000000  0.000000  0.000000  0.000000  0.000000\n",
       "3     0.005662  0.001197 -0.001167 -0.001437 -0.006888\n",
       "4    -0.006423 -0.001511  0.005992  0.001472  0.002059\n",
       "...        ...       ...       ...       ...       ...\n",
       "3943  0.014657 -0.011974 -0.006122 -0.001189 -0.000852\n",
       "3944 -0.028430  0.018593  0.009841  0.017274  0.003552\n",
       "3945  0.043158 -0.009816 -0.015599 -0.031135 -0.003934\n",
       "3946 -0.013943 -0.001131  0.018099  0.004280  0.000529\n",
       "3947  0.015097  0.007775  0.003637 -0.008301  0.001336\n",
       "\n",
       "[3948 rows x 5 columns]"
      ]
     },
     "execution_count": 544,
     "metadata": {},
     "output_type": "execute_result"
    }
   ],
   "source": [
    "# Print all the risk premiums of FF3-Factor and the slope coefficients of firm characteristics\n",
    "all_lambdas[0].rename(columns={0:'MKT',1:'SMB',2:'HML',3:'Size',4:'PE'})"
   ]
  },
  {
   "cell_type": "code",
   "execution_count": 545,
   "metadata": {},
   "outputs": [
    {
     "data": {
      "text/plain": [
       "0    0.915254\n",
       "dtype: float64"
      ]
     },
     "execution_count": 545,
     "metadata": {},
     "output_type": "execute_result"
    }
   ],
   "source": [
    "# Print the time-series average of intercepts (pricing-errors)\n",
    "np.mean(all_intercepts[0], axis = 0)*21*100"
   ]
  },
  {
   "cell_type": "code",
   "execution_count": 546,
   "metadata": {
    "scrolled": true
   },
   "outputs": [
    {
     "name": "stderr",
     "output_type": "stream",
     "text": [
      "/Users/runxinlin/opt/anaconda3/lib/python3.8/site-packages/numpy/core/fromnumeric.py:3438: FutureWarning: In a future version, DataFrame.mean(axis=None) will return a scalar mean over the entire DataFrame. To retain the old behavior, use 'frame.mean(axis=0)' or just 'frame.mean()'\n",
      "  return mean(axis=axis, dtype=dtype, out=out, **kwargs)\n"
     ]
    },
    {
     "data": {
      "text/plain": [
       "0    0.047762\n",
       "1    0.275186\n",
       "2   -0.338383\n",
       "3   -0.715166\n",
       "4   -0.139372\n",
       "dtype: float64"
      ]
     },
     "execution_count": 546,
     "metadata": {},
     "output_type": "execute_result"
    }
   ],
   "source": [
    "# Print he time-series average of factor premiums \n",
    "np.mean(all_lambdas[0])*21*100"
   ]
  },
  {
   "cell_type": "code",
   "execution_count": 547,
   "metadata": {},
   "outputs": [
    {
     "data": {
      "text/plain": [
       "array([4.92779217])"
      ]
     },
     "execution_count": 547,
     "metadata": {},
     "output_type": "execute_result"
    }
   ],
   "source": [
    "# Print the ordinary t-statistics of intercepts\n",
    "stats.ttest_1samp(all_intercepts[0], 0.0)[0]"
   ]
  },
  {
   "cell_type": "code",
   "execution_count": 548,
   "metadata": {
    "scrolled": false
   },
   "outputs": [
    {
     "data": {
      "text/plain": [
       "array([ 0.08267116,  0.51629044, -0.56989042, -2.95840918, -1.37638678])"
      ]
     },
     "execution_count": 548,
     "metadata": {},
     "output_type": "execute_result"
    }
   ],
   "source": [
    "# Print the ordinary t-statistics of risk premiums\n",
    "stats.ttest_1samp(all_lambdas[0], 0.0)[0]"
   ]
  },
  {
   "cell_type": "code",
   "execution_count": 549,
   "metadata": {},
   "outputs": [
    {
     "data": {
      "text/plain": [
       "array([ 0.05048884,  0.33648721, -0.37329471, -1.84837765, -0.84196927])"
      ]
     },
     "execution_count": 549,
     "metadata": {},
     "output_type": "execute_result"
    }
   ],
   "source": [
    "## Newey-West t-statistics of factor premiums \n",
    "all_lambdas[0].apply(lambda x: NW_ttest(ret = x, h0=0), axis=0).values"
   ]
  },
  {
   "cell_type": "markdown",
   "metadata": {},
   "source": [
    "### Carhart4-Factor Model"
   ]
  },
  {
   "cell_type": "code",
   "execution_count": 64,
   "metadata": {},
   "outputs": [],
   "source": [
    "n = 3\n",
    "holding = 21\n",
    "rollingW = holding * n *12\n",
    "lens = len(df_FF4)\n",
    "periods = int((lens - rollingW) / holding) - 1"
   ]
  },
  {
   "cell_type": "markdown",
   "metadata": {},
   "source": [
    "This cell is the first stage of FM OLS regression under the Carhart4-Factor Model, which aims to estiamte intercepts and the betas of Carhart4-Factors"
   ]
  },
  {
   "cell_type": "code",
   "execution_count": 65,
   "metadata": {
    "scrolled": true
   },
   "outputs": [
    {
     "name": "stderr",
     "output_type": "stream",
     "text": [
      "100%|██████████| 189/189 [00:45<00:00,  4.17it/s]\n"
     ]
    }
   ],
   "source": [
    "# Keep the excess stock returns and factor returns have the same length\n",
    "df_Ex_SR_trnct = df_Ex_SR.loc[df_FF4.index,:]\n",
    "\n",
    "all_betas = []\n",
    "\n",
    "for i in tqdm(range(periods)):\n",
    "\n",
    "    df_FF4_tmp = df_FF4.iloc[i*holding:i*holding+rollingW,:]\n",
    "    df_Ex_SR_tmp = df_Ex_SR_trnct.iloc[i*holding:i*holding+rollingW,:]\n",
    "    \n",
    "    betas = []\n",
    "\n",
    "    for j in df_Ex_SR.columns:\n",
    "        df_index = df_Ex_SR_tmp.loc[:,j].dropna().index\n",
    "        \n",
    "        if len(df_index) != 0:\n",
    "            b = list(ols_model.fit(df_FF4_tmp.loc[df_index,:].values, df_Ex_SR_tmp.loc[df_index,j].values).coef_)\n",
    "            b.append(j)\n",
    "            betas.append(b)\n",
    "    df_betas = pd.DataFrame(np.array(betas)).rename(columns={0:'MKT',1:'SMB',2:'HML',3:'WML',4:'stock'}).set_index('stock')\n",
    "    \n",
    "    all_betas.append(df_betas)"
   ]
  },
  {
   "cell_type": "code",
   "execution_count": 66,
   "metadata": {
    "scrolled": true
   },
   "outputs": [
    {
     "data": {
      "text/html": [
       "<div>\n",
       "<style scoped>\n",
       "    .dataframe tbody tr th:only-of-type {\n",
       "        vertical-align: middle;\n",
       "    }\n",
       "\n",
       "    .dataframe tbody tr th {\n",
       "        vertical-align: top;\n",
       "    }\n",
       "\n",
       "    .dataframe thead th {\n",
       "        text-align: right;\n",
       "    }\n",
       "</style>\n",
       "<table border=\"1\" class=\"dataframe\">\n",
       "  <thead>\n",
       "    <tr style=\"text-align: right;\">\n",
       "      <th></th>\n",
       "      <th>MKT</th>\n",
       "      <th>SMB</th>\n",
       "      <th>HML</th>\n",
       "      <th>WML</th>\n",
       "    </tr>\n",
       "    <tr>\n",
       "      <th>stock</th>\n",
       "      <th></th>\n",
       "      <th></th>\n",
       "      <th></th>\n",
       "      <th></th>\n",
       "    </tr>\n",
       "  </thead>\n",
       "  <tbody>\n",
       "    <tr>\n",
       "      <th>FDS.SJ.Equity</th>\n",
       "      <td>0.24177300440579327</td>\n",
       "      <td>-0.4094764065208389</td>\n",
       "      <td>-0.3005724328521078</td>\n",
       "      <td>-0.4919795333836393</td>\n",
       "    </tr>\n",
       "    <tr>\n",
       "      <th>MOZ.SJ.Equity</th>\n",
       "      <td>0.4056615847821329</td>\n",
       "      <td>-1.0492150826286548</td>\n",
       "      <td>-0.27889957930875264</td>\n",
       "      <td>-0.07557311035311315</td>\n",
       "    </tr>\n",
       "    <tr>\n",
       "      <th>MTN.SJ.Equity</th>\n",
       "      <td>0.547062339296451</td>\n",
       "      <td>-1.2987631211074795</td>\n",
       "      <td>-0.08232264670969627</td>\n",
       "      <td>-0.10404017631632623</td>\n",
       "    </tr>\n",
       "    <tr>\n",
       "      <th>TRT.SJ.Equity</th>\n",
       "      <td>0.3348852423272915</td>\n",
       "      <td>0.5910440280061804</td>\n",
       "      <td>0.39633358774372124</td>\n",
       "      <td>0.00609271304615</td>\n",
       "    </tr>\n",
       "    <tr>\n",
       "      <th>AEG.SJ.Equity</th>\n",
       "      <td>0.2876566748824977</td>\n",
       "      <td>-0.11515048714272419</td>\n",
       "      <td>-0.0409813329970857</td>\n",
       "      <td>-0.07519192645081765</td>\n",
       "    </tr>\n",
       "    <tr>\n",
       "      <th>...</th>\n",
       "      <td>...</td>\n",
       "      <td>...</td>\n",
       "      <td>...</td>\n",
       "      <td>...</td>\n",
       "    </tr>\n",
       "    <tr>\n",
       "      <th>CHE.SJ.Equity</th>\n",
       "      <td>0.09089840855436024</td>\n",
       "      <td>0.14076073555101876</td>\n",
       "      <td>0.03526811085986954</td>\n",
       "      <td>-0.05545390193506684</td>\n",
       "    </tr>\n",
       "    <tr>\n",
       "      <th>JCG.SJ.Equity</th>\n",
       "      <td>0.14811832628462557</td>\n",
       "      <td>0.3324361243852805</td>\n",
       "      <td>-0.25411183754894456</td>\n",
       "      <td>0.030558795972424446</td>\n",
       "    </tr>\n",
       "    <tr>\n",
       "      <th>CRM.SJ.Equity</th>\n",
       "      <td>0.06315120987879569</td>\n",
       "      <td>0.08076189444438221</td>\n",
       "      <td>-0.0717431296682374</td>\n",
       "      <td>-0.04418162886207781</td>\n",
       "    </tr>\n",
       "    <tr>\n",
       "      <th>CLE.SJ.Equity</th>\n",
       "      <td>0.06704533036279861</td>\n",
       "      <td>0.05534200328585487</td>\n",
       "      <td>-0.20350931977348796</td>\n",
       "      <td>-0.07392660958028069</td>\n",
       "    </tr>\n",
       "    <tr>\n",
       "      <th>WES.SJ.Equity</th>\n",
       "      <td>-0.10626912508181187</td>\n",
       "      <td>-0.14329529474329045</td>\n",
       "      <td>-0.1820624266524506</td>\n",
       "      <td>0.02784361966335866</td>\n",
       "    </tr>\n",
       "  </tbody>\n",
       "</table>\n",
       "<p>200 rows × 4 columns</p>\n",
       "</div>"
      ],
      "text/plain": [
       "                                MKT                   SMB  \\\n",
       "stock                                                       \n",
       "FDS.SJ.Equity   0.24177300440579327   -0.4094764065208389   \n",
       "MOZ.SJ.Equity    0.4056615847821329   -1.0492150826286548   \n",
       "MTN.SJ.Equity     0.547062339296451   -1.2987631211074795   \n",
       "TRT.SJ.Equity    0.3348852423272915    0.5910440280061804   \n",
       "AEG.SJ.Equity    0.2876566748824977  -0.11515048714272419   \n",
       "...                             ...                   ...   \n",
       "CHE.SJ.Equity   0.09089840855436024   0.14076073555101876   \n",
       "JCG.SJ.Equity   0.14811832628462557    0.3324361243852805   \n",
       "CRM.SJ.Equity   0.06315120987879569   0.08076189444438221   \n",
       "CLE.SJ.Equity   0.06704533036279861   0.05534200328585487   \n",
       "WES.SJ.Equity  -0.10626912508181187  -0.14329529474329045   \n",
       "\n",
       "                                HML                   WML  \n",
       "stock                                                      \n",
       "FDS.SJ.Equity   -0.3005724328521078   -0.4919795333836393  \n",
       "MOZ.SJ.Equity  -0.27889957930875264  -0.07557311035311315  \n",
       "MTN.SJ.Equity  -0.08232264670969627  -0.10404017631632623  \n",
       "TRT.SJ.Equity   0.39633358774372124      0.00609271304615  \n",
       "AEG.SJ.Equity   -0.0409813329970857  -0.07519192645081765  \n",
       "...                             ...                   ...  \n",
       "CHE.SJ.Equity   0.03526811085986954  -0.05545390193506684  \n",
       "JCG.SJ.Equity  -0.25411183754894456  0.030558795972424446  \n",
       "CRM.SJ.Equity   -0.0717431296682374  -0.04418162886207781  \n",
       "CLE.SJ.Equity  -0.20350931977348796  -0.07392660958028069  \n",
       "WES.SJ.Equity   -0.1820624266524506   0.02784361966335866  \n",
       "\n",
       "[200 rows x 4 columns]"
      ]
     },
     "execution_count": 66,
     "metadata": {},
     "output_type": "execute_result"
    }
   ],
   "source": [
    "# Print the estimated betas for one period\n",
    "all_betas[0]"
   ]
  },
  {
   "cell_type": "markdown",
   "metadata": {},
   "source": [
    "This cell is the second stage of FM OLS regression, which aims to\n",
    "estimate intercepts and the risk premiums of the Carhart4-Factor. It should be noted that the regression is performed on a time-series scale"
   ]
  },
  {
   "cell_type": "code",
   "execution_count": 67,
   "metadata": {},
   "outputs": [
    {
     "name": "stderr",
     "output_type": "stream",
     "text": [
      "100%|██████████| 3969/3969 [00:08<00:00, 471.87it/s]\n"
     ]
    }
   ],
   "source": [
    "all_lambdas = []\n",
    "all_intercepts = []\n",
    "\n",
    "lambdas = []\n",
    "intercepts = []\n",
    "index_times = list(df_Ex_SR_tmp_T.columns)\n",
    "\n",
    "for k in tqdm(df_Ex_SR_tmp_T.columns):\n",
    "    \n",
    "    i = int(index_times.index(k) / holding)\n",
    "\n",
    "    df_return = df_Ex_SR_tmp_T.loc[all_betas[i].index,k].dropna()\n",
    "    df_index = df_return.index\n",
    "    \n",
    "    if len(df_index) != 0:\n",
    "        l = list(ols_model.fit(all_betas[i].loc[df_index,:].values, df_return.values).coef_)\n",
    "        h = ols_model.fit(all_betas[i].loc[df_index,:].values, df_return.values).intercept_\n",
    "        lambdas.append(l)\n",
    "        intercepts.append(h)\n",
    "        \n",
    "all_lambdas.append(pd.DataFrame(lambdas))\n",
    "all_intercepts.append(pd.DataFrame(intercepts))"
   ]
  },
  {
   "cell_type": "code",
   "execution_count": 68,
   "metadata": {
    "scrolled": true
   },
   "outputs": [
    {
     "data": {
      "text/html": [
       "<div>\n",
       "<style scoped>\n",
       "    .dataframe tbody tr th:only-of-type {\n",
       "        vertical-align: middle;\n",
       "    }\n",
       "\n",
       "    .dataframe tbody tr th {\n",
       "        vertical-align: top;\n",
       "    }\n",
       "\n",
       "    .dataframe thead th {\n",
       "        text-align: right;\n",
       "    }\n",
       "</style>\n",
       "<table border=\"1\" class=\"dataframe\">\n",
       "  <thead>\n",
       "    <tr style=\"text-align: right;\">\n",
       "      <th></th>\n",
       "      <th>MKT</th>\n",
       "      <th>SMB</th>\n",
       "      <th>HML</th>\n",
       "      <th>WML</th>\n",
       "    </tr>\n",
       "  </thead>\n",
       "  <tbody>\n",
       "    <tr>\n",
       "      <th>0</th>\n",
       "      <td>0.004545</td>\n",
       "      <td>0.019473</td>\n",
       "      <td>-0.009060</td>\n",
       "      <td>-0.031456</td>\n",
       "    </tr>\n",
       "    <tr>\n",
       "      <th>1</th>\n",
       "      <td>0.012638</td>\n",
       "      <td>-0.012311</td>\n",
       "      <td>-0.005911</td>\n",
       "      <td>-0.004416</td>\n",
       "    </tr>\n",
       "    <tr>\n",
       "      <th>2</th>\n",
       "      <td>-0.002235</td>\n",
       "      <td>-0.001809</td>\n",
       "      <td>0.002407</td>\n",
       "      <td>0.019264</td>\n",
       "    </tr>\n",
       "    <tr>\n",
       "      <th>3</th>\n",
       "      <td>-0.012260</td>\n",
       "      <td>-0.005589</td>\n",
       "      <td>0.017893</td>\n",
       "      <td>0.000400</td>\n",
       "    </tr>\n",
       "    <tr>\n",
       "      <th>4</th>\n",
       "      <td>0.010182</td>\n",
       "      <td>-0.012116</td>\n",
       "      <td>-0.001880</td>\n",
       "      <td>0.025864</td>\n",
       "    </tr>\n",
       "    <tr>\n",
       "      <th>...</th>\n",
       "      <td>...</td>\n",
       "      <td>...</td>\n",
       "      <td>...</td>\n",
       "      <td>...</td>\n",
       "    </tr>\n",
       "    <tr>\n",
       "      <th>3964</th>\n",
       "      <td>0.010946</td>\n",
       "      <td>-0.018895</td>\n",
       "      <td>-0.014050</td>\n",
       "      <td>-0.002631</td>\n",
       "    </tr>\n",
       "    <tr>\n",
       "      <th>3965</th>\n",
       "      <td>-0.007452</td>\n",
       "      <td>-0.003173</td>\n",
       "      <td>0.011285</td>\n",
       "      <td>0.010397</td>\n",
       "    </tr>\n",
       "    <tr>\n",
       "      <th>3966</th>\n",
       "      <td>-0.007037</td>\n",
       "      <td>0.013551</td>\n",
       "      <td>0.004458</td>\n",
       "      <td>-0.023200</td>\n",
       "    </tr>\n",
       "    <tr>\n",
       "      <th>3967</th>\n",
       "      <td>-0.003844</td>\n",
       "      <td>-0.013612</td>\n",
       "      <td>0.004714</td>\n",
       "      <td>0.008081</td>\n",
       "    </tr>\n",
       "    <tr>\n",
       "      <th>3968</th>\n",
       "      <td>-0.008262</td>\n",
       "      <td>0.004010</td>\n",
       "      <td>0.025264</td>\n",
       "      <td>-0.006076</td>\n",
       "    </tr>\n",
       "  </tbody>\n",
       "</table>\n",
       "<p>3969 rows × 4 columns</p>\n",
       "</div>"
      ],
      "text/plain": [
       "           MKT       SMB       HML       WML\n",
       "0     0.004545  0.019473 -0.009060 -0.031456\n",
       "1     0.012638 -0.012311 -0.005911 -0.004416\n",
       "2    -0.002235 -0.001809  0.002407  0.019264\n",
       "3    -0.012260 -0.005589  0.017893  0.000400\n",
       "4     0.010182 -0.012116 -0.001880  0.025864\n",
       "...        ...       ...       ...       ...\n",
       "3964  0.010946 -0.018895 -0.014050 -0.002631\n",
       "3965 -0.007452 -0.003173  0.011285  0.010397\n",
       "3966 -0.007037  0.013551  0.004458 -0.023200\n",
       "3967 -0.003844 -0.013612  0.004714  0.008081\n",
       "3968 -0.008262  0.004010  0.025264 -0.006076\n",
       "\n",
       "[3969 rows x 4 columns]"
      ]
     },
     "execution_count": 68,
     "metadata": {},
     "output_type": "execute_result"
    }
   ],
   "source": [
    "# Print all the risk premiums of Carhart4-Factor\n",
    "all_lambdas[0].rename(columns={0:'MKT',1:'SMB',2:'HML',3:'WML'})"
   ]
  },
  {
   "cell_type": "code",
   "execution_count": 69,
   "metadata": {},
   "outputs": [
    {
     "data": {
      "text/plain": [
       "0    0.070273\n",
       "dtype: float64"
      ]
     },
     "execution_count": 69,
     "metadata": {},
     "output_type": "execute_result"
    }
   ],
   "source": [
    "# Print the time-series average of intercepts\n",
    "np.mean(all_intercepts[0], axis = 0)*21*100"
   ]
  },
  {
   "cell_type": "code",
   "execution_count": 70,
   "metadata": {},
   "outputs": [
    {
     "name": "stderr",
     "output_type": "stream",
     "text": [
      "/Users/runxinlin/opt/anaconda3/lib/python3.8/site-packages/numpy/core/fromnumeric.py:3438: FutureWarning: In a future version, DataFrame.mean(axis=None) will return a scalar mean over the entire DataFrame. To retain the old behavior, use 'frame.mean(axis=0)' or just 'frame.mean()'\n",
      "  return mean(axis=axis, dtype=dtype, out=out, **kwargs)\n"
     ]
    },
    {
     "data": {
      "text/plain": [
       "0   -0.336100\n",
       "1   -0.091794\n",
       "2    0.264773\n",
       "3    0.059924\n",
       "dtype: float64"
      ]
     },
     "execution_count": 70,
     "metadata": {},
     "output_type": "execute_result"
    }
   ],
   "source": [
    "# Print the time-series average of the risk premiums of Carhart4-Factor\n",
    "np.mean(all_lambdas[0])*21*100"
   ]
  },
  {
   "cell_type": "code",
   "execution_count": 71,
   "metadata": {},
   "outputs": [
    {
     "data": {
      "text/plain": [
       "array([0.56599423])"
      ]
     },
     "execution_count": 71,
     "metadata": {},
     "output_type": "execute_result"
    }
   ],
   "source": [
    "stats.ttest_1samp(all_intercepts[0], 0.0)[0]"
   ]
  },
  {
   "cell_type": "code",
   "execution_count": 72,
   "metadata": {
    "scrolled": false
   },
   "outputs": [
    {
     "data": {
      "text/plain": [
       "array([-0.79049803, -0.35975897,  0.97466268,  0.12580304])"
      ]
     },
     "execution_count": 72,
     "metadata": {},
     "output_type": "execute_result"
    }
   ],
   "source": [
    "stats.ttest_1samp(all_lambdas[0], 0.0)[0]"
   ]
  },
  {
   "cell_type": "code",
   "execution_count": 73,
   "metadata": {},
   "outputs": [
    {
     "data": {
      "text/plain": [
       "array([-0.48397576, -0.23070276,  0.62619986,  0.08305253])"
      ]
     },
     "execution_count": 73,
     "metadata": {},
     "output_type": "execute_result"
    }
   ],
   "source": [
    "## Newey-West t-test\n",
    "all_lambdas[0].apply(lambda x: NW_ttest(ret = x, h0=0), axis=0).values"
   ]
  },
  {
   "cell_type": "markdown",
   "metadata": {},
   "source": [
    "### FF5-Factor Model"
   ]
  },
  {
   "cell_type": "code",
   "execution_count": 466,
   "metadata": {},
   "outputs": [],
   "source": [
    "# How many years in the rolling window\n",
    "n = 3"
   ]
  },
  {
   "cell_type": "code",
   "execution_count": 467,
   "metadata": {},
   "outputs": [
    {
     "data": {
      "text/plain": [
       "189"
      ]
     },
     "execution_count": 467,
     "metadata": {},
     "output_type": "execute_result"
    }
   ],
   "source": [
    "holding = 21\n",
    "rollingW = holding * n *12\n",
    "lens = len(df_FF5)\n",
    "periods = int((lens - rollingW) / holding) - 1\n",
    "periods"
   ]
  },
  {
   "cell_type": "code",
   "execution_count": 469,
   "metadata": {},
   "outputs": [
    {
     "data": {
      "text/plain": [
       "DatetimeIndex(['2000-12-20', '2000-12-21', '2000-12-22', '2000-12-25',\n",
       "               '2000-12-26', '2000-12-27', '2000-12-28', '2000-12-29',\n",
       "               '2001-01-01', '2001-01-02',\n",
       "               ...\n",
       "               '2002-04-24', '2002-04-25', '2002-04-26', '2002-04-29',\n",
       "               '2002-04-30', '2002-05-01', '2002-05-02', '2002-05-03',\n",
       "               '2002-05-06', '2002-05-07'],\n",
       "              dtype='datetime64[ns]', name='Dates', length=360, freq=None)"
      ]
     },
     "execution_count": 469,
     "metadata": {},
     "output_type": "execute_result"
    }
   ],
   "source": [
    "df_index"
   ]
  },
  {
   "cell_type": "code",
   "execution_count": 468,
   "metadata": {},
   "outputs": [
    {
     "name": "stderr",
     "output_type": "stream",
     "text": [
      "  0%|          | 0/189 [00:00<?, ?it/s]\n"
     ]
    },
    {
     "ename": "KeyError",
     "evalue": "\"None of [DatetimeIndex(['2000-12-20', '2000-12-21', '2000-12-22', '2000-12-25',\\n               '2000-12-26', '2000-12-27', '2000-12-28', '2000-12-29',\\n               '2001-01-01', '2001-01-02',\\n               ...\\n               '2002-04-24', '2002-04-25', '2002-04-26', '2002-04-29',\\n               '2002-04-30', '2002-05-01', '2002-05-02', '2002-05-03',\\n               '2002-05-06', '2002-05-07'],\\n              dtype='datetime64[ns]', name='Dates', length=360, freq=None)] are in the [index]\"",
     "output_type": "error",
     "traceback": [
      "\u001b[0;31m---------------------------------------------------------------------------\u001b[0m",
      "\u001b[0;31mKeyError\u001b[0m                                  Traceback (most recent call last)",
      "Input \u001b[0;32mIn [468]\u001b[0m, in \u001b[0;36m<cell line: 5>\u001b[0;34m()\u001b[0m\n\u001b[1;32m     13\u001b[0m df_index \u001b[38;5;241m=\u001b[39m df_Ex_SR_tmp\u001b[38;5;241m.\u001b[39mloc[:,j]\u001b[38;5;241m.\u001b[39mdropna()\u001b[38;5;241m.\u001b[39mindex\n\u001b[1;32m     15\u001b[0m \u001b[38;5;28;01mif\u001b[39;00m \u001b[38;5;28mlen\u001b[39m(df_index) \u001b[38;5;241m!=\u001b[39m \u001b[38;5;241m0\u001b[39m:\n\u001b[0;32m---> 16\u001b[0m     b \u001b[38;5;241m=\u001b[39m \u001b[38;5;28mlist\u001b[39m(ols_model\u001b[38;5;241m.\u001b[39mfit(\u001b[43mdf_FF5_tmp\u001b[49m\u001b[38;5;241;43m.\u001b[39;49m\u001b[43mloc\u001b[49m\u001b[43m[\u001b[49m\u001b[43mdf_index\u001b[49m\u001b[43m,\u001b[49m\u001b[43m:\u001b[49m\u001b[43m]\u001b[49m\u001b[38;5;241m.\u001b[39mvalues, df_Ex_SR_tmp\u001b[38;5;241m.\u001b[39mloc[df_index,j]\u001b[38;5;241m.\u001b[39mvalues)\u001b[38;5;241m.\u001b[39mcoef_)\n\u001b[1;32m     17\u001b[0m     b\u001b[38;5;241m.\u001b[39mappend(j)\n\u001b[1;32m     18\u001b[0m     betas\u001b[38;5;241m.\u001b[39mappend(b)\n",
      "File \u001b[0;32m~/opt/anaconda3/lib/python3.8/site-packages/pandas/core/indexing.py:961\u001b[0m, in \u001b[0;36m_LocationIndexer.__getitem__\u001b[0;34m(self, key)\u001b[0m\n\u001b[1;32m    959\u001b[0m     \u001b[38;5;28;01mif\u001b[39;00m \u001b[38;5;28mself\u001b[39m\u001b[38;5;241m.\u001b[39m_is_scalar_access(key):\n\u001b[1;32m    960\u001b[0m         \u001b[38;5;28;01mreturn\u001b[39;00m \u001b[38;5;28mself\u001b[39m\u001b[38;5;241m.\u001b[39mobj\u001b[38;5;241m.\u001b[39m_get_value(\u001b[38;5;241m*\u001b[39mkey, takeable\u001b[38;5;241m=\u001b[39m\u001b[38;5;28mself\u001b[39m\u001b[38;5;241m.\u001b[39m_takeable)\n\u001b[0;32m--> 961\u001b[0m     \u001b[38;5;28;01mreturn\u001b[39;00m \u001b[38;5;28;43mself\u001b[39;49m\u001b[38;5;241;43m.\u001b[39;49m\u001b[43m_getitem_tuple\u001b[49m\u001b[43m(\u001b[49m\u001b[43mkey\u001b[49m\u001b[43m)\u001b[49m\n\u001b[1;32m    962\u001b[0m \u001b[38;5;28;01melse\u001b[39;00m:\n\u001b[1;32m    963\u001b[0m     \u001b[38;5;66;03m# we by definition only have the 0th axis\u001b[39;00m\n\u001b[1;32m    964\u001b[0m     axis \u001b[38;5;241m=\u001b[39m \u001b[38;5;28mself\u001b[39m\u001b[38;5;241m.\u001b[39maxis \u001b[38;5;129;01mor\u001b[39;00m \u001b[38;5;241m0\u001b[39m\n",
      "File \u001b[0;32m~/opt/anaconda3/lib/python3.8/site-packages/pandas/core/indexing.py:1149\u001b[0m, in \u001b[0;36m_LocIndexer._getitem_tuple\u001b[0;34m(self, tup)\u001b[0m\n\u001b[1;32m   1146\u001b[0m \u001b[38;5;28;01mif\u001b[39;00m \u001b[38;5;28mself\u001b[39m\u001b[38;5;241m.\u001b[39m_multi_take_opportunity(tup):\n\u001b[1;32m   1147\u001b[0m     \u001b[38;5;28;01mreturn\u001b[39;00m \u001b[38;5;28mself\u001b[39m\u001b[38;5;241m.\u001b[39m_multi_take(tup)\n\u001b[0;32m-> 1149\u001b[0m \u001b[38;5;28;01mreturn\u001b[39;00m \u001b[38;5;28;43mself\u001b[39;49m\u001b[38;5;241;43m.\u001b[39;49m\u001b[43m_getitem_tuple_same_dim\u001b[49m\u001b[43m(\u001b[49m\u001b[43mtup\u001b[49m\u001b[43m)\u001b[49m\n",
      "File \u001b[0;32m~/opt/anaconda3/lib/python3.8/site-packages/pandas/core/indexing.py:827\u001b[0m, in \u001b[0;36m_LocationIndexer._getitem_tuple_same_dim\u001b[0;34m(self, tup)\u001b[0m\n\u001b[1;32m    824\u001b[0m \u001b[38;5;28;01mif\u001b[39;00m com\u001b[38;5;241m.\u001b[39mis_null_slice(key):\n\u001b[1;32m    825\u001b[0m     \u001b[38;5;28;01mcontinue\u001b[39;00m\n\u001b[0;32m--> 827\u001b[0m retval \u001b[38;5;241m=\u001b[39m \u001b[38;5;28;43mgetattr\u001b[39;49m\u001b[43m(\u001b[49m\u001b[43mretval\u001b[49m\u001b[43m,\u001b[49m\u001b[43m \u001b[49m\u001b[38;5;28;43mself\u001b[39;49m\u001b[38;5;241;43m.\u001b[39;49m\u001b[43mname\u001b[49m\u001b[43m)\u001b[49m\u001b[38;5;241;43m.\u001b[39;49m\u001b[43m_getitem_axis\u001b[49m\u001b[43m(\u001b[49m\u001b[43mkey\u001b[49m\u001b[43m,\u001b[49m\u001b[43m \u001b[49m\u001b[43maxis\u001b[49m\u001b[38;5;241;43m=\u001b[39;49m\u001b[43mi\u001b[49m\u001b[43m)\u001b[49m\n\u001b[1;32m    828\u001b[0m \u001b[38;5;66;03m# We should never have retval.ndim < self.ndim, as that should\u001b[39;00m\n\u001b[1;32m    829\u001b[0m \u001b[38;5;66;03m#  be handled by the _getitem_lowerdim call above.\u001b[39;00m\n\u001b[1;32m    830\u001b[0m \u001b[38;5;28;01massert\u001b[39;00m retval\u001b[38;5;241m.\u001b[39mndim \u001b[38;5;241m==\u001b[39m \u001b[38;5;28mself\u001b[39m\u001b[38;5;241m.\u001b[39mndim\n",
      "File \u001b[0;32m~/opt/anaconda3/lib/python3.8/site-packages/pandas/core/indexing.py:1191\u001b[0m, in \u001b[0;36m_LocIndexer._getitem_axis\u001b[0;34m(self, key, axis)\u001b[0m\n\u001b[1;32m   1188\u001b[0m     \u001b[38;5;28;01mif\u001b[39;00m \u001b[38;5;28mhasattr\u001b[39m(key, \u001b[38;5;124m\"\u001b[39m\u001b[38;5;124mndim\u001b[39m\u001b[38;5;124m\"\u001b[39m) \u001b[38;5;129;01mand\u001b[39;00m key\u001b[38;5;241m.\u001b[39mndim \u001b[38;5;241m>\u001b[39m \u001b[38;5;241m1\u001b[39m:\n\u001b[1;32m   1189\u001b[0m         \u001b[38;5;28;01mraise\u001b[39;00m \u001b[38;5;167;01mValueError\u001b[39;00m(\u001b[38;5;124m\"\u001b[39m\u001b[38;5;124mCannot index with multidimensional key\u001b[39m\u001b[38;5;124m\"\u001b[39m)\n\u001b[0;32m-> 1191\u001b[0m     \u001b[38;5;28;01mreturn\u001b[39;00m \u001b[38;5;28;43mself\u001b[39;49m\u001b[38;5;241;43m.\u001b[39;49m\u001b[43m_getitem_iterable\u001b[49m\u001b[43m(\u001b[49m\u001b[43mkey\u001b[49m\u001b[43m,\u001b[49m\u001b[43m \u001b[49m\u001b[43maxis\u001b[49m\u001b[38;5;241;43m=\u001b[39;49m\u001b[43maxis\u001b[49m\u001b[43m)\u001b[49m\n\u001b[1;32m   1193\u001b[0m \u001b[38;5;66;03m# nested tuple slicing\u001b[39;00m\n\u001b[1;32m   1194\u001b[0m \u001b[38;5;28;01mif\u001b[39;00m is_nested_tuple(key, labels):\n",
      "File \u001b[0;32m~/opt/anaconda3/lib/python3.8/site-packages/pandas/core/indexing.py:1132\u001b[0m, in \u001b[0;36m_LocIndexer._getitem_iterable\u001b[0;34m(self, key, axis)\u001b[0m\n\u001b[1;32m   1129\u001b[0m \u001b[38;5;28mself\u001b[39m\u001b[38;5;241m.\u001b[39m_validate_key(key, axis)\n\u001b[1;32m   1131\u001b[0m \u001b[38;5;66;03m# A collection of keys\u001b[39;00m\n\u001b[0;32m-> 1132\u001b[0m keyarr, indexer \u001b[38;5;241m=\u001b[39m \u001b[38;5;28;43mself\u001b[39;49m\u001b[38;5;241;43m.\u001b[39;49m\u001b[43m_get_listlike_indexer\u001b[49m\u001b[43m(\u001b[49m\u001b[43mkey\u001b[49m\u001b[43m,\u001b[49m\u001b[43m \u001b[49m\u001b[43maxis\u001b[49m\u001b[43m)\u001b[49m\n\u001b[1;32m   1133\u001b[0m \u001b[38;5;28;01mreturn\u001b[39;00m \u001b[38;5;28mself\u001b[39m\u001b[38;5;241m.\u001b[39mobj\u001b[38;5;241m.\u001b[39m_reindex_with_indexers(\n\u001b[1;32m   1134\u001b[0m     {axis: [keyarr, indexer]}, copy\u001b[38;5;241m=\u001b[39m\u001b[38;5;28;01mTrue\u001b[39;00m, allow_dups\u001b[38;5;241m=\u001b[39m\u001b[38;5;28;01mTrue\u001b[39;00m\n\u001b[1;32m   1135\u001b[0m )\n",
      "File \u001b[0;32m~/opt/anaconda3/lib/python3.8/site-packages/pandas/core/indexing.py:1327\u001b[0m, in \u001b[0;36m_LocIndexer._get_listlike_indexer\u001b[0;34m(self, key, axis)\u001b[0m\n\u001b[1;32m   1324\u001b[0m ax \u001b[38;5;241m=\u001b[39m \u001b[38;5;28mself\u001b[39m\u001b[38;5;241m.\u001b[39mobj\u001b[38;5;241m.\u001b[39m_get_axis(axis)\n\u001b[1;32m   1325\u001b[0m axis_name \u001b[38;5;241m=\u001b[39m \u001b[38;5;28mself\u001b[39m\u001b[38;5;241m.\u001b[39mobj\u001b[38;5;241m.\u001b[39m_get_axis_name(axis)\n\u001b[0;32m-> 1327\u001b[0m keyarr, indexer \u001b[38;5;241m=\u001b[39m \u001b[43max\u001b[49m\u001b[38;5;241;43m.\u001b[39;49m\u001b[43m_get_indexer_strict\u001b[49m\u001b[43m(\u001b[49m\u001b[43mkey\u001b[49m\u001b[43m,\u001b[49m\u001b[43m \u001b[49m\u001b[43maxis_name\u001b[49m\u001b[43m)\u001b[49m\n\u001b[1;32m   1329\u001b[0m \u001b[38;5;28;01mreturn\u001b[39;00m keyarr, indexer\n",
      "File \u001b[0;32m~/opt/anaconda3/lib/python3.8/site-packages/pandas/core/indexes/base.py:5782\u001b[0m, in \u001b[0;36mIndex._get_indexer_strict\u001b[0;34m(self, key, axis_name)\u001b[0m\n\u001b[1;32m   5779\u001b[0m \u001b[38;5;28;01melse\u001b[39;00m:\n\u001b[1;32m   5780\u001b[0m     keyarr, indexer, new_indexer \u001b[38;5;241m=\u001b[39m \u001b[38;5;28mself\u001b[39m\u001b[38;5;241m.\u001b[39m_reindex_non_unique(keyarr)\n\u001b[0;32m-> 5782\u001b[0m \u001b[38;5;28;43mself\u001b[39;49m\u001b[38;5;241;43m.\u001b[39;49m\u001b[43m_raise_if_missing\u001b[49m\u001b[43m(\u001b[49m\u001b[43mkeyarr\u001b[49m\u001b[43m,\u001b[49m\u001b[43m \u001b[49m\u001b[43mindexer\u001b[49m\u001b[43m,\u001b[49m\u001b[43m \u001b[49m\u001b[43maxis_name\u001b[49m\u001b[43m)\u001b[49m\n\u001b[1;32m   5784\u001b[0m keyarr \u001b[38;5;241m=\u001b[39m \u001b[38;5;28mself\u001b[39m\u001b[38;5;241m.\u001b[39mtake(indexer)\n\u001b[1;32m   5785\u001b[0m \u001b[38;5;28;01mif\u001b[39;00m \u001b[38;5;28misinstance\u001b[39m(key, Index):\n\u001b[1;32m   5786\u001b[0m     \u001b[38;5;66;03m# GH 42790 - Preserve name from an Index\u001b[39;00m\n",
      "File \u001b[0;32m~/opt/anaconda3/lib/python3.8/site-packages/pandas/core/indexes/base.py:5842\u001b[0m, in \u001b[0;36mIndex._raise_if_missing\u001b[0;34m(self, key, indexer, axis_name)\u001b[0m\n\u001b[1;32m   5840\u001b[0m     \u001b[38;5;28;01mif\u001b[39;00m use_interval_msg:\n\u001b[1;32m   5841\u001b[0m         key \u001b[38;5;241m=\u001b[39m \u001b[38;5;28mlist\u001b[39m(key)\n\u001b[0;32m-> 5842\u001b[0m     \u001b[38;5;28;01mraise\u001b[39;00m \u001b[38;5;167;01mKeyError\u001b[39;00m(\u001b[38;5;124mf\u001b[39m\u001b[38;5;124m\"\u001b[39m\u001b[38;5;124mNone of [\u001b[39m\u001b[38;5;132;01m{\u001b[39;00mkey\u001b[38;5;132;01m}\u001b[39;00m\u001b[38;5;124m] are in the [\u001b[39m\u001b[38;5;132;01m{\u001b[39;00maxis_name\u001b[38;5;132;01m}\u001b[39;00m\u001b[38;5;124m]\u001b[39m\u001b[38;5;124m\"\u001b[39m)\n\u001b[1;32m   5844\u001b[0m not_found \u001b[38;5;241m=\u001b[39m \u001b[38;5;28mlist\u001b[39m(ensure_index(key)[missing_mask\u001b[38;5;241m.\u001b[39mnonzero()[\u001b[38;5;241m0\u001b[39m]]\u001b[38;5;241m.\u001b[39munique())\n\u001b[1;32m   5845\u001b[0m \u001b[38;5;28;01mraise\u001b[39;00m \u001b[38;5;167;01mKeyError\u001b[39;00m(\u001b[38;5;124mf\u001b[39m\u001b[38;5;124m\"\u001b[39m\u001b[38;5;132;01m{\u001b[39;00mnot_found\u001b[38;5;132;01m}\u001b[39;00m\u001b[38;5;124m not in index\u001b[39m\u001b[38;5;124m\"\u001b[39m)\n",
      "\u001b[0;31mKeyError\u001b[0m: \"None of [DatetimeIndex(['2000-12-20', '2000-12-21', '2000-12-22', '2000-12-25',\\n               '2000-12-26', '2000-12-27', '2000-12-28', '2000-12-29',\\n               '2001-01-01', '2001-01-02',\\n               ...\\n               '2002-04-24', '2002-04-25', '2002-04-26', '2002-04-29',\\n               '2002-04-30', '2002-05-01', '2002-05-02', '2002-05-03',\\n               '2002-05-06', '2002-05-07'],\\n              dtype='datetime64[ns]', name='Dates', length=360, freq=None)] are in the [index]\""
     ]
    }
   ],
   "source": [
    "df_Ex_SR_trnct = df_Ex_SR.loc[df_FF5.index,:]\n",
    "\n",
    "all_betas = []\n",
    "\n",
    "for i in tqdm(range(periods)):\n",
    "\n",
    "    df_FF5_tmp = df_FF5.iloc[i*holding:i*holding+rollingW,:]\n",
    "    df_Ex_SR_tmp = df_Ex_SR_trnct.iloc[i*holding:i*holding+rollingW,:]\n",
    "    \n",
    "    betas = []\n",
    "\n",
    "    for j in df_Ex_SR.columns:\n",
    "        df_index = df_Ex_SR_tmp.loc[:,j].dropna().index\n",
    "        \n",
    "        if len(df_index) != 0:\n",
    "            b = list(ols_model.fit(df_FF5_tmp.loc[df_index,:].values, df_Ex_SR_tmp.loc[df_index,j].values).coef_)\n",
    "            b.append(j)\n",
    "            betas.append(b)\n",
    "            \n",
    "    df_betas = pd.DataFrame(np.array(betas)).rename(columns={0:'MKT',1:'SMB',2:'HML',3:'RMW',4:'CMA',5:'stock'}).set_index('stock')    \n",
    "    all_betas.append(df_betas)\n"
   ]
  },
  {
   "cell_type": "code",
   "execution_count": 77,
   "metadata": {
    "scrolled": true
   },
   "outputs": [
    {
     "data": {
      "text/html": [
       "<div>\n",
       "<style scoped>\n",
       "    .dataframe tbody tr th:only-of-type {\n",
       "        vertical-align: middle;\n",
       "    }\n",
       "\n",
       "    .dataframe tbody tr th {\n",
       "        vertical-align: top;\n",
       "    }\n",
       "\n",
       "    .dataframe thead th {\n",
       "        text-align: right;\n",
       "    }\n",
       "</style>\n",
       "<table border=\"1\" class=\"dataframe\">\n",
       "  <thead>\n",
       "    <tr style=\"text-align: right;\">\n",
       "      <th></th>\n",
       "      <th>MKT</th>\n",
       "      <th>SMB</th>\n",
       "      <th>HML</th>\n",
       "      <th>RMW</th>\n",
       "      <th>CMA</th>\n",
       "    </tr>\n",
       "    <tr>\n",
       "      <th>stock</th>\n",
       "      <th></th>\n",
       "      <th></th>\n",
       "      <th></th>\n",
       "      <th></th>\n",
       "      <th></th>\n",
       "    </tr>\n",
       "  </thead>\n",
       "  <tbody>\n",
       "    <tr>\n",
       "      <th>FDS.SJ.Equity</th>\n",
       "      <td>0.21594264102098834</td>\n",
       "      <td>-0.26365301195099544</td>\n",
       "      <td>-0.15474269947945266</td>\n",
       "      <td>0.06449239226592982</td>\n",
       "      <td>-0.733818752778601</td>\n",
       "    </tr>\n",
       "    <tr>\n",
       "      <th>MOZ.SJ.Equity</th>\n",
       "      <td>0.3567148744111223</td>\n",
       "      <td>-1.1407355303866715</td>\n",
       "      <td>-0.26624992335694897</td>\n",
       "      <td>-0.46973897280632726</td>\n",
       "      <td>0.13455746395747728</td>\n",
       "    </tr>\n",
       "    <tr>\n",
       "      <th>MTN.SJ.Equity</th>\n",
       "      <td>0.5385334266557813</td>\n",
       "      <td>-1.2596571699238706</td>\n",
       "      <td>-0.03867049865215673</td>\n",
       "      <td>-0.07861584975846897</td>\n",
       "      <td>-0.21640578514747963</td>\n",
       "    </tr>\n",
       "    <tr>\n",
       "      <th>TRT.SJ.Equity</th>\n",
       "      <td>0.39773876018490356</td>\n",
       "      <td>0.8228095450977866</td>\n",
       "      <td>0.47128387465798915</td>\n",
       "      <td>0.38679539906786753</td>\n",
       "      <td>-0.7008336739851152</td>\n",
       "    </tr>\n",
       "    <tr>\n",
       "      <th>AEG.SJ.Equity</th>\n",
       "      <td>0.2664837466811016</td>\n",
       "      <td>-0.093139172897612</td>\n",
       "      <td>0.014010569670607449</td>\n",
       "      <td>-0.3348346930264554</td>\n",
       "      <td>-0.22855322146509105</td>\n",
       "    </tr>\n",
       "    <tr>\n",
       "      <th>...</th>\n",
       "      <td>...</td>\n",
       "      <td>...</td>\n",
       "      <td>...</td>\n",
       "      <td>...</td>\n",
       "      <td>...</td>\n",
       "    </tr>\n",
       "    <tr>\n",
       "      <th>CHE.SJ.Equity</th>\n",
       "      <td>0.09277949691567697</td>\n",
       "      <td>0.19514050786355222</td>\n",
       "      <td>0.07443424189179781</td>\n",
       "      <td>-0.03746204340522412</td>\n",
       "      <td>-0.23471649085733015</td>\n",
       "    </tr>\n",
       "    <tr>\n",
       "      <th>JCG.SJ.Equity</th>\n",
       "      <td>0.10013197038212897</td>\n",
       "      <td>0.12032503174862093</td>\n",
       "      <td>-0.33902235920377743</td>\n",
       "      <td>-0.24517513025441123</td>\n",
       "      <td>0.6953659671618272</td>\n",
       "    </tr>\n",
       "    <tr>\n",
       "      <th>CRM.SJ.Equity</th>\n",
       "      <td>0.06397657938958827</td>\n",
       "      <td>0.10095118120072953</td>\n",
       "      <td>-0.05869801093783745</td>\n",
       "      <td>0.042567506120066184</td>\n",
       "      <td>-0.07894489270300882</td>\n",
       "    </tr>\n",
       "    <tr>\n",
       "      <th>CLE.SJ.Equity</th>\n",
       "      <td>0.07273293650832194</td>\n",
       "      <td>0.1268421246515941</td>\n",
       "      <td>-0.15821236404628308</td>\n",
       "      <td>0.01757411369442965</td>\n",
       "      <td>-0.2863258300137765</td>\n",
       "    </tr>\n",
       "    <tr>\n",
       "      <th>WES.SJ.Equity</th>\n",
       "      <td>-0.10925597035011188</td>\n",
       "      <td>-0.16084418028738662</td>\n",
       "      <td>-0.18962302646990786</td>\n",
       "      <td>-0.05841226023418728</td>\n",
       "      <td>0.056387993851078774</td>\n",
       "    </tr>\n",
       "  </tbody>\n",
       "</table>\n",
       "<p>200 rows × 5 columns</p>\n",
       "</div>"
      ],
      "text/plain": [
       "                                MKT                   SMB  \\\n",
       "stock                                                       \n",
       "FDS.SJ.Equity   0.21594264102098834  -0.26365301195099544   \n",
       "MOZ.SJ.Equity    0.3567148744111223   -1.1407355303866715   \n",
       "MTN.SJ.Equity    0.5385334266557813   -1.2596571699238706   \n",
       "TRT.SJ.Equity   0.39773876018490356    0.8228095450977866   \n",
       "AEG.SJ.Equity    0.2664837466811016    -0.093139172897612   \n",
       "...                             ...                   ...   \n",
       "CHE.SJ.Equity   0.09277949691567697   0.19514050786355222   \n",
       "JCG.SJ.Equity   0.10013197038212897   0.12032503174862093   \n",
       "CRM.SJ.Equity   0.06397657938958827   0.10095118120072953   \n",
       "CLE.SJ.Equity   0.07273293650832194    0.1268421246515941   \n",
       "WES.SJ.Equity  -0.10925597035011188  -0.16084418028738662   \n",
       "\n",
       "                                HML                   RMW  \\\n",
       "stock                                                       \n",
       "FDS.SJ.Equity  -0.15474269947945266   0.06449239226592982   \n",
       "MOZ.SJ.Equity  -0.26624992335694897  -0.46973897280632726   \n",
       "MTN.SJ.Equity  -0.03867049865215673  -0.07861584975846897   \n",
       "TRT.SJ.Equity   0.47128387465798915   0.38679539906786753   \n",
       "AEG.SJ.Equity  0.014010569670607449   -0.3348346930264554   \n",
       "...                             ...                   ...   \n",
       "CHE.SJ.Equity   0.07443424189179781  -0.03746204340522412   \n",
       "JCG.SJ.Equity  -0.33902235920377743  -0.24517513025441123   \n",
       "CRM.SJ.Equity  -0.05869801093783745  0.042567506120066184   \n",
       "CLE.SJ.Equity  -0.15821236404628308   0.01757411369442965   \n",
       "WES.SJ.Equity  -0.18962302646990786  -0.05841226023418728   \n",
       "\n",
       "                                CMA  \n",
       "stock                                \n",
       "FDS.SJ.Equity    -0.733818752778601  \n",
       "MOZ.SJ.Equity   0.13455746395747728  \n",
       "MTN.SJ.Equity  -0.21640578514747963  \n",
       "TRT.SJ.Equity   -0.7008336739851152  \n",
       "AEG.SJ.Equity  -0.22855322146509105  \n",
       "...                             ...  \n",
       "CHE.SJ.Equity  -0.23471649085733015  \n",
       "JCG.SJ.Equity    0.6953659671618272  \n",
       "CRM.SJ.Equity  -0.07894489270300882  \n",
       "CLE.SJ.Equity   -0.2863258300137765  \n",
       "WES.SJ.Equity  0.056387993851078774  \n",
       "\n",
       "[200 rows x 5 columns]"
      ]
     },
     "execution_count": 77,
     "metadata": {},
     "output_type": "execute_result"
    }
   ],
   "source": [
    "all_betas[0]"
   ]
  },
  {
   "cell_type": "code",
   "execution_count": 78,
   "metadata": {},
   "outputs": [
    {
     "name": "stderr",
     "output_type": "stream",
     "text": [
      "100%|██████████| 3969/3969 [00:08<00:00, 489.26it/s]\n"
     ]
    }
   ],
   "source": [
    "all_lambdas = []\n",
    "all_intercepts = []\n",
    "\n",
    "df_Ex_SR_tmp_T = df_Ex_SR_trnct.iloc[rollingW:rollingW+periods*holding,:].T\n",
    "\n",
    "lambdas = []\n",
    "intercepts = []\n",
    "index_times = list(df_Ex_SR_tmp_T.columns)\n",
    "\n",
    "for k in tqdm(df_Ex_SR_tmp_T.columns):\n",
    "    \n",
    "    i = int(index_times.index(k) / holding)\n",
    "\n",
    "    df_return = df_Ex_SR_tmp_T.loc[all_betas[i].index,k].dropna()\n",
    "    df_index = df_return.index\n",
    "    \n",
    "    if len(df_index) != 0:\n",
    "        l = list(ols_model.fit(all_betas[i].loc[df_index,:].values, df_return.values).coef_)\n",
    "        h = ols_model.fit(all_betas[i].loc[df_index,:].values, df_return.values).intercept_\n",
    "        lambdas.append(l)\n",
    "        intercepts.append(h)\n",
    "        \n",
    "all_lambdas.append(pd.DataFrame(lambdas))\n",
    "all_intercepts.append(pd.DataFrame(intercepts))"
   ]
  },
  {
   "cell_type": "code",
   "execution_count": 79,
   "metadata": {},
   "outputs": [
    {
     "data": {
      "text/html": [
       "<div>\n",
       "<style scoped>\n",
       "    .dataframe tbody tr th:only-of-type {\n",
       "        vertical-align: middle;\n",
       "    }\n",
       "\n",
       "    .dataframe tbody tr th {\n",
       "        vertical-align: top;\n",
       "    }\n",
       "\n",
       "    .dataframe thead th {\n",
       "        text-align: right;\n",
       "    }\n",
       "</style>\n",
       "<table border=\"1\" class=\"dataframe\">\n",
       "  <thead>\n",
       "    <tr style=\"text-align: right;\">\n",
       "      <th></th>\n",
       "      <th>MKT</th>\n",
       "      <th>SMB</th>\n",
       "      <th>HML</th>\n",
       "      <th>RMW</th>\n",
       "      <th>CMA</th>\n",
       "    </tr>\n",
       "  </thead>\n",
       "  <tbody>\n",
       "    <tr>\n",
       "      <th>0</th>\n",
       "      <td>0.004841</td>\n",
       "      <td>0.019025</td>\n",
       "      <td>0.003580</td>\n",
       "      <td>-0.013258</td>\n",
       "      <td>0.027418</td>\n",
       "    </tr>\n",
       "    <tr>\n",
       "      <th>1</th>\n",
       "      <td>0.007902</td>\n",
       "      <td>-0.009573</td>\n",
       "      <td>-0.010646</td>\n",
       "      <td>0.020359</td>\n",
       "      <td>-0.019369</td>\n",
       "    </tr>\n",
       "    <tr>\n",
       "      <th>2</th>\n",
       "      <td>-0.002017</td>\n",
       "      <td>-0.002292</td>\n",
       "      <td>-0.003517</td>\n",
       "      <td>-0.000169</td>\n",
       "      <td>-0.011087</td>\n",
       "    </tr>\n",
       "    <tr>\n",
       "      <th>3</th>\n",
       "      <td>-0.010529</td>\n",
       "      <td>-0.007551</td>\n",
       "      <td>0.019799</td>\n",
       "      <td>-0.013404</td>\n",
       "      <td>0.005410</td>\n",
       "    </tr>\n",
       "    <tr>\n",
       "      <th>4</th>\n",
       "      <td>0.009562</td>\n",
       "      <td>-0.008857</td>\n",
       "      <td>-0.014598</td>\n",
       "      <td>0.033373</td>\n",
       "      <td>-0.023970</td>\n",
       "    </tr>\n",
       "    <tr>\n",
       "      <th>...</th>\n",
       "      <td>...</td>\n",
       "      <td>...</td>\n",
       "      <td>...</td>\n",
       "      <td>...</td>\n",
       "      <td>...</td>\n",
       "    </tr>\n",
       "    <tr>\n",
       "      <th>3964</th>\n",
       "      <td>0.010772</td>\n",
       "      <td>-0.019225</td>\n",
       "      <td>-0.013925</td>\n",
       "      <td>-0.001462</td>\n",
       "      <td>0.000805</td>\n",
       "    </tr>\n",
       "    <tr>\n",
       "      <th>3965</th>\n",
       "      <td>-0.013836</td>\n",
       "      <td>-0.004854</td>\n",
       "      <td>0.011781</td>\n",
       "      <td>0.004009</td>\n",
       "      <td>0.011121</td>\n",
       "    </tr>\n",
       "    <tr>\n",
       "      <th>3966</th>\n",
       "      <td>-0.000024</td>\n",
       "      <td>0.014058</td>\n",
       "      <td>0.003850</td>\n",
       "      <td>-0.005597</td>\n",
       "      <td>0.009667</td>\n",
       "    </tr>\n",
       "    <tr>\n",
       "      <th>3967</th>\n",
       "      <td>-0.003915</td>\n",
       "      <td>-0.011756</td>\n",
       "      <td>0.002375</td>\n",
       "      <td>0.015650</td>\n",
       "      <td>0.000378</td>\n",
       "    </tr>\n",
       "    <tr>\n",
       "      <th>3968</th>\n",
       "      <td>-0.015183</td>\n",
       "      <td>-0.000912</td>\n",
       "      <td>0.028255</td>\n",
       "      <td>-0.012750</td>\n",
       "      <td>0.027706</td>\n",
       "    </tr>\n",
       "  </tbody>\n",
       "</table>\n",
       "<p>3969 rows × 5 columns</p>\n",
       "</div>"
      ],
      "text/plain": [
       "           MKT       SMB       HML       RMW       CMA\n",
       "0     0.004841  0.019025  0.003580 -0.013258  0.027418\n",
       "1     0.007902 -0.009573 -0.010646  0.020359 -0.019369\n",
       "2    -0.002017 -0.002292 -0.003517 -0.000169 -0.011087\n",
       "3    -0.010529 -0.007551  0.019799 -0.013404  0.005410\n",
       "4     0.009562 -0.008857 -0.014598  0.033373 -0.023970\n",
       "...        ...       ...       ...       ...       ...\n",
       "3964  0.010772 -0.019225 -0.013925 -0.001462  0.000805\n",
       "3965 -0.013836 -0.004854  0.011781  0.004009  0.011121\n",
       "3966 -0.000024  0.014058  0.003850 -0.005597  0.009667\n",
       "3967 -0.003915 -0.011756  0.002375  0.015650  0.000378\n",
       "3968 -0.015183 -0.000912  0.028255 -0.012750  0.027706\n",
       "\n",
       "[3969 rows x 5 columns]"
      ]
     },
     "execution_count": 79,
     "metadata": {},
     "output_type": "execute_result"
    }
   ],
   "source": [
    "all_lambdas[0].rename(columns={0:'MKT',1:'SMB',2:'HML',3:'RMW',4:'CMA'})"
   ]
  },
  {
   "cell_type": "code",
   "execution_count": 80,
   "metadata": {},
   "outputs": [
    {
     "data": {
      "text/plain": [
       "0    0.099596\n",
       "dtype: float64"
      ]
     },
     "execution_count": 80,
     "metadata": {},
     "output_type": "execute_result"
    }
   ],
   "source": [
    "np.mean(all_intercepts[0], axis = 0)*21*100"
   ]
  },
  {
   "cell_type": "code",
   "execution_count": 81,
   "metadata": {},
   "outputs": [
    {
     "name": "stderr",
     "output_type": "stream",
     "text": [
      "/Users/runxinlin/opt/anaconda3/lib/python3.8/site-packages/numpy/core/fromnumeric.py:3438: FutureWarning: In a future version, DataFrame.mean(axis=None) will return a scalar mean over the entire DataFrame. To retain the old behavior, use 'frame.mean(axis=0)' or just 'frame.mean()'\n",
      "  return mean(axis=axis, dtype=dtype, out=out, **kwargs)\n"
     ]
    },
    {
     "data": {
      "text/plain": [
       "0   -0.415490\n",
       "1   -0.053654\n",
       "2    0.290036\n",
       "3    0.333198\n",
       "4    0.154152\n",
       "dtype: float64"
      ]
     },
     "execution_count": 81,
     "metadata": {},
     "output_type": "execute_result"
    }
   ],
   "source": [
    "np.mean(all_lambdas[0])*21*100"
   ]
  },
  {
   "cell_type": "code",
   "execution_count": 82,
   "metadata": {
    "scrolled": true
   },
   "outputs": [
    {
     "data": {
      "text/plain": [
       "array([0.84058529])"
      ]
     },
     "execution_count": 82,
     "metadata": {},
     "output_type": "execute_result"
    }
   ],
   "source": [
    "stats.ttest_1samp(all_intercepts[0], 0.0)[0]"
   ]
  },
  {
   "cell_type": "code",
   "execution_count": 83,
   "metadata": {
    "scrolled": false
   },
   "outputs": [
    {
     "data": {
      "text/plain": [
       "array([-0.9580704 , -0.19496849,  0.96641119,  0.94372652,  0.39466475])"
      ]
     },
     "execution_count": 83,
     "metadata": {},
     "output_type": "execute_result"
    }
   ],
   "source": [
    "stats.ttest_1samp(all_lambdas[0], 0.0)[0]"
   ]
  },
  {
   "cell_type": "code",
   "execution_count": 84,
   "metadata": {},
   "outputs": [
    {
     "data": {
      "text/plain": [
       "array([0.48710959])"
      ]
     },
     "execution_count": 84,
     "metadata": {},
     "output_type": "execute_result"
    }
   ],
   "source": [
    "all_intercepts[0].apply(lambda x: NW_ttest(ret = x, h0=0), axis=0).values"
   ]
  },
  {
   "cell_type": "code",
   "execution_count": 85,
   "metadata": {
    "scrolled": true
   },
   "outputs": [
    {
     "data": {
      "text/plain": [
       "array([-0.58446029, -0.12611289,  0.62517794,  0.60582779,  0.25863726])"
      ]
     },
     "execution_count": 85,
     "metadata": {},
     "output_type": "execute_result"
    }
   ],
   "source": [
    "## Newey-West t-test \n",
    "all_lambdas[0].apply(lambda x: NW_ttest(ret = x, h0=0), axis=0).values"
   ]
  },
  {
   "cell_type": "markdown",
   "metadata": {},
   "source": [
    "### —Adding Control Variables"
   ]
  },
  {
   "cell_type": "code",
   "execution_count": 86,
   "metadata": {},
   "outputs": [],
   "source": [
    "df_OP_trnct = df_OP.loc[df_FF5.index,:]\n",
    "df_INV_trnct = df_INV.loc[df_FF5.index,:]"
   ]
  },
  {
   "cell_type": "code",
   "execution_count": 87,
   "metadata": {
    "scrolled": false
   },
   "outputs": [
    {
     "data": {
      "text/plain": [
       "True"
      ]
     },
     "execution_count": 87,
     "metadata": {},
     "output_type": "execute_result"
    }
   ],
   "source": [
    "len(df_ln_Size_trnct)==len(df_PE_trnct)==len(df_Ex_SR_trnct)==len(df_OP_trnct)==len(df_INV_trnct)==len(df_FF5)"
   ]
  },
  {
   "cell_type": "code",
   "execution_count": 88,
   "metadata": {},
   "outputs": [],
   "source": [
    "Gap = 21"
   ]
  },
  {
   "cell_type": "code",
   "execution_count": 89,
   "metadata": {
    "scrolled": true
   },
   "outputs": [
    {
     "name": "stderr",
     "output_type": "stream",
     "text": [
      "100%|██████████| 3948/3948 [00:23<00:00, 168.50it/s]\n"
     ]
    }
   ],
   "source": [
    "all_lambdas = []\n",
    "all_intercepts = []\n",
    "\n",
    "\n",
    "df_Ex_SR_tmp_T = df_Ex_SR_trnct.iloc[rollingW:rollingW+periods*holding,:].T\n",
    "df_ln_Size_tmp_T = df_ln_Size_trnct.iloc[rollingW:rollingW+periods*holding,:].T\n",
    "df_PE_tmp_T = df_PE_trnct.iloc[rollingW:rollingW+periods*holding,:].T\n",
    "df_OP_tmp_T = df_OP_trnct.iloc[rollingW:rollingW+periods*holding,:].T\n",
    "df_INV_tmp_T = df_INV_trnct.iloc[rollingW:rollingW+periods*holding,:].T\n",
    "\n",
    "lambdas = []\n",
    "intercepts = []\n",
    "index_times = list(df_Ex_SR_tmp_T.columns)\n",
    "\n",
    "# If Gap >0, the following should be 'for k in tqdm(df_Ex_SR_tmp_T.columns[:-Gap]):''\n",
    "for k in tqdm(df_Ex_SR_tmp_T.columns[:-Gap]):\n",
    "    # k is time t in 3885 days\n",
    "    i = int(index_times.index(k) / holding)\n",
    "    # i is time T in 185 periods\n",
    "    \n",
    "    df_index = ((((all_betas[i].index).intersection(df_ln_Size_tmp_T.loc[:,k].replace(-np.inf,np.nan).dropna().index).\\\n",
    "                 intersection(df_PE_tmp_T.loc[:,k].replace(-np.inf,np.nan).dropna().index)).\\\n",
    "                  intersection(df_Ex_SR_tmp_T.loc[:,index_times[index_times.index(k)+Gap]].dropna().index)).\\\n",
    "                   intersection(df_OP_tmp_T.loc[:,k].dropna().index)).\\\n",
    "                    intersection(df_INV_tmp_T.loc[:,k].dropna().index)\n",
    "    \n",
    "    if len(df_index) != 0:\n",
    "        \n",
    "        l = list(ols_model.fit((pd.concat([all_betas[i].loc[df_index,:], df_ln_Size_tmp_T.loc[df_index,k],\\\n",
    "                                           df_PE_tmp_T.loc[df_index,k], df_OP_tmp_T.loc[df_index,k],\\\n",
    "                                           df_INV_tmp_T.loc[df_index,k]],axis = 1).values), \\\n",
    "                               (df_Ex_SR_tmp_T.loc[df_index,index_times[index_times.index(k)+Gap]].values)).coef_)\n",
    "        \n",
    "        h = ols_model.fit((pd.concat([all_betas[i].loc[df_index,:], df_ln_Size_tmp_T.loc[df_index,k],\\\n",
    "                                           df_PE_tmp_T.loc[df_index,k], df_OP_tmp_T.loc[df_index,k],\\\n",
    "                                           df_INV_tmp_T.loc[df_index,k]],axis = 1).values), \\\n",
    "                               (df_Ex_SR_tmp_T.loc[df_index,index_times[index_times.index(k)+Gap]].values)).intercept_\n",
    "        \n",
    "        lambdas.append(l)\n",
    "        intercepts.append(h)\n",
    "        \n",
    "all_lambdas.append(pd.DataFrame(lambdas))\n",
    "all_intercepts.append(pd.DataFrame(intercepts))"
   ]
  },
  {
   "cell_type": "code",
   "execution_count": 90,
   "metadata": {
    "scrolled": false
   },
   "outputs": [
    {
     "data": {
      "text/html": [
       "<div>\n",
       "<style scoped>\n",
       "    .dataframe tbody tr th:only-of-type {\n",
       "        vertical-align: middle;\n",
       "    }\n",
       "\n",
       "    .dataframe tbody tr th {\n",
       "        vertical-align: top;\n",
       "    }\n",
       "\n",
       "    .dataframe thead th {\n",
       "        text-align: right;\n",
       "    }\n",
       "</style>\n",
       "<table border=\"1\" class=\"dataframe\">\n",
       "  <thead>\n",
       "    <tr style=\"text-align: right;\">\n",
       "      <th></th>\n",
       "      <th>MKT</th>\n",
       "      <th>SMB</th>\n",
       "      <th>HML</th>\n",
       "      <th>RMW</th>\n",
       "      <th>CMA</th>\n",
       "      <th>Size</th>\n",
       "      <th>PE</th>\n",
       "      <th>OP</th>\n",
       "      <th>INV</th>\n",
       "    </tr>\n",
       "  </thead>\n",
       "  <tbody>\n",
       "    <tr>\n",
       "      <th>0</th>\n",
       "      <td>-0.006739</td>\n",
       "      <td>0.004048</td>\n",
       "      <td>-0.000273</td>\n",
       "      <td>0.003712</td>\n",
       "      <td>0.001711</td>\n",
       "      <td>0.000309</td>\n",
       "      <td>0.003726</td>\n",
       "      <td>0.000033</td>\n",
       "      <td>-0.000115</td>\n",
       "    </tr>\n",
       "    <tr>\n",
       "      <th>1</th>\n",
       "      <td>0.005525</td>\n",
       "      <td>-0.004915</td>\n",
       "      <td>-0.005742</td>\n",
       "      <td>-0.003951</td>\n",
       "      <td>-0.003126</td>\n",
       "      <td>0.001862</td>\n",
       "      <td>-0.000911</td>\n",
       "      <td>0.004431</td>\n",
       "      <td>-0.007176</td>\n",
       "    </tr>\n",
       "    <tr>\n",
       "      <th>2</th>\n",
       "      <td>0.000000</td>\n",
       "      <td>0.000000</td>\n",
       "      <td>0.000000</td>\n",
       "      <td>0.000000</td>\n",
       "      <td>0.000000</td>\n",
       "      <td>0.000000</td>\n",
       "      <td>0.000000</td>\n",
       "      <td>0.000000</td>\n",
       "      <td>0.000000</td>\n",
       "    </tr>\n",
       "    <tr>\n",
       "      <th>3</th>\n",
       "      <td>-0.013207</td>\n",
       "      <td>0.016723</td>\n",
       "      <td>0.012691</td>\n",
       "      <td>0.023139</td>\n",
       "      <td>-0.007734</td>\n",
       "      <td>0.009477</td>\n",
       "      <td>-0.005230</td>\n",
       "      <td>-0.017224</td>\n",
       "      <td>-0.004898</td>\n",
       "    </tr>\n",
       "    <tr>\n",
       "      <th>4</th>\n",
       "      <td>-0.000602</td>\n",
       "      <td>-0.013702</td>\n",
       "      <td>-0.002164</td>\n",
       "      <td>-0.019258</td>\n",
       "      <td>0.012822</td>\n",
       "      <td>-0.004541</td>\n",
       "      <td>0.002362</td>\n",
       "      <td>0.017438</td>\n",
       "      <td>0.006125</td>\n",
       "    </tr>\n",
       "    <tr>\n",
       "      <th>...</th>\n",
       "      <td>...</td>\n",
       "      <td>...</td>\n",
       "      <td>...</td>\n",
       "      <td>...</td>\n",
       "      <td>...</td>\n",
       "      <td>...</td>\n",
       "      <td>...</td>\n",
       "      <td>...</td>\n",
       "      <td>...</td>\n",
       "    </tr>\n",
       "    <tr>\n",
       "      <th>3943</th>\n",
       "      <td>-0.012237</td>\n",
       "      <td>-0.014547</td>\n",
       "      <td>0.003047</td>\n",
       "      <td>-0.004095</td>\n",
       "      <td>0.006937</td>\n",
       "      <td>0.006192</td>\n",
       "      <td>-0.001636</td>\n",
       "      <td>0.000692</td>\n",
       "      <td>0.000298</td>\n",
       "    </tr>\n",
       "    <tr>\n",
       "      <th>3944</th>\n",
       "      <td>-0.028670</td>\n",
       "      <td>0.008107</td>\n",
       "      <td>0.012182</td>\n",
       "      <td>0.002217</td>\n",
       "      <td>0.011556</td>\n",
       "      <td>0.009252</td>\n",
       "      <td>0.002554</td>\n",
       "      <td>-0.001434</td>\n",
       "      <td>-0.003836</td>\n",
       "    </tr>\n",
       "    <tr>\n",
       "      <th>3945</th>\n",
       "      <td>0.035655</td>\n",
       "      <td>-0.004751</td>\n",
       "      <td>-0.014623</td>\n",
       "      <td>-0.001076</td>\n",
       "      <td>0.002495</td>\n",
       "      <td>-0.015915</td>\n",
       "      <td>-0.002500</td>\n",
       "      <td>0.001175</td>\n",
       "      <td>-0.000417</td>\n",
       "    </tr>\n",
       "    <tr>\n",
       "      <th>3946</th>\n",
       "      <td>-0.034110</td>\n",
       "      <td>-0.000918</td>\n",
       "      <td>0.022731</td>\n",
       "      <td>0.009771</td>\n",
       "      <td>0.005393</td>\n",
       "      <td>0.011302</td>\n",
       "      <td>-0.000467</td>\n",
       "      <td>-0.000601</td>\n",
       "      <td>-0.007610</td>\n",
       "    </tr>\n",
       "    <tr>\n",
       "      <th>3947</th>\n",
       "      <td>0.005109</td>\n",
       "      <td>-0.005799</td>\n",
       "      <td>0.008805</td>\n",
       "      <td>-0.009962</td>\n",
       "      <td>0.026754</td>\n",
       "      <td>-0.005423</td>\n",
       "      <td>0.001394</td>\n",
       "      <td>0.002809</td>\n",
       "      <td>-0.000617</td>\n",
       "    </tr>\n",
       "  </tbody>\n",
       "</table>\n",
       "<p>3948 rows × 9 columns</p>\n",
       "</div>"
      ],
      "text/plain": [
       "           MKT       SMB       HML       RMW       CMA      Size        PE  \\\n",
       "0    -0.006739  0.004048 -0.000273  0.003712  0.001711  0.000309  0.003726   \n",
       "1     0.005525 -0.004915 -0.005742 -0.003951 -0.003126  0.001862 -0.000911   \n",
       "2     0.000000  0.000000  0.000000  0.000000  0.000000  0.000000  0.000000   \n",
       "3    -0.013207  0.016723  0.012691  0.023139 -0.007734  0.009477 -0.005230   \n",
       "4    -0.000602 -0.013702 -0.002164 -0.019258  0.012822 -0.004541  0.002362   \n",
       "...        ...       ...       ...       ...       ...       ...       ...   \n",
       "3943 -0.012237 -0.014547  0.003047 -0.004095  0.006937  0.006192 -0.001636   \n",
       "3944 -0.028670  0.008107  0.012182  0.002217  0.011556  0.009252  0.002554   \n",
       "3945  0.035655 -0.004751 -0.014623 -0.001076  0.002495 -0.015915 -0.002500   \n",
       "3946 -0.034110 -0.000918  0.022731  0.009771  0.005393  0.011302 -0.000467   \n",
       "3947  0.005109 -0.005799  0.008805 -0.009962  0.026754 -0.005423  0.001394   \n",
       "\n",
       "            OP       INV  \n",
       "0     0.000033 -0.000115  \n",
       "1     0.004431 -0.007176  \n",
       "2     0.000000  0.000000  \n",
       "3    -0.017224 -0.004898  \n",
       "4     0.017438  0.006125  \n",
       "...        ...       ...  \n",
       "3943  0.000692  0.000298  \n",
       "3944 -0.001434 -0.003836  \n",
       "3945  0.001175 -0.000417  \n",
       "3946 -0.000601 -0.007610  \n",
       "3947  0.002809 -0.000617  \n",
       "\n",
       "[3948 rows x 9 columns]"
      ]
     },
     "execution_count": 90,
     "metadata": {},
     "output_type": "execute_result"
    }
   ],
   "source": [
    "all_lambdas[0].rename(columns={0:'MKT',1:'SMB',2:'HML',3:'RMW',4:'CMA',5:'Size',6:'PE',7:'OP',8:'INV'})"
   ]
  },
  {
   "cell_type": "code",
   "execution_count": 91,
   "metadata": {},
   "outputs": [
    {
     "data": {
      "text/plain": [
       "0    0.045375\n",
       "dtype: float64"
      ]
     },
     "execution_count": 91,
     "metadata": {},
     "output_type": "execute_result"
    }
   ],
   "source": [
    "np.mean(all_intercepts[0], axis = 0)*21*100"
   ]
  },
  {
   "cell_type": "code",
   "execution_count": 92,
   "metadata": {},
   "outputs": [
    {
     "name": "stderr",
     "output_type": "stream",
     "text": [
      "/Users/runxinlin/opt/anaconda3/lib/python3.8/site-packages/numpy/core/fromnumeric.py:3438: FutureWarning: In a future version, DataFrame.mean(axis=None) will return a scalar mean over the entire DataFrame. To retain the old behavior, use 'frame.mean(axis=0)' or just 'frame.mean()'\n",
      "  return mean(axis=axis, dtype=dtype, out=out, **kwargs)\n"
     ]
    },
    {
     "data": {
      "text/plain": [
       "0   -0.342707\n",
       "1    0.105880\n",
       "2    0.428785\n",
       "3    0.107426\n",
       "4    0.295921\n",
       "5    0.176873\n",
       "6   -0.083288\n",
       "7    0.270894\n",
       "8    0.277168\n",
       "dtype: float64"
      ]
     },
     "execution_count": 92,
     "metadata": {},
     "output_type": "execute_result"
    }
   ],
   "source": [
    "np.mean(all_lambdas[0])*21*100"
   ]
  },
  {
   "cell_type": "code",
   "execution_count": 93,
   "metadata": {},
   "outputs": [
    {
     "data": {
      "text/plain": [
       "array([0.36271981])"
      ]
     },
     "execution_count": 93,
     "metadata": {},
     "output_type": "execute_result"
    }
   ],
   "source": [
    "stats.ttest_1samp(all_intercepts[0], 0.0)[0]"
   ]
  },
  {
   "cell_type": "code",
   "execution_count": 94,
   "metadata": {
    "scrolled": true
   },
   "outputs": [
    {
     "data": {
      "text/plain": [
       "array([-0.70104045,  0.28243647,  0.84589056,  0.30144464,  0.58326256,\n",
       "        1.08479107, -1.38725778,  2.34160821,  2.15841627])"
      ]
     },
     "execution_count": 94,
     "metadata": {},
     "output_type": "execute_result"
    }
   ],
   "source": [
    "stats.ttest_1samp(all_lambdas[0], 0.0)[0]"
   ]
  },
  {
   "cell_type": "code",
   "execution_count": 95,
   "metadata": {
    "scrolled": true
   },
   "outputs": [
    {
     "data": {
      "text/plain": [
       "array([-0.43273271,  0.18666049,  0.5683471 ,  0.19296423,  0.38977885,\n",
       "        0.70888499, -0.87606561,  1.54399394,  1.38705367])"
      ]
     },
     "execution_count": 95,
     "metadata": {},
     "output_type": "execute_result"
    }
   ],
   "source": [
    "all_lambdas[0].apply(lambda x: NW_ttest(ret = x, h0=0), axis=0).values "
   ]
  },
  {
   "cell_type": "code",
   "execution_count": 96,
   "metadata": {
    "scrolled": true
   },
   "outputs": [
    {
     "data": {
      "text/plain": [
       "array([0.21081816])"
      ]
     },
     "execution_count": 96,
     "metadata": {},
     "output_type": "execute_result"
    }
   ],
   "source": [
    "all_intercepts[0].apply(lambda x: NW_ttest(ret = x, h0=0), axis=0).values"
   ]
  }
 ],
 "metadata": {
  "interpreter": {
   "hash": "69d8a1c8da2120c547dc6be546b5e615f27ec597372f3fd7b53ede26964dbf96"
  },
  "kernelspec": {
   "display_name": "Python 3",
   "language": "python",
   "name": "python3"
  },
  "language_info": {
   "codemirror_mode": {
    "name": "ipython",
    "version": 3
   },
   "file_extension": ".py",
   "mimetype": "text/x-python",
   "name": "python",
   "nbconvert_exporter": "python",
   "pygments_lexer": "ipython3",
   "version": "3.8.13"
  },
  "toc": {
   "base_numbering": 1,
   "nav_menu": {
    "height": "164.993px",
    "width": "293.026px"
   },
   "number_sections": true,
   "sideBar": true,
   "skip_h1_title": false,
   "title_cell": "Table of Contents",
   "title_sidebar": "Contents",
   "toc_cell": false,
   "toc_position": {},
   "toc_section_display": true,
   "toc_window_display": false
  }
 },
 "nbformat": 4,
 "nbformat_minor": 2
}
