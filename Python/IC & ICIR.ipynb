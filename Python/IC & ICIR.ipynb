{
 "cells": [
  {
   "cell_type": "markdown",
   "id": "a4342807",
   "metadata": {},
   "source": [
    "## Compare IC/ICIR of time-series betas and firm characteristics"
   ]
  },
  {
   "cell_type": "code",
   "execution_count": 1,
   "id": "9dda211c",
   "metadata": {},
   "outputs": [],
   "source": [
    "import pandas as pd\n",
    "import numpy as np\n",
    "from scipy import stats\n",
    "from tqdm import tqdm\n",
    "from sklearn.linear_model import LinearRegression\n",
    "import matplotlib.pyplot as plt\n",
    "import matplotlib.dates as mdates\n",
    "from scipy.stats.mstats import spearmanr"
   ]
  },
  {
   "cell_type": "code",
   "execution_count": 2,
   "id": "393cf28a",
   "metadata": {},
   "outputs": [],
   "source": [
    "df_FF5 = pd.read_csv('df_FF5.csv')"
   ]
  },
  {
   "cell_type": "code",
   "execution_count": 3,
   "id": "a5509b1f",
   "metadata": {},
   "outputs": [],
   "source": [
    "df_FF5.Dates = df_FF5.Dates.apply(lambda x:x[:10])"
   ]
  },
  {
   "cell_type": "code",
   "execution_count": 4,
   "id": "43365190",
   "metadata": {},
   "outputs": [],
   "source": [
    "df_FF5.set_index('Dates',inplace=True)"
   ]
  },
  {
   "cell_type": "code",
   "execution_count": 5,
   "id": "0bbd220a",
   "metadata": {},
   "outputs": [],
   "source": [
    "df_RF = pd.read_csv('df_RF.csv',index_col=0)\n",
    "df_SR = pd.read_csv('df_SR.csv',index_col=0)\n",
    "df_SR.index = df_SR.index.to_series().apply(lambda x:x[:10])"
   ]
  },
  {
   "cell_type": "code",
   "execution_count": 6,
   "id": "c6926ff1",
   "metadata": {},
   "outputs": [],
   "source": [
    "# df_SR = df_SR.replace(0,np.nan)"
   ]
  },
  {
   "cell_type": "code",
   "execution_count": 7,
   "id": "bc81c98f",
   "metadata": {},
   "outputs": [],
   "source": [
    "df_Ex_SR = df_SR-df_RF.values"
   ]
  },
  {
   "cell_type": "code",
   "execution_count": 8,
   "id": "0a100bd7",
   "metadata": {},
   "outputs": [],
   "source": [
    "df_Ex_SR = df_Ex_SR.loc[df_FF5.index,:]"
   ]
  },
  {
   "cell_type": "code",
   "execution_count": 9,
   "id": "28bb3943",
   "metadata": {},
   "outputs": [],
   "source": [
    "df_OP = pd.read_csv('df_std_OP.csv')\n",
    "\n",
    "df_INV = pd.read_csv('df_std_INV.csv')\n",
    "\n",
    "df_OP.Dates = df_OP.Dates.apply(lambda x:x[:10])\n",
    "\n",
    "df_OP.set_index('Dates',inplace=True)\n",
    "\n",
    "df_INV.Dates = df_INV.Dates.apply(lambda x:x[:10])\n",
    "\n",
    "df_INV.set_index('Dates',inplace=True)"
   ]
  },
  {
   "cell_type": "code",
   "execution_count": 10,
   "id": "00aab53e",
   "metadata": {},
   "outputs": [],
   "source": [
    "df_ln_Size = pd.read_csv('df_ln_Size.csv')\n",
    "\n",
    "df_PE = pd.read_csv('df_std_PE.csv')\n",
    "\n",
    "df_ln_Size.Dates = df_ln_Size.Dates.apply(lambda x:x[:10])\n",
    "\n",
    "df_ln_Size.set_index('Dates',inplace=True)\n",
    "\n",
    "df_PE.Dates = df_PE.Dates.apply(lambda x:x[:10])\n",
    "\n",
    "df_PE.set_index('Dates',inplace=True)"
   ]
  },
  {
   "cell_type": "code",
   "execution_count": 11,
   "id": "878e088c",
   "metadata": {},
   "outputs": [],
   "source": [
    "df_ln_Size = df_ln_Size.loc[df_Ex_SR.index,:]"
   ]
  },
  {
   "cell_type": "code",
   "execution_count": 12,
   "id": "007fb65c",
   "metadata": {},
   "outputs": [],
   "source": [
    "df_PE = df_PE.loc[df_Ex_SR.index,:]"
   ]
  },
  {
   "cell_type": "code",
   "execution_count": 13,
   "id": "0e0a3412",
   "metadata": {},
   "outputs": [],
   "source": [
    "df_OP = df_OP.loc[df_Ex_SR.index,:]"
   ]
  },
  {
   "cell_type": "code",
   "execution_count": 14,
   "id": "7b24ab30",
   "metadata": {},
   "outputs": [],
   "source": [
    "df_INV = df_INV.loc[df_Ex_SR.index,:]"
   ]
  },
  {
   "cell_type": "code",
   "execution_count": 15,
   "id": "7ef4c006",
   "metadata": {
    "scrolled": true
   },
   "outputs": [
    {
     "data": {
      "text/plain": [
       "True"
      ]
     },
     "execution_count": 15,
     "metadata": {},
     "output_type": "execute_result"
    }
   ],
   "source": [
    "len(df_ln_Size)==len(df_PE)==len(df_Ex_SR)==len(df_OP)==len(df_INV)"
   ]
  },
  {
   "cell_type": "code",
   "execution_count": 16,
   "id": "0000464c",
   "metadata": {},
   "outputs": [],
   "source": [
    "## Firm characteristics are lagged for 1 month, to show its predicting ability towards stock returns \n",
    "Gap = 21\n",
    "\n",
    "n = 3\n",
    "holding = 21\n",
    "rollingW = holding * n *12\n",
    "lens = len(df_FF5)\n",
    "periods = int((lens - rollingW) / holding) - 1"
   ]
  },
  {
   "cell_type": "code",
   "execution_count": 17,
   "id": "962b6517",
   "metadata": {},
   "outputs": [],
   "source": [
    "ols_model = LinearRegression()"
   ]
  },
  {
   "cell_type": "code",
   "execution_count": 18,
   "id": "6a14d936",
   "metadata": {},
   "outputs": [
    {
     "name": "stderr",
     "output_type": "stream",
     "text": [
      "100%|██████████| 189/189 [02:11<00:00,  1.44it/s]\n"
     ]
    }
   ],
   "source": [
    "all_betas = []\n",
    "# i is time\n",
    "for i in tqdm(range(periods)):\n",
    "\n",
    "    df_FF5_tmp = df_FF5.iloc[i*holding:i*holding+rollingW,:]\n",
    "    df_Ex_SR_tmp = df_Ex_SR.iloc[i*holding:i*holding+rollingW,:]\n",
    "    \n",
    "    betas = []\n",
    "    # j is stock\n",
    "    for j in df_Ex_SR.columns:\n",
    "        df_index = df_Ex_SR_tmp.loc[:,j].dropna().index\n",
    "        \n",
    "        if len(df_index) != 0:\n",
    "            b = list(ols_model.fit(df_FF5_tmp.loc[df_index,:].values, df_Ex_SR_tmp.loc[df_index,j].values).coef_)\n",
    "            b.append(j)\n",
    "            betas.append(b)\n",
    "    df_betas = pd.DataFrame(np.array(betas)).rename(columns={0:'MKT',1:'SMB',2:'HML',3:'RMW',4:'CMA',5:'stock'}).set_index('stock')\n",
    "    \n",
    "    all_betas.append(df_betas)\n"
   ]
  },
  {
   "cell_type": "code",
   "execution_count": 19,
   "id": "8dcd9a92",
   "metadata": {
    "scrolled": false
   },
   "outputs": [
    {
     "name": "stderr",
     "output_type": "stream",
     "text": [
      "100%|██████████| 3948/3948 [00:59<00:00, 65.80it/s]\n"
     ]
    }
   ],
   "source": [
    "IC_Series = pd.DataFrame()\n",
    "k_index = []\n",
    "\n",
    "df_Ex_SR_tmp_T = df_Ex_SR.iloc[rollingW:rollingW+periods*holding,:].T\n",
    "df_ln_Size_tmp_T = df_ln_Size.iloc[rollingW:rollingW+periods*holding,:].T\n",
    "df_PE_tmp_T = df_PE.iloc[rollingW:rollingW+periods*holding,:].T\n",
    "df_OP_tmp_T = df_OP.iloc[rollingW:rollingW+periods*holding,:].T\n",
    "df_INV_tmp_T = df_INV.iloc[rollingW:rollingW+periods*holding,:].T\n",
    "\n",
    "index_times = list(df_Ex_SR_tmp_T.columns)\n",
    " \n",
    "for k in tqdm(df_Ex_SR_tmp_T.columns[:-Gap]):\n",
    "    IC = []\n",
    "\n",
    "    i = int(index_times.index(k) / holding)\n",
    "\n",
    "    df_index = (((((all_betas[i].index).intersection(df_ln_Size_tmp_T.loc[:,k].replace(-np.inf,np.nan).dropna().index).\\\n",
    "                    intersection(df_PE_tmp_T.loc[:,k].replace(-np.inf,np.nan).dropna().index)).\\\n",
    "                    intersection(df_Ex_SR_tmp_T.loc[:,index_times[index_times.index(k)+Gap]].dropna().index)).\\\n",
    "                    intersection(df_OP_tmp_T.loc[:,k].dropna().index)).\\\n",
    "                    intersection(df_INV_tmp_T.loc[:,k].dropna().index))\n",
    "\n",
    "    df_TS_CS = pd.concat([all_betas[i].loc[df_index,:].astype(np.float64), \\\n",
    "                                         df_ln_Size_tmp_T.loc[df_index,k],\\\n",
    "                                         df_PE_tmp_T.loc[df_index,k], df_OP_tmp_T.loc[df_index,k],\\\n",
    "                                         df_INV_tmp_T.loc[df_index,k]],axis = 1)\n",
    "\n",
    "    if len(df_index) != 0:\n",
    "        for j in range(len(df_TS_CS.columns)):\n",
    "            ic = list(spearmanr(df_TS_CS.iloc[:,j].values,df_Ex_SR_tmp_T.loc[df_index,index_times[index_times.index(k)+Gap]]))[0]\n",
    "            IC.append(ic)\n",
    "        k_index.append(k)\n",
    "    IC_Series = pd.concat([IC_Series, pd.DataFrame(IC)],axis=1)\n",
    "    "
   ]
  },
  {
   "cell_type": "code",
   "execution_count": 20,
   "id": "f3bee11e",
   "metadata": {},
   "outputs": [
    {
     "data": {
      "text/plain": [
       "SpearmanrResult(correlation=-0.010453829710887978, pvalue=0.8191175607129701)"
      ]
     },
     "execution_count": 20,
     "metadata": {},
     "output_type": "execute_result"
    }
   ],
   "source": [
    "spearmanr(df_TS_CS.iloc[:,j].values,df_Ex_SR_tmp_T.loc[df_index,index_times[index_times.index(k)+Gap]])"
   ]
  },
  {
   "cell_type": "code",
   "execution_count": 21,
   "id": "0f869fc7",
   "metadata": {
    "scrolled": true
   },
   "outputs": [
    {
     "data": {
      "text/html": [
       "<div>\n",
       "<style scoped>\n",
       "    .dataframe tbody tr th:only-of-type {\n",
       "        vertical-align: middle;\n",
       "    }\n",
       "\n",
       "    .dataframe tbody tr th {\n",
       "        vertical-align: top;\n",
       "    }\n",
       "\n",
       "    .dataframe thead th {\n",
       "        text-align: right;\n",
       "    }\n",
       "</style>\n",
       "<table border=\"1\" class=\"dataframe\">\n",
       "  <thead>\n",
       "    <tr style=\"text-align: right;\">\n",
       "      <th></th>\n",
       "      <th>MKT</th>\n",
       "      <th>SMB</th>\n",
       "      <th>HML</th>\n",
       "      <th>RMW</th>\n",
       "      <th>CMA</th>\n",
       "      <th>Size</th>\n",
       "      <th>PE</th>\n",
       "      <th>OP</th>\n",
       "      <th>INV</th>\n",
       "    </tr>\n",
       "    <tr>\n",
       "      <th>Dates</th>\n",
       "      <th></th>\n",
       "      <th></th>\n",
       "      <th></th>\n",
       "      <th></th>\n",
       "      <th></th>\n",
       "      <th></th>\n",
       "      <th></th>\n",
       "      <th></th>\n",
       "      <th></th>\n",
       "    </tr>\n",
       "  </thead>\n",
       "  <tbody>\n",
       "    <tr>\n",
       "      <th>2003-11-13</th>\n",
       "      <td>-0.073304</td>\n",
       "      <td>-0.021442</td>\n",
       "      <td>-0.025979</td>\n",
       "      <td>-0.138981</td>\n",
       "      <td>0.009031</td>\n",
       "      <td>-0.051980</td>\n",
       "      <td>0.026301</td>\n",
       "      <td>0.156812</td>\n",
       "      <td>-0.119889</td>\n",
       "    </tr>\n",
       "    <tr>\n",
       "      <th>2003-11-14</th>\n",
       "      <td>0.155177</td>\n",
       "      <td>0.027783</td>\n",
       "      <td>-0.000784</td>\n",
       "      <td>-0.083321</td>\n",
       "      <td>-0.006918</td>\n",
       "      <td>0.153099</td>\n",
       "      <td>-0.128262</td>\n",
       "      <td>0.129535</td>\n",
       "      <td>-0.082176</td>\n",
       "    </tr>\n",
       "    <tr>\n",
       "      <th>2003-11-17</th>\n",
       "      <td>0.000000</td>\n",
       "      <td>0.000000</td>\n",
       "      <td>0.000000</td>\n",
       "      <td>0.000000</td>\n",
       "      <td>0.000000</td>\n",
       "      <td>0.000000</td>\n",
       "      <td>0.000000</td>\n",
       "      <td>0.000000</td>\n",
       "      <td>0.000000</td>\n",
       "    </tr>\n",
       "    <tr>\n",
       "      <th>2003-11-18</th>\n",
       "      <td>0.001761</td>\n",
       "      <td>0.061104</td>\n",
       "      <td>0.050549</td>\n",
       "      <td>-0.138725</td>\n",
       "      <td>0.031916</td>\n",
       "      <td>0.177612</td>\n",
       "      <td>-0.140680</td>\n",
       "      <td>-0.015601</td>\n",
       "      <td>0.058049</td>\n",
       "    </tr>\n",
       "    <tr>\n",
       "      <th>2003-11-19</th>\n",
       "      <td>0.194306</td>\n",
       "      <td>-0.064628</td>\n",
       "      <td>0.028069</td>\n",
       "      <td>-0.089857</td>\n",
       "      <td>-0.068786</td>\n",
       "      <td>0.150875</td>\n",
       "      <td>-0.198449</td>\n",
       "      <td>-0.050281</td>\n",
       "      <td>-0.074926</td>\n",
       "    </tr>\n",
       "    <tr>\n",
       "      <th>...</th>\n",
       "      <td>...</td>\n",
       "      <td>...</td>\n",
       "      <td>...</td>\n",
       "      <td>...</td>\n",
       "      <td>...</td>\n",
       "      <td>...</td>\n",
       "      <td>...</td>\n",
       "      <td>...</td>\n",
       "      <td>...</td>\n",
       "    </tr>\n",
       "    <tr>\n",
       "      <th>2018-12-25</th>\n",
       "      <td>0.003094</td>\n",
       "      <td>0.090399</td>\n",
       "      <td>-0.011641</td>\n",
       "      <td>-0.035164</td>\n",
       "      <td>0.022071</td>\n",
       "      <td>0.056824</td>\n",
       "      <td>-0.019545</td>\n",
       "      <td>-0.067481</td>\n",
       "      <td>0.002177</td>\n",
       "    </tr>\n",
       "    <tr>\n",
       "      <th>2018-12-26</th>\n",
       "      <td>-0.115475</td>\n",
       "      <td>-0.017834</td>\n",
       "      <td>-0.034167</td>\n",
       "      <td>0.103246</td>\n",
       "      <td>0.011970</td>\n",
       "      <td>-0.058215</td>\n",
       "      <td>0.087360</td>\n",
       "      <td>0.057237</td>\n",
       "      <td>-0.054356</td>\n",
       "    </tr>\n",
       "    <tr>\n",
       "      <th>2018-12-27</th>\n",
       "      <td>0.165100</td>\n",
       "      <td>-0.070401</td>\n",
       "      <td>-0.079854</td>\n",
       "      <td>0.002296</td>\n",
       "      <td>-0.052085</td>\n",
       "      <td>0.122925</td>\n",
       "      <td>-0.025588</td>\n",
       "      <td>-0.049471</td>\n",
       "      <td>-0.035374</td>\n",
       "    </tr>\n",
       "    <tr>\n",
       "      <th>2018-12-28</th>\n",
       "      <td>-0.146539</td>\n",
       "      <td>0.077692</td>\n",
       "      <td>-0.027833</td>\n",
       "      <td>0.096043</td>\n",
       "      <td>-0.065333</td>\n",
       "      <td>-0.112430</td>\n",
       "      <td>-0.119388</td>\n",
       "      <td>0.057138</td>\n",
       "      <td>-0.148251</td>\n",
       "    </tr>\n",
       "    <tr>\n",
       "      <th>2018-12-31</th>\n",
       "      <td>0.156966</td>\n",
       "      <td>0.065722</td>\n",
       "      <td>0.179658</td>\n",
       "      <td>-0.097480</td>\n",
       "      <td>0.085752</td>\n",
       "      <td>0.158768</td>\n",
       "      <td>0.013691</td>\n",
       "      <td>-0.035794</td>\n",
       "      <td>-0.010454</td>\n",
       "    </tr>\n",
       "  </tbody>\n",
       "</table>\n",
       "<p>3948 rows × 9 columns</p>\n",
       "</div>"
      ],
      "text/plain": [
       "                 MKT       SMB       HML       RMW       CMA      Size  \\\n",
       "Dates                                                                    \n",
       "2003-11-13 -0.073304 -0.021442 -0.025979 -0.138981  0.009031 -0.051980   \n",
       "2003-11-14  0.155177  0.027783 -0.000784 -0.083321 -0.006918  0.153099   \n",
       "2003-11-17  0.000000  0.000000  0.000000  0.000000  0.000000  0.000000   \n",
       "2003-11-18  0.001761  0.061104  0.050549 -0.138725  0.031916  0.177612   \n",
       "2003-11-19  0.194306 -0.064628  0.028069 -0.089857 -0.068786  0.150875   \n",
       "...              ...       ...       ...       ...       ...       ...   \n",
       "2018-12-25  0.003094  0.090399 -0.011641 -0.035164  0.022071  0.056824   \n",
       "2018-12-26 -0.115475 -0.017834 -0.034167  0.103246  0.011970 -0.058215   \n",
       "2018-12-27  0.165100 -0.070401 -0.079854  0.002296 -0.052085  0.122925   \n",
       "2018-12-28 -0.146539  0.077692 -0.027833  0.096043 -0.065333 -0.112430   \n",
       "2018-12-31  0.156966  0.065722  0.179658 -0.097480  0.085752  0.158768   \n",
       "\n",
       "                  PE        OP       INV  \n",
       "Dates                                     \n",
       "2003-11-13  0.026301  0.156812 -0.119889  \n",
       "2003-11-14 -0.128262  0.129535 -0.082176  \n",
       "2003-11-17  0.000000  0.000000  0.000000  \n",
       "2003-11-18 -0.140680 -0.015601  0.058049  \n",
       "2003-11-19 -0.198449 -0.050281 -0.074926  \n",
       "...              ...       ...       ...  \n",
       "2018-12-25 -0.019545 -0.067481  0.002177  \n",
       "2018-12-26  0.087360  0.057237 -0.054356  \n",
       "2018-12-27 -0.025588 -0.049471 -0.035374  \n",
       "2018-12-28 -0.119388  0.057138 -0.148251  \n",
       "2018-12-31  0.013691 -0.035794 -0.010454  \n",
       "\n",
       "[3948 rows x 9 columns]"
      ]
     },
     "execution_count": 21,
     "metadata": {},
     "output_type": "execute_result"
    }
   ],
   "source": [
    "IC_Series_tmp = IC_Series.T.set_index([pd.Index(pd.Series(range(0,len(IC_Series.T))))])\n",
    "IC_Series_tmp = pd.concat([IC_Series_tmp, pd.DataFrame(k_index)], axis = 1)\n",
    "IC_Series_tmp.columns = ['MKT','SMB','HML','RMW','CMA','Size','PE','OP','INV','Dates']\n",
    "IC_Series_tmp = IC_Series_tmp.set_index('Dates')\n",
    "IC_Series_tmp"
   ]
  },
  {
   "cell_type": "code",
   "execution_count": 22,
   "id": "a8e9356e",
   "metadata": {
    "scrolled": true
   },
   "outputs": [
    {
     "data": {
      "text/html": [
       "<div>\n",
       "<style scoped>\n",
       "    .dataframe tbody tr th:only-of-type {\n",
       "        vertical-align: middle;\n",
       "    }\n",
       "\n",
       "    .dataframe tbody tr th {\n",
       "        vertical-align: top;\n",
       "    }\n",
       "\n",
       "    .dataframe thead th {\n",
       "        text-align: right;\n",
       "    }\n",
       "</style>\n",
       "<table border=\"1\" class=\"dataframe\">\n",
       "  <thead>\n",
       "    <tr style=\"text-align: right;\">\n",
       "      <th></th>\n",
       "      <th>MKT</th>\n",
       "      <th>SMB</th>\n",
       "      <th>HML</th>\n",
       "      <th>RMW</th>\n",
       "      <th>CMA</th>\n",
       "      <th>Size</th>\n",
       "      <th>PE</th>\n",
       "      <th>OP</th>\n",
       "      <th>INV</th>\n",
       "    </tr>\n",
       "    <tr>\n",
       "      <th>Dates</th>\n",
       "      <th></th>\n",
       "      <th></th>\n",
       "      <th></th>\n",
       "      <th></th>\n",
       "      <th></th>\n",
       "      <th></th>\n",
       "      <th></th>\n",
       "      <th></th>\n",
       "      <th></th>\n",
       "    </tr>\n",
       "  </thead>\n",
       "  <tbody>\n",
       "    <tr>\n",
       "      <th>2003-11-13</th>\n",
       "      <td>-0.073304</td>\n",
       "      <td>-0.021442</td>\n",
       "      <td>-0.025979</td>\n",
       "      <td>-0.138981</td>\n",
       "      <td>0.009031</td>\n",
       "      <td>-0.051980</td>\n",
       "      <td>0.026301</td>\n",
       "      <td>0.156812</td>\n",
       "      <td>-0.119889</td>\n",
       "    </tr>\n",
       "    <tr>\n",
       "      <th>2003-11-14</th>\n",
       "      <td>0.155177</td>\n",
       "      <td>0.027783</td>\n",
       "      <td>-0.000784</td>\n",
       "      <td>-0.083321</td>\n",
       "      <td>-0.006918</td>\n",
       "      <td>0.153099</td>\n",
       "      <td>-0.128262</td>\n",
       "      <td>0.129535</td>\n",
       "      <td>-0.082176</td>\n",
       "    </tr>\n",
       "    <tr>\n",
       "      <th>2003-11-17</th>\n",
       "      <td>0.000000</td>\n",
       "      <td>0.000000</td>\n",
       "      <td>0.000000</td>\n",
       "      <td>0.000000</td>\n",
       "      <td>0.000000</td>\n",
       "      <td>0.000000</td>\n",
       "      <td>0.000000</td>\n",
       "      <td>0.000000</td>\n",
       "      <td>0.000000</td>\n",
       "    </tr>\n",
       "    <tr>\n",
       "      <th>2003-11-18</th>\n",
       "      <td>0.001761</td>\n",
       "      <td>0.061104</td>\n",
       "      <td>0.050549</td>\n",
       "      <td>-0.138725</td>\n",
       "      <td>0.031916</td>\n",
       "      <td>0.177612</td>\n",
       "      <td>-0.140680</td>\n",
       "      <td>-0.015601</td>\n",
       "      <td>0.058049</td>\n",
       "    </tr>\n",
       "    <tr>\n",
       "      <th>2003-11-19</th>\n",
       "      <td>0.194306</td>\n",
       "      <td>-0.064628</td>\n",
       "      <td>0.028069</td>\n",
       "      <td>-0.089857</td>\n",
       "      <td>-0.068786</td>\n",
       "      <td>0.150875</td>\n",
       "      <td>-0.198449</td>\n",
       "      <td>-0.050281</td>\n",
       "      <td>-0.074926</td>\n",
       "    </tr>\n",
       "    <tr>\n",
       "      <th>...</th>\n",
       "      <td>...</td>\n",
       "      <td>...</td>\n",
       "      <td>...</td>\n",
       "      <td>...</td>\n",
       "      <td>...</td>\n",
       "      <td>...</td>\n",
       "      <td>...</td>\n",
       "      <td>...</td>\n",
       "      <td>...</td>\n",
       "    </tr>\n",
       "    <tr>\n",
       "      <th>2018-12-25</th>\n",
       "      <td>0.003094</td>\n",
       "      <td>0.090399</td>\n",
       "      <td>-0.011641</td>\n",
       "      <td>-0.035164</td>\n",
       "      <td>0.022071</td>\n",
       "      <td>0.056824</td>\n",
       "      <td>-0.019545</td>\n",
       "      <td>-0.067481</td>\n",
       "      <td>0.002177</td>\n",
       "    </tr>\n",
       "    <tr>\n",
       "      <th>2018-12-26</th>\n",
       "      <td>-0.115475</td>\n",
       "      <td>-0.017834</td>\n",
       "      <td>-0.034167</td>\n",
       "      <td>0.103246</td>\n",
       "      <td>0.011970</td>\n",
       "      <td>-0.058215</td>\n",
       "      <td>0.087360</td>\n",
       "      <td>0.057237</td>\n",
       "      <td>-0.054356</td>\n",
       "    </tr>\n",
       "    <tr>\n",
       "      <th>2018-12-27</th>\n",
       "      <td>0.165100</td>\n",
       "      <td>-0.070401</td>\n",
       "      <td>-0.079854</td>\n",
       "      <td>0.002296</td>\n",
       "      <td>-0.052085</td>\n",
       "      <td>0.122925</td>\n",
       "      <td>-0.025588</td>\n",
       "      <td>-0.049471</td>\n",
       "      <td>-0.035374</td>\n",
       "    </tr>\n",
       "    <tr>\n",
       "      <th>2018-12-28</th>\n",
       "      <td>-0.146539</td>\n",
       "      <td>0.077692</td>\n",
       "      <td>-0.027833</td>\n",
       "      <td>0.096043</td>\n",
       "      <td>-0.065333</td>\n",
       "      <td>-0.112430</td>\n",
       "      <td>-0.119388</td>\n",
       "      <td>0.057138</td>\n",
       "      <td>-0.148251</td>\n",
       "    </tr>\n",
       "    <tr>\n",
       "      <th>2018-12-31</th>\n",
       "      <td>0.156966</td>\n",
       "      <td>0.065722</td>\n",
       "      <td>0.179658</td>\n",
       "      <td>-0.097480</td>\n",
       "      <td>0.085752</td>\n",
       "      <td>0.158768</td>\n",
       "      <td>0.013691</td>\n",
       "      <td>-0.035794</td>\n",
       "      <td>-0.010454</td>\n",
       "    </tr>\n",
       "  </tbody>\n",
       "</table>\n",
       "<p>3948 rows × 9 columns</p>\n",
       "</div>"
      ],
      "text/plain": [
       "                 MKT       SMB       HML       RMW       CMA      Size  \\\n",
       "Dates                                                                    \n",
       "2003-11-13 -0.073304 -0.021442 -0.025979 -0.138981  0.009031 -0.051980   \n",
       "2003-11-14  0.155177  0.027783 -0.000784 -0.083321 -0.006918  0.153099   \n",
       "2003-11-17  0.000000  0.000000  0.000000  0.000000  0.000000  0.000000   \n",
       "2003-11-18  0.001761  0.061104  0.050549 -0.138725  0.031916  0.177612   \n",
       "2003-11-19  0.194306 -0.064628  0.028069 -0.089857 -0.068786  0.150875   \n",
       "...              ...       ...       ...       ...       ...       ...   \n",
       "2018-12-25  0.003094  0.090399 -0.011641 -0.035164  0.022071  0.056824   \n",
       "2018-12-26 -0.115475 -0.017834 -0.034167  0.103246  0.011970 -0.058215   \n",
       "2018-12-27  0.165100 -0.070401 -0.079854  0.002296 -0.052085  0.122925   \n",
       "2018-12-28 -0.146539  0.077692 -0.027833  0.096043 -0.065333 -0.112430   \n",
       "2018-12-31  0.156966  0.065722  0.179658 -0.097480  0.085752  0.158768   \n",
       "\n",
       "                  PE        OP       INV  \n",
       "Dates                                     \n",
       "2003-11-13  0.026301  0.156812 -0.119889  \n",
       "2003-11-14 -0.128262  0.129535 -0.082176  \n",
       "2003-11-17  0.000000  0.000000  0.000000  \n",
       "2003-11-18 -0.140680 -0.015601  0.058049  \n",
       "2003-11-19 -0.198449 -0.050281 -0.074926  \n",
       "...              ...       ...       ...  \n",
       "2018-12-25 -0.019545 -0.067481  0.002177  \n",
       "2018-12-26  0.087360  0.057237 -0.054356  \n",
       "2018-12-27 -0.025588 -0.049471 -0.035374  \n",
       "2018-12-28 -0.119388  0.057138 -0.148251  \n",
       "2018-12-31  0.013691 -0.035794 -0.010454  \n",
       "\n",
       "[3948 rows x 9 columns]"
      ]
     },
     "execution_count": 22,
     "metadata": {},
     "output_type": "execute_result"
    }
   ],
   "source": [
    "IC_Series = IC_Series_tmp\n",
    "IC_Series"
   ]
  },
  {
   "cell_type": "code",
   "execution_count": 23,
   "id": "56ff3746",
   "metadata": {
    "scrolled": true
   },
   "outputs": [
    {
     "data": {
      "text/plain": [
       "MKT    -0.033421\n",
       "SMB    -0.002602\n",
       "HML    -0.024458\n",
       "RMW    -0.017979\n",
       "CMA    -0.004735\n",
       "Size    0.076508\n",
       "PE     -0.125319\n",
       "OP      0.094027\n",
       "INV     0.013411\n",
       "dtype: float64"
      ]
     },
     "execution_count": 23,
     "metadata": {},
     "output_type": "execute_result"
    }
   ],
   "source": [
    "# Annualized the mean of IC_Series\n",
    "all_ICs = IC_Series.apply(lambda x: x.mean()*np.sqrt(252), axis = 0) \n",
    "all_ICs"
   ]
  },
  {
   "cell_type": "code",
   "execution_count": 24,
   "id": "2d8e412e",
   "metadata": {
    "scrolled": true
   },
   "outputs": [
    {
     "data": {
      "text/plain": [
       "MKT    -0.185419\n",
       "SMB    -0.037281\n",
       "HML    -0.358329\n",
       "RMW    -0.271038\n",
       "CMA    -0.066204\n",
       "Size    0.451420\n",
       "PE     -1.734149\n",
       "OP      1.320473\n",
       "INV     0.211697\n",
       "dtype: float64"
      ]
     },
     "execution_count": 24,
     "metadata": {},
     "output_type": "execute_result"
    }
   ],
   "source": [
    "# Annualized ICIR\n",
    "all_ICIRs = IC_Series.apply(lambda x: x.mean()/x.std()*np.sqrt(252), axis = 0) \n",
    "all_ICIRs"
   ]
  },
  {
   "cell_type": "code",
   "execution_count": 25,
   "id": "9084ae34",
   "metadata": {},
   "outputs": [
    {
     "data": {
      "text/html": [
       "<div>\n",
       "<style scoped>\n",
       "    .dataframe tbody tr th:only-of-type {\n",
       "        vertical-align: middle;\n",
       "    }\n",
       "\n",
       "    .dataframe tbody tr th {\n",
       "        vertical-align: top;\n",
       "    }\n",
       "\n",
       "    .dataframe thead th {\n",
       "        text-align: right;\n",
       "    }\n",
       "</style>\n",
       "<table border=\"1\" class=\"dataframe\">\n",
       "  <thead>\n",
       "    <tr style=\"text-align: right;\">\n",
       "      <th></th>\n",
       "      <th>IC</th>\n",
       "      <th>ICIR</th>\n",
       "    </tr>\n",
       "  </thead>\n",
       "  <tbody>\n",
       "    <tr>\n",
       "      <th>MKT</th>\n",
       "      <td>-0.033421</td>\n",
       "      <td>-0.185419</td>\n",
       "    </tr>\n",
       "  </tbody>\n",
       "</table>\n",
       "</div>"
      ],
      "text/plain": [
       "           IC      ICIR\n",
       "MKT -0.033421 -0.185419"
      ]
     },
     "execution_count": 25,
     "metadata": {},
     "output_type": "execute_result"
    },
    {
     "data": {
      "image/png": "[encoded data removed]",
      "text/plain": [
       "<Figure size 576x288 with 1 Axes>"
      ]
     },
     "metadata": {
      "needs_background": "light"
     },
     "output_type": "display_data"
    }
   ],
   "source": [
    "## Plot Cumsum IC_Series of MKT\n",
    "ax = IC_Series[['MKT']].cumsum().plot(title = 'Cumulative Sum of MKT IC_Series',figsize = (8,4))\n",
    "plt.gcf().autofmt_xdate()\n",
    "plt.xlabel('Date', fontsize=12)\n",
    "plt.ylabel('Value', fontsize=12)\n",
    "pd.concat([all_ICs[[\"MKT\"]],all_ICIRs[[\"MKT\"]]],axis=1).rename(columns={0:'IC',1:'ICIR'})"
   ]
  },
  {
   "cell_type": "code",
   "execution_count": 26,
   "id": "6772be0e",
   "metadata": {},
   "outputs": [
    {
     "data": {
      "text/html": [
       "<div>\n",
       "<style scoped>\n",
       "    .dataframe tbody tr th:only-of-type {\n",
       "        vertical-align: middle;\n",
       "    }\n",
       "\n",
       "    .dataframe tbody tr th {\n",
       "        vertical-align: top;\n",
       "    }\n",
       "\n",
       "    .dataframe thead th {\n",
       "        text-align: right;\n",
       "    }\n",
       "</style>\n",
       "<table border=\"1\" class=\"dataframe\">\n",
       "  <thead>\n",
       "    <tr style=\"text-align: right;\">\n",
       "      <th></th>\n",
       "      <th>IC</th>\n",
       "      <th>ICIR</th>\n",
       "    </tr>\n",
       "  </thead>\n",
       "  <tbody>\n",
       "    <tr>\n",
       "      <th>SMB</th>\n",
       "      <td>-0.002602</td>\n",
       "      <td>-0.037281</td>\n",
       "    </tr>\n",
       "    <tr>\n",
       "      <th>Size</th>\n",
       "      <td>0.076508</td>\n",
       "      <td>0.451420</td>\n",
       "    </tr>\n",
       "  </tbody>\n",
       "</table>\n",
       "</div>"
      ],
      "text/plain": [
       "            IC      ICIR\n",
       "SMB  -0.002602 -0.037281\n",
       "Size  0.076508  0.451420"
      ]
     },
     "execution_count": 26,
     "metadata": {},
     "output_type": "execute_result"
    },
    {
     "data": {
      "image/png": "[encoded data removed]",
      "text/plain": [
       "<Figure size 576x288 with 1 Axes>"
      ]
     },
     "metadata": {
      "needs_background": "light"
     },
     "output_type": "display_data"
    }
   ],
   "source": [
    "## Plot Cumsum IC_Series of SMB & Size\n",
    "ax = IC_Series[[\"SMB\",\"Size\"]].cumsum().plot(title = 'Cumulative Sum of SMB & Size IC_Series',figsize = (8,4))\n",
    "plt.gcf().autofmt_xdate()\n",
    "plt.xlabel('Date', fontsize=12)\n",
    "plt.ylabel('Value', fontsize=12)\n",
    "pd.concat([all_ICs[[\"SMB\",\"Size\"]],all_ICIRs[[\"SMB\",\"Size\"]]],axis=1).rename(columns={0:'IC',1:'ICIR'})"
   ]
  },
  {
   "cell_type": "code",
   "execution_count": 27,
   "id": "a2480462",
   "metadata": {},
   "outputs": [
    {
     "data": {
      "text/html": [
       "<div>\n",
       "<style scoped>\n",
       "    .dataframe tbody tr th:only-of-type {\n",
       "        vertical-align: middle;\n",
       "    }\n",
       "\n",
       "    .dataframe tbody tr th {\n",
       "        vertical-align: top;\n",
       "    }\n",
       "\n",
       "    .dataframe thead th {\n",
       "        text-align: right;\n",
       "    }\n",
       "</style>\n",
       "<table border=\"1\" class=\"dataframe\">\n",
       "  <thead>\n",
       "    <tr style=\"text-align: right;\">\n",
       "      <th></th>\n",
       "      <th>IC</th>\n",
       "      <th>ICIR</th>\n",
       "    </tr>\n",
       "  </thead>\n",
       "  <tbody>\n",
       "    <tr>\n",
       "      <th>HML</th>\n",
       "      <td>-0.024458</td>\n",
       "      <td>-0.358329</td>\n",
       "    </tr>\n",
       "    <tr>\n",
       "      <th>PE</th>\n",
       "      <td>-0.125319</td>\n",
       "      <td>-1.734149</td>\n",
       "    </tr>\n",
       "  </tbody>\n",
       "</table>\n",
       "</div>"
      ],
      "text/plain": [
       "           IC      ICIR\n",
       "HML -0.024458 -0.358329\n",
       "PE  -0.125319 -1.734149"
      ]
     },
     "execution_count": 27,
     "metadata": {},
     "output_type": "execute_result"
    },
    {
     "data": {
      "image/png": "[encoded data removed]",
      "text/plain": [
       "<Figure size 576x288 with 1 Axes>"
      ]
     },
     "metadata": {
      "needs_background": "light"
     },
     "output_type": "display_data"
    }
   ],
   "source": [
    "## Plot Cumsum IC_Series of HML & PE\n",
    "ax = IC_Series[[\"HML\",\"PE\"]].cumsum().plot(title = 'Cumulative Sum of HML & PE IC_Series',figsize = (8,4))\n",
    "plt.gcf().autofmt_xdate()\n",
    "plt.xlabel('Date', fontsize=12)\n",
    "plt.ylabel('Value', fontsize=12)\n",
    "pd.concat([all_ICs[[\"HML\",\"PE\"]],all_ICIRs[[\"HML\",\"PE\"]]],axis=1).rename(columns={0:'IC',1:'ICIR'})"
   ]
  },
  {
   "cell_type": "code",
   "execution_count": 28,
   "id": "25203242",
   "metadata": {
    "scrolled": true
   },
   "outputs": [
    {
     "data": {
      "text/html": [
       "<div>\n",
       "<style scoped>\n",
       "    .dataframe tbody tr th:only-of-type {\n",
       "        vertical-align: middle;\n",
       "    }\n",
       "\n",
       "    .dataframe tbody tr th {\n",
       "        vertical-align: top;\n",
       "    }\n",
       "\n",
       "    .dataframe thead th {\n",
       "        text-align: right;\n",
       "    }\n",
       "</style>\n",
       "<table border=\"1\" class=\"dataframe\">\n",
       "  <thead>\n",
       "    <tr style=\"text-align: right;\">\n",
       "      <th></th>\n",
       "      <th>IC</th>\n",
       "      <th>ICIR</th>\n",
       "    </tr>\n",
       "  </thead>\n",
       "  <tbody>\n",
       "    <tr>\n",
       "      <th>RMW</th>\n",
       "      <td>-0.017979</td>\n",
       "      <td>-0.271038</td>\n",
       "    </tr>\n",
       "    <tr>\n",
       "      <th>OP</th>\n",
       "      <td>0.094027</td>\n",
       "      <td>1.320473</td>\n",
       "    </tr>\n",
       "  </tbody>\n",
       "</table>\n",
       "</div>"
      ],
      "text/plain": [
       "           IC      ICIR\n",
       "RMW -0.017979 -0.271038\n",
       "OP   0.094027  1.320473"
      ]
     },
     "execution_count": 28,
     "metadata": {},
     "output_type": "execute_result"
    },
    {
     "data": {
      "image/png": "[encoded data removed]",
      "text/plain": [
       "<Figure size 576x288 with 1 Axes>"
      ]
     },
     "metadata": {
      "needs_background": "light"
     },
     "output_type": "display_data"
    }
   ],
   "source": [
    "## Plot Cumsum IC_Series of RMW & OP\n",
    "ax = IC_Series[[\"RMW\",\"OP\"]].cumsum().plot(title = 'Cumulative Sum of RMW & OP IC_Series',figsize = (8,4))\n",
    "plt.gcf().autofmt_xdate()\n",
    "plt.xlabel('Date', fontsize=12)\n",
    "plt.ylabel('Value', fontsize=12)\n",
    "pd.concat([all_ICs[[\"RMW\",\"OP\"]],all_ICIRs[[\"RMW\",\"OP\"]]],axis=1).rename(columns={0:'IC',1:'ICIR'})"
   ]
  },
  {
   "cell_type": "code",
   "execution_count": 29,
   "id": "edce6639",
   "metadata": {
    "scrolled": false
   },
   "outputs": [
    {
     "data": {
      "text/html": [
       "<div>\n",
       "<style scoped>\n",
       "    .dataframe tbody tr th:only-of-type {\n",
       "        vertical-align: middle;\n",
       "    }\n",
       "\n",
       "    .dataframe tbody tr th {\n",
       "        vertical-align: top;\n",
       "    }\n",
       "\n",
       "    .dataframe thead th {\n",
       "        text-align: right;\n",
       "    }\n",
       "</style>\n",
       "<table border=\"1\" class=\"dataframe\">\n",
       "  <thead>\n",
       "    <tr style=\"text-align: right;\">\n",
       "      <th></th>\n",
       "      <th>IC</th>\n",
       "      <th>ICIR</th>\n",
       "    </tr>\n",
       "  </thead>\n",
       "  <tbody>\n",
       "    <tr>\n",
       "      <th>CMA</th>\n",
       "      <td>-0.004735</td>\n",
       "      <td>-0.066204</td>\n",
       "    </tr>\n",
       "    <tr>\n",
       "      <th>INV</th>\n",
       "      <td>0.013411</td>\n",
       "      <td>0.211697</td>\n",
       "    </tr>\n",
       "  </tbody>\n",
       "</table>\n",
       "</div>"
      ],
      "text/plain": [
       "           IC      ICIR\n",
       "CMA -0.004735 -0.066204\n",
       "INV  0.013411  0.211697"
      ]
     },
     "execution_count": 29,
     "metadata": {},
     "output_type": "execute_result"
    },
    {
     "data": {
      "image/png": "[encoded data removed]",
      "text/plain": [
       "<Figure size 576x288 with 1 Axes>"
      ]
     },
     "metadata": {
      "needs_background": "light"
     },
     "output_type": "display_data"
    }
   ],
   "source": [
    "## Plot Cumsum IC_Series of CMA & INV\n",
    "ax = IC_Series[[\"CMA\",\"INV\"]].cumsum().plot(title = 'Cumulative Sum of CMA & INV IC_Series',figsize = (8,4))\n",
    "plt.gcf().autofmt_xdate()\n",
    "plt.xlabel('Date', fontsize=12)\n",
    "plt.ylabel('Value', fontsize=12)\n",
    "pd.concat([all_ICs[[\"CMA\",\"INV\"]],all_ICIRs[[\"CMA\",\"INV\"]]],axis=1).rename(columns={0:'IC',1:'ICIR'})"
   ]
  },
  {
   "cell_type": "code",
   "execution_count": 30,
   "id": "1fca64ee",
   "metadata": {
    "scrolled": true
   },
   "outputs": [
    {
     "data": {
      "text/html": [
       "<div>\n",
       "<style scoped>\n",
       "    .dataframe tbody tr th:only-of-type {\n",
       "        vertical-align: middle;\n",
       "    }\n",
       "\n",
       "    .dataframe tbody tr th {\n",
       "        vertical-align: top;\n",
       "    }\n",
       "\n",
       "    .dataframe thead th {\n",
       "        text-align: right;\n",
       "    }\n",
       "</style>\n",
       "<table border=\"1\" class=\"dataframe\">\n",
       "  <thead>\n",
       "    <tr style=\"text-align: right;\">\n",
       "      <th></th>\n",
       "      <th>IC</th>\n",
       "      <th>ICIR</th>\n",
       "    </tr>\n",
       "  </thead>\n",
       "  <tbody>\n",
       "    <tr>\n",
       "      <th>MKT</th>\n",
       "      <td>-0.033421</td>\n",
       "      <td>-0.185419</td>\n",
       "    </tr>\n",
       "    <tr>\n",
       "      <th>SMB</th>\n",
       "      <td>-0.002602</td>\n",
       "      <td>-0.037281</td>\n",
       "    </tr>\n",
       "    <tr>\n",
       "      <th>Size</th>\n",
       "      <td>0.076508</td>\n",
       "      <td>0.451420</td>\n",
       "    </tr>\n",
       "    <tr>\n",
       "      <th>HML</th>\n",
       "      <td>-0.024458</td>\n",
       "      <td>-0.358329</td>\n",
       "    </tr>\n",
       "    <tr>\n",
       "      <th>PE</th>\n",
       "      <td>-0.125319</td>\n",
       "      <td>-1.734149</td>\n",
       "    </tr>\n",
       "    <tr>\n",
       "      <th>RMW</th>\n",
       "      <td>-0.017979</td>\n",
       "      <td>-0.271038</td>\n",
       "    </tr>\n",
       "    <tr>\n",
       "      <th>OP</th>\n",
       "      <td>0.094027</td>\n",
       "      <td>1.320473</td>\n",
       "    </tr>\n",
       "    <tr>\n",
       "      <th>CMA</th>\n",
       "      <td>-0.004735</td>\n",
       "      <td>-0.066204</td>\n",
       "    </tr>\n",
       "    <tr>\n",
       "      <th>INV</th>\n",
       "      <td>0.013411</td>\n",
       "      <td>0.211697</td>\n",
       "    </tr>\n",
       "  </tbody>\n",
       "</table>\n",
       "</div>"
      ],
      "text/plain": [
       "            IC      ICIR\n",
       "MKT  -0.033421 -0.185419\n",
       "SMB  -0.002602 -0.037281\n",
       "Size  0.076508  0.451420\n",
       "HML  -0.024458 -0.358329\n",
       "PE   -0.125319 -1.734149\n",
       "RMW  -0.017979 -0.271038\n",
       "OP    0.094027  1.320473\n",
       "CMA  -0.004735 -0.066204\n",
       "INV   0.013411  0.211697"
      ]
     },
     "execution_count": 30,
     "metadata": {},
     "output_type": "execute_result"
    }
   ],
   "source": [
    "pd.concat([all_ICs[[\"MKT\"]],all_ICIRs[[\"MKT\"]]],axis=1).rename(columns={0:'IC',1:'ICIR'}).\\\n",
    "append(pd.concat([all_ICs[[\"SMB\",\"Size\"]],all_ICIRs[[\"SMB\",\"Size\"]]],axis=1).rename(columns={0:'IC',1:'ICIR'})).\\\n",
    "append(pd.concat([all_ICs[[\"HML\",\"PE\"]],all_ICIRs[[\"HML\",\"PE\"]]],axis=1).rename(columns={0:'IC',1:'ICIR'})).\\\n",
    "append(pd.concat([all_ICs[[\"RMW\",\"OP\"]],all_ICIRs[[\"RMW\",\"OP\"]]],axis=1).rename(columns={0:'IC',1:'ICIR'})).\\\n",
    "append(pd.concat([all_ICs[[\"CMA\",\"INV\"]],all_ICIRs[[\"CMA\",\"INV\"]]],axis=1).rename(columns={0:'IC',1:'ICIR'}))"
   ]
  }
 ],
 "metadata": {
  "kernelspec": {
   "display_name": "Python 3",
   "language": "python",
   "name": "python3"
  },
  "language_info": {
   "codemirror_mode": {
    "name": "ipython",
    "version": 3
   },
   "file_extension": ".py",
   "mimetype": "text/x-python",
   "name": "python",
   "nbconvert_exporter": "python",
   "pygments_lexer": "ipython3",
   "version": "3.8.5"
  },
  "toc": {
   "base_numbering": 1,
   "nav_menu": {},
   "number_sections": true,
   "sideBar": true,
   "skip_h1_title": false,
   "title_cell": "Table of Contents",
   "title_sidebar": "Contents",
   "toc_cell": false,
   "toc_position": {},
   "toc_section_display": true,
   "toc_window_display": false
  }
 },
 "nbformat": 4,
 "nbformat_minor": 5
}
